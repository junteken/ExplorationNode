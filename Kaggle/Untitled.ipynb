{
 "cells": [
  {
   "cell_type": "code",
   "execution_count": 1,
   "metadata": {},
   "outputs": [],
   "source": [
    "import warnings\n",
    "warnings.filterwarnings(\"ignore\")\n",
    "\n",
    "import os\n",
    "from os.path import join\n",
    "\n",
    "import pandas as pd\n",
    "import numpy as np\n",
    "\n",
    "import missingno as msno\n",
    "\n",
    "from sklearn.ensemble import GradientBoostingRegressor\n",
    "from sklearn.model_selection import KFold, cross_val_score\n",
    "import xgboost as xgb\n",
    "import lightgbm as lgb\n",
    "\n",
    "import matplotlib.pyplot as plt\n",
    "import seaborn as sns\n",
    "\n",
    "base_path = os.getcwd()+ '/FutureSales/data/competitive-data-science-predict-future-sales'"
   ]
  },
  {
   "cell_type": "code",
   "execution_count": 4,
   "metadata": {},
   "outputs": [],
   "source": [
    "def prepare_train_data():\n",
    "    train_file_path= base_path+'/sales_train.csv'\n",
    "    \n",
    "    train = pd.read_csv(train_file_path)\n",
    "\n",
    "\n",
    "    # Summing sales for each month and clipping into [0, 20]\n",
    "    train = train.groupby(['shop_id', 'item_id','date_block_num'])['item_cnt_day'].sum()\n",
    "    train = train.reset_index()\n",
    "    train['item_cnt_day'] = train['item_cnt_day'].map(lambda x: max(0, min(20, x)))\n",
    "    \n",
    "   \n",
    "    # add month and year\n",
    "    train['month'] = train['date_block_num'].map(lambda x: (x % 12) + 1)\n",
    "    train['year'] = train['date_block_num'].map(lambda x: 2013 + x // 12)\n",
    "\n",
    "    \n",
    "    # Dropping sales in Dec.\n",
    "    train = train[(train['month'] != 1)]\n",
    "    \n",
    "    return train\n",
    "\n",
    "\n",
    "def prepare_test_data():\n",
    "    test_file_path = base_path+'/test.csv'\n",
    "    test = pd.read_csv(test_file_path)\n",
    "\n",
    "    test['date_block_num'] = 34 \n",
    "    test['month'] = 11\n",
    "    test['year'] = 2015\n",
    "    \n",
    "    return test"
   ]
  },
  {
   "cell_type": "code",
   "execution_count": 5,
   "metadata": {},
   "outputs": [],
   "source": [
    "train = prepare_train_data()\n",
    "test = prepare_test_data()"
   ]
  },
  {
   "cell_type": "code",
   "execution_count": null,
   "metadata": {},
   "outputs": [],
   "source": []
  }
 ],
 "metadata": {
  "kernelspec": {
   "display_name": "aiffel",
   "language": "python",
   "name": "aiffel"
  },
  "language_info": {
   "codemirror_mode": {
    "name": "ipython",
    "version": 3
   },
   "file_extension": ".py",
   "mimetype": "text/x-python",
   "name": "python",
   "nbconvert_exporter": "python",
   "pygments_lexer": "ipython3",
   "version": "3.7.9"
  }
 },
 "nbformat": 4,
 "nbformat_minor": 4
}
