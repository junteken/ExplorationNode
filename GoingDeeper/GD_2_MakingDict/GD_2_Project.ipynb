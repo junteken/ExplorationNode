{
  "nbformat": 4,
  "nbformat_minor": 0,
  "metadata": {
    "colab": {
      "name": "GD_2_Project.ipynb",
      "provenance": [],
      "collapsed_sections": []
    },
    "kernelspec": {
      "name": "python3",
      "display_name": "Python 3"
    },
    "language_info": {
      "name": "python"
    },
    "accelerator": "GPU"
  },
  "cells": [
    {
      "cell_type": "code",
      "metadata": {
        "colab": {
          "base_uri": "https://localhost:8080/"
        },
        "id": "8szonsUpm0S7",
        "outputId": "11fc6846-8b72-4cf3-eaaa-d027b2a1657a"
      },
      "source": [
        "!pip install konlpy\n",
        "!wget https://github.com/jungyeul/korean-parallel-corpora/raw/master/korean-english-news-v1/korean-english-park.train.tar.gz\n",
        "!tar -xzvf /content/korean-english-park.train.tar.gz\n",
        "!pip install sentencepiece"
      ],
      "execution_count": 1,
      "outputs": [
        {
          "output_type": "stream",
          "text": [
            "Collecting konlpy\n",
            "\u001b[?25l  Downloading https://files.pythonhosted.org/packages/85/0e/f385566fec837c0b83f216b2da65db9997b35dd675e107752005b7d392b1/konlpy-0.5.2-py2.py3-none-any.whl (19.4MB)\n",
            "\u001b[K     |████████████████████████████████| 19.4MB 8.2MB/s \n",
            "\u001b[?25hRequirement already satisfied: numpy>=1.6 in /usr/local/lib/python3.7/dist-packages (from konlpy) (1.19.5)\n",
            "Requirement already satisfied: lxml>=4.1.0 in /usr/local/lib/python3.7/dist-packages (from konlpy) (4.2.6)\n",
            "Requirement already satisfied: tweepy>=3.7.0 in /usr/local/lib/python3.7/dist-packages (from konlpy) (3.10.0)\n",
            "Collecting JPype1>=0.7.0\n",
            "\u001b[?25l  Downloading https://files.pythonhosted.org/packages/cd/a5/9781e2ef4ca92d09912c4794642c1653aea7607f473e156cf4d423a881a1/JPype1-1.2.1-cp37-cp37m-manylinux2010_x86_64.whl (457kB)\n",
            "\u001b[K     |████████████████████████████████| 460kB 57.1MB/s \n",
            "\u001b[?25hCollecting beautifulsoup4==4.6.0\n",
            "\u001b[?25l  Downloading https://files.pythonhosted.org/packages/9e/d4/10f46e5cfac773e22707237bfcd51bbffeaf0a576b0a847ec7ab15bd7ace/beautifulsoup4-4.6.0-py3-none-any.whl (86kB)\n",
            "\u001b[K     |████████████████████████████████| 92kB 10.9MB/s \n",
            "\u001b[?25hCollecting colorama\n",
            "  Downloading https://files.pythonhosted.org/packages/44/98/5b86278fbbf250d239ae0ecb724f8572af1c91f4a11edf4d36a206189440/colorama-0.4.4-py2.py3-none-any.whl\n",
            "Requirement already satisfied: requests[socks]>=2.11.1 in /usr/local/lib/python3.7/dist-packages (from tweepy>=3.7.0->konlpy) (2.23.0)\n",
            "Requirement already satisfied: requests-oauthlib>=0.7.0 in /usr/local/lib/python3.7/dist-packages (from tweepy>=3.7.0->konlpy) (1.3.0)\n",
            "Requirement already satisfied: six>=1.10.0 in /usr/local/lib/python3.7/dist-packages (from tweepy>=3.7.0->konlpy) (1.15.0)\n",
            "Requirement already satisfied: typing-extensions; python_version < \"3.8\" in /usr/local/lib/python3.7/dist-packages (from JPype1>=0.7.0->konlpy) (3.7.4.3)\n",
            "Requirement already satisfied: chardet<4,>=3.0.2 in /usr/local/lib/python3.7/dist-packages (from requests[socks]>=2.11.1->tweepy>=3.7.0->konlpy) (3.0.4)\n",
            "Requirement already satisfied: urllib3!=1.25.0,!=1.25.1,<1.26,>=1.21.1 in /usr/local/lib/python3.7/dist-packages (from requests[socks]>=2.11.1->tweepy>=3.7.0->konlpy) (1.24.3)\n",
            "Requirement already satisfied: certifi>=2017.4.17 in /usr/local/lib/python3.7/dist-packages (from requests[socks]>=2.11.1->tweepy>=3.7.0->konlpy) (2020.12.5)\n",
            "Requirement already satisfied: idna<3,>=2.5 in /usr/local/lib/python3.7/dist-packages (from requests[socks]>=2.11.1->tweepy>=3.7.0->konlpy) (2.10)\n",
            "Requirement already satisfied: PySocks!=1.5.7,>=1.5.6; extra == \"socks\" in /usr/local/lib/python3.7/dist-packages (from requests[socks]>=2.11.1->tweepy>=3.7.0->konlpy) (1.7.1)\n",
            "Requirement already satisfied: oauthlib>=3.0.0 in /usr/local/lib/python3.7/dist-packages (from requests-oauthlib>=0.7.0->tweepy>=3.7.0->konlpy) (3.1.0)\n",
            "Installing collected packages: JPype1, beautifulsoup4, colorama, konlpy\n",
            "  Found existing installation: beautifulsoup4 4.6.3\n",
            "    Uninstalling beautifulsoup4-4.6.3:\n",
            "      Successfully uninstalled beautifulsoup4-4.6.3\n",
            "Successfully installed JPype1-1.2.1 beautifulsoup4-4.6.0 colorama-0.4.4 konlpy-0.5.2\n",
            "--2021-04-17 01:26:00--  https://github.com/jungyeul/korean-parallel-corpora/raw/master/korean-english-news-v1/korean-english-park.train.tar.gz\n",
            "Resolving github.com (github.com)... 140.82.113.3\n",
            "Connecting to github.com (github.com)|140.82.113.3|:443... connected.\n",
            "HTTP request sent, awaiting response... 302 Found\n",
            "Location: https://raw.githubusercontent.com/jungyeul/korean-parallel-corpora/master/korean-english-news-v1/korean-english-park.train.tar.gz [following]\n",
            "--2021-04-17 01:26:00--  https://raw.githubusercontent.com/jungyeul/korean-parallel-corpora/master/korean-english-news-v1/korean-english-park.train.tar.gz\n",
            "Resolving raw.githubusercontent.com (raw.githubusercontent.com)... 185.199.108.133, 185.199.111.133, 185.199.109.133, ...\n",
            "Connecting to raw.githubusercontent.com (raw.githubusercontent.com)|185.199.108.133|:443... connected.\n",
            "HTTP request sent, awaiting response... 200 OK\n",
            "Length: 8718893 (8.3M) [application/octet-stream]\n",
            "Saving to: ‘korean-english-park.train.tar.gz’\n",
            "\n",
            "korean-english-park 100%[===================>]   8.31M  --.-KB/s    in 0.04s   \n",
            "\n",
            "2021-04-17 01:26:01 (210 MB/s) - ‘korean-english-park.train.tar.gz’ saved [8718893/8718893]\n",
            "\n",
            "korean-english-park.train.en\n",
            "korean-english-park.train.ko\n",
            "Collecting sentencepiece\n",
            "\u001b[?25l  Downloading https://files.pythonhosted.org/packages/f5/99/e0808cb947ba10f575839c43e8fafc9cc44e4a7a2c8f79c60db48220a577/sentencepiece-0.1.95-cp37-cp37m-manylinux2014_x86_64.whl (1.2MB)\n",
            "\u001b[K     |████████████████████████████████| 1.2MB 16.8MB/s \n",
            "\u001b[?25hInstalling collected packages: sentencepiece\n",
            "Successfully installed sentencepiece-0.1.95\n"
          ],
          "name": "stdout"
        }
      ]
    },
    {
      "cell_type": "code",
      "metadata": {
        "colab": {
          "base_uri": "https://localhost:8080/"
        },
        "id": "mpTsBLJMnWhd",
        "outputId": "b70b3645-139f-43ec-8425-e55147af32d0"
      },
      "source": [
        "import numpy as np\n",
        "import pandas as pd\n",
        "import os\n",
        "from tensorflow.keras.preprocessing.text import Tokenizer\n",
        "from tensorflow.keras.preprocessing.sequence import pad_sequences\n",
        "import matplotlib.pyplot as plt\n",
        "from tensorflow.keras.layers import Embedding, Dense, LSTM\n",
        "from tensorflow.keras.models import Sequential\n",
        "from tensorflow.keras.models import load_model\n",
        "from tensorflow.keras.callbacks import EarlyStopping, ModelCheckpoint\n",
        "import tensorflow as tf\n",
        "\n",
        "\n",
        "%matplotlib inline\n",
        "\n",
        "\n",
        "stopwords = ['의','가','이','은','들','는','좀','잘','걍','과','도','를','으로','자','에','와','한','하다']\n",
        "vocab_size = 32000\n",
        "\n",
        "def preprocess_naver_review(data):\n",
        "    data.drop_duplicates(subset=['document'], inplace=True) # document 열에서 중복인 내용이 있다면 중복 제거\n",
        "    # print('총 샘플의 수 :',len(data))\n",
        "    # print(data.groupby('label').size().reset_index(name = 'count'))\n",
        "    # print(data.isnull().values.any())\n",
        "    data = data.dropna(how = 'any') # Null 값이 존재하는 행 제거\n",
        "    # print(data.isnull().values.any()) # Null 값이 존재하는지 확인\n",
        "    data['document'] = data['document'].str.replace(\"[^ㄱ-ㅎㅏ-ㅣ가-힣 ]\",\"\")\n",
        "    # print(data[:5])\n",
        "    data['document'].replace('', np.nan, inplace=True)\n",
        "    # print(data.isnull().sum())\n",
        "    # print(data.loc[data.document.isnull()][:5])\n",
        "    data = data.dropna(how = 'any')\n",
        "    return data\n",
        "\n",
        "def train_LSTM(X_train, y_train):\n",
        "\n",
        "    model = Sequential()\n",
        "    model.add(Embedding(vocab_size, 128))\n",
        "    model.add(LSTM(128))\n",
        "    model.add(Dense(1, activation='sigmoid'))\n",
        "\n",
        "    es = EarlyStopping(monitor='val_loss', mode='min', verbose=1, patience=4)\n",
        "    mc = ModelCheckpoint('best_model.h5', monitor='val_acc', mode='max', verbose=1, save_best_only=True)\n",
        "\n",
        "    model.compile(optimizer='rmsprop', loss='binary_crossentropy', metrics=['acc'])\n",
        "    history = model.fit(X_train, y_train, epochs=15, callbacks=[es, mc], batch_size=60, validation_split=0.2)\n",
        "\n",
        "    return model, history\n",
        "\n",
        "def show_graph(history_dict):\n",
        "    # acc = history_dict['accuracy']\n",
        "    acc = history_dict['acc']\n",
        "    # val_acc = history_dict['val_accuracy']\n",
        "    val_acc = history_dict['val_acc']\n",
        "    loss = history_dict['loss']\n",
        "    val_loss = history_dict['val_loss']\n",
        "\n",
        "    epochs = range(1, len(acc) + 1)\n",
        "\n",
        "    # \"bo\"는 \"파란색 점\"입니다\n",
        "    plt.plot(epochs, loss, 'bo', label='Training loss')\n",
        "    # b는 \"파란 실선\"입니다\n",
        "    plt.plot(epochs, val_loss, 'b', label='Validation loss')\n",
        "    plt.title('Training and validation loss')\n",
        "    plt.xlabel('Epochs')\n",
        "    plt.ylabel('Loss')\n",
        "    plt.legend()\n",
        "\n",
        "    plt.show()\n",
        "\n",
        "    plt.clf()   # 그림을 초기화합니다\n",
        "\n",
        "    plt.plot(epochs, acc, 'bo', label='Training acc')\n",
        "    plt.plot(epochs, val_acc, 'b', label='Validation acc')\n",
        "    plt.title('Training and validation accuracy')\n",
        "    plt.xlabel('Epochs')\n",
        "    plt.ylabel('Accuracy')\n",
        "    plt.legend()\n",
        "\n",
        "    plt.show()\n",
        "\n",
        "\n",
        "# 데이터를 읽어봅시다.\n",
        "# train_data = pd.read_table(os.getcwd()+'/ratings_train.txt')\n",
        "# test_data = pd.read_table(os.getcwd()+'/ratings_test.txt')\n",
        "train_data = pd.read_table('/content/drive/MyDrive/DL_Study/AIFFEL/ratings_train.txt')\n",
        "test_data = pd.read_table('/content/drive/MyDrive/DL_Study/AIFFEL/ratings_test.txt')\n",
        "\n",
        "\n",
        "train_data = preprocess_naver_review(train_data)\n",
        "test_data = preprocess_naver_review(test_data)\n",
        "\n",
        "print('전처리 후 훈련 샘플의 개수 :',len(train_data))\n",
        "print('전처리 후 테스트용 샘플의 개수 :',len(test_data))\n"
      ],
      "execution_count": 18,
      "outputs": [
        {
          "output_type": "stream",
          "text": [
            "전처리 후 훈련 샘플의 개수 : 145791\n",
            "전처리 후 테스트용 샘플의 개수 : 48995\n"
          ],
          "name": "stdout"
        },
        {
          "output_type": "stream",
          "text": [
            "/usr/local/lib/python3.7/dist-packages/ipykernel_launcher.py:27: SettingWithCopyWarning: \n",
            "A value is trying to be set on a copy of a slice from a DataFrame.\n",
            "Try using .loc[row_indexer,col_indexer] = value instead\n",
            "\n",
            "See the caveats in the documentation: https://pandas.pydata.org/pandas-docs/stable/user_guide/indexing.html#returning-a-view-versus-a-copy\n",
            "/usr/local/lib/python3.7/dist-packages/pandas/core/series.py:4582: SettingWithCopyWarning: \n",
            "A value is trying to be set on a copy of a slice from a DataFrame\n",
            "\n",
            "See the caveats in the documentation: https://pandas.pydata.org/pandas-docs/stable/user_guide/indexing.html#returning-a-view-versus-a-copy\n",
            "  method=method,\n",
            "/usr/local/lib/python3.7/dist-packages/ipykernel_launcher.py:27: SettingWithCopyWarning: \n",
            "A value is trying to be set on a copy of a slice from a DataFrame.\n",
            "Try using .loc[row_indexer,col_indexer] = value instead\n",
            "\n",
            "See the caveats in the documentation: https://pandas.pydata.org/pandas-docs/stable/user_guide/indexing.html#returning-a-view-versus-a-copy\n",
            "/usr/local/lib/python3.7/dist-packages/pandas/core/series.py:4582: SettingWithCopyWarning: \n",
            "A value is trying to be set on a copy of a slice from a DataFrame\n",
            "\n",
            "See the caveats in the documentation: https://pandas.pydata.org/pandas-docs/stable/user_guide/indexing.html#returning-a-view-versus-a-copy\n",
            "  method=method,\n"
          ],
          "name": "stderr"
        }
      ]
    },
    {
      "cell_type": "code",
      "metadata": {
        "colab": {
          "base_uri": "https://localhost:8080/"
        },
        "id": "i3Qssc2UoTK7",
        "outputId": "a0e0dc25-e6a1-43b6-eeee-be7f795b4957"
      },
      "source": [
        "filtered_corpus = train_data['document']\n",
        "train_data.shape\n",
        "# filtered_corpus[:10]"
      ],
      "execution_count": 62,
      "outputs": [
        {
          "output_type": "execute_result",
          "data": {
            "text/plain": [
              "(145791, 3)"
            ]
          },
          "metadata": {
            "tags": []
          },
          "execution_count": 62
        }
      ]
    },
    {
      "cell_type": "code",
      "metadata": {
        "colab": {
          "base_uri": "https://localhost:8080/"
        },
        "id": "GmR9MQstnZat",
        "outputId": "33c8b2e5-23e5-4c1d-923e-569b056c4580"
      },
      "source": [
        "import sentencepiece as spm\n",
        "import os\n",
        "# temp_file = os.getenv('HOME')+'/aiffel/sp_tokenizer/data/korean-english-park.train.ko.temp'\n",
        "temp_file = '/content/korean-english-park.train.ko.temp'\n",
        "# vocab_size = 10000\n",
        "\n",
        "with open(temp_file, 'w') as f:\n",
        "    for row in filtered_corpus:   # 이전 스텝에서 정제했던 corpus를 활용합니다.\n",
        "        f.write(str(row) + '\\n')\n",
        "\n",
        "# spm.SentencePieceTrainer.Train(\n",
        "#     '--input={} --model_prefix=korean_spm --vocab_size={} --pad_id=0 --bos_id=1 --eos_id=2 --unk_id=3'.format(temp_file, vocab_size)    \n",
        "# )\n",
        "\n",
        "#위 Train에서  --model_type = 'unigram'이 디폴트 적용되어 있습니다. --model_type = 'bpe' 로 옵션을 주어 변경할 수 있습니다.\n",
        "\n",
        "\n",
        "# spm_train --input=data/train_tokenizer.txt  --model_prefix=sentencepiece/sp --vocab_size=32000 character_coverage=1.0 --model_type=\"unigram\"\n",
        "\n",
        "input_file = temp_file\n",
        "\n",
        "\n",
        "sp_model_root='sentencepiece'\n",
        "if not os.path.isdir(sp_model_root):\n",
        "    os.mkdir(sp_model_root)\n",
        "sp_model_name = 'tokenizer_%d' % (vocab_size)\n",
        "sp_model_path = os.path.join(sp_model_root, sp_model_name)\n",
        "model_type = 'unigram'  # 학습할 모델 선택, unigram이 더 성능이 좋음'bpe'\n",
        "character_coverage  = 1.0  # 전체를 cover 하기 위해, default=0.9995\n",
        "# user_defined_symbols = '[PAD],[UNK],[BOS],[EOS]'\n",
        "\n",
        "\n",
        "input_argument = '--input=%s --model_prefix=%s --vocab_size=%s --model_type=%s --character_coverage=%s'\n",
        "cmd = input_argument%(input_file, sp_model_path, vocab_size,\n",
        "                      model_type, character_coverage)\n",
        "\n",
        "spm.SentencePieceTrainer.Train(cmd)\n",
        "print('train done')\n"
      ],
      "execution_count": 63,
      "outputs": [
        {
          "output_type": "stream",
          "text": [
            "train done\n"
          ],
          "name": "stdout"
        }
      ]
    },
    {
      "cell_type": "code",
      "metadata": {
        "id": "t08ptVGoMHRZ"
      },
      "source": [
        "def sp_tokenize(s, corpus):\n",
        "\n",
        "    tensor = []\n",
        "    #to-do : encoding하기전에 bos, eos추가해보자\n",
        "\n",
        "    for sen in corpus:\n",
        "      # sen = '<s>'+sen+'</s>'\n",
        "      # encoded_sen = s.EncodeAsIds(sen)\n",
        "      # print(encoded_sen)\n",
        "      tensor.append(s.EncodeAsIds(sen))\n",
        "\n",
        "    with open(sp_model_path+\".vocab\", 'r') as f:\n",
        "        vocab = f.readlines()\n",
        "\n",
        "    word_index = {}\n",
        "    index_word = {}\n",
        "\n",
        "    for idx, line in enumerate(vocab):\n",
        "        word = line.split(\"\\t\")[0]\n",
        "\n",
        "        word_index.update({idx:word})\n",
        "        index_word.update({word:idx})\n",
        "\n",
        "    tensor = tf.keras.preprocessing.sequence.pad_sequences(tensor, padding='pre')\n",
        "\n",
        "    return tensor, word_index, index_word"
      ],
      "execution_count": 64,
      "outputs": []
    },
    {
      "cell_type": "code",
      "metadata": {
        "colab": {
          "base_uri": "https://localhost:8080/",
          "height": 359
        },
        "id": "KIalcLnQNRj_",
        "outputId": "a6222515-fe16-4782-b597-124873859fa0"
      },
      "source": [
        "import csv\n",
        "vocab_list = pd.read_csv(sp_model_path+\".vocab\", sep='\\t', header= None, quoting=csv.QUOTE_NONE)\n",
        "vocab_list[:10]"
      ],
      "execution_count": 65,
      "outputs": [
        {
          "output_type": "execute_result",
          "data": {
            "text/html": [
              "<div>\n",
              "<style scoped>\n",
              "    .dataframe tbody tr th:only-of-type {\n",
              "        vertical-align: middle;\n",
              "    }\n",
              "\n",
              "    .dataframe tbody tr th {\n",
              "        vertical-align: top;\n",
              "    }\n",
              "\n",
              "    .dataframe thead th {\n",
              "        text-align: right;\n",
              "    }\n",
              "</style>\n",
              "<table border=\"1\" class=\"dataframe\">\n",
              "  <thead>\n",
              "    <tr style=\"text-align: right;\">\n",
              "      <th></th>\n",
              "      <th>0</th>\n",
              "      <th>1</th>\n",
              "    </tr>\n",
              "  </thead>\n",
              "  <tbody>\n",
              "    <tr>\n",
              "      <th>0</th>\n",
              "      <td>&lt;unk&gt;</td>\n",
              "      <td>0.00000</td>\n",
              "    </tr>\n",
              "    <tr>\n",
              "      <th>1</th>\n",
              "      <td>&lt;s&gt;</td>\n",
              "      <td>0.00000</td>\n",
              "    </tr>\n",
              "    <tr>\n",
              "      <th>2</th>\n",
              "      <td>&lt;/s&gt;</td>\n",
              "      <td>0.00000</td>\n",
              "    </tr>\n",
              "    <tr>\n",
              "      <th>3</th>\n",
              "      <td>▁</td>\n",
              "      <td>-3.77802</td>\n",
              "    </tr>\n",
              "    <tr>\n",
              "      <th>4</th>\n",
              "      <td>▁영화</td>\n",
              "      <td>-4.32764</td>\n",
              "    </tr>\n",
              "    <tr>\n",
              "      <th>5</th>\n",
              "      <td>의</td>\n",
              "      <td>-4.56458</td>\n",
              "    </tr>\n",
              "    <tr>\n",
              "      <th>6</th>\n",
              "      <td>는</td>\n",
              "      <td>-4.73927</td>\n",
              "    </tr>\n",
              "    <tr>\n",
              "      <th>7</th>\n",
              "      <td>이</td>\n",
              "      <td>-4.74997</td>\n",
              "    </tr>\n",
              "    <tr>\n",
              "      <th>8</th>\n",
              "      <td>도</td>\n",
              "      <td>-4.75574</td>\n",
              "    </tr>\n",
              "    <tr>\n",
              "      <th>9</th>\n",
              "      <td>가</td>\n",
              "      <td>-4.84176</td>\n",
              "    </tr>\n",
              "  </tbody>\n",
              "</table>\n",
              "</div>"
            ],
            "text/plain": [
              "       0        1\n",
              "0  <unk>  0.00000\n",
              "1    <s>  0.00000\n",
              "2   </s>  0.00000\n",
              "3      ▁ -3.77802\n",
              "4    ▁영화 -4.32764\n",
              "5      의 -4.56458\n",
              "6      는 -4.73927\n",
              "7      이 -4.74997\n",
              "8      도 -4.75574\n",
              "9      가 -4.84176"
            ]
          },
          "metadata": {
            "tags": []
          },
          "execution_count": 65
        }
      ]
    },
    {
      "cell_type": "code",
      "metadata": {
        "colab": {
          "base_uri": "https://localhost:8080/"
        },
        "id": "-HDe41VDolho",
        "outputId": "c68dd210-649a-4149-e2c7-8c303c7451c5"
      },
      "source": [
        "s = spm.SentencePieceProcessor()\n",
        "# s.Load('korean_spm.model')\n",
        "s.Load(sp_model_path+'.model')"
      ],
      "execution_count": 66,
      "outputs": [
        {
          "output_type": "execute_result",
          "data": {
            "text/plain": [
              "True"
            ]
          },
          "metadata": {
            "tags": []
          },
          "execution_count": 66
        }
      ]
    },
    {
      "cell_type": "code",
      "metadata": {
        "colab": {
          "base_uri": "https://localhost:8080/"
        },
        "id": "Abeijs38ozA7",
        "outputId": "a7e715e7-389c-4be1-b034-37c028ed8617"
      },
      "source": [
        "tokensIDs = s.EncodeAsIds('아버지가방에들어가신다.')\n",
        "print(tokensIDs)\n",
        "# SentencePiece를 활용한 sentence -> encoded pieces\n",
        "print(s.SampleEncodeAsPieces('아버지가방에들어가신다.',1, 0.0))\n",
        "\n",
        "# SentencePiece를 활용한 encoding -> sentence 복원\n",
        "print(s.DecodeIds(tokensIDs))"
      ],
      "execution_count": 67,
      "outputs": [
        {
          "output_type": "stream",
          "text": [
            "[3, 0, 5061, 9, 725, 12, 12814, 252, 16, 0]\n",
            "['▁아버지가', '방', '에', '들어가', '신', '다', '.']\n",
            " ⁇ 아버지가방에들어가신다 ⁇ \n"
          ],
          "name": "stdout"
        }
      ]
    },
    {
      "cell_type": "code",
      "metadata": {
        "id": "1BG812dxo1Hj"
      },
      "source": [
        "y_train = np.array(train_data['label'])\n",
        "tensor, word_index, index_word = sp_tokenize(s, train_data['document'])\n"
      ],
      "execution_count": 70,
      "outputs": []
    },
    {
      "cell_type": "code",
      "metadata": {
        "colab": {
          "base_uri": "https://localhost:8080/"
        },
        "id": "YWTDUSfuPy4a",
        "outputId": "7aea3873-7bf0-49cd-ec02-de71325b5272"
      },
      "source": [
        "tensor[:2]"
      ],
      "execution_count": 71,
      "outputs": [
        {
          "output_type": "execute_result",
          "data": {
            "text/plain": [
              "array([[    0,     0,     0,     0,     0,     0,     0,     0,     0,\n",
              "            0,     0,     0,     0,     0,     0,     0,     0,     0,\n",
              "            0,     0,     0,     0,     0,     0,     0,     0,     0,\n",
              "            0,     0,     0,     0,     0,     0,     0,     0,     0,\n",
              "            0,     0,     0,     0,     0,     0,     0,     0,     0,\n",
              "            0,     0,     0,     0,     0,     0,     0,     0,     0,\n",
              "            0,     0,     0,     0,     0,     0,     0,     0,     0,\n",
              "            0,     0,     0,     0,     0,     0,     0,     0,     0,\n",
              "            0,     0,     0,     0,     0,     0,     0,     0,     0,\n",
              "            0,     0,     0,     0,     0,     0,     0,     0,     0,\n",
              "            0,    41,   657,    19,     3, 14823,  1266],\n",
              "       [    0,     0,     0,     0,     0,     0,     0,     0,     0,\n",
              "            0,     0,     0,     0,     0,     0,     0,     0,     0,\n",
              "            0,     0,     0,     0,     0,     0,     0,     0,     0,\n",
              "            0,     0,     0,     0,     0,     0,     0,     0,     0,\n",
              "            0,     0,     0,     0,     0,     0,     0,     0,     0,\n",
              "            0,     0,     0,     0,     0,     0,     0,     0,     0,\n",
              "            0,     0,     0,     0,     0,     0,     0,     0,     0,\n",
              "            0,     0,     0,     0,     0,     0,     0,     0,     0,\n",
              "            0,     0,     0,     0,     0,     0,     0,     0,     0,\n",
              "            0,     0,     0,     0,     0,     0,  1128, 12886, 20135,\n",
              "          347, 17338,   384,  1033,  8883,  1031,   355]], dtype=int32)"
            ]
          },
          "metadata": {
            "tags": []
          },
          "execution_count": 71
        }
      ]
    },
    {
      "cell_type": "code",
      "metadata": {
        "colab": {
          "base_uri": "https://localhost:8080/"
        },
        "id": "FCRix-xlpJ1q",
        "outputId": "ae003fb1-e2c1-46fe-ada7-25f700d02db7"
      },
      "source": [
        "model, history = train_LSTM(tensor, y_train)\n"
      ],
      "execution_count": 72,
      "outputs": [
        {
          "output_type": "stream",
          "text": [
            "Epoch 1/15\n",
            "1944/1944 [==============================] - 65s 33ms/step - loss: 0.4732 - acc: 0.7659 - val_loss: 0.3484 - val_acc: 0.8492\n",
            "\n",
            "Epoch 00001: val_acc improved from -inf to 0.84921, saving model to best_model.h5\n",
            "Epoch 2/15\n",
            "1944/1944 [==============================] - 62s 32ms/step - loss: 0.3063 - acc: 0.8696 - val_loss: 0.3209 - val_acc: 0.8618\n",
            "\n",
            "Epoch 00002: val_acc improved from 0.84921 to 0.86179, saving model to best_model.h5\n",
            "Epoch 3/15\n",
            "1944/1944 [==============================] - 61s 31ms/step - loss: 0.2633 - acc: 0.8922 - val_loss: 0.3154 - val_acc: 0.8653\n",
            "\n",
            "Epoch 00003: val_acc improved from 0.86179 to 0.86532, saving model to best_model.h5\n",
            "Epoch 4/15\n",
            "1944/1944 [==============================] - 61s 31ms/step - loss: 0.2322 - acc: 0.9088 - val_loss: 0.3251 - val_acc: 0.8628\n",
            "\n",
            "Epoch 00004: val_acc did not improve from 0.86532\n",
            "Epoch 5/15\n",
            "1944/1944 [==============================] - 61s 31ms/step - loss: 0.2026 - acc: 0.9219 - val_loss: 0.3334 - val_acc: 0.8606\n",
            "\n",
            "Epoch 00005: val_acc did not improve from 0.86532\n",
            "Epoch 6/15\n",
            "1944/1944 [==============================] - 60s 31ms/step - loss: 0.1783 - acc: 0.9317 - val_loss: 0.3553 - val_acc: 0.8569\n",
            "\n",
            "Epoch 00006: val_acc did not improve from 0.86532\n",
            "Epoch 7/15\n",
            "1944/1944 [==============================] - 60s 31ms/step - loss: 0.1515 - acc: 0.9436 - val_loss: 0.3866 - val_acc: 0.8492\n",
            "\n",
            "Epoch 00007: val_acc did not improve from 0.86532\n",
            "Epoch 00007: early stopping\n"
          ],
          "name": "stdout"
        }
      ]
    },
    {
      "cell_type": "code",
      "metadata": {
        "id": "qhNCtSQvFLCb",
        "colab": {
          "base_uri": "https://localhost:8080/"
        },
        "outputId": "fc11582e-bda2-411f-f7be-16f0a217550c"
      },
      "source": [
        "y_test = np.array(test_data['label'])\n",
        "tensor, word_index, index_word = sp_tokenize(s, test_data['document'])\n",
        "results = model.evaluate(tensor,  y_test, verbose=2)\n",
        "print(results)"
      ],
      "execution_count": 73,
      "outputs": [
        {
          "output_type": "stream",
          "text": [
            "1532/1532 - 6s - loss: 0.3988 - acc: 0.8464\n",
            "[0.39879700541496277, 0.846351683139801]\n"
          ],
          "name": "stdout"
        }
      ]
    },
    {
      "cell_type": "code",
      "metadata": {
        "colab": {
          "base_uri": "https://localhost:8080/",
          "height": 573
        },
        "id": "9eSFNZQloniP",
        "outputId": "24a067bf-1350-4136-8d0d-52650a6ba2e2"
      },
      "source": [
        "if history is not None:\n",
        "    show_graph(history.history)"
      ],
      "execution_count": 74,
      "outputs": [
        {
          "output_type": "display_data",
          "data": {
            "image/png": "[encoded data removed]",
            "text/plain": [
              "<Figure size 432x288 with 1 Axes>"
            ]
          },
          "metadata": {
            "tags": [],
            "needs_background": "light"
          }
        },
        {
          "output_type": "display_data",
          "data": {
            "image/png": "[encoded data removed]",
            "text/plain": [
              "<Figure size 432x288 with 1 Axes>"
            ]
          },
          "metadata": {
            "tags": [],
            "needs_background": "light"
          }
        }
      ]
    },
    {
      "cell_type": "markdown",
      "metadata": {
        "id": "_hnfseKXpHwM"
      },
      "source": [
        "# konlpy와 비교\n",
        "\n",
        "```\n",
        "1532/1532 - 4s - loss: 0.3448 - acc: 0.8604\n",
        "[0.3448282778263092, 0.8603939414024353]\n",
        "```\n",
        "\n",
        "konlpy쪽이 acc가 더 높다.\n",
        "\n",
        "lstm모델을 타기 때문에 zero padding을 pre로 해주어야 정상동작한다.\n",
        "짧은 문장의 경우 post로 해놓으면 lstm의 입력이 계속해서 0이 들어가기때문에 모델 학습이 되지 않는다."
      ]
    },
    {
      "cell_type": "code",
      "metadata": {
        "id": "Lt38D1lBov6h"
      },
      "source": [
        ""
      ],
      "execution_count": null,
      "outputs": []
    }
  ]
}