{
  "nbformat": 4,
  "nbformat_minor": 0,
  "metadata": {
    "accelerator": "GPU",
    "colab": {
      "name": "GD4_Tutorial.ipynb",
      "provenance": [],
      "collapsed_sections": []
    },
    "kernelspec": {
      "display_name": "Python 3",
      "name": "python3"
    },
    "language_info": {
      "name": "python"
    }
  },
  "cells": [
    {
      "cell_type": "markdown",
      "metadata": {
        "id": "8if-ZJmp7jRb"
      },
      "source": [
        "4-1. 들어가며\n",
        "학습 목표\n",
        "이번 시간의 목표입니다.\n",
        "\n",
        "로이터 뉴스 데이터 이해하기\n",
        "F1-score와 confusion matrix 출력해보기\n",
        "여러 머신러닝 모델에 대해서 성능 비교해보기\n",
        "단어 수에 따른 성능 비교해보기\n",
        "준비물\n",
        "터미널을 열어 실습에 필요한 디렉토리를 생성합니다.\n",
        "\n",
        "```\n",
        "$ mkdir -p ~/aiffel/reuters_classifiaction\n",
        "```\n",
        "\n",
        "머신러닝을 이용한 텍스트 분류\n",
        "텍스트 분류(Text Classification)란 주어진 텍스트를 사전 정의된 클래스(Pre-defined Class)들로 분류하는 자연어 처리 태스크입니다. 이 태스크는 자연어 처리 태스크 중 가장 기본이 되면서, 비지니스 영역에서도 가장 수요가 높은 편입니다.\n",
        "\n",
        "우리가 평소에 쉽게 접할 수 있는 텍스트 분류의 영역으로는 예를 들어 '스팸 메일 자동 분류', '사용자의 리뷰로부터 긍정, 부정을 판단하는 감성 분류', '포털 사이트가 언론사의 뉴스들을 문화, 정치 등 자동으로 분류하여 보여주는 뉴스 카테고리 분류' 등이 있습니다.\n",
        "\n",
        "이러한 분류들을 AI 알고리즘을 통해 수행한다고 하면 일반적으로 아래와 같은 과정을 거칩니다.\n",
        "\n",
        "![image.png](data:image/png;base64,iVBORw0KGgoAAAANSUhEUgAAAvwAAABwCAIAAADt1zNSAAAgAElEQVR4Ae2d229UR9bF6zF/CEIopP+NSEEiGhEp/Z6XiAeieSAPUUeKFCGNUN6cp6ifRjMy0uAbBtqEcHHbGHNxQwwO2AmTENJ8mQkTYqyJMhkQ55NZM2t26lz6dLv7nHJ7WQjVqcuuXesUZ//YddrtIv1IASkgBaSAFJACUmAHKOB2wBq1RCkgBaSAFJACUkAKRIIebQIpIAWkgBSQAlJgRygg6NkRt1mLlAJSQApIASkgBQQ92gNSQApIASkgBaTAjlBA0LMjbrMWKQWkgBSQAlJACgh6tAekgBSQAlJACkiBHaFAMvS49J9qtZpfmEaj4Zyr1Wr5h5TeEz4P1O16ve6c60rJ0mWRA1JACkgBKSAFtrsCWdDjra3VamWE6mq16pxrt9t2VBr0ZJuyFgouwzEg3+BYTdBT8G3VdFJACkgBKSAFoijlI+uI+p5A2aSSH3oqlQrsB5jqqNVqGWDnCdLzpaCnZ+k0UApIASkgBaRAzwoUnekh8RTAFj2IAnSr1+s9jM0/pCvogUuNRoP24zVsUkEKSAEpIAWkgBRIUyALehJf7ElLzyASt1otO1P8eKtSqVSr1a6ivjU46HKA0ANMtNATrxm0LLIvBaSAFJACUmAIFEiGnh4WBkJCbMYhEZkp/nJMHujBcI+i4Fi73UZru91m6gg9QS3ea8jsn8cm3W40GvQTBWaAOKlzjpVRFOWZKIoimqXOnmJ4Ncq+YASvRkZG6B4KhKFEl8hwKMzMzHijoigq5kSPK1VBCkgBKSAFpEBZCvQHehiePb6JZ3qwznjU99ZPemBQtx3YaiM9QMcyATCIvsWbEm2yG6GHs4Bv2IEF1OecKA49tE+DzrnWix9b45xLgx6vG1EMrEP7rVYrjjgY672BbpVRWQpIASkgBaTAcCjwG+ghTMSDqFdTqVTs+plf8T7A1TP0WOPxMv30aINewVu0IuQzY4So78EZp2BqBDWAMyAIajAclqMowgIxb/6JLPPBgtUNPvAYEWYt/Hk1GS7xvnCBlA6Ug9k5F7upIAWkgBSQAlJg+BT4DfQkLg8AkdiESpINUh0kDzJBnDBs1M+wnNbkRe4oihI5oFarsacHbWlhPhF6bGdM5FkDssQr017WtsuPQxgzRli+t7T4YtNciqLIWw4MWkhCB0tUaZqrXgpIASkgBaTAdlcgAXoACmSXbOhBhCYWeJfkIU8mG/W9pjyXRBkeynhkQJKI98y271FC3E9vIlrraiJrlq7SVG/Qkwgu3nIwBexXKhXvRtMBFaSAFJACUkAKDKUCW4IeBG+e9UAgG0pLhx7mRYhlqEm7lx4lWDrBEDCKc//TrVar4ewMPJRnImsWEnU83rIiYyLWZLjkLYerRj0G0g5bVZACUkAKSAEpMJQK/C94c3mWWjZ/feGLH7baAhMtttKWtwI9mJfv4liz8bSKl4Cx6RMQBqzxb2vNlj1KsHSCbkzD0BTf+Mk/kWcWzluDcQZCK9I5cJI1GS55y+FK7ZCON5GjVJACUkAKSAEpsK0V6Aw9W1lez9BDrEk8tWErA3YG9ERRZGO8TdLEl+ZRgkcn7G8BxWJZzoniZpmtgWVOhAKnoxoZNYSwtHd6YBOKxV+38qbWpRSQAlJACkiBoVEgFXoYVuOF/ItPg578FtRzQArgtlpiG9BEMisFpIAUkAJSIBAFEqCnj54JevooZh9NIbFkXz/qo3GZkgJSQApIASkQpgKDhZ4w17yTvbLvDynNs5N3gtYuBaSAFNiBCgh6dtZNJ/SIeHbWjddqpYAUkAJSIIoEPdoFUkAKSAEpIAWkwI5QQNCzI26zFikFpIAUkAJSQAoIerQHpIAUkAJSQApIgR2hgKBnR9xmLVIKSAEpIAWkgBQQ9GgPSAEpIAWkgBSQAjtCAUHPjrjNWmSGAk+ePFldXb28MH9yempUP8UqcHJ6an6+ubq6ur6+nnGPAmn6z1a5NH9y+kSxOmm20ZPTJ+bnts1WwY7Fhrm0MD+tDVPsFp6ePjGX8mAR9ATyOJUbJSjw/PnzW8vL42N/WVqc+ebuhSf/dznaWNKfIhXY+P7y/bsXW4szE+PHb9xoPXv2rIR9kGPK/26V49ean927sfD4qxtPH97RnyIV+Onezb/eXLg+d25ibOxGK9ytgt30/Pnz5eXlsbHjs5fPL32xuNZefrC+pj+FKbD2cLl1Z3F28fzY+Fjrtw8WQU+OB566DKMC6+vrM41TzQunfv77lSLDvOZKVOBf/7g6f/HUqZPTjx8/Dm27ra+vN06fnv1s5snXnxcZ5jVXogL/vH+r+dlMmFsFW3dzwzROn71w5qu/3S4szGuiRAX++sMXZy+cOWkeLIKe0B6w8qcIBZ4/fz4zc/ru5+cSA7Aqy1Lg3sr5E1OTT58+LWIT5Jtjc6s0Gl9cbSYGYFWWpcCXS/NTgW0VbKjnz583GqcXb84lxmBVlqLAtdsLk//dLYKefE8+9RouBW7dWm5eOFVWaNe8GQosNBtLS9fD2W63lpdnz86UFdo1b4YCl85/unQ9oK2CTbu8vHz2wplSQrsmzVDgXPPs9Re7RdATztNVnhSkwMbGxvjYX3SqlUEeJTb9+uPVqcnxR48eFbQbMqfZ2NgYO35cp1oZ5FFi08/f3p6aCGWrYB89efJkbOy4TrUy4KOspq8ffTHx4sEi6Ml85qlxGBVYW1tbWvy0xLiuqbMVWL7+6crK7RC23tra2rW5cyXGdU2drcDS3LmVlZUQtgp8WF1dnb18vqy4rnmzFWgunl9ZWUmGHpf+U61W8++wRqPhnKvVavmH5O/ZbrfhZqVSyT8qqJ5DsISg9MzpzNUri/dWzmfHXbWWqMB3X842mxdz3s2Bdrt65cqXS/PZcVetJSrwzfLi/FxzoHugK+OXFuaXvljMDr1qLUuBm6tX5+abWdDj3exWq+WcS4OearXqnGu323ZUHHpQQ6baynd908j2hZ4hWIK93dulPDNz6vF3CyUGdU2drcC//nF1fHwshO000zj9aK1VYlDX1NkK/HTv5snpEyFsFfgwPX1Cn04vi2k6zrv2cHl6+kSh0ANsYqRHoTfuITyFs9279WQIltDtkgPpf+zYsedP9Pt4glZgdHQ0hN1y7Nixf7f1+3iCViCQrYLtOjo62jH0Bt7h2t0551yjOTFoPw8dPrj/wL5Bz+LZHx0dLRp67FFXpVLp+fCrXq9npJ1Kf1zy3CrDk8CXkOH5dm/afErqlxCGrUAgkWx0dDQ706DW0hUIZKvgqVgw9Pzx+GYctD9ejO/h0kIP7F+7O5CP34cIPVZKlrOPt7y0Tfx4y8ZLRH2LQbY1uxw4MTCnlbGKwJeQ4fl2bxL0hM98gUQyQU/pTNPRgUC2Cp6KpUAPyeboyBHnHC97K+xQ6OkhqoGKGo1GFEW1Wo2QlJHLwWtA9Xo9cTpY8CgKPZEi4hS1Wo2Q4b14ZD3xcI3DN1N5L9xOdCOKIvas1+txn60zWIudFGPjlu0oSDSIJYCrnPtNPg8uYcnsgEqqDVq1L0t5HeIr2kY1gh5BT87tKujpyByldxD0WLjZ8/LuPx6v25puyxZ68ow9dPjgocMH8/T0+oSV6cn5RGA3BmwvbZOR6QE9ePGYBnk8lIgjGcSAJvANp0DA5nEYjbM+g3tsH5YJaqxhoV6vbxF6+rsEOEYZcUfS9KEOgp7wsWC4PQwkkgl6Smeajg4EslUQvMrN9DxYX9t/YN/RkSMeXnR1ubOgJ5EGGM5tweYAoiiyeGE/wJUGPTRlO5N48hS8syFSF3HERvcoiri0drsNb8kBnik7OxMhqKQRm9HxZoQy9Mda88revBziGWSCirP3sAQa4do5HbM7YDX4L+gZbqQIf3WBRDJBT0fmKL1DIFsFj/fSoYeZHiRgcODFTAwj756Xd1sSQje0NpoTfJEZZduTFo6OHAEesYZvJVtrXtqJneEeh9gpBlpOfZHZhmd4aWu8MskGcdTyEJs4hJHbdmNr/kIaMdBCPN2ChTDYU30UEv0BIpBCeHKHGi/hRINRFHEW+hMvFLMEHs+1X/zAySiKvNk9LhT0hI8Fw+1hIJFM0FM603R0IJCtgid8udCz/8A+0syhwwf3vLzbZn2cc0QQtAIvDh0+aN8E2vPy7kToAQDRAqDnwfqad7x1dOQIfQAVYQjK9AevSIcCPeASQgDDZDxsM7ozkYBgz8s49AAUvFOwRMvZlV7MjkMGoCdxIqyIGY6MieLQY2uwFmaMrJ24P7YV5WKWYEENM4LYvNkFPcPNENtudYFEMkFPR+YovUMgWwVP9VKgh//fZkYHLEL4iKPJg/U159y1u3PxwyxbYzM9aQdnFnow1n7a6+jIEXgVf4MnXjPQHA+MJ2d68kOPDaIM6na4Bz3x/AFHdVvwYnYcMjCXc45w02g0EO8BLqQ6HM8lHrQxXQT3OAvseK3AC0zHnolmYa2YJZBmKpUKFg6X6CH1wXIgC9VDZ16yc7f3K6j+m0/JsD+wLfcCiWSCntKZpqMDgWwVPOJKgZ5EVrAsgnd9yEYsNJoTFmtgJw16mP7xprMTwRrto4B0TpyZtiX0ZER07AAES6ZbSAlWFLZ6cRF90qJsR2LgsY6dC7DCEG6bEtfCwzj2RHYHdsgNbCVjeQO9peGymCVgLirPJJz3JhaXAME9/3mQl3Y7EhcYbKWgJ3yoCiSSCXo6MkfpHQLZKnjchQw9PFqy1DII6LH2Wd5O0LOV0NUz9DDoJh4exV9JIX943iK3gYgOUkEH2kdTIvGgJy0DaOzxFjoQF0g8qLdohRrv7zzQ46FJb0vgKaTnIWXkEqwOduEkSEFP+LgwHB4GEsl2CPTcb13cPOw4M5ZNMK/s2X3yT59k9ym+NZCtgsd7sNCTllaJH0gBg/AbmS0SeW8IkWZspsdmidgBBdsNNfsP7AvrnR4GwnjBC94Zlx70ZPTcLk1QIw3Fgl0FboQ90QvW1QIc23xKbvl4q726+WW6jfGRuKnW/J83v4dutRFvGlBN9Y1Xq2+82hfjzrn6x+/3xdRWjAQSyUKDnk8++tA598lHHyayxXvvvJ2HXeJjBT39euwECz3AEZvsIXDY15/xrg9Psiz04NVjfj0FX2Q+OnKEpvDykH0t+ujIEctP9j1o55wd6EHSgC6T3+np1+2Pomi7Q0+73bagwLyRzYj0Ua7BmdqmrDYgQfoCPdHGUu3dtxJRo/buW7V339pKyO92rKBncFsljggl1gB6XtmzO9EH/DPvmLCJjxX09Gv/BAs9D9bXwD3MYliq2H9gH+tttsZCz4P1NVyip+Un1JBg8HGweDdveFryyTrW9/LAoadfO6ksO94pGO6iPWMqy7Gc89ojKktvOYcPa7d+QU9aRmfzGHH+z92CS/GoBA8re3cl5qu69b+//ZXpiaPJ04d3Pvnow1f2bH6iOH7MxCZBT4kProKhp+9MMPQGBT2d/3VYboi/E9N5fKk96LyIx96HfkFPtLFU2bvLOwxqjI9U9u7qgQAEPVY0QU8a9Lz5+mv443V4Zc9u5IEEPfYfe8FlQU/g2CToKfhfhKYLQoE+Qk/94/c9xKm+8SoxqPbuW8gOxnM/lb270FR79y28HsSePDJDJon1fEmIGSY04aANB2r1j99nfxR40GadQWqnMT5iO8NtL/FjR9Exzmgt0D3LLj2XBT0e0+AS6ZxrZ8acc/dbF9nn5J8+QY33Tg/SQrjL3ptAICQ0waClJW4Me5SmF5k7Pr8EPYKejptEHaRA/xX4wx/+8Pvf//77779PNN1H6AGv8DALlwj/9o0fYAq6oQ/BqDE+gnov0wOeIEmAZnAJa3EE8QjDAlljfIRnWJ5lj3LspfeqUGXvLk5ae/etyt5dJKrqG6968Oc50+1lMdCTvU+iKArwRWZQCPI6hJ43X3/tvXfe9l7Nsa88o4ncg1eeORxsROixx2fvvfM2uWcnQ0/HrYJHjaBH0JMYdFQpBQarwAcffOCce+mllxLRp4/QE20s2dROY3wEWAAusZG+9u5bAB0PbtjHq49/NKz6xquADItQGO6NjTaW0IfMxFlQsJknSzk4sLN5IDvQEp5Fuo7TWSM5y8VAT/Y+CRl6kNoBtTDxY6HnvXfefvP114g1Tx/e4RDbDR1szXvvvP3eO2/bgcwq7WTo6bhV8EQT9Ah6BhvbZH04FMADhRn1/hZeeumlmZkZK1R/oce+xFN941VLDN5CgCweZBACLLjYjBE71D9+P4OomHRB//jLRsAgusTEj+cPLzkdHbBIZL2NNpYSHbYDuy0nQk/B+yRk6Hn68A4RhJhi2eXN119jXseSzf3WRUCSxRpvIDcJC0gCcUY7tvRyIFsFTxhBj6DHxhqVpUBBCjA6/u53v7t586Y3a3+hJ9pYQuIEgR/R3ZKQF+9JFV69xYhEhiCFJKaRLPR4aRiko+zxk00jef7wktNZP9lqvS0Merz7uPXL7H0SOPR88tGHb77+muUVW94K9Hi0RKzZRtCz9b3hWei4VdBf0CPo8XaOLqVAEQp88MEHibiDufsOPSCA+sfvkzwyTpd4SmVhgq8Gs9JyCSo5MBt68MoO7cSJBETVMdOTZifxDaRESrM+dFtO/O9737dO9j4JHHqePrzjnLPHWBZ6bD2oxTvesu9B2xeZ4wMFPVEUddwqfLYEFfWZqyvlNwEGJQWc0ae3+v4UlcEgFPjll18y/Og79LTm/1zZu6uydxffaI4nV/ApLb7+Qubgi8xeZsW+uRxtLFkEyYAewId1A7RhEar6xqveJd+qtgdYKPPNZayIVDccmZ7sfRI+9Hi/gtlCD8o2Z2NfT37z9df4ejLgiR/7ig/ku0E7OdPTcavggRNOpufoyBHnHH8DMn9Xsv0K9AChZNAuCXoyIqOahlaBvkMP+MCeHwE1gBf4zxYph6kX1BMjcEzmnCNnAHTQzRrPgB5+Ep7/w7OvAaESw+kPLvntEzzAii/BstFwQE/HLR7sp7eQfbnfumjZxUIPOnAbkGmYtnnz9dfY6g3EJVs5ZCdDT8etgg6BQA9+9zG/MoIkcXTkyJ6Xd/Myo7Dn5d0WmDJ6Zjf1y072LPlbBT05d7K6DZUCg4Cebo9v1D9bgWKOtzpu69Cgh/yhAhUIZKtgLwUCPfsP7Dt0+GAiCnjpn8Q+D9bX+gUr/bKT5me39YKejg89dRhCBQQ92cARQmsgkUzQQ7YIthDIVgkKejbPr5sTiUBAHvK++opfuYUvFmWeD9+xtf/AvqMjR2wT7XdlJ9GlIisFPUMY0bWkjgoIekLAmmwfAolkgp5gWYeOBbJVwoEe4EvauzuHDh9EEigNVoAgXoYG38TO7JH9xvWu7BTJN4lzpUIPKS9eqFarHYMKO2z3b1mPoogKcFHlFuBPq9Xq1g18RXy/vi2V3+rVrRsh9Bf0ZANHCK2BRDJBD9ki2EIgWwVPthCOtwYEPfwSdcBEx4xRIjwlgkiRlR2gx4tPiHNp0IOY2m637ag49NjvLQ//WzArlYqgx95QlrOhp7+AxUn7VRD0hIA12T4EEskEPcGyDh0LZKvg6RQC9DxYX8s+3sKJVVcZGhxvWTo5OnIEGNSVHWuhlHIJ0EOGYKFfkazvdhjXPZLr+0RdGdwWmR7AYr+ySl3pk6ezoCcbOEJoDSSSCXrIFsEWAtkqePIEAj1Mw8TBgjzUFawIehIiS85MD7M7RIoeTmoSph9AFdJUdHgAM/RicltATy8LK3CMoCcErMn2IZBIJugJlnXoWCBbBQ+wQKAHH1mPv9bD9MyD9TVbfrC+5n3KPf5OD1/oAUgRg7qyE4ewgms6ZHqYjLGF7OMtj2Dix1s2tCEf4A2xHcotC3oy9CezZvQJtknQkw0cIbQGEskEPWSLYAuBbBU87gKBHjANkzoAi0OHDzrnCBlxyrH9yTTov//APvtZd/zmQzR1ZYezl1VIhZ4ewhXAqNFoRFFUq9UsJ9VqtbhBIIVzLt6EGliIIxEH2lMne57CDtalKIricRqj4LPnBhJXXAVQjy6hgCHedNaONZIoAjtzos3fEVevo96+/0TWpA807lm2pjgqiiL0h3FrGf0pJjVBAfX2hiL1ZcXkjFTSzgV9KpWKnZRrpAJFFgQ9IWBNtg+BRDJBT7CsQ8cC2Sp4goUDPQ/W1/BGM5/PXqqGYIQOHrvg0jlnP7IObEJ/Sy1goDx27KhSyn2DHoZALwAj4NlK9oRAaaGOAZJx1Pa0iEOaQTC24RlTECM4NU0xwLOGBSIFjFjowSjgWr1e5ywswAi7sd7qwInsB8TQE0DgsdQmg78ASvTxjKOJC+SMzjkez1kQoby2p3Wb9tvttiepBz3sCVOAJDsXocfOxeVYHQorC3qygSOE1kAimaCHbBFsIZCtgsdXUNDTR6rwEj99tFywKR96EmOhF6twyVCKO20RgTmDKIo6Qk8aB2THP8ZRdENUrtfr9J+oRCghG9ncEgI2O3uTerOQTpg+4XQcSIOYl6sjjrAnC2lN0JlzNV780Adaxoy4xF3gELqHBVoQ4ewowAiSaijb+8tF2VF0G8Yz5oKMlnI8P63ZYsqCnhCwJtuHQCKZoCdY1qFjgWwVPLsEPQVDTLfT+dCTGHIQfRObUEmyQSC08ZJNicNhubeTDhunYafdbscxhZTQevHjrSUxnNPVuDUM54kbOqDS/l2v1y0F2iZLhJwo3oFIwT4soDN9APABerwmnjNaJKLacQ+BL3FNbKaHw+Me2oEWsKASUYwobPcJV1dM4dixY8+fLGUHXbWWq0AgkezYsWP/bt9hfFUhQAUC2Sp4dgl6uqWQgvsnQw/+186YhFCaFo0Q/BjSvEsEPKYlPCNeOsRrzb7kWDsFyvQcFogC2XE6Pl3cGk2hc7wDjdioz8qMggWLWq0Wd5VjPR96gx64xxSX5RVb5qT0h5uBNexjB9rlQyXukBCgZ6Zx6vF3C+UGdc2eocCvP14dGzvOrVViYaZx+tFaK8BIL5egwM/f3h47HsRWwS6dnj6x9nC54EBewHTDcbz11d9uT05NJrxHnB96QB783z/uuh2OgEfoqb/44SMMEZStrM9Z4HDnHDIf3iFLFEXwEEdajNPozEvGfm/eONN4wMHpqEC73UZ057xM7dTr9bSJOK+dkatDq3e8lZjpAWoQL+ge5rUgYgHF08E20TEWqABHsckOtHNhUbxHzL31fN85Y8+FK4sL91bOZwRdNZWrQPur2ebs+Z7vbx8HXrl8+culeRFGsAp8e2uxOXuxj3d8i6bm5putO4sFUIim6EGBm2tXZ5uzW4IeRvS0jRKHHkRN+3eaEcbXNOMEC5vasSkTzkLaYA0KNk7HZ7EIgta4S4ju1iyYg8Bhm+iGnYv0wJ6gAa6O9RiOy0ToiZtyzpGBLIh4blsdbBl+ooZueATJtdiBdi5Cj7XgnEu77zQ4uMLq6urS5TPlxnXNnqHAraVPlz//fHAbIL/l1dXVa83Pgg35cuzzyxeXl5fz39BB91xdXZ1dPN9DPNaQAhS4dG12ZWWlM/RsZZd40GNTL/aDRfEpCA2JoID+aX28KEs+iKKIQxB0bZyO+5AHerwVkTBgzeJC2kI8UrH5D9vE+gzowaSWLTgq4yPr7Xbb6mDL8VXwNXD6Rt3swDj0VCoVe19KJJ4oitbX16cmx//1j6sZcVdNZSnw9KdrJ6bGf/jhB26tEgvr6+uTE+P/vH9LeBGgAr88WDkxORHIVsEuXV9fn5ic+OsPXxQQwjVFVwp88+PdyanN3ZIKPTZ2euX8z6A49OQf27FnPO52HKIOxSsQZ8fifYjPeOPGjfnZ02XFdc2bocDVSzNXFhfit6ysmhs3bsydOxNgyJdLV2bPXlm8XNbGSJu3daN19sKZruKxOhegwMVLny2+2C0J0JN2L3uoHyj0ILXA92l6cE9DClAgTOh59uzZqZPTerMnAz5Kafrm7oWpqYlff/21gJ2ZcwpslTW92fMwrE+x3buxMDU5GdRWwY569uzZyZPT124vFBDINUVOBZa+WJyc+s9uGSz05HysdNXNHlHxtKUrC+pcpAJhQk8URY8fPz5xYnKhefrXH3XOVf4H+J/+dO3qpZmpF/nnIvdnnrk2t8rU1KXzn/787W3lV0pX4JcHK1dmz05NTgZ1sGU30uPHjyenJs81z379SOdcazm5ZEDdvvnx7sVLn01O/W+3bG/osftM5TAVCBZ6oih6+vTp0tL1qcmxG1dmHqzNbnx/uZT0xk6e9Oe/X/nuy9nl65+emBq/sng5wP+4458VtsrkxPjS3Llvlhd/unez9Ni/0xx48vXn95cXby5cODE5EfJW4Ya5fv36xOREc/H8zdWrQ/k59gFhSl/MfvW32zfXrl66Njs5NbH42wfL9oOeMEO7vNq+Cjx69GhlZWV+vnlyempUP8UqMDU1Mde8uLKyEuz/2u3G/s9WmWuenD5RrE6abXRqcqLZ3Pz0zbbYKtg22DBz881pbZhit/Dk1ORsym4R9NhnmspSQApIASkgBaTA0Cog6BnaW6uFSQEpIAWkgBSQAlYBQY9VQ2UpIAWkgBSQAlJgaBUQ9AztrdXCpIAUkAJSQApIAauAoMeqobIUkAJSQApIASkwtAoIeob21mphUkAKSAEpIAWkgFVA0GPVUFkKSAEpIAWkgBQYWgUEPUN7a7UwKSAFpIAUkAJSwCog6LFqqCwFpIAUkAJSQAoMrQKCnqG9tVqYFJACUkAKSAEpYBVIhh6X/lOtVu347PJAv2Wd3zxaqVSy3VCrFJACUkAKSAEpIAWyoMdTp9VqOefSoKdarTrn2u22HZUBPVv/HkqCmaDHaq6yFJACUkAKSAEpkKhAadBTqVSccz3zCpjJuWT/E5eqSikgBaSAFJACUmAnK5AMDUiieLr0MdNTr9cxRc/QAwtpaSfP861c1mo151y9Xt+KkT6OBe1tZeE8FuyjV8UnRPMAAARESURBVDIlBaSAFJACUiB8BbKgh+dHtpAWbnG81Wq17JrTjrdwTLaVTE9h0IN1hQM9W1844FVJMrtRVZYCUkAKSIGdoEAy9PSwcoBRo9GIogjZEaJSrVazBolH2dCD4R5FwQ6Oxqx9BnIvHWU98XCNw51zcNs6GUURMyLsSfTBEljvDfQueRLnZYzsKmzGCz7XajU7MHHhWJHnDJ3EENvabretIPDf89YuvN1u00ncCFqz99QTKvGWxWdRjRSQAlJACkiBghXoD/SQOWwsjKIonulBTaPRwBAb7O3KGUcTcYSRGGG7VqvRATQl0gDfwqZxUksi98S7gSfsKJa9N7i5ljhktF/8cKAtYBSGeGvEihIrCSI0RdFYg0K1Wo37Q1dZ4MK96byxgBsqb+cS91BMFaSAFJACUiAcBX4DPYx2NoAllj1YsXHXhn8PemAf8TsbejoK5J3yMPQyz4GpMZeXvYC3JAPPlDc1OtMsOtuzIZCBR3swEveqVqsx3WI1hMiYhWwBI96M2d6iFc7QDu+IVd4uwVsytwH84SrosPUWyyflYNJENbxZdCkFpIAUkAJSoGAFfgM9iXMjwiU2oZJkE+cYNqEnAiTK8c4ZU8SbvNjPwMyeDPketLGnV8+ITgsoeNDjXTKblTjcc5KWoQOpK4oi29PjBjqM4bYnaiCyXY5NC9lZ0N8zSK9YIPSQljyH6SF72tmZUaNBFaSAFJACUkAKhKBAAvQgkjGKI56l+YoIyoSKd2mhh7HWC5DOOeYJ0maJ13uxn8bZk4GZNSzAgZyTepTjXZYOPVCY+ltZPFLh8uNasQkFokx+6GFPz5QupYAUkAJSQAqEo8CWoAchlkc/WJVlphKhh/kPwk2j0YCrABdSXRRF1Wo1LWyjM89rsGR7NgS2YAd7a4kXTLfkP96iQRqBZThA5y3lRFEEZ8BAzHXRJdTTYNqS80OPNyMmom+cVwUpIAWkgBSQAiEosCXoSYuaXJiFHlaigNCbESCz8zFesGcgt7PEU0qAHvKQ7ZC2FqIDP3tlR7Fs57VlMBO74ZdWkypsPaXwclTe0qzz1WrVXuLTcDxdis8C6PHqrbcoswM18ZJG1kNSoF1L3KZqpIAUkAJSQAqUrkBn6NmKiz1DD+MucySeG3mgBykcBmObkaJ9tDK6e7PgEiGf0OOZJawkjuX7OpjILodmiSmwYJEiiiIPeuxvBADEkKvqL348a3YWemhRiZUsUBzKkgE91kOskXZUkAJSQApIASkQlAKp0ENWiBfyLyADevIbUU8pIAWkgBSQAlJACmxdgQTo2bpRWhD0UAoVpIAUkAJSQApIgXIVGCz0lLs2zS4FpIAUkAJSQApIASog6KEUKkgBKSAFpIAUkALDrICgZ5jvrtYmBaSAFJACUkAKUAFBD6VQQQpIASkgBaSAFBhmBQQ9w3x3tTYpIAWkgBSQAlKACvw/zP9T8OczDYwAAAAASUVORK5CYII=)\n",
        "\n",
        "주어진 문장 또는 문서를 벡터화하고, 이를 AI 모델에 입력값으로 넣어주면 모델은 예측한 카테고리를 리턴하게 되죠. 만약, 딥러닝 모델을 사용하고 있다면 벡터화 방법으로는 워드 임베딩을 사용하고 RNN, CNN, BERT와 같은 딥러닝 모델을 사용해서 클래스를 예측할 수 있을 거예요.\n",
        "\n",
        "하지만 AI 알고리즘에는 딥러닝이 아닌 다른 우수한 수많은 머신러닝 알고리즘들이 존재합니다. 오늘은 딥러닝이 아니라 여러 머신러닝 알고리즘을 사용해서 텍스트를 분류해 보겠습니다. 딥러닝을 사용하지 않는 상황에서 텍스트를 벡터화하여 좋은 feature를 뽑아내기 위하여, 이전 노드에서 다루었던 내용들이 어떻게 활용되는지 경험해 볼수 있을 것입니다.\n",
        "\n",
        "텍스트 분류에도 여러 종류가 있는데 대표적으로 클래스가 2개인 경우를 이진 분류(Binary Classification)라고 하고, 클래스 3개 이상인 경우를 다중 클래스 분류(Multiclass Classification)라고 합니다. 메일이 스팸인지 아닌지를 결정하는 스팸 메일 분류기가 이진 분류의 대표적인 예일 것입니다. 오늘 우리가 하게 될 텍스트 분류는 다중 클래스 분류(Multiclass Classification)에 속하는데 구체적인 내용은 데이터를 살펴보면서 이해해 보겠습니다."
      ]
    },
    {
      "cell_type": "markdown",
      "metadata": {
        "id": "8vO6ZMUM8ke7"
      },
      "source": [
        "4-2. 로이터 뉴스 데이터 (1) 데이터 확인하기\n",
        "우리가 사용할 데이터는 로이터 뉴스 데이터입니다. 이 데이터는 총 46개의 클래스로 구성되며, 해당 뉴스가 어느 카테고리에 속하는지를 예측하기 위한 데이터입니다. 텐서플로우 데이터셋에서 제공하고 있는 데이터로 아주 쉽게 다운로드가 가능합니다."
      ]
    },
    {
      "cell_type": "code",
      "metadata": {
        "id": "_qsbqhFz7cSl"
      },
      "source": [
        "from tensorflow.keras.datasets import reuters\n",
        "import matplotlib.pyplot as plt\n",
        "import seaborn as sns\n",
        "import numpy as np\n",
        "import pandas as pd"
      ],
      "execution_count": null,
      "outputs": []
    },
    {
      "cell_type": "markdown",
      "metadata": {
        "id": "S-0OhRpq8q4K"
      },
      "source": [
        "훈련 데이터와 테스트 데이터 로드하기\n",
        "텐서플로우 데이터셋으로부터 로이터 뉴스 데이터를 받아옵니다."
      ]
    },
    {
      "cell_type": "code",
      "metadata": {
        "colab": {
          "base_uri": "https://localhost:8080/"
        },
        "id": "wXdPxklk8qYi",
        "outputId": "c311f0f8-1fff-4714-99fe-0ec6feb34210"
      },
      "source": [
        "(x_train, y_train), (x_test, y_test) = reuters.load_data(num_words=10000, test_split=0.2)"
      ],
      "execution_count": null,
      "outputs": [
        {
          "output_type": "stream",
          "text": [
            "Downloading data from https://storage.googleapis.com/tensorflow/tf-keras-datasets/reuters.npz\n",
            "2113536/2110848 [==============================] - 0s 0us/step\n"
          ],
          "name": "stdout"
        },
        {
          "output_type": "stream",
          "text": [
            "/usr/local/lib/python3.7/dist-packages/tensorflow/python/keras/datasets/reuters.py:148: VisibleDeprecationWarning: Creating an ndarray from ragged nested sequences (which is a list-or-tuple of lists-or-tuples-or ndarrays with different lengths or shapes) is deprecated. If you meant to do this, you must specify 'dtype=object' when creating the ndarray\n",
            "  x_train, y_train = np.array(xs[:idx]), np.array(labels[:idx])\n",
            "/usr/local/lib/python3.7/dist-packages/tensorflow/python/keras/datasets/reuters.py:149: VisibleDeprecationWarning: Creating an ndarray from ragged nested sequences (which is a list-or-tuple of lists-or-tuples-or ndarrays with different lengths or shapes) is deprecated. If you meant to do this, you must specify 'dtype=object' when creating the ndarray\n",
            "  x_test, y_test = np.array(xs[idx:]), np.array(labels[idx:])\n"
          ],
          "name": "stderr"
        }
      ]
    },
    {
      "cell_type": "markdown",
      "metadata": {
        "id": "C9WEjEzS82-o"
      },
      "source": [
        "num_words는 이 데이터에서 빈도수 기준으로 상위 몇 번째 단어까지 사용할 것인지 조절합니다. 각 단어는 고유한 번호가 정해져 있는 상태이고, 이를 통해서 사용할 단어의 수를 정하는 것이죠.\n",
        "\n",
        "이 데이터의 단어들은 등장 빈도수가 높은 순서대로 낮은 정수가 맵핑되어져 있습니다. 예를 들어서 50번 단어보다는 10번 단어가 데이터 전체에서 빈도수가 등장 빈도 순위로 40등이 더 높은 단어입니다. 위에서 num_words=10000은 1~10,000번 단어만 사용한다는 의미입니다. 등장 빈도수가 높은 단어들만 사용하겠다는 의미지요.\n",
        "\n",
        "그런데 주의할 점은 데이터를 받아올 때, num_words의 인자로 10,000을 기재한다고 해서 10,000보다 높은 정수가 맵핑된 단어들이 받아온 데이터에서 사라지는 게 아니라는 겁니다. num_words로 주어진 값보다 큰 번호를 가졌던 단어들은 특정 번호로 전부 맵핑이 됩니다. 이는 OOV 문제라는 자연어 처리의 대표적인 문제와 연관이 있는데요. 이에 대해서는 뒤에서 언급하겠습니다.\n",
        "\n",
        "test_split = 0.2를 하게 되면 전체 데이터 중에서 80%를 훈련 데이터, 20%를 테스트 데이터로 사용한다는 의미입니다. x_train과 x_test가 각각 훈련용 뉴스 데이터와 테스트용 뉴스 데이터, y_train과 y_test는 각각 훈련용 뉴스 데이터의 레이블, 테스트용 뉴스 데이터의 레이블이 되는 것이지요.\n",
        "\n",
        "이렇게 받아온 데이터가 어떤 구성을 가지고 있는지 출력해 볼까요?\n",
        "\n"
      ]
    },
    {
      "cell_type": "code",
      "metadata": {
        "colab": {
          "base_uri": "https://localhost:8080/"
        },
        "id": "fA825dXp8z_g",
        "outputId": "f8a6c323-f2e6-40bd-f8b9-f507d21bfb20"
      },
      "source": [
        "print('훈련 샘플의 수: {}'.format(len(x_train)))\n",
        "print('테스트 샘플의 수: {}'.format(len(x_test)))"
      ],
      "execution_count": null,
      "outputs": [
        {
          "output_type": "stream",
          "text": [
            "훈련 샘플의 수: 8982\n",
            "테스트 샘플의 수: 2246\n"
          ],
          "name": "stdout"
        }
      ]
    },
    {
      "cell_type": "markdown",
      "metadata": {
        "id": "e7MHk8gt8_LZ"
      },
      "source": [
        "데이터 출력해보기\n",
        "훈련용 뉴스는 8,982개. 그리고 테스트용 뉴스는 2,246개가 있네요. 8:2의 비율을 가지는데, 첫 번째 훈련용 뉴스와 첫 번째 테스트용 뉴스를 출력해 보겠습니다."
      ]
    },
    {
      "cell_type": "code",
      "metadata": {
        "colab": {
          "base_uri": "https://localhost:8080/"
        },
        "id": "Oztxnh1v85HK",
        "outputId": "122288ee-17b8-454d-9809-75a2aa144979"
      },
      "source": [
        "print(x_train[0])\n",
        "print(x_test[0])"
      ],
      "execution_count": null,
      "outputs": [
        {
          "output_type": "stream",
          "text": [
            "[1, 2, 2, 8, 43, 10, 447, 5, 25, 207, 270, 5, 3095, 111, 16, 369, 186, 90, 67, 7, 89, 5, 19, 102, 6, 19, 124, 15, 90, 67, 84, 22, 482, 26, 7, 48, 4, 49, 8, 864, 39, 209, 154, 6, 151, 6, 83, 11, 15, 22, 155, 11, 15, 7, 48, 9, 4579, 1005, 504, 6, 258, 6, 272, 11, 15, 22, 134, 44, 11, 15, 16, 8, 197, 1245, 90, 67, 52, 29, 209, 30, 32, 132, 6, 109, 15, 17, 12]\n",
            "[1, 4, 1378, 2025, 9, 697, 4622, 111, 8, 25, 109, 29, 3650, 11, 150, 244, 364, 33, 30, 30, 1398, 333, 6, 2, 159, 9, 1084, 363, 13, 2, 71, 9, 2, 71, 117, 4, 225, 78, 206, 10, 9, 1214, 8, 4, 270, 5, 2, 7, 748, 48, 9, 2, 7, 207, 1451, 966, 1864, 793, 97, 133, 336, 7, 4, 493, 98, 273, 104, 284, 25, 39, 338, 22, 905, 220, 3465, 644, 59, 20, 6, 119, 61, 11, 15, 58, 579, 26, 10, 67, 7, 4, 738, 98, 43, 88, 333, 722, 12, 20, 6, 19, 746, 35, 15, 10, 9, 1214, 855, 129, 783, 21, 4, 2280, 244, 364, 51, 16, 299, 452, 16, 515, 4, 99, 29, 5, 4, 364, 281, 48, 10, 9, 1214, 23, 644, 47, 20, 324, 27, 56, 2, 2, 5, 192, 510, 17, 12]\n"
          ],
          "name": "stdout"
        }
      ]
    },
    {
      "cell_type": "markdown",
      "metadata": {
        "id": "xQPoKnNu9E8I"
      },
      "source": [
        "우리는 뉴스 데이터를 다루기로 했는데, 실제 출력해보면 텍스트가 아니라 숫자 시퀀스가 출력됩니다. 사실 각 단어가 빈도수가 높은 순서대로 낮은 정수가 맵핑되어져 있다고 했었는데, 이미 뉴스 데이터를 다운받을 때는 단어가 아니라 해당 번호로 변환이 되어서 출력이 되고 있습니다.\n",
        "\n",
        "대부분의 자연어 처리에서는 텍스트를 숫자로 수치화하는 과정이 필요한데, 텐서플로우 데이터셋에서는 이미 전처리를 한 데이터를 제공해주는 셈입니다.\n",
        "\n",
        "이제 레이블도 출력해 볼까요? 첫 번째 훈련용 뉴스와 테스트용 뉴스의 레이블을 출력해봅시다."
      ]
    },
    {
      "cell_type": "code",
      "metadata": {
        "colab": {
          "base_uri": "https://localhost:8080/"
        },
        "id": "l_KQG-Za9CsI",
        "outputId": "94d06213-d06c-4df9-cf7c-82f99cfbde71"
      },
      "source": [
        "print(y_train[0])\n",
        "print(y_test[0])"
      ],
      "execution_count": null,
      "outputs": [
        {
          "output_type": "stream",
          "text": [
            "3\n",
            "3\n"
          ],
          "name": "stdout"
        }
      ]
    },
    {
      "cell_type": "markdown",
      "metadata": {
        "id": "Aahc6YOa9P0M"
      },
      "source": [
        "둘 다 숫자 3이 출력되네요. 각 뉴스는 정수로 된 레이블을 가지고 있군요. 이 레이블은 숫자 0부터 시작되므로, 모든 레이블 중 최댓값을 구하고 1을 더하면 현재 클래스의 개수를 볼 수 있어요."
      ]
    },
    {
      "cell_type": "code",
      "metadata": {
        "colab": {
          "base_uri": "https://localhost:8080/"
        },
        "id": "1l8ugiYF9Mf0",
        "outputId": "1344257e-a30b-40da-b274-91d47f3b3cb9"
      },
      "source": [
        "num_classes = max(y_train) + 1\n",
        "print('클래스의 수 : {}'.format(num_classes))"
      ],
      "execution_count": null,
      "outputs": [
        {
          "output_type": "stream",
          "text": [
            "클래스의 수 : 46\n"
          ],
          "name": "stdout"
        }
      ]
    },
    {
      "cell_type": "markdown",
      "metadata": {
        "id": "PVlB0mie9VZv"
      },
      "source": [
        "이 뉴스 데이터는 총 46개의 클래스를 가지고 있습니다. 이 정도면 적지는 않은 클래스라서 높은 정확도를 얻는 일이 쉽지는 않을 것 같은 예감이 드네요.\n",
        "\n",
        "데이터 분포 확인해보기\n",
        "자연어 처리 과정에서 문장, 문서들의 길이는 보통 다릅니다. 우리가 평소에 보는 뉴스 기사들이 길이가 항상 똑같지는 않죠. 이 데이터도 마찬가지예요. 모든 뉴스 데이터들은 길이가 다 다를 거예요. 뉴스 데이터의 길이 분포를 볼까요?"
      ]
    },
    {
      "cell_type": "code",
      "metadata": {
        "colab": {
          "base_uri": "https://localhost:8080/",
          "height": 313
        },
        "id": "Y59yts8B9Tv1",
        "outputId": "7fea9259-e24b-4bdf-dc06-fa5c3c235fc1"
      },
      "source": [
        "print('훈련용 뉴스의 최대 길이 :{}'.format(max(len(l) for l in x_train)))\n",
        "print('훈련용 뉴스의 평균 길이 :{}'.format(sum(map(len, x_train))/len(x_train)))\n",
        "\n",
        "plt.hist([len(s) for s in x_train], bins=50)\n",
        "plt.xlabel('length of samples')\n",
        "plt.ylabel('number of samples')\n",
        "plt.show()"
      ],
      "execution_count": null,
      "outputs": [
        {
          "output_type": "stream",
          "text": [
            "훈련용 뉴스의 최대 길이 :2376\n",
            "훈련용 뉴스의 평균 길이 :145.5398574927633\n"
          ],
          "name": "stdout"
        },
        {
          "output_type": "display_data",
          "data": {
            "image/png": "[encoded data removed]",
            "text/plain": [
              "<Figure size 432x288 with 1 Axes>"
            ]
          },
          "metadata": {
            "tags": []
          }
        }
      ]
    },
    {
      "cell_type": "markdown",
      "metadata": {
        "id": "1JDOrsgA9a3X"
      },
      "source": [
        "길이가 가장 긴 뉴스의 길이는 2,376입니다. 평균 길이는 145구요. 아무래도 길이가 가장 긴 뉴스의 길이가 다른 뉴스에 비해 유독 긴 편인 것 같습니다. 그리고 시각화된 그래프의 분포로 봤을 때 500~1,000 사이의 길이를 가지는 뉴스도 일부 있어 보이죠?\n",
        "\n",
        "우리가 맞춰야 하는 클래스의 분포를 확인해볼까요? 모델의 성능에 영향을 줄 수 있는 요소이기 때문에 실제로 모든 클래스가 다 존재는 하는 것인지, 또 어떤 클래스가 유독 많은지, 이런 것들을 사전에 확인해 보아야 합니다."
      ]
    },
    {
      "cell_type": "code",
      "metadata": {
        "colab": {
          "base_uri": "https://localhost:8080/",
          "height": 391
        },
        "id": "f4N69GMz9Xaf",
        "outputId": "8d88c9c8-7a2b-431e-81ec-b45e681f61d6"
      },
      "source": [
        "fig, axe = plt.subplots(ncols=1)\n",
        "fig.set_size_inches(12,5)\n",
        "sns.countplot(y_train)"
      ],
      "execution_count": null,
      "outputs": [
        {
          "output_type": "stream",
          "text": [
            "/usr/local/lib/python3.7/dist-packages/seaborn/_decorators.py:43: FutureWarning: Pass the following variable as a keyword arg: x. From version 0.12, the only valid positional argument will be `data`, and passing other arguments without an explicit keyword will result in an error or misinterpretation.\n",
            "  FutureWarning\n"
          ],
          "name": "stderr"
        },
        {
          "output_type": "execute_result",
          "data": {
            "text/plain": [
              "<matplotlib.axes._subplots.AxesSubplot at 0x7f987c2585d0>"
            ]
          },
          "metadata": {
            "tags": []
          },
          "execution_count": 7
        },
        {
          "output_type": "display_data",
          "data": {
            "image/png": "[encoded data removed]",
            "text/plain": [
              "<Figure size 864x360 with 1 Axes>"
            ]
          },
          "metadata": {
            "tags": []
          }
        }
      ]
    },
    {
      "cell_type": "markdown",
      "metadata": {
        "id": "nF38CUuN9iqm"
      },
      "source": [
        "이 뉴스 데이터는 3번, 4번 클래스가 대부분을 차지하고 있습니다. 그 뒤로는 19번, 16번, 1번, 11번 등이 높은 분포를 가지고 있네요. 시각화를 통해 어떤 클래스가 많고, 적은 것을 쉽게 확인할 수는 있었지만 수치적으로 정확히 몇 개인지도 출력해보겠습니다."
      ]
    },
    {
      "cell_type": "code",
      "metadata": {
        "colab": {
          "base_uri": "https://localhost:8080/"
        },
        "id": "HFOnj_dx9e3V",
        "outputId": "2d61eed9-6133-4e54-ea1b-ad2ee75a24ca"
      },
      "source": [
        "unique_elements, counts_elements = np.unique(y_train, return_counts=True)\n",
        "print(\"각 클래스 빈도수:\")\n",
        "print(np.asarray((unique_elements, counts_elements)))"
      ],
      "execution_count": null,
      "outputs": [
        {
          "output_type": "stream",
          "text": [
            "각 클래스 빈도수:\n",
            "[[   0    1    2    3    4    5    6    7    8    9   10   11   12   13\n",
            "    14   15   16   17   18   19   20   21   22   23   24   25   26   27\n",
            "    28   29   30   31   32   33   34   35   36   37   38   39   40   41\n",
            "    42   43   44   45]\n",
            " [  55  432   74 3159 1949   17   48   16  139  101  124  390   49  172\n",
            "    26   20  444   39   66  549  269  100   15   41   62   92   24   15\n",
            "    48   19   45   39   32   11   50   10   49   19   19   24   36   30\n",
            "    13   21   12   18]]\n"
          ],
          "name": "stdout"
        }
      ]
    },
    {
      "cell_type": "markdown",
      "metadata": {
        "id": "-QaxFuRN9rE5"
      },
      "source": [
        "3번, 4번 클래스의 경우에는 각각 3,159개와 1,949개가 존재합니다. 그 뒤로는 549개로 19번 클래스가 세 번째로 많고, 16번 클래스가 444개로 네 번째로 많네요. 이렇게 각 클래스가 몇 개가 존재하는지도 확인해 봤어요."
      ]
    },
    {
      "cell_type": "markdown",
      "metadata": {
        "id": "nPOG6jsN-EQU"
      },
      "source": [
        "4-3. 로이터 뉴스 데이터 (2) 데이터 복원하기\n",
        "원본 뉴스 데이터로 복원해보기\n",
        "이번에는 조금은 일반적이지 않은 전처리를 해볼 겁니다! 이 데이터는 이미 어느 정도 전처리가 되어서 각 단어가 정수 시퀀스로 변환된 채 우리에게 제공되고 있다고 언급했었어요. 하지만, 일반적인 상황이라면 텍스트를 숫자로 수치화하는 과정을 우리의 힘으로 처음부터 해야 합니다.\n",
        "\n",
        "그래서 우리는 여기서 정수 시퀀스로 변환된 데이터를 '굳이' 다시 텍스트로 돌려보겠습니다.\n",
        "\n",
        "아래와 같이 로이터 뉴스 데이터는 '단어'를 key값으로, 고유한 '정수'를 value로 가지는 dictionary를 제공합니다. 이를 word_index로 저장해보겠습니다."
      ]
    },
    {
      "cell_type": "code",
      "metadata": {
        "colab": {
          "base_uri": "https://localhost:8080/"
        },
        "id": "lOg6Ok439k2m",
        "outputId": "08f03247-aa52-4014-e1c5-a8d568572789"
      },
      "source": [
        "word_index = reuters.get_word_index(path=\"reuters_word_index.json\")"
      ],
      "execution_count": null,
      "outputs": [
        {
          "output_type": "stream",
          "text": [
            "Downloading data from https://storage.googleapis.com/tensorflow/tf-keras-datasets/reuters_word_index.json\n",
            "557056/550378 [==============================] - 0s 0us/step\n"
          ],
          "name": "stdout"
        }
      ]
    },
    {
      "cell_type": "markdown",
      "metadata": {
        "id": "O7k8tdfF-I-J"
      },
      "source": [
        "이게 이 데이터의 단어장(Vocabulary) 입니다. 이제 word_index[] 안에 단어를 입력하면 이 단어가 어떤 정수와 맵핑이 되는지를 알 수 있습니다. 예를 들어 단어 'the'는 어떤 정수와 맵핑이 될까요?"
      ]
    },
    {
      "cell_type": "code",
      "metadata": {
        "colab": {
          "base_uri": "https://localhost:8080/"
        },
        "id": "Kz5CZH05-Gd2",
        "outputId": "fda4bb0b-527d-44a1-b81e-66c53cc53959"
      },
      "source": [
        "word_index['the']"
      ],
      "execution_count": null,
      "outputs": [
        {
          "output_type": "execute_result",
          "data": {
            "text/plain": [
              "1"
            ]
          },
          "metadata": {
            "tags": []
          },
          "execution_count": 11
        }
      ]
    },
    {
      "cell_type": "markdown",
      "metadata": {
        "id": "9cDJb5mz-NVE"
      },
      "source": [
        "어 'the'는 정수 1과 맵핑이 됩니다. 그렇다면, 단어 'it'은 어떤 정수와 맵핑이 될까요?"
      ]
    },
    {
      "cell_type": "code",
      "metadata": {
        "colab": {
          "base_uri": "https://localhost:8080/"
        },
        "id": "0V2LatLo-LHy",
        "outputId": "94d49f38-5e38-4499-d376-4b5d59379329"
      },
      "source": [
        "word_index['it']"
      ],
      "execution_count": null,
      "outputs": [
        {
          "output_type": "execute_result",
          "data": {
            "text/plain": [
              "13"
            ]
          },
          "metadata": {
            "tags": []
          },
          "execution_count": 11
        }
      ]
    },
    {
      "cell_type": "markdown",
      "metadata": {
        "id": "bHHTycKc-TsW"
      },
      "source": [
        "단어 'it'은 정수 13과 맵핑이 됩니다. 다른 단어들도 시도해 보세요! 그런데 지금 우리가 해야 할 일은 현재 갖고 있는 정수 시퀀스로 되어 있는 데이터를 텍스트 형태로 되돌려야 하는 일이므로 사실 word_index보다는 정수로부터 단어를 얻을 수 있는 index_word가 필요합니다.\n",
        "\n",
        "그런데 이 데이터에는 숨겨진 비밀이 하나 있는데, 뉴스 데이터 안에서 단어 'the'는 사실 1번이 아니라 4번 단어입니다. 그리고 단어 'it'은 사실 13번 단어가 아니라 16번 단어입니다. 다른 단어들도 마찬가지로 word_index에 입력으로 했을 때, 얻는 숫자보다는 +3을 한 숫자가 원래 고유한 숫자입니다. 이건 로이터 뉴스 데이터가 정의한 일종의 약속입니다.\n",
        "\n",
        "reuters.get_word_index에는 실제 단어에 맵핑한 정수에 -3을 한 정수를 입력해 놓았거든요. 그렇기 때문에 word_index에서 index_word를 만들 때, 각 정수에 +3을 해주어야 합니다.\n",
        "\n"
      ]
    },
    {
      "cell_type": "code",
      "metadata": {
        "id": "auJ1FU39-QaY"
      },
      "source": [
        "index_to_word = {index + 3 : word for word, index in word_index.items()}"
      ],
      "execution_count": null,
      "outputs": []
    },
    {
      "cell_type": "markdown",
      "metadata": {
        "id": "SnrnSyKM-YiI"
      },
      "source": [
        "숫자 4와 16을 넣어서 the와 it이 출력되는지 확인해볼까요?\n",
        "\n"
      ]
    },
    {
      "cell_type": "code",
      "metadata": {
        "colab": {
          "base_uri": "https://localhost:8080/"
        },
        "id": "LuFnhe4C-Vh1",
        "outputId": "f08619da-64d5-4f02-9411-f907e904e125"
      },
      "source": [
        "print(index_to_word[4])\n",
        "print(index_to_word[16])"
      ],
      "execution_count": null,
      "outputs": [
        {
          "output_type": "stream",
          "text": [
            "the\n",
            "it\n"
          ],
          "name": "stdout"
        }
      ]
    },
    {
      "cell_type": "markdown",
      "metadata": {
        "id": "kN4FhMH7-fcN"
      },
      "source": [
        "이 데이터를 위해 약속된 비밀은 더 있습니다. 0번, 1번, 2번은 사실 각각 \n",
        "```\n",
        "<pad>, <sos>, <unk>\n",
        "```\n",
        "라는 자연어 처리를 위한 특별한 토큰들을 위해 맵핑되어진 번호입니다. 그래서 만들어진 index_to_word에 추가적으로 이 작업을 해주어야 진짜 index_to_word가 완성됩니다."
      ]
    },
    {
      "cell_type": "code",
      "metadata": {
        "id": "g1VMD9gm-bPJ"
      },
      "source": [
        "# index_to_word에 숫자 0은 <pad>, 숫자 1은 <sos>, 숫자 2는 <unk>를 넣어줍니다.\n",
        "for index, token in enumerate((\"<pad>\", \"<sos>\", \"<unk>\")):\n",
        "  index_to_word[index]=token"
      ],
      "execution_count": null,
      "outputs": []
    },
    {
      "cell_type": "markdown",
      "metadata": {
        "id": "dLS-T_dK-6BE"
      },
      "source": [
        "자, 이제 index_to_word를 통해서 첫 번째 훈련용 뉴스 기사를 원래 텍스트로 복원해보겠습니다!"
      ]
    },
    {
      "cell_type": "code",
      "metadata": {
        "colab": {
          "base_uri": "https://localhost:8080/"
        },
        "id": "nHX6qfXu-4Sj",
        "outputId": "3d74c3fd-b4f4-43bc-eb1c-aed352859a3c"
      },
      "source": [
        "print(' '.join([index_to_word[index] for index in x_train[0]]))"
      ],
      "execution_count": null,
      "outputs": [
        {
          "output_type": "stream",
          "text": [
            "<sos> <unk> <unk> said as a result of its december acquisition of space co it expects earnings per share in 1987 of 1 15 to 1 30 dlrs per share up from 70 cts in 1986 the company said pretax net should rise to nine to 10 mln dlrs from six mln dlrs in 1986 and rental operation revenues to 19 to 22 mln dlrs from 12 5 mln dlrs it said cash flow per share this year should be 2 50 to three dlrs reuter 3\n"
          ],
          "name": "stdout"
        }
      ]
    },
    {
      "cell_type": "code",
      "metadata": {
        "colab": {
          "base_uri": "https://localhost:8080/"
        },
        "id": "w6HAq6juJ5ca",
        "outputId": "2455b836-0489-48c2-c5a1-ba5d64717596"
      },
      "source": [
        "print(x_train[0])"
      ],
      "execution_count": null,
      "outputs": [
        {
          "output_type": "stream",
          "text": [
            "[1, 2, 2, 8, 43, 10, 447, 5, 25, 207, 270, 5, 3095, 111, 16, 369, 186, 90, 67, 7, 89, 5, 19, 102, 6, 19, 124, 15, 90, 67, 84, 22, 482, 26, 7, 48, 4, 49, 8, 864, 39, 209, 154, 6, 151, 6, 83, 11, 15, 22, 155, 11, 15, 7, 48, 9, 4579, 1005, 504, 6, 258, 6, 272, 11, 15, 22, 134, 44, 11, 15, 16, 8, 197, 1245, 90, 67, 52, 29, 209, 30, 32, 132, 6, 109, 15, 17, 12]\n"
          ],
          "name": "stdout"
        }
      ]
    },
    {
      "cell_type": "markdown",
      "metadata": {
        "id": "TIkTYOQF_HAR"
      },
      "source": [
        "첫 번째 훈련용 뉴스 기사가 정수 시퀀스에서 텍스트로 다시 원복되었습니다. 이 데이터도 어느 정도 전처리가 된 상태라서, 자연스럽게 읽히지는 않습니다. 하지만 문맥을 가진 텍스트이기 때문에, 이 데이터를 가지고 머신러닝을 시작해도 별 무리는 없어 보입니다.\n",
        "\n",
        "원복된 첫 번째 훈련용 뉴스 기사에 특별 토큰인 \\<sos>와 \\<unk>가 보이는데, \\<sos>는 텍스트 분류를 위한 토큰이 아니므로 크게 신경을 쓰지 않아도 됩니다. 하지만 \\<unk>는 자연어 처리 전반에서 쓰이는 특별 토큰이므로 이에 대해서는 이해할 필요가 있습니다.\n",
        "\n",
        "OOV 문제와 UNK 토큰\n",
        "기계가 알고 있는 단어들의 집합을 단어장(Vocabulary)이라고 합니다. 그리고 기계가 미처 배우지 못한 모르는 단어가 등장하게 되면 이 단어를 OOV(Out-Of-Vocabulary) 또는 UNK(Unknown)이라고 표현합니다. 어떤 단어가 기계가 모르는 단어로 판단되면, 기계는 해당 단어를 전부 \\<unk>라는 일관된 특별 토큰으로 변환하는 식으로 처리합니다.\n",
        "\n",
        "앞서 우리가 가장 맨 처음 사용했던 코드를 상기해봅시다.\n",
        "```\n",
        "(x_train, y_train), (x_test, y_test) = reuters.load_data(num_words=10000, test_split=0.2)\n",
        "```\n",
        "\n",
        "num_words = 10000는 사실 정수 번호가 10,000이 넘는 단어들을 자동으로 \\<unk> 토큰으로 처리합니다. 이 \\<unk>은 로이터 뉴스 데이터에서는 정수 2번을 가지도록 약속되어져 있으므로 데이터를 로드하는 과정에서 정수 번호가 10,000이 넘는 단어들은 전부 정수 1로 변환되어서 로드가 되었던 것입니다. 아래 퀴즈에 답해보세요.\n",
        "\n",
        "\n",
        "Q1. 로이터 뉴스 데이터 중 다음과 같은 정수 시퀀스가 있습니다.\n",
        "```\n",
        "[4, 587, 23, 133, 6, 30, 515]\n",
        "```\n",
        "현재 우리가 가진 index_to_word를 사용하여 이 문장을 텍스트 시퀀스로 변환해 보세요."
      ]
    },
    {
      "cell_type": "code",
      "metadata": {
        "colab": {
          "base_uri": "https://localhost:8080/",
          "height": 35
        },
        "id": "6ZKoTRzJ_Dm0",
        "outputId": "c7fe78f6-fd36-4561-d52e-bef087129c1d"
      },
      "source": [
        "ts = [4, 587, 23, 133, 6, 30, 515]\n",
        "result=''\n",
        "for w in ts:\n",
        "  result += index_to_word[w]\n",
        "  result += ' '\n",
        "\n",
        "result\n"
      ],
      "execution_count": null,
      "outputs": [
        {
          "output_type": "execute_result",
          "data": {
            "application/vnd.google.colaboratory.intrinsic+json": {
              "type": "string"
            },
            "text/plain": [
              "'the transaction is expected to be completed '"
            ]
          },
          "metadata": {
            "tags": []
          },
          "execution_count": 18
        }
      ]
    },
    {
      "cell_type": "markdown",
      "metadata": {
        "id": "6n2pAU8f_6gr"
      },
      "source": [
        "정답 문장\n",
        "the transaction is expected to be completed\n",
        "코드\n",
        "```\n",
        "print(' '.join([index_to_word[index] for index in [4, 587, 23, 133, 6, 30, 515]]))\n",
        "```\n",
        "\n",
        "Q2. 데이터를 로드하기 전 로이터 뉴스 데이터에는 다음과 같은 정수 시퀀스가 있었다고 해봅시다.\n",
        "\n",
        "```\n",
        "[4, 12000, 23, 133, 6, 30, 515]\n",
        "```\n",
        "그런데 만약 우리가 로이터 뉴스 데이터를 아래와 같은 코드로 데이터를 받아왔다고 해보겠습니다.\n",
        "\n",
        "```\n",
        "(x_train, y_train), (x_test, y_test) = reuters.load_data(num_words=10000, test_split=0.2)\n",
        "```\n",
        "실제로 로드한 데이터에서 우리가 저 문장을 출력하면 다른 정수 시퀀스가 출력되는데요. 해당 정수 시퀀스를 추측해 보세요.\n",
        "\n",
        "예시답안\n",
        "```\n",
        "[4, 1, 23, 133, 6, 30, 515]\n",
        "```\n",
        "12,000은 10,000을 넘는 숫자로 OOV에 해당되므로 인 1로 변환되어 데이터가 로드됩니다.\n",
        "\n",
        "이제 전체 훈련용 뉴스 데이터와 전체 테스트용 뉴스 데이터를 텍스트 데이터로 변환해 보겠습니다."
      ]
    },
    {
      "cell_type": "code",
      "metadata": {
        "id": "nfzGOlP0_ter"
      },
      "source": [
        "decoded = []\n",
        "for i in range(len(x_train)):\n",
        "    t = ' '.join([index_to_word[index] for index in x_train[i]])\n",
        "    decoded.append(t)\n",
        "\n",
        "x_train = decoded"
      ],
      "execution_count": null,
      "outputs": []
    },
    {
      "cell_type": "code",
      "metadata": {
        "id": "qT2uibJAG4Ok"
      },
      "source": [
        "decoded = []\n",
        "for i in range(len(x_test)):\n",
        "    t = ' '.join([index_to_word[index] for index in x_test[i]])\n",
        "    decoded.append(t)\n",
        "\n",
        "x_test = decoded"
      ],
      "execution_count": null,
      "outputs": []
    },
    {
      "cell_type": "markdown",
      "metadata": {
        "id": "IYPIUda5KLY_"
      },
      "source": [
        "각각 5개씩 출력해보고, 제대로 변환이 되었는지 확인해 보겠습니다.\n",
        "\n"
      ]
    },
    {
      "cell_type": "code",
      "metadata": {
        "colab": {
          "base_uri": "https://localhost:8080/"
        },
        "id": "sHyaB0GgKIXO",
        "outputId": "44c74c38-fbd7-4f64-e082-ff71966b6321"
      },
      "source": [
        "x_train[:5]"
      ],
      "execution_count": null,
      "outputs": [
        {
          "output_type": "execute_result",
          "data": {
            "text/plain": [
              "['<sos> <unk> <unk> said as a result of its december acquisition of space co it expects earnings per share in 1987 of 1 15 to 1 30 dlrs per share up from 70 cts in 1986 the company said pretax net should rise to nine to 10 mln dlrs from six mln dlrs in 1986 and rental operation revenues to 19 to 22 mln dlrs from 12 5 mln dlrs it said cash flow per share this year should be 2 50 to three dlrs reuter 3',\n",
              " '<sos> generale de banque sa lt <unk> br and lt heller overseas corp of chicago have each taken 50 pct stakes in <unk> company sa <unk> factors generale de banque said in a statement it gave no financial details of the transaction sa <unk> <unk> turnover in 1986 was 17 5 billion belgian francs reuter 3',\n",
              " '<sos> shr 3 28 dlrs vs 22 cts shr diluted 2 99 dlrs vs 22 cts net 46 0 mln vs 3 328 000 avg shrs 14 0 mln vs 15 2 mln year shr 5 41 dlrs vs 1 56 dlrs shr diluted 4 94 dlrs vs 1 50 dlrs net 78 2 mln vs 25 9 mln avg shrs 14 5 mln vs 15 1 mln note earnings per share reflect the two for one split effective january 6 1987 per share amounts are calculated after preferred stock dividends loss continuing operations for the qtr 1986 includes gains of sale of investments in <unk> corp of 14 mln dlrs and associated companies of 4 189 000 less writedowns of investments in national <unk> inc of 11 8 mln and <unk> corp of 15 6 mln reuter 3',\n",
              " \"<sos> the farmers home administration the u s agriculture department's farm lending arm could lose about seven billion dlrs in outstanding principal on its severely <unk> borrowers or about one fourth of its farm loan portfolio the general accounting office gao said in remarks prepared for delivery to the senate agriculture committee brian crowley senior associate director of gao also said that a preliminary analysis of proposed changes in <unk> financial eligibility standards indicated as many as one half of <unk> borrowers who received new loans from the agency in 1986 would be <unk> under the proposed system the agency has proposed evaluating <unk> credit using a variety of financial ratios instead of relying solely on <unk> ability senate agriculture committee chairman patrick leahy d vt <unk> the proposed eligibility changes telling <unk> administrator <unk> clark at a hearing that they would mark a dramatic shift in the agency's purpose away from being farmers' lender of last resort toward becoming a big city bank but clark defended the new regulations saying the agency had a responsibility to <unk> its 70 billion dlr loan portfolio in a <unk> yet <unk> manner crowley of gao <unk> <unk> arm said the proposed credit <unk> system attempted to ensure that <unk> would make loans only to borrowers who had a reasonable change of repaying their debt reuter 3\",\n",
              " '<sos> seton co said its board has received a proposal from chairman and chief executive officer philip d <unk> to acquire seton for 15 75 dlrs per share in cash seton said the acquisition bid is subject to <unk> arranging the necessary financing it said he intends to ask other members of senior management to participate the company said <unk> owns 30 pct of seton stock and other management members another 7 5 pct seton said it has formed an independent board committee to consider the offer and has deferred the annual meeting it had scheduled for march 31 reuter 3']"
            ]
          },
          "metadata": {
            "tags": []
          },
          "execution_count": 20
        }
      ]
    },
    {
      "cell_type": "code",
      "metadata": {
        "colab": {
          "base_uri": "https://localhost:8080/"
        },
        "id": "oShPV_EbKQqH",
        "outputId": "1d6b3f6d-68da-4484-9e41-e96f4281d318"
      },
      "source": [
        "x_test[:5]"
      ],
      "execution_count": null,
      "outputs": [
        {
          "output_type": "execute_result",
          "data": {
            "text/plain": [
              "['<sos> the great atlantic and pacific tea co said its three year 345 mln dlr capital program will be be substantially increased to <unk> growth and expansion plans for <unk> inc and <unk> inc over the next two years a and p said the acquisition of <unk> in august 1986 and <unk> in december helped us achieve better than expected results in the fourth quarter ended february 28 its net income from continuing operations jumped 52 6 pct to 20 7 mln dlrs or 55 cts a share in the latest quarter as sales increased 48 3 pct to 1 58 billion dlrs a and p gave no details on the expanded capital program but it did say it completed the first year of the program during 1986 a and p is 52 4 pct owned by lt <unk> <unk> of west germany reuter 3',\n",
              " \"<sos> philippine sugar production in the 1987 88 crop year ending august has been set at 1 6 mln tonnes up from a provisional 1 3 mln tonnes this year sugar regulatory administration <unk> chairman <unk> yulo said yulo told reuters a survey during the current milling season which ends next month showed the 1986 87 estimate would almost certainly be met he said at least 1 2 mln tonnes of the 1987 88 crop would be earmarked for domestic consumption yulo said about 130 000 tonnes would be set aside for the u s sugar quota 150 000 tonnes for strategic reserves and 50 000 tonnes would be sold on the world market he said if the government approved a long standing <unk> recommendation to manufacture ethanol the project would take up another 150 000 tonnes slightly raising the target the government for its own reasons has been delaying approval of the project but we expect it to come through by july yulo said ethanol could make up five pct of gasoline cutting the oil import bill by about 300 mln pesos yulo said three major philippine <unk> were ready to start manufacturing ethanol if the project was approved the ethanol project would result in employment for about 100 000 people sharply reducing those thrown out of work by depressed world sugar prices and a <unk> domestic industry production quotas set for the first time in 1987 88 had been submitted to president corazon aquino i think the president would rather wait <unk> the new congress <unk> after the may elections he said but there is really no need for such quotas we are right now producing just slightly over our own consumption level the producers have never enjoyed such high prices yulo said adding sugar was currently selling locally for 320 pesos per <unk> up from 190 pesos last august yulo said prices were driven up because of speculation following the <unk> bid to control production we are no longer concerned so much with the world market he said adding producers in the <unk> region had learned from their <unk> and diversified into corn and <unk> farming and <unk> production he said diversification into products other than ethanol was also possible within the sugar industry the <unk> long ago <unk> their <unk> yulo said they have 300 sugar mills compared with our 41 but they <unk> many of them and diversified production we want to call this a <unk> <unk> instead of the sugar industry he said sugarcane could be fed to pigs and livestock used for <unk> <unk> or used in room <unk> when you cut sugarcane you don't even have to produce sugar he said yulo said the philippines was lobbying for a renewal of the international sugar agreement which expired in 1984 as a major sugar producer we are urging them to write a new agreement which would revive world prices yulo said if there is no agreement world prices will always be depressed particularly because the european community is <unk> its producers and dumping sugar on the markets he said current world prices holding steady at about 7 60 cents per pound were <unk> for the philippines where production costs ranged from 12 to 14 cents a pound if the price holds steady for a while at 7 60 cents i expect the level to rise to about 11 cents a pound by the end of this year he said yulo said economists forecast a bullish sugar market by 1990 with world consumption <unk> production he said sugar markets were holding up despite <unk> from artificial sweeteners and high fructose corn syrup but we are not happy with the reagan administration he said since <unk> we have been regular suppliers of sugar to the u s in 1982 when they restored the quota system they cut <unk> in half without any justification manila was <unk> watching washington's moves to cut domestic support prices to 12 cents a pound from 18 cents the u s agriculture department last december slashed its 12 month 1987 sugar import quota from the philippines to 143 780 short tons from 231 660 short tons in 1986 yulo said despite next year's increased production target some philippine mills were expected to shut down at least four of the 41 mills were not working during the 1986 87 season he said we expect two or three more to follow suit during the next season reuter 3\",\n",
              " \"<sos> the agriculture department's widening of louisiana gulf differentials will affect county posted prices for number two yellow corn in ten states a usda official said all counties in iowa will be affected as will counties which use the gulf to price corn in illinois indiana tennessee kentucky missouri mississippi arkansas alabama and louisiana said <unk> <unk> deputy director of commodity operations division for the usda usda last night notified the grain industry that effective immediately all gulf differentials used to price interior corn would be widened on a sliding scale basis of four to eight cts depending on what the differential is usda's action was taken to lower excessively high posted county prices for corn caused by high gulf prices we've been following this louisiana gulf situation for a month and we don't think it's going to get back in line in any nearby time <unk> said <unk> said usda will probably narrow back the gulf differentials when and if gulf prices <unk> if we're off the mark now because we're too high wouldn't we be as much off the mark if we're too low he said while forecasting more adjustments if gulf prices fall <unk> said no other changes in usda's price system are being planned right now we don't tinker we don't make changes <unk> and we don't make changes often he said reuter 3\",\n",
              " '<sos> <unk> <unk> oil and gas partnership said it completed the sale of interests in two major oil and gas fields to lt energy assets international corp for 21 mln dlrs the company said it sold about one half of its 50 pct interest in the oak hill and north <unk> fields its two largest producing properties it said it used about 20 mln dlrs of the proceeds to <unk> principal on its senior secured notes semi annual principal payments on the remaining 40 mln dlrs of notes have been satisfied until december 1988 as a result it said the company said the note agreements were amended to reflect an easing of some financial covenants and an increase of interest to 13 5 pct from 13 0 pct until december 1990 it said the <unk> exercise price for 1 125 000 warrants was also reduced to 50 cts from 1 50 dlrs the company said energy assets agreed to share the costs of increasing production at the oak hill field reuter 3',\n",
              " '<sos> strong south <unk> winds were keeping many vessels trapped in the ice off the finnish and swedish coasts in one of the worst icy periods in the baltic for many years the finnish board of navigation said in finland and sweden up to 50 vessels were reported to be stuck in the ice and even the largest of the <unk> <unk> were having difficulties in breaking through to the <unk> ships <unk> officials said however icy conditions in the southern baltic at the soviet oil ports of <unk> and <unk> had eased they said weather officials in neighbouring sweden said the icy conditions in the baltic were the worst for 30 years with ships fighting a losing battle to keep moving in the coastal stretches of the gulf of <unk> which <unk> finland and sweden the ice is up to one <unk> thick with <unk> and <unk> packing it into almost <unk> walls three metres high swedish <unk> officials said weather forecasts say winds may ease during the weekend but a further drop in temperature could bring shipping to a standstill the officials said reuter 3']"
            ]
          },
          "metadata": {
            "tags": []
          },
          "execution_count": 21
        }
      ]
    },
    {
      "cell_type": "markdown",
      "metadata": {
        "id": "SISeyM7LKXem"
      },
      "source": [
        "4-4. 벡터화 하기\n",
        "원활한 실습을 위해 아래의 도구들을 먼저 임포트하겠습니다."
      ]
    },
    {
      "cell_type": "code",
      "metadata": {
        "id": "1gMa9nYCKTQe"
      },
      "source": [
        "from sklearn.feature_extraction.text import CountVectorizer\n",
        "from sklearn.feature_extraction.text import TfidfTransformer"
      ],
      "execution_count": null,
      "outputs": []
    },
    {
      "cell_type": "markdown",
      "metadata": {
        "id": "3Y95SfIgKcSQ"
      },
      "source": [
        "앞서 본 텍스트 분류의 과정을 표현한 그림을 다시 보겠습니다.\n",
        "\n",
        "![image.png](data:image/png;base64,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)\n",
        "\n",
        "텍스트 데이터가 있을 때, 모델의 입력으로 넣기 위해서는 우선 각 문서를 벡터화할 필요가 있습니다. 항상 그런 것은 아니지만, 일반적으로 텍스트 분류를 할 모델로 인공 신경망을 사용하는 경우, 벡터화 방법 또한 인공 신경망을 사용하는 것이 보편적입니다. Word Embedding, Document Embedding, Contextual Embedding 등 다양한 벡터화 방법이 존재하는데요.\n",
        "\n",
        "이번 실습에서는 딥러닝이 아닌 머신러닝 방법을 사용하여 텍스트 분류를 진행할 예정이니만큼, 벡터화 방법도 인공 신경망이 아닌 방법을 사용하겠습니다. 저희가 사용할 벡터화 방법은 Bag of Words 가설을 기반으로 하는 DTM, TF-IDF 행렬입니다.\n",
        "\n",
        "Bag of Words 가설과 이를 통해 만드는 DTM에 대한 정의는 아래의 링크를 통해 알아보겠습니다.\n",
        "\n",
        "[위키독스: 문서 단어 행렬(DTM)](https://wikidocs.net/24559)\n",
        "\n",
        "\n",
        "Q3. (O/X 퀴즈) 총 3개의 문서가 있습니다. 단어 단위로 토크나이징을 하였을 때, 첫 번째 문서의 길이가 3, 두 번째 문서의 길이가 2, 세 번째 문서의 길이가 4로 나왔습니다. 이 세 개의 문서로부터 만든 DTM의 열의 개수는 9입니다. (O/X)\n",
        "\n",
        "예시답안\n",
        "X\n",
        "DTM의 열의 개수는 중복을 제거한 단어들의 집합인 단어장(Vocabulary)의 크기를 가지므로 반드시 9라고 할 수는 없습니다. 문서 내 단어가 중복되어 있다면 9보다 작을 수 있습니다.\n",
        "\n",
        "Q4. DTM을 기반으로 문서를 군집하거나, 분류를 한다면 같은 단어가 많이 등장한 문서들일수록 그 유사도가 높다고 판단할 수 있을 것입니다. 군집이나 분류 시에 이러한 가정을 사용할 때 성능을 저하시킬 수 있는 요소가 있다면 무엇이 있을까요?\n",
        "\n",
        "예시답안\n",
        "불용어는 모든 문서에 자주 등장하지만 실제로 중요한 의미를 가지지는 않으므로 이러한 가정에서는 성능 저하의 원인이 될 수 있습니다.\n",
        "\n",
        "\n",
        "Document Term Matrix, DTM은 사이킷런의 CountVectorizer()를 통해서 생성할 수 있습니다.\n",
        "\n",
        "DTM을 생성하고, DTM의 크기를 확인해보겠습니다."
      ]
    },
    {
      "cell_type": "code",
      "metadata": {
        "colab": {
          "base_uri": "https://localhost:8080/"
        },
        "id": "j6RKRh08Kf_z",
        "outputId": "b647b975-7465-4274-a185-b5b11b4eff20"
      },
      "source": [
        "dtmvector = CountVectorizer()\n",
        "x_train_dtm = dtmvector.fit_transform(x_train)\n",
        "print(x_train_dtm.shape)"
      ],
      "execution_count": null,
      "outputs": [
        {
          "output_type": "stream",
          "text": [
            "(8982, 9670)\n"
          ],
          "name": "stdout"
        }
      ]
    },
    {
      "cell_type": "markdown",
      "metadata": {
        "id": "BcVOteogLNJQ"
      },
      "source": [
        "훈련용 뉴스의 수가 총 8,982개였기 때문에 DTM의 행의 개수는 8,982개가 됩니다. 그런데 이상한 점은 앞에서 데이터를 로드할 때, num_words=10,000이라는 값을 사용했음에도 DTM 열의 개수는 이보다 현저하게 적은 9,670개밖에 되지 않습니다.이는 DTM이 자체적인 규칙에 따라서 불필요하다고 판단하는 토큰들을 제거하기 때문입니다.\n",
        "\n",
        "DTM 행렬을 이어서 TF-IDF 행렬을 만들어보겠습니다. TF-IDF 행렬은 퀴즈 4에서 알아본 DTM의 단점을 보정해주는 효과를 가지고 있습니다. TF-IDF 행렬에 대한 설명은 아래의 글을 참고하겠습니다.\n",
        "\n",
        "[위키독스: TF-IDF](https://wikidocs.net/31698)\n",
        "\n",
        "Q5. (O/X 퀴즈) TF-IDF 행렬은 모든 문서에 걸쳐서 중요하다고 판단되는 단어에 가중치를 주는 효과를 가지고 있습니다. 만약, 모든 문서에 걸쳐서 자주 등장하는 단어라면 TF-IDF는 다른 단어들보다 상대적으로 높은 가중치를 주게 됩니다.\n",
        "\n",
        "예시답안\n",
        "X\n",
        "모든 문서에 걸쳐서 자주 등장한다면 다른 단어들보다 중요도가 낮은 단어로 판단합니다.\n"
      ]
    },
    {
      "cell_type": "code",
      "metadata": {
        "colab": {
          "base_uri": "https://localhost:8080/"
        },
        "id": "alWtU3MtLFyg",
        "outputId": "ea80c3d5-b2ea-4870-ff13-5c7197501c1c"
      },
      "source": [
        "tfidf_transformer = TfidfTransformer()\n",
        "tfidfv = tfidf_transformer.fit_transform(x_train_dtm)\n",
        "print(tfidfv.shape)"
      ],
      "execution_count": null,
      "outputs": [
        {
          "output_type": "stream",
          "text": [
            "(8982, 9670)\n"
          ],
          "name": "stdout"
        }
      ]
    },
    {
      "cell_type": "markdown",
      "metadata": {
        "id": "utmJkyjMLnbC"
      },
      "source": [
        "#4-5. 나이브 베이즈 분류기\n"
      ]
    },
    {
      "cell_type": "code",
      "metadata": {
        "id": "dlDXvTfDLia7"
      },
      "source": [
        "from sklearn.naive_bayes import MultinomialNB #다항분포 나이브 베이즈 모델\n",
        "from sklearn.linear_model import LogisticRegression, SGDClassifier\n",
        "from sklearn.naive_bayes import ComplementNB\n",
        "from sklearn.tree import DecisionTreeClassifier\n",
        "from sklearn.ensemble import RandomForestClassifier\n",
        "from sklearn.ensemble import GradientBoostingClassifier\n",
        "from sklearn.ensemble import VotingClassifier\n",
        "from sklearn.svm import LinearSVC\n",
        "from sklearn.metrics import accuracy_score #정확도 계산"
      ],
      "execution_count": null,
      "outputs": []
    },
    {
      "cell_type": "markdown",
      "metadata": {
        "id": "T0dtmmm_LyQ1"
      },
      "source": [
        "먼저 아래 영상을 통해서 나이브 베이즈 분류기에 대해 간단히 알아보겠습니다.\n",
        "\n",
        "https://youtu.be/3JWLIV3NaoQ\n",
        "\n",
        "\n",
        "Q6. 모든 메일에는 같은 단어가 중복으로 등장하지 않는다고 가정하였을 때, 베이즈 정리만을 이용하여 coupon이라는 단어가 들어갔을 때 해당 메일이 스팸 메일일 확률을 구해보세요. 가정은 아래와 같습니다!\n",
        "\n",
        "\n",
        "```\n",
        "총 8개의 메일 중에 4개의 메일이 스팸 메일입니다.\n",
        "\n",
        "전체 메일 중에서 coupon이라는 단어가 들어간 메일은 3개입니다.\n",
        "\n",
        "모든 스팸 메일 중에서 단어 coupon이 들어간 메일은 2개입니다.\n",
        "\n",
        "예시답안\n",
        "\n",
        "총 8개의 메일 중 4개의 메일이 스팸 메일이므로 P(spam) = 4/8 = 1/2\n",
        "\n",
        "총 8개의 메일 중 3개의 메일이 coupon이라는 단어를 포함하므로 P(coupon) = 3/8\n",
        "\n",
        "총 4개의 스팸 메일 중 2개의 메일이 coupon이라는 단어를 포함하므로 P(coupon | spam) = 2/4 = 1/2\n",
        "\n",
        "\n",
        "P(coupon | spam)과 P(spam)를 곱한 후에 P(coupon)로 나눠줍니다.\n",
        "정답은 2/3 즉, 66.7%입니다.\n",
        "```\n",
        "\n",
        "나이브 베이즈 분류기는 사이킷런의 MultinomialNB()를 통해 사용할 수 있습니다.\n",
        "\n",
        "사이킷런이 제공하는 머신러닝 모델들은 공통적으로 fit()이라는 함수를 제공하고 있는데요.\n",
        "\n",
        "훈련 데이터와 해당 훈련 데이터에 대한 레이블을 인자로 사용하면 모델이 이를 학습합니다.\n"
      ]
    },
    {
      "cell_type": "code",
      "metadata": {
        "colab": {
          "base_uri": "https://localhost:8080/"
        },
        "id": "2yOTCs1aLvvx",
        "outputId": "224649ca-2ce6-4bac-8382-45dc89fa65bc"
      },
      "source": [
        "mod = MultinomialNB()\n",
        "mod.fit(tfidfv, y_train)"
      ],
      "execution_count": null,
      "outputs": [
        {
          "output_type": "execute_result",
          "data": {
            "text/plain": [
              "MultinomialNB(alpha=1.0, class_prior=None, fit_prior=True)"
            ]
          },
          "metadata": {
            "tags": []
          },
          "execution_count": 28
        }
      ]
    },
    {
      "cell_type": "markdown",
      "metadata": {
        "id": "9zAXeZ2QMXtw"
      },
      "source": [
        "테스트 데이터에 대한 정확도를 측정하기 위해서는 훈련 데이터와 동일한 전처리를 거쳐야 합니다. 다시 말해 테스트 데이터도 TF-IDF 행렬로 변환해 주어야 합니다. 그리고 해당 행렬과 predict() 함수를 통해 예측값을 얻어 정확도를 측정합니다."
      ]
    },
    {
      "cell_type": "code",
      "metadata": {
        "colab": {
          "base_uri": "https://localhost:8080/"
        },
        "id": "cOt38LRHMYEQ",
        "outputId": "f6d7dcbc-e504-4c85-f7d5-63640fc92346"
      },
      "source": [
        "x_test_dtm = dtmvector.transform(x_test) #테스트 데이터를 DTM으로 변환\n",
        "tfidfv_test = tfidf_transformer.transform(x_test_dtm) #DTM을 TF-IDF 행렬로 변환\n",
        "\n",
        "predicted = mod.predict(tfidfv_test) #테스트 데이터에 대한 예측\n",
        "print(\"정확도:\", accuracy_score(y_test, predicted)) #예측값과 실제값 비교"
      ],
      "execution_count": null,
      "outputs": [
        {
          "output_type": "stream",
          "text": [
            "정확도: 0.6567230632235085\n"
          ],
          "name": "stdout"
        }
      ]
    },
    {
      "cell_type": "markdown",
      "metadata": {
        "id": "o3FIWOvINkpa"
      },
      "source": [
        "65%의 정확도를 얻습니다. 사실 그렇게 좋은 성능은 아닙니다. 뒤에서 다른 모델들을 통해서 더 좋은 성능을 얻기 위해서 노력해 봅시다.\n",
        "\n",
        "나이브 베이즈 분류기가 임의의 샘플에 대해서 클래스를 정확히 예측하는지 테스트를 해보겠습니다. 네 번째 샘플(인덱스 상으로는 3)의 원문을 출력하면 다음과 같습니다."
      ]
    },
    {
      "cell_type": "code",
      "metadata": {
        "colab": {
          "base_uri": "https://localhost:8080/",
          "height": 154
        },
        "id": "IfftDK80Ng__",
        "outputId": "ded27de8-9709-41d0-a5e8-75e8c34a8d55"
      },
      "source": [
        "x_test[3]"
      ],
      "execution_count": null,
      "outputs": [
        {
          "output_type": "execute_result",
          "data": {
            "application/vnd.google.colaboratory.intrinsic+json": {
              "type": "string"
            },
            "text/plain": [
              "'<sos> <unk> <unk> oil and gas partnership said it completed the sale of interests in two major oil and gas fields to lt energy assets international corp for 21 mln dlrs the company said it sold about one half of its 50 pct interest in the oak hill and north <unk> fields its two largest producing properties it said it used about 20 mln dlrs of the proceeds to <unk> principal on its senior secured notes semi annual principal payments on the remaining 40 mln dlrs of notes have been satisfied until december 1988 as a result it said the company said the note agreements were amended to reflect an easing of some financial covenants and an increase of interest to 13 5 pct from 13 0 pct until december 1990 it said the <unk> exercise price for 1 125 000 warrants was also reduced to 50 cts from 1 50 dlrs the company said energy assets agreed to share the costs of increasing production at the oak hill field reuter 3'"
            ]
          },
          "metadata": {
            "tags": []
          },
          "execution_count": 30
        }
      ]
    },
    {
      "cell_type": "markdown",
      "metadata": {
        "id": "U_fOs4PENoKm"
      },
      "source": [
        "이 샘플의 레이블은 몇이었을까요?"
      ]
    },
    {
      "cell_type": "code",
      "metadata": {
        "colab": {
          "base_uri": "https://localhost:8080/"
        },
        "id": "A10UzS00NnBG",
        "outputId": "7e5965b8-2d22-4bb9-aeba-34375c5399c9"
      },
      "source": [
        "y_test[3]"
      ],
      "execution_count": null,
      "outputs": [
        {
          "output_type": "execute_result",
          "data": {
            "text/plain": [
              "4"
            ]
          },
          "metadata": {
            "tags": []
          },
          "execution_count": 31
        }
      ]
    },
    {
      "cell_type": "markdown",
      "metadata": {
        "id": "CaJ4rcX2NuS8"
      },
      "source": [
        "이 샘플의 레이블은 4네요. 과연 모델은 제대로 예측하고 있는지 그리고 어느 정도의 확신을 가지고 판단하는지 모델이 결정한 확률을 그래프로 시각화해봅시다."
      ]
    },
    {
      "cell_type": "code",
      "metadata": {
        "colab": {
          "base_uri": "https://localhost:8080/",
          "height": 161
        },
        "id": "MgKxIMG1Nq-0",
        "outputId": "58dc93b4-f3b4-4849-b304-a8ef49f7a10c"
      },
      "source": [
        "plt.subplot(211)\n",
        "plt.rcParams[\"figure.figsize\"] = (10,10)\n",
        "plt.bar(mod.classes_, mod.predict_proba(tfidfv_test[3])[0])\n",
        "plt.xlim(-1, 21)\n",
        "plt.xticks(mod.classes_)\n",
        "plt.xlabel(\"Class\")\n",
        "plt.ylabel(\"Probability\")\n",
        "plt.show()"
      ],
      "execution_count": null,
      "outputs": [
        {
          "output_type": "display_data",
          "data": {
            "image/png": "[encoded data removed]",
            "text/plain": [
              "<Figure size 432x288 with 1 Axes>"
            ]
          },
          "metadata": {
            "tags": []
          }
        }
      ]
    },
    {
      "cell_type": "code",
      "metadata": {
        "colab": {
          "base_uri": "https://localhost:8080/"
        },
        "id": "7FSdU0jMNwDN",
        "outputId": "c184f2f9-1c06-4e54-c785-1c904a23808c"
      },
      "source": [
        "mod.predict(tfidfv_test[3])"
      ],
      "execution_count": null,
      "outputs": [
        {
          "output_type": "execute_result",
          "data": {
            "text/plain": [
              "array([4])"
            ]
          },
          "metadata": {
            "tags": []
          },
          "execution_count": 33
        }
      ]
    },
    {
      "cell_type": "markdown",
      "metadata": {
        "id": "UJ2sEV0IN8Z8"
      },
      "source": [
        "모델은 4번 클래스를 약 90%의 확률로 확신하는데, 10%의 확률로 3번 클래스라고 판단합니다. 90%의 확률로 확신하므로 모델이 예측한 레이블은 4번입니다. 해당 샘플은 정확하게 예측했네요.\n",
        "\n",
        "\n",
        "# 4-6. F1-Score, Confusion Matrix\n",
        "\n",
        "오늘의 실습에서는 성능 비교를 위한 척도로 정확도(Accuracy)를 사용합니다. 하지만 Accuracy 외에 또 다른 방법인 F1-score도 존재하는데요."
      ]
    },
    {
      "cell_type": "code",
      "metadata": {
        "id": "WgqHSe1bN5QO"
      },
      "source": [
        "from sklearn.metrics import classification_report\n",
        "from sklearn.metrics import confusion_matrix"
      ],
      "execution_count": null,
      "outputs": []
    },
    {
      "cell_type": "markdown",
      "metadata": {
        "id": "CyqU5xwsOMU-"
      },
      "source": [
        "Precision, Recall & F1 Score\n",
        "아래의 글을 통해서 Precision과 Recall 그리고 F1 score에 대한 설명을 읽어봅시다.\n",
        "\n",
        "분류성능평가지표 - Precision(정밀도), Recall(재현율) and Accuracy(정확도)\n",
        "Q7. Accuracy는 가장 직관적으로 모델의 성능을 나타낼 수 있는 평가 지표입니다. 하지만, [   ]인 경우를 제대로 고려하지 못하기 때문에 [   ]인 경우에는 이를 고려한 f1-score를 사용하기도 합니다. [   ]에 들어갈 설명은 무엇일까요?\n",
        "\n",
        "label 불균형\n",
        "\n",
        "사이킷런의 metrics 패키지에서는 정밀도, 재현율, F1점수를 구하는 classification_report() 함수를 제공합니다. 이 함수는 각각의 클래스를 양성(positive) 클래스로 보았을 때의 정밀도, 재현율, F1점수를 각각 구하고 그 평균값으로 전체 모델의 성능을 평가합니다.\n",
        "\n"
      ]
    },
    {
      "cell_type": "code",
      "metadata": {
        "colab": {
          "base_uri": "https://localhost:8080/"
        },
        "id": "6HmqHpT_OKAT",
        "outputId": "977ed11e-f4a3-4438-803a-b425567cdb91"
      },
      "source": [
        "print(classification_report(y_test, mod.predict(tfidfv_test)))"
      ],
      "execution_count": null,
      "outputs": [
        {
          "output_type": "stream",
          "text": [
            "              precision    recall  f1-score   support\n",
            "\n",
            "           0       0.00      0.00      0.00        12\n",
            "           1       0.62      0.69      0.65       105\n",
            "           2       0.00      0.00      0.00        20\n",
            "           3       0.81      0.90      0.85       813\n",
            "           4       0.51      0.96      0.67       474\n",
            "           5       0.00      0.00      0.00         5\n",
            "           6       0.00      0.00      0.00        14\n",
            "           7       0.00      0.00      0.00         3\n",
            "           8       0.00      0.00      0.00        38\n",
            "           9       1.00      0.08      0.15        25\n",
            "          10       0.00      0.00      0.00        30\n",
            "          11       0.66      0.63      0.64        83\n",
            "          12       0.00      0.00      0.00        13\n",
            "          13       1.00      0.03      0.05        37\n",
            "          14       0.00      0.00      0.00         2\n",
            "          15       0.00      0.00      0.00         9\n",
            "          16       0.69      0.56      0.61        99\n",
            "          17       0.00      0.00      0.00        12\n",
            "          18       0.00      0.00      0.00        20\n",
            "          19       0.60      0.78      0.68       133\n",
            "          20       1.00      0.04      0.08        70\n",
            "          21       0.00      0.00      0.00        27\n",
            "          22       0.00      0.00      0.00         7\n",
            "          23       0.00      0.00      0.00        12\n",
            "          24       0.00      0.00      0.00        19\n",
            "          25       1.00      0.03      0.06        31\n",
            "          26       0.00      0.00      0.00         8\n",
            "          27       0.00      0.00      0.00         4\n",
            "          28       0.00      0.00      0.00        10\n",
            "          29       0.00      0.00      0.00         4\n",
            "          30       0.00      0.00      0.00        12\n",
            "          31       0.00      0.00      0.00        13\n",
            "          32       0.00      0.00      0.00        10\n",
            "          33       0.00      0.00      0.00         5\n",
            "          34       0.00      0.00      0.00         7\n",
            "          35       0.00      0.00      0.00         6\n",
            "          36       0.00      0.00      0.00        11\n",
            "          37       0.00      0.00      0.00         2\n",
            "          38       0.00      0.00      0.00         3\n",
            "          39       0.00      0.00      0.00         5\n",
            "          40       0.00      0.00      0.00        10\n",
            "          41       0.00      0.00      0.00         8\n",
            "          42       0.00      0.00      0.00         3\n",
            "          43       0.00      0.00      0.00         6\n",
            "          44       0.00      0.00      0.00         5\n",
            "          45       0.00      0.00      0.00         1\n",
            "\n",
            "    accuracy                           0.66      2246\n",
            "   macro avg       0.17      0.10      0.10      2246\n",
            "weighted avg       0.59      0.66      0.58      2246\n",
            "\n"
          ],
          "name": "stdout"
        },
        {
          "output_type": "stream",
          "text": [
            "/usr/local/lib/python3.7/dist-packages/sklearn/metrics/_classification.py:1272: UndefinedMetricWarning: Precision and F-score are ill-defined and being set to 0.0 in labels with no predicted samples. Use `zero_division` parameter to control this behavior.\n",
            "  _warn_prf(average, modifier, msg_start, len(result))\n"
          ],
          "name": "stderr"
        }
      ]
    },
    {
      "cell_type": "markdown",
      "metadata": {
        "id": "mGa2t_LjOfqe"
      },
      "source": [
        "최종 결과에서 각각이 의미하는 바는 다음과 같습니다.\n",
        "\n",
        "macro: 단순평균\n",
        "weighted: 각 클래스에 속하는 표본의 개수로 가중평균\n",
        "accuracy: 정확도. 전체 학습 데이터의 개수에서 클래스를 정확하게 맞춘 개수의 비율.\n",
        "Confusion Matrix\n",
        "Confusion Matrix는 사실 생소한 개념이라기보다는 앞서 f1-score를 이해하기 위해 읽었던 위의 글의 가장 처음에 있던 행렬입니다. Confusion matrix를 아래의 동영상을 통해 이해해 봅시다.\n",
        "\n",
        "https://youtu.be/M0GBAzFV9_A\n",
        "\n",
        "\n",
        "지금까지 배운 내용들을 아래의 링크를 통해 간단히 정리해 보겠습니다!\n",
        "\n",
        "[Confusion Matrix 혼동 행렬](https://mjdeeplearning.tistory.com/31)\n",
        "Q8. TP와 FN에 대해서 각각 설명해보세요.\n",
        "예시답안\n",
        "TP는 True로 예측하고 실제 값도 True, FN은 False로 예측하고 실제는 True\n",
        "\n",
        "아래의 함수를 통해서 혼동 행렬(confusion matrix)을 시각화할 수 있습니다.\n",
        "\n",
        "\n"
      ]
    },
    {
      "cell_type": "code",
      "metadata": {
        "id": "cfm-0EPKOXfn"
      },
      "source": [
        "def graph_confusion_matrix(model, x_test, y_test):#, classes_name):\n",
        "  df_cm = pd.DataFrame(confusion_matrix(y_test, model.predict(x_test)))#, index=classes_name, columns=classes_name)\n",
        "  fig = plt.figure(figsize=(15,15))\n",
        "  heatmap = sns.heatmap(df_cm, annot=True, fmt=\"d\")\n",
        "  heatmap.yaxis.set_ticklabels(heatmap.yaxis.get_ticklabels(), rotation=0, ha='right', fontsize=12)\n",
        "  heatmap.xaxis.set_ticklabels(heatmap.xaxis.get_ticklabels(), rotation=45, ha='right', fontsize=12)\n",
        "  plt.ylabel('label')\n",
        "  plt.xlabel('predicted value')"
      ],
      "execution_count": null,
      "outputs": []
    },
    {
      "cell_type": "code",
      "metadata": {
        "colab": {
          "base_uri": "https://localhost:8080/",
          "height": 887
        },
        "id": "TVDLJ2-ROyJy",
        "outputId": "5554ef6c-31c8-4c94-cadc-ab49407cefd1"
      },
      "source": [
        "graph_confusion_matrix(mod, tfidfv_test, y_test)"
      ],
      "execution_count": null,
      "outputs": [
        {
          "output_type": "display_data",
          "data": {
            "image/png": "[encoded data removed]",
            "text/plain": [
              "<Figure size 1080x1080 with 2 Axes>"
            ]
          },
          "metadata": {
            "tags": []
          }
        }
      ]
    },
    {
      "cell_type": "markdown",
      "metadata": {
        "id": "IjWHYlwyO8Ps"
      },
      "source": [
        "# 4-7. 다양한 머신러닝 모델 사용해보기 (1)\n",
        "앞서 사용한 나이브 베이즈 분류기(MultinomialNB)로는 65%의 정확도밖에 얻지 못했습니다. 사실 클래스의 개수가 46개인 것을 감안해도 그리 좋은 성능은 아닙니다. 좀 더 좋은 성능을 얻기 위해서 여러 다른 모델들을 시도해 봅시다.\n",
        "\n",
        "Complement Naive Bayes Classifier(CNB)\n",
        "나이브 베이지안 분류기는 조건부로 독립적이라는 가정을 하기 때문에, 문서가 특정 분류에 속할 실제 확률로 사용할 때 문제가 발생할 수 있습니다. 바로 많은 샘플(sample)이 특정 클래스에 치우쳐져 있을 경우, 결정 경계의 가중치가 한쪽으로 치우쳐져 모델이 특정 클래스를 선호할 수 있다는 점인데요. 앞서 우리는 로이터 뉴스 데이터에서 3번, 4번 클래스가 다른 클래스에 비해 상대적으로 많은 클래스를 갖고 있음을 확인했었죠.\n",
        "\n",
        "이렇게 데이터가 불균형할 경우를 대비해서 나이브 베이즈 분류기를 보완한 것이 컴플리먼트 나이브 베이즈 분류기입니다. 컴플리먼트 나이브 베이즈 분류기는 데이터의 불균형을 고려하여 가중치를 부여하는 특징을 가지고 있습니다. 컴플리먼트 나이브 베이즈 분류기는 앞서 사용한 나이브 베이즈 분류기 즉, MultinomialNB보다 성능이 일반적으로 더 좋다고 할 수 있습니다."
      ]
    },
    {
      "cell_type": "code",
      "metadata": {
        "colab": {
          "base_uri": "https://localhost:8080/"
        },
        "id": "G7XmXLJ0O00D",
        "outputId": "dae0b880-a448-4d8b-b7c1-8f2f4a5b95d3"
      },
      "source": [
        "cb = ComplementNB()\n",
        "cb.fit(tfidfv, y_train)"
      ],
      "execution_count": null,
      "outputs": [
        {
          "output_type": "execute_result",
          "data": {
            "text/plain": [
              "ComplementNB(alpha=1.0, class_prior=None, fit_prior=True, norm=False)"
            ]
          },
          "metadata": {
            "tags": []
          },
          "execution_count": 38
        }
      ]
    },
    {
      "cell_type": "code",
      "metadata": {
        "colab": {
          "base_uri": "https://localhost:8080/"
        },
        "id": "gvNIXC7hPAJy",
        "outputId": "29098d0c-e21f-4dab-a10e-1669a6bfc21a"
      },
      "source": [
        "predicted = cb.predict(tfidfv_test) #테스트 데이터에 대한 예측\n",
        "print(\"정확도:\", accuracy_score(y_test, predicted)) #예측값과 실제값 비교"
      ],
      "execution_count": null,
      "outputs": [
        {
          "output_type": "stream",
          "text": [
            "정확도: 0.7707034728406055\n"
          ],
          "name": "stdout"
        }
      ]
    },
    {
      "cell_type": "markdown",
      "metadata": {
        "id": "spFhYLi3PJbO"
      },
      "source": [
        "로지스틱 회귀(Logistic Regression)\n",
        "다음으로는 가장 널리 알려진 두 개의 선형 분류 알고리즘인 로지스틱 회귀와 서포트 벡터 머신을 통해서 로이터 뉴스를 분류해 봅시다.\n",
        "\n",
        "로지스틱 회귀는 소프트맥스(softmax) 함수를 사용한 다중 클래스 분류 알고리즘을 지원합니다. 다중 클래스 분류를 위한 로지스틱 회귀를 소프트맥스 회귀(Softmax Regression)라고도 합니다. 주의할 점은 이름은 회귀지만, 실제로는 분류를 수행한다는 점입니다.\n",
        "\n",
        "![image.png](data:image/png;base64,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)\n",
        "\n",
        "\n",
        "소프트맥스 함수는 클래스가 N개일 때, N차원의 벡터가 각 클래스가 정답일 확률을 표현하도록 정규화를 해주는 함수입니다. 예를 들어 위의 그림은 4차원의 벡터를 입력으로 받으면서 3개의 클래스를 가지는 경우의 소프트맥스 회귀의 동작 과정을 보여주고 있습니다. 3개의 클래스 중 1개의 클래스를 예측해야 하므로 소프트맥스 회귀의 출력은 3차원의 벡터고, 각 벡터의 차원은 특정 클래스일 확률입니다. 그리고 오차와 실제값의 차이를 줄이는 과정에서 가중치와 편향이 학습됩니다.\n",
        "\n",
        "사이킷런에서 소프트맥스 회귀는 LogisticRegression()을 통해서 구현할 수 있습니다.\n",
        "\n"
      ]
    },
    {
      "cell_type": "code",
      "metadata": {
        "colab": {
          "base_uri": "https://localhost:8080/"
        },
        "id": "oP4TEIvQPGJA",
        "outputId": "fa684958-d68d-4786-f7c5-ff2c88dc9753"
      },
      "source": [
        "lr = LogisticRegression(C=10000, penalty='l2')\n",
        "lr.fit(tfidfv, y_train)"
      ],
      "execution_count": null,
      "outputs": [
        {
          "output_type": "stream",
          "text": [
            "/usr/local/lib/python3.7/dist-packages/sklearn/linear_model/_logistic.py:940: ConvergenceWarning: lbfgs failed to converge (status=1):\n",
            "STOP: TOTAL NO. of ITERATIONS REACHED LIMIT.\n",
            "\n",
            "Increase the number of iterations (max_iter) or scale the data as shown in:\n",
            "    https://scikit-learn.org/stable/modules/preprocessing.html\n",
            "Please also refer to the documentation for alternative solver options:\n",
            "    https://scikit-learn.org/stable/modules/linear_model.html#logistic-regression\n",
            "  extra_warning_msg=_LOGISTIC_SOLVER_CONVERGENCE_MSG)\n"
          ],
          "name": "stderr"
        },
        {
          "output_type": "execute_result",
          "data": {
            "text/plain": [
              "LogisticRegression(C=10000, class_weight=None, dual=False, fit_intercept=True,\n",
              "                   intercept_scaling=1, l1_ratio=None, max_iter=100,\n",
              "                   multi_class='auto', n_jobs=None, penalty='l2',\n",
              "                   random_state=None, solver='lbfgs', tol=0.0001, verbose=0,\n",
              "                   warm_start=False)"
            ]
          },
          "metadata": {
            "tags": []
          },
          "execution_count": 40
        }
      ]
    },
    {
      "cell_type": "code",
      "metadata": {
        "colab": {
          "base_uri": "https://localhost:8080/"
        },
        "id": "uv1rPoc6Pr6K",
        "outputId": "0f5a7571-1ca9-434b-97c6-ec5159f75ae9"
      },
      "source": [
        "predicted = lr.predict(tfidfv_test) #테스트 데이터에 대한 예측\n",
        "print(\"정확도:\", accuracy_score(y_test, predicted)) #예측값과 실제값 비교"
      ],
      "execution_count": null,
      "outputs": [
        {
          "output_type": "stream",
          "text": [
            "정확도: 0.8076580587711487\n"
          ],
          "name": "stdout"
        }
      ]
    },
    {
      "cell_type": "markdown",
      "metadata": {
        "id": "syTvP215PyqS"
      },
      "source": [
        "80%의 정확도를 얻었습니다. 지금까지의 모델 중 가장 높은 정확도를 얻었습니다.\n",
        "\n",
        "선형 서포트 벡터 머신\n",
        "서포트 벡터 머신은 대표적인 선형 분류 알고리즘입니다.\n",
        "\n",
        "아래의 영상을 통해 서포트 벡터 머신에 대해서 이해해보겠습니다.\n",
        "\n",
        "https://youtu.be/y4CYcpRiNsw\n",
        "\n",
        "Q9. 서포트 벡터 머신에서 서포트 벡터란 어떤 벡터를 의미하는지 설명해보세요.\n",
        "\n",
        "많은 선형 분류 모델은 태생적으로는 이진 분류만을 지원하는 이진 분류 모델입니다. (위에서 설명한 로지스틱 회귀는 예외입니다.) 서포트 벡터 머신의 구현체인 사이킷런의 LinearSVC 또한 태생적으로는 이진 분류를 위한 모델입니다. 그런데 이진 분류 알고리즘을 다중 클래스 분류 알고리즘으로 사용하는 방법이 있습니다. 바로 일대다(one-vs.-rest 또는 one-vs.-all) 방법입니다. 일대다 방식은 각 클래스를 다른 모든 클래스와 구분하도록 이진 분류 모델을 학습시킵니다.\n",
        "\n",
        "결국 클래스의 수만큼 이진 분류 모델이 만들어집니다. 예측할 때는 만들어진 모든 이진 분류기가 작동하여 가장 높은 점수를 내는 분류기의 클래스를 예측값으로 선택합니다. 서포트 벡터 머신을 사용하여 로이터 뉴스를 분류해봅시다."
      ]
    },
    {
      "cell_type": "code",
      "metadata": {
        "colab": {
          "base_uri": "https://localhost:8080/"
        },
        "id": "VwVpg6ADPwGw",
        "outputId": "42528d92-620c-433d-c6c6-086745260f52"
      },
      "source": [
        "lsvc = LinearSVC(C=1000, penalty='l1', max_iter=500, dual=False)\n",
        "lsvc.fit(tfidfv, y_train)"
      ],
      "execution_count": null,
      "outputs": [
        {
          "output_type": "stream",
          "text": [
            "/usr/local/lib/python3.7/dist-packages/sklearn/svm/_base.py:947: ConvergenceWarning: Liblinear failed to converge, increase the number of iterations.\n",
            "  \"the number of iterations.\", ConvergenceWarning)\n"
          ],
          "name": "stderr"
        },
        {
          "output_type": "execute_result",
          "data": {
            "text/plain": [
              "LinearSVC(C=1000, class_weight=None, dual=False, fit_intercept=True,\n",
              "          intercept_scaling=1, loss='squared_hinge', max_iter=500,\n",
              "          multi_class='ovr', penalty='l1', random_state=None, tol=0.0001,\n",
              "          verbose=0)"
            ]
          },
          "metadata": {
            "tags": []
          },
          "execution_count": 42
        }
      ]
    },
    {
      "cell_type": "code",
      "metadata": {
        "colab": {
          "base_uri": "https://localhost:8080/"
        },
        "id": "nJsTvvUxQAtY",
        "outputId": "0ec352b0-7107-48fb-b0b8-9acefc6f59e8"
      },
      "source": [
        "predicted = lsvc.predict(tfidfv_test) #테스트 데이터에 대한 예측\n",
        "print(\"정확도:\", accuracy_score(y_test, predicted)) #예측값과 실제값 비교"
      ],
      "execution_count": null,
      "outputs": [
        {
          "output_type": "stream",
          "text": [
            "정확도: 0.7711487088156723\n"
          ],
          "name": "stdout"
        }
      ]
    },
    {
      "cell_type": "markdown",
      "metadata": {
        "id": "WB212H7EQLb5"
      },
      "source": [
        "# 4-8. 다양한 머신러닝 모델 사용해보기 (2)\n",
        "결정 트리(Decision Tree)\n",
        "결정 트리는 분류와 회귀 문제에 널리 사용하는 모델입니다. 기본적으로 결정 트리는 결정에 다다르기 위해 예/아니오 질문을 이어 나가면서 학습합니다. 이 질문은 스무고개 놀이의 질문과 비슷합니다. 아래의 영상을 통해서 결정 트리에 대해서 이해해봅시다.\n",
        "\n",
        "https://youtu.be/n0p0120Gxqk\n",
        "\n",
        "사이킷런에서는 DecisionTreeClassifier()를 사용해서 결정 트리를 구현할 수 있습니다. 결정 트리의 깊이는 max_depth라는 인자를 통해서 정해줄 수 있습니다."
      ]
    },
    {
      "cell_type": "code",
      "metadata": {
        "colab": {
          "base_uri": "https://localhost:8080/"
        },
        "id": "9v0o2_ePQJXj",
        "outputId": "3f91da2f-9e19-470e-efa1-713b0a818db5"
      },
      "source": [
        "tree = DecisionTreeClassifier(max_depth=10, random_state=0)\n",
        "tree.fit(tfidfv, y_train)"
      ],
      "execution_count": null,
      "outputs": [
        {
          "output_type": "execute_result",
          "data": {
            "text/plain": [
              "DecisionTreeClassifier(ccp_alpha=0.0, class_weight=None, criterion='gini',\n",
              "                       max_depth=10, max_features=None, max_leaf_nodes=None,\n",
              "                       min_impurity_decrease=0.0, min_impurity_split=None,\n",
              "                       min_samples_leaf=1, min_samples_split=2,\n",
              "                       min_weight_fraction_leaf=0.0, presort='deprecated',\n",
              "                       random_state=0, splitter='best')"
            ]
          },
          "metadata": {
            "tags": []
          },
          "execution_count": 44
        }
      ]
    },
    {
      "cell_type": "code",
      "metadata": {
        "colab": {
          "base_uri": "https://localhost:8080/"
        },
        "id": "pKI04FXWQR5t",
        "outputId": "86855106-9c7b-457a-9147-505f97d10065"
      },
      "source": [
        "predicted = tree.predict(tfidfv_test) #테스트 데이터에 대한 예측\n",
        "print(\"정확도:\", accuracy_score(y_test, predicted)) #예측값과 실제값 비교"
      ],
      "execution_count": null,
      "outputs": [
        {
          "output_type": "stream",
          "text": [
            "정확도: 0.6202137132680321\n"
          ],
          "name": "stdout"
        }
      ]
    },
    {
      "cell_type": "markdown",
      "metadata": {
        "id": "61edsMQPQXIs"
      },
      "source": [
        "지금까지의 모델 중 가장 낮은 정확도인 62%를 얻습니다. 사실 트리 계열의 모델들은 고차원이고 희소한 데이터에 대해서는 성능이 나오지 않는다는 특징이 있습니다. DTM이나 TF-IDF 행렬의 경우 고차원이면서 대부분의 값이 0인 희소한 데이터이므로 트리 계열의 모델보다는 선형 분류 모델을 통해 접근하는 것이 더 나은 접근일 수 있습니다.\n",
        "\n",
        "## 랜덤 포레스트(Random Forest)\n",
        "\n",
        "앙상블(Ensemble)이란 여러 머신러닝 모델을 연결하여 더 강력한 모델을 만드는 기법입니다. 뒤에서 보팅(Voting)이라는 앙상블 기법을 알아볼 텐데, 모델 자체가 앙상블을 사용하는 앙상블 모델들도 존재합니다. 랜덤 포레스트와 그래디언트 부스팅 트리는 결정 트리를 사용하는 앙상블 모델입니다.\n",
        "\n",
        "랜덤 포레스트에 대해서 아래의 영상을 통해서 이해해보겠습니다.\n",
        "\n",
        "https://youtu.be/nZB37IBCiSA\n",
        "\n",
        "Q10. 위 영상에서 언급된 결정 트리의 단점을 랜덤 포레스트는 해결할 수 있다고 합니다. 영상에서 언급된 단점이 무엇이었는지 언급해보고 랜덤 포레스트가 어떻게 그 문제를 해결할 수 있는지 토의해봅시다.\n",
        "\n",
        "예시답안\n",
        "결정 트리는 훈련 데이터에 과적합(Overfitting) 되는 경향이 있습니다. 랜덤 포레스트는 이 문제를 앙상블로 해결합니다. 가령, 서로 다른 방향으로 과적합 된 트리들을 조합하면 오히려 모델 전체에서는 과적합을 피할 수 있다는 것이죠.\n",
        "\n",
        "랜덤 포레스트로 모델을 훈련시키고, 테스트 데이터에 대해서 정확도를 평가해 봅시다."
      ]
    },
    {
      "cell_type": "code",
      "metadata": {
        "colab": {
          "base_uri": "https://localhost:8080/"
        },
        "id": "Gn7Vc07IQVJ1",
        "outputId": "08b1cab1-5165-473f-f0bc-6f3400fcf7ec"
      },
      "source": [
        "forest = RandomForestClassifier(n_estimators=5, random_state=0)\n",
        "forest.fit(tfidfv, y_train)"
      ],
      "execution_count": null,
      "outputs": [
        {
          "output_type": "execute_result",
          "data": {
            "text/plain": [
              "RandomForestClassifier(bootstrap=True, ccp_alpha=0.0, class_weight=None,\n",
              "                       criterion='gini', max_depth=None, max_features='auto',\n",
              "                       max_leaf_nodes=None, max_samples=None,\n",
              "                       min_impurity_decrease=0.0, min_impurity_split=None,\n",
              "                       min_samples_leaf=1, min_samples_split=2,\n",
              "                       min_weight_fraction_leaf=0.0, n_estimators=5,\n",
              "                       n_jobs=None, oob_score=False, random_state=0, verbose=0,\n",
              "                       warm_start=False)"
            ]
          },
          "metadata": {
            "tags": []
          },
          "execution_count": 46
        }
      ]
    },
    {
      "cell_type": "code",
      "metadata": {
        "colab": {
          "base_uri": "https://localhost:8080/"
        },
        "id": "ssamqlRPQkUM",
        "outputId": "6ba86574-5dab-4b45-9a05-6dada4711a56"
      },
      "source": [
        "predicted = forest.predict(tfidfv_test) #테스트 데이터에 대한 예측\n",
        "print(\"정확도:\", accuracy_score(y_test, predicted)) #예측값과 실제값 비교"
      ],
      "execution_count": null,
      "outputs": [
        {
          "output_type": "stream",
          "text": [
            "정확도: 0.674087266251113\n"
          ],
          "name": "stdout"
        }
      ]
    },
    {
      "cell_type": "markdown",
      "metadata": {
        "id": "qZCaUw10Qp9I"
      },
      "source": [
        "그래디언트 부스팅 트리(GradientBoostingClassifier)\n",
        "그래디언트 부스팅 트리는 여러 개의 결정 트리를 묶어 만드는 앙상블 모델입니다. 그레디언트 부스팅은 랜덤 포레스트와 다르게 이전 트리의 오차를 보완하는 방식으로 순차적으로 트리를 만듭니다.\n",
        "\n",
        "그래디언트 부스팅 트리는 일부 특성을 무시한다는 특징을 가지고 있습니다. 그래서 보통 랜덤 포레스트를 먼저 사용해보고, 성능이나 예측 시간 면에서 만족스럽지 않은 경우에 그래디언트 부스팅 트리를 시도해보는 것이 좋습니다.\n",
        "\n",
        "일반적으로 1 ~ 5 정도의 깊지 않은 트리를 사용하므로 메모리도 적게 사용하고 예측도 빠릅니다.\n",
        "\n",
        "정확도도 준수하고, 특히 예측 속도가 빠르다는 점에서 데이터 경진 대회에서 많은 우승을 했던 모델입니다. 다만, 훈련 시간의 속도가 좀 오래 걸린다는 단점이 있으며 트리 기반 모델의 특성으로 인해서 희소한 고차원 데이터에 대해서는 잘 동작하지 않는다는 단점이 있습니다.\n",
        "\n",
        "현재 우리가 사용하는 TF-IDF 행렬은 희소하고 고차원 데이터지만, 결정 트리나 랜덤 포레스트보다 더 높은 성능을 얻을 수 있을지 한번 테스트해 볼까요?\n",
        "\n",
        "저는 아래 코드 실행에 약 12분 정도 소요되었습니다. verbose=3을 GradientBoostingClassifier안에 인자로 넣어 진행 상황을 확인할 수 있으니 참고해 주세요!\n",
        "\n"
      ]
    },
    {
      "cell_type": "code",
      "metadata": {
        "colab": {
          "base_uri": "https://localhost:8080/"
        },
        "id": "YN5fV3VEQmQf",
        "outputId": "8acd051e-4abc-4d00-8afd-02d479d505e4"
      },
      "source": [
        "grbt = GradientBoostingClassifier(random_state=0) # verbose=3\n",
        "grbt.fit(tfidfv, y_train)"
      ],
      "execution_count": null,
      "outputs": [
        {
          "output_type": "execute_result",
          "data": {
            "text/plain": [
              "GradientBoostingClassifier(ccp_alpha=0.0, criterion='friedman_mse', init=None,\n",
              "                           learning_rate=0.1, loss='deviance', max_depth=3,\n",
              "                           max_features=None, max_leaf_nodes=None,\n",
              "                           min_impurity_decrease=0.0, min_impurity_split=None,\n",
              "                           min_samples_leaf=1, min_samples_split=2,\n",
              "                           min_weight_fraction_leaf=0.0, n_estimators=100,\n",
              "                           n_iter_no_change=None, presort='deprecated',\n",
              "                           random_state=0, subsample=1.0, tol=0.0001,\n",
              "                           validation_fraction=0.1, verbose=0,\n",
              "                           warm_start=False)"
            ]
          },
          "metadata": {
            "tags": []
          },
          "execution_count": 48
        }
      ]
    },
    {
      "cell_type": "code",
      "metadata": {
        "colab": {
          "base_uri": "https://localhost:8080/"
        },
        "id": "Ya0F3B8eQsnJ",
        "outputId": "deccf4b9-80a6-4ad5-bb0e-22edfa3b2b9d"
      },
      "source": [
        "predicted = grbt.predict(tfidfv_test) #테스트 데이터에 대한 예측\n",
        "print(\"정확도:\", accuracy_score(y_test, predicted)) #예측값과 실제값 비교"
      ],
      "execution_count": null,
      "outputs": [
        {
          "output_type": "stream",
          "text": [
            "정확도: 0.7680320569902048\n"
          ],
          "name": "stdout"
        }
      ]
    },
    {
      "cell_type": "markdown",
      "metadata": {
        "id": "DEodkJ3xQwKZ"
      },
      "source": [
        "76%의 정확도로 결정 트리와 랜덤 포레스트와 비교하여 좋은 성능을 얻었습니다.\n",
        "\n",
        "\n",
        "## 보팅(Voting)\n",
        "데이터 경진 대회 캐글(Kaggle)에서 상위권을 차지한 나오는 많은 솔루션들이 앙상블(Ansemble learning)이라는 방법을 사용합니다. 그중에서 오늘은 투표를 통해 결과를 도출하는 보팅(Voting)이라는 방법에 대해서 이해해 봅시다.\n",
        "\n",
        "https://youtu.be/y4Wh0E1d4oE\n",
        "\n",
        "Q11. 보팅은 하드 보팅과 소프트 보팅 두 가지로 나누어집니다. 하드 보팅은 결과물에 대한 최종값을 투표해서 결정합니다. 그렇다면, 소프트 보팅의 결정 방식에 대해 설명해보세요.\n",
        "\n",
        "예시답안\n",
        "소프트 보팅은 최종 결과물이 나올 확률값을 다 더해서 최종 결과물에 대한 각각의 확률을 구한 뒤 최종값을 도출해 냅니다.\n",
        "\n",
        "이전에 사용했던 모델인 로지스틱 회귀, CNB, 그래디언트 부스팅 트리 세 가지를 사용하여 소프트 보팅을 하였을 때의 성능을 비교해봅시다."
      ]
    },
    {
      "cell_type": "code",
      "metadata": {
        "colab": {
          "background_save": true
        },
        "id": "8ywVln5-Qumx",
        "outputId": "94229101-5d46-4e68-a81f-f15415a923bc"
      },
      "source": [
        "voting_classifier = VotingClassifier(estimators=[\n",
        "         ('lr', LogisticRegression(C=10000, penalty='l2')),\n",
        "        ('cb', ComplementNB()),\n",
        "        ('grbt', GradientBoostingClassifier(random_state=0))\n",
        "], voting='soft', n_jobs=-1)\n",
        "voting_classifier.fit(tfidfv, y_train)"
      ],
      "execution_count": null,
      "outputs": [
        {
          "output_type": "execute_result",
          "data": {
            "text/plain": [
              "VotingClassifier(estimators=[('lr',\n",
              "                              LogisticRegression(C=10000, class_weight=None,\n",
              "                                                 dual=False, fit_intercept=True,\n",
              "                                                 intercept_scaling=1,\n",
              "                                                 l1_ratio=None, max_iter=100,\n",
              "                                                 multi_class='auto',\n",
              "                                                 n_jobs=None, penalty='l2',\n",
              "                                                 random_state=None,\n",
              "                                                 solver='lbfgs', tol=0.0001,\n",
              "                                                 verbose=0, warm_start=False)),\n",
              "                             ('cb',\n",
              "                              ComplementNB(alpha=1.0, class_prior=None,\n",
              "                                           fit_prior=True, norm=False)),\n",
              "                             ('...\n",
              "                                                         max_leaf_nodes=None,\n",
              "                                                         min_impurity_decrease=0.0,\n",
              "                                                         min_impurity_split=None,\n",
              "                                                         min_samples_leaf=1,\n",
              "                                                         min_samples_split=2,\n",
              "                                                         min_weight_fraction_leaf=0.0,\n",
              "                                                         n_estimators=100,\n",
              "                                                         n_iter_no_change=None,\n",
              "                                                         presort='deprecated',\n",
              "                                                         random_state=0,\n",
              "                                                         subsample=1.0,\n",
              "                                                         tol=0.0001,\n",
              "                                                         validation_fraction=0.1,\n",
              "                                                         verbose=0,\n",
              "                                                         warm_start=False))],\n",
              "                 flatten_transform=True, n_jobs=-1, voting='soft',\n",
              "                 weights=None)"
            ]
          },
          "metadata": {
            "tags": []
          },
          "execution_count": 0
        }
      ]
    },
    {
      "cell_type": "code",
      "metadata": {
        "colab": {
          "background_save": true
        },
        "id": "b4jjURb2Q-RT",
        "outputId": "40f173dd-88b2-4db9-c24a-0169b8f297c6"
      },
      "source": [
        "predicted = voting_classifier.predict(tfidfv_test) #테스트 데이터에 대한 예측\n",
        "print(\"정확도:\", accuracy_score(y_test, predicted)) #예측값과 실제값 비교"
      ],
      "execution_count": null,
      "outputs": [
        {
          "output_type": "stream",
          "text": [
            "정확도: 0.8130008904719501\n"
          ],
          "name": "stdout"
        }
      ]
    },
    {
      "cell_type": "markdown",
      "metadata": {
        "id": "Y_ALOdHSRBQL"
      },
      "source": [
        "오늘의 실습 중 가장 높은 정확도를 보였던 소프트맥스 회귀보다 좀 더 높은 정확도를 얻었습니다."
      ]
    },
    {
      "cell_type": "markdown",
      "metadata": {
        "id": "mViBCyKDRLoE"
      },
      "source": [
        "4-9. 프로젝트: Vocabulary Size를 변경해서 시도해보기\n",
        "지금까지는 모델을 변경하고, 모델을 조합해서 성능을 올리는 일에 힘썼습니다. 그런데 어쩌면 성능을 높이는 방법은 단순히 모델을 조정하는 일이 한정되지 않을 수 있습니다. 데이터의 전처리는 모델의 성능에 영향을 직접적으로 줍니다. 특히나 Bag of Words를 기반으로 하는 DTM이나 TF-IDF의 경우, 사용하는 단어의 수를 어떻게 결정하느냐에 따라서 성능에 영향을 줄 수 있겠죠.\n",
        "\n",
        "중요도가 낮은 단어들까지 포함해서 너무 많은 단어를 사용하는 경우에도 성능이 저하될 수 있고, 반대로 너무 적은 단어들을 사용해도 성능이 저하될 수 있습니다. 그리고 이렇게 변화된 단어의 수는 또 어떤 모델을 사용하느냐에 따라 유리할 수도, 불리할 수도 있습니다.\n",
        "\n",
        "단어의 수에 따라서 모델의 성능이 어떻게 변하는지 테스트해 봅시다.\n",
        "```\n",
        "(x_train, y_train), (x_test, y_test) = reuters.load_data(num_words=10000, test_split=0.2)\n",
        "```\n",
        "\n",
        "앞서 num_words로 사용할 단어의 수를 조정할 수 있다는 것을 배웠습니다. 빈도수가 많은 순서대로 나열했을 때, num_words의 인자로 준 정숫값만큼의 단어를 사용하고 나머지 단어는 전부 \\<unk>로 처리하는 원리였었죠.\n",
        "\n",
        "아래의 두 가지 경우에 대해서 지금까지 사용했던 모델들의 정확도를 직접 확인해 보세요.\n",
        "\n",
        "1. 모든 단어 사용\n",
        "```\n",
        "(x_train, y_train), (x_test, y_test) = reuters.load_data(num_words=None, test_split=0.2)\n",
        "```\n",
        "2. 빈도수 상위 5,000개의 단어만 사용\n",
        "```\n",
        "(x_train, y_train), (x_test, y_test) = reuters.load_data(num_words=5000, test_split=0.2)\n",
        "```\n",
        "\n",
        "3. 직접 단어 갯수를 설정해서 사용\n",
        "위 단계에서 5000으로 제시된 num_words를 다양하게 바꾸어 가며 성능을 확인해보세요. 변화된 단어 수에 따른 모델의 성능을 연구해 보세요. 최소 3가지 경우 이상을 실험해 보기를 권합니다.\n",
        "\n",
        "사용할 모델\n",
        "\n",
        "나이브 베이즈 분류기, CNB, 로지스틱 회귀, 서포트 벡터 머신, 결정 트리, 랜덤 포레스트, 그래디언트 부스팅 트리, 보팅\n",
        "\n",
        "4. 딥러닝 모델과 비교해 보기\n",
        "위 과정을 통해 나온 최적의 모델과 단어 수 조건에서, 본인이 선택한 다른 모델을 적용한 결과와 비교해 봅시다. 감정분석 등에 사용했던 RNN이나 1-D CNN 등의 딥러닝 모델 중 하나를 선택해서 오늘 사용했던 데이터셋을 학습해 보고 나오는 결과를 비교해 봅시다. 단, 공정한 비교를 위해 이때 Word2Vec 등의 pretrained model은 사용하지 않도록 합니다."
      ]
    },
    {
      "cell_type": "code",
      "metadata": {
        "id": "hCe54lBpQ_5q"
      },
      "source": [
        ""
      ],
      "execution_count": null,
      "outputs": []
    }
  ]
}