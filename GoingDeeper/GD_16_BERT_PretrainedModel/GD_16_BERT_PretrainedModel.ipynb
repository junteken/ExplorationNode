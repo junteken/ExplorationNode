{
  "nbformat": 4,
  "nbformat_minor": 0,
  "metadata": {
    "colab": {
      "name": "GD_16_BERT_PretrainedModel.ipynb",
      "provenance": [],
      "collapsed_sections": []
    },
    "kernelspec": {
      "name": "python3",
      "display_name": "Python 3"
    },
    "language_info": {
      "name": "python"
    },
    "accelerator": "GPU",
    "widgets": {
      "application/vnd.jupyter.widget-state+json": {
        "2d8d861b35c3467c96d8bc4dc909fc29": {
          "model_module": "@jupyter-widgets/controls",
          "model_name": "HBoxModel",
          "state": {
            "_view_name": "HBoxView",
            "_dom_classes": [],
            "_model_name": "HBoxModel",
            "_view_module": "@jupyter-widgets/controls",
            "_model_module_version": "1.5.0",
            "_view_count": null,
            "_view_module_version": "1.5.0",
            "box_style": "",
            "layout": "IPY_MODEL_c3d0da66eb49402e8191fb5ac802df4a",
            "_model_module": "@jupyter-widgets/controls",
            "children": [
              "IPY_MODEL_258ec3c644ed4a0995323d040ba2847d",
              "IPY_MODEL_e5c4214b6e7f475dbf05a332808332e6"
            ]
          }
        },
        "c3d0da66eb49402e8191fb5ac802df4a": {
          "model_module": "@jupyter-widgets/base",
          "model_name": "LayoutModel",
          "state": {
            "_view_name": "LayoutView",
            "grid_template_rows": null,
            "right": null,
            "justify_content": null,
            "_view_module": "@jupyter-widgets/base",
            "overflow": null,
            "_model_module_version": "1.2.0",
            "_view_count": null,
            "flex_flow": null,
            "width": null,
            "min_width": null,
            "border": null,
            "align_items": null,
            "bottom": null,
            "_model_module": "@jupyter-widgets/base",
            "top": null,
            "grid_column": null,
            "overflow_y": null,
            "overflow_x": null,
            "grid_auto_flow": null,
            "grid_area": null,
            "grid_template_columns": null,
            "flex": null,
            "_model_name": "LayoutModel",
            "justify_items": null,
            "grid_row": null,
            "max_height": null,
            "align_content": null,
            "visibility": null,
            "align_self": null,
            "height": null,
            "min_height": null,
            "padding": null,
            "grid_auto_rows": null,
            "grid_gap": null,
            "max_width": null,
            "order": null,
            "_view_module_version": "1.2.0",
            "grid_template_areas": null,
            "object_position": null,
            "object_fit": null,
            "grid_auto_columns": null,
            "margin": null,
            "display": null,
            "left": null
          }
        },
        "258ec3c644ed4a0995323d040ba2847d": {
          "model_module": "@jupyter-widgets/controls",
          "model_name": "FloatProgressModel",
          "state": {
            "_view_name": "ProgressView",
            "style": "IPY_MODEL_b42cae32c5d542d38c45cfd4ec17f686",
            "_dom_classes": [],
            "description": "  0%",
            "_model_name": "FloatProgressModel",
            "bar_style": "danger",
            "max": 3957761,
            "_view_module": "@jupyter-widgets/controls",
            "_model_module_version": "1.5.0",
            "value": 0,
            "_view_count": null,
            "_view_module_version": "1.5.0",
            "orientation": "horizontal",
            "min": 0,
            "description_tooltip": null,
            "_model_module": "@jupyter-widgets/controls",
            "layout": "IPY_MODEL_c29a8e59ac834453a85148b1f178d100"
          }
        },
        "e5c4214b6e7f475dbf05a332808332e6": {
          "model_module": "@jupyter-widgets/controls",
          "model_name": "HTMLModel",
          "state": {
            "_view_name": "HTMLView",
            "style": "IPY_MODEL_7b391c5357244e7781ded7a1499a6e63",
            "_dom_classes": [],
            "description": "",
            "_model_name": "HTMLModel",
            "placeholder": "​",
            "_view_module": "@jupyter-widgets/controls",
            "_model_module_version": "1.5.0",
            "value": " 0/3957761 [00:00&lt;?, ?it/s]",
            "_view_count": null,
            "_view_module_version": "1.5.0",
            "description_tooltip": null,
            "_model_module": "@jupyter-widgets/controls",
            "layout": "IPY_MODEL_1bbe3853cc0341ae85b84ce3797895af"
          }
        },
        "b42cae32c5d542d38c45cfd4ec17f686": {
          "model_module": "@jupyter-widgets/controls",
          "model_name": "ProgressStyleModel",
          "state": {
            "_view_name": "StyleView",
            "_model_name": "ProgressStyleModel",
            "description_width": "initial",
            "_view_module": "@jupyter-widgets/base",
            "_model_module_version": "1.5.0",
            "_view_count": null,
            "_view_module_version": "1.2.0",
            "bar_color": null,
            "_model_module": "@jupyter-widgets/controls"
          }
        },
        "c29a8e59ac834453a85148b1f178d100": {
          "model_module": "@jupyter-widgets/base",
          "model_name": "LayoutModel",
          "state": {
            "_view_name": "LayoutView",
            "grid_template_rows": null,
            "right": null,
            "justify_content": null,
            "_view_module": "@jupyter-widgets/base",
            "overflow": null,
            "_model_module_version": "1.2.0",
            "_view_count": null,
            "flex_flow": null,
            "width": null,
            "min_width": null,
            "border": null,
            "align_items": null,
            "bottom": null,
            "_model_module": "@jupyter-widgets/base",
            "top": null,
            "grid_column": null,
            "overflow_y": null,
            "overflow_x": null,
            "grid_auto_flow": null,
            "grid_area": null,
            "grid_template_columns": null,
            "flex": null,
            "_model_name": "LayoutModel",
            "justify_items": null,
            "grid_row": null,
            "max_height": null,
            "align_content": null,
            "visibility": null,
            "align_self": null,
            "height": null,
            "min_height": null,
            "padding": null,
            "grid_auto_rows": null,
            "grid_gap": null,
            "max_width": null,
            "order": null,
            "_view_module_version": "1.2.0",
            "grid_template_areas": null,
            "object_position": null,
            "object_fit": null,
            "grid_auto_columns": null,
            "margin": null,
            "display": null,
            "left": null
          }
        },
        "7b391c5357244e7781ded7a1499a6e63": {
          "model_module": "@jupyter-widgets/controls",
          "model_name": "DescriptionStyleModel",
          "state": {
            "_view_name": "StyleView",
            "_model_name": "DescriptionStyleModel",
            "description_width": "",
            "_view_module": "@jupyter-widgets/base",
            "_model_module_version": "1.5.0",
            "_view_count": null,
            "_view_module_version": "1.2.0",
            "_model_module": "@jupyter-widgets/controls"
          }
        },
        "1bbe3853cc0341ae85b84ce3797895af": {
          "model_module": "@jupyter-widgets/base",
          "model_name": "LayoutModel",
          "state": {
            "_view_name": "LayoutView",
            "grid_template_rows": null,
            "right": null,
            "justify_content": null,
            "_view_module": "@jupyter-widgets/base",
            "overflow": null,
            "_model_module_version": "1.2.0",
            "_view_count": null,
            "flex_flow": null,
            "width": null,
            "min_width": null,
            "border": null,
            "align_items": null,
            "bottom": null,
            "_model_module": "@jupyter-widgets/base",
            "top": null,
            "grid_column": null,
            "overflow_y": null,
            "overflow_x": null,
            "grid_auto_flow": null,
            "grid_area": null,
            "grid_template_columns": null,
            "flex": null,
            "_model_name": "LayoutModel",
            "justify_items": null,
            "grid_row": null,
            "max_height": null,
            "align_content": null,
            "visibility": null,
            "align_self": null,
            "height": null,
            "min_height": null,
            "padding": null,
            "grid_auto_rows": null,
            "grid_gap": null,
            "max_width": null,
            "order": null,
            "_view_module_version": "1.2.0",
            "grid_template_areas": null,
            "object_position": null,
            "object_fit": null,
            "grid_auto_columns": null,
            "margin": null,
            "display": null,
            "left": null
          }
        },
        "cfa804835e8d49ce8033646fef861dd1": {
          "model_module": "@jupyter-widgets/controls",
          "model_name": "HBoxModel",
          "state": {
            "_view_name": "HBoxView",
            "_dom_classes": [],
            "_model_name": "HBoxModel",
            "_view_module": "@jupyter-widgets/controls",
            "_model_module_version": "1.5.0",
            "_view_count": null,
            "_view_module_version": "1.5.0",
            "box_style": "",
            "layout": "IPY_MODEL_939fd9a8426948c6a4143475376ec135",
            "_model_module": "@jupyter-widgets/controls",
            "children": [
              "IPY_MODEL_8d580b3ce0994848b719680f48fec50c",
              "IPY_MODEL_c8549a8d66fb453bbcb9a6458d33f26d"
            ]
          }
        },
        "939fd9a8426948c6a4143475376ec135": {
          "model_module": "@jupyter-widgets/base",
          "model_name": "LayoutModel",
          "state": {
            "_view_name": "LayoutView",
            "grid_template_rows": null,
            "right": null,
            "justify_content": null,
            "_view_module": "@jupyter-widgets/base",
            "overflow": null,
            "_model_module_version": "1.2.0",
            "_view_count": null,
            "flex_flow": null,
            "width": null,
            "min_width": null,
            "border": null,
            "align_items": null,
            "bottom": null,
            "_model_module": "@jupyter-widgets/base",
            "top": null,
            "grid_column": null,
            "overflow_y": null,
            "overflow_x": null,
            "grid_auto_flow": null,
            "grid_area": null,
            "grid_template_columns": null,
            "flex": null,
            "_model_name": "LayoutModel",
            "justify_items": null,
            "grid_row": null,
            "max_height": null,
            "align_content": null,
            "visibility": null,
            "align_self": null,
            "height": null,
            "min_height": null,
            "padding": null,
            "grid_auto_rows": null,
            "grid_gap": null,
            "max_width": null,
            "order": null,
            "_view_module_version": "1.2.0",
            "grid_template_areas": null,
            "object_position": null,
            "object_fit": null,
            "grid_auto_columns": null,
            "margin": null,
            "display": null,
            "left": null
          }
        },
        "8d580b3ce0994848b719680f48fec50c": {
          "model_module": "@jupyter-widgets/controls",
          "model_name": "FloatProgressModel",
          "state": {
            "_view_name": "ProgressView",
            "style": "IPY_MODEL_50a31fe5df144641825791f3aefe68be",
            "_dom_classes": [],
            "description": "  0%",
            "_model_name": "FloatProgressModel",
            "bar_style": "danger",
            "max": 3957761,
            "_view_module": "@jupyter-widgets/controls",
            "_model_module_version": "1.5.0",
            "value": 0,
            "_view_count": null,
            "_view_module_version": "1.5.0",
            "orientation": "horizontal",
            "min": 0,
            "description_tooltip": null,
            "_model_module": "@jupyter-widgets/controls",
            "layout": "IPY_MODEL_7cda782bef9f401fbe0388de83be22ef"
          }
        },
        "c8549a8d66fb453bbcb9a6458d33f26d": {
          "model_module": "@jupyter-widgets/controls",
          "model_name": "HTMLModel",
          "state": {
            "_view_name": "HTMLView",
            "style": "IPY_MODEL_74ca112ac06e4ad084022afaa15af489",
            "_dom_classes": [],
            "description": "",
            "_model_name": "HTMLModel",
            "placeholder": "​",
            "_view_module": "@jupyter-widgets/controls",
            "_model_module_version": "1.5.0",
            "value": " 0/3957761 [00:00&lt;?, ?it/s]",
            "_view_count": null,
            "_view_module_version": "1.5.0",
            "description_tooltip": null,
            "_model_module": "@jupyter-widgets/controls",
            "layout": "IPY_MODEL_a11801b61dc947f6b3681fc42c495f74"
          }
        },
        "50a31fe5df144641825791f3aefe68be": {
          "model_module": "@jupyter-widgets/controls",
          "model_name": "ProgressStyleModel",
          "state": {
            "_view_name": "StyleView",
            "_model_name": "ProgressStyleModel",
            "description_width": "initial",
            "_view_module": "@jupyter-widgets/base",
            "_model_module_version": "1.5.0",
            "_view_count": null,
            "_view_module_version": "1.2.0",
            "bar_color": null,
            "_model_module": "@jupyter-widgets/controls"
          }
        },
        "7cda782bef9f401fbe0388de83be22ef": {
          "model_module": "@jupyter-widgets/base",
          "model_name": "LayoutModel",
          "state": {
            "_view_name": "LayoutView",
            "grid_template_rows": null,
            "right": null,
            "justify_content": null,
            "_view_module": "@jupyter-widgets/base",
            "overflow": null,
            "_model_module_version": "1.2.0",
            "_view_count": null,
            "flex_flow": null,
            "width": null,
            "min_width": null,
            "border": null,
            "align_items": null,
            "bottom": null,
            "_model_module": "@jupyter-widgets/base",
            "top": null,
            "grid_column": null,
            "overflow_y": null,
            "overflow_x": null,
            "grid_auto_flow": null,
            "grid_area": null,
            "grid_template_columns": null,
            "flex": null,
            "_model_name": "LayoutModel",
            "justify_items": null,
            "grid_row": null,
            "max_height": null,
            "align_content": null,
            "visibility": null,
            "align_self": null,
            "height": null,
            "min_height": null,
            "padding": null,
            "grid_auto_rows": null,
            "grid_gap": null,
            "max_width": null,
            "order": null,
            "_view_module_version": "1.2.0",
            "grid_template_areas": null,
            "object_position": null,
            "object_fit": null,
            "grid_auto_columns": null,
            "margin": null,
            "display": null,
            "left": null
          }
        },
        "74ca112ac06e4ad084022afaa15af489": {
          "model_module": "@jupyter-widgets/controls",
          "model_name": "DescriptionStyleModel",
          "state": {
            "_view_name": "StyleView",
            "_model_name": "DescriptionStyleModel",
            "description_width": "",
            "_view_module": "@jupyter-widgets/base",
            "_model_module_version": "1.5.0",
            "_view_count": null,
            "_view_module_version": "1.2.0",
            "_model_module": "@jupyter-widgets/controls"
          }
        },
        "a11801b61dc947f6b3681fc42c495f74": {
          "model_module": "@jupyter-widgets/base",
          "model_name": "LayoutModel",
          "state": {
            "_view_name": "LayoutView",
            "grid_template_rows": null,
            "right": null,
            "justify_content": null,
            "_view_module": "@jupyter-widgets/base",
            "overflow": null,
            "_model_module_version": "1.2.0",
            "_view_count": null,
            "flex_flow": null,
            "width": null,
            "min_width": null,
            "border": null,
            "align_items": null,
            "bottom": null,
            "_model_module": "@jupyter-widgets/base",
            "top": null,
            "grid_column": null,
            "overflow_y": null,
            "overflow_x": null,
            "grid_auto_flow": null,
            "grid_area": null,
            "grid_template_columns": null,
            "flex": null,
            "_model_name": "LayoutModel",
            "justify_items": null,
            "grid_row": null,
            "max_height": null,
            "align_content": null,
            "visibility": null,
            "align_self": null,
            "height": null,
            "min_height": null,
            "padding": null,
            "grid_auto_rows": null,
            "grid_gap": null,
            "max_width": null,
            "order": null,
            "_view_module_version": "1.2.0",
            "grid_template_areas": null,
            "object_position": null,
            "object_fit": null,
            "grid_auto_columns": null,
            "margin": null,
            "display": null,
            "left": null
          }
        },
        "df0d153d92524553879640e14db497e5": {
          "model_module": "@jupyter-widgets/controls",
          "model_name": "HBoxModel",
          "state": {
            "_view_name": "HBoxView",
            "_dom_classes": [],
            "_model_name": "HBoxModel",
            "_view_module": "@jupyter-widgets/controls",
            "_model_module_version": "1.5.0",
            "_view_count": null,
            "_view_module_version": "1.5.0",
            "box_style": "",
            "layout": "IPY_MODEL_402741864c794c5a8834c5a1325b9abc",
            "_model_module": "@jupyter-widgets/controls",
            "children": [
              "IPY_MODEL_781becc47309450f9c975724fa04c321",
              "IPY_MODEL_22b4aa974f404af58f6d94c88fa661a5"
            ]
          }
        },
        "402741864c794c5a8834c5a1325b9abc": {
          "model_module": "@jupyter-widgets/base",
          "model_name": "LayoutModel",
          "state": {
            "_view_name": "LayoutView",
            "grid_template_rows": null,
            "right": null,
            "justify_content": null,
            "_view_module": "@jupyter-widgets/base",
            "overflow": null,
            "_model_module_version": "1.2.0",
            "_view_count": null,
            "flex_flow": null,
            "width": null,
            "min_width": null,
            "border": null,
            "align_items": null,
            "bottom": null,
            "_model_module": "@jupyter-widgets/base",
            "top": null,
            "grid_column": null,
            "overflow_y": null,
            "overflow_x": null,
            "grid_auto_flow": null,
            "grid_area": null,
            "grid_template_columns": null,
            "flex": null,
            "_model_name": "LayoutModel",
            "justify_items": null,
            "grid_row": null,
            "max_height": null,
            "align_content": null,
            "visibility": null,
            "align_self": null,
            "height": null,
            "min_height": null,
            "padding": null,
            "grid_auto_rows": null,
            "grid_gap": null,
            "max_width": null,
            "order": null,
            "_view_module_version": "1.2.0",
            "grid_template_areas": null,
            "object_position": null,
            "object_fit": null,
            "grid_auto_columns": null,
            "margin": null,
            "display": null,
            "left": null
          }
        },
        "781becc47309450f9c975724fa04c321": {
          "model_module": "@jupyter-widgets/controls",
          "model_name": "FloatProgressModel",
          "state": {
            "_view_name": "ProgressView",
            "style": "IPY_MODEL_45393dec4f9b4885891a55f106db25a1",
            "_dom_classes": [],
            "description": "100%",
            "_model_name": "FloatProgressModel",
            "bar_style": "success",
            "max": 3957761,
            "_view_module": "@jupyter-widgets/controls",
            "_model_module_version": "1.5.0",
            "value": 3957761,
            "_view_count": null,
            "_view_module_version": "1.5.0",
            "orientation": "horizontal",
            "min": 0,
            "description_tooltip": null,
            "_model_module": "@jupyter-widgets/controls",
            "layout": "IPY_MODEL_3c24a649c795409ba3dc961e25f2d1e3"
          }
        },
        "22b4aa974f404af58f6d94c88fa661a5": {
          "model_module": "@jupyter-widgets/controls",
          "model_name": "HTMLModel",
          "state": {
            "_view_name": "HTMLView",
            "style": "IPY_MODEL_ab9c177eb2b845db8fdb1b9f7c53c2a7",
            "_dom_classes": [],
            "description": "",
            "_model_name": "HTMLModel",
            "placeholder": "​",
            "_view_module": "@jupyter-widgets/controls",
            "_model_module_version": "1.5.0",
            "value": " 3957761/3957761 [04:32&lt;00:00, 14501.30it/s]",
            "_view_count": null,
            "_view_module_version": "1.5.0",
            "description_tooltip": null,
            "_model_module": "@jupyter-widgets/controls",
            "layout": "IPY_MODEL_e4f277eab5dd4f02b1beeea24feb5752"
          }
        },
        "45393dec4f9b4885891a55f106db25a1": {
          "model_module": "@jupyter-widgets/controls",
          "model_name": "ProgressStyleModel",
          "state": {
            "_view_name": "StyleView",
            "_model_name": "ProgressStyleModel",
            "description_width": "initial",
            "_view_module": "@jupyter-widgets/base",
            "_model_module_version": "1.5.0",
            "_view_count": null,
            "_view_module_version": "1.2.0",
            "bar_color": null,
            "_model_module": "@jupyter-widgets/controls"
          }
        },
        "3c24a649c795409ba3dc961e25f2d1e3": {
          "model_module": "@jupyter-widgets/base",
          "model_name": "LayoutModel",
          "state": {
            "_view_name": "LayoutView",
            "grid_template_rows": null,
            "right": null,
            "justify_content": null,
            "_view_module": "@jupyter-widgets/base",
            "overflow": null,
            "_model_module_version": "1.2.0",
            "_view_count": null,
            "flex_flow": null,
            "width": null,
            "min_width": null,
            "border": null,
            "align_items": null,
            "bottom": null,
            "_model_module": "@jupyter-widgets/base",
            "top": null,
            "grid_column": null,
            "overflow_y": null,
            "overflow_x": null,
            "grid_auto_flow": null,
            "grid_area": null,
            "grid_template_columns": null,
            "flex": null,
            "_model_name": "LayoutModel",
            "justify_items": null,
            "grid_row": null,
            "max_height": null,
            "align_content": null,
            "visibility": null,
            "align_self": null,
            "height": null,
            "min_height": null,
            "padding": null,
            "grid_auto_rows": null,
            "grid_gap": null,
            "max_width": null,
            "order": null,
            "_view_module_version": "1.2.0",
            "grid_template_areas": null,
            "object_position": null,
            "object_fit": null,
            "grid_auto_columns": null,
            "margin": null,
            "display": null,
            "left": null
          }
        },
        "ab9c177eb2b845db8fdb1b9f7c53c2a7": {
          "model_module": "@jupyter-widgets/controls",
          "model_name": "DescriptionStyleModel",
          "state": {
            "_view_name": "StyleView",
            "_model_name": "DescriptionStyleModel",
            "description_width": "",
            "_view_module": "@jupyter-widgets/base",
            "_model_module_version": "1.5.0",
            "_view_count": null,
            "_view_module_version": "1.2.0",
            "_model_module": "@jupyter-widgets/controls"
          }
        },
        "e4f277eab5dd4f02b1beeea24feb5752": {
          "model_module": "@jupyter-widgets/base",
          "model_name": "LayoutModel",
          "state": {
            "_view_name": "LayoutView",
            "grid_template_rows": null,
            "right": null,
            "justify_content": null,
            "_view_module": "@jupyter-widgets/base",
            "overflow": null,
            "_model_module_version": "1.2.0",
            "_view_count": null,
            "flex_flow": null,
            "width": null,
            "min_width": null,
            "border": null,
            "align_items": null,
            "bottom": null,
            "_model_module": "@jupyter-widgets/base",
            "top": null,
            "grid_column": null,
            "overflow_y": null,
            "overflow_x": null,
            "grid_auto_flow": null,
            "grid_area": null,
            "grid_template_columns": null,
            "flex": null,
            "_model_name": "LayoutModel",
            "justify_items": null,
            "grid_row": null,
            "max_height": null,
            "align_content": null,
            "visibility": null,
            "align_self": null,
            "height": null,
            "min_height": null,
            "padding": null,
            "grid_auto_rows": null,
            "grid_gap": null,
            "max_width": null,
            "order": null,
            "_view_module_version": "1.2.0",
            "grid_template_areas": null,
            "object_position": null,
            "object_fit": null,
            "grid_auto_columns": null,
            "margin": null,
            "display": null,
            "left": null
          }
        },
        "f23325bdbbff4879a3fc8ff831f40110": {
          "model_module": "@jupyter-widgets/controls",
          "model_name": "HBoxModel",
          "state": {
            "_view_name": "HBoxView",
            "_dom_classes": [],
            "_model_name": "HBoxModel",
            "_view_module": "@jupyter-widgets/controls",
            "_model_module_version": "1.5.0",
            "_view_count": null,
            "_view_module_version": "1.5.0",
            "box_style": "",
            "layout": "IPY_MODEL_6fce1f02ca9f4bf2930030145184d44b",
            "_model_module": "@jupyter-widgets/controls",
            "children": [
              "IPY_MODEL_2d5d1c03e68648299216d76dce3c81b8",
              "IPY_MODEL_e9feadbf66fd45fab435546b941d878b"
            ]
          }
        },
        "6fce1f02ca9f4bf2930030145184d44b": {
          "model_module": "@jupyter-widgets/base",
          "model_name": "LayoutModel",
          "state": {
            "_view_name": "LayoutView",
            "grid_template_rows": null,
            "right": null,
            "justify_content": null,
            "_view_module": "@jupyter-widgets/base",
            "overflow": null,
            "_model_module_version": "1.2.0",
            "_view_count": null,
            "flex_flow": null,
            "width": null,
            "min_width": null,
            "border": null,
            "align_items": null,
            "bottom": null,
            "_model_module": "@jupyter-widgets/base",
            "top": null,
            "grid_column": null,
            "overflow_y": null,
            "overflow_x": null,
            "grid_auto_flow": null,
            "grid_area": null,
            "grid_template_columns": null,
            "flex": null,
            "_model_name": "LayoutModel",
            "justify_items": null,
            "grid_row": null,
            "max_height": null,
            "align_content": null,
            "visibility": null,
            "align_self": null,
            "height": null,
            "min_height": null,
            "padding": null,
            "grid_auto_rows": null,
            "grid_gap": null,
            "max_width": null,
            "order": null,
            "_view_module_version": "1.2.0",
            "grid_template_areas": null,
            "object_position": null,
            "object_fit": null,
            "grid_auto_columns": null,
            "margin": null,
            "display": null,
            "left": null
          }
        },
        "2d5d1c03e68648299216d76dce3c81b8": {
          "model_module": "@jupyter-widgets/controls",
          "model_name": "FloatProgressModel",
          "state": {
            "_view_name": "ProgressView",
            "style": "IPY_MODEL_c9e7717b06c24480a1e7f3f5efa74716",
            "_dom_classes": [],
            "description": "  0%",
            "_model_name": "FloatProgressModel",
            "bar_style": "danger",
            "max": 865547,
            "_view_module": "@jupyter-widgets/controls",
            "_model_module_version": "1.5.0",
            "value": 0,
            "_view_count": null,
            "_view_module_version": "1.5.0",
            "orientation": "horizontal",
            "min": 0,
            "description_tooltip": null,
            "_model_module": "@jupyter-widgets/controls",
            "layout": "IPY_MODEL_7d3c8230f2f44e20acf4f8195e82d00c"
          }
        },
        "e9feadbf66fd45fab435546b941d878b": {
          "model_module": "@jupyter-widgets/controls",
          "model_name": "HTMLModel",
          "state": {
            "_view_name": "HTMLView",
            "style": "IPY_MODEL_1a20eb52a59a4e77be5391bf325bd28f",
            "_dom_classes": [],
            "description": "",
            "_model_name": "HTMLModel",
            "placeholder": "​",
            "_view_module": "@jupyter-widgets/controls",
            "_model_module_version": "1.5.0",
            "value": " 0/865547 [00:00&lt;?, ?it/s]",
            "_view_count": null,
            "_view_module_version": "1.5.0",
            "description_tooltip": null,
            "_model_module": "@jupyter-widgets/controls",
            "layout": "IPY_MODEL_1ae5021fb5274ca98c4dad8f6cc17ce7"
          }
        },
        "c9e7717b06c24480a1e7f3f5efa74716": {
          "model_module": "@jupyter-widgets/controls",
          "model_name": "ProgressStyleModel",
          "state": {
            "_view_name": "StyleView",
            "_model_name": "ProgressStyleModel",
            "description_width": "initial",
            "_view_module": "@jupyter-widgets/base",
            "_model_module_version": "1.5.0",
            "_view_count": null,
            "_view_module_version": "1.2.0",
            "bar_color": null,
            "_model_module": "@jupyter-widgets/controls"
          }
        },
        "7d3c8230f2f44e20acf4f8195e82d00c": {
          "model_module": "@jupyter-widgets/base",
          "model_name": "LayoutModel",
          "state": {
            "_view_name": "LayoutView",
            "grid_template_rows": null,
            "right": null,
            "justify_content": null,
            "_view_module": "@jupyter-widgets/base",
            "overflow": null,
            "_model_module_version": "1.2.0",
            "_view_count": null,
            "flex_flow": null,
            "width": null,
            "min_width": null,
            "border": null,
            "align_items": null,
            "bottom": null,
            "_model_module": "@jupyter-widgets/base",
            "top": null,
            "grid_column": null,
            "overflow_y": null,
            "overflow_x": null,
            "grid_auto_flow": null,
            "grid_area": null,
            "grid_template_columns": null,
            "flex": null,
            "_model_name": "LayoutModel",
            "justify_items": null,
            "grid_row": null,
            "max_height": null,
            "align_content": null,
            "visibility": null,
            "align_self": null,
            "height": null,
            "min_height": null,
            "padding": null,
            "grid_auto_rows": null,
            "grid_gap": null,
            "max_width": null,
            "order": null,
            "_view_module_version": "1.2.0",
            "grid_template_areas": null,
            "object_position": null,
            "object_fit": null,
            "grid_auto_columns": null,
            "margin": null,
            "display": null,
            "left": null
          }
        },
        "1a20eb52a59a4e77be5391bf325bd28f": {
          "model_module": "@jupyter-widgets/controls",
          "model_name": "DescriptionStyleModel",
          "state": {
            "_view_name": "StyleView",
            "_model_name": "DescriptionStyleModel",
            "description_width": "",
            "_view_module": "@jupyter-widgets/base",
            "_model_module_version": "1.5.0",
            "_view_count": null,
            "_view_module_version": "1.2.0",
            "_model_module": "@jupyter-widgets/controls"
          }
        },
        "1ae5021fb5274ca98c4dad8f6cc17ce7": {
          "model_module": "@jupyter-widgets/base",
          "model_name": "LayoutModel",
          "state": {
            "_view_name": "LayoutView",
            "grid_template_rows": null,
            "right": null,
            "justify_content": null,
            "_view_module": "@jupyter-widgets/base",
            "overflow": null,
            "_model_module_version": "1.2.0",
            "_view_count": null,
            "flex_flow": null,
            "width": null,
            "min_width": null,
            "border": null,
            "align_items": null,
            "bottom": null,
            "_model_module": "@jupyter-widgets/base",
            "top": null,
            "grid_column": null,
            "overflow_y": null,
            "overflow_x": null,
            "grid_auto_flow": null,
            "grid_area": null,
            "grid_template_columns": null,
            "flex": null,
            "_model_name": "LayoutModel",
            "justify_items": null,
            "grid_row": null,
            "max_height": null,
            "align_content": null,
            "visibility": null,
            "align_self": null,
            "height": null,
            "min_height": null,
            "padding": null,
            "grid_auto_rows": null,
            "grid_gap": null,
            "max_width": null,
            "order": null,
            "_view_module_version": "1.2.0",
            "grid_template_areas": null,
            "object_position": null,
            "object_fit": null,
            "grid_auto_columns": null,
            "margin": null,
            "display": null,
            "left": null
          }
        },
        "fed69abfc6b74315a04c4b928540aa8e": {
          "model_module": "@jupyter-widgets/controls",
          "model_name": "HBoxModel",
          "state": {
            "_view_name": "HBoxView",
            "_dom_classes": [],
            "_model_name": "HBoxModel",
            "_view_module": "@jupyter-widgets/controls",
            "_model_module_version": "1.5.0",
            "_view_count": null,
            "_view_module_version": "1.5.0",
            "box_style": "",
            "layout": "IPY_MODEL_9c4ebe9b393e4f8e8c04e896f9c7ab0f",
            "_model_module": "@jupyter-widgets/controls",
            "children": [
              "IPY_MODEL_df175740255e4285938242f9e3ede173",
              "IPY_MODEL_320186d6da614e1aaa60ab1ea352d217"
            ]
          }
        },
        "9c4ebe9b393e4f8e8c04e896f9c7ab0f": {
          "model_module": "@jupyter-widgets/base",
          "model_name": "LayoutModel",
          "state": {
            "_view_name": "LayoutView",
            "grid_template_rows": null,
            "right": null,
            "justify_content": null,
            "_view_module": "@jupyter-widgets/base",
            "overflow": null,
            "_model_module_version": "1.2.0",
            "_view_count": null,
            "flex_flow": null,
            "width": null,
            "min_width": null,
            "border": null,
            "align_items": null,
            "bottom": null,
            "_model_module": "@jupyter-widgets/base",
            "top": null,
            "grid_column": null,
            "overflow_y": null,
            "overflow_x": null,
            "grid_auto_flow": null,
            "grid_area": null,
            "grid_template_columns": null,
            "flex": null,
            "_model_name": "LayoutModel",
            "justify_items": null,
            "grid_row": null,
            "max_height": null,
            "align_content": null,
            "visibility": null,
            "align_self": null,
            "height": null,
            "min_height": null,
            "padding": null,
            "grid_auto_rows": null,
            "grid_gap": null,
            "max_width": null,
            "order": null,
            "_view_module_version": "1.2.0",
            "grid_template_areas": null,
            "object_position": null,
            "object_fit": null,
            "grid_auto_columns": null,
            "margin": null,
            "display": null,
            "left": null
          }
        },
        "df175740255e4285938242f9e3ede173": {
          "model_module": "@jupyter-widgets/controls",
          "model_name": "FloatProgressModel",
          "state": {
            "_view_name": "ProgressView",
            "style": "IPY_MODEL_a792cd0d8f8c46bba68fe8adf55e9119",
            "_dom_classes": [],
            "description": "100%",
            "_model_name": "FloatProgressModel",
            "bar_style": "danger",
            "max": 128000,
            "_view_module": "@jupyter-widgets/controls",
            "_model_module_version": "1.5.0",
            "value": 127604,
            "_view_count": null,
            "_view_module_version": "1.5.0",
            "orientation": "horizontal",
            "min": 0,
            "description_tooltip": null,
            "_model_module": "@jupyter-widgets/controls",
            "layout": "IPY_MODEL_899cfeec3a5b4e84b51030840d9526cb"
          }
        },
        "320186d6da614e1aaa60ab1ea352d217": {
          "model_module": "@jupyter-widgets/controls",
          "model_name": "HTMLModel",
          "state": {
            "_view_name": "HTMLView",
            "style": "IPY_MODEL_babf3d50f7704a578af81ab43c54c939",
            "_dom_classes": [],
            "description": "",
            "_model_name": "HTMLModel",
            "placeholder": "​",
            "_view_module": "@jupyter-widgets/controls",
            "_model_module_version": "1.5.0",
            "value": " 127604/128000 [00:48&lt;00:00, 4194.01it/s]",
            "_view_count": null,
            "_view_module_version": "1.5.0",
            "description_tooltip": null,
            "_model_module": "@jupyter-widgets/controls",
            "layout": "IPY_MODEL_1232ceabeeb349c3b4c0b1e06bb7627a"
          }
        },
        "a792cd0d8f8c46bba68fe8adf55e9119": {
          "model_module": "@jupyter-widgets/controls",
          "model_name": "ProgressStyleModel",
          "state": {
            "_view_name": "StyleView",
            "_model_name": "ProgressStyleModel",
            "description_width": "initial",
            "_view_module": "@jupyter-widgets/base",
            "_model_module_version": "1.5.0",
            "_view_count": null,
            "_view_module_version": "1.2.0",
            "bar_color": null,
            "_model_module": "@jupyter-widgets/controls"
          }
        },
        "899cfeec3a5b4e84b51030840d9526cb": {
          "model_module": "@jupyter-widgets/base",
          "model_name": "LayoutModel",
          "state": {
            "_view_name": "LayoutView",
            "grid_template_rows": null,
            "right": null,
            "justify_content": null,
            "_view_module": "@jupyter-widgets/base",
            "overflow": null,
            "_model_module_version": "1.2.0",
            "_view_count": null,
            "flex_flow": null,
            "width": null,
            "min_width": null,
            "border": null,
            "align_items": null,
            "bottom": null,
            "_model_module": "@jupyter-widgets/base",
            "top": null,
            "grid_column": null,
            "overflow_y": null,
            "overflow_x": null,
            "grid_auto_flow": null,
            "grid_area": null,
            "grid_template_columns": null,
            "flex": null,
            "_model_name": "LayoutModel",
            "justify_items": null,
            "grid_row": null,
            "max_height": null,
            "align_content": null,
            "visibility": null,
            "align_self": null,
            "height": null,
            "min_height": null,
            "padding": null,
            "grid_auto_rows": null,
            "grid_gap": null,
            "max_width": null,
            "order": null,
            "_view_module_version": "1.2.0",
            "grid_template_areas": null,
            "object_position": null,
            "object_fit": null,
            "grid_auto_columns": null,
            "margin": null,
            "display": null,
            "left": null
          }
        },
        "babf3d50f7704a578af81ab43c54c939": {
          "model_module": "@jupyter-widgets/controls",
          "model_name": "DescriptionStyleModel",
          "state": {
            "_view_name": "StyleView",
            "_model_name": "DescriptionStyleModel",
            "description_width": "",
            "_view_module": "@jupyter-widgets/base",
            "_model_module_version": "1.5.0",
            "_view_count": null,
            "_view_module_version": "1.2.0",
            "_model_module": "@jupyter-widgets/controls"
          }
        },
        "1232ceabeeb349c3b4c0b1e06bb7627a": {
          "model_module": "@jupyter-widgets/base",
          "model_name": "LayoutModel",
          "state": {
            "_view_name": "LayoutView",
            "grid_template_rows": null,
            "right": null,
            "justify_content": null,
            "_view_module": "@jupyter-widgets/base",
            "overflow": null,
            "_model_module_version": "1.2.0",
            "_view_count": null,
            "flex_flow": null,
            "width": null,
            "min_width": null,
            "border": null,
            "align_items": null,
            "bottom": null,
            "_model_module": "@jupyter-widgets/base",
            "top": null,
            "grid_column": null,
            "overflow_y": null,
            "overflow_x": null,
            "grid_auto_flow": null,
            "grid_area": null,
            "grid_template_columns": null,
            "flex": null,
            "_model_name": "LayoutModel",
            "justify_items": null,
            "grid_row": null,
            "max_height": null,
            "align_content": null,
            "visibility": null,
            "align_self": null,
            "height": null,
            "min_height": null,
            "padding": null,
            "grid_auto_rows": null,
            "grid_gap": null,
            "max_width": null,
            "order": null,
            "_view_module_version": "1.2.0",
            "grid_template_areas": null,
            "object_position": null,
            "object_fit": null,
            "grid_auto_columns": null,
            "margin": null,
            "display": null,
            "left": null
          }
        }
      }
    }
  },
  "cells": [
    {
      "cell_type": "markdown",
      "metadata": {
        "id": "gC4P2w5JZXoA"
      },
      "source": [
        "#16-1. 들어가며\n",
        "\n",
        "![image.png](data:image/png;base64,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)\n",
        "\n",
        "지난 시간 우리는 transformer 기반의 pretrained model의 발전사를 살펴보고, 어떻게 이 모델들이 맥락 기반의 word representation을 구성할 수 있으며 또한 Transfer learning을 통해 다양한 자연어처리 문제를 쉽게 해결할 수 있는지 살펴보았습니다.\n",
        "\n",
        "이런 모델들을 만들어 내기 위해서는 아주 큰 사이즈의 모델이 필요합니다. 가장 대표적인 BERT만 하더라도 정식 모델은 340M나 되는 파라미터 사이즈를 자랑합니다. 이들을 수십GB나 되는 코퍼스를 토대로 학습시키는 것은 최고 성능의 GPU를 가지고도 수일 내지 수 주일의 시간이 걸립니다. 아마도 여러분 대부분의 학습환경에서 이를 수행하는 것은 가능한 일이 아닐 것입니다.\n",
        "\n",
        "그래서 오늘은 일반적인 10M 정도의 작은 파라미터 사이즈의 BERT 모델을 만들어, 수백MB 수준의 코퍼스 기반으로 pretrain 을 진행해 보도록 하겠습니다. 하지만 진행되는 과정은 정식 BERT와 동일할 테니 이를 토대로 pretrained model이 어떻게 만들어지는지를 경험해 보도록 합시다. 모델을 만들고 학습시키는 것 이상으로 코퍼스 데이터를 가공해서 학습시켜야 할 task에 적합한 형태의 데이터셋으로 만들어가는 것이 큰 비중을 차지한다는 것을 알게 될 것입니다.\n",
        "\n",
        "오늘의 작업을 위해 다음과 같이 작업환경을 마련해 주세요. 학습에 사용할 코퍼스 데이터를 아래에 첨부해 두었습니다.\n",
        "\n",
        "##데이터 다운로드 (로컬 유저용)\n",
        "---\n",
        "```\n",
        "kowiki.txt.zip \n",
        "$ mkdir -p ~/aiffel/bert_pretrain/data\n",
        "$ mkdir -p ~/aiffel/bert_pretrain/models\n",
        "$ wget https://aiffelstaticprd.blob.core.windows.net/media/documents/kowiki.txt.zip\n",
        "$ mv kowiki.txt.zip ~/aiffel/bert_pretrain/data\n",
        "$ cd ~/aiffel/bert_pretrain/data && unzip kowiki.txt.zip\n",
        "```\n",
        "혹시 이번 실습에서 필요한 아래 라이브러리가 없다면 미리 설치해 주세요.\n",
        "```\n",
        "$ pip install sentencepiece\n",
        "$ pip install tqdm\n",
        "$ conda install -c conda-forge ipywidgets\n",
        "$ jupyter nbextension enable --py widgetsnbextension\n",
        "데이터 다운로드 (☁️클라우드 유저용)\n",
        "$ mkdir -p ~/aiffel/bert_pretrain/data\n",
        "$ mkdir -p ~/aiffel/bert_pretrain/models\n",
        "$ ln -s ~/data/kowiki.txt ~/aiffel/bert_pretrain/data/kowiki.txt\n",
        "```\n",
        "##목차\n",
        "---\n",
        "Tokenizer 준비\n",
        "\n",
        "데이터 전처리 (1) MASK 생성\n",
        "\n",
        "데이터 전처리 (2) NSP pair 생성\n",
        "\n",
        "데이터 전처리 (3) 데이터셋 완성\n",
        "\n",
        "BERT 모델 구현\n",
        "\n",
        "pretrain 진행\n",
        "\n",
        "프로젝트 : mini BERT 만들기"
      ]
    },
    {
      "cell_type": "markdown",
      "metadata": {
        "id": "etpB2WahZxdN"
      },
      "source": [
        "#16-2. Tokenizer 준비\n",
        "BERT등의 pretrained model이 나오게 되었을 즈음 자연어처리 분야의 또 다른 중요한 흐름 중 하나는 BPE 등의 subword 기반의 토크나이징 기법이 주요한 방법론으로 굳어졌다는 점입니다. GPT의 BPE, BERT의 WordPiece 모델 등의 성공이 더욱 사람들에게 subword 기반의 토크나이저에 대한 확신을 주었습니다.\n",
        "\n",
        "오늘 우리는 SentencePiece 기반의 토크나이저를 준비하는 것으로 BERT pretrain 과정을 시작할 것입니다. 이 과정 자체는 이미 익숙하실 것이라 생각합니다.\n",
        "\n"
      ]
    },
    {
      "cell_type": "code",
      "metadata": {
        "colab": {
          "base_uri": "https://localhost:8080/"
        },
        "id": "3LcK6RWsZ95g",
        "outputId": "e021fd2f-a403-4619-91e9-83897f0f8f33"
      },
      "source": [
        "!pip install sentencepiece"
      ],
      "execution_count": null,
      "outputs": [
        {
          "output_type": "stream",
          "text": [
            "Collecting sentencepiece\n",
            "\u001b[?25l  Downloading https://files.pythonhosted.org/packages/f5/99/e0808cb947ba10f575839c43e8fafc9cc44e4a7a2c8f79c60db48220a577/sentencepiece-0.1.95-cp37-cp37m-manylinux2014_x86_64.whl (1.2MB)\n",
            "\u001b[K     |████████████████████████████████| 1.2MB 5.8MB/s \n",
            "\u001b[?25hInstalling collected packages: sentencepiece\n",
            "Successfully installed sentencepiece-0.1.95\n"
          ],
          "name": "stdout"
        }
      ]
    },
    {
      "cell_type": "code",
      "metadata": {
        "colab": {
          "base_uri": "https://localhost:8080/"
        },
        "id": "1ij5mfx6TstX",
        "outputId": "6f641ab0-a0a6-4742-a6e7-ad3889349503"
      },
      "source": [
        "# imports\n",
        "from __future__ import absolute_import, division, print_function, unicode_literals\n",
        "\n",
        "import tensorflow as tf\n",
        "import tensorflow.keras.backend as K\n",
        "\n",
        "import os\n",
        "import re\n",
        "import math\n",
        "import numpy as np\n",
        "import pandas as pd\n",
        "import random\n",
        "import collections\n",
        "import json\n",
        "import shutil\n",
        "import zipfile\n",
        "import copy\n",
        "from datetime import datetime\n",
        "\n",
        "import matplotlib.pyplot as plt\n",
        "import sentencepiece as spm\n",
        "from tqdm.notebook import tqdm\n",
        "\n",
        "random_seed = 1234\n",
        "random.seed(random_seed)\n",
        "np.random.seed(random_seed)\n",
        "tf.random.set_seed(random_seed)\n",
        "\n",
        "# tf version 및 gpu 확인\n",
        "print(tf.__version__)\n",
        "print(tf.config.list_physical_devices('GPU'))\n",
        "print(tf.test.gpu_device_name())"
      ],
      "execution_count": null,
      "outputs": [
        {
          "output_type": "stream",
          "text": [
            "2.4.1\n",
            "[PhysicalDevice(name='/physical_device:GPU:0', device_type='GPU')]\n",
            "/device:GPU:0\n"
          ],
          "name": "stdout"
        }
      ]
    },
    {
      "cell_type": "markdown",
      "metadata": {
        "id": "RtGtpgKUZ7Hm"
      },
      "source": [
        "준비해 둔 한글 나무위키 코퍼스로부터 32000의 vocab_size를 갖는 sentencepiece 모델을 생성해 보겠습니다.\n",
        "\n",
        "BERT에 사용되는 \\[MASK], \\[SEP], \\[CLS] 등의 주요 특수문자가 vocab에 포함되어야 함에 주의해 주세요. 아래와 같이 모델을 생성하게 되면 약 10분 정도가 소요될 것입니다."
      ]
    },
    {
      "cell_type": "code",
      "metadata": {
        "colab": {
          "base_uri": "https://localhost:8080/"
        },
        "id": "lxFOFrDpZ4cp",
        "outputId": "c18156e3-d149-4e9f-f63e-c96e94932427"
      },
      "source": [
        "import sentencepiece as spm\n",
        "import os\n",
        "# corpus_file = os.getenv('HOME')+'/aiffel/bert_pretrain/data/kowiki.txt'\n",
        "base_path = '/content/drive/MyDrive/DL_Study/AIFFEL/19_Bert/'\n",
        "corpus_file = base_path + 'data/kowiki.txt'\n",
        "\n",
        "prefix = 'ko_32000'\n",
        "vocab_size = 32000\n",
        "\n",
        "spm.SentencePieceTrainer.train(\n",
        "    f\"--input={corpus_file} --model_prefix={prefix} --vocab_size={vocab_size + 7}\" + \n",
        "    \" --model_type=bpe\" +\n",
        "    \" --max_sentence_length=999999\" + # 문장 최대 길이\n",
        "    \" --pad_id=0 --pad_piece=[PAD]\" + # pad (0)\n",
        "    \" --unk_id=1 --unk_piece=[UNK]\" + # unknown (1)\n",
        "    \" --bos_id=2 --bos_piece=[BOS]\" + # begin of sequence (2)\n",
        "    \" --eos_id=3 --eos_piece=[EOS]\" + # end of sequence (3)\n",
        "    \" --user_defined_symbols=[SEP],[CLS],[MASK]\") # 사용자 정의 토큰\n",
        "\n",
        "print(\"완료=3\")   # 완료메시지가 출력될 때까지 아무 출력내용이 없더라도 기다려 주세요."
      ],
      "execution_count": null,
      "outputs": [
        {
          "output_type": "stream",
          "text": [
            "완료=3\n"
          ],
          "name": "stdout"
        }
      ]
    },
    {
      "cell_type": "markdown",
      "metadata": {
        "id": "BSQHnBXzb98U"
      },
      "source": [
        "준비해 둔 한글 나무위키 코퍼스로부터 32000의 vocab_size를 갖는 sentencepiece 모델을 생성해 보겠습니다.\n",
        "\n",
        "BERT에 사용되는 \\[MASK], \\[SEP], \\[CLS] 등의 주요 특수문자가 vocab에 포함되어야 함에 주의해 주세요. 아래와 같이 모델을 생성하게 되면 약 10분 정도가 소요될 것입니다."
      ]
    },
    {
      "cell_type": "markdown",
      "metadata": {
        "id": "lnDLEPtMcDnE"
      },
      "source": [
        "![image.png](data:image/png;base64,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)\n",
        "로컬 커널 사용시에는 위 이미지와 같이 터미널에서 ko_32000.model, ko_32000.vocab 생성을 확인할 수도 있습니다.\n",
        "\n",
        "sentencepiece 모델 학습이 끝난 후 생성된 ko_32000.model, ko_32000.vocab 두 파일은 커널이 생성되었을 때의 홈디렉토리에 생성되었을 것입니다. 이 두 파일을 ~/aiffel/bert_pretrain/models 아래로 이동시킨 후 계속 진행해 주세요.\n",
        "\n",
        "```\n",
        "# 홈 디렉토리에서 아래 명령어를 입력해 주세요.\n",
        "$ mv ko_32000.* ~/aiffel/bert_pretrain/models\n",
        "```"
      ]
    },
    {
      "cell_type": "code",
      "metadata": {
        "colab": {
          "base_uri": "https://localhost:8080/"
        },
        "id": "tDdEoVHYcQbw",
        "outputId": "2ec33cad-bb2d-4ef1-a07c-ac6271c2bde4"
      },
      "source": [
        "data_dir = base_path\n",
        "model_dir = base_path+'/models'\n",
        "\n",
        "# vocab loading\n",
        "vocab = spm.SentencePieceProcessor()\n",
        "vocab.load(f\"{model_dir}/ko_32000.model\")"
      ],
      "execution_count": null,
      "outputs": [
        {
          "output_type": "execute_result",
          "data": {
            "text/plain": [
              "True"
            ]
          },
          "metadata": {
            "tags": []
          },
          "execution_count": 4
        }
      ]
    },
    {
      "cell_type": "markdown",
      "metadata": {
        "id": "5pq9zHhYdXC9"
      },
      "source": [
        "토크나이저가 잘 만들어졌는지 확인해 봅시다. 어떤 토큰이 만들어졌는지, 토크나이징 결과가 어떻게 나오는지 살펴볼까요?"
      ]
    },
    {
      "cell_type": "code",
      "metadata": {
        "colab": {
          "base_uri": "https://localhost:8080/"
        },
        "id": "lazf8XTOdXYB",
        "outputId": "386d9e8d-4349-4894-9c75-8a19f47ec43a"
      },
      "source": [
        "# 특수 token 7개를 제외한 나머지 tokens 들\n",
        "vocab_list = []\n",
        "for id in range(7, len(vocab)):\n",
        "    if not vocab.is_unknown(id):\n",
        "        vocab_list.append(vocab.id_to_piece(id))\n",
        "print(vocab_list)"
      ],
      "execution_count": null,
      "outputs": [
        {
          "output_type": "stream",
          "text": [
            "['.', ',', '의', '는', '▁', ')', '에', '(', '년', '을', '이', '은', '가', '를', '로', '에서', '월', '과', '▁있다', '와', '으로', '일', '이다', '▁이', '인', '도', '한', '▁수', '▁1', '▁2', '고', '▁그', '▁3', '▁있는', '하는', '▁제', '하고', '\"', '▁\"', '▁4', '지', '기', '다', '▁《', '하여', '▁5', '했다', '하였다', '▁(', \"'\", '나', '▁한', '시', '해', '할', \"▁'\", '만', '▁6', '사', '▁10', '▁중', '-', '서', '자', '》', '대', '▁8', '▁7', '년에', '▁한다', '·', '에게', '▁후', '▁~', '▁9', '▁그는', '▁이후', '▁등', '리', '된', '▁되었다', '스', '▁12', '적', '성', '주', '▁다른', '▁대한', '되었다', '▁같은', '▁및', '▁두', '라', '▁때', '부', '▁전', '한다', '하게', '▁11', '),', '수', '어', '2', '▁또한', '이며', '▁함께', '()', '개', '▁위해', '차', '에서는', '명', '▁)', '에는', '상', '화', '세', '면', '라는', '되어', '동', '▁주', '▁시', '제', '1', '진', '▁때문에', '▁그러나', '아', '▁그의', '라고', '하기', '게', ':', '▁가장', '▁formula', '적인', '▁것을', '전', '▁일본', '조', '장', '▁있으며', '들이', '비', '▁더', '원', '▁미국', '산', '호', '▁또는', 'm', '▁따라', '정', '▁했다', 's', '▁것으로', '까지', '▁된다', '구', '선', '회', '▁그리고', '오', '우', '이나', '미', '▁있었다', '트', '▁당시', '소', '▁16', '들은', '▁오', '야', '▁15', '▁의해', '하며', '▁신', '마', '▁아', '군', '▁많은', '▁다음과', '▁것이다', '▁통해', '▁성', '보', '▁비', '▁‘', '▁정', '일에', '신', '치', '▁구', '하지', '▁대', '드', '▁다시', '▁역', '타', '3', '▁해', '노', '▁하는', '▁고', '위', '▁대한민국의', '▁17', '▁첫', '▁사', '들을', '니', '▁것이', '이라는', '▁유', '’', '▁현재', '▁약', '▁큰', '천', '▁20', '▁장', '/', '현', '▁소', '▁경우', '▁세', '▁여러', '형', '▁하였다', '▁세계', '당', '계', '▁모두', '▁14', '▁한국', '▁대한민국', '하', '하면서', '▁데', '▁모든', '▁가', '용', '개의', '코', '식', '▁조', '파', '이라고', '토', '무', '▁강', '문', '며', '경', '▁다', '▁다음', '되고', '포', '▁도', '중', '▁미', '▁내', '▁위한', '공', '▁등의', '레', '하였고', '▁할', '되는', '였다', '했고', '▁뒤', '유', '▁같다', '▁13', '▁지', '▁것은', '바', '이었다', '관', '카', 'km', '▁양', '모', '▁자신의', '▁일', '데', '▁축구', '▁안', '년부터', '분', '▁총', '▁등이', '▁부', '▁기', '국', '▁선', '루', '▁-', '년에는', '▁마', '들', '강', '적으로', '▁이러한', '크', '▁서', '▁원', '된다', '즈', '영', '▁알', '▁하지만', '▁〈', '석', '▁18', '키', '▁대해', '▁등을', '▁나', '▁바', '▁각', '안', '들의', '▁A', '란', '여', '▁위치한', '보다', '단', '르', '프', '>', '▁상', '▁시즌', '학', '▁말', '▁30', '▁산', '▁영화', '재', '티', '연', '법', '양', '네', '▁조선', '▁동안', '간', '4', '▁중국', '▁호', '▁무', '디', '▁또', '▁자', '▁2010', '▁군', '▁하고', '부터', '▁보', '던', '▁되어', '▁이는', '로서', '▁반', '▁동', '방', '▁미국의', '▁하', '▁B', '이자', '▁“', '후', '▁리', '▁이를', '▁우', '▁2008', '히', '역', '▁지역', '▁특히', '번', '〉', '종', 'C', '▁당', '▁모', '▁진', '▁S', '세기', '▁같이', '▁일부', '권', '▁김', '피', '년까지', '초', '▁번째', '이고', '▁된', '▁19', '▁현', '교', '체', '요', '▁경', '▁리그', 'A', '▁2007', '▁<', '로부터', '▁K', '▁노', '▁주로', '▁피', '▁C', '▁있고', '▁2011', '러', '▁2009', '▁볼', '▁새로운', '되었고', '5', '▁프랑스', '▁2012', '실', '했으며', '▁잘', 'S', '청', '▁명', '급', '월에', '▁것', '▁인해', '왕', '▁즉', '거', '민', '하였으며', 'B', '면서', '▁초', '▁받았다', '▁단', '▁있던', '▁카', '▁국가', '집', '반', '▁2014', '▁위', '▁매우', '▁아니라', '▁재', '▁파', '▁서울', '에도', '▁남', '승', '▁국제', '남', '▁라', '린', '▁2013', '▁M', '▁코', '그', '▁가지고', '▁영국', '”', '배', '▁없다', '될', '병', '▁이에', '생', '▁독일', '더', '운', '두', '▁있어', '▁일본의', '▁않았다', '▁25', '▁어', '▁불', 'D', '테', '▁게임', '▁2015', '▁결국', '▁없는', '▁않고', '6', '▁2006', '▁간', '했던', '각', '발', '점', '▁삼', '▁공', '▁이어', '▁많이', '▁타', '창', '이라', '림', '류', '▁21', '질', '▁영', '▁포', '▁2016', 'K', '▁연구', '▁왕', '▁외', '▁도시', '▁스', '년대', '▁박', '▁한편', '일부터', '\")', '▁주요', '령', '량', '▁F', '온', '▁배', '▁가운데', '▁24', '봉', '물', '터', '▁유럽', '▁연', '▁로', '하기도', '등', '내', '명의', '▁문', '▁백', '광', '금', '감', '▁본', '판', '▁다양한', '▁기준', '▁따라서', '▁방송', '되었으며', '▁22', '▁이상', '▁올림픽', '▁음악', '▁들어', '▁23', '항', '▁만', '메', '▁2017', 'T', '▁로마', 'M', '▁인', '▁수도', '목', '츠', '▁T', '주의', '▁대학', '랑', '▁번', '속', '▁방', 't', '▁이름을', '▁전쟁', '▁경기', '론', '▁2018', '백', '▁D', '▁P', '되지', '음', '▁2005', '▁거의', '▁러시아', '▁R', '▁G', '태', '▁청', '브', '암', '▁선수', '▁심', '▁작은', '▁높은', '▁계속', '▁2000', '▁예', '▁여', '행', '▁매', '예', '으로부터', '순', '하면', '7', '▁처음', '▁프로', '▁28', '쿠', '▁네', '▁사회', '▁따르면', '직', '▁영향을', '설', '였던', '▁조직', '▁2004', '▁경제', '복', '▁이탈리아', '하다', '초등학교', '▁26', '▁27', '▁인구는', '저', 'P', 'y', 'F', '▁여자', '▁않은', '위를', '▁금', '▁알려져', '▁가지', '▁말한다', '에서도', '▁아들', '케', '심', '▁of', '▁개', '▁지방', '▁날', '▁난', '▁고려', '▁있는데', '▁차', '▁교육', '처럼', '번째', '본', '▁100', '▁레', '▁되는', '▁뜻은', '엔', '살', '하던', '베', '▁여성', '들과', '곡', '버', '8', '희', '으로서', '▁사용', '▁드라마', '19', '▁역시', '▁서로', 'n', 'G', '불', '▁크게', '▁발', '하자', '근', '▁관한', '▁E', '▁중요한', '▁개발', '▁열린', '▁않는다', '▁하여', '▁후에', '▁황', '지만', '▁적', '려', '와의', '▁송', '했지만', '억', '▁임', '▁종', '덕', '▁FC', '절', '▁그가', '▁받아', '달', '▁29', '투', '▁열', '▁직접', '▁거쳐', '▁않는', '▁각각', '▁속', '약', '일까지', '▁화', '▁치', '통', '▁몇', '평', '환', '▁달', '기를', '철', '해서', '▁새', '▁2002', '▁사이에', '▁최', '하였으나', '었다', 'V', '층', '씨', '건', '되면서', '▁동시에', '매', '▁분', '▁경기도', '증', '▁가진', '▁군사', '성을', '▁시작했다', '탄', '임', '해야', '(\"', 'R', '▁대전', '金', '▁대통령', '▁아닌', '▁어떤', '▁H', '족', '▁W', '▁윤', '▁2003', '▁베', '▁달리', '▁J', '▁독립', '준', '▁존', '기도', '▁천', '▁마지막', '으며', '▁키', '▁역할을', '지는', 'e', '▁판', '10', '▁활동', '▁철도', '▁처음으로', '난', '명이', '▁최초의', '▁의한', '▁시대', '▁기술', '했으나', '9', '▁토', '이었던', '▁운영', '▁생산', '▁물', '▁보통', 'E', '력', '▁결과', '▁북', '▁자유', '열', '▁중앙', '大', '▁최고', '▁「', '박', '▁보고', '▁홍', '▁전투', '너', '▁저', '山', '▁실', '▁팀', '▁:', '세의', '말', 'N', '▁공격', '▁루', '작', '길', '▁대신', 'W', '▁31', '▁행정', '▁시리즈', '▁되고', 'L', '▁위하여', '▁있을', ']', '표', '」', '》(', '됐다', '추', '▁온', '▁음반', '▁제작', '처', '▁1990', '▁정치', '▁경기에서', '▁채', '▁국민', '거나', '▁대회', '▁용', 'H', '▁기록', '▁입', '▁병', '이기도', '▁혹은', '▁건설', '▁하며', '슈', '▁교', '색', '▁기원전', '변', '▁변', '▁중심으로', '호로', '▁지원', '▁요', '▁일반적으로', '▁L', '락', '송', '▁애', '▁속하는', '▁정도', '▁V', '시켰다', '▁감독', '충', '는데', '▁개의', '▁야', '커', '▁이것은', '▁이때', '▁이미', 'a', '상을', '▁광', '▁자연', ')·', '▁우승', '▁될', '▁국', '▁2001', '▁문화', '▁있다고', '함', '李', '▁관리', '▁없이', '▁컴퓨터', '▁겸', '▁받은', '▁봉', '▁앨범', '▁석', '▁법', '▁만든', '▁허', '▁바로', '▁관련', '▁섬', '▁현대', '대학교', '빈', '대학', '▁하나', '▁디', '▁공식', '▁소속', '▁받고', '스트', 'i', '▁배우이다', '▁시작', '▁50', '자가', '▁U', '▁때문이다', '언', '▁기준으로', '▁그리스', '~', '골', '극', '▁구성', '합', '▁되었고', '▁아버지', '시간', '▁싱글', '래', '립', '▁교황', '▁순', '▁그녀는', '▁N', '편', '▁전체', '있다', '업', '▁the', '▁야구', '▁진행', '▁영화이다', '링', '▁정부', '하는데', '▁FIFA', '▁태어났다', '▁I', '품', '하거나', '▁창', '▁두고', '▁일반', ']]', '▁지정되었다', '리그', 'ing', '▁해당', '손', '▁서울특별시', '향', '져', '망', '▁자신이', '▁줄', '▁권', '출', '▁활동을', '▁원래', '▁하나이다', 'al', '▁아이', '▁1980', '외', '▁별', '▁이름은', '▁존재', '▁대학교', '범', '▁감', '규', '▁결정', '▁있어서', '▁있지만', '록', '▁발매', '▁이런', '이란', '▁메', '▁남자', '▁대부분의', '들에게', 'er', '▁손', '읍', 'cm', '▁1999', '▁편', '▁고대', 'o', '▁스페인', '▁그를', '▁TV', '▁전기', '명을', '▁지역에', '▁1998', '▁사상', '별', '격', '▁드', '훈', '퍼', '▁자기', '악', '숙', '▁0', '▁인도', '▁초기', '▁인구', '▁하다', '▁살', '▁최초로', '▁[[', '▁이전', '▁전자', '▁대하여', '▁선거', '▁그룹', '장을', '중학교', '▁기독교', '▁부산', '!', '▁사건', '하지만', '▁이상의', '▁계획', '담', '▁건', '▁잉글랜드', '▁시간', '▁점', '▁관', '▁배우', 'h', '▁등으로', '▁추가', '20', '▁목', '▁태', '▁등에', '삼', '▁보인다', '▁있었던', '북', '렌', '▁분류', '▁전국', '▁만들어', '필', '▁공화국', '▁팔', '▁계', '▁발전', '▁애니메이션', '▁정보', '▁걸쳐', '▁이름으로', '▁거', '되며', '▁생활', '▁월드컵', '▁대부분', '▁없었다', '런', '▁반대', '스는', 'd', '▁최대', '녀', '▁데뷔', '▁선수이다', '▁민', '▁어느', 'I', '돌', '▁1997', '▁2019', '▁도쿄', '함으로써', 'in', '▁이유로', '턴', 'l', '▁이용', '일에는', '결', '▁기타', '칸', '선의', '▁연방', '스타', '축', '▁곡', '▁출신', '▁있게', '▁생각', '▁·', '▁1995', '▁좋은', 'O', '▁가리킨다', '▁발생', '▁변경', '풍', '▁이동', '▁면적은', '년간', '▁공립', '▁회', '입', '▁1996', '누', '▁대표', '▁나라', '▁시스템', '▁사람이', '▁40', '세는', '▁학교', '▁발표', 'b', '채', '▁음', '페', '_1', '▁패', '▁승강장', '▁기간', '권을', '▁네덜란드', 'en', '▁예를', '했는데', '▁폴란드', '▁조사', '▁표현', '▁쿠', '▁추', 'ed', '▁형', '▁곧', '▁황제', '▁공동', '▁어머니', '되기', '▁사이', '리아', '애', '▁더욱', '▁노래', '탈', '▁체', '문화', '▁민족', 'mm', '▁아시아', '▁육군', '▁식', '팀', '▁들', '총', '▁이들은', '▁그들의', '슨', '세가', '▁사용하는', '▁생', '▁산업', '고등학교', '이지만', '독', '▁말했다', '▁집', '례', '▁기업', '▁1994', '▁페', 'p', '있는', '▁이와', '▁친', '▁이야기', '▁운동', '▁길', '▁맡았다', '시켜', '▁이들', '▁현재는', '시키는', 'k', '▁것이라고', '▁투', '▁철', '▁1970', '▁가수', '▁1992', '▁하나의', '▁하나로', '▁연결', '▁향', '▁통', '갈', '0', '익', '머', '졌다', '▁모습을', '패', '헌', '▁밝혔다', '▁유지', '▁지역의', '촌', '18', '찬', '▁참', '▁행', 'g', '윤', '▁불구하고', '성이', '▁설립', '▁하지', '▁알려진', '▁과학', '▁사람', 'The', '11', '지를', '막', '옥', '▁작품', '▁확장', '위원회', '▁시절', '▁못했다', '▁많다', '들에', '황', '술', '군의', '▁귀', '▁공연', '▁서비스', '▁전에', '▁문제', '▁전문', '▁프로그램', '12', '나무', '▁널리', '대로', '▁종교', '▁우주', '▁영국의', '▁국내', '▁선발', '▁빈', '文', '월부터', '▁텔레비전', '▁제국', '30', '▁이듬해', '▁않다', '▁비해', '▁돌', '▁사실', '▁그들은', '▁것에', '▁평균', '▁등과', '샤', '▁선택', 'J', '▁위에', '▁아래', '새', '▁긴', '울', '월에는', '▁스타', '료', '리에', '▁1991', '▁포함한', '▁티', '▁연합', '▁명의', '▁도로', '▁준', '▁존재한다', '홍', '▁관계', '▁연속', '▁발견', '▁쇼', '▁갖고', '마다', '▁포함', '자를', '▁사이의', '궁', 'us', '▁km', '▁지구', 'f', '▁1993', '▁자주', '▁소설', '때', '하도록', '▁완전히', '▁비롯한', '▁주의', '▁목적으로', '경기', '▁평', '▁현재의', '▁성공', '▁표준', '▁뉴욕', '▁클럽', '▁딸', '▁1960', 'u', '개월', '▁개인', '▁1988', '쇼', '▁남부', '▁사업', '▁결혼', '▁슈', '▁통합', '▁X', '▁인간', '▁설치', '▁면', '▁못', '王', '▁그대로', '▁베트남', '▁인터넷', '▁유명한', '먼', 'X', '▁증가', 'c', '15', '▁정규', '맨', '▁수상', '▁판매', '▁주도', '▁여기서', '▁보호', '날', '▁정도로', '▁하계', '▁과거', '도록', '▁캐나다', '▁중심', '▁정의', '▁막', '▁독일의', '▁출전', '▁때까지', '▁과정에서', '좌', '했을', '▁우승을', '다가', '▁평가', '학교', '▁남아', '▁있도록', '인데', '견', '자로', '▁프랑스의', '볼', '▁기본', 'th', '▁세포', '▁UEFA', '▁보내', '▁역사', '▁부분', '▁차량', '▁의하여', '▁사람들이', '▁암', '▁1989', '▁있기', '되었으나', '▁해군', '▁선수로', '▁스포츠', '▁있으나', '▁먼저', '▁밀', '방송', '회의', '▁골', '80', '기는', '섬', '▁도입', '▁영어', '▁옛', '▁중에', '▁환경', '▁게', '야마', '國', '16', '▁죽', '▁O', 'Y', ';', '▁분석', '▁지배', '▁누', '▁통일', '▁오스트리아', '쓰', '▁것과', '▁그녀의', '▁공개', '▁상대', '▁갈', '▁히', '▁강화', '▁것이었다', '▁국가대표팀', '▁대구', '▁KBS', '귀', '위에', '▁사망', '▁선수권', '▁최종', '60', '▁맥', '교육', 'U', '▁불리는', '사를', '자의', '▁형성', '▁비슷한', '▁가능하다', 'le', '17', '▁지냈다', '릴', '▁법률', '▁걸', '▁항공', '▁문학', '▁벌', '▁악', '▁환', '▁경우가', 'on', '▁밴드', '▁교수', '었고', '기가', '▁함', '김', '▁시도', '▁칼', 'or', '▁혁명', '▁사용한다', '▁헌법', '하였는데', '▁아프리카', '▁초대', '▁자동차', '▁마을', '밀', '워', '▁기능', '▁실제', '▁동부', '▁설', '▁진출', '룡', '▁집단', '▁변화', '▁이름', '▁북부', '▁부족', '13', \")'\", '▁지명', '▁처리', '름', '완', '▁버', '》()', '▁상대로', '동에', '센', '▁수많은', '▁의하면', '▁높이', '▁국립', '▁해석', '스의', '▁동물', '▁라디오', '▁계약', '군은', '▁남성', '▁제국의', '▁구조', '▁끝에', '흥', '▁의미한다', '州', '▁이름이', '▁곳에', '▁200', '▁출연', '스터', '▁스스로', '▁형태로', '사가', '▁샤', '친', '▁1945', '▁위해서', '▁대표적인', '▁풍', '▁책', '▁구성되어', '▁건물', '40', '▁사이에서', '▁운행', '든', '▁추진', '▁특정', 'is', '▁주장', '자는', '만이', '▁절', '▁수행', '▁표', '▁있지', '▁공작', '▁오스트레일리아', '▁지역에서', '▁관측', '▁서부', '염', '▁푸', '▁부른다', '[', '50', '취', '알', '25', '▁이렇게', '▁시기', '▁1986', '-1', 'TV', '▁m', '▁1987', '三', '▁마찬가지로', '▁시작하였다', '▁연기', '▁나머지', '道', '▁기록했다', '▁경상북도', '▁예술', '▁육', '▁몸', '▁1950', '▁만에', '▁언어', '톤', '▁설계', '▁질', '南', '(18', '▁옥', '가지', '▁공간', '하라', 'ar', '▁와', '▁건축', '▁승리', '▁아르', '호선', '▁경상남도', '▁시에', '▁모델', '흐', '허', '▁버스', '▁보다', '▁행성', '택', '▁쓴', '명이다', '▁후보', '▁완', '14', '▁파괴', '▁공항', '▁프리', '▁주변', '▁헤', '▁『', '▁에너지', '▁과', '▁있다는', '▁근', '▁테', '▁전라남도', '▁사용된다', '▁조선민주주의인민공화국', '▁밤', '▁인천', '▁성장', '▁부인', '▁지난', '련', '▁파리', '安', '▁정리', '빌', '▁미국에서', '▁쓰', '▁뿐', '▁인식', '▁커', '▁몇몇', '▁노선', '▁준비', '▁요리', '▁필', '른', '▁태양', '▁대해서는', '▁칸', '▁사용할', '▁복', '▁그린', '▁1984', '▁이루어져', '스키', '되기도', '시에', '▁통치', '▁도시로', 'br', '▁다만', '▁올', '▁가정', '▁데이터', '▁만화', '▁소프트웨어', '▁기관', '만을', '東', '▁있었고', '▁실험', '▁식민지', '子', '▁덕', '▁불교', '▁못하고', '▁조각', '▁관련된', '▁레이', '城', '▁때는', '했다고', '벌', '▁색', '▁중에서', '▁사고', '▁일을', '▁위치하고', '▁등장', '▁떨어진', '▁요구', '▁폐', '▁따른', '▁열차', '▁목록', '▁니', '▁배치', '▁소련', '하려', '▁지지', '묘', '▁지하철', 'an', '책', '하기로', '▁정당', '▁연주', '▁1985', '▁멕시코', '람', '블', '▁길이', '기에', '▁편성', '▁전통', '▁문자', '▁제품', '▁식물', '▁표기', '춘', '▁우리', 'ro', '시키고', '▁참여', '▁극', '▁통과', '협회', 're', '▁각종', '▁만들', '▁나가', '▁것도', 'z', '▁발사', '▁못한', '▁광주', '▁사진', '▁오후', '▁인정', '▁디자인', '력을', '▁프로젝트', 'ur', '▁60', '▁일제', '▁적이', '▁조정', '▁폴', '▁적용', 'x', '▁눈', 'el', '▁나무', '▁접', 'r', '센터', '70', '되자', '▁않아', '▁합', '▁확대', '▁가능한', '하다가', '氏', '▁유일한', '▁독', '스크', '군을', '▁확인', '▁왔다', '▁구단', '▁학', '▁내부', '▁중화인민공화국', '▁감소', '▁제한', '▁더불어', '▁사랑', '대를', '▁브라질', '▁제도', '▁이용하여', '▁강한', '▁핵', '▁지정', '▁정책', 'it', '▁경우에는', '팔', '▁부여', '농', '▁번역', '▁학생', '▁작가', '기로', '▁집합', '▁개최', '혜', '』', '▁비디오', '▁제조', 'es', '▁대상', '기관', '▁상태', '▁디지털', '▁제공', '▁문제가', '자리', 'ad', '릉', '▁아니다', '▁개혁', '▁신라', '팅', '▁행사', '명은', '▁가까운', '▁분리', '▁불린다', '▁한국의', '자와', '90', '▁평화', '▁엘', '▁경기를', '라고도', '▁and', '▁졸업', '션', '▁교회', '명으로', '▁교통', '▁필요한', '▁팀의', '전에서', 'w', '▁록', '》,', '▁1982', '▁런던', '▁임명', '돈', '▁마리', '▁폰', '세를', '人', '▁충청남도', '한다는', '▁시행', '24', '▁낮은', '▁지도', '▁홈', '▁만들었다', '▁하이', '▁특별', '칠', '▁국회의원', '?', '▁결합', '▁요시', '운동', '▁항', '습', '▁문제를', '▁방어', '▁망', '▁의원', '▁정식', '天', '▁구조를', '장이', '▁조성', '▁돈', '▁어린', '▁개통', '▁국경', '▁함수', '▁남쪽', '움', '▁정부는', '리는', '참', '▁떠나', '▁관계를', '▁안에', '▁1983', '中', '▁만들어진', '法', '곤', '▁경영', '효', '▁삼성', '▁전환', '장으로', '▁표시', '▁아직', '▁설정', '▁앞', '▁일어난', '▁말을', 'ia', '▁활약', '▁의사', '▁바탕으로', '▁강원도', '▁점령', '검', '관리', '▁전투에서', '▁스웨덴', '▁실제로', '▁캐릭터', '▁촬영', '▁정치적', '▁만약', '▁신문', '▁뒤에', '▁비판', '레스', '균', '▁회사', '침', '간의', '▁둘', '▁기존', '함을', '월까지', '▁되었으며', '▁머리', '▁승', '▁작업', '혼', '▁북한', '▁MBC', '▁터키', '▁고등학교', '寺', '씩', '▁올랐다', '긴', '▁사실을', '▁출신의', '였으며', '▁기후', '▁만나', '푸', '▁경쟁', 'et', '▁주었다', '▁작전', '냐', '▁계산', '▁반면', '▁The', '宗', '▁그해', '▁새로', '▁지역을', '▁충돌', '군이', '▁멤버', '조선', '▁/', '점을', '았다', '▁터', '▁뿐만', '▁교체', '▁그림', '▁기계', '▁위치', '▁기존의', '▁후반', '▁지하', '▁본래', '▁판단', '▁지적', '임을', '위로', '▁의미', '정부', '27', '▁해외', '▁연장', '▁위치해', '▁발달', '▁제외한', '▁천황', '▁위의', '▁설명', '▁가리키는', '▁중간', '48', '일본', '리스', '▁간의', '골을', '▁오브', '▁기록을', '▁땅', '▁잡', '▁직', '▁아일랜드', '▁이적', '▁풀', '▁사람은', '▁지휘', '▁아니', '▁나중에', '▁수정', '▁들어가', '▁[', '으나', '▁반란', '▁일이', '▁대회에서', '플', '▁행동', '시킨', '쉬', '26', '▁물론', '▁최고의', '▁철도역', '상의', '▁사용되는', '▁소개', '▁조지', '▁감독의', '쳐', '▁항상', '영화', '갑', '▁범', '이라고도', '▁실행', '▁1979', '▁제임스', '액', '거리', '니아', '하려는', '▁월드', '▁개선', '▁1981', '▁문서', '▁동생', '년대에', '튼', '▁타이', '▁탈', '▁하기', '▁통하여', '▁참가', '▁기능을', '사의', '▁있었지만', '▁뉴', '▁일종이다', '산업', '줄', '▁마리아', '▁처', '21', '▁만드는', '▁인한', '▁경찰', '사업', '▁일반적인', '▁웹', '▁공급', '▁종료', '▁1972', '▁보도', '▁외부', '▁생활을', '▁엔', '▁등에서', '▁작', '▁궤도', '압', '되었는데', '▁녹음', '제를', '들로', '틀', '▁de', '▁사람을', '였고', '었으며', '▁뉴스', '혈', '겐', '앙', '스와', '▁스위스', '▁작곡', '▁자리', '▁훈련', '▁시민', '▁의해서', '▁선정', '▁급', '▁파일', '▁시장', '▁말이다', '화를', '正', '▁밖에', '▁보면', '▁부대', '척', '틴', '▁인수', '▁제작된', '▁능', '▁여전히', '28', '존', '▁사용하여', '▁시험', '▁그래서', '▁전개', '▁대륙', '▁완성', '▁본관은', '대의', '▁쉽게', '▁붕괴', '▁하자', '▁장치', '학년', 'id', '▁금지', '으로써', '▁1973', '▁중국의', '29', '▁투수', '▁승격', '올', '▁잡지', '▁핀란드', '▁동쪽', '▁반응', '▁전달', '▁경험', '▁시작되었다', '▁갖춘', '▁내에서', '▁방영', '▁동계', '지역', '▁잔', '▁나온', '▁시기에', '▁언론', '▁주는', '▁무장', '▁단체', '몬', '▁인물', '로써', '▁노력', '돼', '탑', '세기에', '▁낙', '▁설립된', '▁종합', '▁선언', '수가', '▁시대의', '착', '▁둔', '▁경우도', '▁태어난', '수를', '▁대체', '▁정부의', '▁협력', 'un', '▁전차', '▁내려', '응', '▁매년', '단체', '07', '스가', '▁32', '▁폭', '▁검', '▁가는', '▁떨어져', '▁외에도', '▁승리를', '▁취', '▁접근', '▁사용한', '▁오사카', '▁울', '23', '측', '▁가톨릭', '川', '▁자리를', '▁무기', '엽', '▁묘', '▁헝가리', '元', '▁뒤를', '▁센터', '▁사실상', '▁수립', '지고', '▁대해서', '▁기사', '▁중단', '▁강력한', '▁조약', '▁이해', '▁실시', '덴', '▁힘', '버스', '▁계약을', '사회', '▁수학', '▁형제', '▁본선', '▁주장했다', '▁관심을', '교회', '기술', '▁유리', '▁시설', '▁항성', 'as', '▁점차', '▁필리핀', '▁침공', '平', '닝', '▁찾아', '육', '▁출시', '▁사회주의', '▁글', '▁발행', '▁보존', '▁in', '걸', '했기', '탁', '▁쓰인다', '▁속에서', '님', '클', '장은', '▁필요', '▁옮겨', '▁뜻이', '▁이루어진', '▁플레이', '▁최근', '▁음력', '▁저항', '하려고', '▁은퇴', '▁공격을', '컵', '公', '되었지만', '경제', '▁대형', '▁500', '▁양식', '▁속에', '▁1974', '▁허용', '▁해방', '▁대립', '선을', '▁실패', '▁설치되어', '회사', '▁이끄는', '▁비행', '▁엔진', '▁농', '십', '▁초등학교이다', '▁나서', '▁신경', '▁대응', '▁치료', '▁끝', '▁농업', '▁유명', '▁사람들은', '▁받는', '事', '몽', '젠', '▁태평양', '차원', '▁계승', '▁위치한다', '▁이집트', '▁정보를', '▁출판', '벽', '▁임시', '진다', '폭', '▁다섯', '▁친구', 'Z', '▁1976', '▁작용', '▁증', '▁임명되었다', ')》', '▁구역', '▁너무', '사로', '베르', '▁측정', '▁유로', '▁개봉한', '▁인기를', '딩', '랜드', '▁화학', '▁a', '▁버전', '▁비교적', '▁형태', '▁류', '▁지도자', '▁폭발', '▁세웠다', '▁병력', '長', '▁구분', '▁1920', '▁1978', '협', '▁방식으로', ')\"', '▁기자', '▁세운', '▁좌', '▁이전에', '▁시의', '▁뛰어난', '▁때에는', '▁인민', '▁잠시', '엘', '▁형식', '-2', '01', '▁발표했다', '▁규정', '▁선의', '▁발견된다', '▁죽은', '▁종종', '▁다이', '법을', '▁네트워크', '▁콜', '▁윌리엄', '▁재직', '▁여행', '▁시대에', '▁이스라엘', '▁물질', '▁s', '▁노동', '▁공군', '▁여름', '▁민주당', '▁케', '▁윈도우', '▁부문', '▁거주', '▁직후', '▁방문', '▁기대', '▁나오는', '▁이것이', '▁1971', '칭', '▁얼마', '▁하루', 'um', '▁수입', '▁활용', '▁포르투갈', '▁폐지', '▁빌', '▁해체', '▁태어나', '▁앤', '▁1975', '▁1930', '▁1968', '지로', '▁알고', '▁귀족', '▁자신을', '▁연맹', '징', '▁회복', '▁1963', '▁원정', '글', '▁영상', '▁크', '22', '▁아르헨티나', 'st', '▁80', '▁언급', '직을', '▁무역', '▁흔히', '▁1940', '그룹', '▁메이저', '▁힘을', '▁녹', '이므로', '▁잠', '레이', '▁오늘날', '▁퍼', '▁인간의', '국가', '86', '▁사회적', '싱', '▁해안', '▁담당', '▁지대', '09', '▁맞', '▁박사', '▁장기', '▁국회', 'ic', '一', '▁유명하다', '▁&', '▁전라북도', '▁이래', '▁구간', '▁b', '▁않을', '▁지상', '▁연대', '▁아내', '었던', '▁내용을', '▁군주', '▁슈퍼', '▁70', '▁응', '▁뇌', '▁거리', '▁통신', '능', '▁씨', 'at', '▁논', '▁발매되었다', '▁1969', '▁휴', '▁아무', '릭', '▁장군', '▁있었으나', '하나', '▁상호', '▁몽골', '▁쌍', '시킬', '▁등장하는', '海', '00', '▁사람의', '▁영토', '▁보이는', '율', '▁올라', '▁코드', '▁통한', '▁중화민국', '▁여객철도', '▁대사', '▁지진', '▁다리', '▁제정', '▁선출', '▁젊은', '▁채널', '▁체결', '카와', '▁생성', '▁있었으며', '45', '▁했지만', '▁성인', '인이', '▁획득', '식을', '▁평양', '▁등은', '▁홀', '▁거부', '▁카드', '▁사용되었다', '▁팀은', '▁구성된', '로스', '▁그런', '35', '▁외에', '▁이후에', '▁1948', '▁아주', 'ir', '공사', '롱', '_2', 'te', '▁오전', '▁범죄', '▁저장', '▁가능', '되었던', '&', '▁전혀', '▁입단', '▁해결', '음악', '▁방향', '▁어떻게', '▁단위', '▁대상으로', '군에', '▁의회', 'ine', '성과', '우스', '서를', 'v', '▁차례', '▁꽃', '▁따', '들도', '랄', '시아', '▁가족', '▁염', '▁집중', '▁전시', '한국', '▁즉위', '▁이론', '▁출생', '▁정신', '▁휘', '▁도움을', '▁이란', '▁일본에서', '▁협회', '▁표면', '동음이의', '나라', '▁기념', '잔', '▁보급', '▁복귀', '▁내각', '텐', '▁과정을', '▁미군', '세대', '▁통제', '▁하면서', '▁Z', '▁경주', '▁짧은', '▁인하여', '▁형태의', '계의', '▁?', '폰', '▁마사', '05', '▁업무', '學', '▁오르', '▁세력', '▁육상', '욱', '▁소유', '▁지낸', '▁1946', '콘', '▁하는데', 'ter', '▁곳', '은행', '문을', 'ot', '▁비밀', '어로', '닌', '▁뜻한다', '▁북쪽으로', '▁되지', '+', '셔', '▁없어', '▁미사일', '▁p', '▁운', '에게서', '成', '이었고', '▁됐다', '기의', '▁역사상', '99', '▁우크라이나', '▁뜻을', '▁연극', '▁제거', '▁제안', '▁내에', '▁1977', '▁1964', '▁참여하였다', '▁300', '전을', '▁지역은', '적이고', '▁홍콩', '한다고', '시마', '▁지나', '정보', '▁되면서', '▁산맥', '▁맡고', '▁격', '▁앞서', '▁유도', '55', '▁득점', '▁했으나', '明', '사와', '왔다', '▁일정', '▁위성', '▁없고', '혁', '▁북쪽', '▁점에서', '▁루이', '▁얻었다', '▁1962', '▁검사', '굴', '시설', '▁프', '▁한다고', '▁개정', '37', '▁있었는데', '▁장식', '▁부정', '▁보수', '▁동일한', '▁가스', '까', '36', '▁바다', '▁마음', '▁경계', '벤', '▁소장', '\"(', 'il', '▁과정', '▁가문', '▁현실', '▁브', '▁출발', '▁II', '▁부터', '수는', '08', '▁증명', '없이', '▁공사', '義', '▁넓은', '헤', '▁나이', '▁흑', '▁미술', '▁좋아', '▁에이', '▁장비', '▁특수', '65', '이기', '▁왕국', '98', '▁요청', '▁다카', '▁하게', '▁정도의', '▁우선', '▁주인공', '▁추정된다', '▁가입', '▁단어', '▁묘사', '▁온라인', '▁적은', '슬', '▁확보', '▁요한', '▁은행', '▁국왕', '▁성격', '▁범위', '▁자체', '▁1967', '(15', '세포', '찰', '▁오픈', '▁광고', '▁민주', '▁발표한', '▁그에게', '▁진화', '▁개편', '西', '▁정권', '▁고종', '감을', '32', '▁1949', '▁사용하고', '▁한때', '▁마드리드', '▁멸망', '▁예선', '▁보였다', '34', '陽', '▁이끌고', '▁오히려', '06', '▁불러', '▁달러', '▁약간', '33', '31', '▁당시의', '▁등록', '▁충', '85', '▁전용', '▁관할한다', '38', '▁권력', '▁건강', '었는데', '▁세계에서', '킹', '上', '▁담', '▁캐', '벨', '▁은하', '개발', '▁잇는', '▁작성', '사는', '▁이사', '과학', 'man', '▁생물', '▁곳에서', '(16', '쥐', '德', '▁베이징', '▁f', '▁통해서', '▁그리', '모토', '함에', '▁반도', '▁효', '▁만큼', '▁했고', '화가', '▁비난', '▁기반으로', '▁사이트', '으면', '▁외교', '▁팀이', '▁LG', '▁잎', '▁지금의', '로서의', '▁사후', '▁속한다', '▁공산당', '▁받지', '력이', '▁인근', '▁c', '▁다르다', '▁숲', '▁미디어', '▁동료', '▁35', '부대', '▁기구', '▁도착', '▁예상', '▁칠', '보다는', '죄', '▁기원', '04', '킨', '▁칭', '▁이번', '▁투자', '었으나', '▁하였고', '▁지속', '▁포지션은', '▁콘', '▁앞에', '▁관찰', '▁축', '▁CD', '▁제기', '▁오랜', '대가', '64', '▁철학', '▁장관', '▁투표', '▁차지했다', '▁헨리', '▁왕조', '°', '高', '▁Re', '▁이후에는', '▁합의', '▁1965', '▁역대', '75', '▁성적', '▁SBS', '렸다', '세계', '▁모스크바', '_5', '▁대규모', '뉴', '▁팬', '95', '▁흡수', '▁원자', '石', '시즌', '▁에도', '▁간주', '▁공원', '▁대기', '비아', '▁1961', '▁계급', '대회', '▁보냈다', '▁살고', '▁회전', '하고자', '칼', '폐', '▁학문', '▁상황', '▁보아', '▁주교', '원을', '▁시간이', '▁사용자', '▁성립', '▁시작한', '▁중세', '스케', '▁편집', '▁라인', '▁이르는', '▁패배', '▁스코틀랜드', '▁대수', '▁이용해', '▁사는', '▁정부가', '얼', '▁경기에', '▁엄', '▁변호사', '세에', '▁피해', '▁수용', '시킨다', '▁총리', '▁탑', '▁목적', '루스', '지도', '88', '▁차이가', '▁벨기에', '▁전쟁이', '▁해당하는', '▁합병', '▁훨씬', '▁근무', '▁벨', '▁남편', 'ation', '▁Y', '▁되면', '받았다', '▁체포', '▁공개된', '▁규모', '▁했으며', '연대', '▁회의', '▁사망했다', '▁발생한', '홀', '▁술', '▁왜', '▁해서', '▁넘어', '▁동맹', '▁암살', '▁이슬람', '▁입장', '학과', '▁청나라', '▁1966', '멘', '▁마련', 'ion', '▁교토', '▁수사', '▁정복', '68', '▁활동하였다', '▁전력', '지방', '▁뜻', '연구', '▁그것은', '▁고전', '▁탄', '軍', '▁공식적으로', '56', '▁군인', '▁공포', '▁높이는', '▁기억', '쪽', '▁계열', '▁운용', '▁위해서는', '연합', '섭', '화된', '▁기획', '▁족', '▁수출', '에게는', '▁에피소드', '▁오래된', '▁레코드', '家', '▁고구려', '▁위협', '▁권리', '▁타고', '경기에', '行', '▁충청북도', '▁입학', '光', '웨이', '제도', '▁외국', '▁서쪽', '▁왼쪽', '치는', '57', '▁시각', '▁이탈리아의', '이었으며', '▁이용한', '武', '밍', '▁기록하였다', '部', '드는', '▁그것을', '▁크기', '▁출장', '▁워싱턴', '▁전주', '▁가능성이', '부를', '▁혼', '▁이미지', '▁회장', '▁선수들', '▁유나이티드', '▁남북', '▁브랜드', '▁결성', '타이', '▁이유', '▁처음에는', '北', '▁부산광역시', \"'(\", '▁아메리카', '▁베르', '▁대표팀', '사에', '▁보장', '▁계획을', '▁지원을', 'am', '도시', '▁연재', '▁그런데', '▁포함되어', '▁때부터', '▁비록', '지가', '▁무렵', '▁나치', '무라', '77', '▁방향으로', '▁재정', '정치', '▁얻어', '書', '▁희', '선이', 'to', '자들은', '탕', '라이', '▁빠른', '▁400', '▁행위', '▁핵심', '▁구축', '용으로', '▁영입', '▁안정', '스를', '▁강제', '▁인사', '▁이것을', '▁프로그램이다', 'ne', '▁블랙', 'lo', '지원', '▁때에', '▁분야', '▁채용', '문학', '▁영향력', '▁솔로', '▁수록', '▁근대', '▁거대한', '시장', '▁결과를', '륜', '▁이유는', '▁덴마크', '▁전후', 'ᆞ', '이던', '▁러시아의', '▁사망하였다', '▁길이는', '▁저서', '▁관할', '펜', '▁오른쪽', '▁운전', '성은', '=', '▁90', '다이', '빛', '地', '▁고정', '▁봄', '▁대중', '라운드', '▁백작', '▁단계', '▁두었다', '▁탑재', '▁현상', '▁이야기를', '▁방출', '▁자는', '▁썼다', '▁공기', '▁번째로', '▁예정', '▁특', '47', '▁시작하여', '▁카를', '▁주제', '▁수가', '▁제어', '46', '郡', '지게', '▁기초', '5%', '▁전쟁을', '▁현재까지', '▁도중', '▁분자', '▁지식', '▁요소', '▁상당히', '▁국도', '전에', '▁소비에트', '▁군대', '▁돌아가', '▁항공기', '03', '39', '▁1944', '▁체계', '▁금속', '▁안전', '사건', '▁정착', '▁회원', '▁역임했다', '▁팀을', '▁보는', '▁플랫폼', '▁뜻으로', '▁타이완', '▁받게', '▁1941', '▁세워', '▁맨', '▁체제', '델', '▁방법', '▁다수', '▁태풍', '水', '공원', '▁알게', '▁제시', '▁특성', '▁=', '딘', '▁응용', '▁하면', '▁공주', '▁유엔', '▁호텔', '▁배경', '▁궁', '▁추정', '▁그러한', '▁소년', '▁승인', '셀', 'ol', '89', '▁바이', '_4', '▁함대', '▁취임', '▁이중', '풀', '동안', '▁마르', '▁직업', '▁엔터테인먼트', '다고', '▁망명', '▁예수', '▁후지', '44', '▁상륙', 'ly', '▁성경', '▁부상', '▁전략', '▁자료', '▁사용되고', '▁맡아', '田', '▁창립', '▁발표하였다', '지에', '▁소수', '정책', '▁방법을', '하였지만', '▁시작으로', '▁명령', '▁양자', '▁개념', '54', 'ie', '58', 'na', '▁이룬다', '▁넘는', '▁위원회', '▁반영', '▁벤', '▁점을', '67', '힌', '▁울산', '▁기반', '▁파견', '▁탈출', ')’', '▁1958', '▁부활', '97', '▁1956', '94', '▁시티', '-3', '▁유전자', '▁뮤직', '갔다', '▁45', '66', '▁반복', '▁공공', '주는', '▁토지', '▁시인', 'ut', '▁라이', 'im', '▁한다는', '▁종류의', '▁차이', '▁1947', '49', '▁일대', '▁로버트', '▁강점기', '▁청소년', '▁맹', '▁창조', '▁말았다', '・', '기원전', '▁가서', '관계', '▁벽', '▁노동자', '▁한반도', '▁지금까지', '자들이', '87', '▁음식', '트라', '리가', '▁후에는', '▁규칙', '물을', '▁언', '▁향상', '▁아들로', '▁없다고', '▁철수', '▁양성', '▁죽었다', 'é', '▁작품을', '▁동작', '아이', '▁막부', '▁나타내는', '핑', '접', '▁법칙', '▁챔피언스리그', '으', '▁인도네시아', '▁선조', '新', 'ta', '▁않았고', '시키기', '▁시간을', '▁여기에', '기업', 'ch', '▁먹', '네스', '▁자살', '▁정상', '▁건국', '▁신학', '▁선수가', '▁마이클', '▁사건을', '▁박물관', '▁모아', '▁사건이', '기간', '▁달성', '▁쓰는', '▁의식', '▁메이', '▁변환', '마리', '▁방법으로', '낸', '되면', '▁성우', '▁백제', '▁달라', 'ra', '▁의료', '군과', '▁국가의', '▁수원', '인지', '▁것처럼', '성의', '59', '▁수준', '▁수상했다', '▁출신으로', '▁최초', '▁괴', '▁진입', '神', '▁상업', '▁집안', '이치', '▁신성', '▁롯데', '▁기록한', '▁소리', '▁금융', '▁1919', '▁한번', '▁라이브', '▁전공', '▁단지', '▁전사', '▁화면', '▁스튜디오', '▁이제', '▁공을', '▁SK', '▁강의', '조직', '▁논란이', '.”', '▁취급', '▁발견된', '음을', '▁대략', '▁장소', '관을', '▁단일', '96', '▁대학교에서', '▁타이틀', '▁상징', '장의', '기구', '▁반드시', '▁오스만', '▁열렸다', '▁수송', '▁몽', '▁죄', '▁역을', '▁인기', '▁1939', '84', '▁비교', '▁사장', '▁위기', '<', '▁PC', '▁흥', '▁만주', '▁둘째', '▁지상역이다', '▁민간', '76', '▁조합', '▁굴', '▁불렀다', 'kg', '龍', '▁신호', '▁1954', '78', '부의', '▁보안', '겨', '국의', '▁개최된', '▁끝난', '▁각각의', '▁근거', '▁특별한', '▁일본군', '▁다음은', '▁차트', '뿐만', '누스', '중앙', '하였던', '였으나', '▁사람들', '폴', '▁대개', '▁상승', '▁진압', '▁나와', '▁측면', 'all', '▁존재하는', 'os', '기와', '득', '▁재판', '▁건너', '▁숙', '▁지급', '▁불상', '▁역이다', '이었으나', '▁겨울', '▁가사', '▁최다', '▁뜻하는', '▁내용', '▁1952', '▁이주', '▁서버', '제가', '부인', '세와', '▁작품으로', '▁명이', '▁수비', '▁작곡가', '▁1959', '▁계기로', '▁활', '▁목표로', '리오', '▁분포', '▁전파', '부에', '▁콘서트', '53', '▁시리아', '▁건조', '▁형태를', '곳', '▁자동', '▁군대를', '原', '솔', '(17', '▁무덤', '▁갔다', '仁', '▁합류', '▁오래', '43', '69', '량이', '▁밀도는', '▁변경되었다', '▁교사', '특', '▁구속', '▁세르비아', '렬', '받은', '▁깊은', '▁이하', '▁운동을', '朴', '원으로', '世', '▁헬', '▁해산', '▁화산', '-19', '▁어떠한', '▁예측', '▁낮', '▁도달', '▁투입', '▁피해를', '▁능력', '▁이전의', '인들은', '학자', '縣', '▁증거', '▁발매된', '▁천체', '원이', '▁작품이다', '▁항복', 'la', '▁국제공항', '▁것이며', '▁창설', '▁쓰이는', '▁되자', 'ge', '웅', '▁알려졌다', '맥', '▁반발', '▁방영된', '▁앞두고', '▁포함하고', '▁논의', '▁하나는', '행위', '74', '▁갖는', '▁제대로', '02', '▁세계대전', '▁노예', '▁받았고', '▁수집', '▁마지막으로', '▁외국인', '▁명단', '▁에어', '▁좀', '▁않으며', '▁준다', '예술', '▁놓', '분류', '미터', '▁속도', '▁문장', '▁갑', '▁정확한', '▁트랙', '▁FA', '▁청년', '▁항구', '▁아침', '▁마침내', '▁가졌다', '▁33', '▁세종', '같은', '79', '▁붉은', '▁선수단', 'co', '럼', '▁개조', '▁보낸', '▁온도', '▁1942', '▁했던', '인들이', '▁정비', '전쟁', '▁나왔다', '▁신앙', '▁영역', '▁후기', '▁군의', '려고', '▁들어서', '▁개신교', '호를', '▁경기는', '▁하였으나', '▁개발한', '▁교환', '리를', '분에', '콜', '▁장르', '▁꼬리', '▁기록이', '어를', '▁무리', '빙', '▁신화', '▁모여', '院', '▁이들의', '▁창단', '▁다수의', '▁예정이다', '▁이곳', '51', '▁지닌', 'ul', '▁불법', '▁시조', '나는', '▁활동했다', '▁1000', '▁화물', '▁범주', '▁빠르게', '디아', '▁중심지', '▁포위', '▁바르', '▁1955', '▁포함한다', '▁기술을', '▁능력을', '▁분할', '▁가치', '자인', '里', '▁연출', '▁중부', '▁조금', '잡', '▁있었기', '▁최소', '▁불과', '▁지시', '政', '興', '비를', '▁임대', '릿', '▁카르', '▁지방의', 'ac', '회를', '▁글을', '▁부근', '▁카메라', '▁위반', '▁익', '▁공부', '▁모리', '▁정지', '▁1943', '▁인권', '▁요새', '▁상하이', 'se', '했다는', '▁지어', '(1', '▁마치', '▁도서관', '▁제주', '▁전부', '▁1953', '《', '▁고용', '▁해에', '▁to', '▁나타난다', '▁한국어', '▁보조', '프로', '▁상황에서', '▁나는', '▁거래', '▁남은', '▁절대', '▁38', '▁보여', '官', '펠', '▁견', '▁의장', '經', '62', '▁안에서', '꽃', '▁선거에서', '세이', '졌고', '▁해당한다', '만큼', '42', '▁n', '로도', '▁되', '▁모양의', '41', '本', '베이', '▁추측', '▁지금', '힐', '시대', '▁게이', '63', '첩', '▁책임', '92', '▁동의', '▁노르웨이', '▁경우는', '▁유형문화재', '▁알아', '▁찬', '▁모드', '▁주고', '▁코미디', '▁향해', '케이', '▁조작', '▁말에', '▁문제로', '트로', '▁베를린', '▁크고', '▁아버지는', '몰', '▁받을', '洞', '트는', '_6', '▁당시에는', '▁마크', '▁합성', '日', '▁점점', '▁나이로', '▁되며', '▁벡터', '▁예산', '▁정책을', '▁호수', '투스', '▁머', '▁대부분은', '단의', '▁의학', '無', '▁폭력', 'ma', '林', '▁1957', '▁평가를', '▁훗날', '▁전화', '▁부모', '▁트리', '▁36', '지지', '▁서비스를', '넷', '비트', '~19', '▁졸업하고', '61', '바라', '▁채택', '▁내용은', '▁발음', '▁의미를', '▁유사한', '生', '린다', '▁오페라', '▁마이크로소프트', '▁솔', '▁순위', '▁하나인', '相', '개를', '객', '▁아우', '▁살해', '▁번주', '▁KBO', '▁오랫동안', '▁작품은', '본부', '▁나누어', '▁쓰고', '▁출마', '72', '원의', '▁반대로', '▁전통적인', '會', '엄', '▁주전', '▁단백질', '▁높다', '忠', '▁소재', '▁가진다', '▁왕자', '▁주기', '▁부르는', '혀', '▁구현', '▁메모리', '멸', '▁기체', '▁없으며', '▁왕국의', '요시', '▁공업', '개국', '▁고도', '▁대통령이', '▁필요하다', '▁프로그램을', '▁자원', '우리', '▁투어', '▁대한민국에서는', '▁감독으로', '▁측', '사상', '▁목사', 'om', '되었을', '조사', '사단', '▁인종', '선은', '▁제작한', '서울', '▁합격', '▁등장한다', '분의', '▁생명', '▁데이비드', '부가', '82', '▁대표하는', '▁활동하고', '핀', '스카', '▁원소', '카드', '▁확정', '구조', '▁척', '지구', '▁자신들의', '▁후보로', '▁곤', '병원', '_3', '▁위상', '▁니시', '죽', '▁법원', '▁방송국', '▁로켓', '형을', '▁선정되었다', '▁받는다', '∼', '▁존재하지', '▁어린이', '▁논문', '▁시내', '▁기지', '▁장수', '▁한자', '▁공유', '▁붙', '호는', '▁명칭은', '▁편입', '▁앞에서', '공화국', '▁경기장', '都', '▁중이다', '〉,', '▁크다', '▁선고', '▁주장하였다', '납', '▁퇴', '▁탄생', '▁Me', 'op', '마르', '▁린', '▁의무', '▁직원', '100', '81', '▁무게', '▁관계가', '주에', '▁건립', '▁이승만', '93', '▁상품', '▁아마', '▁보컬', '▁센', '왕후', '▁유사', 'ant', '사이', '▁학위를', '▁아시안', '▁특징', '▁시즌에', '▁연구를', '▁감정', '▁사립', '▁역사적', '스테', '▁신체', '▁결', '▁150', 'ang', '▁열대', '값', '▁성당', '▁실현', '▁스토리', '위원', '▁1936', '▁학습', '71', '▁하늘', '법에', '▁트', '▁In', '▁공장', '君', '▁연료', '▁시작한다', '▁나들목', '▁이루어졌다', '▁그들이', '▁개시', '▁찰스', '▁블루', '▁재배', '▁제공한다', '▁분야에서', '聖', '▁늘', 'son', '번의', '▁진주', '연구소', '▁데뷔하였다', '▁d', '냈다', '▁하였으며', '메이', '▁일원', '▁의심', '▁서양', '▁글자', '▁감독이', '白', '니스', '단계', '▁신분', '차전', '▁분열', '오카', '▁팝', '바르', '▁보관', '五', '▁챔피언', '논', '▁놓고', '부는', '▁가지는', '▁가로', '▁캘리포니아', '▁입자', '▁만족', '▁경우에', '▁것이라는', '▁주어', '▁기둥', '▁순간', '점이', '▁워', '▁만들어졌다', '▁원형', '漢', '카이', '▁포함하여', '▁시작된', '500', '▁연구소', '▁나오', '▁이루고', '▁임진왜란', '▁민법', '▁신인', '대사', '▁설치된', '▁기도', '번째로', '▁서구', '▁착', '▁완전', '어는', '▁1910', '▁병원', '▁침략', '▁관료', '▁역으로', '▁1938', '▁되기', '▁많아', '제로', '문제', '▁이후로', 'ard', '▁관광', '▁바뀌었다', '▁구원', '▁주민', '▁도전', '▁지은', '▁나폴레옹', '면에', '▁도시이다', '활동', '생활', 'ri', '▁정원', '門', '▁나뉜다', '▁문신', '▁모양', '▁발견되었다', '▁연합군', '▁검은', '▁원년', '구역', '▁연결하는', '▁질병', '▁올렸다', '▁박정희', '▁살아', '▁잘못', '욕', '▁장착', '▁활약을', '뿐', '티스', '▁터미널', '▁유일하게', '▁고리', '▁감독을', '시오', ',000', '▁혼란', '게임', '▁원작', '▁쓸', '▁있음을', '▁털', '원은', '▁올림픽에서', '▁아카데미', '으면서', '(2', '▁침입', '스러운', '▁복무', '▁플레이오프', '▁후원', '▁일어났다', '▁정치인이다', '▁셀', '▁조건', '신문', '▁내의', '▁내용이', '▁골을', '제는', '▁포기', '▁속한', '▁그렇게', '永', '받아', '▁오토', '스티', 'de', '▁명칭', '▁값', '▁고문', '▁넓이는', '▁작업을', '▁출시되었다', '▁태국', '트리', '▁소녀', '使', '었지만', '▁공무원', '롤', '상태', '▁곳으로', '太', '▁영업', '▁뮤지컬', '소를', '▁사례', '큐', '▁진보', '▁질량', '▁듣고', '▁자리에', '▁극장', '철도', '▁브라', '▁전선', '▁입력', '▁중화', '▁모형', '서는', '▁나타나', '▁자치', '▁유적', '시스', '▁가치가', '▁확립', '행정', '▁통산', '▁어려운', '鄭', '▁34', '렉', '▁독특한', '▁명나라', '▁얻은', '▁사마', '▁않게', '▁홋카이도', '▁실수', '83', '▁내전', '▁주연으로', '항공', '계획', '▁교육을', '바이', '▁순서', '▁다르게', '▁내렸다', '▁조절', '▁보물', '▁거두었다', '▁배출', '▁소스', '▁어깨', '▁그와', '▁상태에서', '▁서명', '▁목록이다', '▁집권', '張', 'no', '▁일본인', '▁사실이', '▁종이', '▁1937', '▁기여', '▁챔피언십', '▁사단', '▁얼굴', '▁이름의', '▁축제', '▁당선', '▁귀국', '▁주관', '▁층', '대표', '▁복원', '녕', '▁사용된', '▁후손', '▁못하였다', '▁가격', '교통', '이드', '▁코치', '▁1914', '▁당나라', '학적', '▁하위', '▁대부분이', '핵', '▁처벌', '▁상태로', '컬', '▁곽', '73', '▁태조', '▁위원장', '량을', '▁없다는', '▁임금', '퇴', '▁메인', '▁빠져', '으로서의', '▁마이', '52', '▁부상을', '▁공동체', '모리', '▁유대인', '-4', '비치', '▁상당한', '라면', '▁전까지', '▁for', '▁새롭게', '▁뉴질랜드', '▁화가', '억원', '▁교류', '府', '▁징역', '▁소비', '▁방해', '▁다소', '▁중요', '▁혐의로', '하므로', '▁논리', '▁개봉', '천군', '▁힐', '▁이라크', '▁홍보', '▁마무리', 'ill', '텔', '▁루이스', '▁사람들의', '쌍', '▁1935', '▁부분을', '▁대비', '▁바이에른', '▁숨', '▁편이다', '▁해양', '▁일어나', '라며', 'ist', '▁농구', '▁참조', '▁개입', 'mo', '▁지역으로', '룬', '200', '▁입장을', '▁당초', '▁변형', '▁한글', '▁병합', '▁규모의', '▁나타나는', '▁유행', '▁로스앤젤레스', '▁맡은', '▁전직', '▁제출', '▁중의', 'ce', '▁금메달을', '▁통상', '이닝', '▁미국과', '조는', '▁특정한', '▁만들고', '학회', '▁성적을', '▁길을', '▁함락', '▁다다', '▁빛', '왕의', '▁1918', '▁들고', '▁참석', '▁현지', '옹', '▁일본어', '▁설립되었다', '▁서울대학교', '▁1951', '▁e', '▁기회를', '▁십', '짐', '느', '▁일부는', '▁음악을', '▁작사', '▁제공하는', '대신', '석을', '▁연안', '▁경제적', '▁이른다', '▁아카', '▁시카고', '타운', '▁만든다', '당시', '치를', '▁올려', '▁히로', '所', '베리', '시의', '▁중에는', '지대', '▁출', '▁영화는', '▁여왕', '▁제일', '▁맞아', '제의', '률', '▁주력', '▁광장', '▁덴', '▁크로아티아', '▁효과', '▁따로', 'one', '수로', '▁황금', '▁무대', '記', '▁소속으로', '▁받았으며', '▁인상', '데스', '▁변화를', '▁참여했다', '昌', '▁흑인', '▁프로듀서', '▁스페인의', '▁나온다', '▁인쇄', '和', '▁1932', 'ass', 'ian', '▁사령관', '▁나타낸다', 'ci', '종의', '▁경성', '▁지위를', '島', '밖에', '▁이름이다', '▁재산', '▁위로', '▁참전', '▁De', '스턴', '▁가까이', '▁차별', '▁넣어', '▁번의', '▁연간', '▁접한다', '▁쪽', '▁37', '낭', '활', '▁협상', 'ex', '▁혜', '▁수도원', '▁세력을', '▁답', '▁절반', '▁천주교', '되', '▁본부', '▁아이돌', 'and', '▁탈퇴', '사랑', '▁유학', '권의', '▁이혼', '▁레드', '▁말레이시아', '▁세이', '▁번호는', '고속도로', '민족', '性', '렛', '▁상대적으로', '별로', '▁혼인', '▁테러', '▁들어갔다', '▁공산주의', '조의', '▁일부를', '江', '▁이르렀다', '▁정수', '▁대회에', '▁자극', 'ell', '▁행렬', '대상', '혁명', '▁여러가지', '▁판결', '학생', '▁에드워드', '▁왕이', '▁일어나는', '▁지금은', '사키', '▁쉬', '▁저녁', '▁제외', '▁자본', '▁유한', '▁날개', '▁신설', '▁가문의', '▁사전', '▁도구', '▁명예', '▁강조', '▁곡을', '▁장악', 'Q', '_7', '▁근처에', '▁사용했다', '▁DNA', '▁병사', '▁완공', '▁공연을', '▁갖추고', '다른', '▁조선총독부', '▁항의', '▁불렸다', '▁운영하고', '▁비롯하여', '켈', '▁갈색', '▁인구가', 'der', '▁보았다', '▁의도', '▁가게', '▁로드', '▁루마니아', '▁1933', '오는', '▁장교', '▁임의의', '에선', '군으로', '▁김일성', '▁않기', '▁전설', '▁이로써', '▁수소', '▁핀', 'ig', 'ent', '▁필요가', '라도', '▁스타일', '▁대화', '▁공중', '최', '▁곡은', '▁대체로', '▁벌어진', '▁보유하고', '▁엄청난', '까지의', '▁아랍', '▁컵', '▁나아가', '▁파크', '젤', '91', '▁불만', '▁동일', '▁일정한', '▁조선시대', '▁남겼다', '▁1924', '였지만', '▁대한민국에서', '▁부분이', '▁헤이', '▁베이', '토스', '▁도모', '▁감염', '째', '▁않지만', '▁장애', '했', '하이', '▁먼', '역으로', '▁수여', '▁부담', '▁나카', 'ay', '尹', '▁케이', '해진', '▁떠났다', '▁사용하였다', '▁중력', '▁목표', '톨', '▁영웅', '동맹', '▁침', '▁생긴', '등의', '▁서식지', '▁WWE', '▁남쪽으로', '▁가설', '머리', '▁점이', '▁기호', '▁못하는', '▁깨', '캐', '▁화성', '▁이로', '▁세계적으로', '▁방면', '▁선전', '하다고', '善', 'li', '▁떠', '▁전면', '▁1934', '▁멀리', '敎', '▁대장', '▁프리드리히', '▁성능', '▁뿌리', '▁불가리아', '▁페르시아', '▁맞서', '▁인천광역시', '▁출범', '▁명을', '▁수영', '▁사태', '▁조선의', '▁왕비', '▁만다', '▁놀', '▁작동', '장군', '▁참가했다', '켄', 'io', '▁1900', '▁세인트', '▁고향', '▁중학교이다', '▁이들을', '▁소련의', '▁성분', '▁모임', '스코', '▁1928', '시티', '▁알리', '▁임기', '▁진행되었다', '소리', '▁훈', '▁되는데', '▁사업을', '▁저술', '▁성을', '▁킹', '▁전쟁에서', '▁잡아', '▁사람들을', '▁얻을', '▁콩', '멜', '▁노벨', '有', '▁동양', '▁이르러', '▁상주', '▁일본에', '호가', '▁업', '▁앞으로', '코프', '▁곳이다', '셰', '▁흘러', '▁심각한', '▁넘', '趙', '▁거듭', '▁간행', '▁주식회사', '▁들면', '▁올림픽에', '계를', 'com', '▁포트', '▁감시', '▁출력', '▁위험', '▁재건', '▁말하는', '▁여겨진다', '▁기록은', '▁결승전', '▁해도', '▁AFC', '(14', 'ver', '▁지형', '▁차지', '▁발굴', '▁상위', '▁초에', '▁것이라', '드라마', '공업', '▁개성', '▁매장', '당했다', '▁접촉', '또는', '▁아래에', '▁중인', '▁생존', '스토', '지면서', '▁이전에는', '▁초기의', '에만', '▁방식', '통신', '▁구입', '▁눈에', '▁오직', '▁메이지', '▁좌우', '▁지니고', '|', '성에', 'ry', '▁돈을', '▁리더', '▁홈런', '▁여섯', '▁동원', '▁장면', '▁모습', '▁석유', 'j', '面', '▁원인이', '론을', '둔', '▁빅', '▁재학', 'ast', '▁수상하였다', '▁위원', '▁완료', '▁인공', '▁역은', '브라', '堂', '▁설치류', '연맹', '▁효과를', 'ha', '▁환자', '▁원리', '▁학살', '▁동안에', '▁기본적으로', '▁초등학교', '▁꿈', '▁제작에', '▁노래를', '▁그리하여', '▁추천', '▁아파트', '▁비용', '▁학자', '▁행동을', '▁세상을', '▁세대', '▁재개', '▁발생하는', '▁펜', '▁절차', '부사', '▁기회', '▁추기경', '之', '▁웨스트', '▁파이', '小', '▁지점', '세로', '▁시위', '▁샤를', '▁변수', '▁아키', '▁리처드', '▁전철', 'per', 'の', '▁주둔', '시로', '사령부', '▁대공', '▁올라가', '▁상대식', '▁책임을', '▁특징이다', 'our', '▁약속', '▁취소', '▁한국인', 'ment', '▁폴리', '됨', '단을', '▁보여준다', '넬', '▁앙', '▁아들인', '▁손자', '司', '崔', '털', '법은', '▁분해', '▁살인', '휘', '▁완전한', '▁청구', '관으로', '’(', '▁양쪽', '▁손상', '▁아름다운', '▁비트', '▁있었다고', 'ton', '박쥐', '▁선박', '▁액션', '▁전송', '▁유럽의', '▁가수이다', '족의', '▁이루는', '▁오른', '이었지만', '▁사망한', '뢰', '장치', '▁연구에', '권이', '▁타율', '▁사운드', '▁미니', '▁상속', '▁동기', '▁공정', '▁전역', '▁시스템을', '▁역사를', '▁진격', '국제', '▁비상', '▁받아들여', '▁이후에도', '▁라이트', '▁카이', '▁창당', '▁깊이', '▁크로', '환경', '국민', '▁세부', '되거나', '▁현역', '▁고속', '▁주장한다', '▁노부', '▁관여', '▁프로이센', '不', '▁맞이', '▁밀려', '▁탄소', '▁서술', '맹', '▁지지를', '저우', '▁갑자기', '▁선출되었다', '장에', '▁아동', '▁고속도로', '트를', '편성', '극장', 'ho', '▁역에서', '▁말로', '▁옷', '▁편찬', '에서부터', '定', '촉', '▁검찰', '▁베네치아', '수의', '▁이른바', '▁없을', '▁그곳에서', '▁주택', '▁위치를', '▁역임하였다', '▁저지', '▁애플', '랭', '럴', '▁호주', '▁델', '▁데에', '▁임무', '▁인용', '▁발언', '▁복합', '▁부친', '▁섬의', '▁보고서', '만원', '▁즉시', '▁벗어나', '▁의존', '▁단편', '▁피아노', '▁않으면', '▁본다', '▁대상이', '▁성공을', '지마', '▁군단', '▁부하', '理', '▁1931', '▁아래와', '▁압', '▁구별', '▁우려', '▁신청', '휴', '心', '되게', '河', '함과', '▁DVD', '▁차지하고', '▁감사', '렐', '역을', '승을', '▁잭슨', '탐', '▁문명', '▁그에', '▁달려', '▁겐', '▁미국인', '▁피부', '▁흰', 'ers', '▁궁전', '▁로봇', '▁녹색', '▁승려', '▁+', '▁청주', '으로도', '▁구성원', '▁게다가', '활동을', '버그', '▁파악', '▁진학', '▁플레이어', '▁영주', '소설', '▁열차가', '▁패션', '▁갖는다', '▁Q', '하여야', '▁플라', '▁일으켰다', '드라', '대장', '▁그래픽', '▁명령을', '▁뛰고', '▁보기', '▁나뉘어', '▁쿠데타', '▁포인트', '마루', '▁42', '▁음성', 'ub', '▁전쟁에', '▁사형', '▁창작', '오리', '▁사제', '도서관', '▁주간', '▁정치가', '▁서쪽으로', '▁빌보드', '▁따서', 'od', '▁칠레', '대에', '삭', '▁공화국의', '▁뮌헨', 'MA', '▁영향', '▁기록되어', '윈', '▁발간', '宮', '▁부분은', '▁높', '▁베스트', '▁말이', '▁희망', '▁지구의', '▁나타났다', '간다', '▁설득', '▁발명', '▁대표로', '잠', 'est', '▁때의', '금을', '▁허락', '▁가슴', '필드', '▁사냥', '▁자라', '▁아라', '우드', '▁영국군', '▁사라', '략', '▁1929', '등을', '▁바이러스', '등이', '▁혼합', '데이', '▁이끌었다', '▁악기', '▁전동차', '▁조선시대의', '▁이상이', '▁상실', '낼', '▁하여금', '▁1925', '▁신부', '▁참가한', '▁1923', '▁일으켜', '▁비행기', '체를', '馬', '지방법원', '괴', '▁카라', '▁하에', '해졌다', '▁좋지', '▁아테네', '닉', '▁확산', '파의', '▁1921', '▁운영하는', '▁종류', '▁역할', '▁주장을', '▁의미하는', '▁싱가포르', '인조', '푼', '▁벼슬', '백만', '▁터널', '▁촉', '▁문헌', '▁집행', '▁관련이', '▁없게', '▁그것이', '韓', '▁입고', '▁세상', '중에', '▁39', '▁그리스도', '▁재임', '발전', '잉', '전자', '▁판사', '하에', '▁문제에', '▁동쪽으로', '사에서', '▁품', '▁조치', '▁사건으로', '개가', '▁동방', '▁사양', '▁개설', '주를', '▁1922', '▁융', '선수', '어서', '장에서', '▁디스크', '▁형식으로', '▁복잡한', '▁매일', '▁민주주의', '▁유통', '▁소식을', '▁w', '▁보병', '▁중학교', '했었다', '▁일부가', '▁단순한', '▁55', 'ome', '▁폭탄', '되었기', '▁조지아', '없는', '리우스', '구를', '▁g', '룸', '▁타격', '▁낭', '▁개방', '▁권력을', '▁적도', 'BS', '▁초기에', '▁바위', '▁도쿄도', '▁연결되어', '▁죽음', '▁르', '▁선포', '▁입단하였다', '라인', '▁상황을', '▁상당', '▁처형', '▁속의', '▁걸친', '▁대통령은', '함수', '▁책을', '▁만한', '▁의지', '제국', '▁파워', '史', '四', '인들의', '우는', '▁습격', '▁전신', '古', '열차', '▁언덕', '▁그려', '▁총선', '지며', '시는', '▁우수', '법이', '▁확률', '▁브라운', '▁부르', '師', '전선', '▁조건을', '▁테스트', '둥', 'ab', '▁미래', '▁미리', '▁방식을', '▁밝혀졌다', '▁지위', '▁묵', '공학', '▁탄핵', '▁위에서', '▁너', '정도', '▁프랑스어', '▁이적하였다', '▁체코', '▁계통', '▁태종', '▁탈락', '▁구매', '▁승객', '▁등급', '▁있으므로', '▁사원', '▁유물', '았고', '▁전반', '▁뒷', '관이', '▁인물로', '▁이민', '▁대선', '▁업체', '▁가상', '▁숫자', '식이', '▁전투기', '▁와서', '조에', '상과', '▁부부', '시험', '▁기록하며', '▁일단', '▁유형', '롬', '▁여겨', '▁업무를', '▁출간', '▁주소', '▁방정식', '라스', '慶', '▁트레', '▁의문', '▁불가능', '▁논란', '앤', '▁1926', '▁압력', '年', '▁전한', '▁섬식', '▁포함하는', '차례', '▁문을', 'me', '▁페르', '▁단독', '▁숙종', '_8', '선거', '▁브레', '▁목성', '▁못한다', '▁흰색', '▁추가로', '-20', '▁맺', '널', '▁보이지', '작전', '_', '▁명칭을', 'ate', '수록', '학을', '미국', '2%', '▁HD', '▁피터', '▁유래', '▁물을', '▁붙여', '▁경력', '▁혈', '▁방법은', '▁동일본', '▁증언', '▁원인', '▁높아', '▁종목', '▁검토', '▁별도의', '▁북아메리카', '主', '▁탄압', '▁호는', '▁특징을', '▁진영', '▁노리', '▁수단', '코스', '▁구성하는', '칙', '▁전술', '연구원', '▁부지', '▁하기도', '▁최우수', '▁해야', '▁대통령의', '▁롤', '▁법정', '▁굳', '3%', '▁그리스어', '▁마쓰', '▁고유', '먹', '▁도쿠가와', '배우', '들에서', '▁게임을', '▁안동', '중인', '▁광복', '▁인류', '▁바람', '信', '▁본선에', '▁배경으로', '▁참여한', 'da', '당한', '▁순환', '노스', '▁열리는', '▁만들기', '▁조상', '▁방언', '▁골키퍼', '▁구글', '▁검색', '▁본격적으로', '마을', '▁메리', '▁최대의', '박물관', '르트', '틸', '▁연락', '▁1912', '▁보여주는', '▁참고', '됨에', '컨', '▁심판', '▁지속적으로', '로운', '▁개념을', '▁문제는', '비가', '▁활성화', '▁그렇다면', '▁조카', '지기', '▁전투를', '▁화재', '▁프로그래밍', '▁계속해서', '▁폐쇄', '全', '공간', '▁48', 'ong', '「', '▁맨체스터', '▁정치인', '▁형사', '▁서울시', '▁원수', '▁모바일', '물질', '▁명단에', '▁닥터', '학원', '구의', '▁총독', '▁물리학', '▁연평균', '▁요코하마', 'ag', '부분', 'ca', '▁노선을', '▁에스', '▁촌', '넌', '▁마시', '▁권리를', '▁써', '까지는', '▁나고야', '▁단순히', '▁찬성', '페이', '세력', '▁라틴어', '–', '▁산소', '재위', '▁사정', '▁수치', '▁그녀가', '▁논쟁', '▁특별히', '▁이벤트', '▁충분히', '▁최근에는', '히로', '▁지었다', '뇌', '▁축소', '디스', '방식', '▁열매', '▁쥐', '▁1907', '▁동경', '▁몸을', '▁주식', '테스', '리와', '식물', '▁돌아와', '▁기소', '▁수십', '닐', '▁분쟁', '▁?)', '▁신장', '▁1927', '論', '낙', '▁끝내', '▁이웃', '▁힙합', '▁가량', '▁대학원', '▁상을', '타카', 'pe', '▁밝혀', '▁복잡', '▁소멸', '입니다', '▁개체', '▁규제', '퍼드', '▁액체', '보호', '▁이외의', '페르', '▁캠퍼스', '자유', '▁보상', '주로', '▁몬', '▁주석', 'ity', '▁피해자', '▁화석', 'Re', '▁레알', '▁사람들에게', '▁한정', '▁정교회', '▁부르기도', '▁골든', '▁64', '되어야', '▁밝은', '▁클래식', '▁심장', '▁프리미어리그', '松', '▁프레', '▁쌀', '▁총재', '드리', '▁발표된', '▁계곡', '▁토론토', '▁있', '▁사건은', '하시', '民', '프트', '▁태양의', '▁사찰', '상으로', '▁보험', '▁차단', '1%', '8%', '보이', '▁1908', '▁민중', '▁견해', '▁그들을', '▁단선', '▁정면', '▁일종의', '▁교회의', '▁소집', '▁자금', '넨', '▁수술', '▁데이', '▁정확히', '부문', '▁리그에서', '구치', '▁독립을', '▁1917', '▁수리', '▁출신이다', '▁동해', '하였다고', '▁직무', '▁임무를', '있', '▁출연하였다', '국이', '▁주목', '▁이외에도', '▁고급', '4%', '中學校', '▁했는데', '토리', '▁등장인물', '뒤', '▁경기가', '▁사랑을', '▁호소', '장관', '▁그러므로', '▁부진', '▁형상', '짓', '▁출연했다', '시가', '▁소화', '▁전해', '▁주장하는', '카르', '마사', '비는', '▁정조', '十', '▁자국', '▁다음의', '▁모습이', '쟁', '더스', '▁할아버지', '쇄', '얀', '▁트레이드', '자들의', '▁승진', '▁마주', '▁무한', '티아', '000', '▁1905', '▁개국', '▁집에', '▁김영', '▁왕조의', '▁사임', '에서만', '▁의미로', '▁영국에서', '▁캐나다의', '▁톰', '것', '▁라고', '▁추구', '▁연산', '後', '▁대우', '시키', '▁사법', '▁사퇴', '▁계층', '▁대다수', '▁손을', '▁대구광역시', '▁포함되었다', '▁경남', '오스', '▁섬에', '▁마법', '▁소련군', '▁대법원', '佛', '樂', '▁유치', '▁장남', '▁윌', '▁티베트', '▁직전', '▁이용할', '겸', '▁농민', '月', '▁120', '▁헌', '▁용어', '▁갖게', '▁해상', '씨는', '▁안내', '▁문화재', '위원장', '자료', '▁커다란', '▁시사', '▁사자', '등급', '▁무시', '▁북미', '▁중반', '▁감각', '▁전문가', '▁사람으로', '▁통계', '▁성과', '계에', '▁노출', '▁이재', '도르', '▁그들', '▁제도를', '▁이어지는', '하다는', '劉', '▁부속', '동물', '▁영구', '년부터는', '▁어렵다', '▁결승전에서', '▁성공했다', '마이', '▁히트', '▁강요', '▁롱', '답', '치가', '▁자신', '▁김구', '만으로', '▁김정', '므로', '▁SS', '▁전원', '능력', '권에', '淸', 'ud', '▁사막', '러스', '知', '▁정식으로', '▁통화', '▁핫', '인과', '▁보이', '▁야스', '▁전쟁의', '▁마음을', '숭', '쯤', '▁아버지가', '틱', '▁주니어', '▁탐', '▁방위', '▁그려져', '八', '▁그때', '▁St', '▁유럽에서', '▁죽음을', '였는데', '▁협', '▁로스', '▁홈런을', '禮', '▁의견', '▁보유', '同', '중국', '▁초반', '놀', '▁집필', '▁남녀', '▁원칙', '감독', '▁자이언츠', '▁1906', '▁사유', '▁저자', '▁고등', '▁대한제국', '▁러', '7%', '식은', '▁취득', '심을', '▁보스턴', 'ow', '▁종전', '▁윈도', '자에게', '▁게임이다', '▁산하', '▁협정', '▁많', '▁바르셀로나', '▁실천', '▁지불', '▁신고', '▁이기', '▁허가', '▁켄', '▁왕의', '▁내리', '▁아버지의', '▁개량', '▁양산', '콩', 'OS', '▁사람이다', '▁정기', '▁h', '▁이들이', '▁본토', '▁주연', '▁이행', '京', '方', '년경', '데르', '▁밥', '▁재단', '▁코파', '6%', '기록', '브리', '▁배포', '어가', '▁상황이', '▁놓여', '▁이익', 'tion', '▁안타', '형으로', '▁바둑', '孝', '▁고양이', '▁김대중', '자로서', '▁덮', '▁상태를', '▁부분에', '▁쿠바', '쇠', '▁물리', '종이', 'si', '▁일련의', '▁영향으로', '▁연습', '▁크리', '▁영조', '▁담고', '▁codice', '▁후속', '▁정부에', '▁국방', '▁산지', '▁곡선', 'TA', '부로', '▁Co', '=\"', '▁무인', '▁맺고', '▁지붕', '▁예비', '▁시작했고', '▁가시', '▁삶을', '▁이어서', '▁해협', '계에서', '▁국기', '▁초기에는', '▁문화재자료', '▁t', '▁주위', '▁스티븐', '▁접속', '건설', '▁히로시마', '피스', '▁강등', '구에', 'ti', '어와', '▁뛰', '▁사과', '▁본명은', '▁좁은', '▁열었다', '혹', '▁오류', '權', '▁줄기', '▁역사가', '▁평면', '라이트', '▁남아메리카', '았으며', '▁착용', '-5', '▁택', '▁개장', '▁남아프리카', '켓', '▁적극적으로', '▁구름', '▁김성', '▁발매한', '▁틀', '▁듯', '▁악화', '▁성질', '▁전작', '▁이시', '되는데', '▁희생', '▁주인', '▁재생', '▁OS', '▁속해', '만명', '▁인지', '▁타자', '로프', '▁왕실', '羅', '▁유효', '▁하우스', '통일', 'oc', '려는', '▁공통', '▁하나가', '공주', '▁이곳에', '장과', '▁초청', '▁발휘', '▁넣', '▁글로벌', '▁띠', '부터는', '▁임시정부', '▁많았다', '▁페이', '과정', '받고', '▁밑', '▁명칭으로', '조차', 'In', '▁대결', '▁매주', '▁대칭', '▁달하는', '▁해리', '▁경향이', '圖', '군단', '합니다', '帝', ')>', '▁맺었다', '겔', '▁학사', '▁분위기', '▁그리스의', '▁후에도', '▁내지', '▁경고', '▁대부분을', '었', '▁한일', '▁JR', '▁원래는', '▁스키', '▁주된', '꼬리', '_9', '▁낸', '▁배열', '단이', '▁인디언', '▁여부', '역사', '▁포함된다', '▁상수', '▁당시에', '▁끝으로', '▁양국', '▁참가하였다', '▁물체', '▁기법', '▁차원', '▁반대하는', '▁국방부', '▁사항', '▁옮겼다', '▁되기도', '▁베이스', '▁명명', '리안', '▁덜', '이스', '▁입사', '▁김씨', '▁영토를', '▁출연하였고', '▁짜', '▁해발', '▁비판을', '▁편지', '▁식품', '▁소형', '▁드러나', '▁41', '▁우리나라', '▁의혹', '▁세계의', '▁소송', '▁비롯해', 'go', '부장', '▁후인', '▁죽자', '▁사용하지', '▁토벌', '쿠스', '헬', '▁단순', 'NA', '▁전북', '▁어려움', '▁잡고', '눈', '권은', '(3', '▁회색', '化', '通', '속에', '▁감독은', '▁다음날', '▁조선인', '▁물고기', '량은', '잎', '▁자매', '▁빙', '▁상호작용', '▁등판', '▁중동', '▁로마의', '▁첫째', '▁수석', '▁위치에', '▁전형적인', '▁입은', '층에', '▁반응을', '▁플로', '▁보이고', '▁세리에', 'sh', '▁이념', '▁일어난다', '안을', '크는', '▁뒤로', '▁기기', '▁히틀러', '▁몰', '▁페이지', '▁모르', '▁곳이', '▁일은', 'sa', '▁군수', '▁잭', '▁방송을', '▁유비', '▁총선에서', '▁읽', '▁You', '▁총장', '▁한국에서', '▁소위', '▁유전', '▁복수', '市', '▁실내', '▁현장', 'EC', '▁거리에', '▁선로', '▁미국으로', '대학원', '▁출전하여', '▁클로', '▁셰', 'ance', '들로부터', '▁후퇴', '▁행정구역이다', '속도', '▁학술', '▁때문', '▁()', '▁공학', '▁발표되었다', '▁크리스', '형의', '▁코스', 'и', '▁명문', '▁그러', '▁방송된', '아르', '▁소방', '업체', '▁부상으로', 'bo', '▁편의', '▁수호', '士', '▁올린', '▁교구', '드로', '▁알파', '▁내셔널', '▁자치구', '▁블록', '▁스미스', '지자', '▁옆에', '▁상황에', '▁근처', '체의', '▁진단', '▁레오', '현재', '▁미국은', '(6', '▁주민들', '호선의', '▁서일본', '▁방법이', '▁한신', '▁잠수함', '서원', '어의', '▁부임', '▁웨', '▁유기', '식으로', '▁추방', '프리', '▁인터뷰에서', '▁재즈', '▁웨일스', 'ive', '리의', '▁맡', 'о', '다리', 'ER', '▁번호', '▁흐름', '▁삭제', '▁새벽', '▁콜롬비아', '▁차트에서', '▁하와이', '▁막기', '洪', '孫', '▁영양', '▁불화', '▁대량', 'art', '▁운항', '▁아메리칸', '▁리이다', '웰', '▁–', '▁고위', '▁주재', '▁갈등', '일간', '차로', '▁웹사이트', '졌으며', 'pa', '▁개명', '▁데뷔했다', '보험', '▁강하게', '▁백인', '▁항해', '▁예로', 'ty', '▁머물', '▁차지하였다', '▁소속의', '▁뮤직비디오', '▁상태가', '타로', '▁1904', '꾼', '▁삼았다', '▁농촌', '되지만', '▁세력이', '▁격파', '▁유배', '었을', 'do', '字', '훈련', '대부', '들어', '▁뜻이다', '▁주에', '▁또다른', '협의회', '▁인조', '▁서기', '▁리드', '▁압축', '첨', '▁겪', '▁부탁', '하라는', '▁세워진', '프랑스', '▁토마스', '▁끊', '소가', '▁잇', '▁43', '▁좋다', '▁음반이다', '▁산화', '▁선형', '華', '▁야당', '지와', '▁800', '▁규슈', '▁건물은', '▁과학적', '▁600', '▁행정구역', '▁전남', '▁국가들', '黃', '▁화이트', '▁의견을', '▁빅토리아', '▁가이', '▁운송', '검사', '분야', '▁프로세서', '▁부서', '당은', '▁신사', '▁설립한', '▁삽입', '▁방지', '▁이상을', '▁사건에', '▁나이에', '▁사기', '內', '구가', '▁조별', '▁소득', '▁거친', '▁끌', '▁사격', '▁돌아왔다', '▁이르기까지', '▁가치를', 'age', '▁무릎', '~20', '▁생애', '법으로', '▁캘리포니아주', '侯', '▁재위', '▁쇠', '프는', '닥', '▁스웨덴의', '하면서도', '二', '▁나폴리', '▁데이터를', '킬', '▁자식', '▁차지한다', '▁댄스', '▁박근혜', '9%', '▁페루', '▁진실', '▁이론을', '에너지', '▁억제', '▁현상을', '▁파울', '(13', '▁매체', '▁영혼', '▁행위를', '▁징', '▁올해의', '▁돌파', '▁구에', '▁개별', 'my', '名', '▁상원', '▁주문', '▁테마', '▁야마', '▁알고리즘', '▁창간', '▁싸움', '트의', '▁발전을', '▁독일어', '雲', '형이', '▁발발', '▁드라마이다', '▁구사', '▁작품이', '▁되었는데', '물로', '▁고안', '▁클라', '▁모음', '▁제외하고', '▁바닥', '▁경제학', '뉴스', '▁대해서도', '이후', '▁않았지만', '대대', '▁얼', '이라며', '▁타임', '법원', '▁마틴', '▁정도이다', '브로', '▁웨이', '▁미분', '▁지휘관', '함이', '▁모양으로', 'end', '▁강도', 'tic', '▁입법', '▁고객', '▁전체적으로', '▁1896', '▁빌딩', '산성', '▁공국', '▁도중에', '▁쓴다', '법의', '▁기능이', '▁사도', '정신', '▁포로', '였기', '▁투구', '▁십자군', '▁평등', '처리', '▁붙어', '▁투쟁', '×', '▁액', '▁심지어', '重', '▁미치', '에게도', 'ai', '▁한나라당', 'ni', '▁변신', '▁자본주의', '▁개인의', '▁경로', '쿠라', '성으로', '▁받으며', '▁관계에', '▁중지', '령을', '▁47', '▁자녀', '황제', '▁이루어진다', '▁포함된', '▁들었다', '▁소요', '▁코르', '▁재료', '▁주목을', '▁손에', '리지', '▁44', '▁체험', '▁독점', '주의를', '▁명시', '▁하던', '▁선거구', '▁다루는', '종으로', '▁까지', '▁위대한', '상이', '기능', '▁결의', '▁지중해', '▁전승', '▁짐', '▁직선', '▁Be', '▁동서', '호의', '▁숭', '▁땅을', 'ec', '텍', '吉', '▁임신', '▁세금', '▁타워', '▁흉', 'ind', 'ner', '▁출현', '시를', '▁없지만', '▁바깥', '▁약탈', 'IS', '▁사건의', '▁75', '들이다', '▁회사의', '▁요인', '▁연계', '▁주변에', '회에', '▁1,000', '▁돌려', '▁주변의', '〈', '▁대성당', '▁세우고', '▁일곱', '중이다', '▁자신은', '▁경사', '▁텍사스', '▁가을', '▁최종적으로', '▁늑대', '▁지향', '층의', '▁중에서도', '▁주체', '판을', '▁지원하는', '▁기본적인', '차전에서', '▁발생한다', '▁알려', '▁이어져', '▁접하고', '▁이곳에서', '▁에너지를', '▁동반', '이거나', '▁전해진다', 'AR', '▁영국과', 'OR', '▁불리며', '▁봉기', '마치', '▁명으로', '▁공개되었다', '▁가족들', '▁양의', '守', '▁집을', '하였을', '▁성격을', '개혁', '▁졸업한', '▁거두', '년까지는', '인으로', '▁탁', '▁폐지되었다', '성군', '時', '물이', '단은', '▁전체를', '콤', 'ap', '驛', '▁자체가', '▁법적', '▁광산', '▁종사', '위의', '▁작품의', '▁밖으로', '▁기부', '뇨', '▁이정', '▁대학교의', '중심', '랜', '▁있어야', '리고', '▁가톨릭교회', '▁팬들', '즘', '▁46', '주의자', '▁주어진', '▁일상', '▁조항', '▁기용', '▁스승', '▁촉진', '▁원하는', '축구', '▁독자', '▁살았다', '▁겨우', '▁삼아', '하지는', '밥', '▁지켜', '▁철거', '▁관점', '재단', '▁구상', '포트', '鎭', '▁적응', '체제', '단으로', '下', '커스', 'ba', '▁맞춰', '▁그녀를', '▁스테', '▁고등학교이다', '▁홈페이지', '▁회로', '천만', '▁이종', '▁제주도', '▁밀라노', '▁이용하는', '표를', '▁복사', '▁앨범을', '▁오다', '▁교수로', '▁왕가', '▁맞는', '▁일으키', '전문', '개로', '뼈', '▁아프가니스탄', '▁수도권', '집단', 'em', '▁적극', '▁얻게', '▁x', '▁동화', '▁스카이', '▁선물', '닫', '▁그래프', '▁제자', '▁사촌', '념', '▁토너먼트', '▁공격수', '▁상태에', '▁진나라', '▁탑승', '리나', '▁슬', '렘', '▁별로', '하겠다고', '▁레이다', '단에', '▁마케도니아', '物', '▁꾸준히', '▁크기가', '▁웅', '▁알바니아', '▁농장', '▁레벨', '▁뼈', '▁유역', '▁1911', '제품', '▁용어는', '▁쌓', '▁부호', '▁구성된다', '여자', '▁매각', '▁셋째', '▁인근에', '계약', 'ice', '▁라는', '▁알렉산더', '▁수직', '▁가나', '▁아들이다', '▁신뢰', '▁사회의', '체가', 'CC', '체계', '선과', '▁분산', '▁조종', '400', '▁강을', '▁의미가', '▁북쪽에', '▁고기', '▁식량', '▁적어도', '씨의', '▁지방에', '▁비슷', '▁기관차', '▁삶', '▁담은', '▁수감', '▁아스', '▁추적', '▁명칭이', '▁요미우리', '▁증상', 'land', '▁쇠퇴', '▁곳은', 'ip', '▁주최', '社', '▁모토', '국은', '▁건축물', '▁기반을', '당의', '▁죽고', '▁들여', '▁말기', '▁관계는', '▁상영', '▁커버', '▁수밖에', '▁먹는다', '▁지역구', '▁BBC', '선으로', '▁연호', '▁k', 'ide', '▁크루', '▁묘소', '주었다', '▁마치고', '▁모델로', '▁중국에서', '▁역전', '▁라이벌', '▁상처', '▁수록되어', '▁실제로는', '▁친일', '▁골드', '강에', '▁진술', '600', '▁다르', '▁파키스탄', '자원', '▁딴', 'St', '▁한강', '▁면적', '▁실력', 'TO', 'au', '▁왕위', '상은', '▁봉해졌다', '▁특허', '▁집회', '▁곧바로', '▁면에서', '▁후쿠오카', 'ph', '集', '프라', '▁서쪽으로는', '▁환승', '▁소규모', '방법', '▁지정되어', '▁크기는', '▁로즈', '兵', '▁소관', '해져', '▁지나지', '았', '▁빌리', '▁명성을', '▁중구', '▁결과로', '▁이루어', '▁먹는', '▁수준의', '▁차지하는', '▁설치되었다', '▁종족', '▁먹이', '상에', '▁이날', '▁약물', '▁탐사', '▁소리를', '▁전향', 'be', 'qu', '▁스트', '여성', '▁멸종', '자들을', '▁시간에', '철학', '▁레이블', '▁후반에', '▁반환', '네이', '▁주요한', '▁거절', '▁동쪽으로는', '▁추락', '▁사람에게', '듯', '▁획득하였다', '▁두번째', '▁운동에', '▁경전', '木', '▁소재지', '▁히가시', '▁시내버스', '▁순수', '▁일치', '▁걷', '▁종교적', '▁하드', '▁영지', '▁내장', '졸', '정을', '▁존스', '▁법안', '▁냈다', '▁납치', '▁이치', '▁원자력', '▁없기', 'La', '▁망원경', '▁남쪽으로는', '▁올리', '▁인도의', '묵', '前', '▁사적', '▁소비자', '▁이하의', '▁충격', '▁국장', '▁지내고', '었기', '▁덕분에', '▁근육', '▁모래', '▁색깔', '▁곤충', '▁Ma', '▁타입', '▁비슷하다', '▁모습으로', '민주당', '▁문화적', '▁없었던', '▁사이를', '寧', '▁항공사', '▁빵', '代', '、', '▁플레', '공신', '▁주지', '형은', '▁거대', '▁교향곡', '럭', '트가', '▁아나', 'ak', '받', '柳', '▁아르메니아', '▁시절에', '▁원시', '▁못하게', '▁공간을', '룩', '分', '▁나타난', '적으로는', '▁꺾', '▁여성의', '▁그라', '▁인기가', '▁획득했다', '▁타이틀을', '▁부품', '▁리눅스', '▁선임', '▁아래의', '▁입었다', '▁법인', '▁찍', '일보', '▁맛', '▁책은', 'SS', '대와', '모양', '란트', '판이', '▁에르', '이라면', 'ary', '▁해제', '▁이어졌다', '▁지역이', '▁정권을', '우라', '▁이성', '順', '진을', '▁왕족', '▁개척', '▁하천', '▁수백', '▁대회이다', '▁일으킨', '시스템', '▁대전광역시', '▁졸업했다', '하우스', '▁없', '▁오늘날의', 'ke', '▁말해', '▁일환으로', '▁몸길이', '▁역사는', '▁여객', '▁개수', '▁포르', '▁없었고', '▁자회사', '포스', '▁항목', '▁풍부한', '니는', 'IC', '습니다', '▁흐르는', '▁제공하고', 'di', '리어', '▁토론', '靑', '800', '헤이', '▁지원한다', '▁받', '▁사직', '300', '번호', '▁히데', 'the', '▁바람에', '▁유발', '기지', '▁우리가', '▁영화의', '▁대학에서', '▁아니었다', '▁아마추어', '확', '▁우익', '경찰서', '▁Mo', '▁도시는', '▁아니고', '▁퍼져', '▁반사', '▁유인', '▁주류', '▁교리', 'port', '▁간에', '▁영광', '시와', '六', '▁블', '▁불리', '명과', '▁남쪽에', '▁이명박', '▁공룡', '▁대만', '▁거기에', '▁바꾸', '▁유입', '▁않았던', '운동을', '▁코너', '▁아트', '▁예방', '▁성과를', '웨', '▁아티스트', '▁곳을', '하였기', '▁퀸', '드의', '▁당했다', '▁처음에', '▁믿음', '▁거리를', '국장', '▁드러내', '▁re', '▁칼리지', '▁흙', '▁다음으로', '▁대지', '화학', '▁황후', '▁계기가', '▁집에서', 'TS', '▁화합물', '▁이탈', '▁1909', '독일', '리스트', '퀴', '▁Con', '▁걸려', '▁옆', '▁당해', '▁선두', '▁필요로', '조를', '▁La', '▁수상자', '▁랩', '현재의', '▁대학의', 'ica', '▁음악가', '▁반면에', '▁킬', '▁가쓰', '▁구간이', '▁때문이었다', '陵', '체는', '體', '유키', 'ber', '▁원주민', '▁차체', 'ina', '테르', 've', '부와', '▁하드웨어', '▁사당', '▁유키', '▁세조', '▁등장한', '九', '衛', '사우루스', '▁인생', '▁마쓰다이라', 'AC', '▁수반', '▁당사자', '▁동시', '▁엘리', '▁침해', '▁못해', '▁메탈', '廣', '비행', '▁모험', '▁고교', '▁좌파', '▁곱', '해왔다', '▁우리는', '▁돔', '민주', '▁유산', '▁김종', '▁NHK', '▁변화가', '▁두려워', '▁애국', '왕이', '▁IC', '▁하다가', '▁목소리', '▁도움이', '▁시청', '때문에', '이면', '▁계획이', '겠다고', '▁회담', 'а', '대교', '▁파티', '▁란', '▁권위', '谷', '▁Ch', '▁돌아온', '▁보이며', '분교', '년만에', '동으로', '▁유닛', '▁래', 'ore', '▁프라', '▁민족주의', '생활을', '▁독립운동', '타임', '▁공화당', '▁브라질의', 'ris', '노프', '무늬', '▁시계', '비스', '▁빨리', '▁복구', '바시', '닛', '▁유고슬라비아', '▁후쿠', '사인', '▁얻기', '▁아나운서', '전이', '業', '▁이사회', '하러', '▁않았으며', '아키', '▁대서양', '▁스타디움', '▁불안', '▁포유류', '▁뿐이다', '▁가담', '▁Le', '▁여신', '▁중국어', '목에', '▁합동', '주기', '▁좌익', '▁사우스', '석은', '▁관심', '▁삼각형', '▁약간의', '▁규모가', '▁크레', 'ea', '▁느', '▁공동으로', '구는', '▁기병', '석이', '▁아사', '▁51', '달러', '▁아들이', '周', '▁여동생', '▁기념물', '-7', '▁교역', '▁졸', '▁산성', '관은', '▁열어', '▁토머스', '▁음모', '▁동굴', '‘', '▁권한을', '▁앨', '▁카페', '</', '독립', '프레', '▁걸어', '▁가공', '갔고', '▁내놓', '▁증기', '▁끈', '품을', '▁간섭', '▁지름', '타르', '▁동아시아', '▁박쥐', '▁활약하고', '▁출입', '▁포항', '▁독재', '▁추가되었다', '▁지역에서는', '▁노무현', '경찰', '▁서경', '어족', '되었다고', '▁추대', 'α', '▁말하며', '▁구리', '▁우수한', '▁늘어', '▁부동산', '建', '오르', '▁SF', '공격', '밤', '▁플', 'vi', '▁입증', '▁대동', '▁다양체', '치고', '▁스톤', '▁최신', '▁인구의', '▁결과적으로', '체로', '▁중립', '▁빚', '▁동영상', '▁태자', '▁센트럴', '▁스타크래프트', '▁주장이', '殿', '▁i', '▁구체적으로', '▁아직도', '▁노선이', '▁존슨', '▁서방', '▁벌였다', '▁시점', '曹', '▁유신', '▁세계적인', '▁별자리', '▁호남', '▁케이블', '뤼', '▁다이묘', '▁아리', '▁스파이', 'ung', '▁주와', '▁이온', '▁뽑', '▁서독', '안에', 'll', '▁가르', '▁커피', '▁점수', '▁발효', '▁구간은', '▁건의', '▁고지', '론은', '▁과거에', '전기', '살이', '진은', '작가', '▁지연', '▁1913', '▁클', '▁디즈니', '▁동지', '▁브리', '피아', '▁시를', '▁제약', '▁물러나', '▁때마다', '▁샘', '대한', '▁꾸', '관계를', 'ー', '▁만난', '▁EP', '▁약화', '인간', '▁물이', '▁호흡', '▁정통', '▁하사', '▁국민의', '▁루트비히', '보고', '▁그랜드', '▁방향을', '▁합계', '▁화폐', '▁판타지', '진이', '정의', '소스', '▁Ro', '▁중앙에', '▁시가', '▁대리', '주와', '▁무선', '▁주자', '▁보건', '▁개업', 'ov', '▁입대', '▁영화를', '▁치르', '▁산악', '▁독립운동가', '▁나갔다', '▁성종', '▁기단', '야구', '▁약칭', '▁대회는', '▁쪽으로', '▁무관', '사이드', '▁대사관', '부르크', '-17', '평가', '▁닌텐도', '▁포맷', '되던', '▁오버', '▁프랑크', '식의', '생산', '▁분화', '▁돌아', '▁시호는', '景', '▁이외에', '▁있으면', '▁간다', '▁다니', '▁비잔티움', '▁더블', '집합', '▁별도로', '▁자료를', '▁바라', '▁클래스', '▁1915', '▁후기의', '▁시청률', 'ka', '▁배제', '▁귀환', '直', '▁되었으나', '▁생각을', '▁내가', '美', '▁필름', '合', '▁전임', '-16', 'AL', '▁65', '▁내용의', '▁여인', '득점', '즐', '▁개칭', '▁신칸센', '▁패턴', '▁극복', '▁다큐멘터리', '▁벗', '▁데이터베이스', '▁정부를', '▁예루살렘', '▁기록하고', '▁공식적인', '▁도심', '▁간단한', '▁랭킹', '▁크기의', '▁오디션', '▁무용', '▁Love', '▁1895', '▁좌석', '▁나선', '▁엘리자베스', '▁대대', '▁남긴', '첸', '▁쇼군', '▁내륙', '서비스', '▁서인', '▁성립한다', '혔다', '▁평생', '▁불리기도', '▁크림', '▁배급', '▁시드니', '▁코어', '▁잃고', '▁육성', '▁관심이', '▁못했고', '▁창원', '▁작위', 'BA', '▁활동에', '▁다룬', '▁이끌', '▁기름', '▁남아있다', '나카', '▁찾는', '▁An', '▁작전을', '미르', '▁아울러', '▁은퇴한', 'up', '▁심한', '▁요금', '홈런', '▁(1', '▁관객', '▁심리', '▁말라', '하라고', '-18', '▁흥행', '祖', '源', '▁적절한', '▁일체', '▁향년', '▁설이', '▁시대에는', 'AN', '▁싶다', '見', '▁지방에서', '▁고베', '▁동맹을', '톡', '▁인간이', '그리', '▁업데이트', '者', '▁낳았다', '▁동구', '▁츠', '▁공전', '▁국가가', '▁눈을', '▁최근에', '▁백성들', '▁착수', '▁졸업하였다', '▁모양을', '▁당선되었다', '▁목숨을', '▁관하여', '▁참가하여', '▁합쳐', '▁계수', '基', '▁오리지널', '▁태도', '▁독자적인', '▁Th', '▁문재인', '▁유지하고', '▁가미', '▁군사적', '▁제목', '버리', '▁중계', 'SL', '트와', '▁표본', '▁버리고', '▁도시를', '▁안쪽', '宋', '▁MVP', '▁결심', '▁멜', '▁언어로', '▁옹호', '시민', 'ade', '▁활약하였다', 'Al', '▁체육', '궤', '▁사용하기', '▁문제점', '아버지', 'ae', '▁일요일', '역에서', '▁《》', '▁파라', '만은', '▁한국에서는', 'MS', '▁행복', '국을', '▁발생했다', '▁애플리케이션', '▁가도', '▁교차로', '▁자전거', '킷', '▁경계를', '-10', '▁문법', '立', '시켰고', '▁대항', '▁가능성을', '▁들어간', '섰', '▁러브', '▁몰락', '▁경북', '▁선호', '▁스테이지', '▁찾아가', '▁모집', '▁효소', '▁스펙트럼', '▁세계를', '▁대령', '선언', '▁캠프', '-15', 'AP', '▁정의할', 'ue', '▁측은', '분을', '▁압박', '▁결승', '▁자리에서', '▁요구하는', '행을', '▁한계', '▁54', '▁등도', '▁저작', '▁크로스', '英', '▁경비', '▁여기', '▁시집', 'ron', '주가', '▁후계자', '▁특성을', '정은', '▁가득', '▁번뇌', '▁Ar', '▁많고', '▁왕립', '왔고', 'bi', '컴', '▁베이스볼', '▁복지', '▁얼음', '▁이야기가', '감이', '녹', '▁혜성', 'we', '▁것이고', '▁리듬', '이었는데', '星', '▁월드컵에서', '▁색상', '▁강릉', '▁위치하며', '▁놀이', '▁홀로', '동과', '▁미국에', '▁분노', '마저', '조약', '▁바꾸었다', '▁김동', '▁샌프란시스코', '▁묶', '▁초래', '▁특급', '▁앨런', '▁포크', '號', '▁열차는', '니카', '▁준공', '▁수요', '▁뤼', '▁형성된', '꾸', '▁흐', '朝', '교수', 'FC', '▁회원국', '▁입구', '▁관련하여', '량의', '▁입문', '▁그럼에도', '▁항일', '▁서적', '▁펄', '▁국립공원', '▁긴급', '▁가야', '▁생각했다', '-8', '▁효과가', '▁디젤', '▁전통적으로', '▁아이들', '▁미사', '▁존재를', '융', '▁인증', '宣', '▁데리고', '안전', '파이', '▁석방', '랍', '700', '▁영화로', '▁암컷', '▁신임', '▁국민당', '▁인사들', '▁선생', '▁동전', '▁생기', '▁납', '▁활동한', '▁사진을', '▁멤버로', 'ake', '▁자가', '▁미야', '眞', '▁퇴각', '▁스페셜', '년대부터', '족이', '▁본선의', '아나', '▁하원', '▁운반', '▁통칭', '즉', '▁나라를', '▁49', '▁앞면', '▁근거로', '▁인텔', '▁전류', '▁1916', '▁싱글이다', '▁마스터', '▁오염', '▁배정', '花', '▁앨범은', '▁권고', '高等學校', '하기에', '▁52', '럽', 'ME', '▁지목', '우치', '▁목록은', '▁데뷔전을', '▁수록곡', '▁빛을', 'so', '▁죽어', '▁발견했다', '▁수컷', '▁현존하는', '츠키', 'amp', '나리', '▁인물이다', '▁되었다고', '▁료', '▁히데요시', '▁멤버들', '▁가지게', '▁디자이너', '▁힘이', '▁말하고', '▁성벽', '▁무력', '▁끝났다', '▁가져', '▁일본에서는', '▁중이던', '▁첫번째', '잘', '▁애니', '▁셋', 'sc', '▁입지', '쳤다', '▁성주', '토르', '▁부처', '-6', '▁선교', '▁인디', '▁안드로이드', '▁사사', '▁편곡', '▁일본은', '▁현대의', '▁급행', '▁담당하는', '▁태어났으며', '▁조기', '지사', '▁수비수', '화로', 'AS', '▁멀티', '▁확인할', '▁광주광역시', '▁상대방', '▁메시지', '▁Al', '▁관점에서', '자이다', '▁멀', '▁사무실은', '▁활동이', '▁이르고', '대한민국', '▁한쪽', '▁찾', '▁능력이', '▁찾을', '▁귀족들', '▁꺾고', ')」', '주의적', '▁양도', '국사', '▁스탈린', '▁(\"', '사람', '▁보스', '▁관직', '▁기온은', '▁마산', '萬', '▁결정했다', '▁인터페이스', 'hPa', '▁정벌', '▁번식', '학의', '▁가질', 'ess', '▁성공적으로', '▁1500', 'ley', '▁락', '이었기', '▁문화를', '▁가즈', '▁그동안', '▁지배를', '▁필드', '▁스카', 'ite', '▁떨어지', '▁적색', '▁보잉', 'DA', '▁프로세스', '복을', '▁무료', '▁가와', '조정', '▁다루고', '▁할당', '▁마친', '학부', '▁옮기', '▁분야의', '수와', '▁말은', '▁회의에서', '▁듀', '▁커뮤니티', '▁목조', 'ah', '▁사료', '탱', '▁물건', '▁국가에서', '화와', '村', '보드', '▁점은', '▁FM', '▁끌어', '▁면역', '병을', '▁판매량', '▁얼마나', '▁DJ', '▁큐', '像', '▁국군', '▁꾀', '▁혁신', '▁프랑스와', '女', '르는', '▁계획은', '▁야기', 'ick', '▁자세', '▁소속되어', '자동차', 'formula', '▁교전', '▁과일', '▁위기에', '_10', '모델', '▁소니', '부에서', '▁포도주', '▁제휴', '역이', '▁성서', '▁수익', '▁이익을', '▁※', '▁아웃', '씨가', '▁오는', '▁운행하는', '▁값을', '▁무사', '▁정신적', '▁타이틀곡', '▁상태이다', '福', '▁드래프트', '▁56', '리그의', '▁서쪽에', '▁석탄', '▁나라에서', '〉(', '▁싸우', '▁라운드', '론의', '▁민간인', '파크', '▁여덟', '아노', '에르', '▁AC', '▁발생하였다', 'RE', '▁협의', '롭', '▁받기', '▁편지를', '▁자바', '렸고', 'PS', '베르크', '▁가끔', '▁선거에', '▁지역이다', '▁목적은', '▁대왕', '▁아베', '制', '▁표지', '음력', '한다면', '▁작품에', '▁해임', '的', '국으로', 'ee', '▁인물들', '세기의', '▁대회를', '▁병사들', '영은', '▁학부', '▁라틴', '랴', '▁제목으로', '▁미나미', '▁칼리', '▁의정부', '▁덧붙여', '▁진동', '로서는', '▁엔진을', '▁서서히', '다르', '▁튀', '▁2020', '▁현급', '즈의', '있으며', '野', 'IA', '▁이사장', '▁의석', '▁맞게', '동을', '덩', '▁각국', '셋', '▁남겨', '▁말할', 'SI', '▁대주교', '▁주어졌다', '▁철학자', '▁주말', '▁연주자', '▁자유를', '더라도', '▁Tr', '▁역사적으로', '▁앉', '마쓰', '▁기록에', '路', '죠', '▁발전에', 'che', '▁것인지', '(5', '▁개막', '自', '▁테오', '아시아', '회에서', '▁보여주고', '▁베타', '▁광역', '계열', '▁아서', '겼다', '▁막을', '▁좋아하는', '▁주제로', '▁국토', '내는', '▁마이크로', '▁성씨', '▁조명', '▁링', '군사', '▁이끌어', '▁충분한', '▁두산', 'ight', '▁일로', 'IN', '크로', '▁국정', '▁대로', '고속', '*', 'ES', '나이', '▁차남', '▁겸임', '▁김영삼', '▁곡으로', '▁연구하는', '자키', 'mer', '▁원작으로', '左', '▁주파수', '금융', '적이', '▁덴마크의', '▁공략', '▁질환', '▁Se', '▁개발을', '늘', '▁연설', '하니', '겠다는', '▁실시된', '康', '이지', '준다', '니다', '▁학교를', '▁이세', '▁모순', '▁자유주의', '브레', '하였', '형태', '貞', '▁페리', '▁캄', '▁혼자', '버렸다', '▁않도록', '▁원조', '무역', '▁가능하며', '根', '적이다', '▁현상이', '다니', '▁프랑스군', '(2002', '▁발탁', 'ame', '▁거둔', '▁천연', '▁쳐', '스포츠', '▁심사', '▁한화', '▁사무', '▁냉', '▁700', '수사', '▁독일에서', '▁없으나', '보는', '▁SC', '▁스마트폰', '▁코무네', '▁원자로', '황후', '▁굽', '▁예외', '▁치렀다', '▁전진', '이면서', '▁천문학', '▁도와', '▁특수한', '▁시간대', '▁혈액', '자들', '▁방영되었다', '▁브로', '▁권한', '▁성공회', '▁하버드', 'BC', '자들에게', '경영', '▁CPU', '▁메가', '▁되찾', '유럽', '▁당신', '▁본격적인', '▁지어진', '▁도요', '▁측면에서', '점으로', '▁지역과', '▁얻는', '▁분지', '▁받기도', '▁누구', '▁추격', '▁조약을', '▁일찍이', '▁동독', '▁성질을', '▁on', '▁비즈니스', '동이', '▁산타', '▁훈련을', '맛', '▁인물이', '▁계열의', '음이', '▁석사', 'Le', '▁파동', '▁돌아갔다', '▁음반은', '▁나이트', '▁연애', '▁지휘자', '▁250', '▁자유롭게', '회가', '▁중요하다', '▁그것', '▁포함해', '뷰', '▁경험을', '있고', '▁개념은', '▁훌륭한', '▁여기에서', '▁청와대', '▁영어로', '▁그곳', '타는', '▁실패했다', '이론', '위가', '▁찾기', '▁전세계', '泰', '▁전두환', '▁리투아니아', '▁고조', '▁출입구', '류의', '▁유언', '▁기동', '▁웃', '산은', '찌', '▁시작해', '미디어', '행동', '▁경력을', 'q', '▁역과', '호에', '해지고', '▁통로', '▁아니며', '▁브라이언', '▁싶어', '▁글씨', '▁이수', '▁출구', '▁렌즈', '▁이토', '▁프로토콜', '령이', '▁사령부', 'und', '고종', '투쟁', 'old', '%', '▁제도의', '(2011', '▁부패', '▁연고로', '▁김용', '▁조류', '▁외계', '▁사용해', '▁뒤인', '쿄', '▁동쪽에', '▁구체적인', '▁울산광역시', '▁빼', '▁노비', '▁외교관', '▁발견되는', '外', '▁전례', '議', '▁경유', '레나', '작용', '▁따르는', '▁대안', '▁않았기', '▁당한', '▁호칭', '▁친일인명사전', '▁부통령', '▁연령', '▁그중', '傳', '▁지니', '▁적을', '따', '▁뱀', '▁영화제', '▁창건', '해진다', '파가', '▁피렌체', '▁디비전', '▁끝이', 'ix', '▁게재', '▁막대한', '▁직장', '▁자격을', '▁코리아', '그라', '편의', '화되어', '받는', '▁맡았으며', '▁소속사', '았던', '▁또다시', '▁화려한', '▁의병', '▁금성', '▁섬유', '전은', '▁싫어', '▁승부', '▁건너가', '▁예능', '작품', '▁컨', '스에서', '치기', '▁대신에', '▁조조', '▁생명체', '너스', '선조', '▁김태', '▁성직자', '▁군대가', '▁이승', '▁길이가', '빨', '▁가능하게', '▁SM', '산면', '▁사면', '▁발견한', '典', '▁학위', '▁머리를', '류를', '아과', '우가', '▁석조', '▁있음', '▁간부', '▁분포한다', '됐으며', 'ich', '군에서', '▁동북', '▁정자', '낸다', '났다', '▁에스토니아', '▁수천', '▁이었다', '동의', '▁프랑스에서', '수도', '治', '쳤고', '▁정차', '즈는', '▁실업', '▁중심이', '▁물리적', '▁발레', '▁젖', '▁두루', 'ier', '▁짓', '▁180', '▁우주선', '▁향을', '스톤', '▁근접', 'ack', '▁삭', '▁불가', '▁출판사', '▁!', '▁일원으로', '▁오케스트라', '▁어두운', '▁시게', '▁체제를', '▁무슬림', '불교', '▁서원', '▁잘못된', '音', '▁내는', 'SA', '▁손실', '▁움직임', '▁공로', '하려면', '▁상관', '혔', '▁이내', '▁인원', '令', '▁원나라', '▁살던', '▁급제', '▁빌헬름', '▁구장', '▁부흥', '▁엠', '▁리메이크', '▁뒤에는', '觀', '코드', '▁방식의', '▁소재로', '▁추모', '承', '▁계단', '▁목포', '산맥', '▁줄여서', '경을', '으므로', '▁이후부터', '끼', '▁펠', '▁마찰', '▁낱말', '▁아이템', '▁삼고', '보다도', '▁승리로', '▁습', '▁빠진', '▁여론', '▁기술이', '상에서', '밭', '▁사용자가', '▁해설', 'ata', '別', '▁스파르타', '▁거슬러', '▁작고', '▁수록된', '▁상의', '▁임명되어', '▁밤에', '▁사가', '론적', '▁쌓아', '졌지만', '▁검증', '▁점프', '▁빠지', 'ach', '▁유교', '▁맡게', '▁독일군', '▁성모', 'mi', '▁양주', '폴리스', '종합', '판은', '빠', '▁풋볼', '정이', '어스', '▁개발된', '▁했다고', '▁춤', '▁신자', '▁특유의', '▁짓고', '▁세워졌다', '▁싸', 'MC', '▁선수이자', '▁토대로', '▁시로', '▁Sh', '▁상인', '▁결혼을', '신학', '▁시작하는', '짜', '▁혐의', '▁서브', '0%', '▁기타리스트', '▁까', '▁보한다', '▁옹', '밴드', '▁베네수엘라', '주간', '▁미만', '▁법학', '머스', '▁수업', '▁파운드', '▁사용하며', '▁균', '▁구로', '▁복제', '▁사무소', '▁세로', '▁관습', '▁형태가', '壽', '▁53', '▁부수', '▁늘어나', '어야', '▁역이', '산군', '▁람', '▁유일', '반도', '▁춘', '▁밖의', '▁따위', '▁결과는', '▁무대에', '▁생각된다', '▁노스', '▁왕위를', 'cc', 'lu', '파는', '타니', '▁부르며', '사관', '▁뮤', '▁지표', '원숭이', '▁역임', '작업', '짝', '▁포수', '▁군대는', '▁고통', '▁감독이다', '▁이처럼', '명에', '히코', '됐고', '▁World', '▁맞추어', '▁주립', '▁목적을', '▁일족', '포를', '협정', '▁주에서', '니시', '신을', 'ear', '▁시작했으며', '▁에드', '레이션', '▁국적', '▁사고로', '법인', '▁렌', '스에', '▁묻', '▁MC', '▁트랜스', '▁자기장', '범죄', '웠다', '▁자산', '▁중추원', '▁생겼다', '▁출시된', '▁규격', '▁균형', '▁미스', 'ium', '졌는데', '▁각기', '▁이것', '▁몰아', '▁떠난', '미술', '▁그러자', '▁제국이', '臺', '룰', '▁때때로', 'Ch', '▁천안', '▁요소를', '테이', '▁대책', '▁속도를', '▁와중에', 'MI', '▁언어를', '▁한동안', '원에', '▁목격', '開', '▁훼손', '짜리', '▁인터', '▁하느님', '자에', '▁뻗어', '▁To', '▁중기의', '▁파트너', '▁끝나고', '▁펼쳐', '▁사물', '경기에서', '玉', '吳', '하루', 'con', '화는', '▁서울에서', '점은', '▁미치는', '▁파르', '으니', '구로', '▁시스템은', '▁운동이', '▁민주화', 'ler', '미가', '▁중시', '▁5000', '▁후보에', '▁보스니아', '▁안양', '당을', '노리', '패를', '▁리버풀', '▁합작', '▁규정하고', 'ga', '▁장안', '▁생기는', 'An', '▁여단', 'DS', '▁교차', '지면', '노동', '▁궁정', '▁기상청', '▁전제', '▁착륙', '태후', 'ana', '▁전부터', '노부', '▁해주', '▁아들을', '▁전투에', '조로', '함대', '▁미드필더', '물의', '寶', '奉', '▁프랑스는', '▁화살', '▁출전했다', '▁원래의', '▁필라델피아', '▁전투가', '역과', '▁알려지지', '▁약한', '▁아니면', '보살', '▁바꾸어', '▁초창기', '▁당대', '臣', '▁평행', '리크', '둘', '듯이', '▁My', '▁도메인', '실로', '▁의견이', '▁털이', '▁프로그램은', '보를', '▁문화의', '▁건물이', '▁공채', '플레이', '▁조국', '▁충족', '(4', '▁지금도', '▁강연', 'SC', '▁3000', '▁Ex', '▁땅에', '▁항공모함', '▁Pro', '▁밴', '▁써서', '▁정도가', '▁모델이다', '▁결정을', '▁봉사', '▁공자', '▁고가', '▁내부에', '▁사이드', '▁경선', '▁융합', '사항', '나스', '▁형법', '▁설립하였다', '應', '라디오', '펀', '단위', '퍼스', '▁분야에', '▁연구가', 'ng', '아리', 'he', '▁군부', '큰', '늄', '▁소금', '▁팩', '▁방식은', '스파', '▁서식한다', '▁말한', '▁유대', '▁주지사', '▁언제나', '▁미술관', '사무소', '▁하나를', '▁탕', '딸', '▁이슬람교', '여객', 'ON', '▁알레', '▁부른', '벌레', '▁출전해', '▁스페인어', '▁역임한', '시까지', '利', '▁황해도', '▁내부의', '▁섭정', '▁진출하였다', '▁도호쿠', '▁죽을', '▁침몰', '▁제작되었다', '▁근처의', '▁사신', '科', '▁시점에서', '▁지냈으며', '▁관통', '族', '▁제작자', '현상', '▁Bo', '▁속도로', '▁텐', '▁진군', '효과', '대전', '당이', '동은', '파리', '▁형식을', '▁명예의', '春', '▁동남아시아', '▁바이올린', '▁피트', '교를', '▁본인', '▁Pa', '사고', '▁관계로', '▁트럭', '순위', '▁라트비아', '▁협약', '▁초상화', '▁기재', '▁아기', '▁죽이고', '▁전투는', '▁정확하게', '▁당국', '▁내내', '▁가구', '▁히라', '헨', '롯', '▁완화', '▁품질', '▁일화', '내에', '▁차례로', '▁결과가', '▁예전', '▁라우', '▁왕으로', '▁팽창', '▁경향', '운영', '토시', '간에', '분이', '카타', '▁실종', '▁현의', '▁이씨', '▁유해', '▁파리에서', '▁폐위', '▁못할', '▁노선은', 'tra', 'ts', 'GM', '▁이전까지', '▁지지하는', '클라', '▁달린', '▁쓰기', '▁원주', '▁우루과이', '파를', '▁파트', '▁거점', '호와', '▁음원', '▁병역', '거래', '이어서', '▁고무', '니까', '▁강경', '▁발전소', '▁아래로', '주년을', '▁전망', '정권', '▁의원이', '▁이루었다', '▁화제가', '▁개최되었다', '▁실험을', '▁갤럭시', '▁건물로', '고리', '부작', '語', '▁특징이', '▁시작된다', 'pi', '▁나섰다', '▁자신에게', '▁잃은', '▁때로는', '▁지키', '▁툴', '▁친구들', '▁중대', '▁자문', '▁성남', 'mb', '▁세우', '▁정류장', '▁피에르', '▁유성', '종교', '께서', '▁지각', '▁토요일', '▁앉아', '▁야간', '▁보충', '▁동메달을', '▁컴', '후보', '▁창원시', '▁코치로', '▁멸', '크스', '▁암호', '▁토르', '▁은메달을', '▁순천', '▁그림을', '면을', '▁식사', '▁전체의', '▁캐스팅', '▁구조의', '▁형식의', '▁시와', '▁행정부', '尙', '▁거짓', '▁미쓰', '▁부위', 'ens', '▁사실은', '조건', 'ten', '▁수학자', '▁신흥', '번지', '▁성의', '▁전함', '▁기습', '주년', '▁마이너', '▁세계에', 'ave', '▁모듈', '戰', '▁특이한', '빅', '▁특징은', '야스', '▁운동의', '(2010', '▁젠', '▁정찰', '▁UN', '▁일식', '문이', '졌으나', '모를', '▁거주하는', '▁닿', 'De', '▁잉', '▁장성', '문과', '▁득표', '자연', '▁둘러싼', '▁교장', '▁기상', '방향', '▁후한', '▁몰려', '▁플로리다', '재판', '나르', '▁얻고', '▁정밀', '▁조건으로', '▁레이저', '▁채로', '등에', '▁버전은', '▁해군의', '▁소행성', '▁선종', '▁술탄', '▁취지', '▁종로구', 'cl', '나와', '▁1894', '클럽', '▁인력', '▁쿨', '겠다', 'ory', '▁사망자', '끼리', '▁갖', '▁시간은', '国', '實', '업을', '>,', '▁링크', '▁말하였다', '▁정부와', '▁바꿔', 'ost', '▁조문이다', '▁론', '그레', '▁도덕', '▁강원', '적이며', '▁기간에', '였', '나오', '정당', '▁비례', '▁멈추', '▁시설이', '▁고양', '▁레논', '책임', '▁때도', '▁°', '▁종결', '▁유출', '▁밀리', '▁둥근', '▁수신', '▁직책', '▁최소한', '▁상당수', 'lin', '▁풀어', '~)', '▁돌아오', '▁둘레', '▁월간', '▁부문에', '세에게', '▁줄어들', '▁미얀마', '▁발매했다', '▁해적', 'lan', '계와', '▁르네상스', '▁우연히', '▁시대를', '▁지점에', '공장', '▁슬로바키아', '왕은', '▁청원', '▁규', '▁일부로', '▁블라', 'iz', '넘', '화한', '았으나', '5,000', '▁전하', '▁국가를', '▁오디오', '▁중종', '슬리', '▁성향', '▁프로그램의', '드가', '▁일컫는', '▁본사', '良', '▁무제', '▁북부에', 'HO', '▁초점을', '▁자유당', '▁연속으로', '사리', '智', '▁마스', '사령관', '우주', 'RI', 'ven', 'ger', '▁통행', '▁북방', '▁분기', 'е', '▁58', '양군', '▁구제', '▁영감을', '년대에는', '▁대외', '▁폭격', '전투', '맞', '▁트라', '\"(\"', '▁에이스', '▁기종', '▁시나리오', '▁선언했다', '▁게임은', '안타', '▁감지', '▁학교에서', '▁묘지', '▁얘기', '▁존경', '▁→', '▁전한다', '▁김상', '▁사무실', '▁하였는데', '▁공인', '▁저작권', '▁이적했다', '▁새끼', '정리', '▁쉬운', '▁이스트', '▁고려시대', 'sp', '제작', '▁제주특별자치도', '▁선교사', '▁성공적인', '▁학생들이', '▁분배', '▁허브', '▁붙인', '▁학원', 'hi', '▁사이에는', '▁IP', '놀이', '▁결론', '▁사상을', '▁가면', '▁제외하고는', '곡을', '후에', '시절', '▁도망', '▁반박', '▁김재', '▁자격', '▁헤드', '▁탈환', 'EA', 'US', '▁들어가는', '▁진정한', '▁분데스리가', '▁작위를', '▁유튜브', '▁특이', '▁밑에', '플라', '▁교외', '▁발해', '度', '▁민족문제연구소', '행성', 'ern', '▁각지', '▁조사를', '▁축구단', '▁일반화', '▁북한의', '▁지수', '여단', 'ou', '▁에우', '▁사쿠라', '하겠다는', '▁다음해', '키스', '申', '인민', '세트', '▁인정받아', '드를', '▁l', '▁아이슬란드', '냥', '▁점이다', 'FM', '팀이', '▁타운', '▁전라도', 'ン', '께', '▁소닉', 'ster', '▁넘어가', '▁본명', '▁존중', '▁무려', '▁57', '▁등지에서', '▁저택', '공을', '▁불편', '▁죄를', '▁긴장', '번대', '글리', '조각', '▁일했다', '▁거리가', '시기', '▁두어', '▁그레이', '▁육지', '▁있습니다', '▁리그의', '▁맞지', '▁한나라', '賢', '▁우승하였다', '▁길게', '▁담배', '▁리버', '▁하인리히', '신의', '선에', '▁내외', '▁김해', '▁섬을', '▁분리되어', '▁달러를', '▁무거운', '인치', '▁불가능하다', '▁성공한', '▁아벨', '▁사단법인이다', '▁문양', '▁들어온', '▁뜻의', '▁엘리베이터', '▁삶의', '단지', '▁이론은', '▁비오', '▁꼭', '▁운행을', '▁테일러', '▁중장', '▁호세', '空', '保', '▁출연한', '▁유력', '▁남아있는', '▁백성', '원과', '▁수행하는', '▁국무총리', '▁교황청', '▁노동자들', '▁집계', '▁No', '▁랜', '▁이원', '浦', '매치', '(2006', '▁않는다는', '느냐', '종을', '▁중의원', '▁빛의', '▁단종', '▁1890', '▁보내는', '드와', '▁본사는', '▁드림', '▁다케', '唐', '▁금강', '▁110', 'ox', '▁친정', '說', '▁삼국', '▁기여했다', '▁페스티벌', '끝', '▁중심기압', '▁맡았고', '▁언론인', '▁동인', '▁영역을', '쟁이', '▁사토', '까지도', '평화', '▁지방도', '▁바라보', '▁유니폼', '▁쓰이고', '▁법령', '▁패전', '덤', '▁리가', '신이', '▁응답', '▁방식이', '룽', '산을', '▁골프', '▁결혼했다', '▁수평', '▁정체', '▁도움으로', '▁병행', '▁악마', '▁일기', '▁생일', '키아', '▁심리학', '▁중국인', '▁반경', 'ale', '▁그렇지', '(7', '▁말기에', 'ure', '▁넣었다', '▁플레이스테이션', '在', '▁김진', '▁어릴', 'ile', '▁88', '▁정부로부터', '▁고원', '▁시칠리아', '▁발현', '▁오리', '▁관리하고', '▁전장', '修', '산의', '▁움직이는', '▁설비', '▁정책에', 'gu', '▁후보자', '▁참여하여', '▁소환', '▁일제강점기', '▁송나라', 'IP', '음에도', '▁득점을', '▁톱', '▁재산을', 'ies', '▁진정', '관에', '▁시모', '▁마케팅', '팬', '공단', '作', '▁라마', '▁상징하는', '▁배웠다', '▁건물을', '▁힘들', '▁소지', '푸스', '▁분류된다', '▁소실', '면에서', '▁승무원', '▁마이크', '▁상무', '▁역설', '▁테니스', '▁치세', '요리', '▁에릭', '▁New', '▁맞추', '▁현종', 'res', '▁치러진', '월드', '▁무신', '▁사육', '憲', '무스', '▁몬트리올', '▁손가락', '▁입장에서', '▁생각한다', '종은', '▁IT', '▁남부에', '▁오늘', '▁꼴', '▁소설가', '같이', '효소', '▁의원은', '▁신라의', '▁시기의', '▁용기', '▁의사를', '▁달의', '슨은', '▁지류', '▁회화', '▁사용이', '여서', '▁이른', '身', '▁되었지만', '로마', '▁리비아', '▁Do', 'gen', '슬러', '▁활약한', '?\"', '머니', '▁둘은', '▁탈당', '▁시리즈에서', '첼', '산리', '법과', '▁활발한', '▁가수로', '▁포도', '▁판결을', '▁의미에서', '계급', '클리', '으려', '기사', '▁스토', '천사', '협력', 'ish', '▁속도가', 'les', '▁일어날', '▁든', '▁타카', '▁기록하여', '▁가마', '▁빗', '셜', '▁72', '▁하나님', '▁향한', '▁ISO', '▁미터', '▁시에서', '▁첼시', '▁랑', '조합', '▁북위', '▁보전', '(12', '▁회사는', '▁네이', '▁실려', '▁도서', '→', '▁마르크스', '▁북구', '흔', '▁마쳤다', '▁r', '무기', '色', '▁판정', '▁160', '▁붙잡', '툰', '공무원', '▁구조로', '▁다운로드', '▁인정하지', '▁부르고', '▁이미지를', '▁스크린', '▁구릉', '▁모방', '▁진지', '敬', '▁남한', '▁콩고', '조가', '▁설립했다', '▁신중', '벳', '▁메달', '▁나타낼', '▁외곽', '클레', '▁남인', '▁끝까지', '▁고발', '모가', '▁섬에서', '▁1898', '梁', '▁텍스트', '▁있다면', '▁생태', '▁포스트', '포드', '▁마감', '▁배틀', '▁동래', '(8', '▁탓에', '▁홍수', '▁부착', '▁하부', '권과', '설을', '기준', '▁가속', '▁곡들', '▁산다', '▁이에야스', '여자고등학교', '파르', '▁대폭', '▁노력을', '▁정부에서', '▁주장하고', '▁아버지와', '문서', '▁것보다', '▁노란색', '캠퍼스', '▁1902', '▁남극', '▁건축가', '▁연인', '▁집으로', '▁Man', '▁사거리', '줄기', '▁만났다', '▁배구', '▁MS', '▁협조', '▁1,2', '!!', '▁앨범이다', '錄', '▁본질', '▁위협을', '▁가리', '▁것들', 'ust', '▁끝나', '▁사용될', '▁번영', '렁', '▁계절', '▁NBA', '▁길고', '▁환상', '▁사다', '▁아이를', '▁않았으나', '~5', '▁아니지만', '힘', '▁날짜', '▁승강장은', '▁뛰어나', '▁누르고', '반응', '形', '▁걱정', '질을', 'LS', '▁출산', '▁엑스', 'ence', '선생', '슈타인', '▁첨가', 'PA', 'pp', '~6', '▁차지한', '▁강이', '▁속성', '분석', '▁일으키는', '▁식민', '徐', '▁각본을', '▁일본과', '▁이틀', '톱', '으로서는', '▁흔적', '『', '▁김수', '▁오타', '▁열고', '만한', '천리', '현의', 'og', '▁콘텐츠', '▁IBM', '고등', '역은', '▁조금씩', '▁지구에서', '▁기록된', '▁비슷하게', '歌', '양식', '형제', '▁쓰였다', '가쿠', '▁받았으나', 'omys', '▁둘러싸고', '▁폭스', '▁1899', '▁130', '▁퓨', '업무', '▁파생', '▁섭취', '▁황태자', '▁위장', '▁빠', '년동안', '공연', '▁입성', 'ft', '▁막아', '▁모자', '▁에스파냐', '▁콘스탄티노폴리스', '▁재능', '▁식당', '▁국가대표', '▁주제가', 'DI', '▁전압', '▁전쟁으로', '▁얻는다', '븐', '▁자율', '▁일어나자', '▁듯한', '▁평원', '老', '▁며칠', '십자', '▁시절부터', 'CD', '▁즈음', 'TC', '▁평소', '▁벌인', '▁소유하고', '章', '▁프로리그', '크의', 'AM', '▁중심의', '앵', '화에', '▁송시열', '▁부문에서', '클로', '▁농도', '▁내린', '▁신전', '관의', '▁역까지', '▁식으로', '▁기수', '▁방패', '▁자랑', '▁객체', '▁형태는', '▁세자', '▁로고', '▁만나게', '▁함유', '▁담당하고', '▁총괄', '든지', '▁사로잡', '▁언제', '였다고', '▁좌절', '▁용량', '장애', '▁십자가', '▁충주', '▁휴식', '러시아', '투표', '▁암석', '▁거행', '▁허리케인', '▁몸무게는', '카리', '▁이곳은', '▁다음이', '▁황제가', '▁일종으로', '버트', '▁피난', '▁표명', '▁인재', '▁구조는', '▁사용을', '▁마음작용', '▁꽤', '▁me', '▁명령어', '▁전도', '▁용병', '투자', '소송', '▁적의', '나갔다', '▁신비', '▁라이선스', '▁kg', '특별', '로드', '▁과학자', 'tor', '▁통근', '력과', '기독교', '어져', '▁드라이브', '▁중국과', '▁상부', '▁크라', '▁작품들', '▁꿈을', '로이드', '증을', '▁되었을', '▁그로', '▁팀에', 'sch', '행사', '▁장사', '양성', '▁속으로', '재산', '웨어', '금지', '▁위임', '位', 'ain', 'RO', '▁mm', '▁퍼시픽', '_11', '▁원고', '▁대처', '▁고민', '▁지혜', '詩', '블리', '치의', '▁파업', '▁보여주었다', '▁노인', '▁비서', '석의', '히토', '▁조치를', '위안', '▁클리', '▁생각하고', '먼트', '▁친일파', '▁일본으로', '▁저명', '▁전에는', '▁띄', '▁준우승', '결과', '▁칩', '▁늦', '하의', '▁아크', '나라의', '▁배신', '土', '▁캠페인', ')〉', '▁진리', '마스', '▁일행', '▁과정은', '았는데', '▁영남', 'del', '▁도미', '▁자신과', '▁영화배우', '▁참가하는', '▁지명을', '▁무산', '곱', '조치', '▁이반', '▁읍', '▁구동', '▁가난한', '▁스트리트', '경기를', '▁진출에', '津', '▁삼각', '▁다중', '▁박해', '▁지사', '省', '▁휴전', '▁새겨져', '▁인터뷰', '▁요구했다', '▁등이다', '▁부재', '▁먹고', '▁동명의', 'NE', '▁알라', '▁사우디아라비아', '▁디스플레이', 'AT', '스로', '그리스', '▁공사가', '▁평일', '위는', '아웃', '▁세트', '버린', '▁예언', '▁낼', '▁컬러', '▁소문', '▁응원', '▁우리의', '역학', '▁밑에서', '▁눈이', '▁정서', '▁부도', '▁변동', '▁지폐', '▁꼽', '▁방법이다', '▁발족', '▁곰', '▁포격', '▁근교', '모스', '▁부장', '▁KT', '▁시작되어', '▁캄보디아', '▁귀중한', 'ik', '▁포드', '▁아사히', '됨으로써', '▁||', '▁야생', 'iv', '소는', '▁선수이며', '▁스릴러', '▁도리', '!\"', 'po', '▁제국은', '▁노동당', '等', '▁1901', '▁꼬', '▁기요', '되었', '▁Ho', 'ace', '▁횡', '업자', '▁모양이', '야만', '▁부정적인', '▁버튼', '▁지어졌다', '▁세균', '기획', '▁정말', '▁편입되었다', '▁에티오피아', '-9', '▁우정', 'John', '▁공신', '▁조건이', '▁한성부', '▁세례', '▁바오로', '▁다양', '▁방침', '▁배를', '시부터', '▁보지', '엠', '▁문화방송', '▁공간의', '▁소총', '▁승리한', '▁백색', '▁일찍', '현대', '▁놓은', '▁마르코', '▁발생할', '▁도주', '▁강과', '권으로', '▁극히', '▁영문', '▁95', '▁책봉', '타케', '▁v', '▁선수들이', '▁일도', '▁대의원', '▁동명', '▁견제', '▁He', '스탄', '▁전념', '▁수장', '▁윌리엄스', '▁격퇴', '▁도착한', '앨범', '란드', '▁후보가', '▁거론', '인들에게', '▁서북', '▁카이사르', '▁장점', '▁독일과', '▁장갑', '▁쓰지', '▁샹', '▁성공하였다', '▁환영', '▁체계를', '자였던', '▁물에', '괄', '▁달러의', '▁주거', '▁임용', '▁밟', '▁단위로', '▁명제', '▁시즌에는', 'ran', '▁모터', '▁작곡한', '▁희극', '▁진행된', '▁총독부', '▁밝힌', '노르', '▁그룹의', '▁업적', '▁친척', '▁윌슨', '▁끼', '▁관중', '▁카운티', '▁라이브러리', '▁차관', 'ism', '▁의거', '제와', '▁옷을', '▁변경하였다', '▁안산', '돔', '▁평야', '▁스쿨', '▁샌', '▁세르', '▁팔라', '▁있는지', 'tal', '▁쏘', '秀', '▁우승에', '타나', '▁행적', '▁나눌', '▁민속', '▁향후', '▁칼라', '▁학파', '▁지나치게', '▁취재', '▁고려대학교', '▁상장', '니와', '線', '▁우라늄', 'idae', '溪', '깨', '▁Li', 'い', '▁나이지리아', '루아', '▁비유', '▁140', '▁공의회', 'ob', '▁금액', '산동', '치아', '▁치료를', '▁의뢰', 'CA', '▁곡이다', '▁오빠', '▁스케이팅', '井', '▁소속이다', '폴리', 'RS', '듬', 'sion', 'cy', '틀리', '▁중재', '▁과정에', '▁다리를', '▁1.5', '▁알렸다', '▁주행', '▁유네스코', '▁음반을', '▁급격히', '▁채권', '▁스피드', '바스', '▁나이가', '▁성균관', '▁강제로', '▁된다고', '강전', '▁하거나', '▁호조', '▁버지니아', '▁공로로', '▁추정되는', '▁1903', '력은', '▁차기', '▁용어로', '▁시기는', '▁독일인', '▁그려진', '전으로', '~3', '▁요동', '▁앙리', '스트라', '將', '계는', '▁진행된다', '▁존속', '▁성격이', '리노', '▁스크', '▁모른다', 'oss', '▁개발되었다', '▁숭배', '▁해병대', '▁스피', '▁시초', '료를', '미쓰', '▁브라우저', 'Jo', '▁블루스', '▁브루', '▁있으면서', '▁Mar', '▁뿔', 'EN', '노미야', '▁내고', '▁처분', '▁장애인', 'á', '▁대신하여', '진흥', '스카야', '▁마천루', '▁윤치호', '▁섭', '▁노래는', '▁올스타전', '히메', '▁쓰인', '▁자리잡고', '▁크리스마스', '▁활동은', '▁지정된', '▁용인', '▁거느리고', '회관', '▁맺어', '▁개혁을', '▁콤', '▁인격', '延', '▁마루', '▁센서', '▁등번호', 'MHz', '▁곡이', '파와', '▁어디', '▁일본이', '▁비판했다', '思', '▁없었기', '▁전성기', '▁장인', 'oll', '▁대포', '계가', '▁한양', '미를', '▁진출했다', '▁교수가', '▁메시', '▁승점', '문화재', '▁안보', '같', '▁실질적인', '▁부근에', '▁중심지는', '▁지정하여', '▁노부나가', '▁결정적인', '있던', '▁네이버', '대왕', '▁생각하는', '▁내려가', '▁게이지', '▁하더라도', '▁공사를', '▁소수의', 'KBS', '놓', '▁전쟁은', '▁출전하였다', '▁목표를', '▁날아', '층은', 'ase', '▁칭호를', '▁제외하면', '곡리', '▁조화', '곽', '▁보르', '▁아랍어', 'ST', '“', 'CI', '▁자손', '▁밴드의', 'min', '▁남부의', '▁탐지', '하기를', '▁스프링', '망을', '▁밝기', '▁입체', '▁부리', 'are', '▁팀인', '베르트', '▁있어서는', '▁대원', '▁신생', '▁일시적으로', '레아', '▁University', '프로그램', '▁68', '▁파장', '▁생각해', '▁것에서', '▁회계', '弘', '도어', '七', '▁뜨', '▁식별', 'ock', 'Pr', '▁각본', '▁개교', '▁요소가', '▁없애', '▁휘하', '▁PD', '▁팔레스타인', '▁형사소송법', 'ep', '▁필요성', '▁드럼', '▁공모', '펙', '右', '▁왜냐하면', '▁쌍둥이', '쿨', '▁입당', '▁윗', '가르', '언어', '▁오리콘', '보르', '흘', '▁테이블', '▁갓', '▁얀', '▁사서', '▁입단했다', '다면', '▁차종', '▁이름인', 'ius', '▁미국이', '▁밀양', '▁받았', '▁장편', '▁연구는', '▁부분적으로', '▁좋', '▁하나이며', '▁웰', '▁호환', '▁되돌아', '副', 'ko', '세르', '▁고쳐', '▁인형', '▁펴', '▁중간에', '집을', '시노', 'nowiki', '▁중기', '▁나주', 'PC', '영어', '니가', '▁나오지', '▁댐', '코는', '▁들어와', '▁결혼식', '▁위키백과', '▁엑', '▁대답', '▁공헌', '▁한국에', '▁한국전쟁', '족은', '▁사람과', '900', 'ib', '▁작센', '▁풍부', '▁잃었다', '▁거주하고', '▁cm', '▁넣고', '▁놓았다', '▁보좌', '▁상류', '▁드래곤', '▁필립', '▁최상위', '式', '▁의상', '▁패스', '▁63', '공항', '▁US', '▁제트', '▁중순', '코가', '▁별의', '▁단장', '▁어휘', '▁몸에', '책을', '렸으나', '▁참고로', 'Ma', '▁검은색', '▁몰래', '▁포켓몬', 'ED', '▁메트로', '스럽게', '▁기록하는', '륙', '▁이루', '▁충격을', '▁영국은', '▁산림', '▁윈', '▁이긴', '▁해변', '결정', '▁조리', '言', '▁개찰구', 'nd', '▁관념', '약을', '▁마리오', '▁여행을', '▁엄마', '風', 'ā', '헌법', '▁구조가', '▁블레', '카스', '▁김기', '▁총회', '▁보완', '▁양측', '전차', '派', '▁간격', '픽', '▁유니', 'GB', '▁풍경', '▁초반에', '▁독일은', '▁배후', '▁차원에서', '▁동남', '▁연관', '流', '▁나타내', '▁안나', '▁서식하는', '▁해소', '監', '▁부대를', '▁링컨', '팡', '▁군은', '▁진짜', '▁위탁', '▁섬으로', '齋', '▁정사', '▁탐사선', '▁콘크리트', '▁실패하였다', '▁경상도', '▁정무', ')』', '▁자세한', '▁바가', '이즈', '시키지', '▁추출', '▁남양', '間', '▁평정', '▁중앙위원회', '▁혹', '▁인접', '▁부과', '함은', '태수', '▁서정', '▁보살', '://', '▁과거의', '▁수습', '▁간단히', '▁왕위에', '부리', '▁관해', '▁모델은', 'int', '▁강력', '▁데뷔를', '▁승차', '▁후일', '▁온천', '▁직전에', '▁노드', '▁겪었다', '命', '▁느껴', '▁턱', '▁지내', '▁연결된', '▁냉각', '▁양키스', '▁명사', '▁이순신', '▁환경에서', '▁범인', '▁계열사', '타점', '▁도시철도', '▁이상으로', '▁펼쳤다', '▁사이가', '▁시장에서', '(10', '▁일명', 'act', '▁니콜라', '▁문화체육관광부', '▁억압', '즈카', '▁던져', '▁마약', '▁빼앗', '▁보드', '郞', '스틱', '▁힘입어', 'av', '▁자신도', '▁데뷔하였고', '▁우편', '멀', '▁Di', '▁업적을', '▁미노', '인들을', '▁멘', '▁근처에서', '론이', '▁갈라', '붙', '00,000', '▁59', '▁공적', '▁군을', '▁기생', '▁밀도', '▁모델을', '▁개막전', '론에', '▁기점으로', 'ei', '▁그랑프리', '▁알제리', '▁활동하는', '▁선보였다', '▁문인', '▁스콧', '예프', '처분', '▁바치', 'MP', '▁시호를', '▁과제', '▁슬로베니아', '문자', '▁성숙', '▁존재하며', '▁성은', '▁배치되어', '▁종으로', '▁시절에는', '험', '▁야구장', '형식', '▁후안', 'fe', '▁주위에', '놓고', '▁월드컵에', '이었다고', '주고', '▁옛날', '화의', '▁하트', '▁생각할', '▁군에', '기계', '▁활약했다', '▁분기점', '▁상태였다', '비용', '▁고립', '▁경험이', '▁설탕', '▁찾아볼', '▁둥', '질이', '▁최후의', '▁거기서', '▁실질적으로', '▁체포되어', '▁너비', '▁양상', '▁승계', '▁따르', '▁배터리', '▁여기에는', '▁1897', '(2012', '▁인접한', '▁후방', '▁CF', '▁업그레이드', '류는', '치카', '문의', '산화', '▁조선일보', '▁벌금', '되었다가', '▁고수', '▁밴드이다', '▁동력', '▁고백', 'va', '▁뛰어', '▁사이클', '햄', '▁높고', '▁기어', '▁남구', '부산', '▁다루', '▁회사를', '▁실용', '학교를', '토모', '▁공산', '▁뷰', '▁미국에서는', '▁PS', '▁혈통', '훈장', '▁블랙홀', '-0', '▁호평을', '▁신호를', '▁Su', '▁지적했다', '▁교섭', '▁헤어', '교사', '▁김경', '구와', '▁왔', '▁국가로', '▁프로그램이', '▁부족한', '뜨', '플로', '▁어원', '▁전체가', '족과', 'RT', '▁광범위한', '陳', '▁음식을', '라노', '▁이루어지고', '▁코믹스', '▁확신', '▁시스템이', '_12', '▁현금', '▁대조', '체육', '▁al', '▁지고', 'ey', '▁후궁', '▁극장판', '▁삼성전자', '▁트윈스', '▁사라졌다', '▁몬테', '▁정해진', '▁권유', '▁디아', '大夫', '▁교수는', '▁주권', '▁태양계', '▁도입되었다', '▁가요', '▁청주시', '▁문서는', '▁무렵에', '당하고', '▁핑', '▁확인되었다', '▁계획에', '▁하나님의', '▁동아일보', 'Mo', '▁국내에서', '▁이마', '▁토니', '▁매출', '▁우세', '▁광해군', '렀', '▁여름에', '변화', '개미', '지오', '▁이래로', '數', '▁아비', '▁지구와', '해주는', '▁노조', '▁버렸다', '▁북동부', '앞', '▁힘든', '▁영의정', '多', '▁총칭', '▁의회는', '▁감독과', '자르', '▁태도를', '▁장미', '아는', '▁요크', '▁아오', '▁대통령을', '▁법을', '▁중단되었다', '▁넘겨', '▁시작하였고', '▁담겨', 'ps', '샘', '▁불리게', 'SU', '보로', '▁페어', '프스키', '회로', '구간', '▁베드로', '▁사인', '▁부천', '▁기록해', '▁지속적인', '속의', '▁반해', '▁이슈', '▁직접적으로', '임에도', '用', '▁일컫는다', '▁하나였다', '문은', '▁각자', '보리', '藏', 'ö', '닉스', '▁참가하고', 'tu', '▁북서쪽', '(11', 'ire', '▁제사', '▁등장했다', '▁보여주', '▁투옥', '▁밀접한', 'IM', '▁공세', 'out', '▁대행', '▁성사', '대군', '▁장거리', '▁DC', '▁새누리당', '▁대표적', '터널', '▁와이', '▁복귀하였다', '▁비극', 'Sh', '▁발트', '▁영화에', '터리', 'gi', '▁말리', '▁참여하고', '▁질량은', '▁편리', '▁과학기술', '▁축하', '▁거리는', '▁62', '▁수용소', '▁임상', '▁행진', '▁겹', '주식회사', '리코', '이상', 'ical', 'FF', '기념', ':1', '▁셸', '▁첩', '▁프랭크', '▁국소', '사카', '팩', '▁당주', '샨', '▁연합국', '▁연상', 'RA', '▁타이거즈', '▁소설을', '▁아래에서', '▁야마토', '▁와인', '▁들어간다', '▁순회', '▁움직이', '▁관할하는', '▁메르', '▁딸을', '▁선수로서', '▁개념이', '▁드문', '▁대피', '이라도', '▁폭풍', '군수', '▁루터', '▁법무부', '▁사건이다', '학자이다', '▁발매하였다', '▁앱', '▁비가', '▁봉안', '▁운하', '▁순수한', '▁마일', '해도', '▁토성', '▁오키나와', '▁강수량은', '▁올스타', '▁170', '▁가려', '놓은', '마트', '▁커널', '치료', '▁구조물', '직에', '▁주장한', '박사', '팽', '▁프랑', '▁믿', '▁상하', '玄', '▁2,000', '▁그쳤다', '▁부분에서', '색을', '▁신규', '▁천사', '연속', '▁뜨거운', '▁난징', '▁자연스럽게', '▁지바', '져서', '▁공백', '▁조선로동당', '무장', '▁부자', '▁환원', '▁빌려', '▁우드', '지역의', '▁종래', '시게', '부르', 'way', '쉽', '▁대위', '▁최후', '렸으며', '▁행정동', '▁날에', '▁협주곡', '▁기반의', '판에', '▁부대는', '▁출전한', '턱', '▁동료들', '▁그러던', '▁정도였다', '▁아바', '口', '▁먹이를', '▁취항', '▁코트', '▁중심부', '태평양', '▁재상', '▁경우를', '▁다양하다', '왕국', '▁왕복', '▁돌리', '▁담긴', '▁카자흐스탄', '達', '▁사위', '렵', '▁관리하는', '▁그냥', '지아', '▁시베리아', '전에서는', '▁서울대', '▁무상', '▁뉴턴', '▁구출', '통제', '▁진급', '▁체코슬로바키아', '▁바티칸', '▁이후로는', '츠는', '▁승인을', '▁난다', '▁허리', '▁붙은', '▁그날', '▁적고', '▁자동으로', '▁믿고', '▁협박', '여명의', '▁제독', 'ling', '▁미군정', '▁장치를', '▁제품을', '▁오스', '패로', '대손', '▁측근', '▁그녀', '▁독립된', '보스', '▁이어진다', '皇', '▁사리', '▁고르', '▁보일', '작은', 'mon', 'ial', '▁관리자', '미니', '▁포병', '▁세이부', '▁펼치', '▁외야수', 'CO', '▁수령', '전의', '▁지식을', '면적', '▁소유자', '▁첨', '▁실패로', '▁결코', '▁제사를', '▁실체', '▁일가', 'NS', '제이', '루수', '▁계속되었다', '▁나눠', '▁비문', '▁st', '▁구축함', '▁공직', '▁블로그', '▁생산하는', '▁이용한다', '▁글로', 'yn', '▁칭찬', '許', '▁승부차기', '▁구간을', '▁말씀', '▁고치', '▁급제하여', '브스', '▁프랑수아', '▁준비를', '▁적분', '▁굉장히', '▁가마쿠라', '▁연방의', '▁차이점', '▁무효', '다운', '▁대웅전', 'II', '▁부시', '▁소속된', '꼬', '▁진공', '▁경성부', '任', '▁포지션', '▁이글스', '▁사망하고', '▁문과에', '▁겉', '(2009', '▁통틀어', '▁얻지', '▁축출', '방을', '프가', '▁비로소', '▁유래한', '▁공습', 'Ro', '▁축적', '소의', '▁정렬', '▁자사', '빵', '▁아미', 'col', '목으로', '▁세계관', '▁의미의', '▁죽였다', '▁아마도', 'SP', '▁스튜어트', '▁이름에서', '▁것으로서', '미야', '▁게이트', '▁수술을', '▁기업인', '▁근원', '메르', '▁강남', '기에는', '짱', '▁개발에', '▁나쁜', '함으로', '▁피신', '▁수렴', '▁시가지', '▁소통', '▁승격되었다', '▁제압', '엉', '▁con', '▁토착종', '▁경기에서는', '포르', '▁신용', '해방', '▁직결', '▁경우에도', '▁종류가', 'л', '▁재현', '▁아열대', '▁트위터', '▁최저', 'nc', '▁넣은', '▁돼지', '눌', '교도', '▁결성된', '▁묘역', '▁단식', '실을', '▁자체는', '▁장려', '노선', '▁총애', '율이', '채널', '▁원산', '력으로', '▁조직의', '▁다룬다', '받지', '甲', '▁개미', '미아', '▁(2', '가수', '▁비정', '對', '▁감정을', 'ja', '▁사이버', '▁회사이다', '병으로', '겼', '신경', '▁않으나', '편으로', '▁AS', '▁61', '잡이', '▁내정', '▁만났', '▁물러났다', '▁부모님', '▁주어진다', '▁모델이', '▁III', '▁말기의', '킨스', '▁Ca', '▁인체', '▁최대한', '▁따른다', '세종', '▁대상을', '▁카를로', '▁99', '▁하워드', '▁논문을', '▁상임', '▁사회에서', '▁극단', '티나', '▁운명', '▁몰리', 'RC', 'rea', '》(\"', '식과', '▁머신', '反', 'μ', '▁규모로', '▁세상에', '리언', '▁방송사', '▁율', '▁이영', '▁칭호', '▁대학을', '차량', '▁흔', '▁존재했던', '▁영상을', '▁기능은', '▁증대', '▁비용을', '석으로', '▁선수를', '▁직위', '물리학', '朝鮮', '▁횟수', '▁않았다고', '마일', '▁85', '방위', '▁무기를', '▁경상남도의', '▁재혼', '▁춘천', '▁모르는', '몸', '▁수면', '▁미상', '▁삿포로', '바다', '▁유죄', '지리', '▁방송되었다', '▁맵', 'FL', '鳳', '▁중반에', '▁별명을', '▁나가사키', '내에서', '▁유수', '節', '아스', '대륙', '▁루트', '▁튜', '▁화장실', '▁장관을', '쾌', '▁오프닝', '▁고령', '▁뚫', '▁달성했다', '▁선언하였다', '▁가짜', '志', '▁오노', '▁자유형', '▁유아', '▁의식을', '▁대한민국에', '(2014', '▁자체를', '▁헐', '더니', '錫', '길이', '받을', '쿠마', '▁지휘하는', 'UN', '▁잊', '내고', '천여', '▁가깝다', '▁불교의', '▁It', '▁치즈', '▁프랑크푸르트', '▁가지며', '▁이식', '상으로는', '복지', '▁해명', '▁오오', 'ev', '▁연봉', '▁응우옌', '亭', '楊', '▁개발자', '▁전지', '▁물리학자', '▁얻', '▁리그에', '_13', '▁타원', '고려', '경기장', '▁추측된다', '미는', '▁결정되었다', '▁스핀', '▁자아', '▁누군가', '크리', '▁폐기', '▁1884', '▁금메달', '믹', '잇', '▁리스트', 'yl', '濟', '▁키프로스', '▁컬럼비아', '테크', '▁즉각', 'dy', '▁특징으로', '▁바이오', '▁루시', '▁모로코', '▁대학에', '▁회사가', '▁네오', '▁시설을', '각형', '임이', '해온', '춤', '▁외모', '▁연기를', '▁속하며', '▁화해', '▁프레임', '▁참여하는', '▁배수', '희는', '집행', '▁가신', '안은', '▁센다이', '청은', '▁고사', '▁푸른', '▁있었을', '▁서식', '▁법무', '▁바퀴', '▁돌격', '▁오프', '▁학자들은', '토프', '▁위치하는', '▁연기자', '▁동형', '▁명종', '▁것인데', '▁팽', '▁근본', '▁황실', '▁불을', '못', '판매', '▁유사하다', '지에서', 'ook', '▁신조', '▁컨셉', '▁산하에', '포로', '▁목재', '모어', '됐', '▁광둥', '라르', '▁관직을', '▁세월', '▁만나는', '▁구미', '▁연산자', '▁없어서', '▁사고가', '▁판본', '▁인가', '사실', '회장', '▁연세대학교', '현은', '리즘', '띠', '▁열정', '▁배우로', '▁잔류', '았지만', '▁어업', '▁장례', '▁스타리그', '▁어워드', '▁수도인', '특히', '▁가죽', '沈', '▁긍정적인', '▁당일', '▁나누', '▁내용으로', '▁경찰은', '▁작아', '▁왜곡', '▁조종사', '▁북서부', '대구', '▁톤', '▁막내', '▁포스', '▁살해당', '원에서', '라니', '▁양반', 'za', '▁남동쪽', '왔으며', '▁책임자', '전문학교', '번을', '▁숙청', '▁360', '▁언니', '▁둘러', '소에서', '민의', '▁2.0', '▁스티브', '▁만남', '하임', 'ny', 'í', '▁산란', '▁이루어지는', '▁살아남', '▁중성자', '▁시범', '▁저하', '▁역의', '▁준우승을', '▁아레나', '▁상점', '▁오해', '▁연고지로', '▁사회학', '▁적합한', 'NO', 'ever', 'den', '▁해상에서', '▁옵션', '들인', '▁포장', '▁동상', '▁인정하고', '▁치안', '주의의', 'TE', '릭스', 'ning', '▁비율', '▁풍자', '▁98', '▁탐험', '常', '▁국가에', '館', '▁어려워', '▁띠고', '▁Sa', '▁그룹이다', '▁대회의', '▁일대에', 'oo', '靈', '▁벨라루스', 'LE', '갔으며', '▁아예', '라크', '▁사회에', '▁용어를', '▁사용되지', '빌딩', '▁혼동', '▁키스', '▁러시아어', '▁초과', 'ous', '▁느낌을', '▁다니엘', '해지는', '▁참모', '▁가장자리', '▁For', '▁10%', '▁물질을', '▁유방', '▁모용', '▁라이온즈', '플리', '▁밀집', '▁적극적인', '▁만세', '▁착공', '▁할머니', '린은', '▁과목', '워스', '▁답변', '▁김현', '▁설명한다', '▁도시가', '▁최근의', '▁충남', '▁간접', '레이트', '▁카스', '▁규모는', 'PL', '루타', 'net', '▁이윤', '▁않는다고', '▁싱글로', '▁교단', '▁라이언', '▁황족', '▁이유를', '터스', '▁66', '▁천장', '▁존재하고', '▁가동', '미나', '(2008', '▁적다', '아라', '▁오라', '▁옹립', '▁욕', '▁우측', '▁해전', '상황', '실에서', '▁공익', '▁유래했다', '▁매입', '▁탑신', '▁풍속', 'ric', '히라', '만여', '▁만주국', '阿', '곡동', '▁복장', '▁be', '센트', '▁낸다', '▁벼', '▁학교에', '설이', '▁기업이다', '▁베어스', '▁카를로스', '▁전인', '▁채워', '▁결정된다', '▁대한민국과', '▁팀들', 'han', '층이', '▁닐', '▁패키지', '▁않음', '뷔', '▁그다지', '▁후임으로', '▁촉구', '▁총대주교', '▁청산', '▁공간이', '발을', 'ye', '▁딸인', '▁결과에', '망이', '▁조용', '론과', '▁분비', 'TP', '▁빛이', '네르', '▁시장에', '御', '進', '펑', '사지', '▁여당', '▁일생', '▁성취', 'BO', '▁분명히', '단과', '▁움직임을', '▁싱', '▁주도로', '▁동물의', '▁자금을', '▁기리기', '▁일시', '▁역임하고', '▁주사', '▁김창', '▁돼', '▁국내외', '▁용도', '▁고분', '▁고소', '▁요청을', '▁고체', '▁아직까지', '統', '▁유래된', '▁폭행', '▁탐구', '▁띤다', '▁험', '▁수상한', '▁보니', '▁장군이', '▁많으며', '▁낮아', '▁서민', '▁구할', '재판소', '▁팀으로', '▁관광객', '학과를', '▁통증', 'ness', '▁유소년', 'т', '▁담아', '▁껍질', '서로', '▁평균자책점', '꼴', '▁자격으로', '크라', '▁신설되었다', '예를', '비에', '▁색을', '▁왕은', '▁재선', '▁과거에는', 'que', '▁미션', ':0', '▁세속', '▁아니라고', '현이', '그램', '헤드', '▁승강장이', '▁측의', '미스', '소방서', 'Con', '▁구분된다', '▁밀란', '▁창업', '▁응시', '등으로', 'Ar', '▁전자기', '▁쏟아', '팝', '▁방식이다', '생명', '▁오고', '콕', '▁의회의', '頭', '딜', '▁알바', '▁부분으로', '안이', '▁엔딩', '▁심의', '니크', '▁철회', '▁애칭', '▁중에서는', '미치', '▁최악의', '싸', '▁우승한', '▁헤르', '키는', '▁엄격한', '명이었다', '▁쇼와', '▁비단', '▁적대', '궤도', '▁유동', '▁모친', '▁감행', '▁고장', '▁가져왔다', '▁상소', '▁대표이사', '영국', '▁정한', '통합', '▁호출', '▁설명했다', '(2007', '▁함으로써', '▁NC', '▁런던에서', '▁퀴', '▁기갑', '▁하락', '▁아야', '▁아이스', '로우', '▁적지', '▁연수', '?)', '▁조달', '▁날씨', '▁개종', '▁탤런트', '▁속도는', '▁버전이', '▁우라', '륨', '▁옳', '▁도카이', '▁베니', '▁이성계', '▁휴스턴', '▁지냈고', '▁암시', '▁훈장', '▁la', '禪', '▁페이스', '▁표방', '▁물의', '건축', '옌', '▁정교', '▁뒷면', '세기부터', '▁학업', '률이', '▁앤드', '▁신념', '▁따온', '▁강남구', '재를', '▁적혀', '印', '▁킨', '빌리', '▁바깥쪽', '▁뇌물', '개월간', '▁비평', '▁가축', '▁극동', '▁경신', '▁정전', '▁피로', '▁클레', 'ney', 'tur', 'ü', '▁딸로', '▁반지름', '사전', '▁향하는', '▁표면에', '▁용산', '▁맥주', '▁드물게', '시리즈', '▁캐시', '佐', '▁설치한', '▁쓰여', '례를', '▁도루', '▁진행되고', '▁회수', '즈가', 'ID', '▁플래시', '▁외의', '▁사용자들', '장이다', '▁몬스터', '▁앨범의', '▁별들', '▁우유', '▁진출을', '▁쓰촨', '▁소모', '▁결함', '▁흐르', '자본', '위원회는', '▁장면을', '▁머무르', '▁pro', '▁불리고', '▁노동조합', '▁라오스', '▁게스트', '▁케네디', '▁결혼하였다', '▁아제르바이잔', '법칙', '▁하단', '▁비전', '▁종은', '▁던지', '▁꼭짓점', '▁키우', '▁오렌지', '관찰사', '티브', '▁제안을', '▁친선', '캡', '▁신도', '▁빌라', '▁나올', '▁선정한', '국에', '▁접하며', '▁광물', '▁대승', '▁빨간색', '하마', '▁누르', '▁설도', '識', '▁후보를', '▁필수', '▁신학교', '伯', '▁로열', '▁복소수', '툴', '▁3·1', '타가', '▁침투', '▁상상', '▁의원들', '▁내부에서', '항은', '▁마음이', '▁마찬가지', '▁살리', '▁상해', '▁지부', '」(', '▁연소', '▁CJ', 'Pa', '▁블라디미르', '▁데스', '▁마을의', '▁중독', '▁달한다', '것이', '▁대통령에', '박스', '▁다음에', 'GA', '베스', '기기', '▁추세', '▁비판이', '땅', '니오', '▁형성한다', '랩', '▁먼지', '▁2-1', '-21', '▁밝히고', '▁원인은', '▁기록했고', '▁벌어졌다', '방울', 'az', '.<', '▁구절', '▁알코올', '▁어른', '▁죽인', '▁꽃은', '▁핵무기', '▁상표', '▁대치', '▁자유로운', '▁에리', '▁갱신', '▁탐색', '관광', '出', '▁시즌이', '▁에콰도르', '팍', '朱', '▁확실히', '▁바탕', '▁컬', '▁부피', '▁것인가', '바흐', '場', '▁등용', '▁시종', '▁베어', '▁리만', '아가', '▁북부의', '▁당의', '▁예하', '▁발견하였다', '▁드라이버', '척의', '궐', '▁차량이', '▁이복', '할때', '▁넘기', '▁축조', '▁마그', '▁북동쪽', '▁체류', '▁주가', '▁1860', '務', '사업을', '웠', '▁용도로', '하르트', '~18', '▁운동은', '▁하라', '▁횡단', '가며', '갔', '▁타이베이', '▁생략', '▁변화에', '▁만족시키는', '▁서열', '▁것임을', '▁옐', '절차', '▁본인의', '▁성체', '▁이끈', '쯔', '▁연예인', 'ru', '▁반도체', '▁컴백', '▁해역', '영이', 'SE', '▁50%', '▁천문', '각을', '▁오비', '평군', 'He', '▁음료', '▁이경', '▁북쪽의', '여자중학교', '▁카프', 'DE', '▁김정일', '▁오사카부', '율을', '▁관련한', '▁노태우', '▁본거지', '산초등학교', '▁주민들이', '▁시켜', '명령', '층으로', '아들', '▁위쪽', '▁대거', '▁76', '숙종', '▁넣는', '▁당원', '_15', '롭게', '▁넓게', '렇', '도리', '▁초신성', '▁1880', '▁무료로', '▁안에는', '≫', '▁짙은', '▁지주', '▁무늬', '▁스파', '▁연결된다', '▁장군의', '▁점성술', '▁지나면서', '류가', '색으로', '▁평가된다', '▁한미', '빗', '▁거인', '졌', '▁폭로', '▁획득한', '▁폭동', '▁시드', 'AF', '▁취하고', '▁기초로', '▁동치', '界', '郎', '산이', '▁대성', '▁모두가', '▁생겨', '신은', '▁저주', '▁대두', '碑', '리게', '흡', '고자', '▁소매', '▁폼', '▁타구', '흑', 'ug', '▁이루며', '▁실망', '團', '▁School', '▁제네바', '▁그렇지만', '▁준주', '▁테이프', '▁하프', '▁부설', 'EL', '▁우승자', '▁아버지를', '▁\"\"', 'ν', '▁기존에', '▁거울', '▁있기도', '▁자전', '▁위험한', '▁보석', '▁냉전', '나미', '▁Mon', '▁차이는', '▁누나', '▁아홉', 'ys', '▁전통을', '▁밴드는', '전시', '브르', '▁아돌프', '▁토양', '▁머물렀다', '▁스코', '▁연도', '▁미소', '▁무라', '▁잡았다', '▁만화가', '▁터치', '츄', '▁홍문관', '▁보유한', '치오', '▁팜', '경은', '▁개발이', '▁원반', '▁밖에도', '심이', '▁오지', '▁남기고', '어진', '▁적어', '▁알려지게', '▁곤란', '크가', '▁출시한', '▁태양을', '목을', '▁기적', '▁용인시', '▁일관', '▁매니저', '▁평범한', '▁표기법', '▁대통령으로', '▁사회를', '▁피하기', '▁단행', '▁두개골', '▁미하일', '▁상원의원', '▁고래', '▁전속', '▁바뀌', '▁주장은', '▁단계에서', '▁수련', '냈고', '▁안토니오', '烈', '▁도입하였다', '校', '▁성문', '▁황제로', '▁누리', '강에서', '▁형태이다', '熙', '▁챌린지', 'Bo', '(2005', '▁기아', '▁쾌속', '▁부채', '만화', '▁Mi', '▁군정', '었다고', '흠', '▁투르크', '▁말하면', '루가', '▁에디', '▁팀에서', '▁닦', '▁월요일', '▁후임', '▁개관', '▁어항', '▁떨어지는', '▁단층', '▁슈팅', '아마', '판의', '지금의', '▁제곱', '▁지능', '▁동위', '▁매력', '연합회', '▁도요토미', '▁최강', '니우스', '▁그리스도의', '리온', '▁군대에', '▁탱크', '▁봉쇄', '▁질문', '▁버전의', '▁대변', '렸는데', '▁프톨레마이오스', '것을', '▁부유한', '▁기다리', '▁대가', '▁동년', '▁환경을', '▁법정동', '愛', '▁위나라', '▁1871', '▁멜로디', '▁다운', '화되었다', 'sen', '▁이론의', 'TF', '▁싱어송라이터', '있었다', '넥', '▁흥선대원군', '▁존재가', '▁불어', '▁줄무늬', '▁그들에게', '▁알려져있다', '▁북한군', '▁옌', '▁표현을', '위와', '▁나비', 'if', '▁해당된다', '▁공리', 'bu', '▁트로이', '▁게임에서', '▁진행하고', '▁디자인을', '바나', '▁건축물이다', '▁생식', '계로', '지부', '▁석탑', '▁즉위한', '너는', '▁난민', '▁대학교에', '▁...', '▁남기', '▁되지만', '굿', '▁코드를', '▁희곡', '지기도', '지점', '▁메시지를', '▁차량은', '▁호랑이', '▁주민들은', '▁남원', '▁수학적', '▁이유가', '소로', '▁체중', '▁시골', '▁네팔', '▁삼촌', '강의', '깃', '▁재능을', '▁스스로를', '▁굿', '▁충성', '▁거주지', '▁방사선', '▁초연', '차트', '▁필리프', '▁정의한다', '장사', '터는', '▁가벼운', '오가', '▁협상을', 'eg', '▁끓', '▁관람', '▁된다는', '▁고시', '豊', '▁금요일', '▁Ha', '▁선을', '년대까지', '▁뒷받침', '▁대패', '▁이루어지지', '▁개념으로', '공이', '▁역사적인', '▁잡혀', '▁고양시', '▁어머니가', '▁마음에', '▁요구를', 'ι', '물은', '▁전체적인', '▁조인', '▁동학', '▁동문', '이하', '▁남서부', '~2', '▁남서쪽', '姜', '工', '국인', '▁기각', '▁만일', '▁반격', '▁도와주', 'MB', '▁먹을', '▁이때부터', '수단', '▁101', '▁묶어', '▁햄', '▁이진', '프의', '사르', '▁주오', '▁96', '▁한국방송공사', '▁모서리', '▁철도가', '▁안티', '▁건담', '▁시선', '키타', 'DP', '▁증진', '▁장례식', '▁동일하다', '▁기사를', '▁쳐들어', '▁깃', '▁동사', '▁광학', '▁무소속', '▁일이다', '▁전체에', '▁더이상', '▁사망하자', '▁가군', '▁시위대', '▁이집트의', '▁딘', '_14', '▁지방을', '▁좌측', '▁전반에', '▁준수', '▁품종', '▁바실리', '▁본사를', '났', '▁그루', '車', '시카', '▁다항식', '▁몸이', '▁섬이다', '▁학계', '▁작품에서', '툼', '카쓰', '▁아시안컵', '▁딜', '~4', '술을', '關', '▁가을에', '쿠니', '공동', '것으로', '▁문서를', '▁일대를', '▁레닌', '▁깃발', '▁왕권', '▁스트레스', '▁Sp', '마크', '주택', '▁미키', '▁별칭', '▁드래프트에서', '▁릴리', '將軍', '▁기초를', '造', '▁북서쪽으로', '적이지', '해군', '▁자이', '▁유진', '냉', '▁싶은', '▁중복', '사이트', '▁77', '-11', '▁로그', '▁사헌부', '▁문구', '▁사카이', '▁비틀즈', '▁통보', '친다', '▁처음부터', '▁즐겨', '시키며', '▁넓', '▁그레', 'lic', '편이', '▁받침', 'OL', '▁지리', '▁희생자', '스트리', '▁아카데미상', 'tro', '▁취약', '▁스마트', 'CS', '편에', 'line', '▁설명하는', '▁고개', '▁효종', '▁결혼하여', 'cal', '질서', '▁적자', '▁데모', '▁한층', '▁카리브', 'ans', '▁IS', '▁기저', '시나', '▁지키는', '▁광저우', '현을', '파일', '질량', '▁1800', '▁부분의', '▁단축', '▁매달', '▁시체', '▁보호를', '실점', '사나', '▁서자', '및', '공파', '끔', '▁경계로', '▁분명', '▁기증', '▁우주의', '▁쌓은', '▁신축', '▁무어', '判', '마력', '▁뚜렷한', '▁손으로', '▁추증', 'ax', '엇', '▁아버지인', '▁이남', '▁마블', '▁조약에', '▁등극', '▁않았', 'Me', '▁삼국시대', '▁공격에', '▁워터', '▁종의', 'LA', '草', '榮', '▁데이비스', '▁카우', '▁고고학', '▁정신을', '▁크리스티안', '▁패널', '▁조언', '▁파란색', '▁후속작', '▁텔레', '▁과정이', '▁신하', '▁알루미늄', '現', '勝', '졌던', '점의', '초의', 'pl', '▁가라', 'Don', '▁함선', 'sta', '▁부회장', '▁살려', '▁교원', '▁상법', '▁경찰서', '▁것들이', '▁3,000', '▁서유럽', '▁복음', '▁바뀌어', '器', '보도', '▁되어있다', '푸르', '▁행사를', '▁전력을', '▁색채', '▁과도', '리로', 'hy', '▁물어', '▁팀과', '중대', '▁선출된', '▁사살', '▁땄다', '▁퀘벡', '▁아폴로', '▁선배', '▁설립되었으며', '▁시대부터', '▁봉건', '▁만료', '▁제도가', 'ise', 'Br', '▁일어났', '슈퍼', '여개', '▁오이', '▁질서', '▁건설되었다', '관과', '▁관리를', '스피', '▁충청도', '▁가지가', '▁값이', '▁Bu', 'ere', '만장', '타를', '▁읽는', '부원군', '▁회의를', '▁외관', '▁짓는', '▁매개', '▁진도', '▁뒤쪽', '▁취임하였다', '▁방문한', '▁전문가들', '▁유지하는', '▁붙여진', '획', '▁받았지만', '▁시위를', '▁패한', '통을', '▁나가는', '▁나뉘', '▁영동', '▁높게', '▁레바논', '▁헤비', '▁이론에', '▁출토', '▁올랐고', '▁1889', '▁거처', '▁문제의', '▁퇴임', '▁손권', '▁막는', '▁매카트니', '▁북극', '▁화제', '▁방안', '▁부를', 'ple', '▁실패한', '▁하차', '시대의', '橋', '▁간토', 'Li', '령으로', '▁걸리', '▁단절', '▁비율이', 'AD', '니의', '植', '▁인민군', '▁필터', '▁Car', '▁차이로', '▁병으로', '▁백제의', '권에서', '▁이를테면', '▁파일을', '▁교통국', '▁소속팀', '▁스틸', '▁1-0', '▁표현하는', '▁타격을', '▁독립적인', 'su', '혹은', '▁음악적', '▁성우이다', '▁공용어', '지역에', '▁회장을', '▁노르웨이의', '▁서신', '▁드라', '▁꺼', '▁끊임없이', '헝가리', '▁Br', '뜨리', '▁케빈', '▁견해를', '▁Go', '▁박스', '意', '▁퇴역', '商', '▁볼리비아', '▁발칸', '▁몫', '▁파라과이', '▁헌법재판소', '▁직면', '▁프란츠', '▁시기를', '▁고구려의', '▁비밀리에', '▁무대를', '위성', '해양', '▁임관', '▁술을', '▁확', '▁별은', '▁사르', '했는지', '▁장기간', '▁올리고', 'rand', '▁갈등을', '바리', '▁공부를', '▁성남시', '▁섬은', '층을', '▁경찰에', '되나', '▁학자들', '鐵', '解', '▁동성애자', '▁연구원', '▁특집', '▁역학', '▁환경에', '주의는', '▁문자를', '군에게', '무대', '▁임명된', '▁위치는', '▁소프트', '湖', '夏', '▁연극배우', '▁세션', '▁래퍼', '스틴', '리얼', '토미', '▁충전', '▁머리에', '▁싸워', '▁언급한', '내용', '▁시장을', '▁완벽한', '▁이룬', '경에', '▁안드레', '▁달이', '고도', '▁패배를', 'ara', '끄', '▁유학을', '▁생산량', '보병사단', '▁것만', '▁북동쪽으로', '▁한국시리즈', '토가', '▁67', '▁케냐', '▁살았던', '▁결정하였다', '▁두께', '▁뽑아', '▁가능성', '▁불과하다', '▁업계', '▁존재할', '▁예술가', '강을', '▁결선', '▁룩셈부르크', '▁투표를', '▁효력', '▁종속', '▁동정', '▁전적', '왕을', 'My', '▁전략적', '대회에서', 'arch', '。', '▁조세', '푸아', '민은', '▁대가로', '▁그레고리오', '▁비롯', '氣', '▁바르샤바', '▁성도', '▁목표는', '▁오른손', '▁흔한', '▁담당했다', '뱅', 'able', '편을', '▁램', '▁≪', '어도', 'Mar', '우지', '▁영천', '▁승자', '▁아무도', '▁기록으로', '총회', '▁취업', '▁창고', '▁질량이', '▁물자', '▁이야기는', '(2001', '▁방사성', '▁수색', '▁하야', '산에', '였을', '케라톱스', '산으로', '▁본관', '한테', '▁대변인', '~8', '▁객관적', '▁평안북도', 'IT', '▁올라간다', '▁국제적인', '▁1870', '▁원로원', '과학기술', '▁통용', '▁플라스틱', '▁출신인', '전과', '▁한성', '히트', '▁극한', '▁계획이다', '곡으로', '▁누가', '▁그후', '▁타인', '▁재무', '▁리틀', '▁단어는', '▁이병', '▁파산', '▁제치고', '▁품고', 'ET', '▁바리', '▁들어갈', '▁수단으로', '▁예배', '펠트', '▁인터내셔널', '▁열린다', '모든', '▁교정', '▁산출', '▁프로게이머', 'day', '▁로이', '▁벌어', '▁가져온', '▁이어진', 'ä', '▁그밖에', '▁중도', '▁DS', '▁청동', '▁성명', '▁사람도', '▁나열', '이게', '▁맞붙', '▁비석', '소득', '올라', '▁키보드', '판으로', '▁자선', '▁정계', '모로', '▁여성이', '네이션', '참모', '▁각색', '관련', '▁압력을', 'Be', '▁엔진은', '▁관장', 'low', '없', '▁방면으로', '▁前', 'Th', '▁다녔다', '주의와', '▁드러났다', '▁발견되지', 'car', '▁성운', '삼국사기', '정사', '▁잡은', '▁운행한다', '▁취미', '▁윤리', '▁Lo', '여행', '악기', '정책을', '▁얼굴을', '▁투르', '▁발언을', '▁근무했다', '▁그것들', '▁프로젝트를', '▁뒤이어', '▁1885', '▁센고쿠', '▁동성애', '▁아담', '▁프라하', '▁20%', 'LI', '가족', '▁물질의', '▁번성', '▁동아', '▁뒤에도', '둑', '▁전형', '▁연고지', '遠', '晉', '▁최대풍속', '▁평안남도', '▁새겨진', '▁아일랜드의', '(2015', '라우', '▁목소리를', '▁원본', '▁모시', '▁인물을', '▁독서', '墓', '▁남동생', '▁흔들', '▁축성', '▁초나라', '▁구도', '▁짐작', '~7', '포켓몬스터', '▁요코', '론에서', '▁중앙부', '▁자료가', '▁저기압', '▁with', '▁5,000', '주에서', '▁주장하며', '▁본문', '퐁', '원군', '儀', '▁영향이', 'vo', '초를', '▁워크', '운수', '▁김병', '청년', '▁입원', '▁리베', '▁차량을', '▁해마다', '▁아케이드', '▁자신들이', '▁다케다', '▁가열', '선교', '▁선생의', 'ail', '▁프라이', '▁레온', '왔는데', '▁안치', '북면', '▁헬륨', '▁아래는', '시켰으며', '▁확실', '니어', '▁예선에서', '교육을', '텀', '라트', '▁2.5', '▁거북', '▁스즈키', '▁무성', '▁오피스', '영역', '▁했을', '▁유닉스', '▁워드', '시에는', '▁나란히', '▁그러다가', '자들과', '▁방화', '▁교과서', '▁Sch', '▁보인', '태양', '▁낳은', '스트로', '▁개화', '잡지', '▁때에도', '益', '당과', 'air', '순환', '▁소송을', '▁더욱이', '▁아래쪽', '▁언어의', '▁구멍', '여명', '사무', '티노', '▁일부분', '경이', '▁새겨', '▁버리', '역에', '▁미즈', '▁보게', '▁지질', '▁확실한', '▁각지에서', '훼', '▁분출', '▁숙부', '▁남미', '▁남작', '▁레일', '▁수성', '▁상자', '▁So', '▁결정한다', '▁벽돌', '▁KIA', '비와', '▁쫓아', '▁제목의', '▁안으로', '트레', '드레', '▁조정에', '加', '▁생겨나', '侍', '▁이탈리아에서', '▁역에', '▁천재', '▁쓰시마', '▁산하의', '▁발급', '▁미라', '▁기술은', '祭', '▁윤보선', '붕', '▁고려의', '▁그릇', '▁온도가', '▁여주', '▁학문을', '▁역사에', '▁주주', '▁부근에서', '▁어뢰', '터가', 'к', '▁갈수록', '플러', '▁결정하는', '그는', '▁MP', '▁요정', '▁하남', '▁평가했다', '터를', '▁피고인', '▁유연', '▁원천', '▁여성들', '▁사카', '▁나머지는', '목적', '▁해결하기', '▁마하', '▁고유의', '魏', '竹', '▁동생인', '▁기금', '▁시중', '▁곁', '▁괴물', '▁맡기', '▁다니는', '유지', '▁호응', '▁도입된', '▁콜로라도', '▁달걀', '▁관직에', '▁레이스', '▁북아프리카', '▁독일이', 'ood', '▁유체', '▁택시', '▁휴대', '▁욕구', '로그', '▁분수', '입자', '▁베리', '▁에버', '▁Cr', '비오', '▁공민왕', '▁곳의', '▁노트', '▁우르', '▁조별리그', '▁일반적', '▁선과', '▁추산', '율은', '▁기차', '곡이', '승지', '즈미', '▁진출한', '▁박탈', '▁카트', '우의', 'EP', '▁팔리', '라와', '▁구호', '▁손님', '~10', '▁복음서', '▁경기장이다', '▁그곳에', '▁수원시', '▁프로그램에', '▁■', '▁출신이며', '보가', '공의', '▁대표적으로', '▁EC', '▁히어로즈', 'uk', '▁프로덕션', '起', '▁킬로미터', '▁이관', '▁딱', '▁해를', '千', '▁그렸다', '▁연고', '라드', '기둥', 'Cl', '▁비치', '▁일으킬', '▁케임브리지', '▁증후군', '교구', '▁유대교', '▁설치하고', '소녀', '▁시정', '▁요소들', 'tri', '분자', '고등보통학교', 'ino', '▁설치하여', '▁사상자', '▁동행', '질환', '▁전역에서', '줬다', '▁발을', '▁미쳤다', '▁주역', '리티', '▁대신해', '(2004', '▁비율은', 'EM', '▁갖지', '▁제나라', '▁보편', '아래', '부리그', '▁투수로', '▁옮긴', '▁비공식', '티는', '씨를', '▁전당', '▁인자', '▁트리플', '▁잘라', '▁수확', '▁시공', '▁과장', 'vel', '▁천문대', '렴', '▁와카', '▁보헤미아', '▁정리한', '▁꽃이', '▁남동쪽으로', '▁86', '▁입주', '▁73', '▁니콜라이', '▁점령한', '▁왕국을', '▁가져오', '인권', '▁물려', '되므로', '포인트', '▁중요성', '▁청색', '▁군인들', '▁보호하기', '▁대응하는', '시타', '▁알지', '문학상', '값을', '▁한족', '▁동참', '▁지선', 'Se', '▁측에', '▁요원', '▁차지하며', '소에', '親', '▁다양성', '천면', '티드', '▁궁중', '씨와', '세기까지', '류와', '▁경연', '▁방법에', '▁도덕적', '▁전역에', 'val', '領', '▁이조판서', '▁아이디얼', '▁프로그램으로', '▁감안', '▁상행', '(2016', '▁붙었다', '수준', '▁Pe', '▁불꽃', '▁동조', '▁의미는', '▁에미', '전략', '수학', '▁낮다', '▁고쿠', '▁딸이다', '사기', 'ith', '▁수료', '▁di', '축제', '▁신원', '▁체력', '▁외국어', '▁무너지', '▁후작', '▁채소', '▁구형', '▁붙였다', '▁위키', '위원회가', '▁is', '▁다발', '▁진사', 'ero', '▁제국을', '▁의미하며', '▁공감', '▁신정', '▁초월', '소와', 'BL', '伊', 'ا', '인물', '▁당연히', '▁프레스', '▁힌두교', '▁구와', '▁의결', '▁고등학교를', '뚝', '▁진행되는', '▁순조', '▁알렉산드리아', '▁박헌영', '냈', '▁하마', '▁각도', '자형', '▁주위를', '노동자', '▁중위', '끈', '▁자작', '귤', '▁학회', '▁레슬링', '작곡', '▁69', '▁실재', '세손', '호선과', '▁특색', '▁시상', '▁실시하고', '▁나아', '▁분량', '▁헌신', '시대에', '언론', '해졌고', 'ham', '▁세기', '▁기병대', '▁기술의', '▁박영', '▁후반기', '▁실권', '▁개발하고', '▁All', '▁작업에', '켜', '▁떨어졌다', '▁시뮬레이션', '▁다이아몬드', 'ash', '▁세워져', '▁피해가', 'ink', '▁민족의', '▁선발로', '▁할리우드', '마타', '▁마을에', '▁보리', '▁목을', '▁중앙아시아', '▁불가능한', 'ini', '아트', '▁제국과', '▁매치', '▁돌입', '▁같은해', '▁함부르크', '▁펑', '▁계기', '▁일파', '이든', '▁아인슈타인', '▁가네', '▁맞고', '학사', '곰', '▁교양', '▁물품', '스테르', '▁매매', '異', '▁함정', '케르', 'wa', '시경', '자기', 'mar', '▁어머니의', '_16', '▁시립', '엔진', '▁울리', '▁짝', '▁시리즈를', 'bl', '▁직경', '▁위헌', '▁고통을', '▁우승팀', '오고', '▁공격해', '▁군함', '▁아라비아', '▁단행본', '▁개념이다', '▁어미', '▁한스', '▁섞', '체인', '▁물건을', '족을', '▁생긴다', '遺', '건물', '▁아스널', '▁덮여', '▁왕건', '▁규범', '▁앨범에', '▁관광지', '▁무죄', '▁사용하면', '力', '궈', '▁소식', 'aw', '▁기고', '▁천수', '개소', '▁연결되는', '▁주축', '회전', '▁붉은색', '다람쥐', '▁서문', '▁발원', 'ρ', '▁남동부', 'ology', 'nes', '기자', '▁게임으로', '▁타원형', '▁소생', '▁제조업', '▁하구', '▁안의', '▁약자', '▁크리스토퍼', '▁파이널', '▁대도시', '▁생물학', '체스터', '▁시작하였으며', '▁원장', '▁본국', '▁상경', '秦', '▁대통령과', '▁포로로', '▁자란다', '▁면허', '▁남서쪽으로', '▁리치', '▁광양', '▁새로이', '▁제기되었다', '▁기록하면서', '▁도시들', '바위', '▁1600', '沙', 'eat', '▁개원', '▁고산', '▁등재', '않', '픈', 'lor', '▁견인', '▁모노', '▁재계약', '쳤으며', '▁대군', '▁소나무', '▁상공', '非', '功臣', '▁스미', '했음을', '▁앨리스', '▁정성', '석과', '▁딸이', '▁대역', 'ode', '농업', '램', '▁조선인민군', '▁엽', '▁함수의', '▁조반니', '갱', '▁똑같은', '레이드', '▁장덕', '▁임명되었고', '(9', '아와', '▁온갖', '▁제국에', '▁형성하고', '▁민영', '▁신도비', '▁친왕', '▁정에', '얄', '▁사슬', '고래', '▁하느님의', '▁차례의', '과정을', '▁때문이라고', '▁둘러싸여', '▁맺은', '▁정권이', '▁보내고', '▁떨', '종류', '▁스위치', '▁유용', '▁콤팩트', '參', 'し', '▁서재필', '▁정치적인', '▁줄거리', '▁연예', '▁본인이', '▁말고', '▁프로듀싱', '지역에서', '▁의원을', '광고', 'Col', '▁끝날', '▁거부하고', '▁취임했다', '▁점령하고', '▁미시시피', '▁마라톤', '▁공격하여', '▁상연', '▁은퇴하였다', '▁들어올', '▁런던의', '비안', '면과', '處', '톈', '▁옥스퍼드', '물에', '▁설명할', '▁제재', '레이터', '▁이북', '▁단어를', '▁시상식', '생물', '되어있다', '▁권총', '▁플레이어는', '▁흉노', 'form', '▁상업적', '▁평론가', '터미널', '▁잡는', '▁나타내고', '▁넘어서', '▁포기하고', '▁매수', '토쿠', '▁느낀', '▁개최국', '▁아시', '▁휘하의', '▁가정에서', '▁보복', '민이', '▁중요성을', '▁요약', 'ん', '최고', '호선이', '▁공표', 'HA', '▁즐기', '▁마을에서', '▁일하는', '고등학교를', 'MO', '▁차용', '▁가고', '▁체조', '▁1882', '▁Korea', '데일', '사자', '▁사업에', '▁주조', '▁시작하면서', '▁캔', '▁고성', 'CH', '▁깔', '▁드러머', '▁900', '개씩', '▁느끼', '▁있거나', '▁디스', '▁아이디어', '▁발리', '▁안된다', '▁천거', '▁규정에', 'ark', '▁81', '투어', '―', '▁비교해', '▁펼쳤', '▁도왔다', '▁함자', '내의', '▁정립', '리야', '▁로비', '▁이즈', '▁시즌에서', '식품', '▁함경남도', '▁알려주', '▁쪽에', 'DR', '▁사랑하는', '▁격자', '▁비판하였다', '미술관', '▁결론을', '운동에', '액을', '주지', '▁명성', '▁특권', '영의', '▁창출', '▁무슨', '▁춘추', '▁끌고', '듀', 'NC', '▁CO', '▁효율', '▁생겨난', '▁부정적', '▁맞은', '▁불신', '▁물질이', '▁무함마드', '▁호위', '▁제수', '▁사바', 'TR', '▁공격했다', '▁장원', '▁남아있', '恩', '▁유벤투스', '▁오크', '▁국제적', '▁집결', '▁라이프', '▁태어났', '▁신의', '보니', '▁끌었다', '▁대부', '버전', '▁예이다', '-12', '▁컴퍼니', '▁지도자들', '▁출가', '我', '鍾', 'KA', '▁하우', '▁싸이', '카는', '▁해고', '▁흔적이', '機', '▁수록예정자', '▁지칭', '▁모인', '▁몰수', '선수권대회', '이끼', '▁발령', '있어', '▁크기를', '▁성장을', '▁실시한', '▁국어', '▁운동가', '▁수행할', '▁요르단', '▁상금', 'н', '(2013', 'TI', '▁1883', '▁활발히', '▁학생들의', '모니', '친왕', '▁Ba', '▁대성전', '畵', '▁앵', '향교', '▁가산', '▁주를', '대리', '▁겁', '랙', '기관으로', '▁총리가', '▁클라이언트', '術', '내기', '▁남게', '▁1892', '▁복귀했다', '▁뛰었다', '▁정해', '▁설교', '▁고향인', 'ins', '▁봄에', '▁잃어', '▁리더십', '토키', '바람', '▁원격', '루를', '▁로렌', '〉()', '▁탄도', '▁제시한', '▁조부', '받는다', '▁나중에는', '▁Time', '▁사고를', '▁구경', '黨', '惠', '▁최하위', '▁개항', '▁겐지', '▁불타', '▁설화', '▁가족은', '아일랜드', 'pro', '토를', '▁연루', '▁지옥', 'dr', '병이', '▁정문', '▁한민족', '▁|', '▁78', '▁느낌', '動', '次', '居', '▁클라우드', '▁단기', '▁정치인으로', '▁정보가', '▁마녀', '사관학교', '▁벨리', '▁목록에', '▁입수', '▁부드러운', '▁밝', '▁드리', '▁암흑', '▁히사', '▁경찰관', '▁뉴욕주', '▁정의된다', '쁘', '▁없던', '▁붐', '▁감자', '▁싸웠다', '▁활발', '▁건설된', '▁선이', '▁막대', 'ort', 'lus', '▁직통', '그로', '▁출석', '▁김민', '▁용암', '우며', '실이', '경의', '▁합친', '이름', '땃쥐', '柱', 'pt', '▁격렬한', '▁실력을', 'gy', 'El', 'IF', '누마', '▁카나', '▁지구에', '▁정치적으로', '▁기여를', '▁학과', '▁친일반민족행위', '▁긴테쓰', 'dd', '▁CEO', '▁기르', '전력', '▁고아', '▁실패하고', '▁꿀', '▁가난', '▁숨어', '▁원인을', '▁면제', 'ki', '▁말까지', '▁의자', '▁형성되어', '▁모습은', '▁다테', '▁갈아', '지휘', '민주주의', '▁71', '▁디트로이트', '랏', '▁가옥', '▁보증', '되도록', '지인', '▁체포되었다', '▁임원', '▁현행', '▁중심에', '관에서', '▁익스프레스', '▁열도', '바타', '▁종교개혁', '암동', 'eo', '사장', '▁반전', '▁조성된', '▁해체되었다', '▁당수', '▁선도', '▁케플러', '▁왼손', '▁마라', '▁노론', '형과', 'IV', '▁저지대', '남면', '▁북아일랜드', '▁침체', '▁각국의', '른다', '▁조립', '트론', '▁끌려', 'ene', '▁자비', '▁예시', '▁장소로', 'by', '▁무실점', '▁문예', '火', '▁아시카가', '▁교량', '▁기사단', '▁용이', '리드', '▁합스부르크', '▁키예프', '%)', '▁부가', '▁자생', '▁103', '인구', '▁천연기념물', '▁알렉', '리움', '서도', '▁실무', '▁움', '受', '▁시즌부터', '▁학생들', '▁체크', '▁나오고', '▁낙선', '과정에서', '킬로미터', '내가', '▁용서', '▁아리스토텔레스', '▁트로피', '▁타르', 'FS', '▁예고', '화물', '세기경', '회원', '▁역사학자', '▁직원들', '슬라', '▁북경', '▁냄새', '핏', '▁후기에', '호텔', '동원', '▁예수의', '▁창시자', '난다', '▁빈곤', '▁허위', '추진', '▁RNA', '그림', '▁카시', '▁알렉산드르', '▁일컬어', '▁기하학', '▁남북으로', '▁84', '▁게르', '▁Gu', '▁무조건', '왜', '▁</', '▁알리는', 'Ho', '泉', '▁가르쳤다', '▁74', '▁이룩', '▁좌표', '▁룰', '▁밖에서', '▁선수는', '▁파이어', '▁생겼', 'over', '▁구성원들', '▁언어는', '▁자랐다', '++', '구리', '폭력', 'ya', '▁호족', '▁은거', '주의자들', '▁손해배상', 'か', '▁여수', '▁천문학자', '▁방향에', '▁중대한', '천동', '▁연못', '▁생물학적', '▁국영', '▁서쪽은', '두고', '▁릴', '▁소셜', '▁리스', '▁국가는', '▁김지', '갔으나', '하자는', '▁더해', '▁배우자', '되지는', '꿈', '岩', '▁수준으로', '▁태백', '▁도착했다', '▁데뷔한', '전대', '▁헌정', '▁제안했다', '▁87', '▁더비', '▁여운형', '▁옥수수', '▁작다', '워드', '▁줄여', '▁뻗', '▁슬라브', '▁생체', '▁자세히', '▁파도', '우회', '▁단면', '▁가가', '우와', '녀를', '▁겉보기', '▁무술', '▁1848', 'ator', '▁묘사한', '▁낮추', '일반', '▁난카이', '▁과실', '▁닫힌', '탄을', '타워', '해야만', '▁작용을', '▁독도', 'tis', '▁시절의', 'chi', '▁않자', '▁요새를', '▁SP', '▁분류군', '▁BC', '법상', '만명의', 'OC', '엔터테인먼트', '평론가', '▁꼽힌다', '▁가자', 'las', '▁이내에', '▁삼층석탑', '▁선수단은', '▁관제', '▁누구나', '▁아종', '▁통합하여', '▁발병', '▁정도를', '벅', '▁파나마', '▁정치를', '사회주의', 'hr', '▁이용된다', '▁감동', '▁연산군', '▁성리학', 'м', '윅', 'eb', '▁회사인', '▁경향을', '▁펑크', '▁내용에', '▁System', '▁디오', '▁로빈', '랐다', '▁자민당', '▁굵은', '▁올랐으며', '복음', 'red', '코의', '▁학교의', '▁득표율', '▁되었던', '▁즐길', '▁초빙', '▁코믹', '▁치고', '▁노선이다', '▁승강장을', '▁심야', '▁노르', '▁닛폰', '▁사용되며', '▁주장에', '▁다마', '▁소리가', '▁점에', '▁소문이', '▁점유', 'orn', '수이다', '▁연기했다', '▁전하는', '위까지', '▁소령', '▁여우주연상', '받았고', '▁어렸을', '▁완성된', '▁바꾸고', '▁연쇄', '▁보이스', '▁징계', 'р', '▁상담', '▁했었다', '▁캠', '▁하에서', '▁문화가', '심사', '▁Po', '▁트라이', '▁배려', '▁오기', '▁일으켰', '▁조지프', '▁일이었다', '▁남쪽은', '▁말부터', '▁찬양', '▁대본', 'SR', '등기', '▁Na', '▁경질', '라기', '▁중점을', '▁스톡홀름', '▁투명', '▁접수', '▁대전이', '▁약혼', '▁바꾸는', '▁보강', '▁구성되었다', 'bit', '▁뱅크', '▁기질', '▁기관총', '▁작성한', '▁인정하는', '▁러셀', '▁영역에서', '왔지만', '▁맹세', '▁분위기를', '테이션', '▁원인으로', '▁쿤', '▁올리는', '▁아부', '▁악단', '▁마다가스카르', '▁조수', '▁미나', '▁총선거', '▁학생들은', '죄로', '▁벤치', '대에서', '▁일어나고', '▁친분', '교의', 'att', '▁We', '보기', '▁기술적', 'τ', '俊', '▁AP', '▁섞어', '▁개인전', '▁거짓말', '▁복권', '▁Un', '▁사각형', '▁마카오', '▁분리된', 'AI', '▁거란', '▁돌로', '▁트럼프', '▁사람들과', '▁분당', '▁대회가', '▁1893', 'PD', '▁왜성', '▁자음', '▁유타', '▁타협', '히사', '년도에', '건의', '연방', '▁지닌다', '▁지키기', '▁폭격기', '▁건물이다', '▁1888', '▁30%', '▁테르', '▁빔', '▁발렌시아', '▁궁궐', '▁생겨났다', '▁파병', '▁지구를', '▁표현한', '진과', '▁의혹이', '▁인접해', '▁치열한', '혐', '▁들은', '▁컨트리', '▁메달을', '▁온다', '▁커뮤니케이션', '▁실시간', '▁헨', '▁증거가', '▁감금', '▁만의', '배를', '▁기록되었다', '교육청', '▁수익을', '丁', '▁야마가타', '▁옴', '▁박정', '▁・', '▁재질', '뮤직', '▁명에', '▁Qu', '▁운행하고', 'ο', '昭', '▁올바른', '▁위주로', 'ane', '▁앞쪽', '▁무대에서', '▁하행', 'Robert', '▁시달리', '실험', '▁항쟁', '▁이해할', '▁도움', 'log', '類', '紀', '해지자', '▁법조인', '▁비롯된', '▁보도했다', '▁영국인', '▁미치지', '▁둔다', '▁LA', '▁지지율', '▁속편', 'な', '盧', '▁설명하고', '청이', '▁등장하였다', '▁개인적인', '▁비자', '▁대학교를', '사태', '▁사용하기도', '果', 'ild', '▁거부했다', '▁부적', '▁믿는', '▁우승했다', '▁듀오', '▁모시고', '▁밝혀진', '▁좁', '_17', 'No', '▁밀러', '▁왜구', '덩이', '▁지키고', '▁못하여', '-23', '개국에서', '▁않아서', '▁음악에', '▁입양', '▁편에', '▁원료', '▁갖추', '▁최연소', '▁처녀', '▁투항', '된다고', '▁가나가와현', '▁돌출', '측의', '▁역사와', '라바', 'span', '▁총사령관', '▁사이토', '들리', '▁대학생', '▁전날', '▁장흥', '▁계정', '▁일반인', '결합', '정동', '▁군산', '▁그녀에게', '▁책이다', 'To', '▁암호화', '▁무대로', '▁저격', '펫', '속에서', '▁역사에서', '▁우물', '▁제작사', '길을', '니에', '태자', '▁농사', '▁비례대표', '▁공격으로', '▁80%', '▁체인', '▁옆면', '▁선동', 'qui', '▁이론에서', '시다', '▁철학적', '▁불행', '▁기념하여', '▁대회에서는', '▁시나', '▁부딪', '▁李', '▁사회민주당', '있지', '▁선택할', '▁AM', '쿼', '▁SA', '▁기본으로', '▁스폰서', '▁받으면서', 'hu', '}', '▁입국', '보수', '▁표준화', '▁수행한다', '▁기여하였다', '▁검출', '▁가문은', '▁적용되었다', '▁카드를', '▁효과적으로', '사진', '▁복용', '면으로', '▁경상', '▁아가', '夫', '▁선행', '▁지나는', '▁지분', '토는', '▁김규식', '▁게릴라', '▁단독으로', '▁계약이', '▁상트페테르부르크', '왕조', '▁운영되고', 'tr', 'sk', '노트', '골로', 'PM', '▁종점', '괘', '행위를', '▁공개했다', '▁내무부', '▁칙', '▁발생하여', '▁일어나지', '▁화학적', '▁국가와', '▁진행하는', '▁만성', '▁목적이', '▁자칭', '▁비용이', '▁표현할', '▁지정되었다가', '▁반군', '▁강간', '▁발라', 'ze', '▁초원', '레이스', '▁진전', '지나', '▁원내', '▁파문', '▁독성', '▁마우', '▁수축', '산과', '▁우파', '르드', '▁어드벤처', '크와', '▁97', '지어', '대통령', '▁총무', '교류', '줌', '번은', '▁제프', '국과', '▁돌을', '▁교육부', '▁왕국은', '▁불린', '▁로키', '▁형성되었다', '▁상태의', '▁성전', '▁듣지', '▁관계자', '▁도시에서', '덱', 'Tr', '▁델타', 'uch', '▁생전에', '▁유지하기', '▁내무', '모음', '▁단원', '▁스노', '▁카타르', '▁허가를', '▁용어이다', '위권', '▁득', '▁장면이', '▁케이스', '▁따왔다', '블러', '▁끄', '컴퓨터', '비로', '법률', '다발', '분해', '▁지도를', '▁Is', '▁이전부터', '▁육군의', '▁청사', 'ef', '▁부각', '▁경주시', '▁제한된', '옷', '▁학생들을', '▁파손', '▁요청했다', '▁쓰여진', '▁가맹', '▁내용이다', '▁윙', '▁타점', '▁헤르체고비나', '池', '캣', '▁불확실', '▁유격수', '▁79', '得', '▁그로부터', '▁누적', '▁중퇴', 'New', '▁종류로', '▁거치', '▁시코쿠', 'LC', 'NK', '!》', '퀘', '▁염소', 'う', '게이트', '▁부대가', '▁82', '▁페이스북', '▁쾌', '증권', '▁부작용', '▁원전', '室', '겼고', 'ald', 'BM', '▁배운', '▁랭', 'OH', '동면', '▁교수를', '▁명분', 'ok', '텍스', 'EX', '▁자크', '▁담당한다', '▁활동하다가', '주의에', 'ord', '▁전했다', '▁솟아', '톤의', '▁와이번스', '▁선임되었다', '▁싸우는', '▁때인', '▁1868', '청사', '자이자', '▁정경', '▁지원하기', '▁엔진이', '색이', '가야', '▁터보', '▁이뤄지', '▁3.1', '▁아키타', '▁게임이', '▁년간', '▁사전에', '▁후진', '初', '▁극심한', '品', '▁넷째', '쪽으로', '▁종파', '▁플랜', '왔', '그러', '▁관구', '▁ex', '▁남산', '파이어', '▁SD', '▁내야수', 'cle', 'ensis', 'par', '▁성별', '▁가계', '▁데뷔하였으며', '레네', '▁마닐라', '▁정상에', '피트', 'van', '▁세력은', '받게', '▁내어', '▁진해', '▁포스터', '엣', 'ett', '▁나타나고', 'fa', '티니', '▁밭', '▁지상역', '▁칼럼', '봄', '▁이용자', '▁주목받', '▁죽기', '▁포괄', '수산', '구성', 'PO', '目', '▁해밀턴', '▁대합실', '▁럭비', '▁위와', '▁추론', '_18', '▁김포', '▁불안정', '즈키', '▁CBS', '▁교회를', '▁구내', '▁세레', '▁예명', '▁심각', '▁퍼지', '대책', '▁재판을', '▁패밀리', '공은', '▁로저', '▁조형', '▁100%', '▁소련은', '▁레인', '▁읽고', '렸지만', '▁헬기', '▁증권', '▁예정이었으나', '력에', '토록', '▁시마', '레인', 'tan', '륭', '▁스트라이커', '▁동쪽은', '▁Day', '▁리그를', '끄러', '▁버마', '놈', '자금', '▁오로지', '자였다', '▁이용해서', 'с', '프스', '▁드디어', '자치', '▁복합체', '▁상용', '▁논란을', '노조', '▁유료', '▁별개의', '▁아프', '▁목판', '메트', '▁고려시대의', 'So', '▁혼다', '▁국보', '▁투어를', '▁길에', '舍', '팀은', '▁평화를', '▁실전', '▁언급했다', '▁자제', '작으로', '▁포르투', '면서도', '옆면', '▁강하다', 'include', '뮤', '▁사무총장', '▁선생님', '▁음향', '▁보존되어', '▁서진', '▁동일하게', 'PP', '제조', '▁쥬', '회의에서', '▁지원하고', '▁치아', '▁노선으로', '클린', '▁찾아내', '시즌을', '▁기간은', '▁시합', '▁쾰른', '▁버클리', '▁회피', '▁추첨', '▁갈리아', '▁물체의', '▁졸업생', '▁주관하는', '▁충북', '▁떼', '나가는', '퍼센트', '▁하인', '▁북쪽은', '▁사우', '系', '▁아키텍처', '▁넘게', '~15', '▁정점', '코르', '▁데서', '▁반도의', '엑스', '▁아치', '▁위험을', '국에서', '영상', 'ref', '咸', '▁댄', '▁잃었', '▁재편', '▁질소', '▁양이', '▁하노이', '▁일자리', '▁작업이', '크레', '▁토지를', '▁가해', '▁역명', '발의', '▁se', '▁영지를', '▁전래', '▁이름과', 'ative', '▁뾰족', '曲', '▁휠', '즈와', '셨다', '▁웨스턴', 'Co', '▁아마존', '▁전시회', '공작', '▁플라이', '희의', '줘', '百', '호쿠', '▁걸린', '▁문과', '▁생산된', '▁받았다고', '바퀴', '▁음악의', 'Lo', '▁105', '▁오늘날에는', '▁흐르고', 'д', '▁프랭클린', '▁주연을', '▁쓰레기', '▁변경했다', '▁피고', '▁마침', '▁어둠', '갈색', '디오', '▁반지', '체와', '▁경찰이', '졌을', '▁의무를', '▁동부에', '▁아산', '▁본작', 'ari', '韓國', '▁정치에', '宇', '씬', '營', 'ral', '▁점포', '▁생각이', '▁심화', '하늘', '▁전복', '▁타이거스', '▁지리적', '사용', '▁첨단', '▁에디션', '▁시스템에', '▁활성', '▁접근할', '▁장군은', '▁포획', '▁보낸다', '▁치루', '▁국가대표팀에', '▁중심지로', '▁조선시대에', 'mus', '▁•', '▁튀니지', '▁시라', '▁언론에', 'ky', '▁최적화', '▁셈', '▁문제와', '박물관에', '옹주', '▁외에는', '▁이용객', '▁상황은', '▁끼쳤다', '#', '▁반역', '▁나타났', '▁복선', '▁받아야', '嘉', '삐', '▁350', '▁별세', '▁극작가', '▁도시에', 'Di', '리치', '▁출판되었다', '▁전국적으로', '▁자치체', '▁실린', '연수', '▁눈물', 'www', '▁비주얼', '▁향토문화유산', '▁중엽', '▁상관없이', '▁늘어났다', '▁미루어', '▁펜싱', '▁평민', '설계', 'ella', '▁높이가', '봉산', '▁호프', '▁어긋나', '▁중수', '▁Fr', '▁시호', '▁동성', '▁핑크', '면은', '▁명명되었다', '▁섬과', '▁서임', '기타', '▁방문하여', '바인', '▁증손', '▁자치주', '노는', '▁밴드를', 'Pro', '▁펼친', '▁예선전', '▁티켓', '▁사업가', '▁초점', 'rd', '▁급수', '직접적인', 'Sa', '▁계몽', '웃', '▁벽화', 'tin', '▁International', '▁1886', '▁마르크스주의', '▁강풍', '순위로', '▁캐리', '▁하류', '▁10,000', '▁공약', '것은', '▁붓', '▁서부에', '▁전해지는', '▁테라', '현동', '▁순으로', 'only', '▁최소화', '▁천하', '▁벌여', '▁자결', '▁정선', '▁자료이다', '코리아', '장교', '색은', '▁NT', '▁세종특별자치시', '▁안경', '▁가리지', '▁활주로', '품으로', '▁국왕의', '▁러시아와', 'rus', '▁방송인', '▁발표하고', '▁정치학', '▁교육과정', '된다는', '관왕', '▁얇은', '▁퍼포먼스', '트랙', '▁방송되는', '▁실버', '▁힘으로', '▁점령했다', '▁돌아왔', '▁도청', '▁돌보', '▁미사일을', '▁김명', '▁실존', '▁팔아', '▁알래스카', '▁선수였다', '하되', '되었음을', '▁권장', '도쿄', '▁제국주의', 'CE', '▁주름', '브리아', '콜로', '▁Music', '▁닉', '▁실정', '▁전통적', '▁싸움을', '자격', '▁염색체', '▁지나가', '남동', '영조', '▁강철', '렸', 'OK', '▁작가이다', '▁피겨', 'ose', '강전에서', '▁가격이', '▁영업을', '▁동유럽', '노래', '▁토끼', '▁고려하여', '르크', '▁개체수', '▁미야자키', '츠의', '▁오리온', '▁다이어', '▁곡물', '▁온대', '▁죽게', '중종', '렀다', '▁AT', '▁연꽃', '▁내리는', '▁설립자', '년경에', '▁멜로', '姓', '▁베토벤', '▁들어왔다', '▁수여받았다', '▁본질적', '▁도장', '▁Ra', '▁국정원', '▁사업자', '분으로', '▁지침', 'ct', '▁항소', 'у', '▁대법관', '제도를', '▁채무', '▁비하여', '▁미래의', '▁변화는', '▁가르침', '▁다크', '▁대북', '올림픽', '하겠다', '젤리', '仲', 'iss', '진영', '광장', '▁별이', '강도', '▁이광', '▁문화와', '▁학설', '▁격투', '칸의', '▁And', '/4', '▁듀얼', '▁보다는', 'tel', '▁일주일', '기반', '▁관계없이', '▁돌고', '▁평창', '▁헌법에', '▁낫', '▁일제의', '▁제도에', 'λ', '▁안테나', '▁알파벳', '▁파기', '▁참가자', '률을', '해질', '▁흐른다', '▁결별', '▁태생', '▁전당에', '▁코치를', '▁삼척', '▁은퇴했다', '▁초등', '▁가족과', '봉사', '들보다', '원수', '▁닭', '▁`', 'men', '개정', 'NT', '메스', 'oli', '▁못하다', '▁텍사스주', '음반', '▁시리즈는', '▁유래되었다', '▁엔지니어', '▁참사', '개국이', 'DO', '先', '훌', '▁다툼', '▁중령', '▁플라톤', '▁잠재적', '▁시신', '▁원산지', '▁따뜻한', '▁쉽다', '▁그룹으로', '▁진흥', '위원회의', '▁흐름을', '2000', '재료', '▁제정된', '▁심하게', '▁퇴직', '▁많지', '▁On', '루는', '▁90%', '▁늦게', '▁아이치현', '▁혼란을', '▁기반한', '▁SE', '▁옥천', 'IL', '▁04', '▁정변', '▁않', '▁제출한', '▁깨어', '▁2-0', '▁프랑스에', '긴다', '▁LP', '▁가사를', 'du', '▁나타나지', '▁항우', '▁중형', '試', '▁같아', '▁1891', '▁Art', '어머니', '깊', '▁회상', '▁배속', '파스', '▁일조', '▁강조했다', '▁시애틀', '▁제퍼슨', '▁War', '▁신자들', '▁되던', '동초등학교', '실에', '먼은', '▁여의도', '▁종말', '▁진행자', '슬라프', '▁애틀랜타', '慧', '▁겹쳐', '도서관은', '▁웹툰', '▁열차를', '하르', '▁긍정적', '륵', 'cer', '▁제목은', '▁역사의', '▁주목할', '▁일으킨다', '▁군이다', '▁만들어낸', '▁부르고뉴', '▁쓰러', '▁이뤄진', '▁왕세자', '▁사례가', '▁마르틴', '▁붙여졌다', '▁여겼다', '▁반란군', '▁입을', '▁산둥', 'aster', '쥬', '역의', '▁휴가', '▁형성하는', 'ring', '▁개인이', '▁오나라', '▁게시', '▁현재도', '원장', '▁중국에', '장비', '▁젤', '▁기하여', '雄', '렙', '▁비영리', '▁판례', '▁시야', '▁개봉되었다', '▁Vi', '▁도카이도', '▁왕을', '▁점수를', '▁대기업', '레인저', '보건', '▁Or', '▁생계', '▁십자', '▁제주시', '▁제도는', '▁표현이', '▁흘', '루트', '▁놓인', '▁습지', '▁단점', '▁사본', '▁곳곳에', '▁vs', '▁현상은', '▁한중', '▁사후에', '코마', '▁발견되어', '▁감옥', '위기', '▁조르', '직으로', '▁버전으로', '▁분파', '프와', '보안', '▁열강', '▁뻔', '수용', '▁거기', '콥', '▁이빨', 'ε', '▁뉴캐슬', '▁지상파', '▁국민투표', '▁종목에서', 'DC', '▁신화에', '천명', '▁것입니다', '렉스', '▁가루', '아서', '▁오차', '▁검열', '▁앤드루', '▁모스', '▁서류', '▁코끼리', '▁방콕', '사적', '▁추상', '▁폭포', '▁해안에', '▁위험이', '▁선수들은', '▁적용된다', '▁커서', '▁민사', '▁미카', '즌', '▁작가로', '평리', '샹', '▁찰', '▁후지와라노', '▁그림자', '▁1887', '▁아랫', '▁바다에', '▁시국', '▁메타', '崇', '妃', '긋', '▁프로그래머', '▁요제프', '▁유정', '▁도스', '▁사방', '▁피아', '풍을', '▁마을이', '▁가타', '운전', '▁배가', '▁인간을', '▁급성', '▁전위', '▁송신', '▁리오', '딕', '▁이뤄', '▁운영을', ')”', '▁레스토랑', 'David', '▁시대가', '▁다양하게', '▁불참', '▁89', '▁순교', '▁박종', '▁압도', '킴', '▁이상한', 'ual', '▁부당', '▁앨범인', '▁패러디', '表', '▁복식', '파로', '▁똑같이', '해준다', '▁캐나다에서', '▁구니', 'uc', '▁병원에서', '가지의', '윙', '▁대단히', '▁텔', '▁평을', '▁의회에서', '▁제작을', '▁지지자들', '▁조직이', '▁활발하게', '세스', '▁위그', '암리', '투르', '▁카터', '▁엔트리', '▁모은', '쉐', '▁추구하는', '협회는', '▁조약이', '▁감수', '▁당하고', '▁92', 'cul', '▁상급', '라운드에서', '▁자료로', '▁검거', '▁사회당', '▁수록되었다', '▁영화에서', '▁관해서는', '▁종군', 'ting', '▁부사', '도마뱀붙이', '▁안전한', '能', '률은', '▁함양', '▁불규칙', '▁부조', '시온', '▁영역에', '▁교육의', '▁춤을', '▁명확한', '뿔', '▁적외선', '▁노래이다', '▁개가', '▁본래의', '▁결승에서', '▁선구자', '츠카', '▁장벽', '▁여겨지는', '▁나타낸', '▁성곽', '▁잠실', '▁제갈량', '섬유', '▁다스리', '顯', '▁순위를', '▁열심히', '魚', '彦', 'HL', 'ami', '▁준결승', '▁API', '쓰구', '▁MTV', '▁군이', '▁효고현', '▁돕기', '남부', '▁직후에', '▁차출', '▁신형', '▁묘비', '▁송도', '▁메커니즘', '齊', '▁놀라', '▁급진', '▁지붕돌', '학은', '▁전략을', '▁병기', '▁만들어져', '경제학', '회와', '▁계시', '▁방글라데시', '▁아이스하키', '▁유력한', '▁인류의', '▁NGC', '▁소속기관', 'IG', '▁도입한', '▁시험을', 'oy', '실은', '▁히트곡', '▁토착', '▁전반기', '▁출연하여', '토의', '手', '▁컴퓨팅', '▁관찰사', '▁이븐', '▁인명', '▁청춘', '▁참의원', '여래', '▁이르렀', '▁강화도', '▁이건', '▁다나카', '시간이', '致', '▁아날로그', '▁휩쓸', '▁내면', '▁귀화', '▁두가지', '▁1866', 'NG', '해줄', '▁지미', '▁가르치', '香', '껏', '지방검찰청', '▁어쩔', '▁지쿠', '적이었다', '▁절단', '▁나라는', '▁박사학위를', '맥스', '▁기울', '▁이장', '면체', '▁압도적인', '▁길다', '▁실시되었다', '금속', '▁Of', '뚜', 'た', '發', '명종', '▁바꿀', '▁듣는', '인들과', '퉁', '▁전방', 'ctor', '▁가지로', '봇', '▁동치이다', '즈를', '▁갖추어', '▁나라가', '▁미네소타', '▁우즈베키스탄', '▁달아', '▁매사추세츠', '▁겪는', '▁수용할', '받기', '랫', '▁주니치', '▁예수회', '▁j', '~9', '▁불변', '▁쇼트', '스키는', '▁하노버', '▁레전드', '▁일어나기', '▁안무', '▁중국공산당', '▁통치자', 'ser', '▁그보다', '화하는', 'yo', '▁가족의', '음으로', '▁찾고', '▁영화제에서', '▁뚜렷', '嚴', '▁미생물', '셴', '(1991', '측은', '기보다는', '▁김광', '▁1863', '떠', '▁미드필더로', '▁신학자', '식에', '▁세우는', '▁가상의', '▁관련해', '▁심사위원', '▁정확', '▁지식인', '▁쉽지', '男', '▁가솔린', '富', '▁사용되어', '▁하였지만', '▁메카', '히데', 'IX', '▁스님', '▁예전에', '만원을', '안의', '▁연동', '▁지휘를', '▁기간이', '있게', '▁선사', '▁시청자', '▁에너지가', '▁공격하는', '▁관절', '▁위원회의', '▁건설을', '▁친구인', '▁혼성', '▁미륵', '▁양자로', '카미', '디자인', '▁인디애나', '角', '▁갑옷', '기까지', '▁엘리트', '▁유학생', '▁정주', '▁반포', '▁혈관', 'William', '_19', '▁벨트', '▁나라에', '▁끊어', '▁니콜', '50,000', '▁김옥균', '圓', '尉', 'Ca', '▁출판된', '캄', '▁극장에서', '▁공명', '▁테리', '▁토리노', '▁되도록', '봐', '▁나의', '▁솔루션', '학파', '▁경시', '스에게', '▁어찌', '▁바른', '아야', '▁했기', '고문', '▁아타', '~1', '▁건전', '▁맨해튼', '▁잃게', '(1992', '▁엘레', 'ena', '▁맥락', '▁감리교', '테인', '▁체스', '▁펼쳐진', '▁겪고', '천왕', 'tre', 'SH', '▁성장하였다', '분부터', '▁독자적으로', '▁선원', '▁전수', '卿', '성우', '▁바탕에', '▁표적', '암으로', '▁누이', '▁선장', '▁다저스', '▁리뷰', '▁논쟁이', '▁이소', '鄕', '瑞', '産', '▁트루', '▁양성자', '▁×', '쿤', '▁찰리', '▁죽음에', '▁게르만', '▁성적으로', '▁슐', '▁날이', '둠', '▁이득', '▁구하는', '가능', '▁해리슨', '▁씨앗', '실장', '튜', '▁소련이', '▁밝혀지지', '▁한계를', '▁입학하여', '▁진행했다', '▁제우스', '▁설립하여', '요원', '▁후반부터', 'inter', '▁관문', '▁워너', '▁강변', '면이', '콧', '▁고인돌', '등록', '▁국교', '▁배상', '▁연이어', '▁사용되기도', '▁오르는', '▁마디', '▁순종', '▁한편으로', '▁씨의', '▁학문적', '후의', '▁co', '풍의', '▁작성된', '▁하르', '주민', '재로', 'fer', '키노', '▁김준', '▁제대', '쭉', '▁프란체스코', '소프트', '판과', '▁안장', '구스', '▁새긴', '▁획', '▁스페이스', '▁모색', '▁설치하였다', '▁정기적으로', '總', '▁대원군', '▁버전을', '▁서초구', '▁끌어들', '▁나카무라', '▁받아들였다', '▁왔으며', '▁함수를', '▁1876', '▁후쿠시마', '▁시그', '▁보내어', '▁한편으로는', '▁북조선', '▁목요일', '▁최영', '▁건조한', '▁종목은', '▁일당', '▁주한', '▁기간동안', '▁사라진', 'can', '▁격추', '▁아니냐', '▁별명이', '사거리', '▁해당되는', '▁적게', 'James', '▁더불어민주당', '▁사랑에', '▁명인', '▁질문에', '▁갈등이', '▁촉매', '▁뉴욕의', '▁$', '코와', '吏', '▁테이', '▁시직경', '▁극락', '▁균형을', '▁정당이다', '안보', '▁클라크', '▁금산', '▁픽', '▁사랑의', '▁발견하고', '▁하겠다', '공정', '▁염증', '▁살게', '極', '▁노르망디', '▁구하기', 'zi', '▁걸쳐서', '▁삼림', '▁도쿄에서', '▁고토', '인산', '▁치러', '▁하리', '▁지도부', '▁활동하던', '▁정체성', '타리', '▁이탈리아어', '戶', '▁캐서린', '▁대대로', '~16', '외교', '▁뉴욕에서', '▁연구와', '▁행동에', '▁작가의', '▁처분을', '▁도사', '▁로마에서', '▁가져다', 'ez', '▁설립되어', '▁적군', '▁프랑스가', '▁연대기', '▁습윤', '조와', '▁슈트', '▁경제적으로', '▁해상도', '▁킥', '평면', '▁국회의원을', '▁바뀐', 'Paul', '▁바그너', 'と', '▁브랜', '▁전신인', '▁경관', '▁몸통', '▁우지', '▁1881', '트리스', '▁더빙', '▁단체이다', '허가', '뉘', '▁고생', '▁게임에', 'ture', '▁바스', 'nu', '▁개헌', '광주', '▁행하는', '▁출발하여', '▁연안에', '제주', '자문', '象', '▁과의', '▁평안도', '▁관우', '표준', 'FA', '▁패했다', '▁화장', 'own', '인칭', 'Hy', '▁83', '직원', '▁값은', '▁않아도', '▁표창', '▁판매하는', 'era', '蘇', '▁스카우트', '▁성씨이다', '▁시작할', '▁후배', '▁모금', '▁그룹은', '템', '▁너무나', '▁해저', '▁종류는', '동에서', '▁콘테스트', '▁예컨대', '首', '▁개인적', '▁우호', '▁재활', '줬', '▁프랑스령', '▁국가대표팀에서', '▁소원', 'berg', '▁임명하였다', 'ren', 'gin', '▁간주된다', '지느러미', '직에서', '▁서남', '▁신동', '▁의약품', '▁왕실의', '▁안정된', '▁남았다', 'MD', '년대의', '▁EU', '▁짧고', '農', '▁서쪽의', '▁방법론', '諸', '▁면이', '▁대한항공', '▁위안', '▁1,500', '▁동진', 'ek', '▁심리적', '▁메뉴', '▁홈경기', '자리에', '▁포함되지', '▁오클랜드', '▁문경', '▁오바마', '▁와일드', '▁산업의', '▁백화점', '▁선거는', '영화제', '▁위에는', '▁가고시마', '희가', '▁느린', '▁조정에서', 'PI', '▁루카', '▁간격으로', '-14', '▁사천', '긍', '▁가브리엘', '▁앨범으로', '마라', 'As', '▁요건', '▁자유민주당', '▁포착', '시켜야', '▁수염', '▁포터', '▁회고', '園', '전국', '▁스크린도어가', '▁카스티야', '▁방사능', '광년', '主義', '년생', '夫人', '▁물리치고', '▁비준', '스런', '▁대출', '▁맥스', '▁만들었고', '나게', '▁현직', '▁해안가', '▁오락', '▁김윤', '▁히로시', '▁전전', '뫼', '▁안성', '▁진수', '▁계속된', '▁의류', '▁로얄', '▁쓰기도', '▁형인', '학적으로', '▁브라더스', '▁저널', '▁쌍대', '사법', '서기', '▁생방송', '資', '支', '▁어렵게', '▁혐오', '▁무명', '▁재단법인', '메니', '▁흠', '▁글라', '▁예전에는', '텔레콤', '▁경찰의', '▁하나로서', '▁하루에', '少', '▁염려', '들만', '▁섀', '▁사건과', '▁말레이', '타우', '▁시즌의', '플러스', '▁원숭이', '▁동점', '▁Mc', '▁자체의', '▁신뢰성', '▁클린턴', 'ons', '▁전격', '▁다투', '▁이론적', '▁증가하고', '▁철폐', '홉', '▁글리', '용품', '▁참여할', '생물학', '▁인간과', '▁친일반민족행위진상규명위원회', '▁헬리콥터', '간신히', '산물', '겠', '▁견해가', '▁연금', '코치', '읍에', '높이', '▁도널드', '▁앙골라', '▁산시', '▁켈리', '▁스칼라', 'lia', '_20', '▁존재했다', '▁경호', '몬드', '▁소프트웨어를', '▁Ac', '▁수락', 'app', '링크', '판결', '▁조사에', '▁측에서', '▁미들', '▁창문', '▁만들어진다', '테리', '칼리', '▁시간대에', '암사', '▁장소에', '▁경기장으로', '▁몬테네그로', '▁코펜하겐', '샵', '호선은', '▁여겨지고', '▁거제', '▁부제', '▁발라드', '▁칼로', 'uck', '▁정종', '▁청소', '번으로', '튀르', '▁대청', '▁형벌', '중의', 'MBC', '▁루돌프', '▁객', '온은', '▁경쟁을', '멘트', '▁유래하였다', '▁알프스', '넣', '▁오산', '▁음악은', '▁느끼고', 'gg', 'ole', '▁방치', '상어', '▁비늘', '▁길어', '▁징수', '▁채취', '▁재발', '▁부유', '▁높여', '▁경보', '자나', 'SO', '▁MB', '▁사설', '▁정려', '虎', '恭', '▁함경북도', '☆', '뮈', '▁접한', '▁70%', '▁감옥에', '▁부합', '▁들어가게', '▁다녀', 'OP', 'CL', '스텐', '▁앰', '때까지', '▁양호', '게이', '▁믹스', '▁교통의', '시안', '블로', '▁쿠퍼', '▁이적료', '▁주인공으로', '▁사항을', '結', '통치', '삼거리', '▁앞선', '▁리본', '▁OST', '▁선진', '▁우회', '▁현대에', '▁통역', '▁직할', '▁바꾼', '▁것이므로', '▁컨트롤', '▁영국에', '▁소피아', '▁내리고', '牧', '했음에도', '▁동요', '▁스튜디오에서', '▁작용하는', '▁진행하였다', '▁이지', '▁주심', '▁실적', '▁증인', '▁대표작', '▁번에', 'LO', '티에', '▁전담', '준비', '이탈리아', '▁소유권', '▁아름다움', '▁어느날', '▁김형', '▁모욕', '▁작가들', '▁하나다', '조류', '지금', '왔던', '▁행성이', 'off', '▁벨라', '▁모로', '▁민정', '▁지출', '속으로', '심의', '티우스', '邑', '▁해안선', '▁일하고', '▁명확히', '▁유혹', '▁승강', '됐던', '▁출처', '▁AV', '▁살아있는', '▁번창', '▁것이나', '르스', '댐', '▁모리스', '▁수필', '▁클리블랜드', '삿', '▁더글러스', '▁핵융합', '▁합당', '▁다윈', 'American', '▁장점이', '▁소재의', '▁절벽', '▁책에서', '▁관세', '▁전무', '▁위촉', 'ute', '온다', '▁앞의', '▁영산', '▁병과', '陸', '廳', '▁합법', '▁성지', '▁경기로', '▁급속히', '연장', '시켰', '▁신발', '▁육체', '▁역임했으며', '▁영화가', '▁93', '▁낙양', '르타', '뱀', '▁말미암아', '▁송출', '▁점과', '▁요시다', '출신', '▁울프', '▁바우', '▁통일신라', '밭쥐', '▁고문을', '레드', '▁낳았', '▁학생이', '▁우왕', '▁중부에', '았기', '▁SO', '▁코난', '연은', '버린다', '▁선제', '▁이스탄불', '▁루프', '▁선천', '▁장로교', '▁체제로', '바둑', '▁능선', '▁공천', '어요', '▁대화를', '▁실시하는', '▁동시대', '용의', '▁혐의를', '▁치른', '▁산요', '▁참가할', '母', '▁카르타고', '▁탄약', '세였다', '▁투표에서', '세기에는', '▁천황이', '▁끼치', '▁정작', '일자', '▁릭', '▁화강암', '▁조선후기', '무관', '▁글루', '대원', '▁이론이', '▁모호', '▁온건', '▁1861', '▁채색', '▁당내', '▁접해', '▁USS', '▁반성', '▁부왕', '▁카메룬', '▁토스카나', '▁교육기관', '총장', '▁관료로', 'rit', '▁1864', '▁급격', '▁폭파', '▁권위를', '▁러시아인', '▁지배하는', '▁이겨', 'vis', '발생', '롭고', '▁기성', '▁이닝', '▁나라들', '▁효율적으로', '▁이양', '▁나노', '因', '▁예선에', '즙', '지도자', '▁한국과', 'pre', '▁구두', '▁제정되었다', '▁찐', '부족', '▁부하들', '▁유지할', '▁출전하지', '▁공항으로', '계통', '▁마카', '▁리옹', '▁발전하였다', '▁당대의', '야말로', '▁헤이안', '▁공간은', '▁간사이', '▁생성된', '▁지우', '▁주도한', '▁매직', '위원회를', '▁신하들', '▁그렇기', '(1989', '▁천안시', '▁켈', '▁페로', '▁공존', '▁박성', '▁개발하였다', '▁비행장', '▁캐릭터를', '▁정책은', '▁총리를', '▁방사', '▁욕망', '▁의미이다', '▁흩어져', '▁NASA', '▁흡사', '2018', '▁현장에서', '▁플레이어가', '▁사이로', '▁Can', '▁관청', '▁여유', '▁컸다', '▁인간은', 'ス', '房', '▁어울리', '했습니다', 'ola', '▁포토', '▁믿었다', '▁개통되었다', '▁평형', '▁발표하여', '▁국제적으로', '귀족', '▁싶었', '▁매끄러운', '▁코스타리카', '▁갤러리', '▁GO', '▁수중', '▁판소리', '▁남해', 'Do', '▁극우', '▁수교', '▁동등한', '▁차장', '▁법의', '▁전까지는', '▁생태계', '▁켈트', '▁브레이크', '카라', '해주었다', '()\"', '▁차르', '▁아라곤', '▁놀라운', '▁One', '▁사명', '▁종영', '▁서면', '▁대사헌', '▁기업이', '▁엉', 'ste', '▁시도를', '▁마야', '從', '▁귀국하여', '▁흥미', '▁연말', '▁하니', 'ds', '연금', '▁성향의', '▁기관지', '버드', '▁*', '디는', '차례의', '_21', 'σ', '세요', '▁임정', 'ound', '▁국적을', '▁태국의', '▁에피', '▁GS', '▁추가된', '▁투수이다', '▁낳는다', '▁승리했다', '▁해군은', '▁동네', '蔡', '▁발달한', '▁강조하는', '디언', '▁이번에는', '▁익숙', '▁후보는', '나비', '▁남하', '▁대체되었다', '▁밴쿠버', '▁세인트루이스', '▁홍콩의', '쿠르', '▁수용체', '4.5', '▁슛', '▁유리한', '▁요절', '▁옮겼', '▁적었다', '▁넷', '▁영국령', '▁정하는', '▁도야마', '▁영원', '아프리카', '▁유치원', '峰', '▁중추', '▁레지', '▁기념비', 'fr', '▁것이기', '미노', '▁지칭하는', '▁미쓰비시', '▁윗부분', '▁자료에', '▁1873', ')=', '준은', '바이러스', '▁시작하고', '청의', '▁선봉', '覺', '▁느낄', '교리', '▁접어들', '▁헌병', '표현', '규모', '라이프', '▁함수는', '▁밝히', '▁정적', '▁근거지', '▁도래', '▁관례', '▁아이폰', '▁유권자', '▁사무를', '▁입상', '▁패배한', '스톰', '▁볼셰비키', '電', '▁자메이카', '북부', '▁시흥', '▁자르', '▁구해', '▁규탄', '▁약속을', 'unt', '▁비평가들', '▁드레', '▁실시했다', '▁생선', '▁요충지', '▁조승우', '▁협정을', '▁유럽과', '▁안정성', '▁역할은', '▁쌓았다', '▁후계자로', '▁한해', '▁요격', '▁국가대표로', '트르', '▁등지에', '-200', '슨의', '▁모았다', '타노', '▁진출한다', '▁실리', '(1993', '▁홈구장', '▁잠정', '년대와', '▁쓰이지', '▁마오', '버리는', '▁따르고', '▁이차', '▁야외', '정원', '▁자란', 'DOS', '타스', '▁선양', '仙', '▁비타민', '▁맛이', '▁하원의원', '아파트', '시켜서', '시계', '▁보수주의', '▁예약', '陰', '▁Life', '책으로', '▁경과', '▁칼뱅', '달라고', '▁평지', '셨', '스팅', '캐스트', '▁노래로', '▁한큐', '▁맡기도', '▁본성', '▁91', '▁유령', '庵', '▁앤더슨', '▁AKB', '▁빠졌다', '▁대항하여', '▁키가', '▁치환', '▁도시인', '▁자를', 'NI', 'rm', '▁이즈미', '▁독립적으로', '▁시몬', '▁책으로', '▁주창', '▁상고', '入', '▁제왕', '렸던', 'イ', '區', '▁마우스', '▁못했던', '▁화력', '▁Da', '▁떨어진다', '▁왈', '려면', '▁못했지만', '▁절망', '▁현재에', '▁이황', '▁매거진', '▁결승전에', '▁지붕은', '▁담당하였다', '▁화약', '▁해독', '▁최상', '▁최고인민회의', '▁기숙사', '되다가', '▁고든', 'SM', '▁시기에는', '▁모르고', '▁남방', '▁혁명의', '▁되어서', '▁이루지', '▁구마모토', '▁1850', '▁버그', '▁평판', '▁안정적인', '▁파리의', '▁언어들', '巖', '半', '▁라파엘', '▁향토유적', 'Gr', '받았으며', '▁우려가', '▁농민들', '▁동물들', '운동의', '▁이루어지', '▁기분', '▁마비', '▁다루어', '▁공손', '명인', '▁간첩', '▁블로', '▁상기', '▁Ver', '尊', '▁Fe', '▁찍은', '▁호리', '▁조선에', '수정', '▁1872', '▁끝났', '파에', '▁달라고', '▁오하이오', '시키는데', '▁주차장', '▁1865', '▁헬싱키', '▁차츰', '▁환자들', '시키면서', '▁교도', '듣', '▁분리되었다', '▁주입', '▁교대', '▁정화', '▁에스페란토', '▁프랜시스', '듐', '淑', '▁글꼴', '▁맡는', '▁처지', '▁카즈', 'her', '▁감상', '슬로', '연의', '▁가지지', '▁등판해', '▁흥미를', '▁마차', '▁읽어', '▁재래', '▁Tour', '▁혁명을', '▁각본가', '미래', '▁마츠', '獻', '▁시설관리자', '▁피아니스트', '사다', '▁가리는', '▁규정을', '메이지', '▁유저', '▁어류', 'ings', '▁정관', '▁로렌스', '피오', '▁라이더', 'atch', '▁일괄', '▁손실을', '▁되어야', 'DF', '규정', '▁LED', '▁무리를', '▁간선', '리츠', '▁진료', '▁모범', '▁싼', '▁220', '▁CP', '▁고온', '▁양보', '▁치하', '▁그래도', '▁상사', '▁오이타', '▁분포하고', '▁통과하는', '▁숨겨', '바이트', '▁파면', '▁판매를', 'RAM', '▁비해서', '▁단정', '▁근사', '▁Ne', '▁교도소', '▁서해', '波', '▁빅토르', '▁ch', '마스터', '▁어리', '▁여배우', '▁배우이자', 'enn', '▁방안을', '▁초상', '▁딕', '윤리', '▁도피', '▁거리에서', '想', '▁CONCACAF', '녜', '▁도교', '쓰카', '▁종료되었다', '▁맞았다', '▁구간에서', '▁환자의', '▁나갈', '지수', '▁의지를', '▁서울로', '▁런', '▁브르타뉴', '▁톈진', '▁잠깐', '상대', '▁필리', '▁가중', '▁심해', '튀', '▁쇼핑', 'fi', '▁키는', '컷', '▁싱어송라이터이다', '▁막스', '규칙', '▁우아', '건은', '캘', '範', '▁리그인', '하리', '▁재미', '▁정제', '▁1878', '▁체계는', '▁일본군은', '▁반응이', '▁성향을', '▁성매매', '▁움직임이', '▁발견되며', '▁소유한', '▁거점으로', '▁진출할', '스텔', 'ama', '▁생모', 'gn', '▁보호하는', '▁음악과', '담당', '▁인도양', '▁보수당', '▁파벌', '▁베네딕토', '域', 'り', '(1990', '▁40%', '콜라', '▁결혼한', '▁봤', 'ura', '▁다목적', '▁민요', '▁콰', '▁기술자', '▁음반으로', '▁연회', '▁프로젝트는', '▁문제들', '▁세월호', '▁범행', '셸', '▁비리', '▁막고', '▁이바지', '▁솔로몬', '태종', '▁상소를', '▁로맨스', '내리', '거리는', '▁죽음의', '라이브', '▁대차', '▁절정', '▁북군', '共', '▁참석한', '▁대수적', '▁차고', '되어서', '▁없음', '니언', '▁봉화', '▁위치가', '▁가족을', '▁네이션스컵', '▁태권도', '▁닮은', 'WA', '▁분야를', 'DM', '▁벌어지는', '▁역량', '▁귀속', '▁감성', '▁은메달', '▁소음', '▁작전에', '▁마오쩌둥', 'ル', '▁사쓰마', '▁낙동강', '▁사영', '▁프레이', '▁공장에서', '▁이천', '▁지나간다', '모는', '▁포항시', '▁니혼', 'ck', '▁과도한', '▁준장', '▁두려움', 'org', '▁펜실베이니아', '▁or', '▁정세', '▁이민자', '▁마술', 'row', '▁영원히', '(2003', '포리', '심판', 'hen', '▁유지했다', '▁그룹이', '▁방식에', 'ita', '일러', '호기', '숫', '局', '▁거두며', '▁올드', '調', '전체', '▁진상', '▁GDP', '▁금호', '환은', '▁변이', '▁후예', '▁싸운', '▁생명을', '▁장의', '▁힘들다', '메이트', '▁수행하고', '▁함흥', '▁성령', '▁경기장에서', '▁KO', '▁파일럿', '▁Am', '▁결핵', '▁달고', '베이스', '▁le', '▁비판하는', '조원', 'cus', '국립', '▁향토', '▁연립', '▁보여준', '-13', 'wo', '▁모니터', '따라', '▁신주쿠', '▁길이의', '▁문종', '숲', '심에서', '▁러시아는', '▁종을', '▁운행되고', '▁타임스', '▁미드', '▁베네', '하길', '겁', 'PE', '▁일치한다', '▁양심', '▁대표는', '▁평택', '▁칭송', '경쟁', '▁브루스', '▁포털', '▁귀신', '▁이용하고', 'IO', '검은', '르바', '▁도로가', '▁스리랑카', '▁유클리드', '▁지구가', '▁파괴되었다', '막이', '▁시신을', '▁사상은', '게르', '플린', '▁명이다', '▁학명은', '▁컨테이너', '루이', '▁패하였다', '▁그저', '▁기법을', '▁황색', '곡선', '▁활동하며', '▁근로자', '▁물가', '▁시속', '▁지역인', 'zo', 'CG', '신앙', '▁점거', 'VI', 'sis', '발사', '員', '▁정의를', '▁빙하', '▁안동시', '▁침묵', '▁내각의', '▁교사로', '▁질량을', '▁미래에', '▁국회에서', '내려', '▁활동으로', '▁읽기', '▁없으면', '▁묻는', '▁경력이', '»', '▁종류에', '▁가와사키', '▁이르게', '▁불경', '▁나나', '▁김홍', '▁피어', '▁뿐이었다', '방향으로', '▁종목이다', '▁y', '▁후손들', '▁인증을', 'af', '▁주인공이', '▁파직', '▁몰타', '고르', '▁아무것도', '▁아리아', '▁아드', '▁애정', '▁효과적인', '선사', '▁국제선', '▁알아보', '▁ABC', '▁박씨', '▁디자인은', '▁돕는', '▁비중이', 'Ja', '▁ATP', '▁킴', '▁연장전', '▁활약으로', '▁원리를', '完', '▁거뒀다', '▁타락', '▁로스쿨', '▁소울', '▁키워', '▁해인', '▁시리즈에', '▁you', '▁부르게', '▁개발했다', '▁유선', 'FI', '▁인문', '▁가라앉', '報', '▁편견', '▁합류했다', '▁중원', '▁수도로', '▁직속', '신청', '▁서서', '▁전해지고', '▁천도', '-50', '▁시신은', '▁북서', '▁니코', '(1987', '▁원칙을', '▁갈래', '▁by', '▁완벽하게', '▁아소', 'now', '▁의령', '▁게리', '▁연합군은', '▁신곡', '哲', '變', 'ó', '▁버려', '▁적합', '▁도로를', '▁왕궁', '▁친족', '▁콘솔', '▁경제학자', '▁괌', '▁오스카', '▁향교', '▁쿡', '위원으로', '▁전반적으로', '쓰기', '▁바흐', '▁생각하자', 'в', 'る', 'mat', '呂', '▁맡았던', '(1988', '▁웨인', 'ML', '청구', '▁기념하기', '▁겹치', '▁연한', '티카', '▁둘러싸인', '▁수행했다', '▁이송', '▁거세', '▁들어오는', '勳', '普', '▁마르세유', '▁국외', '▁영향력이', 'ms', '▁부족으로', '▁경기의', '뜨린', 'ther', '▁궤', 'ala', '▁동로마', '▁쉐', '▁서해안', '여명이', '▁열려', '▁Award', '곡면', '▁여겨졌다', '8,000', '▁거두어', '▁형식적', '▁승리에', '▁재정적', '명칭', '▁족보', '▁공간에', '▁신상', '▁군용', '레미', '▁내에서는', '▁공으로', '▁가깝게', '▁인공지능', '閣', '倉', '▁슬픔', '▁재료로', '▁일리', '▁스킴', '▁장소에서', '▁조연', '▁속이다', '▁관목', '▁의과대학', '그리고', '▁당선된', '▁마누엘', '트롤', '▁이베리아', '▁잦은', '▁요리토모', '▁세습', '▁1-2', '▁가리키', '▁1830', '▁미셸', '▁경로를', '▁John', '▁항복을', '▁가르침을', '▁플루', '▁체결된', '溫', '뜰', '▁철저히', '▁떠오르', '▁공헌하였다', '▁늦어', '▁정동', '▁폭이', '▁논쟁을', '▁파고', '▁Gra', '▁우의정', '▁삽화', '▁동맹군', '管', '▁갱', '▁Star', '▁협동', 'use', '▁체제가', '▁공간으로', '연대는', '▁만난다', '▁요지', '▁시작되었고', '▁단어가', '▁경기도의', '▁이태', '▁공이', '故', '靖', 'DD', '▁명성황후', '▁거쳤다', '수영', '▁클럽에서', '▁홈즈', '▁교회에서', '요소', ':3', '종목', '▁가토', '護', '▁가드', 'Ha', '▁꿈꾸', '▁섞여', '▁좌의정', '대비', '하더라도', '▁z', '홈', '▁왕국이', '▁일러스트', '숍', '▁민병대', '▁랭크', '▁kt', '붉은', '▁효자', 'len', '▁히틀러는', '▁종신', '▁빈도', '▁사용하게', '可', '▁쿼크', '▁없으므로', '▁기뻐', '▁관련되어', '▁1/3', '▁탈취', '▁이기고', '▁프리미어', '▁표기한다', '도감', '密', '▁조슈', '▁전대', '우리는', '▁넘겨주', '(2000', '▁라스', '▁독일군의', '▁94', 'pha', '라마', '보컬', 'tes', '▁아이티', '▁양육', '모르', '▁수복', '▁추리', '▁화기', '변호사', '▁자기의', '容', '쿰', '▁가리켜', '▁성적이', '비전', '▁신선', '이었을', '▁정하고', '▁장녀', '▁웬', '▁이용되고', '▁클럽인', '▁성악', '라이드', '▁시트', '주자사', '▁유스', '▁국한', '▁Har', '鶴', '▁형식은', '▁외치', '위원을', '▁시바', '▁하치', '▁비교하여', '▁비중', '▁성실', '▁반감', '▁죽이려', '▁편집자', '▁헛', '▁역할로', '▁수업을', '보라', '▁메디치', '그러나', '시키려', '▁스테이션', '▁조사에서', '▁차례에', 'West', '▁총격', '학자이자', '▁인프라', '▁채택되었다', '▁일방', '라쿠', '하였으므로', '▁아이가', '▁프로레슬링', '사쿠', '▁확실하지', '銀', '▁바닥에', '▁볼로냐', '▁장학금', '▁분광', '▁해태', '▁살라', '오네', '▁제창', '상품', '왔으나', '▁썬', '▁근대화', '▁정상적인', '▁홍콩에서', '▁도는', '풋', '屬', '▁무솔리니', '▁코소보', '▁진한', '▁그룹을', '▁뮤지션', '▁설립하고', '▁없었으며', '▁기니', '▁온난', '▁여성주의', '▁결정에', '▁스타일을', '▁손해', '▁전기의', '▁흡', '동쪽', '▁제공하기', '▁오일러', '▁어린이들', '燕', '▁계속되는', '▁주민의', '▁단체인', '왜성', '翼', '▁수준이', '▁일대에서', '▁효율적인', '▁법적으로', '유적', '▁가락', '보면', '▁1862', '졌기', '내어', '바닥', '들과는', '▁광도', '▁△', '펄', '▁전락', '데라', '▁at', '▁원심', '▁카탈루냐', '▁뒤집', '▁창설되었다', '미사일', '▁et', '▁사슴', '▁너머', '리그에서', '▁가족이', '시에서', '▁위조', '▁발상', '흉', '▁갤', '▁안되는', '춘추', '▁가까워', '▁중요하게', '▁페트로', '▁토대', '청소년', '板', '▁지배자', '하곤', '▁알렉스', '▁전년도', '▁이동하는', '▁소식이', '▁박람회', '▁했다는', '▁조롱', '▁부인은', 'EST', '▁류큐', 'Ed', '▁분석을', '▁진행한다', '丹', '乙', '억원을', '▁인구밀도', '▁클레이', '김씨', '▁거치면서', '▁지점에서', '▁1869', '▁떡', '▁장남으로', '▁담보', '▁직위를', '▁공화정', '來', '▁세네갈', '▁것이지만', '▁복소', '▁갚', '▁공고', '수소', '미트', '▁히브리어', '▁쓰루', '하느냐', '감사', '▁등에게', '블레', '▁생산을', '▁최적', '▁로마에', '▁CS', '▁신앙을', '▁피를', '▁하도록', '출판', '▁동등', '▁굴절', '▁참수', '▁동맹국', '連', '▁천천히', '▁아미노산', '▁자리하고', '몬트', '▁암컷은', '▁하급', '▁아즈', '세조', '▁분광형', '▁하얀', '▁대표를', '▁한사람', '▁유우', '분까지', '들었다', '원리', '▁고집', '▁도박', '群', '察', '▁떠난다', '▁언어학', '▁유형의', '▁시장의', '▁EX', '▁정의는', '(1999', '▁방어선', '▁받았던', '▁공간에서', '▁시청자들', '▁무승부', '▁롤링', '▁College', '▁메릴랜드', '▁의사소통', '(1986', '▁완성되었다', '▁비중을', '▁해치', '▁올림픽의', '▁줄어들었다', '▁난이도', '▁그외', '▁파견하여', '▁레드삭스', '▁압록강', '邊', '▁군중', '▁영어를', '▁피지', 'tus', '▁이자', '▁표현은', '▁오키', '▁몰두', '▁집착', '▁느끼는', '▁지진이', '▁발동', '▁모습이다', '▁아빠', '第', '僧', '▁맏아들', '▁여론조사', '권력', '청구권', '▁스트라', '▁준결승전', '카쿠', 'GP', '▁시멘트', 'ble', '농구', '▁어머니와', '▁막판', '▁근본적인', '▁Per', '보물', '▁서사시', '▁철저한', '▁농산물', '▁과학자들', '▁여지가', '원칙', '▁근대적', '가능한', '노바', '▁마르티', '▁대제', '▁방지하기', '▁아브', '▁128', '▁수차례', '▁차를', '▁클럽의', '▁지켜보', '▁씨가', '▁암스테르담', '初等學校', '쳤', '▁전주시', '▁대지진', 'ech', '마르크', '▁바이킹', '▁달라진다', '▁입각', 'bus', '▁샘플', '유리', '▁인기있는', 'Te', '▁것일', '▁교회에', '▁OB', 'ula', '▁병이', '▁틈', '능력을', '▁빅뱅', '▁되므로', '밀리', 'IR', '▁검찰은', 'los', '달라는', '▁교회가', '▁박지', 'eu', '합성', '▁증폭', '▁쏘아', '▁느끼게', '▁녹화', '▁맛을', '▁급히', '▁강화를', '마니', '▁타케', '▁여파로', '▁천마', '▁중요시', '▁맞춘', '▁1867', '▁절감', '▁분류한다', '▁동서로', 'PR', '▁페트', 'ater', 'ii', '▁단체의', '▁연구자들', '▁살기', '▁우간다', 'sy', '싯', '死', '순이', '▁수심', '▁프린스턴', '▁측정하는', '▁스탠', '▁경쟁력', '▁논리적', '▁원칙적으로', '▁공안', '▁시장이', '▁상에서', '구미', '▁넓고', '선택', '번이나', '功', '▁허목', '▁집행유예', '▁브뤼셀', '총관', '▁마이어', '▁받았는데', '▁소설이다', '▁회장이', '▁간혹', '▁옮겨졌다', '▁분류하고', '▁히어로', '▁사형을', '▁확정되었다', '타수', '▁멜버른', '탬', '▁돌연변이', 'har', '▁시트콤', '▁열기', '▁간호', '▁총통', '▁북유럽', '▁자라는', '▁명령에', '어졌다', '▁코드는', '▁시외버스', '▁일산', '～', '▁객원', '(1994', '▁개칭되었다', '▁포도당', '페리', '▁클럽으로', '▁김대', '▁내린다', '▁역도', 'Car', '▁텐서', '▁쪽은', '▁결과물', '▁전달하는', '▁김인', '▁배척', '▁보낼', '▁고유한', '▁정도에', '▁남조', '学', '▁병조판서', '▁딸과', '▁단속', '▁한인', '당해', '▁2~3', '▁긴키', '▁코시', 'mp', '▁다리가', '▁피할', '▁완결', '▁도르트문트', '▁토미', '오키', '▁백악기', '▁스위', '비츠', '▁수사를', '▁효율성', '무용', '▁견디', '사토', '▁클루', '▁직계', '▁서산', 'pri', '패스', '▁지위에', '▁보호하고', '퀼', '▁문자열', '▁제갈', 'gar', '▁젊은이들', '즐리', '▁위패', '▁전구', '연구회', '▁생각한', '▁모터스', '▁장난', '▁본부를', '▁사무국', '▁Cl', '▁기관이', '지역을', '▁450', '▁독일에', '▁산업은', '▁프로그램인', '기아', 'TM', '▁결정전', '▁리얼', '셈', 'BE', '▁화성시', '▁순서로', '▁자료는', '페인', '▁반정부', '플레', '관계에', '▁있었다는', 'duc', '푹', '▁우에스기', '▁갈라져', '律', '▁실각', '▁체제의', '▁미세', '발트', '▁외형', '▁저항을', '▁Girl', '지법', '▁성단', '연패를', '▁카피', '▁운임', '밋', '▁상파울루', '▁결합하여', '▁단계로', '▁박영효', '▁그것의', '포항', '▁사관', '▁악보', '형무소', '』(', '바드', '▁컸', '블라', '▁용어가', '▁새끼를', '船', '▁지도자로', 'GE', '순양함', '▁김정은', '▁자녀를', '자루', '▁반대하였다', '▁강의를', '▁주머니', '▁특전', '▁유희', '▁끼고', '어사', '▁봉우리', '므', '▁램프', '▁집전', '▁3-1', '노카미', '리히', '토크', '▁자서전', '타라', '▁외무부', '정조', '▁마법사', '부정', '▁자원을', '▁발의', '▁각자의', '평의회', '▁대좌', 'Ga', '▁선진국', '▁뿌리를', '▁피치', '▁주었고', '레르', '▁회귀', '▁기슭에', '▁코호몰로지', '▁장관이', '(1998', '▁보자', '오사카', '▁각지에', '▁컴파일러', '▁여러번', '▁윌리', '▁Your', '▁발목', '▁운행이', '▁회원들', '▁고딕', 'lat', '▁최장', '▁결제', '▁복종', '리터', '▁벗어난', 'HS', '▁벌이는', '▁속력', '▁요구하였다', '▁달했다', '▁시에는', '▁박상', '▁작품인', '▁여성을', '▁노래가', '▁여타', '20,000', '▁변호', '▁찍어', '▁프란치스코', '엥', '▁허블', '▁레인저스', '▁IOC', '▁붕', '▁동메달', '▁성장했다', 'qua', '▁설계되었다', '▁종교의', '▁스티', '슨이', '▁분단', '▁연루되어', '▁악의', '▁버터', 'ular', '런스', '▁El', '▁격려', '▁충무', '학습', '샷', '貴', '\"()', '▁객차', '떨', '▁ST', '▁의회에', '보전', '▁예정인', '▁고추', '▁원소는', '▁나트륨', '그마', '조제', '▁필립스', '날개', '마리아', '▁제안한', '▁겨울에', '▁해왕성', '▁대표자', '▁미토', '0.0', '•', '협연', '▁도입했다', '▁제동', '▁루비', '▁쪽이', '▁효과는', '▁지내는', '▁구단은', '▁이해하는', '▁추존', '▁1-1', '皇帝', '출력', '▁위원회는', '▁머리카락', '▁토트넘', '▁철강', '▁유로파리그', '▁사치', '▁없었지만', '▁현대자동차', '섹', '▁알아내', '▁형제들', 'Ra', '▁났다', '▁걸리는', '▁모신', '藤', '믈', '▁넥센', '▁양조', '▁달아나', '위원회에서', '▁틸', '▁대공국', '▁태생의', '받침', '▁국내에', '▁중량', '▁좋았', '運', '淵', '캅카스', '지진', '▁공수', '▁주변에서', '▁승강장으로', '▁기관이다', '▁미친', '▁지방산', '▁따르지', '▁오자', '호프', '미네', '▁마셜', '▁참의', '▁청룡', '▁1875', '_24', '▁찌', '▁경상북도의', '▁나르', '▁받아들이지', '▁광복군', '始', '▁시민들', '▁급속', '▁북한이', '▁문하', '▁급증', '▁우치', 'ding', '▁병사를', '▁총리로', '▁응급', '▁클리어', '▁장래', '▁거절하였다', 'eng', '▁흥분', '보트', '▁숨을', '▁유니버설', '▁소말리아', '珍', '▁합격하여', '▁장단', 'wi', '▁신학적', '▁장소를', '▁영국이', '▁월트', '올리', '▁행해진', '▁추정되며', '▁알맞', '▁관내', '또', 'UTC', '▁백신', '▁Cha', '▁좀더', '−', '▁포럼', '(1995', '▁띤', '▁나누는', 'Or', '▁코리', '▁스퀘어', '▁영국으로', '▁대접', '▁취임한', '▁복위', '전용', '▁존재로', '▁혼자서', 'Wh', '▁대중화', '방송국', '▁은하의', '▁MSL', '수면', '▁지시를', '▁Com', 'SQL', '▁밀가루', '▁Wii', '▁알렉산드로스', '▁물러', '▁항만', '▁자세를', '▁견고', '▁정의된', '▁메일', '▁살아남은', '▁끝나면', '전설', '▁퍼스트', '▁적용되는', '@', '衆', '▁호르몬', '아니', '▁도키', '▁대나무', '▁로마자', '▁아메', '▁안산시', '▁보이게', '▁친구가', 'nal', '▁he', '▁환관', '▁그리는', '▁멋', '럿', '▁125', '▁멤버가', '▁높았다', '맑', '▁증상이', '▁공산주의자', '▁스텝', '▁참가해', '위치', '▁후쿠오카현', '옛', '▁단군', '▁광범위하게', 'RP', '▁1592', '▁Park', '▁기록과', '▁법관', '시트', '▁금전', '▁종목에', '▁설치했다', '▁관성', '농민', '▁대덕', '0000', '▁자진', '久', '塔', '▁펠리페', '스트리트', '▁강행', '▁대전차', '▁USB', '▁아닐', '▁칙령', '▁겔', '운동이', '▁복역', '▁카사', '▁봐', '▁드물', '▁자켓', '▁현존', '데다가', '리프', '▁탄자니아', '▁엑스박스', '▁프로그램에서', '▁증오', '▁원활', '▁철학과', '▁거절했다', '틱스', '▁트래', '당하였다', '▁기록이다', '▁총리는', '▁오늘날까지', '티오', '하기까지', '▁배역', '▁자오', '강화', 'rop', '굽', '▁혼혈', 'Ju', 'Mon', '▁관현악단', '키오', '▁겪은', '▁군도', '▁반응은', 'lis', '▁지질학', '▁공예', '젊', 'OM', '▁안채', '페어', '▁GNU', '▁서리', '▁Ta', '▁학력', '▁계주', '덜', '▁않다고', 'ux', '▁종식', '▁카리', '▁노랑', '▁표정', '▁널', '▁그림은', '▁도자기', '台', '▁데스크톱', 'Mi', '▁군벌', '현종', '경남', '▁%', '▁깎', '▁나이는', '역까지', '▁은혜', '▁취득하였다', 'Sp', '▁상서', '▁사운드트랙', '▁쇠고기', 'ros', '▁살펴보면', '▁숫자는', '▁출자', '▁내보내', '하신', '지역으로', '▁목소리가', '▁강사', '카노', '▁있었', '연패', '▁신문사', '▁보트', '드르', '▁사안', '▁그레이트', '▁각성', 'ria', '바니', '▁JTBC', '越', '▁이론과', '겼으며', '▁별명', '▁집안에서', '▁도산', '▁가르치는', '▁과시', '▁http', '▁조직은', '▁도둑', '▁둥글', '▁무산되었다', '▁검사를', '▁원유', '▁사이먼', '復', '▁3.5', '▁룸', '▁그때까지', '▁주장도', '▁그래', '▁세번째', '▁신지', '▁장쑤', '들러', '▁홀리', '▁보이지만', '▁구성하고', '▁유전적', '▁제작했다', '▁병력이', '리어스', '—', '▁마이애미', '淳', '▁단계에', '▁지면', '▁체르', '아미타', '▁단단', '▁적당한', '▁THE', '▁교육과', 'rin', '▁주변에는', 'Un', '▁칸국', '하우', '▁팔작지붕', '▁유족', '돌고래', '▁삼중', '▁광고를', '명씩', '브란', '▁기장', '▁정차한다', '▁관현악', '▁클럽은', '▁최선', '팀으로', '▁루이지애나', '볶', '▁이동할', '(1985', '▁취리히', '▁극도로', '주교', '▁대항하는', '▁직행', '▁TBS', '▁복직', '▁옆으로', '▁쳤다', '▁발매됐다', '▁용의자', '▁재차', '▁제작하였다', '▁본체', 'Na', '▁주나라', '▁Bar', '職', '▁회장으로', '▁게오르크', '港', '구나', '▁안장되었다', '▁뜻에서', '척을', '냈는데', '▁신기', '여우원숭이', 'ju', '▁가기', '▁보성', '▁부상자', '▁공개하였다', '▁므', '테아', '▁왕정', '▁전원이', 'mal', '▁철종', '▁당황', '여래좌상', '▁볼티모어', '▁에른스트', '▁허난', '▁탁월한', '▁노선에', 'cu', '▁숙주', 'Qu', '▁Club', '▁정보통신', '▁이현', '▁과연', '▁EBS', '▁꽂', '▁상정', '▁김승', '크리스', 'KO', '▁무시하고', '▁스칸디나비아', '境', '▁기술로', '연기', '▁교회는', '했으므로', '▁결성한', '▁국제법', '▁공개적으로', '▁세계유산', 'atus', 'dia', '▁온도는', '▁주임', '▁설명하기', '▁밀도가', '▁연정', '▁평탄', '▁청송', '▁여진족', '▁테네시', '▁펌프', '▁조현', '▁화를', '▁추정하고', '▁호스트', '▁반죽', '▁리믹스', '▁사용하던', '▁화자', '▁보이기', '됐지만', 'ower', '·3', 'vin', '▁수목', '▁빨간', '시키면', '▁충분', '▁대표가', 'κ', '▁리그로', '▁공휴일', '▁묻혀', '▁어시스트', '▁불사', '여우', '▁면모', '묘지', '▁진행되어', '▁재팬', '▁임명되었으며', '▁명확하게', '▁퇴장', '▁명령했다', '▁가문이', '▁그녀와', '▁띄는', '▁황산', '틀란', '▁곱셈', '▁세웠', '쓰키', '▁게시판', '버려', '▁백업', '기병', '▁전역을', '▁Ge', '▁패하여', '(2017', '▁치명적인', '▁1840', '짐에', 'ition', 'ani', '▁넬슨', '높', '댄', '로부터의', '▁수요일', '학교에서', '▁출동', '해지면서', '▁불렀', '▁것들을', '▁이전하였다', '▁시스템에서', '스포르', '▁지바현', '닷', '▁비스타', 'cr', '▁가오', 'ラ', '▁오시', '▁군사력', '▁요소로', '▁각료', '수리', '▁말의', '브룩', '타마', '▁브리지', '▁규명', '▁CA', 'gan', '▁녹색당', '▁있겠', '▁장자', '▁대비하여', '▁셰익스피어', '▁다쓰', '▁모나코', 'ava', '▁있듯이', '마디', '▁특기', '▁줄이기', '▁초록색', '악산', 'don', '▁사주', '▁가공의', '▁기와', '▁프로야구', '▁관행', '▁감추', 'Michael', '▁말하자면', '▁몰도바', '▁마운트', '▁치뤄', '알라', '달라', '▁남편이', '▁유명하며', '▁이언', '▁그릴', '▁개인적으로', '▁유래한다', '링턴', '▁인산', '▁인적', '▁135', '▁증가했다', '▁고쳤다', '▁디비시온', '▁인공위성', '▁아는', '무덤', '▁교과', '▁늦은', '▁팀이다', '▁아다', '학교에', '▁축구팀', '▁맷', '▁소외', '두더지', '냈으나', '▁임명했다', '보존', '▁퇴위', 'lf', '▁오미', '▁점유율', '케스', '友', '샴', '▁등단', '▁공방전', '▁즈', '~12', '▁여진', '▁이모', '▁성으로', '▁방어율', '텔라', '▁행위는', '모드', '▁예로는', '▁대륙의', '▁항공사로', '▁취한', 'ray', '▁강에', '▁아이들을', '▁시도했다', '▁1200', '▁등등', '▁승용차', '▁인도차이나', '▁CM', '▁요청에', '▁조례', '▁인도에서', '▁선고받았다', '▁청량', '▁지명되었다', '▁단결', 'cho', '하듯', '갔지만', '---', '▁경매', '본명', '▁연설을', '▁본인은', '▁이루어졌', '▁구조적', '▁입단하여', '▁지나면', '하트', '팟', '▁정당화', '▁입어', '▁넓어', '▁다우', '莊', '種', '▁번갈아', '純', '▁출연한다', '▁발착', '▁불완전', '▁가격은', '▁퐁', '▁결승골을', '▁레이싱', '▁1874', '방어', '▁혁명이', '▁제시하였다', '斗', '提', '▁플래티넘', '▁산티아고', '禹', '祠', '▁희귀', '▁사민당', '▁뛰어넘', '▁이승만은', '▁나타날', '▁진행을', '▁죽여', '▁von', '~17', '▁측이', 'kr', '▁떠돌', '▁찬사를', '둥이', '▁조화를', '▁전단', '▁부의장', '▁인해서', '▁오만', '▁지방자치단체', '학술', '▁기원은', '▁공헌을', '슘', '▁김선', '또한', '父', '▁이산화탄소', '렝', '▁진을', '▁수열', '▁야마모토', '▁출입문', '▁중심을', '▁불량', '거래소', '▁성립된', '▁60%', '천초등학교', '▁내분', '▁판매되었다', '▁훈장을', '성종', '▁애니메이션이다', '뜨려', '▁말린', '▁베풀', '▁구간에', '▁위치로', '▁황제는', '▁만날', '▁자외선', '赤', '▁물러난', '▁계량', '삼국유사', 'gr', '▁러시아군', '슴', '▁놓아', '▁경계에', '▁재구성', '측에', '▁전쟁과', '브루', '▁국왕이', '서면', '싸움', '▁비평가', '▁발행하는', 'bin', 'We', '▁당선되어', '▁못하도록', '▁Cor', 'fu', '구단', '▁아이즈', '▁계통의', '▁초콜릿', '▁비율을', '▁체인지', '▁철학을', '청년회', '악장', '▁동인도', 'BR', '레트', '▁운수', '▁아들들', '▁유대인들', '드래곤', '▁영토로', '▁나지', 'kin', '▁한다면', '▁공격할', '▁라틴어로', '▁독일군은', '▁이외', '댄스', '관계가', '▁연관성', '▁우상', '냄', '▁더블린', '▁소자', '▁몰랐', '▁자립', '▁화요일', '▁심지어는', '▁가능성도', '▁CR', '▁요구에', '곶', '▁풍습', '변수', 'ott', '▁야마구치', '모임', '▁수요가', '▁식용', '▁한달', '▁«', '횡', '자마자', '▁과테말라', '▁날카로운', '▁상록', '▁활동했으며', '▁파시즘', '▁종자', '▁문단', '▁장제스', '▁원칙에', '▁도출', '광무', '▁행해지', '대중', '▁아랍에미리트', '▁리조트', '▁미니시리즈', '실록', '▁색이', '전사', '여름', '▁쌍성', '▁관상', '▁동물원', '춰', '▁정당이', '▁올리브', '▁거칠', '▁활용하여', '▁여권', 'George', '▁양자역학', '▁Open', '▁이름도', '베트', '▁김성수', '▁씻', '▁미시간', '▁죽음으로', 'time', '떼', '육군', 'Good', '▁향상을', '▁안전성', '▁아무리', '▁단체전', '▁작업은', '▁여우', '▁손녀', '▁사비', '지식', '▁서울고등법원', '町', '▁클레멘스', '▁틈을', '▁종로', '현감', '선거구', '▁선언을', '▁덧붙였다', '▁살짝', '▁개를', '등과', '소유', '▁메디', '▁1877', '▁사업이', '▁여학생', '레타', '▁토모', 'HI', '▁강령', '▁생활에', '▁기호는', '▁싶', '었으므로', '舊', '喜', '▁리우데자네이루', '▁헤라클레스', '▁Up', '심리학', 'gre', '▁봉인', '▁단계를', '▁돌기', '▁개편되었다', '▁지분을', '▁조영', '▁늪', '▁사이타마현', '▁SNS', '▁선우', '▁안개', '▁내며', '7,000', '▁어머니를', '왈', '▁아이콘', '▁작사가', '▁출연해', 'ration', '씌', 'uth', '▁반란이', '▁찾지', '▁전당대회', '郭', '舞', 'All', '▁전적으로', '▁잡아먹', '▁소재한', '▁자기가', '▁섹스', '이야기', '▁인구조사', '▁전하고', 'lie', '▁행동이', '▁관장하는', '▁아프리카계', '▁이준', '▁대리인', '삼존', '쓰나', '▁바꿨다', '▁움직일', '▁쿠웨이트', '▁부장판사', '▁습득', '퍼트', '▁처형당', '▁상단', '▁그만큼', '▁한복', '▁순서대로', '▁시행된', '▁XP', '수상', '▁연주를', '▁실험실', '▁발산', '▁성행', '▁부다페스트', '▁애비뉴', 'ま', '(1982', '▁양대', '▁예정이었다', '▁쿠르', '▁무단', '좌상', '▁매진', '▁배치된', '▁시리즈이다', 'dom', '자신', '▁지장', '런트', '▁연관된', 'Po', '▁회사에', '▁보며', '▁108', '▁예멘', '▁수준을', '▁차세대', '日本', '▁위력', '▁구조와', '▁있었음', '▁톱니', '▁속해있', '때부터', '전화', '▁나우', '▁둥지', '▁시작되었으며', '▁병원에', '▁구성은', '▁달러에', '▁재난', '近', '▁밀어', '쵸', '▁휴대전화', '▁총기', '▁IV', '▁인정받았다', '▁후손들이', '▁기원후', '용량', '▁적발', '▁체결했다', '▁기념하는', '載', '▁주먹', '▁초까지', '衣', '▁라인업', '▁경찰청', '▁고성군', 'yc', '學校', '▁현대적인', 'ule', '해졌으며', '▁Part', '▁없어진', '스쿨', '액은', '▁컨트롤러', '▁#', '▁고향으로', '▁동산', '▁믿는다', '▁한문', '▁일반적이다', '▁요양', '▁강당', '랐', '토요', '▁자격이', '되었는지', '▁오쿠', '▁오세아니아', '▁피핀', 'lock', '크로스', '들이었다', '▁짐승', '림사', '▁모모', '번지에', '▁한창', '▁남자가', '잃', '▁투여', '▁가면라이더', '▁저그', '▁아이디', '▁치유', '▁서위', '▁신인상', 'let', '▁공간이다', '▁국민들의', '▁버린다', '▁순양함', '允', 'Charles', '具', '▁서포터', '▁동안에는', '▁이들에게', '▁왕에게', '만으로는', '▁쿄', '▁평가가', '▁떠났', '▁신봉', '▁언어가', '벼', '▁거리의', '▁해준다', '파티', '▁랜드', '▁승진했다', '▁도미니카', '▁sh', 'HD', '▁켄트', '브리지', '▁의회가', '▁마니', '예산', '계수', 'lect', '▁나눈', '▁주부', '기금', '▁파란', '갔는데', '행렬', '▁기관으로', '▁의주', '▁위계', '▁생성되는', '▁기여한', '스마', '▁동탁', '▁던진', '奇', 'に', '▁함경도', '소련', '글라', '▁두드러진', '▁농지', '▁가문을', '▁Night', '▁부총리', '화산', 'tive', '▁개최되는', '사단은', '▁북극점', '▁Boy', '▁다이노스', 'olf', 'ert', '▁뉴저지', '▁감찰', '▁키릴', '▁배반', '내면', '인당', '▁리프', '▁투하', '▁노스캐롤라이나', '공학과', '▁4000', '▁학술적', '이어야', '▁발기인', '▁파랑', '▁비싼', '▁절대적', '▁초안', '▁사회과학', '▁멀어', '▁내려오', '셉', '▁강서구', '▁니가타', '▁무안', '▁북서부에', '▁월터', '▁그러다', '회말', 'pho', '(1984', '▁좋아한다', '▁뚫고', 'NL', '▁원소의', '▁때려', '▁초부터', '▁1879', '▁프랑코', '▁이어지고', '▁부임하였다', 'Ne', '마켓', '▁끝난다', '▁킹스', '▁특사', '기갑사단', '爲', '▁헤르만', '▁죠', '臨', '꽃차례', '▁영정', '▁군대와', 'IE', '▁톨', '▁장치가', '▁유포', '▁내포', '▁밖', '▁아드리아', '▁IN', '▁미카엘', '상속', '▁시위가', '▁대통령직', '▁공세를', '▁문헌에', '_23', '▁아들이며', '▁후지와라', '▁705', '▁굴복', '▁급진적', '▁노벨상', '隆', '▁휩싸', '까마귀', '▁들어서면서', '사범학교', '▁않았을', '▁케이프', '▁발탁되어', '~14', 'arr', '▁유서', '▁신세계', '▁집합을', '▁AI', 'Ex', '▁멍', 'ら', '닷컴', '▁야쿠르트', '(1981', '▁도망치', '▁공과대학교', '▁서양의', '▁끼친', '▁이항', '장소', '▁토크', 'bert', '▁수시로', '▁모반', '메틸', '▁사수', '▁파편', '학자들', '▁풀이', '▁대규모의', '▁Live', '▁몸돌', '방정식', '▁보너스', '▁Center', '▁프레임워크', '▁충실', '▁생리학', '▁제후로', '▁떼어', '▁받아들인', '▁유학자', '늑대', '5.5', '▁끝내기', '▁과천', '창군', '(1996', '마키', '▁첩보', '▁아내와', '▁가운데서', '▁고시엔', '▁받아서', '약품', '▁근로', '▁예종', '▁건립된', '▁조조는', '자들에', '▁0.2', '▁결사', '_22', '▁Ad', '▁교류를', '▁간판', '▁퍼즐', '▁3-0', '▁인상적인', '만명이', '▁나간', '▁진주시', '▁자신들', '노스케', '▁선정된', '▁미시', '▁정정', '프랑', 'mann', '멧', '惡', '공업고등학교', '▁온타리오주', '▁사간원', '▁119', '▁와카야마', '▁등급을', '▁말도', '라이즈', 'lay', '▁진출하여', '▁발렌', '▁지하역', '회의를', '▁문자로', '▁모세', 'uel', '▁황제를', '▁첸', '북한', '▁거주한다', '▁공화국이', '▁성능이', '▁붕어', '▁플랑크', '蓮', '▁발달하였다', '▁넘어갔다', '▁종이다', '▁교회와', '교환', '▁설정되어', 'uss', '▁없음을', 'ics', '▁밝혀져', '▁0.3', '特', '▁캐릭터로', '▁흑백', '▁from', '▁패럴림픽', '▁프랜차이즈', '▁피라미드', '▁자유한국당', '▁이주한', '▁용산구', '▁헌납', '▁가르쳐', '▁되었다가', 'ool', '건강', '▁사모', '▁예선을', '▁기울어', '▁α', '▁나무를', '▁제시했다', '▁합금', '▁만인', '층에는', '▁내셔널리그', '▁일차', '▁공용', '▁중국에서는', '▁학생들에게', '▁호크', '▁선대', '성당', '년째', '▁늘려', 'cent', '성적', '탈리', '▁기쁨', '▁조나라', '베크', '▁배향', '▁조경', '대회를', '복합', '▁힘썼다', '▁염기', '▁바다를', '▁배달', 'ors', '진화', '장애인', '▁순례', '백화점', '▁기반이', '▁검정', '▁무네', '▁노동운동', '澤', '毛', '잣', '▁구단이', '▁버드', '▁iOS', '▁Ju', '▁에어로', '▁공주시', '▁선비', '▁즐기는', '▁반감기', '▁야구부', '▁기업들', '▁루스', '▁참여하지', '▁National', '오늘날', 'TL', '챈', '▁프로모션', '▁신민당', '▁자판', '스페인', '▁FK', '▁뢰', '▁차지했고', 'ated', '▁폐지하고', '▁소련과', '▁기록하였고', '마당', '▁En', '▁기타를', '▁하동', '▁키르', '▁승리하였다', '▁드는', '▁예조판서', '륜구동', '▁신한은행', '▁조약으로', '플라이', '루프', '오름', '▁책임이', '▁전투로', '▁프린스', '현실', '스타일', '▁퉁', '▁읽을', '▁지평', '▁들려', 'III', '수송', 'Ni', '▁북벌', '▁시작되는', '▁몸체', '▁입구에', '문제를', '▁상태는', '▁플러스', '▁보기도', '▁취해', '▁승하', '▁웃음', '▁마나', '▁패해', '▁빼앗기', '▁몸무게', '▁오스틴', '▁올림', '▁열세', '▁치우', '▁정국', '▁아틀레티코', '▁중소기업', '住', '슈타트', '▁중앙아메리카', '▁셰이', '▁평론', '▁이겼다', '▁꺼내', '▁독립군', '▁배리', '구멍', '▁바디', '▁반동', '▁플로리다주', '▁등장하지', '▁HTML', '▁과학자들은', '▁하늘을', '▁가해자', '▁숫자를', '▁길러', '▁유래는', '▁수분', '▁장악하고', '시킴으로써', 'ude', '▁사라지고', '▁헌터', '▁정신과', '▁종묘', '▁미스터리', '▁인지도', '▁걸린다', '▁자녀들', '▁죄수', '▁패트릭', '▁핸드', '▁작전은', '▁단체가', '▁교부', '들처럼', '▁배워', '▁특성상', '▁몸은', '욘', '▁지켰다', '밀도', 'san', '▁사명을', '▁개최한', 'inal', '▁계승한', '▁선제후', 'ony', 'cre', '▁끝나는', '자산', '▁거쳐서', '▁국사', '으리라', '▁이것에', '▁수수께끼', '煥', '뵈', '나이트', '▁친위대', '▁표를', '▁교통사고', '▁눈물을', '▁아츠', '▁통영', '그루', '렐리', '▁윤씨', '▁왓슨', '▁스킬', '▁주도이며', 'COM', '▁여름에는', '▁자연수', '▁지탱', '▁추억', '두리', '▁썼', '시우스', '도르프', '▁만들어지는', '▁보였고', '▁자연수이다', '▁익스플로러', '▁페르난도', '▁파견되었다', '▁개그맨', '大學', '▁3.0', '성장', '▁회유', '▁역할이', '▁새우', 'king', '▁이름에', '▁기술과', '▁1859', '▁투쟁을', '▁증가하였다', '▁공화', '▁성화', '▁나빠', '▁구체적', '▁무역을', '▁고마', '냈으며', '▁인터뷰를', '옴', '▁맹활약', '座', '▁내세워', '▁스타일의', '▁필수적인', '학당', '▁대중교통', '▁구단주', '▁남군', '▁유카', '▁강력하게', '▁콜레', '▁팔레', '》,《', '▁윤휴', '▁대중의', '▁발전과', '▁나타나기', '▁하나씩', '▁하반기', '▁자신만의', '▁남매', '▁화려', '▁선언하고', '▁부천시', '▁김연', '▁여기는', 'MX', '▁초당', '▁안방', '▁숀', '▁속했다', '▁공부했다', '▁심문', '협동조합', '▁뜻하며', '▁신화에서', '▁규정한', '▁내기', '▁채굴', '▁캉', '▁이주했다', '▁라이너', '▁태평', '▁스캔들', '젯', '▁대니얼', '▁모차르트', '▁튀르크', '참여', '▁sp', '▁경무', '▁배우고', '▁침대', 'NH', '▁하얀색', '▁삼진', '▁참여를', '▁그러면', '▁Act', '르카', '▁레이디', '▁역임했고', '▁des', '▁사이타마', '▁개봉된', '▁단체들', '갔던', '▁워커', '▁니키', '동리', '▁송환', 'tz', '訓', '▁1.0', '精', '▁영유권', '▁통합되었다', '▁베르나르', '▁맡는다', '▁회장은', '쥐속', '▁암살당', '회담', '극단', 'Man', 'BT', '▁GT', '▁왕조가', '▁단거리', '▁물결', '▁톰슨', '▁살아가는', '▁논의가', '▁타도', '▁낚시', '▁트레이닝', '▁시상식에서', '▁위원으로', '▁국가들은', 'Eng', '원들은', '▁양수', '▁수나라', '자리를', '▁내놓았다', '▁토기', '▁나타내기', '▁비롯되었다', '▁의원으로', '▁정형', '▁가던', '▁조지아의', '▁영어권', '▁원정을', '▁꾸며', '▁강릉시', '▁물과', 'lex', '▁자궁', '▁인물은', '▁뱃', '▁손잡이', '▁바로크', '▁항로', '▁Te', '▁원소들', '▁설계된', '▁도하', '덕왕', '▁일본식', '▁do', '▁덩어리', '▁비단털쥐과', '▁요하네스', '▁거꾸로', '▁선보인', 'ele', '▁내란', '▁잔존', '▁오른쪽에', '▁서사', '그린', '▁연화', '▁지린', '플렉스', '▁음절', '▁사실에', '▁위치하여', '삼국지', '리아스', '인터넷', '▁제한이', '▁장애물', '▁투신', '주머니쥐', '▁Dr', '▁거미', '학기', '▁자체에', '▁공통점', '▁증가하는', '球', '▁스맥다운', '▁보어', '▁포르노', '▁스토어', '보장', '▁취소되었다', '▁건물들', '▁토목', '▁화장품', '▁지청', '▁자식들', '▁여론이', '▁가톨릭교회의', '▁퇴적', '▁바람이', '▁지배권', '▁Inc', 'Great', '스테이트', 'stro', '▁학명', '▁고난', 'ano', '▁페르디난트', '▁에바', '▁통하는', '▁와세다', '▁않으므로', '▁근위', '▁내용과', '▁에페', 'itch', '▁화상', '▁무사히', '▁점성', '▁믿어', '▁김천', '▁회사로', '▁주장으로', '▁현재까지도', '▁나왔', '▁장난감', '▁혜택을', '샐', '▁조준', '高麗', '▁정해져', '▁골격', 'less', '▁아들이자', '(《', '▁시문', '▁대사를', '국민당', '▁선택한', '평등', '수입', '▁태양과', '▁제노바', 'ries', '▁시간과', '▁출간되었다', '▁방어를', '▁구금', '사람들', '▁당국은', '▁배양', '▁청동기', '▁우연', '尙書', '足', '▁민물', '▁사단은', '▁지배하에', '캉', '계약을', '▁득점왕', '▁점도', '▁마다', '▁전면에', 'och', '▁닉슨', 'yr', '▁외척', '▁제거하고', 'ks', '▁CH', '防', '▁책록', '▁서예', '▁방정식을', '▁브리튼', '▁편안', '▁심어', '▁0.5', '▁처리하는', '▁작가가', '▁Str', '▁경전철', '▁프랑스군은', 'UI', 'ations', '▁얼굴에', '▁190', '秋', 'ς', '贊', '▁구스타프', '▁근거하여', 'OT', '▁미래를', '▁씨족', '▁Ste', '▁신탁', 'non', '▁교통카드', '▁파주시', '▁모셔', '▁토마토', 'UM', '▁크리스티', '▁이규', '미즈', '▁쫓', '▁듯하다', '▁속주', '▁싸웠', '▁태수', '▁종양', '네트', '▁드루', '▁점검', '▁보편적', '▁큐브', 'リ', '▁두꺼운', '▁배치되었다', '▁금동', '(1980', '▁유니버스', '▁네트워크를', 'other', '▁아시리아', '▁앵커', '▁시민권', '▁Her', '운동장', '사슴', '분경', '▁로빈슨', '▁떨어', '▁지르', '||', '▁컴파일', '윗', '버리고', '▁죽이는', 'rr', '▁구마', '▁증조부', '▁깃털', '▁쫓겨', '▁역사학', '▁후대에', '▁호크스', '▁영화화', '▁이메일', '▁무사시', '▁공장을', '▁State', '▁보름', '▁걸작', '▁회사에서', '▁임계', '▁인정을', '기관이다', '▁배분', '▁팔꿈치', '똥', '캐나다', '▁생각하여', '▁장악한', '세이브', '▁분쟁이', 'je', '▁변질', '▁카이로', '▁재벌', '▁형조판서', '▁자리매김', '범위', '▁튼튼', '▁위구르', '▁남베트남', 'Mark', '차장', '▁슬로건', '▁서거', '▁사절', '▁줄리아', '▁부분군', '▁유년기', '▁현도', '▁세라', '▁합류하여', '▁가정용', '魯', '▁증명하였다', '픔', '▁부파불교', '잼', '쩌', '▁총학생회', '▁컬렉션', '▁보위', '▁않았는데', '▁지속되었다', '▁직교', '페이지', '▁분쟁을', '▁다름', '▁통과한', '▁유적지', '▁반입', '▁거부하였다', '▁헤라', '▁카바', '▁패하고', '▁동향', '▁면을', '洋', '洙', '閔', '▁종업원', '▁미수', '▁같았다', '슬레', '▁승상', '▁의사결정', '벨리', '▁눈치', '▁제이슨', 'eth', '▁바이어', '▁리프트', '▁자택에서', '▁갑작스', '▁학대', '▁유영', '▁전사했다', '▁베이커', 'ski', '▁뒤늦게', '뒀', '췄', '條', '▁허드슨', '▁보정', '▁브루클린', '▁마포구', '▁갈리', '▁거두지', '▁롬', '▁면담', '▁세이브', '▁잠재', '▁브래드', '▁반주', '▁대중에게', '분기', '호대', '▁대체할', '검찰', '▁교체되었다', '▁기온', '▁나타냈다', '▁발전했다', '하자마자', '廟', 'trans', '▁충당', '▁유지하였다', '轉', '▁짧게', '雨', '▁접전', '▁남서', '▁루크', '▁샬', '▁창설된', '타입', '▁{', '▁펼쳐져', '▁Fa', '▁에밀리', '▁드러냈다', '▁일찍부터', '▁릴레이', '▁저지른', '▁설계를', '▁모건', '▁필요하다고', '▁반대했다', '▁아나키스트', '龜', '▁드미트리', '▁카카오', '(1983', '▁핵분열', '`', '▁SV', '▁나오게', '▁행사가', '하드', '▁1~2', '블린', '▁겨울에는', '▁담당한', '▁살았', '방지', '博', '私', 'き', '고양이', '▁기업가', '▁무작위', '▁합류하였다', '▁진흙', '▁박사는', '▁원자핵', '▁다이빙', '▁크롬', '▁파견된', '▁표절', '▁미친다', '▁위생', '▁규정이', '▁동해안', '▁구역으로', '수행', '▁과격', '▁얻었고', '▁간결', '▁대교구', '▁번도', '▁개체군', 'NN', '▁별장', '▁칼슘', '公派', '▁낮고', '▁언론사', '▁간행된', 'illa', 'fin', '써', '▁공격하였다', 'ike', 'tern', '▁연예계', '루수로', '▁출품', '▁안전을', '▁요청하였다', '▁면적이', '주목사', '▁실증', '▁구멍이', '素', '▁집정관', '▁언어이다', '▁장면은', '▁대담', '▁반대하여', '▁꽃잎', '▁속하게', '▁탈삼진', '▁어려서부터', '▁장대', '▁Mor', '▁로베르', '▁AD', '▁소극적', '니치', '▁적용된', '▁시네마', '▁성공한다', '▁루피', '▁극찬', '▁주선', '마니아', '▁5%', '니스트', '′', '▁제공했다', '▁세비야', '▁조사한', 'ress', '▁대량으로', '연승을', '▁조심', 'err', '▁재편성', '▁평의회', '▁에이즈', '▁부실', '▁죽임을', '▁판정을', '▁증거는', '▁관계자는', '▁없었', '▁결정적', '▁추종', '▁개기일식', '▁픽처스', '▁한국철도공사', 'des', '▁탐험가', '▁기독교인', '▁국악', '매체', '▁깨고', '껍질', '▁애덤스', '▁유니언', '▁콜라', '▁지하에', '▁슈퍼리그', '▁증발', '브나', '▁탑재한', '慈', '▁Association', 'ida', '▁비스마르크', '▁송파구', '▁김해시', '▁학장', '원종공신', '▁단체는', '▁기지를', '▁포탄', '▁이사를', '파운드', '▁고등교육', '가요제', '▁넓이', '▁패망', '▁개인용', 'WS', '▁High', '번뇌', '▁영토가', '▁머물러', '코바', '▁자연과학', '▁실어', '▁사라져', '▁음주', '▁시스템으로', '▁지정한', '▁날려', '▁앤디', '▁이노우에', 'Thomas', '데이터', '▁야망', '▁인정했다', '▁국무', '▁변모', '콰', '▁찾아온', 'rain', '▁구조에', '▁매킨토시', '▁피츠버그', '▁데카르트', '▁둘이', '▁북동부에', '▁프란시스코', '▁전멸', '▁풀려', '▁스윙', '▁태풍정보', '▁Pre', '▁무고', '書院', '▁사례로', '▁기해', '▁화랑', '▁겪게', '▁창녕', '▁논문에서', '▁바쳤다', '▁객실', 'top', '▁발탁되었다', '▁변한다', '무사', '▁1,4', '▁돌아가는', '▁구분할', '▁산스크리트어', '▁깊게', '▁격렬', '▁입자의', 'ada', '▁아내가', '▁위법', '▁공적을', '하려던', '▁급여', '▁거두고', '▁왜군', '▁평가받고', '▁쿠르드', '▁슬로', '시드', '▁체결하였다', '▁여포', 'mes', '▁철로', '▁신진', '▁작물', '▁삶에', '분간', '보냈다', 'bar', '노동조합', '▁요괴', '▁참패', '▁겨', '▁위험성', '▁편찬한', '▁불가피', '▁뛰는', '▁이봉', '▁재해', '시설을', '해수욕장', '奎', '노비치', '▁경위', '▁만들었으며', '▁국회의장', '▁여사', '▁합성어', '기위해', '▁본관으로', '▁아이디어를', '▁발포', 'ump', '▁지경', '▁240', '▁제천', '▁나간다', '▁함량', '輔', '▁골짜기', '▁히타치', '▁도입하여', '▁노예제', '▁봉황', '▁부추', '▁대체적으로', '▁입헌', '▁단체로', '▁노르드', '▁허정', '차대전', '당신', '▁겨루', '▁여수시', '▁강동', '▁훌륭', '트리아', '▁좌우에', '▁온타리오', '養', '劇', '▁남양주시', '블루', '버러', '걸음', '(1997', '▁접근을', '▁고속버스', '▁귀국한', '▁가르시아', '▁행성들', '▁선거로', '▁마키', '▁없었다고', '▁방대한', '쁜', '▁득점하였다', '▁오늘에', 'ops', '▁공조', '▁정권은', '▁전세', '▁기운', '▁캔자스', '▁온두라스', '▁햇빛', '備', '▁몹시', '▁개최하였다', '▁선교사들', '▁제조사', '▁겸직', '▁공시', '퓨', '소문', '▁단점이', 'Hu', '▁논서', '▁농성', '▁분사', '牛', '▁로맨틱', '▁페널티킥', '▁조직된', '▁리튬', '▁빛나는', '▁우울증', '▁게이오', '▁도라에몽', '▁신청을', '아목', '▁허베이', '▁지성', '▁태극', 'ker', '▁전제로', '▁선율', '▁자수', '▁엮', '▁노바', '▁정상회담', '▁구슬', '交', '▁Science', '▁미토콘드리아', '▁무엇인가', '▁이적한', '▁사내', '▁가환환', '▁씨는', 'MR', '▁넘치는', 'ban', '▁측면을', '▁잠수', '▁대중적인', '유기', '독재', '강원', '▁정재', '▁덤', '▁관용', '▁형제가', '▁좌표계', '▁안쪽에', '▁화재로', '글로', '판사', '▁AB', '期', '▁댓글', '▁흘리', '펀드', '▁제조업체', 'Ac', '▁행동은', '▁필수적', '▁지나친', '▁분포하는', '▁수행하였다', '▁까닭', '논리', '제어', '▁이브', '▁마을버스', '▁사랑과', '▁계보', '▁내려졌다', '▁하이드', '▁조건에', '▁논리학', 'è', '세우', '執', 'ト', '▁데니스', '▁힐베르트', '▁법원은', '▁패킷', '▁버스를', '▁이같은', '▁전학', '▁양식으로', '▁개그', '1000', '▁국문', '▁세력으로', '▁천명', '▁컨텐츠', '▁면적의', '▁마을로', '보통', '좌파', '▁국호', '미드', '▁전염병', '엘리', '▁말하기를', '▁명예를', '▁나무로', '▁김제', '▁베이시스트', '▁채널을', '▁코뮌', '▁아키라', '▁캐논', 'cell', '놓았다', 'oth', '트럭', '▁케인', '▁사신을', 'ving', '▁조직하여', '▁개시했다', '▁기하학적', 'serv', '소재', 'pon', '浩', '▁경복궁', '▁연달아', '웬', '▁비율로', '그래', '▁빠지게', '▁호스', '▁기사가', '▁대한제국의', 'ect', '▁신종', '▁잠입', '▁미나모토노', '▁코트디부아르', '▁빨강', '_25', '▁정계에', '프린', '▁취하는', '▁지역에서만', '▁추가적으로', '▁원소를', 'Su', '▁연구자', '▁아침에', '▁교수이다', '▁나루', '▁비교하면', '남자', '▁교육자', '▁크기와', '▁사하', '誠', '▁베스트셀러', '▁폭넓은', '▁푸에르토리코', '▁강희제', '▁곳이기도', '▁납부', '▁이해를', '▁매립', '▁구조이다', '▁승차권', '▁무엇을', '▁두드러', '▁사태를', '▁가졌고', '곡초등학교', '▁병자호란', '丘', '마음', '▁유라시아', '▁되풀이', '▁성질이', '▁mi', '치노', '좋은', '▁반항', '세키', '▁회원으로', '▁1.2', '▁비판적', '▁상대를', '▁데이브', '▁두각', '▁실행할', 'eck', '李氏', '▁승리하여', '댕', '▁버라이어티', '뮬', '取', '▁천국', '▁줄어든', '▁쓰게', '▁센트', '▁우위를', '▁축일', '▁풀백', '차별', '고려사', 'Mus', '▁출마하여', '▁그러면서', '▁머리가', 'United', '▁Group', '蘭', '▁부위원장', '▁낭만주의', '▁뷔', '▁소나타', '▁사용했던', 'gue', '쇼와', '▁벌어졌', '▁열릴', '▁섬기', '▁돌아오는', '▁제프리', '개념', '▁하므로', '▁안고', '▁헤센', '▁지오', '▁김원', '▁그것에', '▁차트에', '▁노력했다', '▁포르투갈어', '연료', '▁참가하지', '▁뱅', '▁독립한', '情', '要', '麻', '▁신분으로', '▁정교한', '▁다국적', 'rac', '▁한번도', '▁사용자는', '▁리즈', '▁연행', '▁기본권', '블랙', '평균', '▁표현한다', '▁미드필더이다', '▁아스카', '▁일종', '조항', '▁합창', '▁아테네에서', '▁미카와', '儒', '緣', '▁제너럴', '▁바이트', '저스', '▁지자체', '▁당하는', '▁거성', '▁늘어난', '▁오스트리아군', '▁자처', '▁Sc', '▁금나라', '스칼', '▁영원한', '▁AG', '찔', '▁제공할', 'й', '▁알폰소', '▁IMF', '▁변광성', '▁묻혔다', '혁신', '▁있으니', '▁조조가', 'ATA', '청장', '▁기압', '▁국수', '▁문집', '▁한국군', '라흐', '▁자동화', '▁경영학', '刑', '▁라이프치히', '▁프리미엄', '▁셀주크', '▁따랐다', '▁경계선', '101', '▁행위에', '토끼', '▁익산', '▁완비', '넬리', '▁집중되어', '▁걸렸다', '▁출세', '▁탄생한', '▁생길', '▁경기장은', '아리랑', '▁닌자', '▁영국에서는', '▁기초한', '▁왕관', '▁딥', '▁윙어', '▁계속했다', '▁피우', 'work', '▁예일', 'ient', '▁완공되었다', '경북', '▁시민들이', '▁파이프', '▁갈라진', '▁친선경기', '▁떨어졌', '▁구멍을', '▁징집', '▁어디에', '해야한다', '▁정씨', '▁요인이', '▁지원했다', '▁인코딩', '▁백과사전', '▁엑스포', '▁정황', '▁뭐', '▁묶여', '▁차수', '▁떠날', '▁성산', '▁테베', '▁팔린', '▁법학과', '▁여기고', '2012', '▁과반수', '▁동원하여', '▁기록했으며', '중이던', '▁투자자', '▁변하지', '▁금강산', '隊', '念', '▁차가운', '▁논산', '▁광대한', '▁군인이다', '어파', '신도시', '무네', '▁바오', '원소', '▁남서부에', '▁납작', '▁나뉘었다', 'ann', '▁생산되었다', '▁습관', '▁쉴', '▁극중', '▁사람인', '▁피셔', '▁스탠드', '톨리', '▁연관이', '▁재료를', '▁4,000', '▁간단', '▁통합되어', '▁개구리', '해주고', 'http', '▁필명', '▁썩', '감정', '▁위안부', '▁게임기', '醫', '▁빨라', '▁펠릭스', '▁불명', '▁싸우다', '▁건물에', '▁지방선거', '▁정박', '여진', 'JR', 'press', '/2', '▁달성하였다', '으려고', '▁양쪽에', '리오스', '▁기억을', '▁City', '30,000', '회복', '▁근방', '▁세웠고', '▁시민단체', '전동', '▁줄곧', '▁생산한다', '▁높이기', '▁불려', '▁해에는', '▁작용한다', 'MG', '▁전해져', '시외버스터미널', '▁바비', '全州', '▁공연장', '▁활동했던', '▁강성', '겹', '▁재앙', '▁형주', '▁바뀌는', '▁재미있', '계층', '▁불평등', '以', '▁살해한', '▁권한이', '聲', '▁무로마치', '▁타인의', '▁연관되어', '▁신설된', 'LD', '▁주전으로', 'burg', '▁권유로', 'CK', '▁여부에', '단장', '▁그것이다', '▁나가노', '▁자취', '▁갈라지', '▁하비', '▁메이커', '▁못하였고', '도호부', '▁이주하여', '▁극단적인', '▁뉘른베르크', '▁석가모니', '▁파충류', '피안타', '▁앞둔', '키우스', '▁추증되었다', '▁악장', '▁성품', '냈지만', '▁Mac', '형성', '▁미미', '▁숫자가', '’()', '▁영등포구', '▁(4', '岳', '▁금환일식', '▁다비드', '▁스테판', '▁완수', 'Ph', '▁선보였', '▁목포시', '▁가독', '▁용액', '▁구획', '▁수단을', '▁농축', '▁애덤', '▁자발적으로', '▁비스', '▁사랑채', '▁올리버', '▁높았', '글자', '▁천문학자들', '▁무척', '멕', '▁부르주아', '▁단체를', '▁신석기', '시즌에', '▁대항해', '▁핸', '2,000', '▁공영', '▁경부', '▁Air', '예비치', '▁발발하자', '▁계속하여', '아우', '▁아편', '▁Pla', '카즈', '▁도읍', '▁지난날', '▁티저', '▁협력하여', '▁원주민들', '▁유식유가행파', '盛', '▁충청', '▁유머', '공동체', '▁바뀐다', '▁얻었', '▁명령으로', '▁최성기', '▁골라', '▁회의에', '트너', '▁민감', '▁싹', '▁사바나', '▁명소', '▁총회에서', '▁해결책', '▁조석', '음으로써', '▁작중', '▁룽', '▁안드레아', '▁다니며', '▁최씨', 'bor', '▁교제', '▁최진실', '▁글러브', '今', '▁부여군', '▁소수민족', '▁대대적', 'GI', '▁서머', '▁독살', '▁시인이다', '연극', '▁흑해', '▁Si', '스쿠', '체제를', '▁표출', 'iff', 'Cr', '▁종교적인', '▁결승에', '▁향했다', '淨', '隱', '▁열두', '▁첼로', '▁공장이', '▁하늘의', '▁여부는', '▁방영한', '▁지하철역', '▁하이퍼', '▁충칭', '▁농림', '▁요금소', '▁많지만', '▁선언한', '▁히스', '테라', '▁익명', '안정', '▁별명으로', '▁신시내티', '▁고지대', '▁내려와', '▁부분일식', '▁종목으로', '▁타자로', '▁능력은', '▁대장군', '▁헌장', '▁타우', 'jo', '▁합쳐져', '▁음운', '▁직관', '▁시원', '발전소', '잭', '▁규율', '▁팡', '▁띠는', '▁참석하였다', '▁인터페이스를', '▁비틀즈의', '변경', '▁레지스터', '▁제후', '▁임금이', '▁추력', '▁인위적', '▁언더', '▁시점에', '▁들지', '▁상품을', '▁Rock', '▁니콜라스', '▁떠나게', '▁유다', '▁땅에서', '▁작곡가이다', '▁취향', '▁칠성', '▁지날', '▁활용한', '▁내려온', '▁고창', '▁잃어버린', '那', '▁빠르고', '▁다가오', '▁줄리', '▁등장하며', '▁유용한', '▁모양인', '文化', '▁생산되는', '▁신뢰를', '▁고분군', '방면', '▁찾아와', '▁틀어', '웍스', '▁의식이', '근본번뇌', '▁부모는', '▁주어지는', '임금', '▁승진하였다', 'UC', '갓', '▁왕조를', '▁전선에서', '▁취할', '▁박재', '▁문화유산', '▁부진으로', '▁야심', '▁민영화', '▁반공', '▁팬들에게', '▁생성된다', '섯', '▁이민자들', '▁타이어', '▁간단하게', '▁신체적', '▁연희', '▁세력과', '▁케이크', '창조', '▁115', '키요', 'Ta', '▁위스콘신', '▁양양', '▁플레이오프에서', 'pos', '▁얼룩', 'OO', '▁가장자리에', '▁언급하였다', '▁행위가', '▁있은', '▁상위권', '▁노르만', '▁자치권', '40,000', '▁염색', '▁유무', '힙', '젓', '▁강렬한', '▁마스코트', '▁스틸러스', '▁주어졌을', '▁줄이는', '▁실수로', '웨이브', ',000,000', '수술', '▁죽는다', '▁Vol', '▁예술적', '▁호투', '▁보냈고', '▁생산하고', '▁확률이', '▁스탠리', '▁김희', '수스', '▁발전기', '▁줄이고', '▁내성', '▁근거한', '▁처방', '藩', '弼', 'Mr', '▁일으키고', '▁적절', '▁의정', '▁모멘트', '▁포스트시즌', '▁확대되었다', '▁아내인', 'Jean', '▁파커', '▁스쿠', '▁슈고', '▁참가한다', '총리', '▁확인된', '팜', '▁경부선', '▁도약', '▁알기', '▁총선부터', '▁참여해', '▁대학교와', '觸', '▁사회적으로', '葉', '▁벽에', '홀딩스', '▁이적하여', '▁NP', '▁패권', '▁애인', '▁서주', '▁살면서', '▁미스터', '▁포탑', '토지', '▁임종', '▁열쇠', '주의적인', '커우', '▁로타르', '▁이제는', '▁천도교', 'win', '▁전설에', '▁경작', '스코프', '兼', '綱', '▁노동력', '_26', '▁육군사관학교', '▁지내다가', '▁돌아갈', '▁실시한다', '▁과잉', '▁피사', '▁결합한', '관측', '▁태아', '▁천지', '▁매사추세츠주', '▁제작하는', '▁주거지', '愼', '낱', '列', '▁주계열성', '▁그랜트', '순식간에', 'You', '▁율리', '▁약사', 'VA', '▁조셉', '저항', '▁오리건', '달리', '▁노보', '▁중반부터', '▁입학했다', '▁명목으로', 'fo', '▁청자', '▁달린다', '워크', '▁연주하는', '▁경원', '▁악성', '▁살며', '▁띠며', '▁절충', '새로운', '▁투자를', '▁밑으로', '▁한양대학교', '▁Min', 'oma', '티야', '▁포괄적', 'vers', '▁헥', '▁영예', '▁상인들', '▁장착한', '▁바트', '▁진언', '옵', '▁성장한', '비서관', '▁인사를', '▁국내선', '▁즉위하였다', '▁프레드', '▁절약', '▁밀고', '▁비슷하지만', '▁애드', 'Ka', '▁느꼈다', 'sia', '▁사학', '▁공공기관', '렸을', '▁스타디움에서', '▁개정으로', '▁격차', '▁이용하면', '▁홍성', '▁제작진', '▁첼', 'for', '▁지지자', '▁안전하게', '▁깨끗', '▁메소포타미아', '칼라', '▁무렵부터', '▁우산', '▁체육관', '▁탈락했다', '▁할양', '▁노력하였다', '▁모스크바에서', '공산당', '▁슬램', '▁않겠', '▁실시하였다', '▁106', '▁계산할', 'CR', '포럼', '운송', '봤', '로봇', '▁김우', '▁포함되는', '▁퍼텐셜', '▁이윽고', '▁통폐합', '▁자치체로', '기통', 'TT', '▁입히', '▁삭감', '▁이동하여', 'rat', '▁토리', '▁개발하여', '▁타이탄', '▁시마즈', '▁농부', '구조를', '▁이해하기', '▁제거하는', '▁시체를', '▁라오', 'Si', 'mit', '▁북동', '▁윤치영', 'dic', '▁옵', '▁요구한다', '▁인디언들', 'XX', '버거', '▁피닉스', '▁선고했다', '▁레스터', '▁병렬', '▁독주', 'π', '캇', '▁제작하고', '▁순위에서', '▁여자친구', '차전은', '▁이주하였다', '▁이시카와', '▁헤겔', '▁독립국', '▁소설가이다', '▁회사들', '▁효과적', '멜라', '▁고찰', '▁국왕으로', '▁크기로', '▁대표작으로', '▁시민들의', '▁기념일', '▁미칠', '▁Bl', '▁교구장', '▁시티즌', '▁고정된', '▁간사', '▁복음주의', '▁리스본', '▁반대파', '신학교', '▁축전', '▁결성하여', '▁모조', '▁취득했다', '7.5', '▁벤처', '▁파주', 'Love', 'rum', '▁덧', '▁출생하였다', '▁출시했다', '▁맘', '▁향하여', '▁따뜻', '▁사망할', '중공업', '형사', '▁볼록', '▁평했다', '▁6.25', '▁받아들', '자네', '▁Cup', '[[', '▁인원은', '▁이산화', '▁채택하고', '▁일부러', '▁언어와', '▁취직', '▁상징으로', '햇', '府院君', '촌리', '▁태그', '▁때문이', 'uz', '일본서기', '▁대교', '▁연중', '▁대표곡', '▁기초가', '▁멤버이다', '▁탁구', '▁편집장', '일부로', '▁추진하고', '▁708', '연승', '었는지', '▁팬들은', '정비', '▁마당', '▁장관은', '▁결장', '굵', '▁서지', '▁파열', 'は', '▁갔다가', '▁재판관', '전철', '백색', '▁280', '▁활동하면서', '▁결정하고', '▁출전권', '▁썼으며', '▁주님', '▁참석했다', '▁편제', '▁처한', '베스트', '릴라', '▁원술', '▁번역한', '▁바닷물', '▁호환성', '▁현황', '▁위치에서', '▁받던', '▁품은', '▁명칭이다', 'DB', 'olo', '▁희망을', '▁약칭은', '활동에', '▁착공하여', '▁부부는', '\\\\', '▁민사소송법', '▁에스컬레이터', '▁코퍼레이션', '内', '켐', '▁안창호', '▁다량', '▁대목', '▁팬들이', '▁다닐', '중주', '▁조선공산당', '▁용감', '▁유사성', '▁흡연', '▁폐차', 'ien', '▁€', '▁변종', '▁운동과', 'ree', '바야시', '▁바뀌게', '▁소아시아', '檢', '깝', '▁자발적', '▁조광조', '▁무언가', '▁상반기', '▁하후', '山城', '▁왕국과', '▁사귀', '삼성', '장수', '▁실록', '▁무기로', '▁안토니', '▁열리고', '▁한국방송', '▁호르', '▁러일', '▁것들은', 'eep', '▁동창', '▁바다로', '▁차오', '▁결성되었다', '▁사들', '▁일렉트로닉', '▁범위가', '스토리', '▁지식인들', '▁제공하였다', '▁집합이다', '胡', '퀸', '▁블루윙즈', '桂', '▁국가정보원', '▁준동형', 'ery', 'gl', '天皇', '▁상황이었다', '▁잡기', '▁변해', '공식', '▁성우로', '▁내려오는', '▁사용되었으며', '▁영역은', '▁솜', '▁그랬', '▁수행하기', '▁올랐', '▁책에', '▁체내', '▁동남쪽', '▁전철화', '▁일본군이', '▁교향악단', '봐야', '▁이야기이다', '이면서도', '▁자행', '▁박수', 'MM', '▁1858', '▁해주는', '놓는다', '▁페레', '▁위주의', '▁예비역', '▁한계가', '▁제작되어', '▁플리', '▁연합군이', '▁코네티컷', '▁와타나베', '布', '윌', '▁사법시험', '▁고등학생', '영웅', '광해군', '▁저해', '▁든다', '▁기세', '조차도', '것이다', '타니아', '▁이상적인', '편집', '▁약점', '▁산신', '▁복속', '▁인질', '▁만들기도', '르나', '▁웨스트민스터', '▁북부와', '▁조니', '맘', '▁재개발', '▁통신사', '▁현장에', '▁국방군', '▁제목을', '▁대리석', '▁재직했다', '▁가격을', '▁체포된', '▁타타르', 'South', '▁상업적으로', '아메리카', '▁몰고', '▁AMD', '키치', '▁파라오', '어군', '사무관', '▁생각하지', '▁손꼽히', '謙', '▁오토바이', '▁승낙', '▁거두었고', '▁방문했다', '▁북측', '▁가졌으며', '6.5', '▁고모', '▁0.1', '▁델라', '?”', '▁글렌', '▁코코', '▁입술', '▁민심', '▁예편', '▁스크립트', '▁Du', '▁개정안', 'itt', '希', 'γ', '▁프리킥', '▁선제골을', '▁뭉', 'light', '확인', '▁의거하여', '▁발표하면서', '▁절대적인', 'reg', '▁보수적인', '컵에서', '▁영덕', '▁고전적', 'ato', '뱅크', '▁윤리적', '▁숨겨진', '▁다룰', '▁아이언', 'pan', '▁하쿠', '▁왕래', '▁편이며', '3,4', '量', '▁오클라호마', '▁직사각형', '▁쇼트트랙', '▁목적지', '▁문학상', '▁뒤덮', '▁민씨', '▁유명해졌다', 'aff', '버섯', '▁오우', '▁목동', '▁바울', '▁센터에서', '▁채권자', '▁백운', '▁전설이', '▁잔해', '▁보여주며', '▁중공업', '언스', '▁극대화', '▁위험에', 'nel', '강력히', '▁등장하여', '▁외교부', '맵', '▁도착하여', '▁여럿', '▁이외에는', '▁김두', 'Die', '▁발행한', '▁비아', '▁CIA', '▁창시', 'UP', '▁du', '천만원', '▁무르', '▁스탈린은', '▁달아났다', '설비', '雙', '▁활동하였으며', '▁브로드웨이', '▁짓기', '▁교동', '▁착각', '쿠치', '주제', '▁아델', '▁오르게', '▁중건', '▁촉발', '▁변하는', '렉트', '·4', '▁모스크', '▁점으로', 'DL', '굉', '亞', '兒', '▁슈트라우스', '▁이데올로기', '如', 'ique', '▁모함', '토리아', '▁그만두고', '▁침식', '慶州', '신라', '▁정당한', '위팀', '▁고층', '▁일리노이', '▁국철', '▁사커', '라티', '협약', '▁자체적으로', '▁지리학', '갯', '▁슈투트가르트', '▁루스벨트', '▁기자회견', '▁내재', '150', '▁명확하지', '▁클랜', '▁운동량', 'Fi', '▁NBC', '▁제도와', '▁샤프', '▁반정', '▁관광객들', '▁크라이', '▁세우기', '▁푸젠', '▁등록되어', '▁채무자', '▁프로토스', '▁이륙', 'Sam', '▁모피', '▁생화학', '▁당하였다', '▁에밀', '▁걸고', '至', 'cher', '▁전후에', '실점을', '▁빈민', '肅', '岡', '▁조선소', '어린이', '판에서는', '재정', '▁KTX', '▁주기로', '▁표현하고', '혁명당', '▁조공', '▁암수', '▁전시되어', '▁그럴', 'phy', '상수', '▁주둥이', '▁발각', '▁패배했다', '▁손해를', '▁사단법인', '▁인하', '▁장교들', '▁유배되었다', '비디오', '▁해리스', '▁공부하였다', '▁원소가', '▁반대편', '狀', 'ART', 'Ba', '持', '그라드', '▁원주시', '▁브레멘', '▁지방자치', '▁비공식적', 'Luc', '▁침범', 'Gu', '▁높였다', '▁보류', '▁영향은', '▁그레고리', '▁Dream', '보조', '▁곧이어', '▁어디서', '-30', '▁박테리아', '▁접합', '▁매스', '▁소론', '▁등록문화재', '▁형태와', '▁안녕', '▁소동', '▁요즘', '▁반격을', '양왕', '▁뛰어들', '▁차이나', '남성', '▁차지하게', '▁마에다', '▁주저', '▁월남', '質', '▁아나톨리아', '▁맥아더', '▁안팎', '▁Institute', '선수로', '▁잔여', '▁격하', '문화유산', '▁유일하다', '▁증세', '▁발족하였으며', '▁마르셀', '▁중거리', 'els', '▁고제', '쳤으나', '▁김유', '▁종착역', 'ize', '▁생각하였다', '▁연합하여', '▁Hi', '▁되게', '축구단', '▁모던', '▁결의안', '▁등록된', '▁넘버', '▁센터백', '▁설명하였다', '▁복귀한', '▁MO', '▁부임한', '▁조건은', '▁처해', '캠프', '▁오마', '▁크지', '▁국가에서는', '▁협업', '▁친한', '▁정책으로', '▁면직', 'Da', '▁위시', '▁제공된다', '靜', '엎', '▁갖춰', '▁당선자', '▁멀티미디어', '▁도제', '▁로우', '▁등급은', '▁발생하고', '▁표현된다', '▁베른', '▁획기적', '▁스피커', 'uni', '▁사람이었다', '▁자질', '▁버린', '▁분노를', '▁나열한', '▁밝혔', '▁저렴한', '▁개발하는', '▁벌이고', '▁스코어', '경주', '▁후원자', '▁정예', '카게', '▁석권', '▁조성되어', 'ili', '딤', '펭귄', 'dent', '▁정유', '▁다수를', '▁국가적', '▁심정', '▁원상', '▁합창단', '교황', '▁박진', '▁용수', '▁빼앗아', '▁파견되어', '롤라', '▁시오', '▁Ka', '▁세간', '▁얼굴은', '▁요시노', '戒', '改', '▁교훈', '嶺', '채권', '▁앞바다', '▁구역이다', 'Ger', '▁이랜드', '▁권익', 'sub', '▁칸트', '▁남부에서', '▁요청으로', 'Baby', '▁베를린에서', '▁At', '시키려는', '藝', '얽', '▁샀다', '▁우두머리', '苦', '▁맡겨', '▁경영자', '▁사업으로', '협상', '▁승정원', '▁이해하고', '▁합천', 'Big', '▁과다', '▁금색', '▁안겨', '▁결정할', '▁출국', '▁속하지', '회계', '▁찾아오', '메네', '▁YG', '冠', '▁샌디에이고', '▁주화', '▁시할구', '▁시민권을', '겠지만', '▁후세인', '거스', '▁1812', '▁시달렸', '▁주인공인', '▁제기했다', '대장군', '니르', '▁균등', '▁나리타', '▁측에서는', '▁피의자', '▁1700', '레코드', ':30', '▁수녀', '▁미합중국', '▁앤서니', '▁유로비전', '▁반론', '▁충성을', '▁남용', '애니메이션', '▁사대부', '▁덴쇼', '테루', 'Pop', '▁신기록을', '▁정칙', '▁크며', '▁충신', '▁독수리', '▁슬하에', '▁입법부', '▁현판', '▁빚어', '▁커져', '▁정진', '▁발행된', '▁상대성', '製', '羽', '▁결핍', '▁물류', '▁2/3', '▁압둘', '▁프로축구', '▁영화상', '▁입후보', '야르', '▁깊어', '_31', '위반', '▁생원', '▁예언자', '▁산물', '▁합리적', '▁해결할', '▁낮에', '▁증가한다', '▁강진', '▁유로파', '사회적', 'ッ', 'ن', '▁이조참판', '뎀', 'erson', '▁테두리', '_27', '▁일진회', '▁싸울', '▁건강한', '▁복수를', 'aj', '▁as', '▁추후', 'bs', '▁혀', '광역시', 'night', '▁외무', '▁평소에', 'Ser', '▁Comp', '챙', '싼', '▁알리고', '퓌', '▁2007-08', '▁연기한', '▁곡면', '▁Win', '▁우마', '▁끝냈다', '▁구별된다', '▁거사', '코어', '처벌', '▁필요성이', '▁Soul', '▁Val', '▁진원', 'CP', '▁피오', '주머니', '신화', '▁뛰어나다', '▁분야로', '단체인', '▁Op', '▁핵심적인', '▁질문을', '▁기자회견을', '穆', '뭇', '洛', '▁쇼핑몰', '▁고성능', '▁이온화', '▁공군기지', '▁환승역', '▁공유하는', '▁나쁘', '▁운명을', '▁정체성을', '▁올라와', '▁올려놓', '엔드', '뿐이다', '▁일행은', '▁하키', '▁먹기도', '남초등학교', '빠르', '곡사', '▁러시', '▁남아있지', '▁애리조나', '▁수컷은', '茂', '쥔', '▁계룡', '▁중앙정보부', '▁먹어', '▁후자', '▁익히', '▁연구하고', 'North', '꺼', '올린', '▁인수하여', '▁살아가', '▁만류', '▁장관으로', '▁놓치', '▁불리던', '▁육식', '▁키드', '▁경종', '▁일삼', '▁대표단', '譜', 'く', '▁스케줄', '▁억울', 'elle', '논문', 'erry', '▁어웨이', '▁없었으나', '▁호모', '레이크', '▁템', '▁언급된', '-35', 'vision', '▁붙이는', '▁아끼', '▁로큰롤', '▁성소수자', '▁콘퍼런스', '▁대영', '▁플러그', '▁민주노동당', '메리', '▁세웠으며', '▁운영체제', '어업', '▁브랜드로', '▁야수', '웠던', '▁번이나', '▁의도적으로', '▁상호간', '▁올레', 'emp', '▁횡령', '해냈다', 'ico', 'ridge', '▁숲에서', 'AE', '▁입학하였다', '▁데뷔작', '▁Inter', '▁개경', '▁성직자들', '▁댈러스', '▁필사본', '圭', 'lon', '▁스테파노', '▁염두에', '(1979', '▁열역학', '▁함수이다', '▁남편과', '스버그', 'ROM', 'Port', '▁죽었고', '▁서장', '▁우림', '사단장', '▁만점', '▁풀리', '▁해외에서', '▁야마다', '▁숙소', '▁모습과', '▁등장하고', '캔', '250', '두르', '▁왓', '▁테크', '▁li', '▁물려주', '▁주최하는', 'NET', '▁1839', '▁미주리', '▁역사서', '▁이룰', 'pen', '▁지시했다', '▁지구로부터', '▁발견되고', '▁기점', '▁외면', '欲', 'What', '▁체제에서', '▁확실하게', '▁라이베리아', '▁인테르나치오날레', '禁', '▁원종', '▁부두', '▁그나마', '▁Ber', 'vol', '▁카타', '▁알고리즘은', '▁타마', '▁비싸', '▁구역상으로', '▁의논', 'Ad', 'oni', '▁스케이트', '▁케르', '▁사할린', '▁있었으므로', '▁불릴', '▁주최한', '▁태그팀', '▁우체국', 'its', '▁가두', '▁음악원', '▁많은데', '▁자정', '오스트레일리아', '▁발매되었으며', '▁운영한다', '▁빌드', '▁삼각주', '▁경건', 'cur', '▁치타', '亂', '▁도구로', '▁짧아', '▁국가보안법', '▁선생이', '지거나', '▁배출하였다', '▁그린란드', '▁재판에서', 'nor', '▁깨지', '▁대류', '▁박용', '▁푸르', '▁부분이다', '테러', '일자로', '▁한국어로', '▁무늬가', '톰', '쏟', '▁믿을', '▁브레이브스', 'お', '▁공판', '▁기온이', '▁아이들이', '▁발가락', '▁괄호', '▁인생을', '▁고속철도', '▁도상', '솜', 'die', '▁대표되는', '해지기', '▁여객기', 'For', '업계', '▁ID', '▁빠졌', '종실록', '▁중심부에', '▁대여', '▁증강', '요건', '▁제자들', '▁물체를', '뿌', 'Sta', '▁경제적인', '▁피살', '▁대승불교의', 'ship', '직할시', '▁메트로폴리탄', '▁브란덴부르크', '▁캄페오나', '가슴', '▁행복한', '▁살해당했다', '리엘', '발라', '▁네바다', 'ces', '▁문화권', '첫', '▁가든', '▁번호를', '파괴', '▁싱크', '진흥원', '▁질투', '▁깨닫고', '▁근무하였다', '▁폐허', '比', '于', 'field', '時代', '▁가수이자', '▁2011-12', '낮', '▁헤더', '▁통솔', '▁앗', '▁과반', '▁은폐', '▁징병', '보병', '▁꼭대기', '▁국력', '오늘', '▁수도회', '▁바젤', '▁주며', '▁단조', '글러', 'right', '▁남동부에', '▁추상적', '▁Pi', '▁하이브리드', '▁치렀고', '▁밸브', '▁백악관', '▁관위', '▁집적', '▁서태지', '▁이광수', '바오', 'Battle', '▁명목상', '▁아키텐', '▁신천', '▁불쾌', '▁구문', '▁보직', 'EE', '▁모교', '▁남송', '뭉치', '▁추정되고', 'CoA', 'Peter', '▁측량', '넛', '▁며느리', '▁켄터키', '然', '받았', '▁황소', '스페이스', 'ions', '▁성립되었다', '▁병풍', '▁정의하는', '▁양산시', '▁쌓고', '앨', 'THE', '▁초반에는', '▁결말', '▁1857', '▁폴라', '▁변화하는', '▁강조하였다', '▁아군', '▁사교', 'AB', 'Windows', '▁조봉암', '▁확충', '슐', '▁플래', '▁옥사', '▁국가원수', 'oid', '▁만드는데', '▁Out', '▁친밀', '회초', '공군', '▁국가들이', '올해의', 'py', '▁구강', '飛', 'ы', '銅', '▁능력과', '▁마켓', '▁개국공신', '▁화소', '▁거창', '제철', '▁반대하고', '▁피아노를', '▁밀접', '▁무승부를', '▁격파하고', '▁루터교', '▁오슬로', '▁도마뱀', '▁절제', '▁설계한', '▁꼬리를', '▁부류', '▁이루게', '計', 'ي', '▁스트리밍', '▁용해', '▁송진우', '▁설일체유부의', '▁상세한', '▁노란', '▁맑은', 'aceae', '▁메츠', '완전', '▁의복', '제공', '▁투입되었다', '▁보라', '예수', '▁정규리그', '▁즉위하자', 'ua', '보고서', 'AV', '▁후손으로', '▁댄서', '▁활약하며', '순조', '▁선체', '▁공상', 'Ge', '▁공법', '▁새뮤얼', '▁유길준', '離', '▁가수들', '▁말아', '▁유사하게', '▁3-2', '▁참배', '▁느낌이', '▁달성한', '랭크', '▁야쿠', '▁잉카', '▁일리노이주', '▁부르봉', '▁무비', '▁레즈', '▁믿지', '▁오카야마', '▁만들게', '▁초기부터', '▁영화감독', 'BI', '▁은밀', '▁인간에게', '▁도우', '±', '賀', '釋', '뚱', '탤', '쉰', '▁천문단위', '司馬', '▁특별법', '▁결합된', '▁미르', '▁않는다면', '토레', '▁스프', '받았으나', '▁어려움이', '▁구성한다', '뉴욕', '통화', '▁바탕을', '▁감독직을', '▁퇴진', '▁교실', '望', '▁바빌로니아', '▁한국독립당', '▁필두로', '▁없도록', '▁에이지', '▁손목', '▁자리잡았다', '▁정부군', '▁DB', '▁카툰', '▁왼쪽에', 'Off', '▁저술한', '▁스기', '▁강수량', '▁혼잡', '▁바다에서', '▁자택', '珠', 'ature', '▁멸종위기', '권자', '▁탓', '▁역할도', '▁서귀포시', '▁설치하는', '▁김치', 'Han', '음식', '▁버티', '뿌리', '▁아레', '▁정차역', 'tical', '롭스', '실업', '▁내야', '▁이론적으로', '▁인정된다', '발표', '▁2,3', '▁갑작스럽게', '▁컴필레이션', '▁실효', '▁세미나', '▁공개한', '▁사범대학', '▁둥지를', '▁재무부', '▁군청', '거북', '가톨릭', '▁봉분', '▁베스', '▁사절단', '▁구분한다', '▁펜실베이니아주', '辛', '裵', '▁갈릴레오', '單', '▁관심사', '▁출범한', '▁항아리', '▁모태', '▁파파', '▁가입하였다', '▁착취', 'GC', '▁표제', '▁세계화', '네트워크', '▁박찬', '▁자신감', '封', '런던', '낀', '▁관계자들', '▁동적', '▁연주회', '산업단지', '▁처마', '▁몰아내', '▁르네', 'And', '바트', '▁tr', '▁섬들', '▁궁극적으로', '▁마린', '▁정역', '▁동거', '汝', 'さ', '約', '▁파시스트', '▁맥스웰', '▁Par', '▁뉴기니', '흐트', '▁해전에서', '▁회고록', '▁영리', 'Go', '▁주고받', '▁시비', '▁있음에도', '떡', '▁체계적으로', '▁테란', '▁정령', '▁유림', '베드', '▁측정할', '▁발견할', '▁부모가', '錦', '▁League', '▁넓혀', '▁붙잡혀', '본부장', '▁선거구에서', 'LU', '▁다르지만', '▁좋고', '▁출시하였다', '▁누구도', '▁문하에서', '▁해남', '▁감싸', '▁올릴', '투수', '▁계속되고', 'г', '▁에이전트', 'itz', '▁조언을', '소총', '▁로마군', '▁크레이', '통상', '▁고전적인', '▁바쿠', '▁북쪽에서', '▁척도', '▁단단한', '뛰', '▁부족하다', '티어', '▁외계인', '▁세키', '▁본적', '▁이뤄졌다', '▁별명은', '▁동종', '체계를', 'ales', '末', '▁알렉산데르', '▁인플레이션', '▁마르크', '▁쓰이기도', '▁단서', 'DX', '▁만족시킨다', '▁커리어', '발리', 'Let', '▁예로부터', '▁주둔하고', '▁가이드', '근무', '▁준우승에', '▁적용하여', '▁패치', '▁등록되었다', '▁크루즈', '▁지나가는', '▁지배하고', '▁알리기', '▁민선', '帶', '孔', '웜', '▁태어날', '▁Company', '助', '▁탈락하였다', 'Per', '▁악명', '▁사건들', '▁정신병', '▁정체를', '▁신호장', '▁서식하고', '▁별개로', '▁2009-10', '▁근본적으로', '▁광명', '▁앵글', '▁시니어', '▁친구들과', '▁볼트', '팰', '▁2008-09', '▁싣고', '▁이주민', '▁남한산성', '▁연금술', '▁쓰이며', '번역', '▁무지', '▁Bi', '▁중서부', '▁목표물', '▁성수', '▁직후인', '▁AU', '숨', '었습니다', '▁명상', '▁데드', '▁사망하면서', '황금', '▁하중', '▁다르며', '갸', '▁재외공관', '▁플루토늄', '鏡', '▁성폭행', 'ew', 'lip', '금강', '▁사역', '2.5', '▁로베르토', '▁분별', '▁적용할', '▁내릴', '▁리브', '▁개발되어', 'cha', '▁신당', '▁대중적', '후쿠', '▁토요타', '▁도쿠시마', '▁6000', '▁걸프', '▁고문서', '▁비둘기', '▁받아들여지지', '▁법제', '▁출사', '▁브래', '스트레', '▁직물', '▁출생한', '▁자연스러운', '▁끌려가', '▁못했으며', '▁어워드에서', 'tta', '▁휴대용', '▁오릭스', '▁생존자', 'eau', '▁어려서', '▁위치해있다', 'war', '▁대진', '▁집중적으로', '▁제안하였다', '▁맞이하였다', '▁사다하루', '▁업로드', 'kW', '▁오트', '▁않거나', 'side', '▁만들어졌으며', '▁일방적으로', '0.4', '▁찾았다', '▁처형되었다', '▁조문', '▁에두아르', '스러워', '▁뉴멕시코', '▁크메르', '▁어도비', '▁세미', '▁둘다', '탱크', '▁사나이', '▁실사', '▁마스크', '릇', '▁넓히', '▁무엇이', '▁방법과', '▁활동한다', '▁유생', '▁후쿠시마현', '학연구소', '깔', '방사', '▁오스트', '▁무죄를', '▁데뷔골을', '▁추천으로', 'Miss', '▁제공한', '孟', '멤버', '▁포화', '▁조씨', '틸리', '▁의례', '유물', '▁개찰구는', '▁왔으나', '슈테', '마저도', 'IST', '입법', '▁곡식', '▁기마', '▁추운', '▁보편적인', '춘향', '밑', '센티미터', '▁학술지', '▁화합', '_28', '비율', '▁산업화', 'ア', '甫', '藥', 'IUCN', '▁가로질러', '▁비잔틴', '▁박경', '▁사람들도', '▁종류이다', '연주', '▁일본국', '▁격전', '부장관', '▁히노', '신호', '결혼', '져야', '국회', '▁해킹', '▁지원하지', '▁가져가', '▁증원', '위하', 'gene', '델라', '▁문화예술', '▁거제시', '▁판매하고', '兩', '▁본질적으로', '夢', '▁형이상학', '▁그라운드', '▁일기로', '겨울', '▁산책', '▁문중', '▁후자는', 'ful', '▁크리스티나', '▁출격', '▁손수', '워치', '▁두바이', '▁거절당', '촌동', '▁달리기', '▁2-3', '체육관', '▁쓰일', '중간', '▁닮았다', '소프', '補', '▁개최하고', '▁중공군', '▁질서를', 'δ', '亨', '▁로드리게스', '▁트림', '▁유능한', '됐으나', '▁리키', '▁기밀', '▁의병장', '그니', '학박사', '▁퍼센트', '▁퇴출', '▁1801', '▁1849', '▁시미즈', '▁불리었다', '▁당연', '▁여건', '▁가능성은', '▁세븐', '딱', '▁과정이다', '펌', '니즘', '차관', '▁도시권', '▁상하이에서', '▁최용', '기념관', '▁대문', '▁타라', '▁건국훈장', '▁대관식', 'White', '지극히', 'ization', '▁테레', '▁산정', '▁거병', '▁클릭', '헤르', 'Louis', '▁누렸다', '▁이리하여', '▁궐', '꿀', '▁모체', 'uf', '▁다이쇼', '▁봤다', '벗', '▁석방되었다', 'FT', '▁카디널스', '뽀', '▁깨달음', '▁오아시스', '▁명백한', '▁107', '개선', '▁이회창', '소장', '▁이케다', '▁진위', '▁리사', '▁comp', '▁단발', '▁춘계', 'ING', '▁세토', '▁농경', 'rad', '▁표시한다', '▁새마을', '▁사망한다', '▁파악할', '▁능숙', '▁원효', '0.9', 'ク', '▁갇혀', '▁되돌려', '▁바그다드', '밈', 'En', 'ل', '▁몇가지', '▁쉽고', '(1970', '▁투표율', '▁관해서', '▁나왔고', '▁관악', '▁전범', 'ku', '플래닛', '▁영역으로', '▁에다', '6,000', '▁없어졌다', '▁숙박', '▁광주시', 'ball', '▁남단', '칫', '▁경희대학교', '眼', '聞', '교육지원청', '▁딱딱', '▁백두산', '藤原', '번선', '▁언어에서', '▁전반적', 'ji', '▁순천시', '▁코스트', '▁필요할', '크래프트', '▁바이마르', '▁모노이드', '▁대명사', '▁자랑하는', '출입', '▁화염', '▁토마', '▁오가는', '▁한자어', '▁나오기', '▁col', '▁개명하였다', '▁모양이다', '▁다듬', '▁나사', '▁8000', '▁규정되어', 'Richard', '▁신입생', '▁닛산', '▁랴오닝', '▁북대서양', '▁강대국', '▁화순', '▁함평', '▁인식하고', '▁파생된', '세상', '▁카미', '▁발톱', '▁나타나며', '▁나뉘며', '▁뜬', '보살좌상', '▁프란', '▁그래미', '▁올라온', '▁청각', 'Mer', '▁탈피', '▁환산', 'て', '▁셔틀', '▁묘호', '▁구타', '▁앞뒤', '▁합장', '▁야권', '▁반기를', '야구장', '▁번씩', '▁났', '▁Ph', '벡', '전통', '▁남해군', '▁왔던', '망원경', '▁예정되어', '▁남아시아', '▁유틸리티', '▁가늘고', '▁유럽연합', '▁챔피언스', '▁말려', '밴', '▁분포하며', '▁타일러', '▁쳐서', '궁주', '▁설명한', '▁혼합물', '▁내각에서', '▁향기', '부상서', 'avi', '▁광업', '▁동원해', '▁기록한다', '▁하층', '▁정착한', '▁지리산', '摠', '留', '▁프레슬리', 'Christian', 'GS', '주의자들은', '버릴', '▁1815', '십육', '▁270', '▁직렬', '▁녹아', '▁맏', '▁충렬왕', '▁복싱', '▁장씨', '버스터미널', '지라도', '3,000', '▁소장되어', '▁웅진', '▁β', '▁매슈', 'EB', '우체국', '종합운동장', '寅', '杜', '▁울주군', '▁정의하고', '▁부등식', '▁데뷔했으며', '▁이마가와', '▁싸움에서', '▁기린', '▁공경', '▁끝부분', '▁슌', '밸', '▁아이작', '▁정치국', '▁후난', '▁2010-11', '▁도안', '▁돌연', '▁좌천', '저널', '소형', '▁많기', '신부', '▁방공', '▁악곡', '릉군', '▁근간', '易', '▁아놀드', '▁세르게이', '▁잔디', 'well', '▁개개인', '▁기권', '▁자카르타', '▁법전', '▁잃는', 'lb', '▁콘텐츠를', '▁1846', '▁대표적이다', '▁됐고', '▁길거리', 'stra', '▁셈이다', 'Can', '▁악당', '5°', 'ush', '▁슬라', 'Joseph', '▁야드', '슬라브', '▁시나노', '▁주민등록', '▁휴대폰', '▁하강', '▁무엇보다', '▁가뭄', '▁문체', '▁끼워', '▁가면서', '평동', '▁무지개', '▁부스', '러브', '▁대입', '▁기전', '▁ATC', '통계', '▁표현했다', '▁모티브로', '▁허물', '▁대통령에게', '탈삼진', '▁불법행위', '▁도성', '考', '▁렌더링', '▁미야기현', '분리', '▁단말기', '▁콘스탄', 'rid', '▁아쓰', '▁쓰나미', '▁인정받고', '▁잡았', '▁해피', 'part', '∼16', '▁정도이며', '▁드러낸', '▁절도사', '▁정치권', '▁야전', '▁초대칭', '대행', '▁광대', '▁스택', '▁유지되었다', '▁도발', '▁비판하고', '型', '▁눌러', 'lit', '▁빅터', '(1973', '▁들리', '복무', '▁부동', 'Ang', '▁감독이었던', '▁우에노', 'of', '▁이것으로', '▁블랑', '▁상징한다', '노예', '▁스트림', '답게', '▁중반까지', '▁독일군이', '든다', '론자', '▁무패', '임무', '▁슈퍼컵', '▁낭비', '▁확보하고', '▁페널티', 'ī', '▁록히드', '問', '▁풀려났다', '▁주도권을', '(1974', '▁사천왕', '▁비난했다', '▁덮개', '▁도형', '▁포식자', '▁안데스', '▁곳이었다', '▁나가노현', '지방경찰청', '▁희귀한', '▁용맹', '▁1856', '▁엄지', '쓰네', '티르', '▁우위', '樹', '뱌', '▁살해되었다', '▁기리는', '▁걸었다', '▁보면서', '▁올라갔다', '▁관아', '▁Sun', '▁검정색', '내각', '▁참여한다', '▁사가미', '눔', '▁체계적인', '▁최정', '▁뚜껑', '▁무엇인지', '王后', '▁전설적인', '▁1789', '大學校', '▁부여하는', '▁파블로', '웨스트', '▁인물이었다', '=1', '▁개화파', '▁오른다', '▁시찰', '▁무의식', '▁한국영화', '붓', '▁막아내', '▁다마스쿠스', '▁짐바브웨', '▁시부야', '▁공성전', '▁도망쳐', '1.5', '▁윈난', '▁김종직', '▁저수지', 'UR', '▁인문학', '▁참가하게', '▁율리우스', '친구', '▁1:1', '▁교리를', 'Her', '▁1854', '▁공격하기', '찍', '▁영수', '베르그', '▁이후로도', '▁표현하였다', '滿', '▁안양시', '▁엔터프라이즈', '▁tvN', '▁픽셀', '▁25%', '▁림프', '▁투수로서', '▁요구하고', '▁유화', '▁행하여', '▁인치', '▁윤곽', '▁음역', '▁광선', '▁움직이지', 'nis', '▁선출되어', '▁감염된', '▁유충', '▁들어가기', '▁라울', '▁계승자', '▁현역에서', '▁1814', '롭다', '▁적용되어', '▁오보', '▁과자', 'rt', '▁취했다', '카베', 'Uni', '▁기타큐슈', '▁자릿수', '若', '(1978', '_29', '▁보도되었다', '▁머릿', '▁유엔군', '▁Trans', '폭발', '▁흥덕', '▁나눈다', '▁경합', '▁보리스', '▁발판', '상업고등학교', '▁불리한', '▁로컬', '▁파르마', '▁부관', '▁리모델링', '樓', '▁철저하게', '敏', '▁동점골을', '▁찢어', '▁다카하시', '▁불안정한', '▁잔혹', 'bel', '레즈', '▁자격증', '▁다스리는', 'tom', '촬영', '▁밝고', '▁주포', '대장경', '▁교황령', '설립', '▁건네', '▁현상이다', '▁돕', '▁나타', '▁참여했으며', '克', '▁흔들리', '恒', '멩', '▁향신료', '(1972', '▁얕은', '▁평택시', '▁보컬리스트', '발레', '▁소개되었다', '▁판단하여', '▁버크', '+1', '▁고바야시', '▁고승', '▁아유', '▁출혈', '▁이론이다', '티스트', '▁관리한다', 'ming', '▁전해졌다', '▁추진하였다', '▁캐롤', '▁서대문구', '▁화학자', '▁소장하고', '▁콜드', '▁밝히는', '▁비추어', '▁앨버트', '▁클럭', '기름', '▁올렸고', '보내', '쌀', '▁귀국하였다', '▁니켈', '▁멱', '▁변호인', 'oon', '▁평의원', '▁초록', '▁가우스', '▁아리스', '夷', '鳥', '▁돗토리', '▁리베르타도레스', '屋', '▁고가역이다', '向', '▁산재', '▁저널리스트', '▁지층', '▁비하면', '▁파스칼', '▁조각상', '▁학자들이', '▁베컴', '▁친환경', '▁작품상', '▁연구소에서', '▁아미타불', '▁에레', '▁같지만', '▁King', '찬성', '▁공석', '▁양념', '準', '尾', '▁바빌론', '▁율리아', '▁바란다', 'VO', '▁동률', '▁의성', '▁저서로는', 'ette', '▁멋진', '▁가입했다', '쌀쥐', '▁자막', '▁만나고', '▁정실', '▁로크', '▁1855', '▁커브', '▁서클', 'ь', '▁닛폰햄', 'ult', '▁3~4', '▁감마', '▁시공간', '▁보고했다', '▁신안군', '▁비교할', '▁세울', '분열', '▁받아들이는', '남매', '▁설치할', '클러', '▁행사할', '▁복부', '▁실상', '▁처리할', '▁헌종', '▁승률', '코비치', '▁1820', 'emb', '▁국화', '菩薩', '▁신익희', '▁자책점', '求', '레닌주의', '▁미스코리아', '(1971', 'mod', '▁금지하는', '▁맹렬', '▁방호', '▁양파', '▁와이드', '▁꼭대기에', '디스크', '▁좁아', '▁독특', '▁커플', '▁오늘날에도', '▁돌아갔', '▁가담한', '▁김주', '냐고', '▁독일계', 'ali', '▁넘지', '▁창구', '▁활동했고', '▁격리', '烏', '▁바라는', '▁견훤', '▁유골', '▁카레', '▁칼빈', '힌다', '해져서', '▁유목민', '보호법', '▁공무', '▁잉여', '▁성장률', '▁프로듀서이다', 'Green', '▁복귀하여', '▁프린', '피드', '▁Super', '▁언급된다', '▁아우구스투스', '민주연합', 'ati', '▁동백', '▁병사들이', '▁받아들이고', '▁페테르', '▁지원하였다', '▁장착된', '▁가치관', '▁크라운', '▁최고위원', 'RNA', '▁교화', 'ega', '▁감마선', '▁조장', '▁홀수', '▁결정된', '▁바늘', '▁전사한', '▁대체하기', '▁국산', '▁완료되었다', '▁1,200', 'η', '▁가볍게', '▁태블릿', '▁니카라과', '▁회견', '매일신보', '특급', 'nie', 'rie', '서쪽', '▁뒤집어', '▁보이는데', '▁생기게', '디안', '▁음식점', '▁싶지', '▁곶', '▁작품들은', '▁어려웠', '▁재회', '▁유성구', '▁발광', '급격한', '▁생전', '▁함장', '威', '▁아이스크림', '麟', '▁레몬', '▁결렬', '▁갖가지', '▁만들어내', '▁폭주', '▁봉헌', '▁태어났고', 'Fe', '▁낮게', '▁상계', '유산', '▁명중', '▁잡힌', '▁카마', '▁대비해', '▁김학', '시키려고', '▁도시이며', '▁폭넓게', '▁보루시아', '▁방문하였다', 'Just', '▁마코토', '▁액세스', '▁성북구', 'International', '▁바쳐', '할만한', '▁출시되었으며', '▁산수', '▁박물관이다', '▁에어버스', 'eri', '▁나누고', '▁마련하였다', '오프', '특수', '▁취급하는', '▁Tu', '▁방식과', '▁곳곳에서', '▁서품', '▁펠리', '▁임명되고', '▁승진하여', '~30', '▁자랐', '▁지지하였다', '칩', '▁호소카와', '▁스케치', '▁규합', '▁코로나', '▁NAD', '▁격침', '▁재판소', 'KST', '▁지방관', '▁타선', '▁바닷가', '▁열거', '▁알마', '▁다케시', 'pol', '▁화승', '▁콘스탄티누스', '影', '▁겨냥', '▁라이센스', '▁원더', '▁대단한', '▁오르지', '▁승객들', '▁지칭한다', '시키거나', '전문대학', '▁소유권을', 'AX', '▁변천', '▁편향', '2014', '▁향수', '페스트', '▁촬영한', 'ora', '▁치밀', '▁탐정', '▁수비수로', '▁팔려', '▁적정', '▁사용되기', '▁사령', '‧', '▁맞배지붕', '▁다음날인', 'ense', '▁라자', 'National', '▁노면', '▁알았다', '▁San', '▁이동했다', '▁콤비', '▁참전했다', '▁참가자들', '▁GPS', '▁우표', '▁사용해서', '▁파괴된', '▁Blue', 'ARD', '▁간접적으로', '▁아니기', '두스', 'ather', '▁숙명', '노이드', '▁압수', '▁평가받', '▁항원', '▁범죄자', '清', '▁파푸아뉴기니', '쿵', '비우스', '▁라이온스', 'SF', '▁vi', '뜻', '▁통계청', '▁점화', '▁엔드', '▁아이파크', '▁태워', '▁케이트', '▁스베', 'lish', '▁가온', '▁오즈', '▁수여하는', '스럽고', '▁에그', '▁다짐', '▁발달하여', '▁행보', '해달라고', '자본주의', '▁열전', '▁대대적으로', '▁현대적', '▁NH', '▁살펴보', 'lam', '▁Service', '솥', '▁동국대학교', '好', '▁레닌그라드', 'あ', '▁이완용', '▁독립협회', '▁김석', '열렬한', '▁먹지', '▁추계', 'PU', '▁디에고', '▁마티', '▁자신들을', '▁무색', '▁남북조', '사냥', '▁증축', '▁사라진다', '▁형편', '개편', '▁베티', '▁뒤부터', '인민위원회', '▁공소', '宅', '▁콘라트', '대항전', 'HR', '▁튀어', '▁취득한', '진출', '▁폐지되고', '▁놈', '▁서약', '▁성공적', '▁실시하여', '▁컷', '▁개인정보', '2.1', 'San', '▁상단에', '시키기도', '均', '▁몽고메리', '▁조병옥', '▁처치', '▁들어가서', 'Work', '렸기', '▁통도사', '▁돌아간다', '▁쏜', '▁직전까지', '▁출전하는', '▁배우기', '목표', '현장', '_30', '▁고관', '▁서안', '▁Song', '녹색', '환자', '▁묘사하고', '▁논증', '▁물론이고', '▁강유', '▁사정으로', '태영', '晋', '썰', '▁여러해살이풀', '▁캄파니아주', '▁하디', '▁보관되어', '▁섞인', 'Bu', '▁참정권', '▁표시하는', '▁공격적인', '▁헤아', '▁무쓰', '▁탄두', '▁천상', '버스터', '▁현재에도', '▁짝수', '選', '전환', '▁테마로', 'General', '▁추축국', '▁유니코드', '▁가방', '▁줄기세포', '▁드러난다', '▁귀양', '▁사회민주주의', '▁결여', '초기', '▁구성되며', '▁범람', '▁하카타', '▁보살상', '▁종실', '▁산조', '▁개최했다', '▁고조선', 'ford', '▁6,000', 'Wil', '▁감축', '▁다치', '▁산문', '▁발표한다', '格', '▁테헤란', '퍽', '環', '▁Island', '▁출병', '▁광자', '▁글씨를', '▁요나라', '▁레이크', '▁만족하는', '▁던지는', '사슬', '총국', '좋', '▁가르친', '▁농담', '▁쪽에서', '▁전열', '▁출간된', '▁동아리', '己', '▁르완다', '乘', '▁정몽주', '▁인종차별', '▁매듭', '(1969', '▁출생하였고', '▁근래에', '▁의견도', '▁탄산', '▁지리적으로', '▁합하여', '▁분류할', '▁사생활', '백여', '▁재물', '▁두뇌', '▁다카시', '▁해수면', '▁쯔', '▁관련해서', 'bra', '벡터', '▁기판', '스미스', 'gal', '▁시민들은', '닥터', '▁정언', '▁지구상', '▁터빈', '태조', '▁1776', '丞', 'و', '됩니다', '▁엿볼', '梅', '▁듣게', '▁관측된다', '宰', '▁확인하고', '▁원곡', '분데스리가', '딴', '▁페드로', 'Max', '▁안심', '▁Way', '▁불복', 'dition', '▁길드', '▁단양', '▁양궁', '▁통합된', '▁적대적', '▁자백', '▁가곡', '탠', '▁협곡', '▁유효한', '▁사임하였다', '○', '▁부에노스아이레스', '祥', '▁재빨리', '黑', '▁형용사', '▁흑인들', '▁사연', '▁특수부대', '▁폐기물', '▁에치고', '▁창립자', '▁신약', '▁템플', '▁걸그룹', '지붕', '▁손책', '▁밸리', '▁오르간', '▁연방정부', '▁효력이', '▁끝내고', 'Har', '▁레비', '▁확보하기', '辰', '協', '▁괜찮', '▁한꺼번에', '팥', '▁수비형', '▁중앙집권', '▁활동하였고', '▁찾는다', '▁국부', '▁수백만', '▁해커', '▁담임', '▁공산주의자들', 'Korea', '▁방면에서', '엔지니어링', '▁데일리', 'ister', '▁보이기도', '▁현지에서', '▁1793', '▁세가지', '스부르크', '▁발터', '▁에세이', '공급', '▁패배하여', '▁북해', '▁피쳐링', '▁호찌민', '▁지팡이', '▁부평', '▁사령관으로', '관구', '▁충주시', 'dis', '▁해결하는', '▁악화되어', '▁즐겼', 'NP', '▁대각', '▁민원', '▁양극', '▁재기', '▁평가되고', 'WC', '▁세무', '▁감옥에서', '誌', '▁투니버스', '▁안티오키아', '▁콜럼버스', '▁어디까지나', '曺', '▁정거장', 'ona', '▁방송되었던', '▁주축으로', '▁야행성', '▁평평한', '▁높아졌다', '▁미츠', '▁허용하는', '▁깎아', '▁개시하였다', '▁점토', '▁이루었', '▁항체', '▁통지', '▁관객들', '▁만들어내는', '▁변론', '▁시작하게', '디노', '▁조반', '▁1400', '▁소량', '端', '▁어촌정주어항으로', '▁클라이맥스', '챠', '▁2006-07', '役', '▁생몰년', 'GR', 'Space', '▁낡은', '演', '▁형성된다', '▁러닝', '▁강화군', '요법', '▁물리치', '▁작게', '코쿠', '성향', '▁기획사', '▁축복', '▁이해관계', '▁라벨', '▁합의했다', '▁1851', '▁가모', '▁데뷔하여', '▁이루어질', '사격', '▁승지', '▁좀비', '▁나가지', '▁홈구장으로', '▁변성', 'ima', '▁플랑드르', '캥거루', '▁세련된', '▁느리게', '공예', '▁타이거', '▁표트르', '▁스트로', '▁즉위했다', '▁이끌었고', '▁아테나이', '▁물었다', 'lar', 'kh', '▁2,500', '▁관군', '▁출정', 'inc', 'GO', '▁자갈', '▁참여하였고', 'Sch', '▁미우라', '▁버섯', 'à', '▁폼페이우스', '▁다행히', '酒', '▁맡겼다', '▁교관', '▁일었다', '▁항공편', '▁경지', '▁550', '▁운영되는', '▁적힌', '$', '꼭', '쓸', '▁친히', '▁나와서', 'aut', '▁이주해', '▁망치', '▁사하라', 'sto', '▁높으며', '▁청년들', '▁쥐고', '▁유전체', '▁흉내', '▁도망가', '▁측도', '볼트', '▁우울', '▁듣기', '▁자각', 'yan', 'tics', '▁퇴계', '▁일치하는', '▁유독', '▁치열', '啓', '翰', '▁상동', '祿', '鉉', '▁같으며', '▁익산시', '▁치러졌다', '▁리바운드', 'uff', '-22', '▁결성했다', '▁보내기', 'ville', '▁747', 'eon', '▁이것들은', '▁율법', '▁부전', '▁적재', '▁반향', '▁문건', '▁7000', '▁경쟁자', '▁보내졌다', 'ón', '귄', '▁들어섰다', '▁점령하였다', '▁원칙으로', '▁조조에게', '▁알프레드', '▁힘쓰', '▁정승', '▁현청', '▁붓다', '▁dis', '▁짚', '▁나리', '마법', '▁사병', '▁세운다', '▁관개', '▁까닭에', '▁기계적', '▁여성들이', '▁곡률', '▁강조하고', '꿰', '▁왕당파', '▁본회의', '▁구성요소', 'Bar', '皇后', '▁1852', 'Vi', '▁쓰던', '▁군산시', '▁총선거에서', '르베', 'ui', '▁비틀', '▁섬세한', '▁직류', '루카', '▁합병하여', '▁콜린스', '▁윗면', '▁미식축구', '▁폐렴', '비밀', 'vil', 'hin', '▁염화', '▁사망하였고', '▁훙', '▁동대문', '▁위배', '▁주장하여', '講', '▁1.8', '財', '▁평상시', '▁브렌', '▁사무라이', '▁영장', '▁날아가', '▁대법원장', '▁수상작', '▁요구되는', '▁양력', '▁차명', '▁루카스', '▁노엘', '▁환율', '▁폐교', '▁입시', '▁예속', '▁프리메라', '▁앨라배마', '細', '技', '▁명성이', 'iel', '▁세종대왕', '구락부', '▁돌아올', '▁준결승전에서', '▁흔하게', '▁가혹한', '▁적절히', '▁삽', 'dor', '디지털', '▁나가시마', '▁동일시', '▁시에나', '▁제공되는', '▁단일화', '▁지체', '▁혈액형', '유통', '▁신도시', '▁신병', '▁쓰네', '▁쥘', '▁중앙은행', '▁쾨', '▁발달해', '▁Fl', 'sign', '소방', '卷', '食', '▁베오그라드', '▁컨퍼런스', '▁유일종이다', '指', '▁뉴잉글랜드', 'ов', '교원', '▁무엇보다도', '▁벵골', '▁부여받', '▁트렌', '▁들어선', '▁대중음악', 'pus', '▁안톤', '▁총리직', '▁중앙일보', 'onic', '▁척추', 'back', '▁사변', '2.7', '▁이용되었다', '▁늙은', '▁해운', '▁특정도서', 'uri', '▁유아기를', '▁종사하는', '▁효성', '▁사회복지', '▁다윗', '▁가능하고', '▁발생하지', '▁상선', '▁율곡', '▁대종', '▁1844', '▁증명할', '▁교내', '▁몰아내고', '▁결전', '▁항소심', '▁접목', 'hor', '摩', '▁열대저기압', '▁대금', '▁장택상', '(1977', '▁독재자', '▁급속도', '모두', '▁세단', '▁활동하기도', '센스', '▁중심핵', '▁인계', '▁확정된', '▁오웬', '▁다루었다', '▁니가타현', '▁차차', '포칼', '슬링', 'unk', '▁가세', '▁프롤레타리아', '▁일상생활', '▁전사하였다', '▁영사', '▁대선에서', '민속', '▁열대폭풍으로', '▁개발도상국', '廷', '▁가로지르는', '衡', '잖', '▁클러스터', '▁베르사유', '▁무너져', '▁트로트', 'ras', 'ston', '밸리', '▁1795', '▁서아프리카', '▁출판하였다', '▁Dis', '▁일종인', '▁영위', '▁본편', '▁유구', '▁추서', '뿜', '▁공병', '교섭', '▁배아', '▁달력', '▁다스렸다', '▁비판적인', '▁섬세', '厚', '▁예부터', 'ち', '▁쐐기', '▁움직여', '▁재직하던', 'mic', '톤급', '▁얻었으며', '▁교지', '▁OF', '▁춘천시', '_33', '▁묘사했다', '▁오하이오주', '▁미나토', '▁레이건', '▁가결', '▁발원하여', '▁Best', '▁대항하기', '▁프루', '오브', '▁풀려나', '▁변형된', '▁끔찍', '▁속씨식물', '▁언더그라운드', '▁아파치', '▁사도세자', '▁같고', '▁고후', '▁개축', '▁내었다', '여왕', '▁완벽', '▁조계', '흰', '시키게', '▁제수되었다', '▁개척자', '▁순교자', '소속', 'AU', '▁지원하며', '▁기조', '▁상설', '▁증직', '▁리어', '▁귀순', '▁승선', '斷', 'ر', '▁머큐리', '자이언트', '▁로페스', 'struct', '▁인천국제공항', '맞춤', '▁발전된', '안군', '▁황하', '▁개칭하였다', '▁외교적', '▁없다며', '▁기업인이다', '▁조용히', '▁종들은', '▁올라갈', 'KE', '▁교육학', 'ean', '불상', '▁멜리', '▁중시하는', '▁연습생', '위험', '퓰', '▁으뜸', '▁지나고', '▁부름을', '▁홈경기장으로', '▁군량', '▁광합성', '▁일어나게', '▁사탄', '▁장갑차', '▁제후들', 'ible', '▁유계', '일만에', '프리드', '텔레비전', '▁합쳐서', '▁결투', '선발', '▁무능', '▁변혁', '▁다이묘이다', '▁소양', 'ré', '▁조기어류', '▁샤오', '▁강타', '▁아약스', '▁아르바이트', '▁국방장관', '브릿지', '▁뺏', 'ove', '▁로저스', '▁판매고를', '됐는데', '배치', '▁호른', '도마뱀', '넬라', '▁뽑혔다', 'Nor', '▁삼는다', '▁국무원', '▁1.1', '▁기다리고', '▁형질', '▁백자', '叔', '▁뉴올리언스', '▁호모토피', '▁이화여자대학교', '▁실전배치', '▁소프트뱅크', '메이커', '▁돼지고기', '▁천구', '▁나치당', '▁일제히', '▁만들어냈다', '▁학생회', '쓴', '▁인류학', '▁바뀌었고', '출연', '▁발발한', '▁위축', '▁확장되었다', '假', '▁몰라', '▁지녔다', '▁한민당', '▁급제자', '▁1.6', '▁박탈당', '▁애슬레틱스', '▁악역', '시즘', '▁번개', 'TH', '킥', '▁부사장', '▁근세', '▁영장류', '▁드물다', '▁뉴런', '▁서기관', '▁순찰', '999', '▁평가하였다', '▁강등되었다', 'ves', '▁탄생했다', '▁개봉하였다', '▁달랐다', '遊', '▁좋게', '則', 'م', '▁벡', '服', '▁낳고', '▁카지노', '▁시그마', '▁교토부', '▁베이직', '▁통과한다', '▁살해하고', '▁도쿠', '▁사이즈', 'ope', '▁세력들', '▁간호사', '미츠', '▁비방', '▁MIT', '틈', '▁공격형', 'bil', '▁컵스', '▁가변', '▁승단', 'mg', '僉', '▁건널목', '▁짧다', '돛', '▁오래전부터', '▁인민해방군', '滅', '▁도나우', '라이터', 'pin', '▁나주시', '▁오르고', '▁휴게소', '▁중단하고', '▁훈족', '▁지지했다', 'sur', '문화재단', '_35', '착륙', '▁구분하는', '메드', '▁마늘', '▁남경', '▁그래미상', '▁출항', '▁감당', '▁기념관', '▁서점', '훔', '▁중앙대학교', 'PGA', '懿', '▁IEEE', '▁뮐러', '캐피탈', '▁노트북', '▁Black', 'Chi', '▁함부로', '▁징계를', '▁콜리', '▁색소', '▁해인사', '▁정확도', '▁개막식', '▁하산', '▁독자들', '▁금관', '▁아말', '▁가담했다', '▁살펴', '筆', '增', '▁소용돌이', '▁일렉트릭', '▁소녀시대', '▁실리콘', '▁포섭', 'AND', '▁후백제', '▁섰다', '▁반납', 'Fran', '▁갖추었다', '▁엘비스', '▁열람', '4,000', '▁않으면서', '벤츠', '▁불과했다', '▁대공황', '▁650', '스톱', '▁들어갔고', '▁남궁', '▁1853', '▁광시', 'MU', '▁유창', '▁대국', '▁크레타', '벤트', 'tain', '▁추장', '▁탑재하고', '▁고국', 'だ', '▁선전포고', 'view', '▁발레리', '▁배당', '▁포인터', '▁벗겨', '▁균열', '▁안정화', '▁쟈', '▁패퇴', '▁올해', 'Hel', '▁임명되었으나', '▁산술', '▁시편', 'fect', '▁들어가지', '▁프로이센군', '▁하수', '▁쫓겨나', '簡', '▁헬레니즘', '▁성우극회', '▁교파', '▁오프라인', '복사', '조선왕조실록', '▁조카인', '▁간파', '불좌상', '▁답했다', '대칭', '▁시작했는데', '▁출생하였으며', '▁윈터', '비평', '▁출전하였고', 'World', '개구리', '클래스', '▁익스', '▁켜', 'tar', '▁현악', '예정', '▁1837', '▁우승컵', '▁Bur', '▁쩐', '▁법규', '▁펜타', '▁수학하였다', '▁찾아서', '▁동북부', '▁자동변속기', '욜', '▁비공개', '▁말단', '림동', '▁재발매', '첼리', '▁알베르', '▁관음', '▁첫날', '이었음', '▁삶과', '▁대제학', '▁개최하는', '학급', '▁직각', '▁효율적', '출판사', '▁뛰어났', '▁사용자에게', '▁배재', '▁생산된다', '▁솜씨', '책임자', '未', '▁바로잡', '▁선출하는', '回', '▁핵탄두', '릅', '쩍', '▁후유증', 'TION', '▁여정', '▁흑색', '▁진출하게', '▁게놈', '▁괴멸', '▁참여하게', '로맨스', '▁명확', '▁보였으나', '▁붙어있', '▁귀국했다', '2017', '▁북극해', '▁불분명', '▁돌아와서', '▁쑤', 'urs', '▁스페', '▁즐거움', '▁테크놀로지', '骨', '▁아우구스트', '▁로버츠', 'こ', '▁완전하게', '▁종들', '▁프리츠', 'Prince', '▁싱어', '▁없는데', '▁필연적', '▁발표하였고', '▁다이스케', '_34', '오징어', '8.5', '▁틈타', '플루', '▁사림', '▁나오며', '▁인정할', '▁골절', '▁인정되지', '▁박태', '좀', '▁프라임', 'FE', '▁콜린', '裕', '▁갑신정변', '찮', '▁라쿠텐', '펩', '▁웨슬리', '▁트램', '▁2500', '▁모토로라', '▁마르쿠스', '▁가끔씩', '▁불길', '▁증류', '▁많아서', '족제비', '60,000', '▁표현되어', '쉬르', '_32', 'GL', '▁대사간', '▁팔렸다', '▁사회운동', '▁기울기', '심소', '▁월북', '벨라', '▁오르기도', '▁디렉터', '당국', '3.5', '▁한가운데', 'タ', 'First', '▁언급하고', '▁앙드레', '▁데이빗', '▁지휘했다', '▁그레이엄', '▁종사자', 'gram', '▁마쓰모토', '개월만에', '▁네임', '▁노무라', '달팽이', 'Dr', '▁통일신라시대', '▁지적하였다', '▁주장하면서', '▁돋보', '▁부양', '▁동남부', '▁자료들', '▁판매되고', '▁현감', '▁그래픽스', '▁화원', '▁사드', '茶', '▁갈릴레이', '▁정유재란', '邪', '▁건륭제', '▁미겔', '▁이오니아', '▁석재', '▁합산', '▁브로드', '▁맞이했다', '▁보존상태', '▁나타나게', 'Martin', '▁구분하기', '▁확인했다', '▁쓰여져', '▁건너편', '▁무궁화', '▁처음엔', '사회당', '▁1300', '▁구애', '▁가능하도록', '▁팻', '▁율령', 'KI', '▁논평', '▁중앙선', '▁패러다임', '▁군림', '▁꾸미', '▁예비군', '▁석회', '▁지장보살', '▁디렉터리', '▁네모', '2008', '▁센티미터', '▁충고', '▁돌아간', '▁기미', '필름', '폼', 'med', '▁타임즈', '▁방문해', '▁학생운동', '▁상투', '▁파이터', '桓', '▁NATO', '병마절도사', '▁메신저', '▁쏠', '▁모션', '▁Heart', '마츠', '▁커트', '▁항복했다', '▁Records', 'umb', '▁소크라테스', '▁선거권', '▁학교법인', '▁변경되어', 'gel', '▁패배하였다', '▁쌓여', 'ement', '▁우리에게', '▁1832', '▁작곡했다', '▁가속화', '▁덮어', '▁미러', '▁종합격투기', '꽁', '▁주한미군', '▁동성결혼', '▁중산층', '▁드래곤즈', '▁논산시', '체험', '▁무차별', '▁전염', '▁산간', '누아', '▁책정', '▁처칠', '▁수증기', '벨트', '▁숭실', '▁업체이다', '▁못하면', '▁분명한', '▁1836', '丙', 'Cha', '▁폐지된', '▁결단', '▁무력화', '話', '宜', 'С', '_36', '▁옷주름', '젬', '(1976', '▁구미시', '▁단국대학교', '▁권역', '▁서역', '▁필요하지', '울산', 'une', '▁쓰면', '▁본격', '▁입적', '▁진행되었고', '붉', '▁황보', 'Radio', '▁포교', '▁추방당', '▁마애', '▁서남쪽', '▁일어났고', '▁강세', '徳', '▁벤피카', '▁여주인공', '紅', '▁전철역', '▁나카노', '▁육박', '▁왕릉', '▁지문', '▁열리기', '목록', '▁없어지고', '▁적극적', '▁발행되었다', '▁원점', '▁땀', '▁Society', '▁막시밀리안', '▁베테랑', '▁막강한', '▁지역사회', '▁가능했다', '▁칼륨', '▁단순화', '▁4.0', '▁돋', '▁축구선수', '▁나날', '메탈', 'ira', '▁돌아온다', '▁증식', '▁시각적', '넓', '▁생성한다', '▁넘는다', '▁묘사되어', '▁히바', '▁편입되어', '▁문맥', '▁심각하게', '준비위원회', '▁공직선거법', '▁촛불', '▁안중근', '▁집어넣', '▁급기야', '▁구체화', '▁Road', '▁저스틴', '▁잠비아', '▁열렸고', '▁화풍', '▁투기', '▁이용되는', '▁명승', 'cia', '▁서울역', '▁퍼졌다', '▁Project', '▁향상된', '많', 'LOVE', 'vent', '▁문수', '▁인정하였다', '▁매질', '깡', '雅', '彌', '▁무신론', '▁고취', 'ono', '▁조비', '▁리바이', '▁물리적인', '▁갖기', '▁화북', '▁연방군', '▁퇴치', '중량', '▁타블로', '▁못하자', 'ken', '▁판단된다', '▁결실', '▁부정하는', '▁극대', '상담', '장갑', '▁재화', '있는데', '▁1792', '▁침수', '▁포뮬러', '▁국토교통부', '덥', '▁주세페', '▁승리투수', '▁문학적', '▁나가토', '▁권투', '▁이루어졌으며', 'nic', 'yer', '▁펠레', '▁구장으로', '▁형성되는', '▁유지한다', '▁등판하여', 'set', '▁손자인', '▁논설', '▁오토모', '▁잊지', '▁운전자', '▁망루', '▁공유하고', '▁투병', '도움을', '▁공통적으로', '▁사르데냐', '▁앙상블', '▁보았을', '(1968', '▁선정했다', '__', '▁혁신적인', '▁장착되어', '▁미첼', '▁매복', '▁고립된', '▁가령', '▁계승하였다', '安東', '▁단종되었다', '▁글리제', '▁실책', '▁개발자들', '▁거절하고', '題', '▁듀엣', '▁저조한', '구름', '▁캠벨', '▁입출력', '▁거부하는', '▁밑면', '▁튜링', '▁키즈', '▁2022', '▁막았다', '▁사이공', '만달러', '▁쿼터', '▁파악하고', '슛', '박람회', '▁루손', '삼각형', '▁만화가이다', '▁파견했다', '리엄', '▁임의로', '▁구별하기', '틀린', '▁그늘', '늠', '證', '▁뿌려', 'GN', '▁디나모', '▁견지', '야나기', '▁내몽골', '죽음', '▁아산시', 'urus', '버렸고', 'oh', '▁1842', '▁여긴다', '▁생산성', '▁원통', '▁오딘', '▁출연하며', '▁두었고', '투데이', '▁태양광', '청년단', '▁건립되었다', 'ori', '▁현급시', '읍성', '라이어', '▁모델링', '▁컨디션', '댁', '룻', '▁Street', '▁자리잡은', '▁제기되고', '▁다루기', '▁부진한', '▁재정비', '▁석회암', '▁은신', '▁한정된', 'One', '▁되어서야', '▁크라우', '▁전곡', '운행', '▁베일리', '총독', '▁들어있는', '-100', '雜', '▁거머쥐', '點', '깜', '▁서남부', '▁리얼리티', 'aga', '▁합류한다', '▁빼고', '▁모란', '▁시즈오카현', '▁차별화', '▁카스트로', '▁적합하다', '▁보좌관', '▁해트트릭을', '▁1847', '영업', '▁마피아', '네덜란드', 'Com', '▁드러난', '輪', '略', '昇', '▁어려울', '▁펠로폰네소스', '▁맞대결', '炳', '▁히로부미', '▁북반구', '▁가까스', '▁초계', '▁거스', '▁군복무', '사부로', 'ape', '▁제시하고', '리아누스', '▁따지', '▁생포', '▁팀내', '▁현립', '0.7', '▁USA', '▁차지했으며', '▁참여했고', '▁운행된다', '짖', '▁음양', '▁롤플레잉', '續', '삼국지연의', '▁외무장관', '▁유전학', '▁선거인단', '▁IR', '▁들어와서', '▁상응', '▁동대문구', '패드', '▁불렸으며', '▁발매되었고', '▁치르게', '大王', '▁낙엽', '▁대응하기', '▁보르도', 'VER', 'aka', '▁정착지', '▁겨울철', '▁체계에서', '▁취약점', '▁광배', '▁정도전', '▁Mag', '▁샤르', '籍', '▁모잠비크', '▁포틀랜드', '꽝', 'み', '▁탄생하였다', '祐', '▁발췌', '▁넘었다', '▁셰퍼드', 'TY', '했을때', '▁헤이그', '▁관저', 'ime', '▁이사벨', '▁건안', '▁마음대로', '▁대중들에게', '▁예상된다', '▁나왔으며', '▁무당', 'long', '▁술집', '▁예식', '앉', '외국어', '▁시작하기', '▁아나키즘', '▁엄청나게', '▁훔쳐', '▁깁슨', '▁알베르트', '▁포함하지', '퍼블릭', '擧', '▁교묘', '2019', '▁용문', '케이션', '▁캐스', 'ses', '▁저지르', '▁전국적인', 'ONE', '항공우주', '▁전동기', '빌라', '▁신선한', '훗날', '▁호평', '▁환초', '▁하얼빈', '▁애프터', '▁최종전에서', '▁솟', '▁코크', '▁넘겼다', '▁부식', '▁교서', 'div', '▁헤엄', '▁노력하고', '▁확인되지', '▁일으켰고', '▁뉴저지주', '▁인성', '▁마련해', '▁부르기', '▁출판물', '▁합리적인', '▁말하기도', '▁아핀', '▁트랜지스터', '▁세키가하라', '▁매디슨', '▁요코스카', '▁이동한다', '▁기자들', '▁시작해서', '▁혼돈', '▁근무하는', '▁대조적으로', '▁담당자', 'chan', '▁느꼈', '체육회', 'style', '▁여생', 'eek', '▁자연적으로', '▁구분하여', '▁분노한', '▁옮기고', '▁구실을', '해오고', '▁규약', '▁알렉세이', '▁분홍색', 'DH', '▁Jr', '▁카스텔', '▁스태프', '▁찌르', '▁해운대', '▁델리', 'Black', '▁일치하지', '▁손쉽게', '▁오브젝트', '▁피처링', '▁나미비아', '▁제니퍼', '▁아이오와', '▁결성하였다', '▁데려가', '▁예정이었지만', '▁결탁', 'STER', '▁열렸으며', '▁기독교인들', '▁시게루', '▁부여받았다', '▁TBC', '2016', '▁750', '방안', '▁비올라', '▁빠져나가', '▁살피', 'OX', '▁선호하는', '딛', '▁내각총리대신', '▁암모니아', '촐', '▁레코딩', '▁동두천', '▁무라카미', '▁외무성', '▁샬케', 'LM', '▁앤드류', '▁헝', '수염', '▁띄고', '▁봉작', '공산주의', '▁거액', '▁공황', '▁참된', '▁은하단', '▁뤄', '▁트럼펫', '▁내세운', 'ος', '▁통과시켰다', '▁게이머', '▁명왕성', '▁깨끗한', '▁억류', '▁종합대학', '▁이범석', '▁슈미트', '▁시아파', '▁소켓', '경험', '▁출토된', '▁풍요', '▁데이트', '▁참모장', '▁풍기', 'Cor', '▁이준용', '▁루머', '▁정해졌다', '▁그만두', '▁페르시아어', '▁신설되었으며', '탈레', '▁부임했다', '▁없애고', '스럽다', '▁연임', '▁양평군', '▁추가되어', '▁명예훼손', '▁아브라함', '▁오다와라', '출장소', '▁호기심', '▁타당성', '▁바나나', '▁최단', '▁치중', '▁Che', 'ille', '▁시에라', '병력', '▁산투스', '▁쥐과에', '▁프린터', 'mos', '▁선별', '▁가환', '▁표현된', '하셨', '▁사목', '▁무궁화호', '▁Tri', '▁하동군', '▁솔직', '▁개찰', '▁괴롭', '▁새턴', '▁지킬', '▁0-1', '▁강사로', '▁증권거래소', '▁시의회', '4,5', '▁천왕성', '하기위해', '▁첨부', '▁슬퍼', '▁개설되어', '▁리하르트', '▁기울이', '▁자동적으로', '▁상징적인', '▁거치지', '▁싫', '▁사임했다', '요금', '▁랜디', '▁원문', '▁클로드', '▁마감했다', 'iller', 'я', '▁불균형', '▁않겠다고', '▁기리고', '▁감탄', '두었다', 'Cam', '▁계약금', '▁영종', '▁외상', '▁어느정도', '▁실질', '효율', '▁유지하면서', 'Saint', '▁성찬', '▁표시된다', '公主', '▁빼앗겼', '▁필요했다', '▁반달', '▁합천군', '▁받아들일', '襄', 'ú', '▁암스트롱', '鎬', '▁현미경', '▁브루나이', '▁모여서', '~11', '브랜드', '▁공식전', '▁친정팀', '나간다', '▁남포', '▁교재', '▁급습', '년경부터', '1,000', '▁성폭력', '▁당역', '▁치른다', '▁마련되어', '▁루이지', '▁낙하', '▁지평선', '~13', '▁관료들', '▁제공하며', 'alis', '▁행운', '▁메모', '밀리미터', '▁시행되었다', '巨', '둡', '▁York', '▁빛깔', '▁국무위원', 'ESA', '∼15', '▁사법부', '▁사이언스', '▁다카우지', '親王', '▁격상', '▁김종필', '▁규정된', '▁코덱', '▁서북쪽', '▁통영시', '▁특징적인', '▁정치인들', '▁담양', '에이션', '▁필리스', '▁행정구', '▁박승', '_39', '▁컨설팅', '▁사퇴하였다', '軒', '▁운석', '▁끼어', '▁조율', '▁꾸몄다', '얌', '▁열린우리당', '▁잇따라', '▁짠', '▁해석학', '▁이르러서는', '▁그리스도교', '▁패배하고', '▁지카', '▁비긴', '▁주둔지', '▁최경', '▁생장', '▁거품', '▁탄성', '▁갖추게', '틸라', '▁채운', '그래피', 'Char', '▁조건들', '▁양호한', '▁가속도', '▁이루기', '▁묘사된다', '콘텐츠', '제곱', 'シ', 'Dan', '▁모으고', '▁5·16', '▁만들며', '▁경멸', '▁벵', '▁XML', '▁쓰며', '관음', '▁문하생', '▁트위', '▁무너졌', '▁HMS', '▁동북쪽', 'cap', '▁자재', '▁거치며', '푸른', 'anna', '▁영화관', 'inus', 'key', '▁양평', '▁사용하였으며', '▁수비대', 'nh', '튬', '디우스', '坐', '웹', '署', '貪', '▁프론트', '▁압하지야', '▁동위원소', '難', '▁만루', '▁마사토', '평야', '▁받침돌', '▁낙랑', '▁연방의회', '르고스', '▁가르치고', '▁나누었다', 'Auto', '▁다리우스', '▁피어스', '기본법', '▁이듬해에는', '매니아', '분쟁', '홍색', '▁초반부터', 'Mac', '▁객관', '殷', '▁남우주연상', '▁유니버시아드', '▁불구속', '▁남반구', '▁평신도', 'UL', '▁총살', '▁낭독', '▁Reg', '▁실명', '▁주기적으로', '▁바레인', '▁한정판', '▁배영', '▁광종', '▁엘라', '▁에렌', '▁1791', '▁탭', '▁의존하는', '▁유승', '2.8', '▁딸린', '▁사흘', '감각', '▁고고학적', '▁인질로', '▁현대화', '껴', '歸', '乾', '季', '▁당뇨병', '▁덧셈', '▁광화문', '빔', 'MV', '났으며', '▁기욤', '▁초판', '▁수렵', '▁다닌다', '▁연유', '▁이어주는', '▁1841', '▁종친', '▁발송', '▁튜브', '▁상응하는', '▁강씨', '▁타파', '▁인정되는', '▁목장', '▁꾸준한', '事件', '▁필리포스', '▁사소한', '▁못하며', '▁빈번', '▁에버턴', '▁평론가들', '▁패자', '▁피크', '▁퍼진', '▁소멸하였다', '▁정철', '▁보유자', '▁공헌했다', '_38', '▁Free', 'Sil', '▁대상자', '▁제기하였다', '▁매번', '依', 'É', '▁사우스캐롤라이나', '뉴클레오타이드', '올빼미', '▁띄게', '▁왕좌', '▁카롤루스', '▁다녀왔다', '▁상징적', '▁블룸', 'uit', '믹스', '▁훅', '▁발각되어', '인기가요', '▁기술적인', '실점으로', '여학교', '▁래리', '▁인정되어', '▁케리', '▁말러', '登', '▁터너', '엿', '▁표어', '▁이어갔다', '▁블리자드', '▁메르세데스', '▁모터사이클', '振', '▁안철수', '▁명예교수', 'imp', '▁정규앨범', '▁특이점', 'peri', 'lav', '▁무안군', '▁실린더', '▁니콘', 'oper', '▁버지니아주', '▁활약했던', '▁리그컵', '▁선출하였다', '▁양손', '▁목숨', '▁게오르기', '▁긴밀한', '▁트랜싯', '▁항생제', '▁천연가스', 'bal', '렉터', '▁HP', '▁경덕왕', '▁별칭으로', '▁꼬마', '▁동아프리카', '▁상식', '▁주의회', '▁약속했다', '▁신노스케', '▁압송', '▁평산', '▁크리스탈', '▁합병증', '▁저렴', '▁서산시', '▁도끼', '▁공부하고', '▁데쓰', '▁중학생', '▁달성하기', '▁재주', 'ᄀ', '▁셀레우코스', '廉', '눕', '設', '▁미성년자', '▁일각에서는', '▁카롤', '▁애초에', '공립보통학교', '▁그리스인들', '▁운항하고', '▁살다가', '▁육체적', '▁부사관', '▁화교', '▁조병', '▁끝나자', '랜즈', '▁지내며', '▁잉크', '▁궁예', 'ality', '峴', '銘', '▁사탕수수', 'Edward', '賜', '단백질', '▁불렀으며', '▁브루노', '▁컬링', '▁수메르', 'bon', '▁재결합', 'rel', '유격대', 'lig', '▁위즈', '▁실시간으로', '▁펼치고', '▁허구', '▁쓰러져', 'LG', '▁금지되었다', '▁힌두', '▁겪어', '엘라', '해지게', '▁전기장', '▁파견하였다', '▁머피', '▁서바이벌', '▁신속하게', '▁모질라', '▁보행자', '▁공통된', '▁사냥꾼', '▁프로레슬링선수', '▁교복', '▁예술가들', 'pop', '십시오', '팔라', '▁뛴', '▁조합원', '타이어', '▁시흥시', '▁오우치', '▁안건', '▁외래', '부윤', '▁나오기도', '▁클래', '▁실질적', '▁리치먼드', '▁신성로마제국', '▁배트맨', 'を', '▁글로브상', '▁포상', '▁장편소설', '▁차지하여', '▁정착하였다', '▁탄광', '▁사라지게', '▁대흥', '0.8', '▁보라색', '▁격화', '▁핀다', '▁행정관', '▁축산', '▁핸들', '▁캐릭터들', '▁불렀고', '▁보여주기', '▁개최된다', 'get', '으론', '翁', '▁공조판서', '▁휠체어', '雪', '▁쑨원', '▁수마트라', '▁구워', '분만에', '▁금지되어', '▁성균관대학교', '▁애벌레', 'kHz', 'elli', '▁가입하여', '▁1843', '▁기근', '▁포스코', '▁받으면', '▁이어받아', '▁아테나', '가능성', '▁스태', '▁압둘라', '▁항문', '젝', '▁민주공화당', '策', '旗', '▁기여할', '▁묻자', '▁유지되고', 'zy', '▁늘어났', '▁니체', '▁name', '▁발달되어', '▁직권', '▁1623', '▁집어', 'Fr', '▁퀴즈', '▁단기간', '▁등록금', '희극인', '▁성내', '▁돌아다니', '▁관동', '▁변방', 'tha', '▁발생하자', 'umber', '▁참여하였으며', '맬', 'θ', '▁마그네슘', '▁어드밴스', '休', 'kt', '▁합쳐진', '▁체첸', '4.2', '▁하루카', 'ific', '▁특혜', '▁담수', '▁밀양시', '▁야구단', 'Cap', '헤임', '▁대중들', '젤라', '寬', 'つ', '倭', '▁엔트로피', '▁탄수화물', '▁아쉽게', '▁농작물', '▁비옥한', '▁올랐으나', '▁소탕', '▁정당성', '▁비참', 'ency', '왓', 'Eu', '▁민중들', 'rate', '▁군주제', 'Christ', '셀라', '▁향한다', '▁놀라게', '▁극적으로', '▁좀처럼', '▁옥상', '▁Raw', '왼', '공립', '▁과세', '征', '▁에든버러', '▁모자이크', '▁랜덤', '▁배울', '▁예금', 'box', '▁능통', '▁돕고', '▁차내', '▁대기권', '▁벗어나지', '▁Hol', '어떤', '교육원', '∼19', '▁썼고', '▁의정부시', '▁제품군', '생태', '▁전문대학', '▁만장일치로', '条', '▁매개변수', '▁액티브', 'Frank', '(1967', '▁받들', '▁유태인', 'phi', '▁국제사회', '▁선발되어', '▁떨어지고', 'She', '▁이르지', '▁일하던', '▁퇴사', '▁진행되었으며', '▁입찰', '▁도난', '▁바투', '▁인출', '▁1845', '▁사용되었던', '▁국무부', '固', '뎅', '▁마이크로프로세서', '▁보나파르트', '▁DFB', '▁볼프강', '▁최남단', '▁셔츠', '▁구석기', '▁간부들', '▁포위전', 'shi', '▁활용할', '▁불평', '▁신작', '▁역습', '▁설치되었고', '▁지향하는', '▁되려', '▁신이치', '▁반발하여', '▁페레스', '会', '射', 'ί', '▁인노첸시오', '盟', '▁델라웨어', '▁원내대표', '▁행정기관', 'face', '▁뛰어났다', '▁유폐', '렉션', '▁전액', 'LP', '▁제외되었다', '▁납품', 'Direct', '▁나타내며', '▁1831', '었음에도', '▁발견되었으며', '▁움직인다', '姬', '▁중앙정부', '▁아쿠아', '▁꽃받침', '▁한마디', '▁개정된', '여부', '▁괴뢰', '▁영등포', '▁만물', 'inn', '▁개간', '▁강조한다', '▁자라며', '▁없거나', '프레스', '테쓰', '▁대응한다', '▁가로막', '▁미국인들', '▁취한다', 'iti', '좌석', '▁소망', 'Carl', '▁공덕', '丸', 'â', '▁Church', '▁대한축구협회', '▁도네츠크', '▁창덕궁', '▁치뤘다', '츨', '▁MLB', '▁열대폭풍', '▁토론회', '▁살인사건', '▁고갈', '▁언론에서', '더블', '▁발전시켰다', '▁편성되었다', '▁연좌', '▁역임하였고', '▁지정한다', '▁느낀다', '▁공기업', '▁치료제', 'ド', '▁깜짝', '▁농림수산식품부', '▁안티고노스', '▁로널드', '▁북송', '▁APG', '▁군락', '▁Mnet', 'Bill', '》《', '▁민의원', '▁일관성', '▁열망', '▁도모하고', '▁커졌다', '_37', '▁바스크', '쑤', '願', '欽', '健', '핌', '版', '▁불이익', '▁요셉', '▁친형', 'Pan', '▁공공연', '▁않던', '1.7', '글루', 'EU', '▁출전했고', '▁1806', '0.5', '▁전문적으로', '▁슈퍼스타', '▁분장', '▁스팀', '▁떠났고', 'IEC', 'any', '積', '庶', '庭', '中央', '▁1796', '督', '▁엿보', '▁부당한', '▁모니터링', '▁다름없', '▁중앙아프리카', '▁재판부는', '▁쑹', '▁동의어', '▁기교', '▁불필요한', '▁보조금', 'ets', 'Micro', '▁행군', '▁더구나', '▁예외적으로', 'thy', '▁스완', '▁사이클론', 'Tom', '▁일원으로서', '▁통합진보당', '俗', '앳', '▁앞장섰', '▁하시모토', '▁버려진', '▁system', '▁손바닥', '2013', '국제공항', 'Little', '▁안기부', '탈리아', '▁남아있던', '▁받으', '▁자랑한다', '▁전망대', '▁유저들', '각각', '▁Research', '震', '▁국유화', '▁찍었다', '▁핸드볼', '▁범어사', '▁쇼크', '▁가나자와', '▁구별되는', 'ges', '▁Sound', 'ious', '▁혼용', '▁넣으며', '▁박준', 'anti', '▁예견', '▁개최지', '▁공방', '▁철근', '▁동티모르', '▁쪼개', 'が', '遼', '▁유러피언컵', '▁신군부', '▁딜런', '▁기생충', '직업', 'Bad', '▁2012-13', '▁원군', '▁단과대학', '▁효용', '▁투입된', '▁구별할', '으라', '텔리', '▁제출했다', '▁운영된다', '▁띄어', '▁필하모닉', '契', '놉', '▁이렇듯', '▁보르네오', '▁샌드위치', '▁참모총장', '▁House', '세균', '사업자', '▁확산되었다', '▁매리너', '▁동명이인', '▁하순', '▁조회수', '▁FBI', '▁고흥', '▁항전', '▁허버트', '▁네티즌들', '▁헌액되었다', '▁감싸고', '▁관리되고', '▁것이라며', '▁용접', '▁누워', '▁윤영', '▁탄력', '▁서기장', '▁유리수', '▁사우디', '▁개찰기', '▁당초에는', '▁무찌르', '▁짝짓기', '卞', '▁트로츠키', '▁엉덩이', 'も', '▁핵폭탄', '▁양서류', '▁읊', '▁요시아키', '▁길버트', '▁신궁', '훙', '▁스펙', 'Sc', '▁이루어지며', '▁분쇄', '▁완투', '▁두었으며', '▁도승지', '그녀', '▁재심', '▁바뀌고', '▁유흥', '▁행해졌다', '▁힘들어', 'sha', '늙', '▁블라디보스토크', '洲', '▁독실한', '초등학교다', '▁쟁점', '▁나아가서', '▁인연을', '▁채집', '▁본초', '▁버퍼', '사회학', 'type', '닭', '▁저장소', '▁에코', '▁집합론', '트릭스', '▁오닐', '9,000', '▁모티브', '▁희박', '▁강좌', '츠크', '▁떠나기', '▁재활용', '낌', '^', '寫', '警', '찻', '명탐정', '▁드레스덴', '▁이심률', '▁시작하며', '▁물러났', '▁다이아', '▁입대하여', '▁발전시켜', '▁온화한', '▁쌍방', '▁트리폴리', '▁계략', '▁맡으며', '▁찬탈', '▁대륙간', '▁기악', '▁국민의당', '▁홍씨', '▁사용되었고', '▁의욕', '▁판별', '▁벨레', '▁오가며', '繼', '曆', '▁임베디드', '▁지석묘', '▁티무르', '▁베이비', '▁루드', '▁늘어나고', '▁잎자루', '▁런칭', '▁사무엘', '▁열반', '창작', '▁선원들', '▁반공주의', '▁구룡', '▁원시적인', '▁태안', '기하학', '▁던졌다', '▁무관심', '罪', '▁낮아지', '病', 'п', '▁어렵고', '爾', '▁궤멸', '▁이렇다', '▁올리기', '▁등재되었다', '레브', '▁즉흥', '▁열풍', '▁스케일', '▁분류하기도', '▁선정되어', '▁돌아오지', '▁영사관', '텔레', '▁엘리스', '▁김포시', '▁1835', '▁엑스선', '▁서둘러', '★', '最', '하긴', '최초', '▁굴욕', '▁알베르토', 'TU', 'lement', '2015', '▁열광', '▁발열', '▁폐간', '▁재건축', '2010', '▁주장하기도', '▁드레스', 'ij', '▁부르는데', '▁변장', '셔널', 'char', '▁외삼촌', '▁크리에이티브', '庫', '▁샬럿', '刻', '▁만나기', '▁드레이크', '▁베이컨', '▁반대되는', '▁왕씨', '▁서체', '▁고압', '▁오미야', '성애자', '라이너', '조사위원회', '▁은행나무', '▁명명된', '▁셀레', '▁패스트', 'rim', '漏', '▁의원직', '▁중생대', '▁여긴', '▁유기체', '▁작자', '▁둥글게', '▁인테르', '▁존엄', '▁우랄', '▁입각한', '▁관찰자', '▁하야시', 'Pal', '▁베르디', '경찰청', '▁자손들', 'rey', '▁조교수', '▁엘프', 'υ', '▁승부조작', '툭', '▁도망쳤다', '▁없습니다', '베쓰', '▁이바라키현', '東京', '▁새겼다', '▁알칼리', '샌', '▁세리이', 'dio', '▁헌제', '▁통상적으로', 'gra', '손실', 'arry', '▁궁극적', '▁선정됐다', 'EG', '皮', '▁서스펜션', '▁섹션', '感', '▁가오슝', '▁최북단', '▁앞장서', '▁블러드', '▁스텔스', '▁접미사', '▁포천시', '▁드러', '▁불펜', '▁관동군', '▁이끌어내', '대첩', '▁끊어지', '쳤지만', '▁유명세', '▁유감', '▁채택했다', '▁충돌구', '▁냉정', '▁롬바르디아', '▁유니콘스', '秉', '▁퀘스트', 'cept', '(1975', '▁평방', 'anger', '▁그치지', '▁카잔', '▁종단', '교육기관', '▁무왕', '▁어려웠다', '▁액수', '▁포위망', '▁정글', '▁표준어', 'Super', 'star', '▁담장', 'Hz', 'б', '▁일본국유철도', '뛸', '뮴', '▁규장각', '▁피에트로', '▁엘리엇', '▁본능', '▁성동구', '사무처', '▁1/2', '▁범용', '▁밝혔고', '▁마그마', '▁승전', '▁난간', '최대', '▁직함', '▁인삼', '팬들', '▁던전', 'ward', '注', 'ά', '詞', '▁서프랑크', '▁프로듀스', '▁추밀원', '(1964', '▁2.4', '▁일간지', '▁Game', '▁모빌', 'Jack', '▁욕설', '▁목욕', '베트남', '▁증산', '▁반증', '▁재정난', '▁상환', '▁입자들', '▁맨유', '▁포함해서', '▁성립하지', '▁잠재력', '되었으므로', '▁무예', '贈', '▁여름철', '琴', '超', '▁매니지먼트', '▁피드백', '▁예문관', '組', 'gs', '▁많았던', '▁알려졌으며', '롤링', '▁나오는데', '하였음을', '(1960', '▁워낙', '▁내쫓', '▁둘러싸', 'oul', '▁빼앗긴', '▁서비스업', '▁미에현', '▁동맥', '太子', '▁만주족', '▁혜택', '▁약화되었다', '▁다면체', '▁선정되기도', '▁차지해', 'Va', 'Af', '▁샌드', '▁정차하는', '▁Ass', '▁벌어들', '▁난입', '諦', '뺨', '逸', '▁God', '▁가까웠', '▁참전하였다', '▁놀란', '▁탄환', '▁후베이', '▁투명한', '▁도표', '▁여객선', '▁너희', '▁생기기', '▁발견되었고', '▁엄격', '▁코넬', '▁채택하였다', '핸', 'ift', 'す', 'ω', '▁초고층', '▁정사각형', 'ference', '▁안후이', 'Gal', '▁무과에', '▁쓰이게', '▁명명했다', '▁1821', '!”', '▁누각', 'án', '렐라', '▁마련했다', '아미노', '웠고', '카메라', '▁관중들', '폴란드', '▁자치현', '▁적합하지', '▁욕심', '▁온실', '▁먹으며', '▁합병되었다', 'rist', '▁사죄', '▁양주군', '▁셀러', 'try', '디움', '簿', '10,000', '夜', '땐', 'Henry', '燮', '▁의금부', '▁흡입', 'ological', '▁발표했고', '▁루이즈', '▁LCD', '▁도지사', '▁은둔', '▁바뀌면서', '▁사망했고', '노동당', '▁충실한', 'enti', 'xi', 'rag', 'emi', '▁지령', '▁보여주지', '▁조지아주', '호흡', '▁반대쪽', '▁생성물', '▁탄원', '▁법률상', '돗', '▁우주론', 'iki', '극적인', '▁긍정', '중력', '쏘', '▁연구개발', '▁다니던', '▁일본제국', 'ison', '▁에리크', '邦', '▁Network', '뺀', '▁닮아', '▁프라이스', '勢', '▁베버', '▁체계화', '▁1794', '▁반열에', '▁Power', '▁노원구', '▁히로시마현', '▁노름', '▁진행되며', '렌드', '▁아종으로', '▁승마', '▁교란', '▁2:1', '▁스몰', '▁르노', '▁우주왕복선', '▁히말라야', '▁추궁', '▁초등학생', '▁모국어', '▁쇼팽', 'AO', '▁스레드', '▁옛날에는', '▁연구결과', '▁밝혀내', '트랩', '▁않으려', '▁워즈', '아카데미', '2009', '▁개관하였다', '▁일시적인', '▁1813', 'pat', '程', '▁창씨개명', '▁트리니다드', '梵', '▁알렌', '▁가담하여', '▁핵실험', '▁노후화', '▁민감한', '▁요구하며', '▁활자', '▁페이퍼', '▁크리스틴', '▁유용하다', '▁인디언스', '▁울트라', 'lib', '특공대', '▁요구된다', 'NF', '▁선출되었고', 'wan', '▁창안', '▁팔각', '▁아타리', '경비대', 'sky', '▁제한적으로', '▁마른', '프레드', '▁벽면', '▁2021', '▁석불', '채무', '坡', '▁맴버', 'Gra', '▁포커', '▁흘러들어', '▁열렸던', 'azz', '▁주었으며', '▁마감하였다', 'core', '▁알려지기', '파워', '앗', '▁크래', '▁재학생', '▁노출된', '플레이어', '▁낙향', '▁앙주', '측정', '▁품목', '▁애기박쥐과', '▁전국체육대회', '예수교장로회', '▁중성미자', '童', '▁거룩한', '▁명륜당', '▁분명하게', '▁스탠퍼드', '▁책들', '▁가시마', '▁세분화', '▁현실적인', '했었고', '▁기부금', '▁발사체', '▁해남군', '▁액정', '▁정통성', '▁제품들', '▁테크노', '▁리포트', '▁낙타', '▁가졌던', '▁패하면서', '▁허들', '▁교명', '쑥', '▁사법연수원', 'London', '▁현저히', '▁보여줬다', '▁계좌', '門下', '▁초능력', '▁페터', '▁조르주', '▁가닥', '▁혹평', 'ér', '싱글', '▁가리키며', '▁트리오', '▁제이크', '▁장식되어', '▁카불', '▁고려말', '▁결심한다', '홀드', '▁김유신', '▁물질들', '▁효모', 'phe', '▁이르기', '区', 'ό', '▁그렇다고', '▁레오나르도', '▁프리랜서', '▁잇달아', '▁이성질체', '(1962', '▁입안', 'uv', '▁남아공', '▁독려', '▁견습', '▁수영장', '▁현내', 'ody', '▁창업자', '▁초석', 'put', '▁절터', '▁도달할', '▁책봉되었다', '카페', '▁취락', 'ado', '▁치킨', '▁와이어', 'zer', 'え', '潤', '坊', '▁괴팅겐', '▁엄밀히', '騎', '▁안성시', '▁간편', '▁사탕', '▁않았음', '▁방문객', '▁출소', '▁담았다', '▁촌락', '▁결집', '▁천연두', '▁합치', '아메리칸', '▁유익', '▁시즈오카', '▁다르기', 'rick', 'mini', '▁지키지', '▁숙성', '▁라스베이거스', '陀', '▁김혜', '▁캔자스시티', '▁출연자', '중독', '▁신촌', '▁자연주의', '▁1798', '大韓', '마지막', '▁킬러', '▁검사장', '▁설립되었고', '▁맺게', '▁호의적', '▁시작됐다', '▁습성', '겟', '▁무효화', '▁가야금', '▁마거릿', '▁상세히', '▁진흥왕', '▁경향신문', '▁인정한다', '▁북단', '▁치료법', '▁서대문', '▁맨틀', 'Royal', '스티아', '▁한국어판', '▁못했기', '▁공화주의', '▁금융기관', '_41', '▁졸업했으며', '▁마취', '삼국', '▁인솔', '▁어쿠스틱', '▁니시테쓰', 'On', '▁혹독', '▁목판본', '▁친숙', 'ACE', '▁종착', '▁쿠페', 'Call', '▁코미디언', 'Jan', '{', '금액', '▁선정되었고', '▁당원들', 'var', '▁함락시키', '얕', '▁아람', '탔', '▁다카라즈카', '쉘', '차량사업소', '▁열악한', '大邱', '향상', '▁독소', '▁로베르트', '▁총알', '▁맞추기', '▁주택지', '▁대뇌', '▁여호와', '▁지내던', '▁높지', '▁제천시', 'cker', 'Para', '▁남기지', '꼽', '▁냉방', '▁제거하기', '▁사림파', '▁영흥', '▁Back', '▁영감', '▁삼위일체', '▁에트루리아', '▁보건복지부', '▁세컨드', '翊', '判書', '▁트라키아', '▁돌며', '▁미워', '▁물리쳤다', '▁악화되었다', '▁적용되지', '▁나뉘는데', '▁의존한다', '▁1805', '▁커티스', '▁사천시', 'LT', '▁볼륨', 'plan', '▁태극기', '▁참가했으며', '▁왕녀', '▁(2019', '▁푸드', '연구관', '▁얻어진', '蒙', '▁올랭피크', '▁명백히', '▁금광', '▁흥미로운', '▁원통형', '▁흰개미', 'Pet', '▁끊이지', '▁시작되면서', '▁충실히', '▁대답했다', '▁청렴', '▁쫓아내', '×10', '룩스', '▁클레어', '▁지내면서', '▁기울였다', '쟈', '▁지켜야', '▁오와리', 'arc', '▁남겨진', '←', 'ᄋ', '▁앞세워', '▁캡틴', '▁브람스', '▁풋살', '▁떨어뜨리', 'align', '(1965', '하우젠', '▁남아프리카공화국', '▁소비자들', '▁신의주', '융희', '▁선정되었으며', '▁떨쳤다', '▁궤간', '▁1809', '▁의종', '▁코스타', '▁트윈', '▁풍산', '▁제국군', 'ela', 'Net', '▁퀸스', '▁올리며', '▁공과대학', '▁쌓았', '▁오를레앙', '晩', '▁호날두', '▁절친한', '▁손오공', '懷', '▁산체스', '▁자원봉사', '▁초자연적', '▁Top', '▁점심', '▁완도군', '▁Year', 'Count', '▁확장팩', '▁청탁', '▁저작물', '▁앞부분', '▁엄격하게', '▁못했으나', '▁지도력', '▁미세한', '▁화순군', '▁줄어들고', '▁녹말', '▁받들어', '콜리', 'Chan', '紫', '▁고혈압', '▁컨페더레이션스컵', '깅', '▁리차드', '▁한니발', '▁앙카라', '하이드록시', '▁명맥', '▁붙이고', '▁가능해졌다', '▁With', '▁입었고', '▁멀어지', '▁황도대', '였으므로', '유도탄', '▁체격', 'Mel', '▁공동대표', '▁Web', '▁당연한', '블록', '再', '過', '▁컨벤션', '▁부드럽고', '▁투르크메니스탄', '▁페니', '▁아우르는', '▁교감', '▁음색', '지휘자', '▁최고봉', '▁정나라', '▁사립학교', '城君', '▁강동구', '▁헬렌', '▁가능하지만', '▁감히', '▁세탁', '▁교회법', '▁관악구', '▁김응', '▁이적하였고', '▁부활절', '▁잔당', 'body', '▁친목', 'カ', '散', '벙', '▁플라즈마', '킬로그램', '▁거둬', '▁River', '문화예술', '▁문물', '▁과업', '▁이르면', '▁부응', '▁1804', '▁대관구', '돌린', '▁수여받', '▁발작', '▁석등', '▁표결', '딧', '▁엘살바도르', '▁불투명', '▁봉수대', '▁이어받았다', '▁성명서', '▁박희', '▁형광', '▁푸틴', '▁배우로서', '▁기독', '▁Plan', 'iva', 'anus', '▁라치오', '▁유가족', '혈증', '▁캔디', '▁출진', 'れ', '́', '묘법연화경', '蓋', '▁순차적으로', '深', '▁유망주', '▁정반대', '▁지뢰', 'Ben', '▁권위주의', '▁레저', '되었었다', 'aya', '▁청풍', '대책위원회', '▁1824', '▁탁발', '▁분화구', '▁접경', '그로브', '▁다양하고', '▁남짓', '▁오렌지색', '▁1833', '프로젝트', '▁대학살', '▁보이즈', '▁참가하기', '▁항거', '▁개폐', '▁일어나면서', '甘', '紙', '▁클라리넷', '뜸', '凉', '▁테러리스트', '▁바꾼다', '▁나뉜', '▁낙태', '섹스', '▁좁고', '▁4-0', 'NR', '▁탈옥', '▁실렸다', '▁만화책', '▁라임', '▁그러고나서', 'マ', '▁2005-06', '▁사생아', '▁ICBM', 'ume', '▁코르테스', '▁나카모리', 'NY', '▁부결', '▁지워', '▁갖추어져', '▁진도군', '▁꾸려', '▁불리는데', '▁1783', '▁알브레히트', '▁콘스탄티노스', '▁퀸즐랜드', '站', 'Type', '▁반복되는', '▁느려', '▁1597', '모씨', '▁탑재되어', '▁행방', '▁아이들에게', '▁연해주', '네이터', '워터', '▁서식하며', '▁재산권', '▁디스코', '레벨', '▁통계학', '▁지킨', '納', '育', '▁피타고라스', '▁언젠가', '▁MPEG', '▁무서운', '▁가까워지', '▁히브리', '▁주장했고', '했었던', '▁음악가들', '▁경유하여', '▁로런스', 'chem', '文學', '▁폐단', '▁세일러', 'live', '▁천체들', 'ICA', '▁벌였고', '▁무엇', '▁가졌', '▁나가사키현', '▁1834', '▁해설위원', '민주화운동', '▁현실적으로', 'Ir', '▁대문자', '였는지', '介', '▁현저하게', '鼎', '(1961', '▁후임자', '▁선고받고', '▁타겟', '▁예산군', '▁버락', 'Ag', '텐베르크', '갈매기', 'iver', '▁해설자', '아랍', '엄마', '▁불러일으켰다', '▁이동통신', '▁장준하', '▁농부들', '▁이루어졌고', '노쿠니', '追', '▁신인왕', 'Global', 'Δ', '▁NXT', '▁신탁통치', '▁패전투수', '▁경부고속도로', '▁안토니우스', '-300', '▁여겨지며', '▁월드시리즈', '▁기소된', '▁거둔다', '▁심리학자', '▁린네', '카운트', '▁늘었다', '▁잃지', '소닉', '▁통계적', '▁정당별', '▁메탄', '르스키', '크롬', '▁스위트', '▁상용화', '저수지', '▁분담', '陶', '▁나름대로', '▁외할아버지', '저축은행', '▁이와테현', '▁해럴드', '盤', '▁파르티아', '▁물려받았다', '▁분당구', '독창적인', '▁멜론', '▁만찬', '촉진', '▁넓다', '6.1', '▁올림피아', '▁샌디', '▁실황', '▁혼슈', '▁출제', '▁배타적', '▁게임보이', '▁교착', '▁버밍엄', '▁캔터베리', '▁타지키스탄', '症', '▁브리트니', '▁스펜서', '▁아칸소', '▁꾸짖', '▁랜드마크', '敎育', '▁신빙성', '釜山', '▁넘긴', '▁조엘', '▁플래그', '▁민족향', '▁입는다', '▁먹었다', '▁클라라', '▁헤딩', '▁레오폴트', '▁특화', '찾', 'rix', '▁기념식', 'mond', '구청장', '▁보성군', '되곤', '▁승패', '▁참가국', '▁충동', '▁내세웠다', '▁무너뜨리', '▁생김새', '▁내걸고', '▁청문회', '슐레', '▁익주', '▁평가받는다', '▁End', '▁받자', '▁누락', '▁Lee', '▁귀향', '▁고타마', 'Real', '▁제후왕', '▁설법', '독립운동', '연구센터', '▁묻어', '▁낙하산', '▁불명예', '몽골', '序', '譯', '▁생중계', '▁시우바', '▁도색', '▁갈아탈', '▁암술', '▁타이밍', '롭지', '▁로렌초', '▁이것들', '▁전횡', '위대한', 'sol', '▁급제하였다', 'web', '라든가', '▁깨닫', '▁실태', '뱃', 'rough', '壇', '스테드', '▁프레더릭', '▁헤이룽장', '鐘', '▁뭔가', '▁신숙주', '▁휘두르', '惟', '▁보였으며', '시켰으나', '▁제시카', '▁의성군', '▁켈빈', '▁빈센트', '절제사', '▁방출되는', '▁모기업', '▁이영호', '▁트루먼', '▁마땅', '▁프로이트', '▁원균', '▁쇠약', '▁한정되어', '▁페티', '▁사용해야', '▁사모아', '▁인민당', 'phon', '▁신라시대', '샤르', '▁높아져', '▁어필', '증후군', '▁증손자', '▁용이하게', '▁크리켓', '▁놓이게', '▁언어학자', '▁윈드', '해보면', '▁수수료', 'Les', '▁계몽주의', '▁절연', 'Maria', '교도소', '▁야채', '▁문묘', '화폐', '▁발표하였으며', '번함', '처음', '▁인척', '▁프로그레시브', '▁산마리노', '▁정맥', '▁있었는지', '▁멘토', 'Mag', '▁일렉트로', '▁몰입', '▁안정감', '▁접근법', '▁품계', '▁야구팀', '▁접근성', '2011', '▁월급', '▁군세', '▁생겨났', '▁행해지고', '▁폐쇄되었다', '▁우쓰노미야', '텅', '▁울릉도', 'よ', '▁프로방스', '▁변속기', '▁경순왕', '(1966', '▁확인된다', 'IRA', '▁의인화', '▁대타로', '▁보병대', '3.6', '▁재판장', '▁들었고', '연출', '▁Festival', '▁하이델베르크', '▁호몰로지', '▁트래픽', 'ür', '▁남측', '▁김천시', '▁1392', '그래프', '농악', 'icus', '▁아오모리', '才', '硏究', '▁귀퉁이', '▁톨킨', '▁슬롯', '▁좋겠다', '▁입힌', '▁밀레', '▁1775', '▁코나미', '▁끝낸', '삼존불', '▁법과대학', 'action', '▁철거되었다', 'pot', '▁떨치', 'Rock', '관료', '▁직후부터', 'Imp', '▁기물', 'hat', '▁뭉쳐', '▁미니앨범', '▁알려지면서', '▁기장군', '▁살아있', '▁미시간주', '▁요시노부', '들끼리', '▁넣었고', '끌', '▁젠더', '▁정상화', '▁돌렸다', '스프링', '▁누르면', '▁갑판', '▁특화된', '여자대학교', '롄', '殺', '▁하이든', '▁가입자', '프로이센', '큐브', '▁관철', '獨', '県', '▁손꼽힌다', '▁인플루엔자', '▁콘스탄티노플', 'ジ', '▁키르기스스탄', '▁척추동물', '손가락', '(1958', '▁문교부', '▁아르카', '9.5', '▁유물론', '▁사라졌', '▁로마인들', '클레스', '▁김효', '보통학교', '▁아뢰', 'How', '_40', '캠', 'udi', '▁뚜렷하게', '▁1803', 'law', '▁근무하던', '▁도핑', 'HF', 'Tech', '編', 'š', '▁라플라스', '쳤는데', '▁에런', '▁미망인', '(1963', '▁많았고', '▁일조했다', '▁욕계', '▁필요없', '▁완만한', '테우스', '▁Light', 'vid', '▁만들었는데', 'ICE', 'ider', '▁어릴적', '▁추위', '▁암초', '▁하나하나', '▁독단', '▁스킨', '▁왜소', '▁넷플릭스', '▁브루크너', '▁파룬궁', '▁하코다테', '▁마운틴', '▁넥스트', '也', '▁도요타', '▁풀어주', 'itor', '▁인정받지', '▁오카다', '얼굴', '▁자객', '▁외젠', '▁구로구', '▁Station', 'ova', '▁남극해', '▁처단', '▁평창군', '▁커먼', '▁여겨져', '▁Hill', '節度使', '리투아니아', '▁해양수산부', '▁카운터', '▁불태우', '▁올림피아코스', 'Philip', '▁조제프', '▁덴버', '▁존재하는데', '▁달성군', '▁오메가', '▁브뤼', '▁다카마쓰', '▁편의점', '▁가져올', '▁땅콩', '▁경제성장', 'USS', '▁역임하였으며', 'lag', '▁우호적인', '▁황위', 'BU', 'base', '겠습니다', '▁일본인들', '放', '推', '止', '▁멤피스', '▁모노레일', '▁침례교', '▁어렵지', '▁간척', '▁스피어스', '시킴', '▁죽으면', '▁이르렀고', '▁친필', '▁거물', '▁캐슬', 'osa', '▁분명하지', '▁공개되었으며', '▁굳게', '▁가나가와', 'chen', '聯', '煩惱', 'з', '▁고르바초프', '熊', '▁가선대부', '프렌즈', '▁간쑤', '▁해운대구', '스텝', '▁함안', '▁길목', 'play', '▁기록했지만', '▁돌려주', '▁몰살', '▁바꾸기', 'RU', '落', '浮', '料', '蘊', '▁알렉산드라', '斯', '원자력', '▁사카모토', '▁신기록', 'Queen', '▁샘플링', '▁선데이', 'Arch', '▁기울여', '▁진화론', '▁야마구치현', '▁전반전', '▁남아있었다', '▁다각형', '▁장엄', '▁징병제', '▁오키나와현', '▁자치령', '▁돕는다', '▁개별적으로', '▁찾으려', '▁쓰러지', 'orum', 'х', '▁Technology', '▁설문조사', '▁아르눌프', 'August', '亮', '▁완주군', '▁알타이', '▁상류층', '▁남원시', '효종', '▁고창군', '▁알려지고', '▁문화재청', '▁지내기도', '▁국민의회', '▁외벽', '▁평평', '▁섬멸', '▁Sha', '▁뽑히', '▁본격화', '▁진동수', '▁에브', '▁후보위원', '▁전세계적으로', '▁글래스고', '콘서트', '▁스트라이크', '▁보두앵', '▁시트르산', '▁가시광선', '▁RPG', '▁버나드', '▁집현전', '▁맞대고', '▁감사원', '(1959', '▁필살기', '▁불렸던', '▁재귀', 'enne', '▁세포막', '피스트', 'ally', '▁미요시', '▁미즈노', '▁왕망', '▁밀어내', '▁막으려', '▁통치권', '徒', '隨', '▁프로토타입', 'د', '▁각운동량', '기념사업회', '▁that', '▁포터블', '▁아니므로', '뮤직뱅크', '▁막혀', '싶', '▁Show', 'TRA', '▁초반까지', '▁화려하게', '▁유대류', '▁있을까', '▁Tele', '▁개표', 'mph', '낚', '▁보였지만', '構', '▁뉴사우스웨일스', '▁주황색', '▁케니', '맡', '▁시어터', '니엘', '▁히메지', '▁건너갔다', '▁픽업', 'lot', '▁표류', 'UT', '▁일상적인', '폭탄', 'count', '▁페르미', '▁여흥', '핸드', '▁곳곳', '~40', '▁덧붙', '歷', '▁레버쿠젠', '▁알레산드로', '磁', '퀵', '헴', '▁인테리어', '掌', '▁완봉승', '▁깔끔', '잎코박쥐', 'ational', '▁유럽인들', '▁전자기파', '▁섭씨', '▁다방면', '▁계책', '▁유니온', '▁위클리', 'layer', '▁낙선하였다', '▁도망친', '▁준위', '鮮', '▁박격포', '▁뜨겁', '었으니', '▁쾌락', 'ender', '▁봐서', '▁Hall', '언어학', '▁TOP', 'Tri', '▁프라이드', '▁농민군', 'order', '▁구분되는', '▁단념', 'stein', '▁선비족', '句', '▁곤살레스', '▁빽빽', '▁문무왕', '▁국무장관', '항쟁', '▁결속', '▁Party', '▁집단군', '▁제후국', '▁옮겨져', '5000', '▁연천군', '▁친구이자', '▁보육', 'Syn', '문답', '질수록', '▁비트겐슈타인', '▁크로스컨트리', '袁', '▁스포르팅', '▁구스타브', '▁신한국당', '習', '▁기다려', '▁막바지', '▁최치원', '▁기아자동차', '▁발굴조사', '▁황갈색', 'dal', '大臣', '▁2013-14', '▁촉구했다', '플라워', '이집트', '▁쓰러진', '▁암벽', 'tric', '▁릴리스', 'Euro', '▁시설물', '구사론', '▁운문', 'uer', '캅', 'ł', '▁컨소시엄', '▁몰아넣', '▁다가가', '▁추대되었다', '▁원동력', '▁공양왕', '석가여래', '▁밝히지', '▁등록명은', '▁부풀', '▁지휘권', '▁상관관계', '▁승려들', '▁전해지지', '▁곁들여', '▁강진군', '毅', '▁애완동물', '▁미완성', '▁비엔나', '▁무너진', 'Daniel', '▁견딜', 'HQ', '▁GPU', '컴퍼니', '줘야', '–19', '▁취입', 'hol', '▁축약', '룹', '存', '▁생제르맹', '▁에드먼드', '▁빠르다', 'uis', '▁핵연료', '▁맡으면서', '▁따랐', '▁상업용', '▁노나라', '▁학부모', '스러웠', '▁불황', 'Ray', '▁선거운동', '▁추서되었다', '▁대머리', '敦', 'ñ', '▁나시오날', '옙', '▁부적절한', '▁오카자키', '▁수양대군', 'MAX', '▁린드', '▁바뀔', '運動', '▁고흥군', '▁똑같', '▁해발고도', '▁소중한', '▁모듈러', '▁맺는다', '▁후견인', '▁겪으면서', '▁페인트', '▁크리스천', '▁물리학상을', '▁소시지', '축구연맹', '▁엮어', 'Ban', '▁배상금', '▁라치오주', '▁출근', '밖', '▁정상적으로', '▁1838', '▁잡음', '쳤던', '코믹', '▁보았고', '깐', '▁밀턴', '▁Corporation', 'ロ', '▁왕위계승', '▁시에라리온', '▁다운타운', '▁키워드', '▁끌어내', '기획보도', '▁목회자', '▁읍내', '▁후렴', '코끼리', '▁노획', '▁산업혁명', '▁해적단', '▁냉동', 'YO', '▁유기물', '▁적용될', 'ask', '▁서울시장', 'gent', '麗', '▁위엄', '싣', '刊', '▁맞닿아', '▁밀워키', '뽕', '▁틀림없', 'Every', '▁스포르차', '▁집대성', '▁이스마일', '▁마이니치', '▁리서치', '▁연세대', '▁탐욕', '▁다뤄', '▁엄격히', '▁얻으며', '사운드', '▁멕시코시티', '▁지표면', '▁피스톤', '▁레오폴', '▁이즈모', '▁피난민', '▁친절', '▁인산화', '촨', '▁가능케', '尼', '▁ال', 'Francis', '芳', '▁재검토', '▁마돈나', '▁트레이너', '▁확고한', '▁거문고', '▁머리장식', '▁법학부', '▁평양직할시', '▁허정숙', '府使', 'rec', '▁복수형', 'MW', '▁청교도', '▁차량기지', '▁특징들', '▁미주리주', 'raw', '핍', '▁거느렸다', '▁비정규직', '▁온게임넷', '▁호쿠리쿠', '疏', '꿇', '▁폴리네시아', '▁훈민정음', '▁불충분', '▁레너드', '▁조너선', '▁브래들리', '▁어딘가', '基壇', '露', '▁이르며', '▁자위대', '▁배포판', '▁선사시대', '▁스키타이', 'Old', '▁해산물', '▁헌액', '생명과학', '▁아가씨', '置', '▁은평구', '비로자나불', '▁정읍시', '▁쓰가루', '▁화친', 'olic', '▁모리오카', '붐', '淸州', '▁마쓰야마', '▁도큐', '▁격돌', '▁상상력', '▁정의하자', '해왔던', 'read', '▁계엄', '▁이천시', '그것', '▁나탈리', '碩', '奴', '磨', '▁탈레반', '▁온전히', '楚', '▁셔먼', '▁있느냐', '▁북베트남', '▁다섯째', '▁있었음에도', '▁연구팀', '여기서', '▁충분하다', 'each', 'ago', '▁나오면서', '虛', 'European', '▁나뭇잎', '▁방탄소년단', '샛', 'section', '▁인조반정', '▁찔러', '▁목걸이', '▁알론소', 'enz', '▁아랫부분', '▁옆구리', '▁현악기', '▁일으키자', '▁단편소설', 'Phil', 'rent', '▁미야코', 'under', '▁떠올랐다', '▁낳는', '▁퇴장당', '▁만들어졌고', 'rew', '▁괘불', '▁본존', '▁줄었다', '전산망', '▁이지스', 'ates', '▁개량형', '▁즐거운', '▁한국프로야구', '텡', '▁HTTP', '▁비욘세', '▁대승불교', '▁밑부분', '▁달서구', '▁항저우', '때마다', '▁회합', '▁엘튼', '여래입상', '▁가고시마현', '▁코러스', '▁시력', '▁경기력', '▁베르너', 'aker', '▁추종자들', '▁시작되기', '巡', '▁맞물려', '▁Entertainment', '▁몬태나', '》·《', '▁거듭제곱', '▁언제든지', '▁떠올리', '▁요시쓰네', '地方', '▁글래스', '▁중남부', 'ating', '바운드', '▁주교좌', '▁연나라', '▁농경지', '했어', 'rap', '큐어', '녁', '▁페론', 'Digital', '▁에탄올', '▁임팩트', '維', '▁줄임말', '勇', '▁시라쿠사', '▁비핵화', '▁의석수', '▁밝혔으며', '▁극복하기', '▁BMW', '▁점령당', '▁코스모', '▁서양식', '▁요인들', '▁성리학자', 'odon', '▁고시라카와', '▁윔블던', '泳', '▁수류탄', '十二', '▁울타리', '▁설립허가', '▁NHL', '▁쉬워', '▁비대칭', '▁성공시켰다', '▁1802', 'EI', '▁목격자', '▁믿었', 'lim', '▁서아시아', '▁정규시즌', 'test', '▁쇼난', '=2|', '▁아틀라스', '▁무기징역', '▁호조판서', '施', '項', '▁남자친구', '▁쫓기', '▁게르만족', '▁초연되었다', 'GHz', '▁차지하였고', 'WW', 'β', '▁남수단', '▁압도적으로', '▁생물학자', 'anth', '▁습기', 'ube', '▁예배당', '▁경작지', '▁결승골', '▁황궁', 'Ig', '▁다니면서', '▁반칙', '▁정확성', '팁', '▁오가사와라', '▁알레르기', '▁어항구역', '▁스콜라', '▁신비주의', 'University', '▁연구기관', '되었습니다', '선인장', 'ар', 'ough', '론자들', '▁주교들', '뜯', 'レ', '▁반민특위', '▁프로펠러', '於', '染', '▁로런츠', '客', '▁크레이그', '▁보냈으며', '▁내려갔다', 'Che', '라이온', '▁밝아', '▁기재되어', '▁크리스토', 'range', '▁이어졌고', '▁직영', '▁실용적인', '▁뒷날', '戦', 'ç', 'К', '▁데포르티보', '▁County', '▁스테레오', '▁닭고기', 'Summer', '▁밤하늘', '▁드나들', '▁치러지', '▁아라카와', '▁갑작스러', '▁본따', '▁Long', '쿼터', '▁끊임없', '▁차지하기', '▁걸릴', '▁혈연', '▁LIVE', '▁브리티시컬럼비아', '▁화이트삭스', '▁설리번', '街', '▁휴양지', '▁무자비', '▁금메달리스트', '▁픽션', '▁엠넷', '▁퍼플', '▁떨어질', 'rich', '▁높아지고', '헐', '▁월리스', '▁오사무', 'hl', '▁보답', '연산군', '而', '▁다채로운', '▁웸블리', '씹', '▁카멜', '▁Ltd', '▁넘어간', 'Ste', '▁칼데라', '▁지켰', '▁담양군', '▁방영되었던', '▁일어났던', '▁커지고', '▁사제들', 'Star', '▁인문주의', '▁파벨', '▁대각선', '과일박쥐', '쪼', 'ê', '▁루즈벨트', '▁홋스퍼', '▁쿠빌라이', '▁자오선에서', '▁나혜석', '▁덕양구', 'graph', '곰팡이', '▁노릇', '▁아니었지만', '▁춤추', '▁대학원생', '브릴', '▁크릭', 'til', '▁안정적으로', '▁거센', '▁근본주의', '▁광명시', 'flo', '4.8', '▁얼터너티브', '▁콘셉트', '岐', '뻘', '홋', '灣', '팸', '▁프린세스', '▁버몬트', '▁역무원', '▁후시미', '▁괴롭히', '▁차례차례', '▁사고방식', '▁망막', '캘리포니아', '▁신도들', '▁듀크', 'Art', '닮', '▁하랄', '▁우에다', '▁언급되는', '확장', '▁보이저', '▁매핑', 'table', '失', '▁친동생', '▁낯선', '▁에볼라', '勒', '▁은총', '▁노비타', '▁애리조나주', '▁가혹', '▁교직원', '▁경영대학원', '▁혈압', '▁먹으면', '▁재사용', '▁면접', '大君', '▁합법적인', '▁곁들', '▁철학자들', '述', '▁뒤셀도르프', '畿', '▁간직하고', '當', '▁파올로', '▁5·18', '▁태우고', '▁엠마', '▁게이초', 'spect', '▁교섭단체', '▁침착', '▁아오모리현', '▁Will', '겼으나', '젖', '▁토착민', '▁건국대학교', '▁참가하였으며', '▁내렸고', '▁말레이어', '▁인정받는', '妙', '▁네브래스카', '▁어쨌든', '튠', '▁사보이아', '▁찬반', '▁히데키', '▁팬아메리칸', '▁영동군', '▁와이파이', '(1956', '▁따내', '▁두만강', '▁틈새', '▁입혔다', 'ification', '공민왕', '▁빚었다', '▁재평가', 'Def', '셰르', '▁앨버타', '▁캡콤', '▁플뢰레', '▁아폴론', '▁박중양', '▁자바스크립트', '▁군마현', '▁그레고리력으로', '平章事', '▁섹시', '▁청군', '▁엑스트라', 'Vis', '▁요구사항', 'self', '▁레이커스', '▁요시타카', '▁게이세이', '▁오층석탑', '▁켈러', 'mont', '▁EMI', '약칭', '▁바친', '▁부르지', '▁대동강', '▁서킷', '▁팔았다', '▁크립', '▁영문학', '▁노예들', '▁증설', '훤', 'フ', '▁비스콘티', '▁카테고리', 'キ', '嬪', '퀄', '迦', '▁AEK', '▁웰링턴', '塔身', '侍郞', '▁비선형', '▁펀치', '▁멘델', '▁남로당', '시켰는데', '▁다다요시', '묻', 'DVD', '▁오쿠보', '6.7', '▁눈길', '▁심취', 'ан', '▁Dance', '▁때문이라는', 'け', '깬', '▁신약성경', '▁페가수스', '▁두터운', '▁흑사병', 'Johann', '▁Brown', '寺址', '▁관람객', '▁윈스턴', 'Single', '간선도로', '▁로펌', '▁구성되어있다', '大將軍', '▁프레드릭', '▁밝히며', '▁Rose', '▁음식물', '▁밀착', '▁진보당', '▁스트레이', '▁관광업', 'onder', '▁록맨', '놓았', '▁타고난', '餘', '▁피오렌티나', '▁옮길', '▁옹진군', '▁성추행', '▁카리스마', '▁제이미', '▁신용카드', '▁하루히', 'dra', '▁승탑', '하느님', 'Anti', '▁김제시', '▁자유계약', '▁개인주의', '▁카자흐', '活', '▁리히텐슈타인', '▁벚꽃', '▁아름답고', '▁횃불', '委員會', '쉼', '▁행방불명', '▁카네기', '▁심포니', '▁이자겸', '▁챔피언쉽', '▁OVA', '오픈', 'EO', 'pal', '▁원한을', '▁전국시대', '옆', '▁같지', '▁번역본', '▁에테르', '▁이루어지기', 'Memor', '▁좌완', 'new', '▁펼치며', '▁America', '▁탄탄', 'Der', '2007', '▁부제학', '▁뇌졸중', 'ب', '▁아이튠즈', '崎', '率', '▁황폐화', '▁원더러스', '크라테스', '▁윤선도', '▁시라카와', '줌으로써', '▁땃쥐과', '▁위상수학', '최순실', '▁가져갔다', '▁우리말', '▁결점', '▁조선왕조', '▁들어갔으며', '5,6', '▁다녀온', '▁소방관', '▁관음보살', '先生', '稅', '▁펜티엄', '냇', '〜', '▁여기저기', '宿', '▁총파업', '背', '▁개인리그', '▁뱀파이어', 'duction', '▁버펄로스', '▁핵미사일', '▁팬클럽', '▁저질렀다', '▁죽이기', '▁랭스', '▁후속곡', '▁징후', '▁레퍼토리', '▁탈바꿈', '▁포츠머스', '▁라이프니츠', '鹿', '▁유연성', '壁', '▁비교했을', '▁끝나게', '▁싸우게', 'ben', 'verse', 'lio', 'ware', 'anda', '▁TNA', '▁시민사회', '뒷', '▁적절하게', '▁밝게', '▁수녀원', '▁창단되었으며', '클레르', '▁나타내어', '峯', '▁퍼거슨', '▁니케아', '▁칭기즈', '▁때마침', '奏', '▁블레이크', '▁사투리', '▁담론', '▁박지원', '▁1,300', '▁프레디', '光州', 'hard', '▁기인한다', '다시피', '旨', '鳴', 'public', '▁나이아가라', '▁동프랑크', '▁레즈비언', '킵', '뇰', '▁쟁취', '太后', '▁Program', '▁머무는', '▁법무법인', '▁파이터스', '護軍', '▁스코트', '▁돌궐', '▁김원봉', '▁결번', '▁안드레아스', '가시쥐', '▁문인들', '▁맛보', '▁골드컵', 'ello', '▁공격력', '▁로도스', '▁민첩', '▁레프트', '층석탑', 'code', '▁키루스', '▁충절', '配', '睦', 'ч', '▁소선거구제', '▁넥슨', '▁마인츠', '▁특별기획', '▁때문인지', '▁철원군', '▁Like', '▁외래어', '중랑장', 'Mur', '막염', '▁마리우스', '하리라', '폭격기', '7.0', '與', '▁파멸', '▁가요계', '▁슈퍼히어로', '▁스왈로스', '▁자존심', '▁유일속', '▁사악한', '했듯이', '▁상임위원회', '▁흘려', 'house', '▁테바이', '▁점성가들', '▁차례대로', 'на', 'Multi', '▁상쇄', 'mark', '댓', '▁Championship', '▁판의금부사', '▁조그마한', '신데렐라', '▁힘써', '3.4', '▁퍼레이드', '▁배웠고', 'free', '보병연대', '6,7', '▁수리남', 'state', '쭈', '▁버틀러', '▁스털링', '▁코페르니쿠스', '▁의사표시', '▁프리메라리가', '▁슬라이드', '縣監', '가능하다', '▁시노드', '플랜', '▁문인석', '3.8', '▁Not', '▁1·2', '랭킹', '▁매력적인', '▁산기슭', '▁와이오밍', '▁카슈미르', 'ß', '▁벤저민', '評', '척탄병', '▁옥개석', '▁오버워치', '▁소박한', '▁깊다', '國民', 'Social', '▁부처님', '▁이뤄져', '▁달랐', '공포증', 'ENT', '▁구마모토현', '이슬람', '▁응축', 'ин', '▁홍성군', '▁보령시', '▁창녕군', '▁안드로메다', '▁인맥', '큘', '真', '▁노브고로드', '콴', '▁오리올스', '▁물병자리', '정보국', '▁말라위', '_45', '▁스루가', 'Fort', '▁2014-15', '융합', '인사들', '▁일제시대', '▁당대표', '▁중앙위원', '祚', '熱', '▁퍼펙트', '▁프레데리크', '輝', '▁2004-05', 'Special', '▁플라스마', '▁Story', '▁손자이자', '▁이규완', '▁토크쇼', '▁괴테', '▁캐럴', '▁완벽히', '▁스캔', '▁같았', '▁발전시킨', '▁횡포', 'Blue', '삼매', '▁문헌들', '▁만들어지고', '▁알렉산드로', '▁쿠릴', '스피어', '▁테레사', '▁랴오', '賓', '▁세그먼트', '▁시모노세키', '▁카톨릭', '墨', '▁청계천', '▁깨달은', '▁신해철', '▁모으기', '▁불명확', '▁알려준다', '▁경산시', '3.7', '▁콕스', '▁다롄', '▁포워드', '랜더', 'Karl', '▁함양군', '▁충분하지', '▁연기력', 'hot', '▁테이크', 'Albert', '박쥐속', '▁매겨', 'tv', '▁에마누엘', '▁차이콥스키', '戸', '▁몰린', '▁궁녀', '▁신속한', '何', '▁부딪혀', '▁살펴볼', '民主', '▁GUI', '▁벌어져', '▁나가오카', '▁유소년팀', '▁활동중이다', '▁셀프', '▁미도리', '▁대학생들', '▁금산군', '▁가져야', '트랜스', '▁총체적', '▁석사학위를', '유니버시티', '▁파격적인', '▁비지니스', '▁가석방', '▁아저씨', '▁향토문화재', '▁슬픈', '副使', '(1957', '몬스터', '▁날카롭', '▁달았다', '카르타', '▁거두면서', '사이버', 'cro', '▁합법화', '導', '▁쇼펜하우어', '▁오스트로네시아', '鬼', '▁에치젠', '▁확정지었다', '▁고이즈미', 'ст', '소프트웨어', '▁브룩스', '▁LTE', '▁민정당', '▁호위함', 'Victor', '▁가디언', '▁템포', '▁안도라', '▁생육', 'alism', '▁윤리학', '절도사', '▁스토크', '▁갇힌', '▁이오시프', '▁하룻밤', '긁', '땡', '숄', '▁마틸다', '▁진보신당', 'ᅳ', '▁전봉준', '▁하비에르', '▁세군다', '▁일어났으며', '▁깨닫게', '∼14', '▁조계종', 'iano', '▁윈저', '▁아티스트들', '▁사망률', '▁특례', '▁슬하', '∙', '倫', '▁인터랙티브', '▁콩고민주공화국', '▁프로테스탄트', '▁브리즈번', '▁레인보우', '干', '▁파이썬', 'っ', '金剛', '▁부평구', '▁벌써', '▁양방향', '▁칼리파', '기념물', '▁원뿔', '▁Cho', '▁노이만', '▁사브르', '▁투표권', 'atter', '▁일반인들', '▁설득력', '▁뮤지션들', '▁피해자들', '址', '弟', '規', '▁민주노총', '▁햇볕', '▁갑각류', '▁얽힌', '承旨', '▁도봉구', '▁교차점', '▁밝히기도', '▁높아진다', '▁남북전쟁', '▁당분간', '▁출발점', '▁에센', '▁잉태', '▁집행위원회', 'ttle', '▁미소녀', '싹', '▁진출권을', '깁', '移', '▁보니파시오', '▁아이젠하워', '▁엡실론', '찼', '▁블루제이스', '揚', '▁깊고', '▁주제곡', '▁들려주', '▁매튜', 'ische', '仁川', '▁정착자들', '▁효능', '▁꾸민', 'Marie', '개발사업', '▁메이슨', '▁되겠다', '獄', '差', '爭', 'matic', 'evolution', '▁이튿날', '▁컵위너스컵', '짤', '▁괴로워', '階', '▁코르도바', '▁코코넛', '▁훌린', 'Earth', '▁수석코치', '▁프리큐어', '▁덩치', 'head', '▁데미지', '▁뷰티', '랴쿠', '▁보이면서', '하겠', '▁극좌', '북쪽', '▁경쾌', '步', '▁슬럼프', '륄', '▁디지몬', '▁바티스타', '▁광무제', '외국인', 'STAR', '▁어니스트', '▁같을', '▁병원체', 'fil', '▁박사과정', '▁태클', '▁굴곡', '米', '潭', '▁느티나무', '▁부드럽게', '▁브라질레이루', '▁초전도체', '▁팔레르모', '▁히타이트', '▁적혈구', '▁초음파', '冬', '▁불어넣', '▁숨기고', '幸', '▁윤원형', '▁남극점에', '▁요시히로', 'rig', '▁우뚝', '▁마린스', '▁늘리는', 'VII', '해석학', '撰', 'コ', '告', '▁맬컴', '▁아즈치모모야마', '▁잘츠부르크', '堅', '▁포레스트', '▁미하엘', '▁줄리엣', '▁속임수', '▁권한대행', '▁비서실장', '▁구한말', '▁프라이부르크', '▁검찰총장', '▁재발견', '왕성한', '▁마사히로', '▁마애불', '▁데이먼', '▁매크로', '▁게임플레이', '샬', '▁우리은하', '▁요직을', '▁남해안', '▁중국인들', '식민지', '邉', '▁Management', '▁우여곡절', '徽', '燈', '▁휘발유', '▁극소수', '春秋', '▁눈동자', '▁어린시절', '_46', '▁돌아다니며', '▁빌럼', '▁블루레이', '▁숙련', '▁스피너', '▁노키아', '▁에리히', '▁휴먼', 'run', '▁보일러', '씀', 'ı', '▁벗어날', '刀', '鑑', '▁줄어드는', '▁상대전적', '國際', '▁합치면', '▁엣지', '▁셰필드', '▁이끌었던', '▁부정확', '▁얼스터', '▁절멸', '▁만슈타인', 'down', '했거나', '▁실업률', '과학고등학교', '▁거창군', '▁얻어내', 'ugh', '▁다듬어', 'cord', '▁드롭', '밧', '▁밸런스', '▁보츠와나', '▁불러일으키', '▁샐러드', '▁여우조연상', '▁인슐린', '渡', '▁홍준표', '紋', '▁홍건적', '▁다이오드', '▁포항제철', '▁보이콧', '▁분자생물학', '▁다이라노', '병마사', '▁불렀는데', '▁쌍방울', '▁마땅히', '▁캉통', '▁의붓', '▁정치자금', '▁Down', '▁온몸', '▁부안군', '▁얻으려', '저당권', 'Class', '▁0-2', '▁가져왔', '0.1', '▁시바타', '▁카오스', '멋', '▁생쥐', '▁심장마비로', '▁지브롤터', '▁포세이돈', '▁파이어폭스', '▁터뜨렸', '▁현무암', '▁쿠르트', '▁페니키아', '蹟', '坪', '▁국정감사', '화엄경', '▁연꽃무늬', '▁아오야마', '했어요', '▁영연방', '▁Fire', '▁신학자들', '▁매출액', '▁사라지는', 'POP', '▁통신망', '標', '▁겉모습', '▁에리트레아', '▁카롤링거', '旌', '꽉', '텟', '휼', 'ᄅ', '▁확고히', '▁소프라노', '▁근연종', 'Hor', '▁선보이며', '▁측근들', '▁대마도', '▁아이팟', '▁풍부하다', '▁영지주의', '▁CNN', '▁청동기시대', 'etter', '▁묵살', '풀로스', '▁펴낸', 'late', '賊', '▁씌워', '▁이조참의', '▁툴루즈', '▁시어도어', '▁헌법소원', '▁억지로', 'ika', '(1948', '▁넣으면', '▁괴산군', '▁교통수단', '▁Asia', '▁하나님께', '▁혼마루', '▁이사벨라', '▁베로나', '폭풍', '▁아이다호', '▁맺었고', '▁관중석', '▁산화물', '▁장병들', '▁유물들', 'LAN', '▁콜로니', '舜', '▁농어촌버스', '▁샤를마뉴', '▁에인절스', '폄', '홑', '윗수염박쥐', '▁큼직', '▁좡족', '▁경성제국대학', '▁꼽히는', '▁엠파이어', '▁두드러지게', '▁함안군', '▁프롬', '▁말버러', '▁납북', '中書', '▁바하마', 'ISS', '캐릭터', 'bell', '스퀘어', '壬', '▁출퇴근', '▁멧돼지', '▁문정왕후', '▁스피드스케이팅', '▁엠블럼', '▁위안스카이', '兪', '▁엔리케', '綠', '▁은언군', '如來', '引', '코뿔소', '▁베이스타스', '▁야마시타', 'news', 'NU', '▁늘렸다', '8.1', '▁비웃', 'lation', 'ᄃ', '▁코민테른', '뱉', '▁코린토스', '▁탔다', '동지회', '▁한눈에', '▁지어졌으며', '▁밝혀냈다', '▁서방교회', 'wood', '▁포로들', 'MOS', '▁갔을', '▁산사태', '▁무의미', '▁PSP', 'Liber', '쌓', '▁가니메데', '▁구약성경', '▁지냈던', '蔚', '頼', '▁홍익대학교', '貢', '▁리저브', '▁뜯어', '▁현저한', 'cri', '▁법상종', 'aria', 'ен', '同知', '(1950', '▁살아남았다', '▁천안함', '▁채플린', '▁ARM', '▁하이웨이', 'race', '▁전기철도', '무한도전', '월호부터', '▁이복형', 'ities', '벵', '챔', '▁골자로', '模', '▁깨달았다', '▁껍데기', '▁파르티잔', '깍', '▁이따금', '▁점진적으로', '▁관공서', '▁카다피', '▁트란스', '▁송광사', '▁핑계로', '▁쿼드', '▁Young', '▁페라라', '▁바닷', '▁찾았', '▁되찾았다', 'bul', '▁HIV', '▁이적시장', '▁열리지', '▁녹훈', '데이터베이스', '특별위원회', '▁Law', '핀란드', '▁유러피언', '▁쫓겨난', '▁Land', 'オ', '좡', '눅', '▁자그레브', '▁무분별', '▁삼별초', '▁정여립', '▁옹정제', '▁재결성', '▁우메다', '▁영암군', '耳', '▁활화산', 'Free', 'book', '▁저비용', '▁RCA', 'rah', '겼지만', 'fici', '▁국무회의', '삽', '아름다운', '휴게소', 'world', '▁뉴햄프셔', '▁배드민턴', '▁얼라이언스', '▁파나티나이코스', '▁홍백가합전', '層', '弓', '▁남극점까지', '▁우르바노', '▁궁핍', '▁장본인', '6.0', '▁깊었', '▁이끌었으며', '▁잡혔다', '상업학교', '▁처녀자리', '▁부분집합', '총연맹', '▁청도군', '▁키웠다', '▁사회주의자들', '▁옛날부터', 'poly', '▁예전부터', 'olar', '葬', '▁무릅쓰고', '▁디바이스', '▁CCTV', '▁비트코인', '▁ISIL', '▁이례적으로', '▁대등한', '▁마사무네', '▁스웨', '파우스트', '▁깔려', '▁상무위원', '▁육군본부', '▁그리워', 'ра', '▁어린아이', '學士', '▁모리슨', '늑', 'Live', '▁부쿠레슈티', '▁홉킨스', '▁안재홍', '▁커맨드', '▁송준길', '▁낳아', 'Computer', '▁마운드', 'Sym', '▁호르헤', '▁글쓰기', 'IDE', '▁눈앞에', '▁디랙', '▁대주주', '▁나눔', '▁부풀어', 'Scott', '억달러', 'town', '▁나루토', '▁극단적으로', '증명서', '1.9', 'じ', '▁조소앙', '速', '넵', '▁부룬디', '血', '決', '▁하코네', '▁천궁도', '▁데려오', '▁닛코', '▁색소폰', '▁신정부군', '▁셀틱스', '▁수니파', '▁감독직에서', '▁넘쳐', '▁염료', '▁황태후', '▁오카야마현', '▁삼성그룹', '▁RFC', '▁불렸고', '디옥시', '▁내구성', 'AMP', 'Part', '害', '프레임', '유원지', '嗣', '▁새정치민주연합', '▁아름답게', '▁콜레스테롤', '▁페미니즘', '▁사라예보', '▁왼발', '▁새만금', '▁크롬웰', 'Dragon', '▁끌어들여', '▁합리화', '賞', '▁짝사랑', '▁고등법원', '▁주성분', '▁3,500', '▁위아래', '▁사용되던', '▁포켓', '▁스트라스부르', 'media', '視', '鼓', '▁쟈니즈', '▁폭스바겐', 'ability', '▁칠곡군', '겠습니까', '아세트산', '▁아사쿠라', '▁주민투표', '吾', '▁사로잡혀', '▁성전환', '▁한명회', '랬', '▁리에주', '되었음에도', '▁프릴', '▁푸른색', '오스트리아', '뇽', '▁매표소', '▁배심원', '▁휘트니', '▁훔치', '▁헬멧', '▁4·19', '(1939', '▁없어져', '▁공손찬', 'ANG', '▁진안군', '▁차베스', '▁아톰', 'space', '▁징발', 'inae', '▁대도시권', 'iger', '午', '썸', '▁Season', '▁국가지원지방도', '▁그로텐디크', '▁식료품', '▁악영향', '▁펌웨어', '勤', '꺽', '▁헤르메스', '▁중일전쟁', '▁무정부주의', '▁도와준다', '▁세웠으나', '▁올렸으며', '▁불가사의', '▁호스팅', '안전보장', '▁Games', '▁고통받', '홀름', '秘', 'ū', '▁인터럽트', '▁캡슐', '▁텔레노벨라', '錢', '알데하이드', 'で', '▁중견수', '▁마르티네스', '▁다이렉트', '▁체로키', '▁시험발사', '5.6', '▁모셔져', '▁미뤄', '▁구조조정', '테이블', '▁재확인', '▁꺼려', '羅州', '▁매달려', '▁단양군', '▁선구적', 'Oh', '▁살았으며', 'Mary', 'color', '잉글랜드', '庚', '▁밀레니엄', 'æ', '▁국회부의장', '▁각룡류', '▁더글라스', '慕容', '▁힉스', '▁슬라이더', '戱', '▁남대문', '▁플랫', 'ALL', '▁물려받은', '▁기요모리', '▁STX', '▁하사받았다', '松平', '▁열리게', '화합물', '▁남태평양', '마이스터', '▁캐치프레이즈', '▁콘클라베', '▁파피루스', '▁Smith', '▁벙커', '▁문하시중', '照', '▁파출소', '▁플리머스', '▁런타임', '▁지남에', '피그미', '▁풀럼', 'Time', 'data', '▁태안군', 'erra', '지않고', '▁프란시스', '辭', '▁덩샤오핑', '▁무척추동물', '▁민주통합당', '▁아르키메데스', '謝', '▁치솟', '▁레지옹', '고구려', '▁이끌어냈다', '▁꼽았다', '▁출몰', '▁받쳐', '▁평화로운', '▁바쁜', '▁할지라도', '하나님', '▁흔하다', '▁계엄령', '▁노이즈', 'opter', '其', '▁비약적', '해보자', '享', '▁오로라', '▁맨눈으로', '▁반유대주의', '▁어두워', '貫', '▁칭다오', '▁저널리즘', '▁조그만', '▁북마케도니아', '▁신간회', '▁야마자키', '▁에반스', '▁돋보이는', '▁페르미온', '▁풀타임', '▁강아지', '시켰지만', '▁청소년들', '▁네티즌', '坂', 'ш', '랗', '▁마젤란', '쌈', '▁올랜도', '▁신앙고백', '奈', 'Friend', '▁쌍계사', '호르몬', '(1949', '世界', '쾌속', '5.7', '▁찬드라', '▁스튜', '▁트러스', '▁에르빈', '▁받거나', '졸업', '덮', '浪', '얘', '限', '函', '愚', '▁소현세자', '▁쿠알라룸푸르', '裝', '얏', '▁충선왕', '▁토바고', '멕시코', '▁넓혔다', '▁에드윈', '▁동계올림픽', '▁트렌드', '글로벌', '▁썼는데', '▁마사유키', '▁1,600', '▁헤일로', '직제학', '그릇', 'SAR', '▁군자금', '科學', 'Bob', '▁만네르헤임', '▁에이브러햄', '▁한성부판윤', '▁호놀룰루', '幕', '▁프렌치', '▁남중국해', '▁쇼케이스', '▁휘그당', '▁니제르', '▁마라도나', '▁뒤섞', '▁만들어지기', '▁옮겨갔다', '▁적시타', '▁도착했을', '멍', 'vest', '▁김나지움', '段', 'ᄂ', '▁기획재정부', '▁모하메드', '▁스탠더드', '▁즐겁게', '青', '▁브리티시', '▁수뇌부', '하였으니', '(1940', '郡守', '▁레이아웃', '▁부정선거', '▁클락', '▁정치활동', '▁글로브', '스테이지', '3.9', '▁이르자', '濟州', 'vice', '胤', '案', '▁도저히', '▁섹터', '▁라틴아메리카', '▁돌려보내', '都督', '큼', 'ould', '▁보여줄', '▁올라왔다', '▁김홍집', '▁치명적', 'organ', '▁클론', '몽구스', 'Medi', '받았지만', '伽', '▁당간지주', '操', '算', '魔', '먀', '▁항등식', '▁복장유물', '耶', '▁산청군', '協會', '(1941', '▁조에쓰', '▁굴뚝', '▁TCP', '▁흘러드는', '▁중앙유럽', '▁뿜어', 'Walk', '▁테트라', '기동전사', '▁비춰', '▁처참', '▁불안감', '0~2', '_49', '候', '喪', '▁Album', '▁아케메네스', 'ナ', '▁호메로스', '▁낳게', '豆', '▁스핀오프', 'Sweet', '▁지치부', '▁궁지에', '▁코스닥', '▁Stage', '(1953', '▁금정구', '덧', '스트룀', '▁받아들였', '▁양천구', '▁케네스', '4.6', 'ground', '▁숨졌다', '군관학교', '4.7', '▁난민들', '▁때려내', '멈', '栗', '▁휘말려', '힝', '▁닉네임', '鴻', '▁인덱스', '▁베른하르트', '交通', '▁밑바닥', '▁진심으로', '▁칩셋', '▁콘스탄틴', '御史', '▁움직였', '▁크로노스', '페스티벌', '世子', '▁흐른', '브레이커', 'Marc', '▁Japan', '▁국립중앙박물관', '▁준플레이오프', '▁클레오파트라', '▁호나우두', '▁홀로코스트', '▁세우려', '▁콤플렉스', '▁수소폭탄', '▁가와카미', '▁아닐까', '▁없으니', '▁바뀌었으며', '▁누구인지', 'High', 'break', '▁장수들', 'oidea', '▁슬래', '▁연면적', '지않은', '▁이방원', '▁재해석', 'left', 'φ', '▁선덜랜드', '▁포메이션', '齡', '꼼', '▁Studio', '▁우참찬', '▁시냅스', '▁이로쿼이', '▁기다렸다', '▁신자유주의', '▁헤르베르트', '▁의왕시', '▁미란다', '▁자부심', '▁지주회사', '▁뒷부분', '▁구독자', '잠수함', '떨어진', '▁파이터즈', '▁UFC', '▁에디터', 'tru', '솝', '▁맞섰다', '▁에노모토', '将', '▁거느린', '▁벤자민', '○○', '▁소작농', '▁대량생산', '▁은신처', '▁매트릭스', '▁게시물', '▁클라우스', '▁부상당한', '뮤지컬', '▁플로이드', '▁속옷', '▁썼던', '▁그만두었다', '▁빗물', 'Stand', 'Circ', '슝', '堤', '▁미켈란젤로', '▁아디다스', '▁페르난데스', '女子高等學校', '讀', '豫', '비엔날레', '▁가볍고', '▁일레븐', '▁정약용', '▁최저임금', '▁여고생', '▁쓰러뜨리', '▁대수기하학', '▁끊었다', '▁유위법', '▁스피릿', '▁두르고', '▁요원들', '▁합중국', '▁불일치', '마이크로', 'unch', '▁펼쳐지는', '함께', '▁빼내', '▁That', 'script', 'ulation', 'formation', 'ô', '▁TOUR', '▁맥도널드', '▁수다메리카나', '▁패미컴', '劍', '自由', '▁하드코어', '▁미쓰나리', '▁화물열차', '▁갈루아', '오페라', '▁케로로', '끌던', '▁0-0', '플루오린화', '▁로테이션', '▁Union', '▁낭만적', 'strict', 'radi', '紹', 'ᄆ', '▁아유타야', '▁패러데이', '忍', 'Central', '▁시크릿', '▁들어오게', '葛', '▁6·25', '▁선공개', '▁상세하게', '▁에스타디', '챔피언', 'Kiss', '▁선비들', '▁크리스토프', 'Break', '▁Key', 'Adam', '혁신도시', '▁모리타니', '둬', 'erial', '附', '£', '▁맥도날드', '▁아우구스티누스', '▁챌린저', '芝', '▁트리니티', '▁김장생', '伏', '▁교두보', 'Secret', '▁메소드', '都監', '▁알아냈다', '▁워킹', '▁말라리아', '▁활발하다', '▁닮았', '▁중성자별', '▁아브루초주', '쏴', '▁도치기현', '▁Design', '▁캘리', '▁대역폭', 'PRO', '▁세워졌으며', '歲', '꿨', 'М', '쎄', '갤', 'П', '줍', '뎃', '瞋', '꼰', '뢴', 'や', '降', 'А', '帖', '웡', '撫', '돋', 'わ', '稷', '薛', '촬', '幀', '査', '뮌', '맴', '▲', '兄', '惑', '材', '뻐', '匡', '障', '낫', '་', '壯', '諡', '펨', '썬', '찢', '由', '庄', 'ウ', '諫', '퀀', '喆', '쫓', '걱', '唱', '텃', '微', '篇', '鬪', '헥', '肉', '檀', '創', '禧', '教', '睿', '映', '댈', '춥', '哀', '是', 'В', '塚', '曾', '破', '授', '彩', '接', '舌', '뎬', '号', '符', '級', '脈', 'ø', '켰', '흙', '뜬', '왁', '캬', '驪', '衍', 'ə', '赫', '関', '韻', '읽', '樞', '優', '̊', '넉', '蜀', '箕', '癡', '伐', '還', '굶', '須', '땜', '攝', '廢', 'ミ', '냅', '扶', '顔', 'ニ', '傅', '包', '牙', '徵', '놨', '뜩', 'テ', '班', '젼', '쩡', '텁', '鍊', '頂', '脫', '맷', '請', '森', '찐', '董', '融', '敵', '寒', '碧', '談', 'ノ', '댜', '숱', 'س', '卓', '岸', '收', '齒', '桃', '꿩', '횟', 'バ', '般', '漁', '菴', '뽐', '油', '退', '稱', '救', '佑', '뮐', '終', '─', 'ャ', '疑', '엑', '卯', '味', '婦', '낯', '黎', '蕭', '跋', '놔', '去', '冊', '幹', '亥', '멤', '示', '革', '萊', 'ᅵ', '実', '潘', '陣', 'チ', '淮', '舟', '讓', '羊', '橫', '強', '逆', 'ت', '⁄', '핼', '寂', '唯', 'サ', '넴', 'ひ', '審', '넋', '뤽', '헵', 'エ', '宝', 'έ', '⟫', '阮', '잿', '썼', '仕', '巴', '蔵', '떴', '梨', '슌', '絶', 'Б', '著', '묄', '鷄', '経', '찜', '햐', '밝', '必', 'ع', '쌌', '俱', '屯', '展', '잰', '巫', '孤', '랸', '헹', '匠', '酉', 'ã', '〕', '腹', '볜', '빡', '컹', '旅', '墳', '⟪', '例', '慢', '닿', '柴', '番', '婆', '좇', '씽', '價', '覆', '尺', '消', '숯', '몇', '給', '賦', '默', '專', '織', '옻', 'ィ', '換', '爵', '옮', '慕', '쑨', '볍', '培', '〔', '얗', '貨', '駐', 'ō', '꿋', '댔', '탸', '칵', '旭', '戊', '雍', '휠', '낵', '맙', '愍', '便', '他', '귈', '湯', 'め', '□', '彭', '胎', 'י', '輿', '巳', '잦', '뤄', '朔', '갠', '遂', '禎', '拳', '볏', 'ズ', '숏', '핥', '毘', '뷸', '輕', '潮', '濬', 'ē', 'モ', '澄', 'グ', '后', '丈', '푀', 'ば', '航', '打', '広', '仇', '勞', '妻', '뻣', '鹽', 'ц', '癸', '築', '括', '헷', '閭', 'χ', '쾨', '똑', '稿', '軌', '녘', '옐', '좁', '뻔', '剛', '酸', '崖', '片', '曰', '底', 'ょ', '砲', '牟', '쫒', '複', '굼', '肖', 'プ', '拓', '蟲', 'ガ', '折', '戴', 'ή', '覽', '챌', 'ه', '泗', '占', '沃', '泥', 'ᄉ', 'ム', '委', 'Р', '牌', '끓', '裁', 'И', 'ハ', '整', '祀', '앱', '썩', '短', '筵', '菊', '莫', '着', 'Α', '停', 'ˈ', '殊', '县', '썽', 'า', '召', 'メ', '万', '幡', '衙', '탯', '떤', '禍', 'ᄇ', '菜', '炎', '엡', '흄', '듈', '突', '庸', '槐', '彰', '乳', '듦', '쨩', '梧', '就', '除', '僕', '鼻', '桐', '祝', '껌', '券', '楽', '蔣', '討', '及', '遷', '註', '曉', 'ブ', '尋', '店', '敍', 'ろ', '佳', '早', '駿', '枝', '핫', 'ύ', '삶', '賈', '升', 'ă', '坤', '虞', '앎', 'Н', '朗', '訴', '彫', '淡', '셍', '촘', 'ゃ', '耆', '嫡', '놋', '똘', '웁', '暴', '宙', '辨', '溝', '갬', '덫', 'ː', '拜', '勅', 'ë', '刺', '額', '꽂', '渾', '杉', 'ح', '范', '凡', '낳', '짚', '測', '丑', '戌', '擊', '昧', 'Т', '됭', '뵤', '걀', '抄', '●', '炯', '笠', '綾', '漆', '災', '荊', '遍', '被', '抗', '係', '쳇', '彈', '휩', '訪', '늦', '욤', '胞', '悲', '藍', '뭄', '艦', '鎌', '챗', 'Đ', 'č', '갭', '炭', '乃', '荷', '륀', '奭', '沢', '穴', '숀', '앰', '펭', '雷', '汗', '賴', 'デ', '괭', '幽', '待', '送', '氷', '豪', 'Π', 'Г', '\\xad', '穀', 'ş', '仰', '尚', '█', '껍', '閑', '젭', '∞', '븀', '昊', '各', '壺', '履', 'Σ', '첵', 'ж', '扈', '곧', '熟', '隋', '鈴', '賣', '쉴', '采', '쇤', '迎', '몹', '婚', '傑', '了', '뉠', '윔', '浚', '甁', '鉢', '粉', '荒', '儉', '넙', '濃', '鎮', '薩', 'ふ', '毒', '遇', '苑', '捨', '幢', '砂', '薰', '눙', '塘', '珪', '맺', '耕', '援', '긱', '核', '宴', '犯', '魂', '卑', '郷', 'å', '禦', '뀌', '庾', '垂', '悟', '費', '頌', 'ぶ', '悅', '謹', 'Д', '沖', '租', '認', '沼', '競', '側', '卒', '絲', '態', '뺄', '닳', '앴', '供', '哈', '촛', '伴', 'Á', '卜', '陜', '넜', 'ゆ', 'ו', '企', '꼈', '投', '亡', '按', '궂', '效', '꿔', '謀', 'ダ', '更', '為', '縛', '擇', '排', 'そ', '杖', '余', '姫', '晴', '走', '網', '床', '樣', '훗', '蕃', 'ビ', '乱', '뵐', '卽', '盡', '綜', 'э', '늉', '鏞', '億', 'パ', 'ュ', '귓', '숴', '쥰', '콸', 'ᄌ', '暗', '堯', '呼', '勿', '屠', '軸', '鎔', '権', '헉', '黄', '急', '寛', '席', '僞', '跡', 'ی', '뷜', '췬', '몫', '諱', '云', 'せ', '幼', 'ف', '驗', '宏', '鄧', '晶', '舒', '튤', '息', '攻', '矢', 'ق', 'ᄒ', '낡', '探', '来', '浜', '닙', '텝', '奮', 'ワ', '獸', '低', '瀬', '肥', '넝', '昆', '眉', '뚤', '†', 'ず', '諭', '陟', 'ה', '飯', '含', '髮', '窟', '喬', '섣', '兆', '倍', '買', 'ᄏ', '頃', '馮', '겜', 'ど', '免', '播', 'Κ', '燦', '洗', '切', '又', '謨', '蒲', '答', 'Л', '烽', '瓦', '묶', '垣', '銃', '냑', '塾', '甄', '蔭', '課', '벰', '呪', '灘', '迪', '믿', '冷', '緖', '充', '戎', '束', '덟', '壓', '】', '冥', '衝', 'ج', '【', '犬', '쭝', '鷹', '駕', '招', 'Ö', '奥', '黒', '껑', '忘', '펴', '壤', '豐', '뎠', '圈', '땀', '듭', '混', '緯', 'ר', '頓', '株', '爐', '彬', '忽', '돤', '쁠', '솽', '윕', 'ツ', '뽑', '詳', '負', '応', '荀', '瞻', '펍', '押', '掛', '샥', '総', '慰', 'ョ', '왠', '쩐', '춧', '伝', '쭤', '↔', '菌', '텨', '篆', '聚', 'ェ', '筑', '險', '빤', 'ð', '架', 'ร', '扇', '솟', '損', '阪', 'О', '憂', '偏', '渠', 'Φ', '쟝', '푈', '樑', '索', '湘', '嶽', '沿', '빼', '涉', 'ほ', 'ï', 'ة', 'び', '뷴', '짬', '웍', '訟', '体', '껄', '詔', '듄', '챤', '东', '뗀', '强', '寇', '쥘', '쳅', '潛', '筒', '党', '悌', '韋', '뭘', '믐', '셤', '팠', '떳', '셧', '戚', 'セ', '究', '羲', '拉', '阜', '伸', '幾', '끗', '綏', '郵', '꾹', 'ý', '澈', '훠', '돕', '顧', '璋', '迷', '뗏', '쬐', 'ケ', '往', '屛', '劑', 'ệ', '帽', '訥', '몐', '겅', '笑', '練', '樊', '灌', '괵', 'ね', '펼', '傷', '橘', '꼿', '쫄', '堀', '왑', '此', '忌', '寄', '懸', '適', '쨌', 'î', 'ś', '萱', '偉', '繫', '雀', '襲', '眠', '揮', '姚', '닻', '맣', '씰', '镇', '付', '딥', '뭔', '疾', '晦', '柔', 'Ε', '栢', '챘', 'א', '絃', '諺', '鑄', '广', '쏙', '辦', '鉄', '뎁', '箭', '浅', 'ò', '蒼', '뭉', '힉', '乞', 'ž', '覇', '桑', '짼', '霞', '捕', '只', '似', '刹', '堡', '沒', '溟', 'ァ', '遮', '参', '헛', '違', '浙', '耽', 'ヶ', '끽', '渓', 'น', '팻', '綿', '鵬', '몄', '≤', '쥴', '쪄', '햅', 'أ', 'む', '蛇', '脚', '斤', '吹', '悼', '蘆', '鑛', '봅', '⋅', '療', '넹', '켠', '看', '々', '訣', '借', '畫', 'ế', '観', '対', 'ա', '隣', '샅', '塵', '燧', '已', 'ボ', '貝', '郁', 'Å', '탭', 'ᅡ', 'ю', '冀', '휨', '糖', '綬', '峻', '慮', '誤', '膺', '循', '娘', '팹', '翔', '룀', '減', '斥', '曜', '쾰', '猛', '窯', '芸', '뺑', '盜', '満', '皆', '婢', '雕', 'ŋ', '廊', '馨', '뭍', 'ъ', 'げ', '숑', '狄', '탓', 'ネ', '趣', '游', '劃', '吐', '瓊', '譚', '屈', '値', '祉', '零', '膜', 'Š', '債', '獅', '貿', '훅', '쿡', '煙', '粹', '讚', '纂', '燁', '璿', '礙', '勸', '旋', '燒', '낄', '菩', '僖', '卵', '婁', '杏', 'र', '्', '슷', '賤', '鳩', '岑', '汀', '翟', 'ش', '旦', '杓', '갛', '띤', '裏', 'へ', 'ヤ', '琉', '歐', '竿', 'ğ', '敞', '瑜', '皐', '칡', '쿱', 'ゅ', '헝', '闕', '際', '惱', '幻', '圃', 'ᄎ', '互', '畢', '怡', '稽', '割', '遵', '肇', '擬', 'ń', '狂', 'ᅩ', 'ベ', '遣', '旺', '伎', '珉', 'ё', '晟', '琳', 'У', '漫', '갖', '榜', '件', '랠', '线', '輸', '円', '恪', 'ù', '젱', 'ك', '暦', '棋', '畜', '姑', '避', '抱', '預', '塞', '杞', '湛', '礪', '怪', '睡', '票', '鐸', '껀', '횔', '盆', '昔', '恐', '잊', '釜', '썹', '斬', '斜', 'ψ', '腸', '禄', '趾', '誘', 'ソ', '勉', '뎌', '弁', '亀', '肩', '빳', '솁', '纏', '잽', '閤', '겉', '祈', '凝', '従', '揆', '変', '廻', '析', '画', '媛', '륌', '톄', '힛', 'ư', 'َ', '閻', '龐', '縱', '寵', 'ě', '羌', '냘', 'ز', '殉', '盈', '묽', '辯', '멱', '裴', '妄', 'ピ', '閉', '横', '邵', '駒', 'Ω', '涼', '깟', '껫', '욥', '廬', '藻', '늪', '奧', '♪', '卦', '壞', '挺', '渤', '遜', '湜', '濱', '倒', '週', 'Λ', '铁', 'Μ', 'ḥ', '邸', '퉈', 'ф', 'ा', '檜', '쩔', '®', 'ì', '斎', '窩', '쳄', '튈', '勃', '快', '託', '棟', 'ξ', '朋', '熹', '翠', '苻', '飾', '„', '祗', '脩', '確', '糧', '섀', '聰', '徹', '沛', '珥', '謠', '叢', '峽', '渭', '竺', '繡', '衿', '빻', '폿', 'і', '뒬', '個', '拔', '※', '场', '隸', '쳉', '串', '溶', '脣', '悔', '猿', '銓', '漸', '벚', 'ぎ', '峙', 'Γ', 'ᄑ', '滉', '畠', '냔', '뻑', 'מ', '윷', '帳', '説', '杭', '繁', '炫', '셩', '弥', '隅', '휜', '鴨', '巾', '褒', '閱', '彼', '猶', '尤', '脂', '蜜', '醴', '灰', '妓', '札', 'ご', '寿', 'ב', '詠', '凰', '瑩', 'ṭ', '棺', '紗', '멎', '謁', '倂', '秩', '否', '録', '圍', '戀', '疇', '詮', '駅', '찧', '틋', '崗', '恵', '鎖', '阳', '伺', 'ぬ', '췌', '亦', '腦', 'Ü', '裂', '꽈', '씁', '患', '皓', '鄒', '崙', '輯', '予', '쑹', '需', '凶', '飮', '柄', '쭐', '♭', '歡', '液', '璽', '뗄', '什', '叉', '鎰', 'ก', '拘', '薄', '瀛', '禿', '滋', '섐', '켁', '陝', '电', '獲', '쁨', '逢', '遲', '冶', '硬', '윰', '쩨', '蠶', '軾', '鈞', '찹', 'ל', '捷', '採', '窮', '敷', 'ポ', 'Ο', '牒', '針', '楷', '렷', 'ᄐ', '顕', '黔', '꿍', '績', '狗', '畏', '幣', 'ゴ', '倻', '鱗', '뜀', '솀', '弱', 'ヒ', '갚', '‚', '巢', '뵙', '죤', '츤', '兎', 'ა', '響', '瓚', '筋', '톳', '償', '爆', '鋼', '깰', '柏', '爀', '楞', '硏', '螺', '溥', '与', '厭', '醉', '鞍', '恨', '誕', '凌', '뭐', '胄', '켤', '坦', '쿈', '疫', '醮', '驅', '狼', '篤', '諍', 'ζ', '暉', '瑛', '趺', 'ʿ', 'ギ', '嵌', '臥', '뢸', '잴', 'ぐ', '凱', '気', '愧', '拾', '穡', 'Č', 'ᅮ', '弗', '窓', '볕', '웩', '澗', '腫', '腺', '滄', 'ザ', '쉔', 'ง', '研', '據', '닦', 'ས', '虹', '辟', '寸', '掾', '苗', '웽', 'ɪ', '琦', '晃', '哉', '帥', '瀑', '危', '辺', 'ώ', 'Ф', '兢', '墩', '棲', '禾', '鞠', 'З', '偶', 'Е', 'ი', '栄', 'อ', '耀', '衰', '痛', '責', '夕', '丕', 'べ', '塑', 'Β', 'Θ', '‰', '鄴', '겊', '밉', '캥', '暎', '幅', '髻', '韶', '詹', '沮', '밟', '쏠', '짠', '敗', '幷', '윽', '慚', '批', 'ṣ', '꽹', 'ط', '冕', '媒', '懺', '旻', '汚', '臧', '叱', '殘', '誓', '龙', '燃', '猫', '団', '当', '每', '恋', '哥', '粒', '曼', '椒', '貸', '홧', '홰', '沆', '悳', '継', '虜', '誼', 'ホ', '沔', '璧', '퍄', '礎', '稲', '峨', '涵', '磐', '줏', '鬱', '罰', '旣', '竟', '릎', '聽', '僚', '旬', '図', '描', '点', '曇', '棒', '械', '郊', '雉', '셌', '읜', 'ạ', '훑', '隴', '椿', '矣', '祇', '牡', '縮', '∈', 'Ч', '貧', '瀋', '霖', 'ヴ', '楓', '污', '蓬', '蠻', '麥', '莞', '裔', '豹', '軟', '霧', '쾡', '햘', '誦', '怒', 'ོ', '傍', '经', '籠', '竇', '瓜', '碍', '箋', '尸', '梓', '芬', '你', '滑', 'ม', 'Τ', '§', '훨', '뀐', '≪', '깎', '뾰', '«', '곁', '邱', '꿉', '굳', '늬', '왐', '튕', '■', '걷', '띄', '욧', '딪', '횃', '솅', '싫', '뚫', '△', '깥', '눗', '윳', '€', '遞', '섞', '끊', '빽', '옳', '툇', '댑', '꾀', '央', '쌔', '빚', 'ć', '챕', '씻', '煩', '눠', '갇', 'ơ', '얻', '槃', '맏', '웸', '쏜', '엮', '뛴', '괌', '땃', '뻗', '츰', '꺾', '꽤', '됩', '숟', '팎', '뀔', '컸', '涅', '튿', '겪', '짊', '뺏', '뉜', '읊', '젋', '뺐', '탰', '좨', '갉', '짰', '땔', '넸', '텼', '뀜', '눴', '탉', '밌', '빴', '묀', '깼', '엷', '옅', '엌', '쐐', '폈', '띈', '괜', '샀', '얹', '앓', '땄', '뤘', '슭', '짙', '얇', '흩', '컫', '녔', '떻', 'ễ', '짧']\n"
          ],
          "name": "stdout"
        }
      ]
    },
    {
      "cell_type": "code",
      "metadata": {
        "colab": {
          "base_uri": "https://localhost:8080/"
        },
        "id": "Cv_b1pb4dYpu",
        "outputId": "c649cc13-fd13-44dd-d36b-6d9577ad834a"
      },
      "source": [
        "# [CLS], tokens a, [SEP], tokens b, [SEP] 형태의 token 생성\n",
        "string_a = \"추적추적 비가 내리는 날이었어 그날은 왠지 손님이 많아 첫 번에 삼십 전 둘째번 오십 전 오랜만에 받아보는 십 전짜리 백통화 서푼에\"\n",
        "string_b = \"손바닥 위엔 기쁨의 눈물이 흘러 컬컬한 목에 모주 한잔을 적셔 몇 달 포 전부터 콜록거리는 아내 생각에 그토록 먹고 싶다던\"\n",
        "tokens_org = [\"[CLS]\"] + vocab.encode_as_pieces(string_a) + [\"[SEP]\"] + vocab.encode_as_pieces(string_b) + [\"[SEP]\"]\n",
        "print(tokens_org)"
      ],
      "execution_count": null,
      "outputs": [
        {
          "output_type": "stream",
          "text": [
            "['[CLS]', '▁추적', '추', '적', '▁비가', '▁내리는', '▁날이', '었', '어', '▁그날', '은', '▁', '왠', '지', '▁손님', '이', '▁많아', '▁첫', '▁번에', '▁삼', '십', '▁전', '▁둘째', '번', '▁오', '십', '▁전', '▁오랜', '만', '에', '▁받아', '보는', '▁십', '▁전', '짜리', '▁백', '통화', '▁서', '푼', '에', '[SEP]', '▁손바닥', '▁위', '엔', '▁기쁨', '의', '▁눈물', '이', '▁흘러', '▁컬', '컬', '한', '▁목', '에', '▁모', '주', '▁한', '잔', '을', '▁적', '셔', '▁몇', '▁달', '▁포', '▁전부터', '▁콜', '록', '거리는', '▁아내', '▁생각', '에', '▁그', '토록', '▁먹고', '▁싶다', '던', '[SEP]']\n"
          ],
          "name": "stdout"
        }
      ]
    },
    {
      "cell_type": "markdown",
      "metadata": {
        "id": "hl2l8plidhFe"
      },
      "source": [
        "토크나이저가 잘 작동하나요? 방금 우리는 SentencePiece 모델을 이용해 간단한 BERT의 Masked Language Model 학습용 데이터를 하나 생성해 보았습니다.\n",
        "\n",
        "다음 절부터 본격적으로 데이터 전처리 과정에 돌입하겠습니다."
      ]
    },
    {
      "cell_type": "markdown",
      "metadata": {
        "id": "OuOsvkGzdmv9"
      },
      "source": [
        "#16-3. 데이터 전처리 (1) MASK 생성\n",
        "BERT의 Masked Language Model은 GPT의 Next Token Prediction 태스크처럼 [다음이 이어질 단어는?] 을 맞추는 게 아니라 마스킹된 [다음 빈칸에 알맞은 단어는?] 문제를 푸는 형식으로 구성됩니다. 이런 빈칸은 전체 토큰의 15% 정도가 적당하다고 합니다.\n",
        "\n",
        "이전 스텝의 Masked LM 데이터셋 예시에서 출발해 봅시다."
      ]
    },
    {
      "cell_type": "code",
      "metadata": {
        "colab": {
          "base_uri": "https://localhost:8080/"
        },
        "id": "KCdLMg6_daVb",
        "outputId": "11adec31-ed3a-4738-9d6b-0302506e79cb"
      },
      "source": [
        "print(tokens_org)\n",
        "\n",
        "# 전체 token의 15% mask\n",
        "mask_cnt = int((len(tokens_org) - 3) * 0.15)\n",
        "mask_cnt"
      ],
      "execution_count": null,
      "outputs": [
        {
          "output_type": "stream",
          "text": [
            "['[CLS]', '▁추적', '추', '적', '▁비가', '▁내리는', '▁날이', '었', '어', '▁그날', '은', '▁', '왠', '지', '▁손님', '이', '▁많아', '▁첫', '▁번에', '▁삼', '십', '▁전', '▁둘째', '번', '▁오', '십', '▁전', '▁오랜', '만', '에', '▁받아', '보는', '▁십', '▁전', '짜리', '▁백', '통화', '▁서', '푼', '에', '[SEP]', '▁손바닥', '▁위', '엔', '▁기쁨', '의', '▁눈물', '이', '▁흘러', '▁컬', '컬', '한', '▁목', '에', '▁모', '주', '▁한', '잔', '을', '▁적', '셔', '▁몇', '▁달', '▁포', '▁전부터', '▁콜', '록', '거리는', '▁아내', '▁생각', '에', '▁그', '토록', '▁먹고', '▁싶다', '던', '[SEP]']\n"
          ],
          "name": "stdout"
        },
        {
          "output_type": "execute_result",
          "data": {
            "text/plain": [
              "11"
            ]
          },
          "metadata": {
            "tags": []
          },
          "execution_count": 7
        }
      ]
    },
    {
      "cell_type": "markdown",
      "metadata": {
        "id": "DjxM_vCLdrbH"
      },
      "source": [
        "15%를 마스킹한다고 해도 생각해 볼 것이 더 있습니다. Subword 기반으로 토크나이징을 했을 때 _대, [MASK], 민국이라고 가운데를 마스킹했을 경우 해당 [MASK]가 '한'일 거라는 건 너무 쉽게 맞출 수 있습니다. '대한민국'이라는 패턴을 아주 자주 보게 될 테니까요.\n",
        "\n",
        "그래서 Masked LM 태스크를 구성할 땐 띄어쓰기 단위로 한꺼번에 마스킹해 주는 것이 좋습니다. 다음과 같이 처리합니다."
      ]
    },
    {
      "cell_type": "code",
      "metadata": {
        "colab": {
          "base_uri": "https://localhost:8080/"
        },
        "id": "qiY4x8fzdpRT",
        "outputId": "4f2ca447-5de5-4406-ea7d-bcfb04ab3e5e"
      },
      "source": [
        "# 띄어쓰기 단위로 mask 하기 위해서 index 분할\n",
        "cand_idx = []  # word 단위의 index array\n",
        "for (i, token) in enumerate(tokens_org):\n",
        "    if token == \"[CLS]\" or token == \"[SEP]\":\n",
        "        continue\n",
        "    if 0 < len(cand_idx) and not token.startswith(u\"\\u2581\"):\n",
        "        cand_idx[-1].append(i)\n",
        "    else:\n",
        "        cand_idx.append([i])\n",
        "\n",
        "# 결과확인\n",
        "for cand in cand_idx:\n",
        "    print(cand, [tokens_org[i] for i in cand])"
      ],
      "execution_count": null,
      "outputs": [
        {
          "output_type": "stream",
          "text": [
            "[1, 2, 3] ['▁추적', '추', '적']\n",
            "[4] ['▁비가']\n",
            "[5] ['▁내리는']\n",
            "[6, 7, 8] ['▁날이', '었', '어']\n",
            "[9, 10] ['▁그날', '은']\n",
            "[11, 12, 13] ['▁', '왠', '지']\n",
            "[14, 15] ['▁손님', '이']\n",
            "[16] ['▁많아']\n",
            "[17] ['▁첫']\n",
            "[18] ['▁번에']\n",
            "[19, 20] ['▁삼', '십']\n",
            "[21] ['▁전']\n",
            "[22, 23] ['▁둘째', '번']\n",
            "[24, 25] ['▁오', '십']\n",
            "[26] ['▁전']\n",
            "[27, 28, 29] ['▁오랜', '만', '에']\n",
            "[30, 31] ['▁받아', '보는']\n",
            "[32] ['▁십']\n",
            "[33, 34] ['▁전', '짜리']\n",
            "[35, 36] ['▁백', '통화']\n",
            "[37, 38, 39] ['▁서', '푼', '에']\n",
            "[41] ['▁손바닥']\n",
            "[42, 43] ['▁위', '엔']\n",
            "[44, 45] ['▁기쁨', '의']\n",
            "[46, 47] ['▁눈물', '이']\n",
            "[48] ['▁흘러']\n",
            "[49, 50, 51] ['▁컬', '컬', '한']\n",
            "[52, 53] ['▁목', '에']\n",
            "[54, 55] ['▁모', '주']\n",
            "[56, 57, 58] ['▁한', '잔', '을']\n",
            "[59, 60] ['▁적', '셔']\n",
            "[61] ['▁몇']\n",
            "[62] ['▁달']\n",
            "[63] ['▁포']\n",
            "[64] ['▁전부터']\n",
            "[65, 66, 67] ['▁콜', '록', '거리는']\n",
            "[68] ['▁아내']\n",
            "[69, 70] ['▁생각', '에']\n",
            "[71, 72] ['▁그', '토록']\n",
            "[73] ['▁먹고']\n",
            "[74, 75] ['▁싶다', '던']\n"
          ],
          "name": "stdout"
        }
      ]
    },
    {
      "cell_type": "code",
      "metadata": {
        "colab": {
          "base_uri": "https://localhost:8080/"
        },
        "id": "KTZvmV7GdtXF",
        "outputId": "2c3f43bc-a489-472e-8e6e-3948f191315b"
      },
      "source": [
        "# random mask를 위해서 순서를 섞음\n",
        "random.shuffle(cand_idx)\n",
        "cand_idx"
      ],
      "execution_count": null,
      "outputs": [
        {
          "output_type": "execute_result",
          "data": {
            "text/plain": [
              "[[18],\n",
              " [44, 45],\n",
              " [24, 25],\n",
              " [49, 50, 51],\n",
              " [32],\n",
              " [64],\n",
              " [41],\n",
              " [52, 53],\n",
              " [22, 23],\n",
              " [73],\n",
              " [17],\n",
              " [19, 20],\n",
              " [61],\n",
              " [33, 34],\n",
              " [63],\n",
              " [46, 47],\n",
              " [30, 31],\n",
              " [74, 75],\n",
              " [6, 7, 8],\n",
              " [65, 66, 67],\n",
              " [68],\n",
              " [9, 10],\n",
              " [26],\n",
              " [56, 57, 58],\n",
              " [62],\n",
              " [35, 36],\n",
              " [37, 38, 39],\n",
              " [21],\n",
              " [59, 60],\n",
              " [48],\n",
              " [71, 72],\n",
              " [4],\n",
              " [27, 28, 29],\n",
              " [42, 43],\n",
              " [14, 15],\n",
              " [69, 70],\n",
              " [5],\n",
              " [11, 12, 13],\n",
              " [1, 2, 3],\n",
              " [16],\n",
              " [54, 55]]"
            ]
          },
          "metadata": {
            "tags": []
          },
          "execution_count": 9
        }
      ]
    },
    {
      "cell_type": "markdown",
      "metadata": {
        "id": "sZVqe8uWd6ge"
      },
      "source": [
        "개선된 Masking 로직을 다음과 같이 구현해 보았습니다. 마스킹 된 결과를 이전과 비교해 보시죠.\n",
        "\n"
      ]
    },
    {
      "cell_type": "code",
      "metadata": {
        "colab": {
          "base_uri": "https://localhost:8080/"
        },
        "id": "G1cOO6GHd4zN",
        "outputId": "3e8a9610-31da-4a41-d1f7-dccc9e3bd1e9"
      },
      "source": [
        "# tokens가 mask되므로 재 실행을 위해서 넣어줌 (테스트용)\n",
        "tokens = copy.deepcopy(tokens_org)\n",
        "\n",
        "mask_lms = []  # mask 된 값\n",
        "for index_set in cand_idx:\n",
        "    if len(mask_lms) >= mask_cnt:  # 핸재 mask된 개수가 15%를 넘으면 중지\n",
        "          break\n",
        "    if len(mask_lms) + len(index_set) > mask_cnt:  # 이번에 mask할 개수를 포함해 15%를 넘으면 skip\n",
        "          continue\n",
        "    dice = random.random()  # 0..1 사이의 확률 값\n",
        "\n",
        "    for index in index_set:\n",
        "        masked_token = None\n",
        "        if dice < 0.8:  # 80% replace with [MASK]\n",
        "            masked_token = \"[MASK]\"\n",
        "        elif dice < 0.9: # 10% keep original\n",
        "            masked_token = tokens[index]\n",
        "        else:  # 10% random word\n",
        "            masked_token = random.choice(vocab_list)\n",
        "        mask_lms.append({\"index\": index, \"label\": tokens[index]})\n",
        "        tokens[index] = masked_token\n",
        "\n",
        "print(\"tokens_org\")\n",
        "print(tokens_org, \"\\n\")\n",
        "print(\"tokens\")\n",
        "print(tokens)"
      ],
      "execution_count": null,
      "outputs": [
        {
          "output_type": "stream",
          "text": [
            "tokens_org\n",
            "['[CLS]', '▁추적', '추', '적', '▁비가', '▁내리는', '▁날이', '었', '어', '▁그날', '은', '▁', '왠', '지', '▁손님', '이', '▁많아', '▁첫', '▁번에', '▁삼', '십', '▁전', '▁둘째', '번', '▁오', '십', '▁전', '▁오랜', '만', '에', '▁받아', '보는', '▁십', '▁전', '짜리', '▁백', '통화', '▁서', '푼', '에', '[SEP]', '▁손바닥', '▁위', '엔', '▁기쁨', '의', '▁눈물', '이', '▁흘러', '▁컬', '컬', '한', '▁목', '에', '▁모', '주', '▁한', '잔', '을', '▁적', '셔', '▁몇', '▁달', '▁포', '▁전부터', '▁콜', '록', '거리는', '▁아내', '▁생각', '에', '▁그', '토록', '▁먹고', '▁싶다', '던', '[SEP]'] \n",
            "\n",
            "tokens\n",
            "['[CLS]', '▁추적', '추', '적', '▁비가', '▁내리는', '▁날이', '었', '어', '▁그날', '은', '▁', '왠', '지', '▁손님', '이', '▁많아', '▁첫', '[MASK]', '▁삼', '십', '▁전', '▁둘째', '번', '[MASK]', '[MASK]', '▁전', '▁오랜', '만', '에', '▁받아', '보는', '▁사업가', '▁전', '짜리', '▁백', '통화', '▁서', '푼', '에', '[SEP]', '[MASK]', '▁위', '엔', '[MASK]', '[MASK]', '▁눈물', '이', '▁흘러', '[MASK]', '[MASK]', '[MASK]', '▁목', '에', '▁모', '주', '▁한', '잔', '을', '▁적', '셔', '▁몇', '▁달', '▁포', '▁전부터', '▁콜', '록', '거리는', '▁아내', '▁생각', '에', '▁그', '토록', '▁먹고', '▁싶다', '던', '[SEP]']\n"
          ],
          "name": "stdout"
        }
      ]
    },
    {
      "cell_type": "markdown",
      "metadata": {
        "id": "B5ZEJVGVd_FU"
      },
      "source": [
        "Masked LM의 라벨 데이터도 아래와 같이 생성하여 정리해 둡니다.\n",
        "\n"
      ]
    },
    {
      "cell_type": "code",
      "metadata": {
        "colab": {
          "base_uri": "https://localhost:8080/"
        },
        "id": "993lVLZdd8Nz",
        "outputId": "3eb12e81-c1e5-459f-cefe-2ad37a60b0ae"
      },
      "source": [
        "# 순서 정렬 및 mask_idx, mask_label 생성\n",
        "mask_lms = sorted(mask_lms, key=lambda x: x[\"index\"])\n",
        "mask_idx = [p[\"index\"] for p in mask_lms]\n",
        "mask_label = [p[\"label\"] for p in mask_lms]\n",
        "\n",
        "print(\"mask_idx   :\", mask_idx)\n",
        "print(\"mask_label :\", mask_label)"
      ],
      "execution_count": null,
      "outputs": [
        {
          "output_type": "stream",
          "text": [
            "mask_idx   : [18, 24, 25, 32, 41, 44, 45, 49, 50, 51, 64]\n",
            "mask_label : ['▁번에', '▁오', '십', '▁십', '▁손바닥', '▁기쁨', '의', '▁컬', '컬', '한', '▁전부터']\n"
          ],
          "name": "stdout"
        }
      ]
    },
    {
      "cell_type": "markdown",
      "metadata": {
        "id": "D0HSiy6_eC3v"
      },
      "source": [
        "🔶 create_pretrain_mask() : Masked LM을 위한 코퍼스 생성 메소드\n",
        "---\n",
        "이번 스텝에서 구현할 최종 메소드는 아래와 같습니다."
      ]
    },
    {
      "cell_type": "code",
      "metadata": {
        "id": "lY2rAbRLeBD4"
      },
      "source": [
        "def create_pretrain_mask(tokens, mask_cnt, vocab_list):\n",
        "    \"\"\"\n",
        "    마스크 생성\n",
        "    :param tokens: tokens\n",
        "    :param mask_cnt: mask 개수 (전체 tokens의 15%)\n",
        "    :param vocab_list: vocab list (random token 용)\n",
        "    :return tokens: mask된 tokens\n",
        "    :return mask_idx: mask된 token의 index\n",
        "    :return mask_label: mask된 token의 원래 값\n",
        "    \"\"\"\n",
        "    # 단어 단위로 mask 하기 위해서 index 분할\n",
        "    cand_idx = []  # word 단위의 index array\n",
        "    for (i, token) in enumerate(tokens):\n",
        "        if token == \"[CLS]\" or token == \"[SEP]\":\n",
        "            continue\n",
        "        if 0 < len(cand_idx) and not token.startswith(u\"\\u2581\"):\n",
        "            cand_idx[-1].append(i)\n",
        "        else:\n",
        "            cand_idx.append([i])\n",
        "    # random mask를 위해서 순서를 섞음\n",
        "    random.shuffle(cand_idx)\n",
        "\n",
        "    mask_lms = []  # mask 된 값\n",
        "    for index_set in cand_idx:\n",
        "        if len(mask_lms) >= mask_cnt:  # 핸재 mask된 개수가 15%를 넘으면 중지\n",
        "            break\n",
        "        if len(mask_lms) + len(index_set) > mask_cnt:  # 이번에 mask할 개수를 포함해 15%를 넘으면 skip\n",
        "            continue\n",
        "        dice = random.random()  # 0..1 사이의 확률 값\n",
        "        for index in index_set:\n",
        "            masked_token = None\n",
        "            if dice < 0.8:  # 80% replace with [MASK]\n",
        "                masked_token = \"[MASK]\"\n",
        "            elif dice < 0.9: # 10% keep original\n",
        "                masked_token = tokens[index]\n",
        "            else:  # 10% random word\n",
        "                masked_token = random.choice(vocab_list)\n",
        "            mask_lms.append({\"index\": index, \"label\": tokens[index]})\n",
        "            tokens[index] = masked_token\n",
        "    # mask_lms 정렬 후 mask_idx, mask_label 추출\n",
        "    mask_lms = sorted(mask_lms, key=lambda x: x[\"index\"])\n",
        "    mask_idx = [p[\"index\"] for p in mask_lms]  # mask된 token의 index\n",
        "    mask_label = [p[\"label\"] for p in mask_lms]  # mask된 token의 원래 값\n",
        "\n",
        "    return tokens, mask_idx, mask_label"
      ],
      "execution_count": null,
      "outputs": []
    },
    {
      "cell_type": "markdown",
      "metadata": {
        "id": "IoBRjFv_eLZL"
      },
      "source": [
        "create_pretrain_mask() 수행 결과를 다시 한번 확인해 봅시다.\n",
        "\n"
      ]
    },
    {
      "cell_type": "code",
      "metadata": {
        "colab": {
          "base_uri": "https://localhost:8080/"
        },
        "id": "jqpu_VkDeJFY",
        "outputId": "4ee395f4-7462-4f3e-baf2-1a2af50da8f6"
      },
      "source": [
        "# tokens가 mask되므로 재 실행을 위해서 넣어줌 (테스트용)\n",
        "tokens = copy.deepcopy(tokens_org)\n",
        "\n",
        "tokens, mask_idx, mask_label = create_pretrain_mask(tokens, mask_cnt, vocab_list)\n",
        "\n",
        "print(\"tokens_org\")\n",
        "print(tokens_org, \"\\n\")\n",
        "print(\"tokens\")\n",
        "print(tokens, \"\\n\")\n",
        "\n",
        "print(\"mask_idx   :\", mask_idx)\n",
        "print(\"mask_label :\", mask_label)"
      ],
      "execution_count": null,
      "outputs": [
        {
          "output_type": "stream",
          "text": [
            "tokens_org\n",
            "['[CLS]', '▁추적', '추', '적', '▁비가', '▁내리는', '▁날이', '었', '어', '▁그날', '은', '▁', '왠', '지', '▁손님', '이', '▁많아', '▁첫', '▁번에', '▁삼', '십', '▁전', '▁둘째', '번', '▁오', '십', '▁전', '▁오랜', '만', '에', '▁받아', '보는', '▁십', '▁전', '짜리', '▁백', '통화', '▁서', '푼', '에', '[SEP]', '▁손바닥', '▁위', '엔', '▁기쁨', '의', '▁눈물', '이', '▁흘러', '▁컬', '컬', '한', '▁목', '에', '▁모', '주', '▁한', '잔', '을', '▁적', '셔', '▁몇', '▁달', '▁포', '▁전부터', '▁콜', '록', '거리는', '▁아내', '▁생각', '에', '▁그', '토록', '▁먹고', '▁싶다', '던', '[SEP]'] \n",
            "\n",
            "tokens\n",
            "['[CLS]', '▁추적', '추', '적', '▁비가', '▁내리는', '▁날이', '었', '어', '▁그날', '은', '▁', '왠', '지', '▁손님', '이', '[MASK]', '[MASK]', '▁번에', '▁삼', '십', '▁전', '▁둘째', '번', '▁오', '십', '▁전', '▁오랜', '만', '에', '▁받아', '보는', '▁십', '▁전', '짜리', '▁백', '통화', '▁5·18', '▁마른', '▁화려', '[SEP]', '▁손바닥', '[MASK]', '[MASK]', '▁기쁨', '의', '▁눈물', '이', '▁흘러', '▁컬', '컬', '한', '▁목', '에', '[MASK]', '[MASK]', '▁한', '잔', '을', '▁적', '셔', '▁몇', '▁달', '▁포', '▁전부터', '▁콜', '록', '거리는', '▁아내', '[MASK]', '[MASK]', '▁그', '토록', '▁먹고', '▁싶다', '던', '[SEP]'] \n",
            "\n",
            "mask_idx   : [16, 17, 37, 38, 39, 42, 43, 54, 55, 69, 70]\n",
            "mask_label : ['▁많아', '▁첫', '▁서', '푼', '에', '▁위', '엔', '▁모', '주', '▁생각', '에']\n"
          ],
          "name": "stdout"
        }
      ]
    },
    {
      "cell_type": "markdown",
      "metadata": {
        "id": "frn7LSzLeRsN"
      },
      "source": [
        "#16-4. 데이터 전처리 (2) NSP pair 생성\n",
        "BERT의 pretrain task로 Next Sentence Prediction이 있습니다. 문장 2개를 붙여 놓고 두 문장이 이어지는 것인지 아닌지 문장 호응관계를 맞출 수 있게 하는 것입니다.\n",
        "\n",
        "아래 문장을 예시로 진행해 보겠습니다."
      ]
    },
    {
      "cell_type": "code",
      "metadata": {
        "id": "Vhn8YinPeM78"
      },
      "source": [
        "string = \"\"\"추적추적 비가 내리는 날이었어\n",
        "그날은 왠지 손님이 많아\n",
        "첫 번에 삼십 전 둘째 번 오십 전\n",
        "오랜만에 받아보는 십 전짜리 백통화 서푼에\n",
        "손바닥 위엔 기쁨의 눈물이 흘러\n",
        "컬컬한 목에 모주 한잔을 적셔\n",
        "몇 달 포 전부터 콜록거리는 아내\n",
        "생각에 그토록 먹고 싶다던\n",
        "설렁탕 한 그릇을 이제는 살 수 있어\n",
        "집으로 돌아가는 길 난 문득 떠올라\n",
        "아내의 목소리가 거칠어만 가는 희박한 숨소리가\n",
        "오늘은 왠지 나가지 말라던 내 옆에 있어 달라던\n",
        "그리도 나가고 싶으면 일찍이라도 들어와 달라던\n",
        "아내의 간절한 목소리가 들려와\n",
        "나를 원망하듯 비는 점점 거세져\n",
        "싸늘히 식어가는 아내가 떠올라 걱정은 더해져\n",
        "난 몰라 오늘은 운수 좋은 날\n",
        "난 맨날 이렇게 살 수 있으면 얼마나 좋을까\"\"\""
      ],
      "execution_count": null,
      "outputs": []
    },
    {
      "cell_type": "code",
      "metadata": {
        "colab": {
          "base_uri": "https://localhost:8080/"
        },
        "id": "dt_UytNreUD3",
        "outputId": "f2f0f17f-7048-47c9-f982-861e2b461bd6"
      },
      "source": [
        "# 줄 단위로 tokenize\n",
        "doc = [vocab.encode_as_pieces(line) for line in string.split(\"\\n\")]\n",
        "doc[:3]"
      ],
      "execution_count": null,
      "outputs": [
        {
          "output_type": "execute_result",
          "data": {
            "text/plain": [
              "[['▁추적', '추', '적', '▁비가', '▁내리는', '▁날이', '었', '어'],\n",
              " ['▁그날', '은', '▁', '왠', '지', '▁손님', '이', '▁많아'],\n",
              " ['▁첫', '▁번에', '▁삼', '십', '▁전', '▁둘째', '▁번', '▁오', '십', '▁전']]"
            ]
          },
          "metadata": {
            "tags": []
          },
          "execution_count": 15
        }
      ]
    },
    {
      "cell_type": "markdown",
      "metadata": {
        "id": "Nrya-9B8eYMS"
      },
      "source": [
        "우선 원문에서 이어진 두 문장씩 짝지어 보겠습니다."
      ]
    },
    {
      "cell_type": "code",
      "metadata": {
        "id": "65pozAOWeWjo"
      },
      "source": [
        "# 최대 길이\n",
        "n_test_seq = 64\n",
        "# 최소 길이\n",
        "min_seq = 8\n",
        "# [CLS], tokens_a, [SEB], tokens_b, [SEP]\n",
        "max_seq = n_test_seq - 3"
      ],
      "execution_count": null,
      "outputs": []
    },
    {
      "cell_type": "code",
      "metadata": {
        "colab": {
          "base_uri": "https://localhost:8080/"
        },
        "id": "HA37eUSZecRd",
        "outputId": "d00760ba-ee2c-4b90-9865-08274d91c85d"
      },
      "source": [
        "current_chunk = []  # line 단위 tokens\n",
        "current_length = 0\n",
        "for i in range(len(doc)):  # doc 전체를 loop\n",
        "    current_chunk.append(doc[i])  # line 단위로 추가\n",
        "    current_length += len(doc[i])  # current_chunk의 token 수\n",
        "    if 1 < len(current_chunk) and (i == len(doc) - 1 or current_length >= max_seq):  # 마지막 줄 이거나 길이가 max_seq 이상 인 경우\n",
        "        print(\"current_chunk:\", len(current_chunk), current_length, current_chunk)\n",
        "\n",
        "        #######################################\n",
        "        # token a\n",
        "        a_end = 1\n",
        "        if 1 < len(current_chunk):\n",
        "            a_end = random.randrange(1, len(current_chunk))\n",
        "        tokens_a = []\n",
        "        for j in range(a_end):\n",
        "            tokens_a.extend(current_chunk[j])\n",
        "        # token b\n",
        "        tokens_b = []\n",
        "        for j in range(a_end, len(current_chunk)):\n",
        "            tokens_b.extend(current_chunk[j])\n",
        "          \n",
        "        print(\"tokens_a:\", len(tokens_a), tokens_a)\n",
        "        print(\"tokens_b:\", len(tokens_b), tokens_b)\n",
        "        #######################################\n",
        "        print()\n",
        "\n",
        "        current_chunk = []\n",
        "        current_length = 0"
      ],
      "execution_count": null,
      "outputs": [
        {
          "output_type": "stream",
          "text": [
            "current_chunk: 7 67 [['▁추적', '추', '적', '▁비가', '▁내리는', '▁날이', '었', '어'], ['▁그날', '은', '▁', '왠', '지', '▁손님', '이', '▁많아'], ['▁첫', '▁번에', '▁삼', '십', '▁전', '▁둘째', '▁번', '▁오', '십', '▁전'], ['▁오랜', '만', '에', '▁받아', '보는', '▁십', '▁전', '짜리', '▁백', '통화', '▁서', '푼', '에'], ['▁손바닥', '▁위', '엔', '▁기쁨', '의', '▁눈물', '이', '▁흘러'], ['▁컬', '컬', '한', '▁목', '에', '▁모', '주', '▁한', '잔', '을', '▁적', '셔'], ['▁몇', '▁달', '▁포', '▁전부터', '▁콜', '록', '거리는', '▁아내']]\n",
            "tokens_a: 16 ['▁추적', '추', '적', '▁비가', '▁내리는', '▁날이', '었', '어', '▁그날', '은', '▁', '왠', '지', '▁손님', '이', '▁많아']\n",
            "tokens_b: 51 ['▁첫', '▁번에', '▁삼', '십', '▁전', '▁둘째', '▁번', '▁오', '십', '▁전', '▁오랜', '만', '에', '▁받아', '보는', '▁십', '▁전', '짜리', '▁백', '통화', '▁서', '푼', '에', '▁손바닥', '▁위', '엔', '▁기쁨', '의', '▁눈물', '이', '▁흘러', '▁컬', '컬', '한', '▁목', '에', '▁모', '주', '▁한', '잔', '을', '▁적', '셔', '▁몇', '▁달', '▁포', '▁전부터', '▁콜', '록', '거리는', '▁아내']\n",
            "\n",
            "current_chunk: 6 61 [['▁생각', '에', '▁그', '토록', '▁먹고', '▁싶다', '던'], ['▁설', '렁', '탕', '▁한', '▁그릇', '을', '▁이제는', '▁살', '▁수', '▁있어'], ['▁집으로', '▁돌아가는', '▁길', '▁난', '▁문', '득', '▁떠', '올라'], ['▁아내', '의', '▁목소리가', '▁거칠', '어', '만', '▁가는', '▁희박', '한', '▁숨', '소리', '가'], ['▁오늘', '은', '▁', '왠', '지', '▁나가지', '▁말라', '던', '▁내', '▁옆에', '▁있어', '▁달라', '던'], ['▁그리', '도', '▁나가', '고', '▁싶', '으면', '▁일찍이', '라도', '▁들어와', '▁달라', '던']]\n",
            "tokens_a: 37 ['▁생각', '에', '▁그', '토록', '▁먹고', '▁싶다', '던', '▁설', '렁', '탕', '▁한', '▁그릇', '을', '▁이제는', '▁살', '▁수', '▁있어', '▁집으로', '▁돌아가는', '▁길', '▁난', '▁문', '득', '▁떠', '올라', '▁아내', '의', '▁목소리가', '▁거칠', '어', '만', '▁가는', '▁희박', '한', '▁숨', '소리', '가']\n",
            "tokens_b: 24 ['▁오늘', '은', '▁', '왠', '지', '▁나가지', '▁말라', '던', '▁내', '▁옆에', '▁있어', '▁달라', '던', '▁그리', '도', '▁나가', '고', '▁싶', '으면', '▁일찍이', '라도', '▁들어와', '▁달라', '던']\n",
            "\n",
            "current_chunk: 5 49 [['▁아내', '의', '▁간', '절', '한', '▁목소리가', '▁들려', '와'], ['▁나', '를', '▁원', '망', '하듯', '▁비', '는', '▁점점', '▁거세', '져'], ['▁싸', '늘', '히', '▁식', '어가', '는', '▁아내가', '▁떠', '올라', '▁걱정', '은', '▁더', '해져'], ['▁난', '▁몰라', '▁오늘', '은', '▁운수', '▁좋은', '▁날'], ['▁난', '▁맨', '날', '▁이렇게', '▁살', '▁수', '▁있으면', '▁얼마나', '▁좋', '을', '까']]\n",
            "tokens_a: 38 ['▁아내', '의', '▁간', '절', '한', '▁목소리가', '▁들려', '와', '▁나', '를', '▁원', '망', '하듯', '▁비', '는', '▁점점', '▁거세', '져', '▁싸', '늘', '히', '▁식', '어가', '는', '▁아내가', '▁떠', '올라', '▁걱정', '은', '▁더', '해져', '▁난', '▁몰라', '▁오늘', '은', '▁운수', '▁좋은', '▁날']\n",
            "tokens_b: 11 ['▁난', '▁맨', '날', '▁이렇게', '▁살', '▁수', '▁있으면', '▁얼마나', '▁좋', '을', '까']\n",
            "\n"
          ],
          "name": "stdout"
        }
      ]
    },
    {
      "cell_type": "markdown",
      "metadata": {
        "id": "3IHIb6wYefDN"
      },
      "source": [
        "짝지은 두 문장을 그대로 두면 NSP task의 true label 케이스가 되고, 둘의 순서를 뒤바꾸면 false label 케이스가 되겠죠? 두 문장의 최대 길이를 유지하도록 trim을 적용한 후 50%의 확률로 true/false 케이스를 생성해 보겠습니다.\n",
        "\n"
      ]
    },
    {
      "cell_type": "code",
      "metadata": {
        "id": "HRQQZQx9ec3I"
      },
      "source": [
        "def trim_tokens(tokens_a, tokens_b, max_seq):\n",
        "    \"\"\"\n",
        "    tokens_a, tokens_b의 길이를 줄임 최대 길이: max_seq\n",
        "    :param tokens_a: tokens A\n",
        "    :param tokens_b: tokens B\n",
        "    :param max_seq: 두 tokens 길이의 최대 값\n",
        "    \"\"\"\n",
        "    while True:\n",
        "        total_length = len(tokens_a) + len(tokens_b)\n",
        "        if total_length <= max_seq:\n",
        "            break\n",
        "\n",
        "        if len(tokens_a) > len(tokens_b):\n",
        "            del tokens_a[0]\n",
        "        else:\n",
        "            tokens_b.pop()"
      ],
      "execution_count": null,
      "outputs": []
    },
    {
      "cell_type": "code",
      "metadata": {
        "colab": {
          "base_uri": "https://localhost:8080/"
        },
        "id": "bIHBcAkPegoW",
        "outputId": "d2814acd-7a07-4d85-d189-ecdc46a8efa9"
      },
      "source": [
        "current_chunk = []  # line 단위 tokens\n",
        "current_length = 0\n",
        "for i in range(len(doc)):  # doc 전체를 loop\n",
        "    current_chunk.append(doc[i])  # line 단위로 추가\n",
        "    current_length += len(doc[i])  # current_chunk의 token 수\n",
        "    if 1 < len(current_chunk) and (i == len(doc) - 1 or current_length >= max_seq):  # 마지막 줄 이거나 길이가 max_seq 이상 인 경우\n",
        "        print(\"current_chunk:\", len(current_chunk), current_length, current_chunk)\n",
        "\n",
        "        # token a\n",
        "        a_end = 1\n",
        "        if 1 < len(current_chunk):\n",
        "            a_end = random.randrange(1, len(current_chunk))\n",
        "        tokens_a = []\n",
        "        for j in range(a_end):\n",
        "            tokens_a.extend(current_chunk[j])\n",
        "        # token b\n",
        "        tokens_b = []\n",
        "        for j in range(a_end, len(current_chunk)):\n",
        "            tokens_b.extend(current_chunk[j])\n",
        "\n",
        "        #######################################\n",
        "        if random.random() < 0.5:  # 50% 확률로 swap\n",
        "            is_next = 0\n",
        "            tokens_t = tokens_a\n",
        "            tokens_a = tokens_b\n",
        "            tokens_b = tokens_t\n",
        "        else:\n",
        "            is_next = 1\n",
        "        # max_seq 보다 큰 경우 길이 조절\n",
        "        trim_tokens(tokens_a, tokens_b, max_seq)\n",
        "        assert 0 < len(tokens_a)\n",
        "        assert 0 < len(tokens_b)\n",
        "\n",
        "        print(\"is_next:\", is_next)\n",
        "        print(\"tokens_a:\", len(tokens_a), tokens_a)\n",
        "        print(\"tokens_b:\", len(tokens_b), tokens_b)\n",
        "        #######################################\n",
        "        print()\n",
        "\n",
        "        current_chunk = []\n",
        "        current_length = 0"
      ],
      "execution_count": null,
      "outputs": [
        {
          "output_type": "stream",
          "text": [
            "current_chunk: 7 67 [['▁추적', '추', '적', '▁비가', '▁내리는', '▁날이', '었', '어'], ['▁그날', '은', '▁', '왠', '지', '▁손님', '이', '▁많아'], ['▁첫', '▁번에', '▁삼', '십', '▁전', '▁둘째', '▁번', '▁오', '십', '▁전'], ['▁오랜', '만', '에', '▁받아', '보는', '▁십', '▁전', '짜리', '▁백', '통화', '▁서', '푼', '에'], ['▁손바닥', '▁위', '엔', '▁기쁨', '의', '▁눈물', '이', '▁흘러'], ['▁컬', '컬', '한', '▁목', '에', '▁모', '주', '▁한', '잔', '을', '▁적', '셔'], ['▁몇', '▁달', '▁포', '▁전부터', '▁콜', '록', '거리는', '▁아내']]\n",
            "is_next: 0\n",
            "tokens_a: 35 ['▁전', '짜리', '▁백', '통화', '▁서', '푼', '에', '▁손바닥', '▁위', '엔', '▁기쁨', '의', '▁눈물', '이', '▁흘러', '▁컬', '컬', '한', '▁목', '에', '▁모', '주', '▁한', '잔', '을', '▁적', '셔', '▁몇', '▁달', '▁포', '▁전부터', '▁콜', '록', '거리는', '▁아내']\n",
            "tokens_b: 26 ['▁추적', '추', '적', '▁비가', '▁내리는', '▁날이', '었', '어', '▁그날', '은', '▁', '왠', '지', '▁손님', '이', '▁많아', '▁첫', '▁번에', '▁삼', '십', '▁전', '▁둘째', '▁번', '▁오', '십', '▁전']\n",
            "\n",
            "current_chunk: 6 61 [['▁생각', '에', '▁그', '토록', '▁먹고', '▁싶다', '던'], ['▁설', '렁', '탕', '▁한', '▁그릇', '을', '▁이제는', '▁살', '▁수', '▁있어'], ['▁집으로', '▁돌아가는', '▁길', '▁난', '▁문', '득', '▁떠', '올라'], ['▁아내', '의', '▁목소리가', '▁거칠', '어', '만', '▁가는', '▁희박', '한', '▁숨', '소리', '가'], ['▁오늘', '은', '▁', '왠', '지', '▁나가지', '▁말라', '던', '▁내', '▁옆에', '▁있어', '▁달라', '던'], ['▁그리', '도', '▁나가', '고', '▁싶', '으면', '▁일찍이', '라도', '▁들어와', '▁달라', '던']]\n",
            "is_next: 0\n",
            "tokens_a: 44 ['▁집으로', '▁돌아가는', '▁길', '▁난', '▁문', '득', '▁떠', '올라', '▁아내', '의', '▁목소리가', '▁거칠', '어', '만', '▁가는', '▁희박', '한', '▁숨', '소리', '가', '▁오늘', '은', '▁', '왠', '지', '▁나가지', '▁말라', '던', '▁내', '▁옆에', '▁있어', '▁달라', '던', '▁그리', '도', '▁나가', '고', '▁싶', '으면', '▁일찍이', '라도', '▁들어와', '▁달라', '던']\n",
            "tokens_b: 17 ['▁생각', '에', '▁그', '토록', '▁먹고', '▁싶다', '던', '▁설', '렁', '탕', '▁한', '▁그릇', '을', '▁이제는', '▁살', '▁수', '▁있어']\n",
            "\n",
            "current_chunk: 5 49 [['▁아내', '의', '▁간', '절', '한', '▁목소리가', '▁들려', '와'], ['▁나', '를', '▁원', '망', '하듯', '▁비', '는', '▁점점', '▁거세', '져'], ['▁싸', '늘', '히', '▁식', '어가', '는', '▁아내가', '▁떠', '올라', '▁걱정', '은', '▁더', '해져'], ['▁난', '▁몰라', '▁오늘', '은', '▁운수', '▁좋은', '▁날'], ['▁난', '▁맨', '날', '▁이렇게', '▁살', '▁수', '▁있으면', '▁얼마나', '▁좋', '을', '까']]\n",
            "is_next: 1\n",
            "tokens_a: 8 ['▁아내', '의', '▁간', '절', '한', '▁목소리가', '▁들려', '와']\n",
            "tokens_b: 41 ['▁나', '를', '▁원', '망', '하듯', '▁비', '는', '▁점점', '▁거세', '져', '▁싸', '늘', '히', '▁식', '어가', '는', '▁아내가', '▁떠', '올라', '▁걱정', '은', '▁더', '해져', '▁난', '▁몰라', '▁오늘', '은', '▁운수', '▁좋은', '▁날', '▁난', '▁맨', '날', '▁이렇게', '▁살', '▁수', '▁있으면', '▁얼마나', '▁좋', '을', '까']\n",
            "\n"
          ],
          "name": "stdout"
        }
      ]
    },
    {
      "cell_type": "markdown",
      "metadata": {
        "id": "6aoaBWBBeka2"
      },
      "source": [
        "제 두 문장 사이에 segment 처리를 해주어야 합니다. 첫 번째 문장의 segment는 모두 0으로, 두 번째 문장은 1로 채워준 후 둘 사이에 구분자인 [SEP] 등을 넣어주는 것으로 마무리됩니다.\n",
        "\n",
        "이전 스텝의 create_pretrain_mask()까지 함께 호출되어 Mask LM용 데이터셋과 NSP용 데이터셋이 결합된 하나의 데이터셋으로 완성될 것입니다. BERT의 pretrain 은 두가지 task가 동시에 수행되니까요."
      ]
    },
    {
      "cell_type": "code",
      "metadata": {
        "colab": {
          "base_uri": "https://localhost:8080/"
        },
        "id": "6brS-bM7eiiz",
        "outputId": "5cca5926-44ec-44e7-a0e1-d47ce72d6564"
      },
      "source": [
        "instances = []\n",
        "current_chunk = []  # line 단위 tokens\n",
        "current_length = 0\n",
        "for i in range(len(doc)):  # doc 전체를 loop\n",
        "    current_chunk.append(doc[i])  # line 단위로 추가\n",
        "    current_length += len(doc[i])  # current_chunk의 token 수\n",
        "    if 1 < len(current_chunk) and (i == len(doc) - 1 or current_length >= max_seq):  # 마지막 줄 이거나 길이가 max_seq 이상 인 경우\n",
        "        print(\"current_chunk:\", len(current_chunk), current_length, current_chunk)\n",
        "\n",
        "        # token a\n",
        "        a_end = 1\n",
        "        if 1 < len(current_chunk):\n",
        "            a_end = random.randrange(1, len(current_chunk))\n",
        "        tokens_a = []\n",
        "        for j in range(a_end):\n",
        "            tokens_a.extend(current_chunk[j])\n",
        "        # token b\n",
        "        tokens_b = []\n",
        "        for j in range(a_end, len(current_chunk)):\n",
        "            tokens_b.extend(current_chunk[j])\n",
        "\n",
        "        if random.random() < 0.5:  # 50% 확률로 swap\n",
        "            is_next = 0\n",
        "            tokens_t = tokens_a\n",
        "            tokens_a = tokens_b\n",
        "            tokens_b = tokens_t\n",
        "        else:\n",
        "            is_next = 1\n",
        "        # max_seq 보다 큰 경우 길이 조절\n",
        "        trim_tokens(tokens_a, tokens_b, max_seq)\n",
        "        assert 0 < len(tokens_a)\n",
        "        assert 0 < len(tokens_b)\n",
        "\n",
        "        print(\"is_next:\", is_next)\n",
        "        print(\"tokens_a:\", len(tokens_a), tokens_a)\n",
        "        print(\"tokens_b:\", len(tokens_b), tokens_b)\n",
        "        #######################################\n",
        "        # tokens & aegment 생성\n",
        "        tokens = [\"[CLS]\"] + tokens_a + [\"[SEP]\"] + tokens_b + [\"[SEP]\"]\n",
        "        segment = [0] * (len(tokens_a) + 2) + [1] * (len(tokens_b) + 1)\n",
        "        print(\"tokens:\", len(tokens), tokens)\n",
        "        print(\"segment:\", len(segment), segment)\n",
        "        # mask\n",
        "        tokens, mask_idx, mask_label = create_pretrain_mask(tokens, int((len(tokens) - 3) * 0.15), vocab_list)\n",
        "        print(\"masked tokens:\", len(tokens), tokens)\n",
        "        print(\"masked index:\", len(mask_idx), mask_idx)\n",
        "        print(\"masked label:\", len(mask_label), mask_label)\n",
        "\n",
        "        instance = {\n",
        "            \"tokens\": tokens,\n",
        "            \"segment\": segment,\n",
        "            \"is_next\": is_next,\n",
        "            \"mask_idx\": mask_idx,\n",
        "            \"mask_label\": mask_label\n",
        "        }\n",
        "        instances.append(instance)\n",
        "        #######################################\n",
        "        print()\n",
        "\n",
        "        current_chunk = []\n",
        "        current_length = 0"
      ],
      "execution_count": null,
      "outputs": [
        {
          "output_type": "stream",
          "text": [
            "current_chunk: 7 67 [['▁추적', '추', '적', '▁비가', '▁내리는', '▁날이', '었', '어'], ['▁그날', '은', '▁', '왠', '지', '▁손님', '이', '▁많아'], ['▁첫', '▁번에', '▁삼', '십', '▁전', '▁둘째', '▁번', '▁오', '십', '▁전'], ['▁오랜', '만', '에', '▁받아', '보는', '▁십', '▁전', '짜리', '▁백', '통화', '▁서', '푼', '에'], ['▁손바닥', '▁위', '엔', '▁기쁨', '의', '▁눈물', '이', '▁흘러'], ['▁컬', '컬', '한', '▁목', '에', '▁모', '주', '▁한', '잔', '을', '▁적', '셔'], ['▁몇', '▁달', '▁포', '▁전부터', '▁콜', '록', '거리는', '▁아내']]\n",
            "is_next: 1\n",
            "tokens_a: 8 ['▁추적', '추', '적', '▁비가', '▁내리는', '▁날이', '었', '어']\n",
            "tokens_b: 53 ['▁그날', '은', '▁', '왠', '지', '▁손님', '이', '▁많아', '▁첫', '▁번에', '▁삼', '십', '▁전', '▁둘째', '▁번', '▁오', '십', '▁전', '▁오랜', '만', '에', '▁받아', '보는', '▁십', '▁전', '짜리', '▁백', '통화', '▁서', '푼', '에', '▁손바닥', '▁위', '엔', '▁기쁨', '의', '▁눈물', '이', '▁흘러', '▁컬', '컬', '한', '▁목', '에', '▁모', '주', '▁한', '잔', '을', '▁적', '셔', '▁몇', '▁달']\n",
            "tokens: 64 ['[CLS]', '▁추적', '추', '적', '▁비가', '▁내리는', '▁날이', '었', '어', '[SEP]', '▁그날', '은', '▁', '왠', '지', '▁손님', '이', '▁많아', '▁첫', '▁번에', '▁삼', '십', '▁전', '▁둘째', '▁번', '▁오', '십', '▁전', '▁오랜', '만', '에', '▁받아', '보는', '▁십', '▁전', '짜리', '▁백', '통화', '▁서', '푼', '에', '▁손바닥', '▁위', '엔', '▁기쁨', '의', '▁눈물', '이', '▁흘러', '▁컬', '컬', '한', '▁목', '에', '▁모', '주', '▁한', '잔', '을', '▁적', '셔', '▁몇', '▁달', '[SEP]']\n",
            "segment: 64 [0, 0, 0, 0, 0, 0, 0, 0, 0, 0, 1, 1, 1, 1, 1, 1, 1, 1, 1, 1, 1, 1, 1, 1, 1, 1, 1, 1, 1, 1, 1, 1, 1, 1, 1, 1, 1, 1, 1, 1, 1, 1, 1, 1, 1, 1, 1, 1, 1, 1, 1, 1, 1, 1, 1, 1, 1, 1, 1, 1, 1, 1, 1, 1]\n",
            "masked tokens: 64 ['[CLS]', '▁추적', '추', '적', '▁비가', '▁내리는', '▁날이', '었', '어', '[SEP]', '▁그날', '은', '▁', '왠', '지', '▁손님', '이', '▁파견', '▁첫', '[MASK]', '▁삼', '십', '▁전', '▁둘째', '[MASK]', '▁오', '십', '▁전', '▁오랜', '만', '에', '▁받아', '보는', '▁십', '▁전', '짜리', '▁백', '통화', '▁서', '푼', '에', '▁손바닥', '▁위', '엔', '▁기쁨', '의', '▁눈물', '이', '▁흘러', '▁컬', '컬', '한', '[MASK]', '[MASK]', '▁모', '주', '▁한', '잔', '을', '▁적', '셔', '▁몇', '▁달', '[SEP]']\n",
            "masked index: 9 [17, 19, 24, 27, 52, 53, 56, 57, 58]\n",
            "masked label: 9 ['▁많아', '▁번에', '▁번', '▁전', '▁목', '에', '▁한', '잔', '을']\n",
            "\n",
            "current_chunk: 6 61 [['▁생각', '에', '▁그', '토록', '▁먹고', '▁싶다', '던'], ['▁설', '렁', '탕', '▁한', '▁그릇', '을', '▁이제는', '▁살', '▁수', '▁있어'], ['▁집으로', '▁돌아가는', '▁길', '▁난', '▁문', '득', '▁떠', '올라'], ['▁아내', '의', '▁목소리가', '▁거칠', '어', '만', '▁가는', '▁희박', '한', '▁숨', '소리', '가'], ['▁오늘', '은', '▁', '왠', '지', '▁나가지', '▁말라', '던', '▁내', '▁옆에', '▁있어', '▁달라', '던'], ['▁그리', '도', '▁나가', '고', '▁싶', '으면', '▁일찍이', '라도', '▁들어와', '▁달라', '던']]\n",
            "is_next: 1\n",
            "tokens_a: 25 ['▁생각', '에', '▁그', '토록', '▁먹고', '▁싶다', '던', '▁설', '렁', '탕', '▁한', '▁그릇', '을', '▁이제는', '▁살', '▁수', '▁있어', '▁집으로', '▁돌아가는', '▁길', '▁난', '▁문', '득', '▁떠', '올라']\n",
            "tokens_b: 36 ['▁아내', '의', '▁목소리가', '▁거칠', '어', '만', '▁가는', '▁희박', '한', '▁숨', '소리', '가', '▁오늘', '은', '▁', '왠', '지', '▁나가지', '▁말라', '던', '▁내', '▁옆에', '▁있어', '▁달라', '던', '▁그리', '도', '▁나가', '고', '▁싶', '으면', '▁일찍이', '라도', '▁들어와', '▁달라', '던']\n",
            "tokens: 64 ['[CLS]', '▁생각', '에', '▁그', '토록', '▁먹고', '▁싶다', '던', '▁설', '렁', '탕', '▁한', '▁그릇', '을', '▁이제는', '▁살', '▁수', '▁있어', '▁집으로', '▁돌아가는', '▁길', '▁난', '▁문', '득', '▁떠', '올라', '[SEP]', '▁아내', '의', '▁목소리가', '▁거칠', '어', '만', '▁가는', '▁희박', '한', '▁숨', '소리', '가', '▁오늘', '은', '▁', '왠', '지', '▁나가지', '▁말라', '던', '▁내', '▁옆에', '▁있어', '▁달라', '던', '▁그리', '도', '▁나가', '고', '▁싶', '으면', '▁일찍이', '라도', '▁들어와', '▁달라', '던', '[SEP]']\n",
            "segment: 64 [0, 0, 0, 0, 0, 0, 0, 0, 0, 0, 0, 0, 0, 0, 0, 0, 0, 0, 0, 0, 0, 0, 0, 0, 0, 0, 0, 1, 1, 1, 1, 1, 1, 1, 1, 1, 1, 1, 1, 1, 1, 1, 1, 1, 1, 1, 1, 1, 1, 1, 1, 1, 1, 1, 1, 1, 1, 1, 1, 1, 1, 1, 1, 1]\n",
            "masked tokens: 64 ['[CLS]', '▁생각', '에', '▁그', '토록', '▁먹고', 'eu', 'CK', '▁설', '렁', '탕', '▁한', '▁그릇', '을', '[MASK]', '▁살', '▁문예', '▁있어', '▁집으로', '▁돌아가는', '▁길', '▁난', '▁문', '득', '▁떠', '올라', '[SEP]', '▁아내', '의', '▁목소리가', '▁거칠', '어', '만', '▁가는', '▁희박', '한', '▁숨', '소리', '가', '▁오늘', '은', '▁', '왠', '지', '▁나가지', '▁말라', '던', '▁내', '▁옆에', '▁있어', '▁달라', '던', '▁그리', '도', '▁나가', '고', '▁싶', '으면', '▁일찍이', '라도', '[MASK]', '▁달라', '던', '[SEP]']\n",
            "masked index: 9 [6, 7, 12, 13, 14, 16, 24, 25, 60]\n",
            "masked label: 9 ['▁싶다', '던', '▁그릇', '을', '▁이제는', '▁수', '▁떠', '올라', '▁들어와']\n",
            "\n",
            "current_chunk: 5 49 [['▁아내', '의', '▁간', '절', '한', '▁목소리가', '▁들려', '와'], ['▁나', '를', '▁원', '망', '하듯', '▁비', '는', '▁점점', '▁거세', '져'], ['▁싸', '늘', '히', '▁식', '어가', '는', '▁아내가', '▁떠', '올라', '▁걱정', '은', '▁더', '해져'], ['▁난', '▁몰라', '▁오늘', '은', '▁운수', '▁좋은', '▁날'], ['▁난', '▁맨', '날', '▁이렇게', '▁살', '▁수', '▁있으면', '▁얼마나', '▁좋', '을', '까']]\n",
            "is_next: 1\n",
            "tokens_a: 31 ['▁아내', '의', '▁간', '절', '한', '▁목소리가', '▁들려', '와', '▁나', '를', '▁원', '망', '하듯', '▁비', '는', '▁점점', '▁거세', '져', '▁싸', '늘', '히', '▁식', '어가', '는', '▁아내가', '▁떠', '올라', '▁걱정', '은', '▁더', '해져']\n",
            "tokens_b: 18 ['▁난', '▁몰라', '▁오늘', '은', '▁운수', '▁좋은', '▁날', '▁난', '▁맨', '날', '▁이렇게', '▁살', '▁수', '▁있으면', '▁얼마나', '▁좋', '을', '까']\n",
            "tokens: 52 ['[CLS]', '▁아내', '의', '▁간', '절', '한', '▁목소리가', '▁들려', '와', '▁나', '를', '▁원', '망', '하듯', '▁비', '는', '▁점점', '▁거세', '져', '▁싸', '늘', '히', '▁식', '어가', '는', '▁아내가', '▁떠', '올라', '▁걱정', '은', '▁더', '해져', '[SEP]', '▁난', '▁몰라', '▁오늘', '은', '▁운수', '▁좋은', '▁날', '▁난', '▁맨', '날', '▁이렇게', '▁살', '▁수', '▁있으면', '▁얼마나', '▁좋', '을', '까', '[SEP]']\n",
            "segment: 52 [0, 0, 0, 0, 0, 0, 0, 0, 0, 0, 0, 0, 0, 0, 0, 0, 0, 0, 0, 0, 0, 0, 0, 0, 0, 0, 0, 0, 0, 0, 0, 0, 0, 1, 1, 1, 1, 1, 1, 1, 1, 1, 1, 1, 1, 1, 1, 1, 1, 1, 1, 1]\n",
            "masked tokens: 52 ['[CLS]', '▁아내', '의', '[MASK]', '[MASK]', '[MASK]', '▁목소리가', '▁들려', '와', '▁나', '를', '▁원', '망', '하듯', '▁비', '는', '[MASK]', '▁거세', '져', '▁싸', '늘', '히', '▁식', '어가', '는', '▁아내가', '▁떠', '올라', '▁걱정', '은', '▁더', '해져', '[SEP]', '[MASK]', '▁몰라', '▁오늘', '은', '▁운수', '[MASK]', '▁날', '▁난', '▁맨', '날', '▁이렇게', '[MASK]', '▁수', '▁있으면', '▁얼마나', '▁좋', '을', '까', '[SEP]']\n",
            "masked index: 7 [3, 4, 5, 16, 33, 38, 44]\n",
            "masked label: 7 ['▁간', '절', '한', '▁점점', '▁난', '▁좋은', '▁살']\n",
            "\n"
          ],
          "name": "stdout"
        }
      ]
    },
    {
      "cell_type": "code",
      "metadata": {
        "colab": {
          "base_uri": "https://localhost:8080/"
        },
        "id": "yYJmY3v-eqqb",
        "outputId": "3cce84d3-b0ef-4f78-d456-451760821b42"
      },
      "source": [
        "# 최종 데이터셋 결과 확인\n",
        "for instance in instances:\n",
        "    print(instance)"
      ],
      "execution_count": null,
      "outputs": [
        {
          "output_type": "stream",
          "text": [
            "{'tokens': ['[CLS]', '▁추적', '추', '적', '▁비가', '▁내리는', '▁날이', '었', '어', '[SEP]', '▁그날', '은', '▁', '왠', '지', '▁손님', '이', '▁파견', '▁첫', '[MASK]', '▁삼', '십', '▁전', '▁둘째', '[MASK]', '▁오', '십', '▁전', '▁오랜', '만', '에', '▁받아', '보는', '▁십', '▁전', '짜리', '▁백', '통화', '▁서', '푼', '에', '▁손바닥', '▁위', '엔', '▁기쁨', '의', '▁눈물', '이', '▁흘러', '▁컬', '컬', '한', '[MASK]', '[MASK]', '▁모', '주', '▁한', '잔', '을', '▁적', '셔', '▁몇', '▁달', '[SEP]'], 'segment': [0, 0, 0, 0, 0, 0, 0, 0, 0, 0, 1, 1, 1, 1, 1, 1, 1, 1, 1, 1, 1, 1, 1, 1, 1, 1, 1, 1, 1, 1, 1, 1, 1, 1, 1, 1, 1, 1, 1, 1, 1, 1, 1, 1, 1, 1, 1, 1, 1, 1, 1, 1, 1, 1, 1, 1, 1, 1, 1, 1, 1, 1, 1, 1], 'is_next': 1, 'mask_idx': [17, 19, 24, 27, 52, 53, 56, 57, 58], 'mask_label': ['▁많아', '▁번에', '▁번', '▁전', '▁목', '에', '▁한', '잔', '을']}\n",
            "{'tokens': ['[CLS]', '▁생각', '에', '▁그', '토록', '▁먹고', 'eu', 'CK', '▁설', '렁', '탕', '▁한', '▁그릇', '을', '[MASK]', '▁살', '▁문예', '▁있어', '▁집으로', '▁돌아가는', '▁길', '▁난', '▁문', '득', '▁떠', '올라', '[SEP]', '▁아내', '의', '▁목소리가', '▁거칠', '어', '만', '▁가는', '▁희박', '한', '▁숨', '소리', '가', '▁오늘', '은', '▁', '왠', '지', '▁나가지', '▁말라', '던', '▁내', '▁옆에', '▁있어', '▁달라', '던', '▁그리', '도', '▁나가', '고', '▁싶', '으면', '▁일찍이', '라도', '[MASK]', '▁달라', '던', '[SEP]'], 'segment': [0, 0, 0, 0, 0, 0, 0, 0, 0, 0, 0, 0, 0, 0, 0, 0, 0, 0, 0, 0, 0, 0, 0, 0, 0, 0, 0, 1, 1, 1, 1, 1, 1, 1, 1, 1, 1, 1, 1, 1, 1, 1, 1, 1, 1, 1, 1, 1, 1, 1, 1, 1, 1, 1, 1, 1, 1, 1, 1, 1, 1, 1, 1, 1], 'is_next': 1, 'mask_idx': [6, 7, 12, 13, 14, 16, 24, 25, 60], 'mask_label': ['▁싶다', '던', '▁그릇', '을', '▁이제는', '▁수', '▁떠', '올라', '▁들어와']}\n",
            "{'tokens': ['[CLS]', '▁아내', '의', '[MASK]', '[MASK]', '[MASK]', '▁목소리가', '▁들려', '와', '▁나', '를', '▁원', '망', '하듯', '▁비', '는', '[MASK]', '▁거세', '져', '▁싸', '늘', '히', '▁식', '어가', '는', '▁아내가', '▁떠', '올라', '▁걱정', '은', '▁더', '해져', '[SEP]', '[MASK]', '▁몰라', '▁오늘', '은', '▁운수', '[MASK]', '▁날', '▁난', '▁맨', '날', '▁이렇게', '[MASK]', '▁수', '▁있으면', '▁얼마나', '▁좋', '을', '까', '[SEP]'], 'segment': [0, 0, 0, 0, 0, 0, 0, 0, 0, 0, 0, 0, 0, 0, 0, 0, 0, 0, 0, 0, 0, 0, 0, 0, 0, 0, 0, 0, 0, 0, 0, 0, 0, 1, 1, 1, 1, 1, 1, 1, 1, 1, 1, 1, 1, 1, 1, 1, 1, 1, 1, 1], 'is_next': 1, 'mask_idx': [3, 4, 5, 16, 33, 38, 44], 'mask_label': ['▁간', '절', '한', '▁점점', '▁난', '▁좋은', '▁살']}\n"
          ],
          "name": "stdout"
        }
      ]
    },
    {
      "cell_type": "markdown",
      "metadata": {
        "id": "MdmZkBo5esL9"
      },
      "source": [
        "🔶 create_pretrain_instances() : Next Sentence Prediction을 위한 코퍼스 생성 메소드\n",
        "이번 스텝에서 구현할 최종 메소드는 아래와 같습니다.\n"
      ]
    },
    {
      "cell_type": "code",
      "metadata": {
        "id": "Y6R8qPRjeq6F"
      },
      "source": [
        "def create_pretrain_instances(vocab, doc, n_seq, mask_prob, vocab_list):\n",
        "    \"\"\"\n",
        "    doc별 pretrain 데이터 생성\n",
        "    \"\"\"\n",
        "    # for CLS], [SEP], [SEP]\n",
        "    max_seq = n_seq - 3\n",
        "\n",
        "    instances = []\n",
        "    current_chunk = []\n",
        "    current_length = 0\n",
        "    for i in range(len(doc)):\n",
        "        current_chunk.append(doc[i])  # line\n",
        "        current_length += len(doc[i])\n",
        "        if 1 < len(current_chunk) and (i == len(doc) - 1 or current_length >= max_seq):\n",
        "            # token a\n",
        "            a_end = 1\n",
        "            if 1 < len(current_chunk):\n",
        "                a_end = random.randrange(1, len(current_chunk))\n",
        "            tokens_a = []\n",
        "            for j in range(a_end):\n",
        "                tokens_a.extend(current_chunk[j])\n",
        "            # token b\n",
        "            tokens_b = []\n",
        "            for j in range(a_end, len(current_chunk)):\n",
        "                tokens_b.extend(current_chunk[j])\n",
        "\n",
        "            if random.random() < 0.5:  # 50% 확률로 swap\n",
        "                is_next = 0\n",
        "                tokens_t = tokens_a\n",
        "                tokens_a = tokens_b\n",
        "                tokens_b = tokens_t\n",
        "            else:\n",
        "                is_next = 1\n",
        "            # max_seq 보다 큰 경우 길이 조절\n",
        "            trim_tokens(tokens_a, tokens_b, max_seq)\n",
        "            assert 0 < len(tokens_a)\n",
        "            assert 0 < len(tokens_b)\n",
        "            # tokens & aegment 생성\n",
        "            tokens = [\"[CLS]\"] + tokens_a + [\"[SEP]\"] + tokens_b + [\"[SEP]\"]\n",
        "            segment = [0] * (len(tokens_a) + 2) + [1] * (len(tokens_b) + 1)\n",
        "            # mask\n",
        "            tokens, mask_idx, mask_label = create_pretrain_mask(tokens, int((len(tokens) - 3) * mask_prob), vocab_list)\n",
        "\n",
        "            instance = {\n",
        "                \"tokens\": tokens,\n",
        "                \"segment\": segment,\n",
        "                \"is_next\": is_next,\n",
        "                \"mask_idx\": mask_idx,\n",
        "                \"mask_label\": mask_label\n",
        "            }\n",
        "            instances.append(instance)\n",
        "\n",
        "            current_chunk = []\n",
        "            current_length = 0\n",
        "    return instances"
      ],
      "execution_count": null,
      "outputs": []
    },
    {
      "cell_type": "markdown",
      "metadata": {
        "id": "x3nEe5NNexDF"
      },
      "source": [
        "create_pretrain_instances() 수행 결과를 다시 한번 확인해 봅시다."
      ]
    },
    {
      "cell_type": "code",
      "metadata": {
        "colab": {
          "base_uri": "https://localhost:8080/"
        },
        "id": "nz11qBY6euz-",
        "outputId": "0c6f6b04-69f0-4734-a7ad-e5bde7caf35a"
      },
      "source": [
        "instances = create_pretrain_instances(vocab, doc, n_test_seq, 0.15, vocab_list)\n",
        "\n",
        "# 최종 데이터셋 결과 확인\n",
        "for instance in instances:\n",
        "    print(instance)"
      ],
      "execution_count": null,
      "outputs": [
        {
          "output_type": "stream",
          "text": [
            "{'tokens': ['[CLS]', '▁손바닥', '[MASK]', '[MASK]', '▁기쁨', '의', '▁눈물', '이', '▁흘러', '▁컬', '컬', '한', '▁목', '에', '[MASK]', '[MASK]', '▁한', '잔', '을', '▁적', '셔', '▁몇', '▁달', '▁포', '▁전부터', '▁콜', '록', '거리는', '▁아내', '[SEP]', '▁추적', '추', '적', '▁비가', '▁내리는', '[MASK]', '[MASK]', '[MASK]', '▁그날', '은', '▁', '왠', '지', '▁손님', '이', '▁많아', '▁첫', '▁번에', '▁삼', '십', '[MASK]', '▁둘째', '▁번', '▁오', '십', '▁전', '▁오랜', '만', '에', '▁받아', '보는', '▁십', '칸의', '[SEP]'], 'segment': [0, 0, 0, 0, 0, 0, 0, 0, 0, 0, 0, 0, 0, 0, 0, 0, 0, 0, 0, 0, 0, 0, 0, 0, 0, 0, 0, 0, 0, 0, 1, 1, 1, 1, 1, 1, 1, 1, 1, 1, 1, 1, 1, 1, 1, 1, 1, 1, 1, 1, 1, 1, 1, 1, 1, 1, 1, 1, 1, 1, 1, 1, 1, 1], 'is_next': 0, 'mask_idx': [2, 3, 14, 15, 35, 36, 37, 50, 62], 'mask_label': ['▁위', '엔', '▁모', '주', '▁날이', '었', '어', '▁전', '▁전']}\n",
            "{'tokens': ['[CLS]', '▁아내', '의', '▁목소리가', '▁거칠', '어', '만', '▁가는', '▁희박', '한', '▁숨', '소리', '가', '▁오늘', '은', '▁', '왠', '지', '繫', '▁말라', '던', '▁내', '▁옆에', '▁있어', '▁달라', '던', '▁그리', '도', '▁나가', '고', '▁싶', '으면', '▁일찍이', '라도', '▁들어와', '▁달라', '던', '[SEP]', '[MASK]', '[MASK]', '▁그', '토록', '▁먹고', '▁싶다', '던', '[MASK]', '[MASK]', '[MASK]', '▁한', '▁그릇', '을', '▁이제는', '▁살', '▁수', '▁있어', '[MASK]', '▁돌아가는', '▁길', '▁난', '▁문', '득', '▁1,300', '乙', '[SEP]'], 'segment': [0, 0, 0, 0, 0, 0, 0, 0, 0, 0, 0, 0, 0, 0, 0, 0, 0, 0, 0, 0, 0, 0, 0, 0, 0, 0, 0, 0, 0, 0, 0, 0, 0, 0, 0, 0, 0, 0, 1, 1, 1, 1, 1, 1, 1, 1, 1, 1, 1, 1, 1, 1, 1, 1, 1, 1, 1, 1, 1, 1, 1, 1, 1, 1], 'is_next': 0, 'mask_idx': [18, 38, 39, 45, 46, 47, 55, 61, 62], 'mask_label': ['▁나가지', '▁생각', '에', '▁설', '렁', '탕', '▁집으로', '▁떠', '올라']}\n",
            "{'tokens': ['[CLS]', '▁나', '를', '▁원', '망', '하듯', '[MASK]', '[MASK]', '[MASK]', '▁거세', '져', '▁싸', '늘', '히', '▁식', '어가', '는', '▁아내가', '▁떠', '올라', '[MASK]', '[MASK]', '▁더', '해져', '[MASK]', '▁몰라', '▁오늘', '은', '▁운수', '▁좋은', '▁날', '▁난', '▁맨', '날', '▁이렇게', '▁살', '▁수', '▁있으면', '▁얼마나', '▁좋', '을', '까', '[SEP]', '▁아내', '의', '▁간', '절', '한', ']]', '▁들려', '와', '[SEP]'], 'segment': [0, 0, 0, 0, 0, 0, 0, 0, 0, 0, 0, 0, 0, 0, 0, 0, 0, 0, 0, 0, 0, 0, 0, 0, 0, 0, 0, 0, 0, 0, 0, 0, 0, 0, 0, 0, 0, 0, 0, 0, 0, 0, 0, 1, 1, 1, 1, 1, 1, 1, 1, 1], 'is_next': 0, 'mask_idx': [6, 7, 8, 20, 21, 24, 48], 'mask_label': ['▁비', '는', '▁점점', '▁걱정', '은', '▁난', '▁목소리가']}\n"
          ],
          "name": "stdout"
        }
      ]
    },
    {
      "cell_type": "markdown",
      "metadata": {
        "id": "DHWzhfl_e2DM"
      },
      "source": [
        "#6-5. 데이터 전처리 (3) 데이터셋 완성\n",
        "이제 우리가 다루어야 할 kowiki.txt에 대해 본격적으로 들여다보겠습니다."
      ]
    },
    {
      "cell_type": "code",
      "metadata": {
        "colab": {
          "base_uri": "https://localhost:8080/"
        },
        "id": "Wwp0lsOaeyle",
        "outputId": "bf321aa1-716c-4b7f-c34c-7c7dfd7f9399"
      },
      "source": [
        "# corpus_file = os.getenv('HOME')+'/aiffel/bert_pretrain/data/kowiki.txt'\n",
        "\n",
        "# line count 확인\n",
        "total = 0\n",
        "with open(corpus_file, 'r') as in_f:\n",
        "    for line in in_f:\n",
        "        total += 1\n",
        "\n",
        "total"
      ],
      "execution_count": null,
      "outputs": [
        {
          "output_type": "execute_result",
          "data": {
            "text/plain": [
              "3957761"
            ]
          },
          "metadata": {
            "tags": []
          },
          "execution_count": 24
        }
      ]
    },
    {
      "cell_type": "markdown",
      "metadata": {
        "id": "_BM-CG1Re7cP"
      },
      "source": [
        "전체 라인 수가 확인되시나요? 거의 400만 개에 육박하는 수치입니다.\n",
        "\n",
        "위키 문서는 하나의 도큐먼트가 주제 키워드에 대해 상세 내용이 설명으로 따라붙어 있는 형태로 구성되어 있지요? 도큐먼트 주제별로 잘 나눠지는지도 확인해 보겠습니다.\n",
        "\n"
      ]
    },
    {
      "cell_type": "code",
      "metadata": {
        "colab": {
          "base_uri": "https://localhost:8080/",
          "height": 460,
          "referenced_widgets": [
            "2d8d861b35c3467c96d8bc4dc909fc29",
            "c3d0da66eb49402e8191fb5ac802df4a",
            "258ec3c644ed4a0995323d040ba2847d",
            "e5c4214b6e7f475dbf05a332808332e6",
            "b42cae32c5d542d38c45cfd4ec17f686",
            "c29a8e59ac834453a85148b1f178d100",
            "7b391c5357244e7781ded7a1499a6e63",
            "1bbe3853cc0341ae85b84ce3797895af"
          ]
        },
        "id": "a7kH1T2Ue5b9",
        "outputId": "58232ac2-5e56-48d9-83df-47e06829c927"
      },
      "source": [
        "# 위키가 주제별로 잘 나눠지는지 여부 확인\n",
        "count = 5\n",
        "\n",
        "with open(corpus_file, 'r') as in_f:\n",
        "    doc = []  # 단락 단위로 문서 저장\n",
        "    for line in tqdm(in_f, total=total):\n",
        "        line = line.strip()\n",
        "        if line == \"\":  # line이 빈줄 일 경우 (새로운 단락을 의미 함)\n",
        "            if 0 < len(doc):\n",
        "                if 0 < count:\n",
        "                    count -= 1\n",
        "                    print(len(doc), \"lines :\", doc[0])\n",
        "                    print(doc[1])\n",
        "                    print(doc[-1])\n",
        "                    print()\n",
        "                else:\n",
        "                    break\n",
        "                doc = []\n",
        "        else:  # doc에 저장\n",
        "            pieces = vocab.encode_as_pieces(line)\n",
        "            if 0 < len(pieces):\n",
        "                doc.append(pieces)\n",
        "    if 0 < len(doc):  # 마지막에 처리되지 않은 doc가 있는 경우\n",
        "        print(doc[0])\n",
        "        print(doc[1])\n",
        "        print(doc[-1])\n",
        "        doc = []"
      ],
      "execution_count": null,
      "outputs": [
        {
          "output_type": "display_data",
          "data": {
            "application/vnd.jupyter.widget-view+json": {
              "model_id": "2d8d861b35c3467c96d8bc4dc909fc29",
              "version_minor": 0,
              "version_major": 2
            },
            "text/plain": [
              "HBox(children=(FloatProgress(value=0.0, max=3957761.0), HTML(value='')))"
            ]
          },
          "metadata": {
            "tags": []
          }
        },
        {
          "output_type": "stream",
          "text": [
            "21 lines : ['▁지미', '▁카터']\n",
            "['▁제임스', '▁얼', '▁\"', '지', '미', '\"', '▁카터', '▁주니어', '(', ',', '▁1924', '년', '▁10', '월', '▁1', '일', '▁~', '▁)', '는', '▁민주당', '▁출신', '▁미국', '▁39', '번째', '▁대통령', '▁', '(1977', '년', '▁~', '▁1981', '년', ')', '이다', '.']\n",
            "['▁그는', '▁2002', '년', '▁말', '▁인권', '과', '▁중재', '▁역할', '에', '▁대한', '▁공로', '를', '▁인정받아', '▁노벨', '▁평화', '상을', '▁받게', '▁되었다', '.']\n",
            "\n",
            "14 lines : ['▁수학']\n",
            "['▁수학', '(', '數', '學', ',', '▁)', '은', '▁양', ',', '▁구조', ',', '▁공간', ',', '▁변화', ',', '▁미', '적', '분', '▁등의', '▁개념을', '▁다루는', '▁학문', '이다', '.', '▁현대', '▁수학', '은', '▁형식', '▁논리', '를', '▁이용해서', '▁공리', '로', '▁구성된', '▁추상적', '▁구조를', '▁연구하는', '▁학문', '으로', '▁여겨', '지기도', '▁한다', '.', '▁수학', '은', '▁그', '▁구조와', '▁발전', '▁과정에서', '는', '▁자연과학', '에', '▁속하는', '▁물리학', '을', '▁비롯한', '▁다른', '▁학문', '들과', '▁깊은', '▁연관', '을', '▁맺고', '▁있다', '.', '▁하지만', ',', '▁어느', '▁과학', '의', '▁분야', '들과는', '▁달리', ',', '▁자연', '계에서', '▁관측', '되지', '▁않는', '▁개념', '들에', '▁대해서', '까지', '▁이론을', '▁일반화', '▁및', '▁추상', '화', '시킬', '▁수', '▁있다는', '▁차이가', '▁있다고', '▁한다', '.', '▁수학자', '들은', '▁그러한', '▁개념', '들에', '▁대해서', '▁추측', '을', '▁하고', ',', '▁적절하게', '▁선택', '된', '▁정의', '와', '▁공리', '로부터의', '▁엄', '밀', '한', '▁연', '역을', '▁통해서', '▁추측', '들의', '▁진', '위를', '▁파악', '한다', '.']\n",
            "['▁수학', '의', '▁기초를', '▁확실히', '▁세우기', '▁위해', ',', '▁수리', '논리', '학과', '▁집합론', '이', '▁발전', '하였고', ',', '▁이와', '▁더불어', '▁범주', '론이', '▁최근에', '도', '▁발전', '되고', '▁있다', '.', '▁“', '근', '본', '▁위기', '”', '라는', '▁말은', '▁대략', '▁1900', '년', '에서', '▁1930', '년', '▁사이에', '▁일어난', ',', '▁수학', '의', '▁엄', '밀', '한', '▁기초', '에', '▁대한', '▁탐구', '를', '▁상징적', '으로', '▁보여주는', '▁말이다', '.', '▁수학', '의', '▁엄', '밀', '한', '▁기초', '에', '▁대한', '▁몇', '▁가지', '▁의견', '▁불일치', '는', '▁오늘날에도', '▁계속되고', '▁있다', '.', '▁수학', '의', '▁기초', '에', '▁대한', '▁위기', '는', '▁그', '▁당시', '▁수많은', '▁논쟁', '에', '▁의해', '▁촉발', '되었으며', ',', '▁그', '▁논쟁', '에는', '▁칸', '토', '어의', '▁집합론', '과', '▁브라', '우', '어', '-', '힐', '베르트', '▁논쟁이', '▁포함되었다', '.']\n",
            "\n",
            "4 lines : ['▁수학', '▁상수']\n",
            "['▁수학', '에서', '▁상수', '란', '▁그', '▁값이', '▁변하지', '▁않는', '▁불변', '량', '으로', ',', '▁변수', '의', '▁반대', '말', '이다', '.', '▁물리', '▁상수', '와', '는', '▁달리', ',', '▁수학', '▁상수', '는', '▁물리적', '▁측정', '과', '는', '▁상관없이', '▁정의된다', '.']\n",
            "['▁특정', '▁수학', '▁상수', ',', '▁예를', '▁들면', '▁골', '롬', '-', '딕', '맨', '▁상수', ',', '▁프랑', '세', '즈', '-', '로', '빈', '슨', '▁상수', ',', '▁formula', '_1', ',', '▁레비', '▁상수', '같은', '▁상수', '는', '▁다른', '▁수학', '상수', '▁또는', '▁함수', '와', '▁약한', '▁상관관계', '▁또는', '▁강한', '▁상관관계', '를', '▁갖는다', '.']\n",
            "\n",
            "10 lines : ['▁문학']\n",
            "['▁문학', '(', '文學', ')', '은', '▁언어를', '▁예술적', '▁표현', '의', '▁제재', '로', '▁삼아', '▁새로운', '▁의미를', '▁창출', '하여', ',', '▁인간과', '▁사회를', '▁진실', '되게', '▁묘사', '하는', '▁예술', '의', '▁하위', '분야', '이다', '.', '▁간단하게', '▁설명', '하면', ',', '▁언어를', '▁통해', '▁인간의', '▁삶을', '▁미', '적', '(', '美', '的', ')', '으로', '▁형상', '화한', '▁것이라고', '▁볼', '▁수', '▁있다', '.', '▁문학', '은', '▁원래', '▁문예', '(', '文', '藝', ')', '라고', '▁부르는', '▁것이', '▁옳', '으며', ',', '▁문학', '을', '▁학문', '의', '▁대상으로', '서', '▁탐구', '하는', '▁학문', '의', '▁명칭', '▁역시', '▁문예', '학', '이다', '.', '▁문예', '학은', '▁음악', '사', '학', ',', '▁미술', '사', '학', '▁등과', '▁함께', '▁예술', '학의', '▁핵심', '분야', '로서', '▁인문학', '의', '▁하위', '범', '주에', '▁포함된다', '.']\n",
            "['▁반영', '론적', '▁관점', '에', '▁의한', '▁감상', '은', '▁작품을', '▁창작', '된', '▁당시', '▁시대', '▁정황', '과', '▁연결', '시켜', '▁감상', '하는', '▁입장', '이고', ',', '▁내재', '적', '▁관점', '의', '▁감상', '은', '▁작품의', '▁형식', ',', '▁내용에', '▁국한', '하여', '▁감상', '하는', '▁것이다', '.', '▁표현', '론적', '▁관점', '의', '▁감상', '은', '▁작가의', '▁전기', '적', '▁사실', '과', '▁작품을', '▁연결', '시켜', '▁감상', '하는', '▁것이고', ',', '▁수용', '론적', '▁관점', '의', '▁감상', '은', '▁독자', '와', '▁작품을', '▁연결', '시켜', '▁감상', '하는', '▁것을', '▁말한다', '.']\n",
            "\n",
            "10 lines : ['▁나라', '▁목록']\n",
            "['▁이', '▁문서는', '▁나라', '▁목록', '이며', ',', '▁전', '▁세계', '▁2', '06', '개', '▁나라', '의', '▁각', '▁현황', '과', '▁주권', '▁승인', '▁정보를', '▁개', '요', '▁형태로', '▁나열', '하고', '▁있다', '.']\n",
            "['▁위', '▁목록에', '▁포함되지', '▁않은', '▁다음', '▁국가는', '▁몬테', '비', '데', '오', '▁협약', '의', '▁모든', '▁조건을', '▁만족', '하지', '▁못', '하거나', ',', '▁자주', '적이고', '▁독립', '적', '임을', '▁주장', '하지', '▁않는', '▁국가', '이다', '.']\n",
            "\n",
            "['▁화학']\n",
            "['▁화학', '(', '化', '學', ',', '▁)', '은', '▁물질의', '▁성질', ',', '▁조성', ',', '▁구조', ',', '▁변화', '▁및', '▁그에', '▁수반', '하는', '▁에너지', '의', '▁변화를', '▁연구하는', '▁자연과학', '의', '▁한', '▁분야', '이다', '.', '▁물리학', '도', '▁역시', '▁물질을', '▁다루는', '▁학문', '이지만', ',', '▁물리학', '이', '▁원소', '와', '▁화합물', '을', '▁모두', '▁포함한', '▁물체의', '▁운동과', '▁에너지', ',', '▁열', '적', '·', '전기', '적', '·', '광', '학적', '·', '기계', '적', '▁속성', '을', '▁다루고', '▁이러한', '▁현상', '으로부터', '▁통일', '된', '▁이론을', '▁구축', '하려는', '▁것과', '는', '▁달리', '▁화학', '에서는', '▁물질', '▁자체를', '▁연구', '▁대상으로', '▁한다', '.', '▁화학', '은', '▁이미', '▁존재하는', '▁물질을', '▁이용하여', '▁특정한', '▁목적', '에', '▁맞는', '▁새로운', '▁물질을', '▁합성', '하는', '▁길을', '▁제공하며', ',', '▁이는', '▁농작물', '의', '▁증산', ',', '▁질병', '의', '▁치료', '▁및', '▁예방', ',', '▁에너지', '▁효율', '▁증대', ',', '▁환경', '오', '염', '▁감소', '▁등', '▁여러', '▁가지', '▁이', '점을', '▁제공한다', '.']\n",
            "['▁유기', '화학', '은', '▁탄소', '로', '▁이루어진', '▁화합물', '을', '▁연구하는', '▁분', '과', '이다', '.', '▁원래', '▁유기', '▁화합물', '은', '▁식물', '이나', '▁동물', '로부터', '▁추출', '해', '낸', '▁화합물', '을', '▁뜻', '하였으나', '▁지금은', '▁유기', '▁화합물', '의', '▁범위가', '▁크게', '▁넓어', '져', '▁탄소', '▁사슬', '▁또는', '▁탄소', '▁고리', '를', '▁가진', '▁모든', '▁화합물', '을', '▁뜻한다', '.', '▁유기', '화학', '의', '▁오랜', '▁관심사', '는', '▁유기', '▁화합물', '의', '▁합성', '▁메커니즘', '이다', '.', '▁현대에', '▁들어서', '▁핵', '자기', '▁공명', '법과', '▁X', '선', '▁결정', '학', '▁등이', '▁개발되어', '▁유기', '▁화합물', '▁분석', '에', '▁있어서', '▁매우', '▁중요한', '▁방법으로', '▁자리잡았다', '.', '▁플라스틱', ',', '▁합성', '섬유', '등의', '▁고분', '자', '물질', '▁등도', '▁유기', '화학', '에서', '▁다루어', '진다', '.']\n"
          ],
          "name": "stdout"
        }
      ]
    },
    {
      "cell_type": "markdown",
      "metadata": {
        "id": "qCaU_gb2e_iN"
      },
      "source": [
        "이전 스텝에서 완성했던 create_pretrain_instances()를 코퍼스에 적용할 수 있는지 몇 라인에 대해서만 확인해 봅시다."
      ]
    },
    {
      "cell_type": "code",
      "metadata": {
        "colab": {
          "base_uri": "https://localhost:8080/",
          "height": 477,
          "referenced_widgets": [
            "cfa804835e8d49ce8033646fef861dd1",
            "939fd9a8426948c6a4143475376ec135",
            "8d580b3ce0994848b719680f48fec50c",
            "c8549a8d66fb453bbcb9a6458d33f26d",
            "50a31fe5df144641825791f3aefe68be",
            "7cda782bef9f401fbe0388de83be22ef",
            "74ca112ac06e4ad084022afaa15af489",
            "a11801b61dc947f6b3681fc42c495f74"
          ]
        },
        "id": "HgUcLgIDe9-j",
        "outputId": "8d219067-3628-4422-d107-72769a662587"
      },
      "source": [
        "# instance 생성 기능 확인\n",
        "count = 5\n",
        "\n",
        "with open(corpus_file, 'r') as in_f:\n",
        "    doc = []  # 단락 단위로 문서 저장\n",
        "    for line in tqdm(in_f, total=total):\n",
        "        line = line.strip()\n",
        "        if line == \"\":  # line이 빈줄 일 경우 (새로운 단락을 의미 함)\n",
        "            if 0 < len(doc):\n",
        "                instances = create_pretrain_instances(vocab, doc, n_test_seq, 0.15, vocab_list)\n",
        "                # save\n",
        "                print(\"doc:\", len(doc), \"instances:\", len(instances))\n",
        "                print(instances[0])\n",
        "                print(instances[-1])\n",
        "                print()\n",
        "                doc = []\n",
        "                if 0 < count:  # 테스트를 위해서 부분 처리 함\n",
        "                    count -= 1\n",
        "                else:\n",
        "                    break\n",
        "        else:  # doc에 저장\n",
        "            if 0 < len(pieces):\n",
        "                doc.append(pieces)\n",
        "    if 0 < len(doc):  # 마지막에 처리되지 않은 doc가 있는 경우\n",
        "        instances = create_pretrain_instances(doc, 128)\n",
        "        # save\n",
        "        print(\"doc:\", len(doc), \"instances:\", len(instances))\n",
        "        print(instances[0])\n",
        "        print(instances[-1])\n",
        "        print()\n",
        "        doc = []"
      ],
      "execution_count": null,
      "outputs": [
        {
          "output_type": "display_data",
          "data": {
            "application/vnd.jupyter.widget-view+json": {
              "model_id": "cfa804835e8d49ce8033646fef861dd1",
              "version_minor": 0,
              "version_major": 2
            },
            "text/plain": [
              "HBox(children=(FloatProgress(value=0.0, max=3957761.0), HTML(value='')))"
            ]
          },
          "metadata": {
            "tags": []
          }
        },
        {
          "output_type": "stream",
          "text": [
            "doc: 21 instances: 10\n",
            "{'tokens': ['[CLS]', '▁X', '선', '▁결정', '학', '▁등이', '▁개발되어', '▁유기', '▁화합물', '▁분석', '에', '▁있어서', '▁매우', '▁중요한', '▁방법으로', '▁자리잡았다', '.', '[MASK]', '[MASK]', '▁합성', '섬유', '등의', '▁고분', '자', '물질', '▁등도', '▁유기', '화학', '에서', '▁다루어', '진다', '.', '[SEP]', '▁유기', '화학', '은', '▁탄소', '로', '▁이루어진', '▁화합물', '을', '▁연구하는', '▁분', '과', '이다', '.', '▁원래', '▁유기', '[MASK]', '[MASK]', '▁식물', '이나', '▁동물', '로부터', '▁추출', '해', '낸', '▁화합물', '을', '▁뜻', '하였으나', '[MASK]', '[MASK]', '[SEP]'], 'segment': [0, 0, 0, 0, 0, 0, 0, 0, 0, 0, 0, 0, 0, 0, 0, 0, 0, 0, 0, 0, 0, 0, 0, 0, 0, 0, 0, 0, 0, 0, 0, 0, 0, 1, 1, 1, 1, 1, 1, 1, 1, 1, 1, 1, 1, 1, 1, 1, 1, 1, 1, 1, 1, 1, 1, 1, 1, 1, 1, 1, 1, 1, 1, 1], 'is_next': 0, 'mask_idx': [17, 18, 22, 23, 24, 48, 49, 61, 62], 'mask_label': ['▁플라스틱', ',', '▁고분', '자', '물질', '▁화합물', '은', '▁지금은', '▁유기']}\n",
            "{'tokens': ['[CLS]', '▁X', '선', '▁결정', '학', '▁등이', '▁개발되어', '[MASK]', '[MASK]', '[MASK]', '[MASK]', '▁있어서', '▁매우', '▁중요한', '▁방법으로', '▁자리잡았다', '.', '[MASK]', '[MASK]', '▁합성', '섬유', '등의', '▁고분', '자', '물질', '▁등도', '▁유기', '화학', '에서', '▁다루어', '진다', '.', '[SEP]', '▁유기', '화학', '은', '▁탄소', '로', '▁이루어진', '▁화합물', '을', '▁연구하는', '▁분', '과', '이다', '.', '▁원래', '▁유기', '▁화합물', '은', '▁식물', '이나', '▁동물', '로부터', '▁추출', '해', '낸', '▁화합물', '을', '▁뜻', '하였으나', '▁지금은', '▁유기', '[SEP]'], 'segment': [0, 0, 0, 0, 0, 0, 0, 0, 0, 0, 0, 0, 0, 0, 0, 0, 0, 0, 0, 0, 0, 0, 0, 0, 0, 0, 0, 0, 0, 0, 0, 0, 0, 1, 1, 1, 1, 1, 1, 1, 1, 1, 1, 1, 1, 1, 1, 1, 1, 1, 1, 1, 1, 1, 1, 1, 1, 1, 1, 1, 1, 1, 1, 1], 'is_next': 0, 'mask_idx': [7, 8, 9, 10, 17, 18, 26, 27, 28], 'mask_label': ['▁유기', '▁화합물', '▁분석', '에', '▁플라스틱', ',', '▁유기', '화학', '에서']}\n",
            "\n",
            "doc: 14 instances: 7\n",
            "{'tokens': ['[CLS]', '▁X', '선', '▁결정', '학', '▁등이', '▁개발되어', '▁유기', '▁화합물', '▁분석', '에', '[MASK]', '[MASK]', '▁중요한', '▁방법으로', '▁자리잡았다', '.', '▁플라스틱', ',', '▁합성', '섬유', '등의', '▁고분', '자', '물질', '[MASK]', '[MASK]', '[MASK]', '[MASK]', '▁다루어', '진다', '.', '[SEP]', '▁유기', '화학', '은', '▁탄소', '로', '▁이루어진', '▁화합물', '을', '[MASK]', '▁분', '과', '이다', '.', '▁원래', '▁유기', '▁화합물', '은', '▁식물', '이나', '▁동물', '로부터', '▁추출', '해', '낸', '▁화합물', '을', '[MASK]', '[MASK]', '▁지금은', '▁유기', '[SEP]'], 'segment': [0, 0, 0, 0, 0, 0, 0, 0, 0, 0, 0, 0, 0, 0, 0, 0, 0, 0, 0, 0, 0, 0, 0, 0, 0, 0, 0, 0, 0, 0, 0, 0, 0, 1, 1, 1, 1, 1, 1, 1, 1, 1, 1, 1, 1, 1, 1, 1, 1, 1, 1, 1, 1, 1, 1, 1, 1, 1, 1, 1, 1, 1, 1, 1], 'is_next': 1, 'mask_idx': [11, 12, 25, 26, 27, 28, 41, 59, 60], 'mask_label': ['▁있어서', '▁매우', '▁등도', '▁유기', '화학', '에서', '▁연구하는', '▁뜻', '하였으나']}\n",
            "{'tokens': ['[CLS]', '▁X', '선', '▁결정', '학', '▁등이', '[MASK]', '▁모피', '▁화합물', '▁분석', '에', '▁있어서', '▁매우', '▁중요한', '[MASK]', '▁자리잡았다', '.', '▁플라스틱', ',', '▁합성', '섬유', '등의', '▁고분', '자', '물질', '▁등도', '▁유기', '화학', '에서', '▁다루어', '진다', '.', '[SEP]', '▁유기', '화학', '은', '▁탄소', '로', '▁이루어진', '▁화합물', '을', '▁연구하는', '▁분', '과', '이다', '.', '▁원래', '[MASK]', '[MASK]', '[MASK]', '[MASK]', '[MASK]', '▁동물', '로부터', '▁추출', '해', '낸', '▁화합물', '을', '▁뜻', '하였으나', '▁지금은', '[MASK]', '[SEP]'], 'segment': [0, 0, 0, 0, 0, 0, 0, 0, 0, 0, 0, 0, 0, 0, 0, 0, 0, 0, 0, 0, 0, 0, 0, 0, 0, 0, 0, 0, 0, 0, 0, 0, 0, 1, 1, 1, 1, 1, 1, 1, 1, 1, 1, 1, 1, 1, 1, 1, 1, 1, 1, 1, 1, 1, 1, 1, 1, 1, 1, 1, 1, 1, 1, 1], 'is_next': 1, 'mask_idx': [6, 7, 14, 47, 48, 49, 50, 51, 62], 'mask_label': ['▁개발되어', '▁유기', '▁방법으로', '▁유기', '▁화합물', '은', '▁식물', '이나', '▁유기']}\n",
            "\n",
            "doc: 4 instances: 2\n",
            "{'tokens': ['[CLS]', '▁X', '선', '▁결정', '학', '[MASK]', '[MASK]', '▁유기', '[MASK]', '▁분석', '에', '[MASK]', '▁매우', '▁중요한', '▁방법으로', '▁자리잡았다', '.', '▁플라스틱', ',', '▁합성', '섬유', '등의', '▁고분', '자', '물질', '▁등도', '▁유기', '화학', '에서', '▁다루어', '진다', '.', '[SEP]', '[MASK]', '[MASK]', '[MASK]', '▁탄소', '로', '▁이루어진', '▁화합물', '을', '▁연구하는', '▁분', '과', '이다', '.', '▁원래', '▁유기', '▁화합물', '은', '▁식물', '이나', '▁동물', '로부터', '▁추출', '해', '낸', '▁화합물', '을', '[MASK]', '[MASK]', '▁지금은', '▁유기', '[SEP]'], 'segment': [0, 0, 0, 0, 0, 0, 0, 0, 0, 0, 0, 0, 0, 0, 0, 0, 0, 0, 0, 0, 0, 0, 0, 0, 0, 0, 0, 0, 0, 0, 0, 0, 0, 1, 1, 1, 1, 1, 1, 1, 1, 1, 1, 1, 1, 1, 1, 1, 1, 1, 1, 1, 1, 1, 1, 1, 1, 1, 1, 1, 1, 1, 1, 1], 'is_next': 0, 'mask_idx': [5, 6, 8, 11, 33, 34, 35, 59, 60], 'mask_label': ['▁등이', '▁개발되어', '▁화합물', '▁있어서', '▁유기', '화학', '은', '▁뜻', '하였으나']}\n",
            "{'tokens': ['[CLS]', '▁X', '선', '▁결정', '학', '▁등이', '▁개발되어', '▁유기', '▁화합물', '▁분석', '에', '▁있어서', '▁매우', '▁중요한', '▁방법으로', '[MASK]', '[MASK]', '▁플라스틱', ',', '▁합성', '섬유', '등의', '▁고분', '자', '물질', '▁등도', '▁유기', '화학', '에서', '▁다루어', '진다', '.', '[SEP]', '▁유기', '화학', '은', '▁탄소', '로', '▁이루어진', '▁화합물', '을', '▁연구하는', '[MASK]', '[MASK]', '[MASK]', '[MASK]', '▁원래', '[MASK]', '▁화합물', '은', '▁식물', '이나', '▁동물', '로부터', '▁추출', '해', '낸', '▁화합물', '을', '▁뜻', '하였으나', '▁지금은', '[MASK]', '[SEP]'], 'segment': [0, 0, 0, 0, 0, 0, 0, 0, 0, 0, 0, 0, 0, 0, 0, 0, 0, 0, 0, 0, 0, 0, 0, 0, 0, 0, 0, 0, 0, 0, 0, 0, 0, 1, 1, 1, 1, 1, 1, 1, 1, 1, 1, 1, 1, 1, 1, 1, 1, 1, 1, 1, 1, 1, 1, 1, 1, 1, 1, 1, 1, 1, 1, 1], 'is_next': 0, 'mask_idx': [15, 16, 25, 42, 43, 44, 45, 47, 62], 'mask_label': ['▁자리잡았다', '.', '▁등도', '▁분', '과', '이다', '.', '▁유기', '▁유기']}\n",
            "\n",
            "doc: 10 instances: 5\n",
            "{'tokens': ['[CLS]', '▁X', '선', '▁결정', '학', '▁등이', '▁개발되어', '[MASK]', '[MASK]', '▁분석', '에', '▁있어서', '▁매우', '▁중요한', '▁방법으로', '▁자리잡았다', '.', '▁플라스틱', ',', '▁합성', '섬유', '등의', '▁고분', '자', '물질', '▁등도', '▁유기', '화학', '에서', '▁다루어', '진다', '.', '[SEP]', '▁유기', '화학', '은', '▁탄소', '로', '▁이루어진', '▁화합물', '을', '▁연구하는', '▁분', '과', '이다', '.', '▁원래', '▁유기', '▁화합물', '은', '▁식물', '이나', '▁동물', '로부터', '▁추출', '해', '낸', '▁화합물', '을', '[MASK]', '[MASK]', '▁지금은', '▁유기', '[SEP]'], 'segment': [0, 0, 0, 0, 0, 0, 0, 0, 0, 0, 0, 0, 0, 0, 0, 0, 0, 0, 0, 0, 0, 0, 0, 0, 0, 0, 0, 0, 0, 0, 0, 0, 0, 1, 1, 1, 1, 1, 1, 1, 1, 1, 1, 1, 1, 1, 1, 1, 1, 1, 1, 1, 1, 1, 1, 1, 1, 1, 1, 1, 1, 1, 1, 1], 'is_next': 0, 'mask_idx': [7, 8, 39, 40, 52, 53, 59, 60, 62], 'mask_label': ['▁유기', '▁화합물', '▁화합물', '을', '▁동물', '로부터', '▁뜻', '하였으나', '▁유기']}\n",
            "{'tokens': ['[CLS]', '▁X', '선', '▁결정', '학', '▁등이', '▁개발되어', '▁유기', '[MASK]', '[MASK]', '[MASK]', '▁있어서', '▁매우', '▁중요한', '▁방법으로', '▁자리잡았다', '.', '▁플라스틱', ',', '▁합성', '섬유', '등의', '▁고분', '자', '물질', '[MASK]', '▁유기', '화학', '에서', '▁다루어', '진다', '.', '[SEP]', '▁유기', '화학', '은', '▁탄소', '로', '[MASK]', '▁화합물', '을', '▁연구하는', '▁분', '과', '이다', '.', '▁원래', '▁유기', '[MASK]', '[MASK]', '▁식물', '이나', '▁동물', '로부터', '▁추출', '해', '낸', '[MASK]', '[MASK]', '▁뜻', '하였으나', '▁지금은', '▁유기', '[SEP]'], 'segment': [0, 0, 0, 0, 0, 0, 0, 0, 0, 0, 0, 0, 0, 0, 0, 0, 0, 0, 0, 0, 0, 0, 0, 0, 0, 0, 0, 0, 0, 0, 0, 0, 0, 1, 1, 1, 1, 1, 1, 1, 1, 1, 1, 1, 1, 1, 1, 1, 1, 1, 1, 1, 1, 1, 1, 1, 1, 1, 1, 1, 1, 1, 1, 1], 'is_next': 0, 'mask_idx': [8, 9, 10, 25, 38, 48, 49, 57, 58], 'mask_label': ['▁화합물', '▁분석', '에', '▁등도', '▁이루어진', '▁화합물', '은', '▁화합물', '을']}\n",
            "\n",
            "doc: 10 instances: 5\n",
            "{'tokens': ['[CLS]', '▁X', '선', '▁결정', '학', '▁등이', '▁개발되어', '▁유기', '▁화합물', '▁분석', '에', '▁있어서', '▁매우', '[MASK]', '▁방법으로', '▁자리잡았다', '.', '▁플라스틱', ',', '[MASK]', '[MASK]', '[MASK]', '▁고분', '자', '물질', '[MASK]', '▁유기', '화학', '에서', '▁다루어', '진다', '.', '[SEP]', '▁유기', '화학', '은', '▁탄소', '로', '▁이루어진', '▁화합물', '을', '▁연구하는', '▁분', '과', '이다', '.', '▁원래', '▁유기', '▁화합물', '은', '▁식물', '이나', '▁동물', '로부터', '▁추출', '해', '낸', '▁화합물', '을', '▁뜻', '하였으나', '[MASK]', '▁유기', '[SEP]'], 'segment': [0, 0, 0, 0, 0, 0, 0, 0, 0, 0, 0, 0, 0, 0, 0, 0, 0, 0, 0, 0, 0, 0, 0, 0, 0, 0, 0, 0, 0, 0, 0, 0, 0, 1, 1, 1, 1, 1, 1, 1, 1, 1, 1, 1, 1, 1, 1, 1, 1, 1, 1, 1, 1, 1, 1, 1, 1, 1, 1, 1, 1, 1, 1, 1], 'is_next': 0, 'mask_idx': [13, 19, 20, 21, 22, 23, 24, 25, 61], 'mask_label': ['▁중요한', '▁합성', '섬유', '등의', '▁고분', '자', '물질', '▁등도', '▁지금은']}\n",
            "{'tokens': ['[CLS]', '▁X', '선', '▁결정', '학', '▁등이', '▁개발되어', '▁유기', '▁화합물', '▁분석', '에', '▁있어서', '▁매우', '▁중요한', '▁방법으로', '▁자리잡았다', '.', '▁플라스틱', ',', '▁합성', '섬유', '등의', '▁고분', '자', '물질', '▁등도', '▁유기', '화학', '에서', '▁다루어', '진다', '.', '[SEP]', '▁유기', '화학', '은', '▁탄소', '로', '▁이루어진', '▁화합물', '을', '▁연구하는', '▁분', '과', '이다', '.', '[MASK]', '▁유기', '[MASK]', '[MASK]', '▁식물', '이나', '▁동물', '로부터', '▁추출', '해', '낸', '▁화합물', '을', '▁뜻', '하였으나', '▁지금은', '▁유기', '[SEP]'], 'segment': [0, 0, 0, 0, 0, 0, 0, 0, 0, 0, 0, 0, 0, 0, 0, 0, 0, 0, 0, 0, 0, 0, 0, 0, 0, 0, 0, 0, 0, 0, 0, 0, 0, 1, 1, 1, 1, 1, 1, 1, 1, 1, 1, 1, 1, 1, 1, 1, 1, 1, 1, 1, 1, 1, 1, 1, 1, 1, 1, 1, 1, 1, 1, 1], 'is_next': 1, 'mask_idx': [15, 16, 42, 43, 44, 45, 46, 48, 49], 'mask_label': ['▁자리잡았다', '.', '▁분', '과', '이다', '.', '▁원래', '▁화합물', '은']}\n",
            "\n",
            "doc: 31 instances: 15\n",
            "{'tokens': ['[CLS]', '[MASK]', '[MASK]', '▁결정', '학', '▁등이', '▁개발되어', '▁유기', '▁화합물', '▁분석', '에', '▁있어서', '▁매우', '[MASK]', '▁방법으로', '▁자리잡았다', '.', '▁플라스틱', ',', '▁합성', '섬유', '등의', '▁고분', '자', '물질', '▁등도', '[MASK]', '[MASK]', '[MASK]', '▁다루어', '진다', '.', '[SEP]', '▁유기', '화학', '은', '▁탄소', '로', '▁이루어진', '▁화합물', '을', '▁연구하는', '▁분', '과', '이다', '.', '▁원래', '▁유기', '▁화합물', '은', '▁식물', '이나', '[MASK]', '[MASK]', '▁추출', '해', '낸', '▁화합물', '을', '▁뜻', '하였으나', '▁지금은', '▁유기', '[SEP]'], 'segment': [0, 0, 0, 0, 0, 0, 0, 0, 0, 0, 0, 0, 0, 0, 0, 0, 0, 0, 0, 0, 0, 0, 0, 0, 0, 0, 0, 0, 0, 0, 0, 0, 0, 1, 1, 1, 1, 1, 1, 1, 1, 1, 1, 1, 1, 1, 1, 1, 1, 1, 1, 1, 1, 1, 1, 1, 1, 1, 1, 1, 1, 1, 1, 1], 'is_next': 0, 'mask_idx': [1, 2, 11, 13, 26, 27, 28, 52, 53], 'mask_label': ['▁X', '선', '▁있어서', '▁중요한', '▁유기', '화학', '에서', '▁동물', '로부터']}\n",
            "{'tokens': ['[CLS]', '▁X', '선', '[MASK]', '[MASK]', '▁등이', '▁개발되어', '▁유기', '▁화합물', '▁분석', '에', '▁있어서', '[MASK]', '[MASK]', '▁방법으로', '▁자리잡았다', '.', '▁플라스틱', ',', '▁합성', '섬유', '등의', '▁고분', '자', '물질', '▁등도', '▁유기', '화학', '에서', '▁다루어', '진다', '.', '[SEP]', '▁유기', '화학', '은', '[MASK]', '[MASK]', '▁이루어진', '▁화합물', '을', '[MASK]', '▁분', '과', '이다', '.', '▁원래', '▁유기', '▁화합물', '은', '▁식물', '이나', '▁동물', '로부터', '▁추출', '해', '낸', '▁화합물', '을', '▁뜻', '하였으나', '▁지금은', '▁유기', '[SEP]'], 'segment': [0, 0, 0, 0, 0, 0, 0, 0, 0, 0, 0, 0, 0, 0, 0, 0, 0, 0, 0, 0, 0, 0, 0, 0, 0, 0, 0, 0, 0, 0, 0, 0, 0, 1, 1, 1, 1, 1, 1, 1, 1, 1, 1, 1, 1, 1, 1, 1, 1, 1, 1, 1, 1, 1, 1, 1, 1, 1, 1, 1, 1, 1, 1, 1], 'is_next': 0, 'mask_idx': [3, 4, 12, 13, 36, 37, 41, 48, 49], 'mask_label': ['▁결정', '학', '▁매우', '▁중요한', '▁탄소', '로', '▁연구하는', '▁화합물', '은']}\n",
            "\n"
          ],
          "name": "stdout"
        }
      ]
    },
    {
      "cell_type": "markdown",
      "metadata": {
        "id": "rHQyt03yfF1v"
      },
      "source": [
        "🔶 make_pretrain_data() : BERT pretrain 데이터셋 생성 메소드\n",
        "전체 전처리 과정을 거쳐 최종적으로 만들어지는 BERT pretrain 데이터셋 생성 메소드는 다음과 같습니다.\n",
        "\n"
      ]
    },
    {
      "cell_type": "code",
      "metadata": {
        "colab": {
          "base_uri": "https://localhost:8080/"
        },
        "id": "_Hf-gOwxfA79",
        "outputId": "27d7445a-127b-4f85-8edb-419e87bdd595"
      },
      "source": [
        "def make_pretrain_data(vocab, in_file, out_file, n_seq, mask_prob=0.15):\n",
        "    \"\"\" pretrain 데이터 생성 \"\"\"\n",
        "    def save_pretrain_instances(out_f, doc):\n",
        "        instances = create_pretrain_instances(vocab, doc, n_seq, mask_prob, vocab_list)\n",
        "        for instance in instances:\n",
        "            out_f.write(json.dumps(instance, ensure_ascii=False))\n",
        "            out_f.write(\"\\n\")\n",
        "\n",
        "    # 특수문자 7개를 제외한 vocab_list 생성\n",
        "    vocab_list = []\n",
        "    for id in range(7, len(vocab)):\n",
        "        if not vocab.is_unknown(id):\n",
        "            vocab_list.append(vocab.id_to_piece(id))\n",
        "\n",
        "    # line count 확인\n",
        "    line_cnt = 0\n",
        "    with open(in_file, \"r\") as in_f:\n",
        "        for line in in_f:\n",
        "            line_cnt += 1\n",
        "\n",
        "    with open(in_file, \"r\") as in_f:\n",
        "        with open(out_file, \"w\") as out_f:\n",
        "            doc = []\n",
        "            for line in tqdm(in_f, total=line_cnt):\n",
        "                line = line.strip()\n",
        "                if line == \"\":  # line이 빈줄 일 경우 (새로운 단락을 의미 함)\n",
        "                    if 0 < len(doc):\n",
        "                        save_pretrain_instances(out_f, doc)\n",
        "                        doc = []\n",
        "                else:  # line이 빈줄이 아닐 경우 tokenize 해서 doc에 저장\n",
        "                    pieces = vocab.encode_as_pieces(line)\n",
        "                    if 0 < len(pieces):\n",
        "                        doc.append(pieces)\n",
        "            if 0 < len(doc):  # 마지막에 처리되지 않은 doc가 있는 경우\n",
        "                save_pretrain_instances(out_f, doc)\n",
        "                doc = []"
      ],
      "execution_count": null,
      "outputs": [
        {
          "output_type": "stream",
          "text": [
            "\n",
            "\n"
          ],
          "name": "stdout"
        }
      ]
    },
    {
      "cell_type": "markdown",
      "metadata": {
        "id": "Osdpfd31fKH1"
      },
      "source": [
        "이제 약 400만 라인에 해당하는 전체 코퍼스에 대해 make_pretrain_data()를 구동해 봅시다. 10여 분가량 시간이 소요될 수 있습니다.\n",
        "최종적으로 생성된 데이터셋은 json 포맷으로 저장될 것입니다.\n",
        "\n"
      ]
    },
    {
      "cell_type": "code",
      "metadata": {
        "colab": {
          "base_uri": "https://localhost:8080/",
          "height": 66,
          "referenced_widgets": [
            "df0d153d92524553879640e14db497e5",
            "402741864c794c5a8834c5a1325b9abc",
            "781becc47309450f9c975724fa04c321",
            "22b4aa974f404af58f6d94c88fa661a5",
            "45393dec4f9b4885891a55f106db25a1",
            "3c24a649c795409ba3dc961e25f2d1e3",
            "ab9c177eb2b845db8fdb1b9f7c53c2a7",
            "e4f277eab5dd4f02b1beeea24feb5752"
          ]
        },
        "id": "Q-7K9ufkfIAk",
        "outputId": "c5256c4b-d363-4867-83d2-f58aa3368a9c"
      },
      "source": [
        "pretrain_json_path = base_path+'data/bert_pre_train.json'\n",
        "\n",
        "make_pretrain_data(vocab, corpus_file, pretrain_json_path, 128)"
      ],
      "execution_count": null,
      "outputs": [
        {
          "output_type": "display_data",
          "data": {
            "application/vnd.jupyter.widget-view+json": {
              "model_id": "df0d153d92524553879640e14db497e5",
              "version_minor": 0,
              "version_major": 2
            },
            "text/plain": [
              "HBox(children=(FloatProgress(value=0.0, max=3957761.0), HTML(value='')))"
            ]
          },
          "metadata": {
            "tags": []
          }
        },
        {
          "output_type": "stream",
          "text": [
            "\n"
          ],
          "name": "stdout"
        }
      ]
    },
    {
      "cell_type": "code",
      "metadata": {
        "colab": {
          "base_uri": "https://localhost:8080/"
        },
        "id": "_4RibWBKfQTw",
        "outputId": "7eb73559-1e74-4465-a5cf-2c8eaffcec6e"
      },
      "source": [
        "# 라인수\n",
        "total = 0\n",
        "with open(pretrain_json_path, \"r\") as f:\n",
        "    for line in f:\n",
        "        total += 1\n",
        "total"
      ],
      "execution_count": null,
      "outputs": [
        {
          "output_type": "execute_result",
          "data": {
            "text/plain": [
              "865547"
            ]
          },
          "metadata": {
            "tags": []
          },
          "execution_count": 29
        }
      ]
    },
    {
      "cell_type": "markdown",
      "metadata": {
        "id": "_x8OmjPIfWHw"
      },
      "source": [
        "데이터셋 파일을 만드는 것까지 수행되었습니다.\n",
        "\n",
        "하지만 여기서 고려해야 할 점이 있습니다. 우리가 다루어야 할 데이터셋은 사이즈가 큽니다. 만들어질 json 데이터파일의 크기가 1.4GB 정도 됩니다. 실제 BERT 학습용dml 백 분의 일 사이즈 정도밖에 안 되겠지만 그럼에도 불구하고 이렇게 큰 파일을 로딩하는 함수를 만들 때는 메모리 사용량과 관련해 고려해야 할 점이 있습니다.\n",
        "\n",
        "그래서 우리는 np.memmap을 사용해서 메모리 사용량을 최소화하는 방법을 시도해 볼 것입니다."
      ]
    },
    {
      "cell_type": "code",
      "metadata": {
        "colab": {
          "base_uri": "https://localhost:8080/"
        },
        "id": "AtmLgUAyfUHw",
        "outputId": "bff7d6d2-c2fd-47c4-b802-c71e2bc0ce86"
      },
      "source": [
        "n_seq = 128\n",
        "# [CLS], tokens_a, [SEP], tokens_b, [SEP]\n",
        "max_seq = n_seq - 3\n",
        "\n",
        "# 만약 일반적인 Numpy Array에다 데이터를 로딩한다면 이렇게 되겠지만\n",
        "# enc_tokens = np.zeros((total, n_seq), np.int32)\n",
        "# dec_tokens = np.zeros((total, n_seq), np.int32)\n",
        "# labels_nsp = np.zeros((total,), np.int32)\n",
        "# labels_mlm = np.zeros((total, n_seq), np.int32)\n",
        "\n",
        "# np.memmap을 사용하면 메모리를 적은 메모리에서도 대용량 데이터 처리가 가능 함\n",
        "enc_tokens = np.memmap(filename='enc_tokens.memmap', mode='w+', dtype=np.int32, shape=(total, n_seq))\n",
        "segments = np.memmap(filename='segments.memmap', mode='w+', dtype=np.int32, shape=(total, n_seq))\n",
        "labels_nsp = np.memmap(filename='labels_nsp.memmap', mode='w+', dtype=np.int32, shape=(total,))\n",
        "labels_mlm = np.memmap(filename='labels_mlm.memmap', mode='w+', dtype=np.int32, shape=(total, n_seq))\n",
        "\n",
        "\n",
        "enc_tokens[0], enc_tokens[-1], segments[0], segments[-1], labels_nsp[0], labels_nsp[-1], labels_mlm[0], labels_mlm[-1]"
      ],
      "execution_count": null,
      "outputs": [
        {
          "output_type": "execute_result",
          "data": {
            "text/plain": [
              "(memmap([0, 0, 0, 0, 0, 0, 0, 0, 0, 0, 0, 0, 0, 0, 0, 0, 0, 0, 0, 0, 0, 0,\n",
              "         0, 0, 0, 0, 0, 0, 0, 0, 0, 0, 0, 0, 0, 0, 0, 0, 0, 0, 0, 0, 0, 0,\n",
              "         0, 0, 0, 0, 0, 0, 0, 0, 0, 0, 0, 0, 0, 0, 0, 0, 0, 0, 0, 0, 0, 0,\n",
              "         0, 0, 0, 0, 0, 0, 0, 0, 0, 0, 0, 0, 0, 0, 0, 0, 0, 0, 0, 0, 0, 0,\n",
              "         0, 0, 0, 0, 0, 0, 0, 0, 0, 0, 0, 0, 0, 0, 0, 0, 0, 0, 0, 0, 0, 0,\n",
              "         0, 0, 0, 0, 0, 0, 0, 0, 0, 0, 0, 0, 0, 0, 0, 0, 0, 0], dtype=int32),\n",
              " memmap([0, 0, 0, 0, 0, 0, 0, 0, 0, 0, 0, 0, 0, 0, 0, 0, 0, 0, 0, 0, 0, 0,\n",
              "         0, 0, 0, 0, 0, 0, 0, 0, 0, 0, 0, 0, 0, 0, 0, 0, 0, 0, 0, 0, 0, 0,\n",
              "         0, 0, 0, 0, 0, 0, 0, 0, 0, 0, 0, 0, 0, 0, 0, 0, 0, 0, 0, 0, 0, 0,\n",
              "         0, 0, 0, 0, 0, 0, 0, 0, 0, 0, 0, 0, 0, 0, 0, 0, 0, 0, 0, 0, 0, 0,\n",
              "         0, 0, 0, 0, 0, 0, 0, 0, 0, 0, 0, 0, 0, 0, 0, 0, 0, 0, 0, 0, 0, 0,\n",
              "         0, 0, 0, 0, 0, 0, 0, 0, 0, 0, 0, 0, 0, 0, 0, 0, 0, 0], dtype=int32),\n",
              " memmap([0, 0, 0, 0, 0, 0, 0, 0, 0, 0, 0, 0, 0, 0, 0, 0, 0, 0, 0, 0, 0, 0,\n",
              "         0, 0, 0, 0, 0, 0, 0, 0, 0, 0, 0, 0, 0, 0, 0, 0, 0, 0, 0, 0, 0, 0,\n",
              "         0, 0, 0, 0, 0, 0, 0, 0, 0, 0, 0, 0, 0, 0, 0, 0, 0, 0, 0, 0, 0, 0,\n",
              "         0, 0, 0, 0, 0, 0, 0, 0, 0, 0, 0, 0, 0, 0, 0, 0, 0, 0, 0, 0, 0, 0,\n",
              "         0, 0, 0, 0, 0, 0, 0, 0, 0, 0, 0, 0, 0, 0, 0, 0, 0, 0, 0, 0, 0, 0,\n",
              "         0, 0, 0, 0, 0, 0, 0, 0, 0, 0, 0, 0, 0, 0, 0, 0, 0, 0], dtype=int32),\n",
              " memmap([0, 0, 0, 0, 0, 0, 0, 0, 0, 0, 0, 0, 0, 0, 0, 0, 0, 0, 0, 0, 0, 0,\n",
              "         0, 0, 0, 0, 0, 0, 0, 0, 0, 0, 0, 0, 0, 0, 0, 0, 0, 0, 0, 0, 0, 0,\n",
              "         0, 0, 0, 0, 0, 0, 0, 0, 0, 0, 0, 0, 0, 0, 0, 0, 0, 0, 0, 0, 0, 0,\n",
              "         0, 0, 0, 0, 0, 0, 0, 0, 0, 0, 0, 0, 0, 0, 0, 0, 0, 0, 0, 0, 0, 0,\n",
              "         0, 0, 0, 0, 0, 0, 0, 0, 0, 0, 0, 0, 0, 0, 0, 0, 0, 0, 0, 0, 0, 0,\n",
              "         0, 0, 0, 0, 0, 0, 0, 0, 0, 0, 0, 0, 0, 0, 0, 0, 0, 0], dtype=int32),\n",
              " 0,\n",
              " 0,\n",
              " memmap([0, 0, 0, 0, 0, 0, 0, 0, 0, 0, 0, 0, 0, 0, 0, 0, 0, 0, 0, 0, 0, 0,\n",
              "         0, 0, 0, 0, 0, 0, 0, 0, 0, 0, 0, 0, 0, 0, 0, 0, 0, 0, 0, 0, 0, 0,\n",
              "         0, 0, 0, 0, 0, 0, 0, 0, 0, 0, 0, 0, 0, 0, 0, 0, 0, 0, 0, 0, 0, 0,\n",
              "         0, 0, 0, 0, 0, 0, 0, 0, 0, 0, 0, 0, 0, 0, 0, 0, 0, 0, 0, 0, 0, 0,\n",
              "         0, 0, 0, 0, 0, 0, 0, 0, 0, 0, 0, 0, 0, 0, 0, 0, 0, 0, 0, 0, 0, 0,\n",
              "         0, 0, 0, 0, 0, 0, 0, 0, 0, 0, 0, 0, 0, 0, 0, 0, 0, 0], dtype=int32),\n",
              " memmap([0, 0, 0, 0, 0, 0, 0, 0, 0, 0, 0, 0, 0, 0, 0, 0, 0, 0, 0, 0, 0, 0,\n",
              "         0, 0, 0, 0, 0, 0, 0, 0, 0, 0, 0, 0, 0, 0, 0, 0, 0, 0, 0, 0, 0, 0,\n",
              "         0, 0, 0, 0, 0, 0, 0, 0, 0, 0, 0, 0, 0, 0, 0, 0, 0, 0, 0, 0, 0, 0,\n",
              "         0, 0, 0, 0, 0, 0, 0, 0, 0, 0, 0, 0, 0, 0, 0, 0, 0, 0, 0, 0, 0, 0,\n",
              "         0, 0, 0, 0, 0, 0, 0, 0, 0, 0, 0, 0, 0, 0, 0, 0, 0, 0, 0, 0, 0, 0,\n",
              "         0, 0, 0, 0, 0, 0, 0, 0, 0, 0, 0, 0, 0, 0, 0, 0, 0, 0], dtype=int32))"
            ]
          },
          "metadata": {
            "tags": []
          },
          "execution_count": 30
        }
      ]
    },
    {
      "cell_type": "markdown",
      "metadata": {
        "id": "Qi1kowfxfZoF"
      },
      "source": [
        "만들어진 json 파일을 라인 단위로 읽어 들여 np.memmap에 로딩해 봅시다."
      ]
    },
    {
      "cell_type": "code",
      "metadata": {
        "colab": {
          "base_uri": "https://localhost:8080/",
          "height": 1000,
          "referenced_widgets": [
            "f23325bdbbff4879a3fc8ff831f40110",
            "6fce1f02ca9f4bf2930030145184d44b",
            "2d5d1c03e68648299216d76dce3c81b8",
            "e9feadbf66fd45fab435546b941d878b",
            "c9e7717b06c24480a1e7f3f5efa74716",
            "7d3c8230f2f44e20acf4f8195e82d00c",
            "1a20eb52a59a4e77be5391bf325bd28f",
            "1ae5021fb5274ca98c4dad8f6cc17ce7"
          ]
        },
        "id": "iDkkrUkbfXxN",
        "outputId": "62c4f305-0540-4179-be18-5f9e36571e6c"
      },
      "source": [
        "# 라인 단위로 처리\n",
        "with open(pretrain_json_path, \"r\") as f:\n",
        "    for i, line in enumerate(tqdm(f, total=total)):\n",
        "        if 5 < i:  # 테스트를 위해서 5개만 확인\n",
        "            break\n",
        "        data = json.loads(line)\n",
        "        # encoder token\n",
        "        enc_token = [vocab.piece_to_id(p) for p in data[\"tokens\"]]\n",
        "        enc_token += [0] * (n_seq - len(enc_token))\n",
        "        # segment\n",
        "        segment = data[\"segment\"]\n",
        "        segment += [0] * (n_seq - len(segment))\n",
        "        # nsp label\n",
        "        label_nsp = data[\"is_next\"]\n",
        "        # mlm label\n",
        "        mask_idx = np.array(data[\"mask_idx\"], dtype=np.int)\n",
        "        mask_label = np.array([vocab.piece_to_id(p) for p in data[\"mask_label\"]], dtype=np.int)\n",
        "        label_mlm = np.full(n_seq, dtype=np.int, fill_value=0)\n",
        "        label_mlm[mask_idx] = mask_label\n",
        "\n",
        "        print(data)\n",
        "        print(\"enc_token:\", enc_token)\n",
        "        print(\"segment:\", segment)\n",
        "        print(\"label_nsp:\", label_nsp)\n",
        "        print(\"label_mlm:\", label_mlm)\n",
        "        print()\n",
        "\n",
        "        assert len(enc_token) == len(segment) == len(label_mlm) == n_seq\n",
        "\n",
        "        enc_tokens[i] = enc_token\n",
        "        segments[i] = segment\n",
        "        labels_nsp[i] = label_nsp\n",
        "        labels_mlm[i] = label_mlm"
      ],
      "execution_count": null,
      "outputs": [
        {
          "output_type": "display_data",
          "data": {
            "application/vnd.jupyter.widget-view+json": {
              "model_id": "f23325bdbbff4879a3fc8ff831f40110",
              "version_minor": 0,
              "version_major": 2
            },
            "text/plain": [
              "HBox(children=(FloatProgress(value=0.0, max=865547.0), HTML(value='')))"
            ]
          },
          "metadata": {
            "tags": []
          }
        },
        {
          "output_type": "stream",
          "text": [
            "{'tokens': ['[CLS]', '▁마을에서', '▁태어났다', '.', '▁조지아', '▁공과대학교', '를', '▁졸업하였다', '.', '[MASK]', '▁후', '▁해군', '에', '▁들어가', '▁전함', '·', '원자력', '·', '잠수함', '의', '[MASK]', '[MASK]', '▁일', '하였다', '.', '[MASK]', '[MASK]', '▁미국', '▁해군', '▁대위', '로', '▁예편', '하였고', '▁이후', '▁땅콩', '·', '면', '화', '▁등을', '▁가', '꿔', '▁많은', '▁돈을', '▁벌', '었다', '.', '▁그의', '▁별명이', '▁\"', '땅', '콩', '▁농부', '\"', '▁(', 'P', 'ean', 'ut', '▁F', 'ar', 'mer', ')', '로', '▁알려졌다', '.', '[SEP]', '▁1962', '년', '▁조지아', '▁주', '[MASK]', '▁의원', '▁선거에서', '▁낙선', '하나', '▁그', '▁선거', '가', '▁부정선거', '▁', '였', '음을', '▁입증', '하게', '▁되어', '▁당선', '되고', ',', '▁1966', '년', '▁조지아', '▁주', '▁지사', '▁선거에', '[MASK]', '[MASK]', '▁1970', '년', '▁조지아', '[MASK]', '[MASK]', '[MASK]', '▁역임했다', '.', '▁기회를', '▁되기', '▁전', '▁조지아주', '[MASK]', '[MASK]', '▁두', '번', '▁연임', '했으며', ',', '▁1971', '년부터', '▁1975', '년까지', '▁조지아', '[MASK]', '[MASK]', '▁근무했다', '.', '▁조지아', '[MASK]', '[MASK]', '▁지내면서', '[SEP]'], 'segment': [0, 0, 0, 0, 0, 0, 0, 0, 0, 0, 0, 0, 0, 0, 0, 0, 0, 0, 0, 0, 0, 0, 0, 0, 0, 0, 0, 0, 0, 0, 0, 0, 0, 0, 0, 0, 0, 0, 0, 0, 0, 0, 0, 0, 0, 0, 0, 0, 0, 0, 0, 0, 0, 0, 0, 0, 0, 0, 0, 0, 0, 0, 0, 0, 0, 1, 1, 1, 1, 1, 1, 1, 1, 1, 1, 1, 1, 1, 1, 1, 1, 1, 1, 1, 1, 1, 1, 1, 1, 1, 1, 1, 1, 1, 1, 1, 1, 1, 1, 1, 1, 1, 1, 1, 1, 1, 1, 1, 1, 1, 1, 1, 1, 1, 1, 1, 1, 1, 1, 1, 1, 1, 1, 1, 1, 1, 1, 1], 'is_next': 1, 'mask_idx': [9, 20, 21, 25, 26, 69, 93, 94, 98, 99, 100, 103, 107, 108, 119, 120, 124, 125], 'mask_label': ['▁그', '▁승무원', '으로', '▁1953', '년', '▁상원', '▁낙선', '하지만', '▁주', '▁지사', '를', '▁대통령이', '▁상원의원', '을', '▁지사', '로', '▁주지사', '로']}\n",
            "enc_token: [5, 13524, 977, 7, 5222, 19128, 20, 7491, 7, 6, 79, 1440, 13, 2064, 8899, 77, 27778, 77, 30053, 9, 6, 6, 294, 54, 7, 6, 6, 154, 1440, 10825, 21, 21466, 275, 83, 27722, 77, 124, 122, 327, 249, 30837, 189, 4808, 1505, 750, 7, 136, 15724, 45, 11796, 5832, 21161, 44, 55, 648, 24387, 3346, 540, 1642, 8036, 12, 21, 3632, 7, 4, 2731, 15, 5222, 128, 6, 1919, 3801, 13861, 2539, 38, 1058, 19, 29909, 11, 8978, 3471, 7236, 104, 371, 4301, 265, 8, 3029, 15, 5222, 128, 9807, 7929, 6, 6, 1236, 15, 5222, 6, 6, 6, 3241, 7, 4427, 4138, 102, 26701, 6, 6, 98, 391, 25405, 437, 8, 2448, 298, 2461, 405, 5222, 6, 6, 12808, 7, 5222, 6, 6, 27055, 4]\n",
            "segment: [0, 0, 0, 0, 0, 0, 0, 0, 0, 0, 0, 0, 0, 0, 0, 0, 0, 0, 0, 0, 0, 0, 0, 0, 0, 0, 0, 0, 0, 0, 0, 0, 0, 0, 0, 0, 0, 0, 0, 0, 0, 0, 0, 0, 0, 0, 0, 0, 0, 0, 0, 0, 0, 0, 0, 0, 0, 0, 0, 0, 0, 0, 0, 0, 0, 1, 1, 1, 1, 1, 1, 1, 1, 1, 1, 1, 1, 1, 1, 1, 1, 1, 1, 1, 1, 1, 1, 1, 1, 1, 1, 1, 1, 1, 1, 1, 1, 1, 1, 1, 1, 1, 1, 1, 1, 1, 1, 1, 1, 1, 1, 1, 1, 1, 1, 1, 1, 1, 1, 1, 1, 1, 1, 1, 1, 1, 1, 1]\n",
            "label_nsp: 1\n",
            "label_mlm: [    0     0     0     0     0     0     0     0     0    38     0     0\n",
            "     0     0     0     0     0     0     0     0  9348    27     0     0\n",
            "     0  3777    15     0     0     0     0     0     0     0     0     0\n",
            "     0     0     0     0     0     0     0     0     0     0     0     0\n",
            "     0     0     0     0     0     0     0     0     0     0     0     0\n",
            "     0     0     0     0     0     0     0     0     0  6352     0     0\n",
            "     0     0     0     0     0     0     0     0     0     0     0     0\n",
            "     0     0     0     0     0     0     0     0     0 13861  1066     0\n",
            "     0     0   128  9807    20     0     0  3932     0     0     0 12042\n",
            "    16     0     0     0     0     0     0     0     0     0     0  9807\n",
            "    21     0     0     0  8711    21     0     0]\n",
            "\n",
            "{'tokens': ['[CLS]', '▁대통령', '▁선거에', '▁민주당', '▁후보로', '▁출마하여', '▁도덕', '주의', '▁정책으로', '▁내세워', ',', '▁포드', '를', '[MASK]', '▁당선되었다', '.', '▁카터', '▁대통령은', '▁에너지', '▁개발을', '▁촉구', '했으나', '▁공화당', '의', '[MASK]', '▁무산되었다', '.', '▁카터', '는', '▁이집트', '와', '▁이스라엘', '을', '▁조정', '하여', ',', '▁캠프', '▁데이비드', '에서', '▁안', '와', '르', '▁사다', '트', '[MASK]', '▁메', '나', '헴', '[MASK]', '[MASK]', '▁수상', '과', '▁함께', '▁중동', '▁평화를', '▁위한', '오스트리아', '요시', '▁타원형', '▁원주시', '▁협정을', '[MASK]', '[MASK]', '▁그러나', '▁이것은', '▁공화당', '과', '▁미국의', '▁유대인', '▁단체의', '[MASK]', '[MASK]', '▁일으켰다', '.', '▁1979', '년', '▁백악관', '에서', '▁양국', '▁간의', '▁평화', '조약', '으로', '▁이끌어', '졌다', '.', '[MASK]', '▁소련과', '▁제', '2', '차', '▁전략', '▁무기', '▁제한', '▁협상', '에', '▁조인', '했다', '.', '[SEP]', '▁카터', '는', '▁1970', '년대', '▁후반', '▁당시', '[MASK]', '[MASK]', '▁인권', '▁후진', '국의', '[MASK]', '▁인권', '을', '▁지키기', '▁위해', '▁노력', '했으며', ',', '▁취임', '▁이후', '[MASK]', '▁도덕', '정치', '를', '▁내세웠다', '.', '[SEP]'], 'segment': [0, 0, 0, 0, 0, 0, 0, 0, 0, 0, 0, 0, 0, 0, 0, 0, 0, 0, 0, 0, 0, 0, 0, 0, 0, 0, 0, 0, 0, 0, 0, 0, 0, 0, 0, 0, 0, 0, 0, 0, 0, 0, 0, 0, 0, 0, 0, 0, 0, 0, 0, 0, 0, 0, 0, 0, 0, 0, 0, 0, 0, 0, 0, 0, 0, 0, 0, 0, 0, 0, 0, 0, 0, 0, 0, 0, 0, 0, 0, 0, 0, 0, 0, 0, 0, 0, 0, 0, 0, 0, 0, 0, 0, 0, 0, 0, 0, 0, 0, 0, 1, 1, 1, 1, 1, 1, 1, 1, 1, 1, 1, 1, 1, 1, 1, 1, 1, 1, 1, 1, 1, 1, 1, 1, 1, 1, 1, 1], 'is_next': 1, 'mask_idx': [13, 24, 44, 48, 49, 56, 57, 58, 59, 61, 62, 70, 71, 86, 106, 107, 111, 121], 'mask_label': ['▁누르고', '▁반대로', '▁대통령과', '▁베', '긴', '▁캠프', '데이', '비', '드', '▁체결했다', '.', '▁반발', '을', '▁또한', '▁대한민국', '▁등', '▁국민들의', '▁계속해서']}\n",
            "enc_token: [5, 772, 7929, 2438, 3969, 20464, 8974, 585, 21726, 19481, 8, 9856, 20, 6, 7493, 7, 15322, 5248, 1668, 8046, 11485, 805, 7128, 9, 6, 18240, 7, 15322, 10, 2363, 26, 2432, 16, 1797, 51, 8, 7569, 3955, 22, 297, 26, 339, 9544, 175, 6, 1019, 57, 27901, 6, 6, 1395, 24, 112, 6079, 14647, 271, 29672, 3928, 13368, 21650, 16514, 6, 6, 134, 900, 7128, 24, 377, 4340, 17642, 6, 6, 5065, 7, 2090, 15, 22226, 22, 6017, 2049, 1874, 7625, 27, 8017, 1248, 7, 6, 19316, 42, 109, 116, 3296, 2260, 1826, 4511, 13, 12214, 53, 7, 4, 15322, 10, 1236, 532, 2026, 176, 6, 6, 3766, 14530, 3514, 6, 3766, 16, 14165, 115, 2217, 437, 8, 3280, 83, 6, 8974, 3134, 20, 27431, 7, 4]\n",
            "segment: [0, 0, 0, 0, 0, 0, 0, 0, 0, 0, 0, 0, 0, 0, 0, 0, 0, 0, 0, 0, 0, 0, 0, 0, 0, 0, 0, 0, 0, 0, 0, 0, 0, 0, 0, 0, 0, 0, 0, 0, 0, 0, 0, 0, 0, 0, 0, 0, 0, 0, 0, 0, 0, 0, 0, 0, 0, 0, 0, 0, 0, 0, 0, 0, 0, 0, 0, 0, 0, 0, 0, 0, 0, 0, 0, 0, 0, 0, 0, 0, 0, 0, 0, 0, 0, 0, 0, 0, 0, 0, 0, 0, 0, 0, 0, 0, 0, 0, 0, 0, 1, 1, 1, 1, 1, 1, 1, 1, 1, 1, 1, 1, 1, 1, 1, 1, 1, 1, 1, 1, 1, 1, 1, 1, 1, 1, 1, 1]\n",
            "label_nsp: 1\n",
            "label_mlm: [    0     0     0     0     0     0     0     0     0     0     0     0\n",
            "     0  9553     0     0     0     0     0     0     0     0     0     0\n",
            "  3908     0     0     0     0     0     0     0     0     0     0     0\n",
            "     0     0     0     0     0     0     0     0 13384     0     0     0\n",
            "   780  1993     0     0     0     0     0     0  7569  5132   151   204\n",
            "     0 18914     7     0     0     0     0     0     0     0  3634    16\n",
            "     0     0     0     0     0     0     0     0     0     0     0     0\n",
            "     0     0   110     0     0     0     0     0     0     0     0     0\n",
            "     0     0     0     0     0     0     0     0     0     0   244    84\n",
            "     0     0     0 18967     0     0     0     0     0     0     0     0\n",
            "     0  5457     0     0     0     0     0     0]\n",
            "\n",
            "{'tokens': ['[CLS]', '▁한미', '연합', '사를', '▁창설', '하면서', ',', '▁1982', '년까지', '▁3', '단계', '에', '▁걸쳐', '▁주한미군', '을', '▁철수', '하기로', '▁했다', '.', '▁그러나', '▁주한미군', '사령부', '와', '▁정보', '기관', '·', '의', '회의', '▁반대', '에', '▁부딪혀', '▁주한미군', '은', '▁완전', '철', '수', '▁대신', '▁6,000', '명을', '▁감축', '하는', '▁데', '▁그쳤다', '.', '▁매력적인', '[MASK]', '▁정권', '의', '▁인권', '▁문제', '▁등과', '의', '▁논란', '으로', '[MASK]', '[MASK]', '[MASK]', '[MASK]', '▁', '냈으나', ',', '▁1979', '년', '▁6', '월', '▁하순', ',', '▁대한민국', '을', '▁방문하여', '▁관계가', '▁다소', '▁회복', '되었다', '.', '[SEP]', '▁그러나', '▁주', '▁이란', '▁미국', '▁대사관', '▁인질', '[MASK]', '[MASK]', '보존', '▁구출', '▁실패', '를', '▁이유로', '▁1980', '년', '▁대통령', '▁선거에서', '▁공화당', '의', '▁로널드', '▁레이건', '▁후보', '에게', '[MASK]', '[MASK]', '▁결국', '▁재선', '에', '▁실패했다', '.', '[MASK]', '[MASK]', '▁말기에', '▁터', '진', '▁소련의', '▁아프가니스탄', '▁침공', '▁사건으로', '▁인해', '▁1980', '년', '▁하계', '▁후궁', '▁반공', '국가', '들의', '▁보이콧', '을', '▁내세웠다', '.', '[SEP]'], 'segment': [0, 0, 0, 0, 0, 0, 0, 0, 0, 0, 0, 0, 0, 0, 0, 0, 0, 0, 0, 0, 0, 0, 0, 0, 0, 0, 0, 0, 0, 0, 0, 0, 0, 0, 0, 0, 0, 0, 0, 0, 0, 0, 0, 0, 0, 0, 0, 0, 0, 0, 0, 0, 0, 0, 0, 0, 0, 0, 0, 0, 0, 0, 0, 0, 0, 0, 0, 0, 0, 0, 0, 0, 0, 0, 0, 0, 1, 1, 1, 1, 1, 1, 1, 1, 1, 1, 1, 1, 1, 1, 1, 1, 1, 1, 1, 1, 1, 1, 1, 1, 1, 1, 1, 1, 1, 1, 1, 1, 1, 1, 1, 1, 1, 1, 1, 1, 1, 1, 1, 1, 1, 1, 1, 1, 1, 1, 1, 1], 'is_next': 0, 'mask_idx': [44, 45, 48, 52, 53, 54, 55, 56, 57, 82, 83, 84, 91, 99, 100, 106, 107, 119], 'mask_label': ['▁또한', '▁박정희', '▁인권', '▁논란', '으로', '▁불', '협', '화', '음을', '▁사건', '에서', '▁인질', '▁대통령', '▁', '져', '▁또한', '▁임기', '▁올림픽에']}\n",
            "enc_token: [5, 11938, 3056, 1492, 3627, 246, 8, 1890, 405, 39, 4086, 13, 1098, 24876, 16, 3381, 1755, 161, 7, 134, 24876, 4875, 26, 1097, 1854, 77, 9, 1447, 1107, 13, 28985, 24876, 18, 4130, 743, 107, 840, 23788, 1035, 23790, 41, 247, 10801, 7, 28878, 6, 2812, 9, 3766, 1288, 1314, 9, 5333, 27, 6, 6, 6, 6, 11, 18514, 8, 2090, 15, 64, 23, 26265, 8, 244, 16, 14853, 4016, 4356, 2470, 95, 7, 4, 134, 128, 2631, 154, 7350, 21422, 6, 6, 18516, 10865, 2338, 20, 1123, 1003, 15, 772, 3801, 7128, 9, 26126, 24332, 1659, 78, 6, 6, 502, 11562, 13, 8170, 7, 6, 6, 9298, 2019, 132, 4718, 6623, 2295, 5194, 445, 1003, 15, 1402, 10601, 20931, 2495, 332, 29284, 16, 27431, 7, 4]\n",
            "segment: [0, 0, 0, 0, 0, 0, 0, 0, 0, 0, 0, 0, 0, 0, 0, 0, 0, 0, 0, 0, 0, 0, 0, 0, 0, 0, 0, 0, 0, 0, 0, 0, 0, 0, 0, 0, 0, 0, 0, 0, 0, 0, 0, 0, 0, 0, 0, 0, 0, 0, 0, 0, 0, 0, 0, 0, 0, 0, 0, 0, 0, 0, 0, 0, 0, 0, 0, 0, 0, 0, 0, 0, 0, 0, 0, 0, 1, 1, 1, 1, 1, 1, 1, 1, 1, 1, 1, 1, 1, 1, 1, 1, 1, 1, 1, 1, 1, 1, 1, 1, 1, 1, 1, 1, 1, 1, 1, 1, 1, 1, 1, 1, 1, 1, 1, 1, 1, 1, 1, 1, 1, 1, 1, 1, 1, 1, 1, 1]\n",
            "label_nsp: 0\n",
            "label_mlm: [    0     0     0     0     0     0     0     0     0     0     0     0\n",
            "     0     0     0     0     0     0     0     0     0     0     0     0\n",
            "     0     0     0     0     0     0     0     0     0     0     0     0\n",
            "     0     0     0     0     0     0     0     0   110  4169     0     0\n",
            "  3766     0     0     0  5333    27   497  2402   122  3471     0     0\n",
            "     0     0     0     0     0     0     0     0     0     0     0     0\n",
            "     0     0     0     0     0     0     0     0     0     0  1065    22\n",
            " 21422     0     0     0     0     0     0   772     0     0     0     0\n",
            "     0     0     0    11   992     0     0     0     0     0   110  4725\n",
            "     0     0     0     0     0     0     0     0     0     0     0  4760\n",
            "     0     0     0     0     0     0     0     0]\n",
            "\n",
            "{'tokens': ['[CLS]', '▁대통령이', '▁김재', '규', '▁중앙정보부', '장에', '[MASK]', '▁살해', '된', '▁것에', '▁대해', '▁그는', '▁이', '▁만찬', '▁큰', '▁충격을', '▁받았으며', ',', '▁사이', '러스', '▁밴', '스', '▁국무장관', '을', '▁조문', '사', '절', '로', '▁파견했다', '.', '▁12', '·', '12', '▁군사', '▁반란', '과', '▁5', '.', '17', '▁쿠데타', '에', '▁대해', '▁초기에는', '[MASK]', '▁비난', '했으나', ',', '▁미국', '[MASK]', '[MASK]', '[MASK]', '▁설득', '하는데', ',', '[MASK]', '▁있었고', 'u', '▁묵', '인', '하는', '[MASK]', '▁태도를', '▁보이게', '▁됐다', '.', '[SEP]', '▁퇴임', '▁이후', '▁민간', '▁자원을', '[MASK]', '[MASK]', '▁비영리', '▁기구', '인', '▁카터', '▁멧돼지', '▁비중을', '▁설립한', '▁뒤', '▁민주주의', '▁실현', '을', '[MASK]', '▁제', '▁3', '세계', '의', '▁선거', '▁감시', '▁활동', '▁및', '▁기니', '▁', '벌레', '에', '▁의한', '▁드라', '쿤', '쿠르', '스', '▁질병', '[MASK]', '[MASK]', '▁위해', '▁힘썼다', '.', '▁미국의', '▁빈곤', '층', '▁지원', '▁활동', ',', '▁사랑의', '▁집', '짓', '기', '▁운동', ',', '▁국제', '▁분쟁', '▁입사', '▁등의', '▁활동', '도', '▁했다', '.', '[SEP]'], 'segment': [0, 0, 0, 0, 0, 0, 0, 0, 0, 0, 0, 0, 0, 0, 0, 0, 0, 0, 0, 0, 0, 0, 0, 0, 0, 0, 0, 0, 0, 0, 0, 0, 0, 0, 0, 0, 0, 0, 0, 0, 0, 0, 0, 0, 0, 0, 0, 0, 0, 0, 0, 0, 0, 0, 0, 0, 0, 0, 0, 0, 0, 0, 0, 0, 0, 0, 1, 1, 1, 1, 1, 1, 1, 1, 1, 1, 1, 1, 1, 1, 1, 1, 1, 1, 1, 1, 1, 1, 1, 1, 1, 1, 1, 1, 1, 1, 1, 1, 1, 1, 1, 1, 1, 1, 1, 1, 1, 1, 1, 1, 1, 1, 1, 1, 1, 1, 1, 1, 1, 1, 1, 1, 1, 1, 1, 1, 1, 1], 'is_next': 1, 'mask_idx': [6, 13, 43, 48, 49, 50, 54, 56, 60, 70, 71, 76, 77, 83, 102, 103, 119, 121], 'mask_label': ['▁의해', '▁사건으로', '▁강하게', '▁정부가', '▁신군부', '를', '▁한계가', '▁결국', '▁듯한', '▁적극', '▁활용한', '▁재단', '을', '▁위해', '▁방', '재를', '▁국제', '▁중재']}\n",
            "enc_token: [5, 3932, 9114, 1011, 21972, 4965, 6, 3897, 86, 1312, 326, 82, 30, 27387, 226, 10323, 4472, 8, 1188, 5762, 8675, 88, 27941, 16, 22676, 65, 721, 21, 25088, 7, 89, 77, 1291, 762, 2067, 24, 52, 7, 1498, 5073, 13, 326, 5899, 6, 2873, 805, 8, 154, 6, 6, 6, 5110, 975, 8, 6, 1720, 1368, 5284, 31, 41, 6, 10653, 18087, 2689, 7, 4, 12510, 83, 3501, 17843, 6, 6, 15176, 2896, 31, 15322, 29406, 17527, 6295, 280, 5209, 4045, 16, 6, 42, 39, 2938, 9, 1058, 4764, 796, 97, 17374, 11, 8723, 13, 802, 12557, 15633, 16445, 88, 4167, 6, 6, 115, 19274, 7, 377, 13886, 752, 883, 796, 8, 15748, 1215, 5638, 48, 1225, 8, 471, 5526, 6032, 273, 796, 32, 161, 7, 4]\n",
            "segment: [0, 0, 0, 0, 0, 0, 0, 0, 0, 0, 0, 0, 0, 0, 0, 0, 0, 0, 0, 0, 0, 0, 0, 0, 0, 0, 0, 0, 0, 0, 0, 0, 0, 0, 0, 0, 0, 0, 0, 0, 0, 0, 0, 0, 0, 0, 0, 0, 0, 0, 0, 0, 0, 0, 0, 0, 0, 0, 0, 0, 0, 0, 0, 0, 0, 0, 1, 1, 1, 1, 1, 1, 1, 1, 1, 1, 1, 1, 1, 1, 1, 1, 1, 1, 1, 1, 1, 1, 1, 1, 1, 1, 1, 1, 1, 1, 1, 1, 1, 1, 1, 1, 1, 1, 1, 1, 1, 1, 1, 1, 1, 1, 1, 1, 1, 1, 1, 1, 1, 1, 1, 1, 1, 1, 1, 1, 1, 1]\n",
            "label_nsp: 1\n",
            "label_mlm: [    0     0     0     0     0     0   183     0     0     0     0     0\n",
            "     0  5194     0     0     0     0     0     0     0     0     0     0\n",
            "     0     0     0     0     0     0     0     0     0     0     0     0\n",
            "     0     0     0     0     0     0     0  6224     0     0     0     0\n",
            "  2982 26236    20     0     0     0 21399     0   502     0     0     0\n",
            "  9634     0     0     0     0     0     0     0     0     0  6627 20896\n",
            "     0     0     0     0  5846    16     0     0     0     0     0   115\n",
            "     0     0     0     0     0     0     0     0     0     0     0     0\n",
            "     0     0     0     0     0     0   590 11671     0     0     0     0\n",
            "     0     0     0     0     0     0     0     0     0     0     0   471\n",
            "     0 10035     0     0     0     0     0     0]\n",
            "\n",
            "{'tokens': ['[CLS]', '[MASK]', '[MASK]', '▁카터', '▁행정부', '▁이후', '▁미국이', '▁북', '핵', '▁위기', ',', '▁코소보', '▁전쟁', ',', '▁이라크', '▁전쟁과', '▁같이', '▁미국이', '[MASK]', '▁행동을', '▁최후', '로', '▁선택', '하는', '▁전통적', '▁사고를', '[MASK]', '▁군사적', '▁행동을', '▁선행', '하는', '▁행위에', '▁대해', '▁깊은', '▁유감', '을', '▁표시', '▁하며', '▁미국의', '▁군사적', '[MASK]', '▁강한', '▁반대', '▁입장을', '▁보이고', '▁있다', '.', '[SEP]', '▁특히', '▁국제', '▁분쟁', '▁조정', '을', '▁위해', '▁북한의', '▁김일성', ',', '▁125', '▁보한다', '▁세', '드라', '스', '▁장군', ',', '▁팔레', '인', '스타', '인', '의', '▁하마', '스', ',', '▁보스니아', '의', '▁세르비아', '계', '▁정권', '▁같이', '▁미국', '▁정부에', '▁대해', '▁협상을', '▁거부', '하면서', '▁사태', '의', '▁위기', '를', '▁초래', '한', '▁인물', '▁및', '▁단체를', '[MASK]', '[MASK]', '▁분쟁', '의', '[MASK]', '▁근본적으로', '▁해결하기', '▁위해', '▁힘썼다', '.', '▁이', '[MASK]', '▁미국', '▁행정부', '와', '▁갈등을', '▁보이기도', '▁했지만', ',', '[MASK]', '▁대통령의', '[MASK]', '[MASK]', '[MASK]', '[MASK]', '▁유명', '▁인사들', '의', '[MASK]', '▁해결', '해', '▁나갔다', '.', '[MASK]', '[SEP]'], 'segment': [0, 0, 0, 0, 0, 0, 0, 0, 0, 0, 0, 0, 0, 0, 0, 0, 0, 0, 0, 0, 0, 0, 0, 0, 0, 0, 0, 0, 0, 0, 0, 0, 0, 0, 0, 0, 0, 0, 0, 0, 0, 0, 0, 0, 0, 0, 0, 0, 1, 1, 1, 1, 1, 1, 1, 1, 1, 1, 1, 1, 1, 1, 1, 1, 1, 1, 1, 1, 1, 1, 1, 1, 1, 1, 1, 1, 1, 1, 1, 1, 1, 1, 1, 1, 1, 1, 1, 1, 1, 1, 1, 1, 1, 1, 1, 1, 1, 1, 1, 1, 1, 1, 1, 1, 1, 1, 1, 1, 1, 1, 1, 1, 1, 1, 1, 1, 1, 1, 1, 1, 1, 1, 1, 1, 1, 1, 1, 1], 'is_next': 1, 'mask_idx': [1, 2, 18, 26, 40, 57, 58, 93, 94, 97, 104, 112, 114, 115, 116, 117, 121, 126], 'mask_label': ['▁카터', '는', '▁군사적', '▁버리고', '▁활동에', '▁아이티', '의', '▁직접', '▁만나', '▁원인을', '▁과정에서', '▁전직', '▁권한', '과', '▁재', '야', '▁활약으로', '▁1978']}\n",
            "enc_token: [5, 6, 6, 15322, 8886, 83, 10244, 816, 4320, 3494, 8, 17368, 593, 8, 4364, 18657, 400, 10244, 6, 4849, 10826, 21, 1316, 41, 14942, 13692, 6, 7507, 4849, 14348, 41, 20560, 326, 3597, 26513, 16, 1948, 874, 377, 7507, 6, 1833, 1107, 4389, 6089, 25, 7, 4, 390, 471, 5526, 1797, 16, 115, 9138, 4605, 8, 18095, 8455, 234, 5066, 88, 2537, 8, 19491, 31, 1133, 31, 9, 13234, 88, 8, 8600, 9, 3594, 240, 2812, 400, 154, 5880, 326, 12189, 2576, 246, 4703, 9, 3494, 20, 7630, 33, 2215, 97, 20765, 6, 6, 5526, 9, 6, 22587, 12999, 115, 19274, 7, 30, 6, 154, 8886, 26, 12592, 23922, 2568, 8, 6, 5398, 6, 6, 6, 6, 2353, 7679, 9, 6, 2601, 60, 7341, 7, 6, 4]\n",
            "segment: [0, 0, 0, 0, 0, 0, 0, 0, 0, 0, 0, 0, 0, 0, 0, 0, 0, 0, 0, 0, 0, 0, 0, 0, 0, 0, 0, 0, 0, 0, 0, 0, 0, 0, 0, 0, 0, 0, 0, 0, 0, 0, 0, 0, 0, 0, 0, 0, 1, 1, 1, 1, 1, 1, 1, 1, 1, 1, 1, 1, 1, 1, 1, 1, 1, 1, 1, 1, 1, 1, 1, 1, 1, 1, 1, 1, 1, 1, 1, 1, 1, 1, 1, 1, 1, 1, 1, 1, 1, 1, 1, 1, 1, 1, 1, 1, 1, 1, 1, 1, 1, 1, 1, 1, 1, 1, 1, 1, 1, 1, 1, 1, 1, 1, 1, 1, 1, 1, 1, 1, 1, 1, 1, 1, 1, 1, 1, 1]\n",
            "label_nsp: 1\n",
            "label_mlm: [    0 15322    10     0     0     0     0     0     0     0     0     0\n",
            "     0     0     0     0     0     0  7507     0     0     0     0     0\n",
            "     0     0  7514     0     0     0     0     0     0     0     0     0\n",
            "     0     0     0     0  7441     0     0     0     0     0     0     0\n",
            "     0     0     0     0     0     0     0     0     0 17288     9     0\n",
            "     0     0     0     0     0     0     0     0     0     0     0     0\n",
            "     0     0     0     0     0     0     0     0     0     0     0     0\n",
            "     0     0     0     0     0     0     0     0     0   728  1998     0\n",
            "     0 13780     0     0     0     0     0     0  1412     0     0     0\n",
            "     0     0     0     0  4399     0  8111    24   465   181     0     0\n",
            "     0 17056     0     0     0     0  2401     0]\n",
            "\n",
            "{'tokens': ['[CLS]', '에서도', '▁관심이', '▁깊어', '▁유엔', '에', '▁유엔', '인권', '고등', '판', '무관', '의', '[MASK]', '▁시행', '하도록', '▁노력', '하여', '▁독재자', '들의', '▁인권', '▁유', '린', '에', '▁얼마', '[MASK]', '[MASK]', '▁하고', ',', '▁국제', '형사', '재판소', '를', '▁만드는', '▁데', '▁기여', '하여', '▁독재자', '들', '[MASK]', '▁인권', '유', '린', '범죄', '자를', '▁재판소', '로', '▁회', '부', '하여', '▁국제적인', '[MASK]', '[MASK]', '▁받게', '[MASK]', '▁등', '[MASK]', '▁신장', '에', '▁크', '나', '▁큰', '▁기여를', '▁했다', '.', '[SEP]', '▁1993', '년', '▁1', '차', '▁북', '핵', '▁위기', '▁당시', '▁북한', '에', '▁대한', '[MASK]', '▁군사적', '[MASK]', '▁임', '박', '했으나', ',', '[MASK]', '▁전직', '[MASK]', '[MASK]', '▁처음으로', '▁북한', '을', '[MASK]', '[MASK]', '[MASK]', '▁북', '▁양국', '의', '▁중재', '에', '▁큰', '▁기여를', '[MASK]', '▁위기', '를', '▁해결', '했다는', '▁평가를', '▁받았다', '.', '▁또한', '▁이', '▁때', '▁김영삼', '▁대통령과', '▁김일성', '▁주석', '의', '▁만남', '을', '▁주선', '했다', '.', '▁하지만', '▁그로부터', '▁수', '주', '일', '▁후', '[SEP]'], 'segment': [0, 0, 0, 0, 0, 0, 0, 0, 0, 0, 0, 0, 0, 0, 0, 0, 0, 0, 0, 0, 0, 0, 0, 0, 0, 0, 0, 0, 0, 0, 0, 0, 0, 0, 0, 0, 0, 0, 0, 0, 0, 0, 0, 0, 0, 0, 0, 0, 0, 0, 0, 0, 0, 0, 0, 0, 0, 0, 0, 0, 0, 0, 0, 0, 0, 1, 1, 1, 1, 1, 1, 1, 1, 1, 1, 1, 1, 1, 1, 1, 1, 1, 1, 1, 1, 1, 1, 1, 1, 1, 1, 1, 1, 1, 1, 1, 1, 1, 1, 1, 1, 1, 1, 1, 1, 1, 1, 1, 1, 1, 1, 1, 1, 1, 1, 1, 1, 1, 1, 1, 1, 1, 1, 1, 1, 1, 1, 1], 'is_next': 0, 'mask_idx': [12, 23, 24, 25, 38, 50, 51, 53, 55, 76, 78, 83, 85, 86, 90, 91, 92, 100], 'mask_label': ['▁제도를', '▁대해', '▁제약', '을', '▁같은', '▁처벌', '을', '▁하는', '▁인권', '▁미국의', '▁행동이', '▁미국', '▁대통령으로', '는', '▁방문', '하고', '▁미국과', '▁해']}\n",
            "enc_token: [5, 658, 7436, 21879, 3266, 13, 3266, 13140, 9591, 561, 16267, 9, 6, 1900, 1354, 2217, 51, 24263, 332, 3766, 222, 474, 13, 2450, 6, 6, 367, 8, 471, 21229, 11542, 20, 2118, 247, 4295, 51, 24263, 310, 6, 3766, 281, 474, 8534, 1343, 23578, 21, 1151, 101, 51, 12717, 6, 6, 3247, 6, 84, 6, 5528, 13, 2475, 57, 226, 13767, 161, 7, 4, 1350, 15, 35, 116, 816, 4320, 3494, 176, 1986, 13, 94, 6, 7507, 6, 717, 823, 805, 8, 6, 4399, 6, 6, 798, 1986, 16, 6, 6, 6, 816, 6017, 9, 10035, 13, 226, 13767, 6, 3494, 20, 2601, 3770, 3867, 454, 7, 110, 30, 100, 8032, 13384, 4605, 5556, 9, 11334, 16, 20031, 53, 7, 321, 14469, 34, 92, 28, 79, 4]\n",
            "segment: [0, 0, 0, 0, 0, 0, 0, 0, 0, 0, 0, 0, 0, 0, 0, 0, 0, 0, 0, 0, 0, 0, 0, 0, 0, 0, 0, 0, 0, 0, 0, 0, 0, 0, 0, 0, 0, 0, 0, 0, 0, 0, 0, 0, 0, 0, 0, 0, 0, 0, 0, 0, 0, 0, 0, 0, 0, 0, 0, 0, 0, 0, 0, 0, 0, 1, 1, 1, 1, 1, 1, 1, 1, 1, 1, 1, 1, 1, 1, 1, 1, 1, 1, 1, 1, 1, 1, 1, 1, 1, 1, 1, 1, 1, 1, 1, 1, 1, 1, 1, 1, 1, 1, 1, 1, 1, 1, 1, 1, 1, 1, 1, 1, 1, 1, 1, 1, 1, 1, 1, 1, 1, 1, 1, 1, 1, 1, 1]\n",
            "label_nsp: 0\n",
            "label_mlm: [    0     0     0     0     0     0     0     0     0     0     0     0\n",
            "  5733     0     0     0     0     0     0     0     0     0     0   326\n",
            "  7299    16     0     0     0     0     0     0     0     0     0     0\n",
            "     0     0    96     0     0     0     0     0     0     0     0     0\n",
            "     0     0  4321    16     0   211     0  3766     0     0     0     0\n",
            "     0     0     0     0     0     0     0     0     0     0     0     0\n",
            "     0     0     0     0   377     0 18839     0     0     0     0   154\n",
            "     0 12036    10     0     0     0  2444    43  4406     0     0     0\n",
            "     0     0     0     0   209     0     0     0     0     0     0     0\n",
            "     0     0     0     0     0     0     0     0     0     0     0     0\n",
            "     0     0     0     0     0     0     0     0]\n",
            "\n"
          ],
          "name": "stdout"
        }
      ]
    },
    {
      "cell_type": "markdown",
      "metadata": {
        "id": "OkosIClqfdPk"
      },
      "source": [
        "🔶 load_pre_train_data() : 학습에 필요한 데이터를 로딩하는 함수\n",
        "np.memmap을 사용해 메모리 효율적으로 만들어진 데이터를 로딩하는 함수를 아래와 같이 구성하였습니다."
      ]
    },
    {
      "cell_type": "code",
      "metadata": {
        "id": "5jQwB7x8fbCs"
      },
      "source": [
        "def load_pre_train_data(vocab, filename, n_seq, count=None):\n",
        "    \"\"\"\n",
        "    학습에 필요한 데이터를 로드\n",
        "    :param vocab: vocab\n",
        "    :param filename: 전처리된 json 파일\n",
        "    :param n_seq: 시퀀스 길이 (number of sequence)\n",
        "    :param count: 데이터 수 제한 (None이면 전체)\n",
        "    :return enc_tokens: encoder inputs\n",
        "    :return segments: segment inputs\n",
        "    :return labels_nsp: nsp labels\n",
        "    :return labels_mlm: mlm labels\n",
        "    \"\"\"\n",
        "    total = 0\n",
        "    with open(filename, \"r\") as f:\n",
        "        for line in f:\n",
        "            total += 1\n",
        "            # 데이터 수 제한\n",
        "            if count is not None and count <= total:\n",
        "                break\n",
        "    \n",
        "    # np.memmap을 사용하면 메모리를 적은 메모리에서도 대용량 데이터 처리가 가능 함\n",
        "    enc_tokens = np.memmap(filename='enc_tokens.memmap', mode='w+', dtype=np.int32, shape=(total, n_seq))\n",
        "    segments = np.memmap(filename='segments.memmap', mode='w+', dtype=np.int32, shape=(total, n_seq))\n",
        "    labels_nsp = np.memmap(filename='labels_nsp.memmap', mode='w+', dtype=np.int32, shape=(total,))\n",
        "    labels_mlm = np.memmap(filename='labels_mlm.memmap', mode='w+', dtype=np.int32, shape=(total, n_seq))\n",
        "\n",
        "    with open(filename, \"r\") as f:\n",
        "        for i, line in enumerate(tqdm(f, total=total)):\n",
        "            if total <= i:\n",
        "                print(\"data load early stop\", total, i)\n",
        "                break\n",
        "            data = json.loads(line)\n",
        "            # encoder token\n",
        "            enc_token = [vocab.piece_to_id(p) for p in data[\"tokens\"]]\n",
        "            enc_token += [0] * (n_seq - len(enc_token))\n",
        "            # segment\n",
        "            segment = data[\"segment\"]\n",
        "            segment += [0] * (n_seq - len(segment))\n",
        "            # nsp label\n",
        "            label_nsp = data[\"is_next\"]\n",
        "            # mlm label\n",
        "            mask_idx = np.array(data[\"mask_idx\"], dtype=np.int)\n",
        "            mask_label = np.array([vocab.piece_to_id(p) for p in data[\"mask_label\"]], dtype=np.int)\n",
        "            label_mlm = np.full(n_seq, dtype=np.int, fill_value=0)\n",
        "            label_mlm[mask_idx] = mask_label\n",
        "\n",
        "            assert len(enc_token) == len(segment) == len(label_mlm) == n_seq\n",
        "\n",
        "            enc_tokens[i] = enc_token\n",
        "            segments[i] = segment\n",
        "            labels_nsp[i] = label_nsp\n",
        "            labels_mlm[i] = label_mlm\n",
        "\n",
        "    return (enc_tokens, segments), (labels_nsp, labels_mlm)"
      ],
      "execution_count": null,
      "outputs": []
    },
    {
      "cell_type": "code",
      "metadata": {
        "colab": {
          "base_uri": "https://localhost:8080/",
          "height": 66,
          "referenced_widgets": [
            "fed69abfc6b74315a04c4b928540aa8e",
            "9c4ebe9b393e4f8e8c04e896f9c7ab0f",
            "df175740255e4285938242f9e3ede173",
            "320186d6da614e1aaa60ab1ea352d217",
            "a792cd0d8f8c46bba68fe8adf55e9119",
            "899cfeec3a5b4e84b51030840d9526cb",
            "babf3d50f7704a578af81ab43c54c939",
            "1232ceabeeb349c3b4c0b1e06bb7627a"
          ]
        },
        "id": "LQrArS1Ifewr",
        "outputId": "e6a3f3ec-09f5-4244-c99f-d4c4d0748463"
      },
      "source": [
        "# 128000건만 메모리에 로딩\n",
        "pre_train_inputs, pre_train_labels = load_pre_train_data(vocab, pretrain_json_path, 128, count=128000)"
      ],
      "execution_count": null,
      "outputs": [
        {
          "output_type": "display_data",
          "data": {
            "application/vnd.jupyter.widget-view+json": {
              "model_id": "fed69abfc6b74315a04c4b928540aa8e",
              "version_minor": 0,
              "version_major": 2
            },
            "text/plain": [
              "HBox(children=(FloatProgress(value=0.0, max=128000.0), HTML(value='')))"
            ]
          },
          "metadata": {
            "tags": []
          }
        },
        {
          "output_type": "stream",
          "text": [
            "data load early stop 128000 128000\n"
          ],
          "name": "stdout"
        }
      ]
    },
    {
      "cell_type": "code",
      "metadata": {
        "colab": {
          "base_uri": "https://localhost:8080/"
        },
        "id": "-TvKY7RsfhDK",
        "outputId": "c4b8c99a-7002-4130-b486-3c38f1bebf88"
      },
      "source": [
        "# 처음과 마지막 확인\n",
        "pre_train_inputs[0][0], pre_train_inputs[0][-1], pre_train_inputs[1][0], pre_train_inputs[1][-1], pre_train_labels[0][0], pre_train_labels[0][-1], pre_train_labels[1][0], pre_train_labels[1][-1]"
      ],
      "execution_count": null,
      "outputs": [
        {
          "output_type": "execute_result",
          "data": {
            "text/plain": [
              "(memmap([    5, 13524,   977,     7,  5222, 19128,    20,  7491,     7,\n",
              "             6,    79,  1440,    13,  2064,  8899,    77, 27778,    77,\n",
              "         30053,     9,     6,     6,   294,    54,     7,     6,     6,\n",
              "           154,  1440, 10825,    21, 21466,   275,    83, 27722,    77,\n",
              "           124,   122,   327,   249, 30837,   189,  4808,  1505,   750,\n",
              "             7,   136, 15724,    45, 11796,  5832, 21161,    44,    55,\n",
              "           648, 24387,  3346,   540,  1642,  8036,    12,    21,  3632,\n",
              "             7,     4,  2731,    15,  5222,   128,     6,  1919,  3801,\n",
              "         13861,  2539,    38,  1058,    19, 29909,    11,  8978,  3471,\n",
              "          7236,   104,   371,  4301,   265,     8,  3029,    15,  5222,\n",
              "           128,  9807,  7929,     6,     6,  1236,    15,  5222,     6,\n",
              "             6,     6,  3241,     7,  4427,  4138,   102, 26701,     6,\n",
              "             6,    98,   391, 25405,   437,     8,  2448,   298,  2461,\n",
              "           405,  5222,     6,     6, 12808,     7,  5222,     6,     6,\n",
              "         27055,     4], dtype=int32),\n",
              " memmap([    5,    59, 10352,     6,     6,   480,  4271,     8,  6209,\n",
              "          1503,    24,   112,  2552, 15325,   108, 16514,  2563,   279,\n",
              "             8, 25625,  1229,  6865,   683,   112,  1503,     6,     6,\n",
              "           316,  9361,    20,  3301,    53,     7, 18615, 11921,    89,\n",
              "            23,    46,    28,     6,  1952, 20538,  9058,  8040,  5194,\n",
              "          1503,   107,   414,    19,  2156,   559,   699,  1037,    15,\n",
              "            36,    23,    35,    28,     6,     6,     6,  3381,    53,\n",
              "             7,     4,   859,    15,    11, 28909, 16544,  1503,    18,\n",
              "          2554,    13,  1533,   138,   115,  1600,  1198,  1503,    16,\n",
              "          9470,     7,     6, 24093, 10986,    26,  7828,    74,  3322,\n",
              "         27355,  6193,  3231,    20,  1452,    60,  2554,    22,  7432,\n",
              "           164, 25606,  2423,  8789,     6,  6865,    10,  1153,    75,\n",
              "          5542,   279,     8,   840, 19666,  1503,    24,  2552, 15325,\n",
              "           108, 16514, 18914,     7,  1327,    15,   105,   443, 11159,\n",
              "         19203,     4], dtype=int32),\n",
              " memmap([0, 0, 0, 0, 0, 0, 0, 0, 0, 0, 0, 0, 0, 0, 0, 0, 0, 0, 0, 0, 0, 0,\n",
              "         0, 0, 0, 0, 0, 0, 0, 0, 0, 0, 0, 0, 0, 0, 0, 0, 0, 0, 0, 0, 0, 0,\n",
              "         0, 0, 0, 0, 0, 0, 0, 0, 0, 0, 0, 0, 0, 0, 0, 0, 0, 0, 0, 0, 0, 1,\n",
              "         1, 1, 1, 1, 1, 1, 1, 1, 1, 1, 1, 1, 1, 1, 1, 1, 1, 1, 1, 1, 1, 1,\n",
              "         1, 1, 1, 1, 1, 1, 1, 1, 1, 1, 1, 1, 1, 1, 1, 1, 1, 1, 1, 1, 1, 1,\n",
              "         1, 1, 1, 1, 1, 1, 1, 1, 1, 1, 1, 1, 1, 1, 1, 1, 1, 1], dtype=int32),\n",
              " memmap([0, 0, 0, 0, 0, 0, 0, 0, 0, 0, 0, 0, 0, 0, 0, 0, 0, 0, 0, 0, 0, 0,\n",
              "         0, 0, 0, 0, 0, 0, 0, 0, 0, 0, 0, 0, 0, 0, 0, 0, 0, 0, 0, 0, 0, 0,\n",
              "         0, 0, 0, 0, 0, 0, 0, 0, 0, 0, 0, 0, 0, 0, 0, 0, 0, 0, 0, 0, 0, 1,\n",
              "         1, 1, 1, 1, 1, 1, 1, 1, 1, 1, 1, 1, 1, 1, 1, 1, 1, 1, 1, 1, 1, 1,\n",
              "         1, 1, 1, 1, 1, 1, 1, 1, 1, 1, 1, 1, 1, 1, 1, 1, 1, 1, 1, 1, 1, 1,\n",
              "         1, 1, 1, 1, 1, 1, 1, 1, 1, 1, 1, 1, 1, 1, 1, 1, 1, 1], dtype=int32),\n",
              " 1,\n",
              " 0,\n",
              " memmap([    0,     0,     0,     0,     0,     0,     0,     0,     0,\n",
              "            38,     0,     0,     0,     0,     0,     0,     0,     0,\n",
              "             0,     0,  9348,    27,     0,     0,     0,  3777,    15,\n",
              "             0,     0,     0,     0,     0,     0,     0,     0,     0,\n",
              "             0,     0,     0,     0,     0,     0,     0,     0,     0,\n",
              "             0,     0,     0,     0,     0,     0,     0,     0,     0,\n",
              "             0,     0,     0,     0,     0,     0,     0,     0,     0,\n",
              "             0,     0,     0,     0,     0,     0,  6352,     0,     0,\n",
              "             0,     0,     0,     0,     0,     0,     0,     0,     0,\n",
              "             0,     0,     0,     0,     0,     0,     0,     0,     0,\n",
              "             0,     0,     0, 13861,  1066,     0,     0,     0,   128,\n",
              "          9807,    20,     0,     0,  3932,     0,     0,     0, 12042,\n",
              "            16,     0,     0,     0,     0,     0,     0,     0,     0,\n",
              "             0,     0,  9807,    21,     0,     0,     0,  8711,    21,\n",
              "             0,     0], dtype=int32),\n",
              " memmap([    0,     0,     0,  1503,     8,     0,     0,     0,     0,\n",
              "             0,     0,     0,     0,     0,     0,     0,     0,     0,\n",
              "             0,     0,     0,     0,     0,     0,     0,  3023,    31,\n",
              "             0,     0,     0,     0,     0,     0,  1118,    15,     0,\n",
              "             0,     0,     0,  4638,     0,     0,     0,     0,     0,\n",
              "             0,     0,     0,     0,     0,     0,     0,     0,     0,\n",
              "             0,     0,     0,     0, 14585, 26201,    22,     0,     0,\n",
              "             0,     0,     0,     0,     0,     0,     0,     0,     0,\n",
              "             0,     0,     0,     0,     0,     0,     0,     0,     0,\n",
              "             0,     0,  7828,     0,     0,     0,     0,     0,     0,\n",
              "             0,     0,     0,     0,     0,     0,     0,     0,     0,\n",
              "             0, 10842,    53,     7,    30,     0,     0,     0,     0,\n",
              "             0,     0,     0,     0,     0,     0,     0,  2552, 15325,\n",
              "           108,     0,     0,     0,     0,     0,     0,     0,     0,\n",
              "             0,     0], dtype=int32))"
            ]
          },
          "metadata": {
            "tags": []
          },
          "execution_count": 34
        }
      ]
    },
    {
      "cell_type": "markdown",
      "metadata": {
        "id": "C7TzAO4bfpTs"
      },
      "source": [
        "#16-6. BERT 모델 구현\n",
        "이제 본격적으로 BERT model을 구현해 보겠습니다.\n",
        "\n",
        "BERT가 transformer encoder로 구현되어 있다는 것은 잘 알고 계시리라 생각합니다. 이미 여러 번 다뤄보셨을 transformer의 모델구조와 거의 유사하지만, 아래 그림과 같이 3개의 embedding 레이어를 가진다는 점에 유의해야 합니다.\n",
        "\n",
        "![image.png](data:image/png;base64,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)\n",
        "\n",
        "우선 몇 가지 유틸리티 함수를 정의하겠습니다."
      ]
    },
    {
      "cell_type": "code",
      "metadata": {
        "colab": {
          "base_uri": "https://localhost:8080/"
        },
        "id": "L4lSxfGzfi96",
        "outputId": "338e2461-865e-4bb6-b7b4-af6b9ecda3d1"
      },
      "source": [
        "def get_pad_mask(tokens, i_pad=0):\n",
        "    \"\"\"\n",
        "    pad mask 계산하는 함수\n",
        "    :param tokens: tokens (bs, n_seq)\n",
        "    :param i_pad: id of pad\n",
        "    :return mask: pad mask (pad: 1, other: 0)\n",
        "    \"\"\"\n",
        "    mask = tf.cast(tf.math.equal(tokens, i_pad), tf.float32)\n",
        "    mask = tf.expand_dims(mask, axis=1)\n",
        "    return mask\n",
        "\n",
        "\n",
        "def get_ahead_mask(tokens, i_pad=0):\n",
        "    \"\"\"\n",
        "    ahead mask 계산하는 함수\n",
        "    :param tokens: tokens (bs, n_seq)\n",
        "    :param i_pad: id of pad\n",
        "    :return mask: ahead and pad mask (ahead or pad: 1, other: 0)\n",
        "    \"\"\"\n",
        "    n_seq = tf.shape(tokens)[1]\n",
        "    ahead_mask = 1 - tf.linalg.band_part(tf.ones((n_seq, n_seq)), -1, 0)\n",
        "    ahead_mask = tf.expand_dims(ahead_mask, axis=0)\n",
        "    pad_mask = get_pad_mask(tokens, i_pad)\n",
        "    mask = tf.maximum(ahead_mask, pad_mask)\n",
        "    return mask\n",
        "print(\"슝=3\")"
      ],
      "execution_count": null,
      "outputs": [
        {
          "output_type": "stream",
          "text": [
            "슝=3\n"
          ],
          "name": "stdout"
        }
      ]
    },
    {
      "cell_type": "code",
      "metadata": {
        "colab": {
          "base_uri": "https://localhost:8080/"
        },
        "id": "-qG7IVi0ftz0",
        "outputId": "393c1ebd-b442-496d-ad69-2365370195f4"
      },
      "source": [
        "@tf.function(experimental_relax_shapes=True)\n",
        "def gelu(x):\n",
        "    \"\"\"\n",
        "    gelu activation 함수\n",
        "    :param x: 입력 값\n",
        "    :return: gelu activation result\n",
        "    \"\"\"\n",
        "    return 0.5 * x * (1 + K.tanh(x * 0.7978845608 * (1 + 0.044715 * x * x)))\n",
        "print(\"슝=3\")"
      ],
      "execution_count": null,
      "outputs": [
        {
          "output_type": "stream",
          "text": [
            "슝=3\n"
          ],
          "name": "stdout"
        }
      ]
    },
    {
      "cell_type": "code",
      "metadata": {
        "colab": {
          "base_uri": "https://localhost:8080/"
        },
        "id": "64IIyE1afxYu",
        "outputId": "5037c1b6-2bdc-4e23-c247-b89c22f29135"
      },
      "source": [
        "def kernel_initializer(stddev=0.02):\n",
        "    \"\"\"\n",
        "    parameter initializer 생성\n",
        "    :param stddev: 생성할 랜덤 변수의 표준편차\n",
        "    \"\"\"\n",
        "    return tf.keras.initializers.TruncatedNormal(stddev=stddev)\n",
        "\n",
        "\n",
        "def bias_initializer():\n",
        "    \"\"\"\n",
        "    bias initializer 생성\n",
        "    \"\"\"\n",
        "    return tf.zeros_initializer\n",
        "print(\"슝=3\")"
      ],
      "execution_count": null,
      "outputs": [
        {
          "output_type": "stream",
          "text": [
            "슝=3\n"
          ],
          "name": "stdout"
        }
      ]
    },
    {
      "cell_type": "code",
      "metadata": {
        "colab": {
          "base_uri": "https://localhost:8080/"
        },
        "id": "oFWn5UgKfyz5",
        "outputId": "b0c2e4c1-a6e9-4638-98b0-bb4603e9fe06"
      },
      "source": [
        "class Config(dict):\n",
        "    \"\"\"\n",
        "    json을 config 형태로 사용하기 위한 Class\n",
        "    :param dict: config dictionary\n",
        "    \"\"\"\n",
        "    __getattr__ = dict.__getitem__\n",
        "    __setattr__ = dict.__setitem__\n",
        "\n",
        "    @classmethod\n",
        "    def load(cls, file):\n",
        "        \"\"\"\n",
        "        file에서 Config를 생성 함\n",
        "        :param file: filename\n",
        "        \"\"\"\n",
        "        with open(file, 'r') as f:\n",
        "            config = json.loads(f.read())\n",
        "            return Config(config)\n",
        "print(\"슝=3\")"
      ],
      "execution_count": null,
      "outputs": [
        {
          "output_type": "stream",
          "text": [
            "슝=3\n"
          ],
          "name": "stdout"
        }
      ]
    },
    {
      "cell_type": "markdown",
      "metadata": {
        "id": "9MSFoTrOf2_6"
      },
      "source": [
        "이제 본격적으로 embedding 레이어를 쌓아나가겠습니다. 아래는 Token Embedding의 구현입니다."
      ]
    },
    {
      "cell_type": "code",
      "metadata": {
        "colab": {
          "base_uri": "https://localhost:8080/"
        },
        "id": "JSuSjKKZf0x8",
        "outputId": "a8385825-d7f8-46bc-9bb3-24d62d9fc522"
      },
      "source": [
        "class SharedEmbedding(tf.keras.layers.Layer):\n",
        "    \"\"\"\n",
        "    Weighed Shaed Embedding Class\n",
        "    \"\"\"\n",
        "    def __init__(self, config, name=\"weight_shared_embedding\"):\n",
        "        \"\"\"\n",
        "        생성자\n",
        "        :param config: Config 객체\n",
        "        :param name: layer name\n",
        "        \"\"\"\n",
        "        super().__init__(name=name)\n",
        "\n",
        "        self.n_vocab = config.n_vocab\n",
        "        self.d_model = config.d_model\n",
        "    \n",
        "    def build(self, input_shape):\n",
        "        \"\"\"\n",
        "        shared weight 생성\n",
        "        :param input_shape: Tensor Shape (not used)\n",
        "        \"\"\"\n",
        "        with tf.name_scope(\"shared_embedding_weight\"):\n",
        "            self.shared_weights = self.add_weight(\n",
        "                \"weights\",\n",
        "                shape=[self.n_vocab, self.d_model],\n",
        "                initializer=kernel_initializer()\n",
        "            )\n",
        "\n",
        "    def call(self, inputs, mode=\"embedding\"):\n",
        "        \"\"\"\n",
        "        layer 실행\n",
        "        :param inputs: 입력\n",
        "        :param mode: 실행 모드\n",
        "        :return: embedding or linear 실행 결과\n",
        "        \"\"\"\n",
        "        # mode가 embedding일 경우 embedding lookup 실행\n",
        "        if mode == \"embedding\":\n",
        "            return self._embedding(inputs)\n",
        "        # mode가 linear일 경우 linear 실행\n",
        "        elif mode == \"linear\":\n",
        "            return self._linear(inputs)\n",
        "        # mode가 기타일 경우 오류 발생\n",
        "        else:\n",
        "            raise ValueError(f\"mode {mode} is not valid.\")\n",
        "    \n",
        "    def _embedding(self, inputs):\n",
        "        \"\"\"\n",
        "        embedding lookup\n",
        "        :param inputs: 입력\n",
        "        \"\"\"\n",
        "        embed = tf.gather(self.shared_weights, tf.cast(inputs, tf.int32))\n",
        "        return embed\n",
        "\n",
        "    def _linear(self, inputs):  # (bs, n_seq, d_model)\n",
        "        \"\"\"\n",
        "        linear 실행\n",
        "        :param inputs: 입력\n",
        "        \"\"\"\n",
        "        n_batch = tf.shape(inputs)[0]\n",
        "        n_seq = tf.shape(inputs)[1]\n",
        "        inputs = tf.reshape(inputs, [-1, self.d_model])  # (bs * n_seq, d_model)\n",
        "        outputs = tf.matmul(inputs, self.shared_weights, transpose_b=True)\n",
        "        outputs = tf.reshape(outputs, [n_batch, n_seq, self.n_vocab])  # (bs, n_seq, n_vocab)\n",
        "        return outputs\n",
        "print(\"슝=3\")"
      ],
      "execution_count": null,
      "outputs": [
        {
          "output_type": "stream",
          "text": [
            "슝=3\n"
          ],
          "name": "stdout"
        }
      ]
    },
    {
      "cell_type": "markdown",
      "metadata": {
        "id": "TS9_mJTtf6u7"
      },
      "source": [
        "Positional Embedding 레이어는 다음과 같습니다."
      ]
    },
    {
      "cell_type": "code",
      "metadata": {
        "colab": {
          "base_uri": "https://localhost:8080/"
        },
        "id": "-LW-rD-Lf4fy",
        "outputId": "3ec26c70-c11c-4cbe-e91b-7d705e9e3e49"
      },
      "source": [
        "class PositionalEmbedding(tf.keras.layers.Layer):\n",
        "    \"\"\"\n",
        "    Positional Embedding Class\n",
        "    \"\"\"\n",
        "    def __init__(self, config, name=\"position_embedding\"):\n",
        "        \"\"\"\n",
        "        생성자\n",
        "        :param config: Config 객체\n",
        "        :param name: layer name\n",
        "        \"\"\"\n",
        "        super().__init__(name=name)\n",
        "        \n",
        "        self.embedding = tf.keras.layers.Embedding(config.n_seq, config.d_model, embeddings_initializer=kernel_initializer())\n",
        "\n",
        "    def call(self, inputs):\n",
        "        \"\"\"\n",
        "        layer 실행\n",
        "        :param inputs: 입력\n",
        "        :return embed: positional embedding lookup 결과\n",
        "        \"\"\"\n",
        "        position = tf.cast(tf.math.cumsum(tf.ones_like(inputs), axis=1, exclusive=True), tf.int32)\n",
        "        embed = self.embedding(position)\n",
        "        return embed\n",
        "print(\"슝=3\")"
      ],
      "execution_count": null,
      "outputs": [
        {
          "output_type": "stream",
          "text": [
            "슝=3\n"
          ],
          "name": "stdout"
        }
      ]
    },
    {
      "cell_type": "markdown",
      "metadata": {
        "id": "NUggp6Byf-2o"
      },
      "source": [
        "상대적으로 매우 간단한 Segment Embedding은 별도의 레이어를 구현하지 않고 BERT 클래스에서 간단히 포함하도록 하겠습니다.\n",
        "\n",
        "아래는 자주 보았던 ScaleDotProductAttention과 이를 활용한 MultiHeadAttention입니다."
      ]
    },
    {
      "cell_type": "code",
      "metadata": {
        "colab": {
          "base_uri": "https://localhost:8080/"
        },
        "id": "llg5Gs55f8c1",
        "outputId": "709a994b-5562-4f73-f9bd-9f5bbb77f6d9"
      },
      "source": [
        "class ScaleDotProductAttention(tf.keras.layers.Layer):\n",
        "    \"\"\"\n",
        "    Scale Dot Product Attention Class\n",
        "    \"\"\"\n",
        "    def __init__(self, name=\"scale_dot_product_attention\"):\n",
        "        \"\"\"\n",
        "        생성자\n",
        "        :param name: layer name\n",
        "        \"\"\"\n",
        "        super().__init__(name=name)\n",
        "\n",
        "    def call(self, Q, K, V, attn_mask):\n",
        "        \"\"\"\n",
        "        layer 실행\n",
        "        :param Q: Q value\n",
        "        :param K: K value\n",
        "        :param V: V value\n",
        "        :param attn_mask: 실행 모드\n",
        "        :return attn_out: attention 실행 결과\n",
        "        \"\"\"\n",
        "        attn_score = tf.matmul(Q, K, transpose_b=True)\n",
        "        scale = tf.math.sqrt(tf.cast(tf.shape(K)[-1], tf.float32))\n",
        "        attn_scale = tf.math.divide(attn_score, scale)\n",
        "        attn_scale -= 1.e9 * attn_mask\n",
        "        attn_prob = tf.nn.softmax(attn_scale, axis=-1)\n",
        "        attn_out = tf.matmul(attn_prob, V)\n",
        "        return attn_out\n",
        "print(\"슝=3\")"
      ],
      "execution_count": null,
      "outputs": [
        {
          "output_type": "stream",
          "text": [
            "슝=3\n"
          ],
          "name": "stdout"
        }
      ]
    },
    {
      "cell_type": "code",
      "metadata": {
        "colab": {
          "base_uri": "https://localhost:8080/"
        },
        "id": "urwymR73gA-D",
        "outputId": "8c1c01ae-5590-4f91-f7d4-b2cbaae13f34"
      },
      "source": [
        "class MultiHeadAttention(tf.keras.layers.Layer):\n",
        "    \"\"\"\n",
        "    Multi Head Attention Class\n",
        "    \"\"\"\n",
        "    def __init__(self, config, name=\"multi_head_attention\"):\n",
        "        \"\"\"\n",
        "        생성자\n",
        "        :param config: Config 객체\n",
        "        :param name: layer name\n",
        "        \"\"\"\n",
        "        super().__init__(name=name)\n",
        "\n",
        "        self.d_model = config.d_model\n",
        "        self.n_head = config.n_head\n",
        "        self.d_head = config.d_head\n",
        "\n",
        "        # Q, K, V input dense layer\n",
        "        self.W_Q = tf.keras.layers.Dense(config.n_head * config.d_head, kernel_initializer=kernel_initializer(), bias_initializer=bias_initializer())\n",
        "        self.W_K = tf.keras.layers.Dense(config.n_head * config.d_head, kernel_initializer=kernel_initializer(), bias_initializer=bias_initializer())\n",
        "        self.W_V = tf.keras.layers.Dense(config.n_head * config.d_head, kernel_initializer=kernel_initializer(), bias_initializer=bias_initializer())\n",
        "        # Scale Dot Product Attention class\n",
        "        self.attention = ScaleDotProductAttention(name=\"self_attention\")\n",
        "        # output dense layer\n",
        "        self.W_O = tf.keras.layers.Dense(config.d_model, kernel_initializer=kernel_initializer(), bias_initializer=bias_initializer())\n",
        "\n",
        "    def call(self, Q, K, V, attn_mask):\n",
        "        \"\"\"\n",
        "        layer 실행\n",
        "        :param Q: Q value\n",
        "        :param K: K value\n",
        "        :param V: V value\n",
        "        :param attn_mask: 실행 모드\n",
        "        :return attn_out: attention 실행 결과\n",
        "        \"\"\"\n",
        "        # reshape Q, K, V, attn_mask\n",
        "        batch_size = tf.shape(Q)[0]\n",
        "        Q_m = tf.transpose(tf.reshape(self.W_Q(Q), [batch_size, -1, self.n_head, self.d_head]), [0, 2, 1, 3])  # (bs, n_head, Q_len, d_head)\n",
        "        K_m = tf.transpose(tf.reshape(self.W_K(K), [batch_size, -1, self.n_head, self.d_head]), [0, 2, 1, 3])  # (bs, n_head, K_len, d_head)\n",
        "        V_m = tf.transpose(tf.reshape(self.W_V(V), [batch_size, -1, self.n_head, self.d_head]), [0, 2, 1, 3])  # (bs, n_head, K_len, d_head)\n",
        "        attn_mask_m = tf.expand_dims(attn_mask, axis=1)\n",
        "        # Scale Dot Product Attention with multi head Q, K, V, attn_mask\n",
        "        attn_out = self.attention(Q_m, K_m, V_m, attn_mask_m)  # (bs, n_head, Q_len, d_head)\n",
        "        # transpose and liner\n",
        "        attn_out_m = tf.transpose(attn_out, perm=[0, 2, 1, 3])  # (bs, Q_len, n_head, d_head)\n",
        "        attn_out = tf.reshape(attn_out_m, [batch_size, -1, config.n_head * config.d_head])  # (bs, Q_len, d_model)\n",
        "        attn_out = self.W_O(attn_out) # (bs, Q_len, d_model)\n",
        "\n",
        "        return attn_out\n",
        "print(\"슝=3\")"
      ],
      "execution_count": null,
      "outputs": [
        {
          "output_type": "stream",
          "text": [
            "슝=3\n"
          ],
          "name": "stdout"
        }
      ]
    },
    {
      "cell_type": "markdown",
      "metadata": {
        "id": "cQs5tASNgGcG"
      },
      "source": [
        "이를 바탕으로 transformer encoder 레이어를 구성하겠습니다.\n",
        "\n"
      ]
    },
    {
      "cell_type": "code",
      "metadata": {
        "colab": {
          "base_uri": "https://localhost:8080/"
        },
        "id": "KzUpSVurgEML",
        "outputId": "fe07a01e-9d81-436e-aca9-9f266466f987"
      },
      "source": [
        "class PositionWiseFeedForward(tf.keras.layers.Layer):\n",
        "    \"\"\"\n",
        "    Position Wise Feed Forward Class\n",
        "    \"\"\"\n",
        "    def __init__(self, config, name=\"feed_forward\"):\n",
        "        \"\"\"\n",
        "        생성자\n",
        "        :param config: Config 객체\n",
        "        :param name: layer name\n",
        "        \"\"\"\n",
        "        super().__init__(name=name)\n",
        "\n",
        "        self.W_1 = tf.keras.layers.Dense(config.d_ff, activation=gelu, kernel_initializer=kernel_initializer(), bias_initializer=bias_initializer())\n",
        "        self.W_2 = tf.keras.layers.Dense(config.d_model, kernel_initializer=kernel_initializer(), bias_initializer=bias_initializer())\n",
        "\n",
        "    def call(self, inputs):\n",
        "        \"\"\"\n",
        "        layer 실행\n",
        "        :param inputs: inputs\n",
        "        :return ff_val: feed forward 실행 결과\n",
        "        \"\"\"\n",
        "        ff_val = self.W_2(self.W_1(inputs))\n",
        "        return ff_val\n",
        "print(\"슝=3\")"
      ],
      "execution_count": null,
      "outputs": [
        {
          "output_type": "stream",
          "text": [
            "슝=3\n"
          ],
          "name": "stdout"
        }
      ]
    },
    {
      "cell_type": "code",
      "metadata": {
        "colab": {
          "base_uri": "https://localhost:8080/"
        },
        "id": "8ucCf3bZgH_a",
        "outputId": "fd66bda5-f842-420e-be00-9f2edf13d42c"
      },
      "source": [
        "class EncoderLayer(tf.keras.layers.Layer):\n",
        "    \"\"\"\n",
        "    Encoder Layer Class\n",
        "    \"\"\"\n",
        "    def __init__(self, config, name=\"encoder_layer\"):\n",
        "        \"\"\"\n",
        "        생성자\n",
        "        :param config: Config 객체\n",
        "        :param name: layer name\n",
        "        \"\"\"\n",
        "        super().__init__(name=name)\n",
        "\n",
        "        self.self_attention = MultiHeadAttention(config)\n",
        "        self.norm1 = tf.keras.layers.LayerNormalization(epsilon=config.layernorm_epsilon)\n",
        "\n",
        "        self.ffn = PositionWiseFeedForward(config)\n",
        "        self.norm2 = tf.keras.layers.LayerNormalization(epsilon=config.layernorm_epsilon)\n",
        "\n",
        "        self.dropout = tf.keras.layers.Dropout(config.dropout)\n",
        " \n",
        "    def call(self, enc_embed, self_mask):\n",
        "        \"\"\"\n",
        "        layer 실행\n",
        "        :param enc_embed: enc_embed 또는 이전 EncoderLayer의 출력\n",
        "        :param self_mask: enc_tokens의 pad mask\n",
        "        :return enc_out: EncoderLayer 실행 결과\n",
        "        \"\"\"\n",
        "        self_attn_val = self.self_attention(enc_embed, enc_embed, enc_embed, self_mask)\n",
        "        norm1_val = self.norm1(enc_embed + self.dropout(self_attn_val))\n",
        "\n",
        "        ffn_val = self.ffn(norm1_val)\n",
        "        enc_out = self.norm2(norm1_val + self.dropout(ffn_val))\n",
        "\n",
        "        return enc_out\n",
        "print(\"슝=3\")"
      ],
      "execution_count": null,
      "outputs": [
        {
          "output_type": "stream",
          "text": [
            "슝=3\n"
          ],
          "name": "stdout"
        }
      ]
    },
    {
      "cell_type": "markdown",
      "metadata": {
        "id": "9p6BMvs9gLue"
      },
      "source": [
        "이제 다 왔습니다.\n",
        "\n",
        "최종적으로 구성할 BERT 레이어는 아래와 같습니다."
      ]
    },
    {
      "cell_type": "code",
      "metadata": {
        "colab": {
          "base_uri": "https://localhost:8080/"
        },
        "id": "ME3g3Cs2gJ7K",
        "outputId": "4785f40f-1ff6-47b8-80d4-56a9048199e0"
      },
      "source": [
        "class BERT(tf.keras.layers.Layer):\n",
        "    \"\"\"\n",
        "    BERT Class\n",
        "    \"\"\"\n",
        "    def __init__(self, config, name=\"bert\"):\n",
        "        \"\"\"\n",
        "        생성자\n",
        "        :param config: Config 객체\n",
        "        :param name: layer name\n",
        "        \"\"\"\n",
        "        super().__init__(name=name)\n",
        "\n",
        "        self.i_pad = config.i_pad\n",
        "        self.embedding = SharedEmbedding(config)\n",
        "        self.position = PositionalEmbedding(config)\n",
        "        self.segment = tf.keras.layers.Embedding(2, config.d_model, embeddings_initializer=kernel_initializer())\n",
        "        self.norm = tf.keras.layers.LayerNormalization(epsilon=config.layernorm_epsilon)\n",
        "        \n",
        "        self.encoder_layers = [EncoderLayer(config, name=f\"encoder_layer_{i}\") for i in range(config.n_layer)]\n",
        "\n",
        "        self.dropout = tf.keras.layers.Dropout(config.dropout)\n",
        "\n",
        "    def call(self, inputs):\n",
        "        \"\"\"\n",
        "        layer 실행\n",
        "        :param inputs: (enc_tokens, segments)\n",
        "        :return logits: dec_tokens에 대한 다음 토큰 예측 결과 logits\n",
        "        \"\"\"\n",
        "        enc_tokens, segments = inputs\n",
        "\n",
        "        enc_self_mask = tf.keras.layers.Lambda(get_pad_mask, output_shape=(1, None), name='enc_self_mask')(enc_tokens, self.i_pad)\n",
        "\n",
        "        enc_embed = self.get_embedding(enc_tokens, segments)\n",
        "\n",
        "        enc_out = self.dropout(enc_embed)\n",
        "        for encoder_layer in self.encoder_layers:\n",
        "            enc_out = encoder_layer(enc_out, enc_self_mask)\n",
        "\n",
        "        logits_cls = enc_out[:,0]\n",
        "        logits_lm = self.embedding(enc_out, mode=\"linear\")\n",
        "        return logits_cls, logits_lm\n",
        "    \n",
        "    def get_embedding(self, tokens, segments):\n",
        "        \"\"\"\n",
        "        token embedding, position embedding lookup\n",
        "        :param tokens: 입력 tokens\n",
        "        :param segments: 입력 segments\n",
        "        :return embed: embedding 결과\n",
        "        \"\"\"\n",
        "        embed = self.embedding(tokens) + self.position(tokens) + self.segment(segments)\n",
        "        embed = self.norm(embed)\n",
        "        return embed\n",
        "print(\"슝=3\")"
      ],
      "execution_count": null,
      "outputs": [
        {
          "output_type": "stream",
          "text": [
            "슝=3\n"
          ],
          "name": "stdout"
        }
      ]
    },
    {
      "cell_type": "markdown",
      "metadata": {
        "id": "J9eipKbTgPn5"
      },
      "source": [
        "BERT 레이어를 바탕으로 최종적으로 만들어질 pretrain용 BERT 모델 구성은 아래와 같습니다.\n",
        "\n"
      ]
    },
    {
      "cell_type": "code",
      "metadata": {
        "colab": {
          "base_uri": "https://localhost:8080/"
        },
        "id": "bfM1qAJFgNlD",
        "outputId": "d91ffbd4-0c26-4494-ddde-1fbf9c7d8036"
      },
      "source": [
        "# Encoder Layer class 정의\n",
        "class PooledOutput(tf.keras.layers.Layer):\n",
        "    def __init__(self, config, n_output, name=\"pooled_output\"):\n",
        "        super().__init__(name=name)\n",
        "\n",
        "        self.dense1 = tf.keras.layers.Dense(config.d_model, activation=tf.nn.tanh, kernel_initializer=kernel_initializer(), bias_initializer=bias_initializer())\n",
        "        self.dense2 = tf.keras.layers.Dense(n_output, use_bias=False, activation=tf.nn.softmax, name=\"nsp\", kernel_initializer=kernel_initializer(), bias_initializer=bias_initializer())\n",
        " \n",
        "    def call(self, inputs):\n",
        "        outputs = self.dense1(inputs)\n",
        "        outputs = self.dense2(outputs)\n",
        "        return outputs\n",
        "print(\"슝=3\")"
      ],
      "execution_count": null,
      "outputs": [
        {
          "output_type": "stream",
          "text": [
            "슝=3\n"
          ],
          "name": "stdout"
        }
      ]
    },
    {
      "cell_type": "code",
      "metadata": {
        "colab": {
          "base_uri": "https://localhost:8080/"
        },
        "id": "_vH28njYgSRA",
        "outputId": "078a4562-424b-4e25-9b78-328ded497840"
      },
      "source": [
        "def build_model_pre_train(config):\n",
        "    enc_tokens = tf.keras.layers.Input((None,), name=\"enc_tokens\")\n",
        "    segments = tf.keras.layers.Input((None,), name=\"segments\")\n",
        "\n",
        "    bert = BERT(config)\n",
        "    logits_cls, logits_lm = bert((enc_tokens, segments))\n",
        "\n",
        "    logits_cls = PooledOutput(config, 2, name=\"pooled_nsp\")(logits_cls)\n",
        "    outputs_nsp = tf.keras.layers.Softmax(name=\"nsp\")(logits_cls)\n",
        "\n",
        "    outputs_mlm = tf.keras.layers.Softmax(name=\"mlm\")(logits_lm)\n",
        "\n",
        "    model = tf.keras.Model(inputs=(enc_tokens, segments), outputs=(outputs_nsp, outputs_mlm))\n",
        "    return model\n",
        "print(\"슝=3\")"
      ],
      "execution_count": null,
      "outputs": [
        {
          "output_type": "stream",
          "text": [
            "슝=3\n"
          ],
          "name": "stdout"
        }
      ]
    },
    {
      "cell_type": "markdown",
      "metadata": {
        "id": "Crax6aCBgVvb"
      },
      "source": [
        "아주 작은 pretrain용 BERT 모델(test_model)을 생성하여 동작을 확인해 보겠습니다.\n",
        "\n"
      ]
    },
    {
      "cell_type": "code",
      "metadata": {
        "colab": {
          "base_uri": "https://localhost:8080/"
        },
        "id": "g2YJOamKgT8K",
        "outputId": "0007e66e-6e27-410c-c737-b438c0cd20fd"
      },
      "source": [
        "config = Config({\"d_model\": 256, \"n_head\": 4, \"d_head\": 64, \"dropout\": 0.1, \"d_ff\": 1024, \"layernorm_epsilon\": 0.001, \"n_layer\": 3, \"n_seq\": 256, \"n_vocab\": 0, \"i_pad\": 0})\n",
        "config.n_vocab = len(vocab)\n",
        "config.i_pad = vocab.pad_id()\n",
        "config"
      ],
      "execution_count": null,
      "outputs": [
        {
          "output_type": "execute_result",
          "data": {
            "text/plain": [
              "{'d_ff': 1024,\n",
              " 'd_head': 64,\n",
              " 'd_model': 256,\n",
              " 'dropout': 0.1,\n",
              " 'i_pad': 0,\n",
              " 'layernorm_epsilon': 0.001,\n",
              " 'n_head': 4,\n",
              " 'n_layer': 3,\n",
              " 'n_seq': 256,\n",
              " 'n_vocab': 32007}"
            ]
          },
          "metadata": {
            "tags": []
          },
          "execution_count": 48
        }
      ]
    },
    {
      "cell_type": "code",
      "metadata": {
        "colab": {
          "base_uri": "https://localhost:8080/"
        },
        "id": "MMUKZItAgXiZ",
        "outputId": "62dd3ec5-2e98-40f1-bc62-5189a55beae3"
      },
      "source": [
        "n_seq = 10\n",
        "\n",
        "# make test inputs\n",
        "enc_tokens = np.random.randint(0, len(vocab), (10, n_seq))\n",
        "segments = np.random.randint(0, 2, (10, n_seq))\n",
        "labels_nsp = np.random.randint(0, 2, (10,))\n",
        "labels_mlm = np.random.randint(0, len(vocab), (10, n_seq))\n",
        "\n",
        "test_model = build_model_pre_train(config)\n",
        "test_model.compile(loss=tf.keras.losses.sparse_categorical_crossentropy, optimizer=tf.keras.optimizers.Adam(), metrics=[\"acc\"])\n",
        "\n",
        "# test model fit\n",
        "test_model.fit((enc_tokens, segments), (labels_nsp, labels_mlm), epochs=2, batch_size=5)"
      ],
      "execution_count": null,
      "outputs": [
        {
          "output_type": "stream",
          "text": [
            "Epoch 1/2\n",
            "2/2 [==============================] - 18s 19ms/step - loss: 11.1932 - nsp_loss: 0.7411 - mlm_loss: 10.4521 - nsp_acc: 0.6000 - mlm_acc: 0.0000e+00\n",
            "Epoch 2/2\n",
            "2/2 [==============================] - 0s 16ms/step - loss: 10.0369 - nsp_loss: 0.6172 - mlm_loss: 9.4197 - nsp_acc: 0.8000 - mlm_acc: 0.0133\n"
          ],
          "name": "stdout"
        },
        {
          "output_type": "execute_result",
          "data": {
            "text/plain": [
              "<tensorflow.python.keras.callbacks.History at 0x7f3ed4062290>"
            ]
          },
          "metadata": {
            "tags": []
          },
          "execution_count": 49
        }
      ]
    },
    {
      "cell_type": "markdown",
      "metadata": {
        "id": "sCiJNs2jgaQA"
      },
      "source": [
        "test_model.fit()이 잘 구동되나요?\n",
        "\n",
        "다음 스텝에서 본격적으로 학습을 진행해 보겠습니다."
      ]
    },
    {
      "cell_type": "markdown",
      "metadata": {
        "id": "pELQ22KKgc4-"
      },
      "source": [
        "# 16-7. pretrain 진행\n",
        "loss나 accuracy같이 기본적으로 필요한 계산 함수를 미리 정의해 둡시다."
      ]
    },
    {
      "cell_type": "code",
      "metadata": {
        "colab": {
          "base_uri": "https://localhost:8080/"
        },
        "id": "HR8_9I0VgY0g",
        "outputId": "13c74403-6abe-4963-cfae-506a586cd148"
      },
      "source": [
        "def lm_loss(y_true, y_pred):\n",
        "    \"\"\"\n",
        "    loss 계산 함수\n",
        "    :param y_true: 정답 (bs, n_seq)\n",
        "    :param y_pred: 예측 값 (bs, n_seq, n_vocab)\n",
        "    \"\"\"\n",
        "    # loss 계산\n",
        "    loss = tf.keras.losses.SparseCategoricalCrossentropy(reduction=tf.keras.losses.Reduction.NONE)(y_true, y_pred)\n",
        "    # pad(0) 인 부분 mask\n",
        "    mask = tf.cast(tf.math.not_equal(y_true, 0), dtype=loss.dtype)\n",
        "    loss *= mask\n",
        "    return loss * 20  # mlm을 더 잘 학습하도록 20배 증가 시킴\n",
        "print(\"슝=3\")"
      ],
      "execution_count": null,
      "outputs": [
        {
          "output_type": "stream",
          "text": [
            "슝=3\n"
          ],
          "name": "stdout"
        }
      ]
    },
    {
      "cell_type": "code",
      "metadata": {
        "id": "1YmpmspAggDC"
      },
      "source": [
        "def lm_acc(y_true, y_pred):\n",
        "    \"\"\"\n",
        "    acc 계산 함수\n",
        "    :param y_true: 정답 (bs, n_seq)\n",
        "    :param y_pred: 예측 값 (bs, n_seq, n_vocab)\n",
        "    \"\"\"\n",
        "    # 정답 여부 확인\n",
        "    y_pred_class = tf.cast(K.argmax(y_pred, axis=-1), tf.float32)\n",
        "    matches = tf.cast(K.equal(y_true, y_pred_class), tf.float32)\n",
        "    # pad(0) 인 부분 mask\n",
        "    mask = tf.cast(tf.math.not_equal(y_true, 0), dtype=matches.dtype)\n",
        "    matches *= mask\n",
        "    # 정확도 계산\n",
        "    accuracy = K.sum(matches) / K.maximum(K.sum(mask), 1)\n",
        "    return accuracy\n"
      ],
      "execution_count": null,
      "outputs": []
    },
    {
      "cell_type": "markdown",
      "metadata": {
        "id": "KimPxDyXgkh3"
      },
      "source": [
        "Learning Rate 스케줄링도 아래와 같이 구현합니다. WarmUp 이후 consine 형태로 감소하는 스케줄을 적용합니다."
      ]
    },
    {
      "cell_type": "code",
      "metadata": {
        "id": "ta8qE76ygiLU"
      },
      "source": [
        "class CosineSchedule(tf.keras.optimizers.schedules.LearningRateSchedule):\n",
        "    \"\"\"\n",
        "    CosineSchedule Class\n",
        "    \"\"\"\n",
        "    def __init__(self, train_steps=4000, warmup_steps=2000, max_lr=2.5e-4):\n",
        "        \"\"\"\n",
        "        생성자\n",
        "        :param train_steps: 학습 step 총 합\n",
        "        :param warmup_steps: warmup steps\n",
        "        :param max_lr: 최대 learning rate\n",
        "        \"\"\"\n",
        "        super().__init__()\n",
        "\n",
        "        assert 0 < warmup_steps < train_steps\n",
        "        self.warmup_steps = warmup_steps\n",
        "        self.train_steps = train_steps\n",
        "        self.max_lr = max_lr\n",
        "\n",
        "    def __call__(self, step_num):\n",
        "        \"\"\"\n",
        "        learning rate 계산\n",
        "        :param step_num: 현재 step number\n",
        "        :retrun: 계산된 learning rate\n",
        "        \"\"\"\n",
        "        state = tf.cast(step_num <= self.warmup_steps, tf.float32)\n",
        "        lr1 = tf.cast(step_num, tf.float32) / self.warmup_steps\n",
        "        progress = tf.cast(step_num - self.warmup_steps, tf.float32) / max(1, self.train_steps - self.warmup_steps)\n",
        "        lr2 = 0.5 * (1.0 + tf.math.cos(math.pi * progress))\n",
        "        return (state * lr1 + (1 - state) * lr2) * self.max_lr\n"
      ],
      "execution_count": null,
      "outputs": []
    },
    {
      "cell_type": "code",
      "metadata": {
        "colab": {
          "base_uri": "https://localhost:8080/",
          "height": 279
        },
        "id": "F5MRdggbW-fa",
        "outputId": "8f540012-8eb4-476c-a117-6995f33fe33a"
      },
      "source": [
        "# compute lr \n",
        "test_schedule = CosineSchedule(train_steps=4000, warmup_steps=500)\n",
        "lrs = []\n",
        "for step_num in range(4000):\n",
        "    lrs.append(test_schedule(float(step_num)).numpy())\n",
        "\n",
        "# draw\n",
        "plt.plot(lrs, 'r-', label='learning_rate')\n",
        "plt.xlabel('Step')\n",
        "plt.show()"
      ],
      "execution_count": null,
      "outputs": [
        {
          "output_type": "display_data",
          "data": {
            "image/png": "[encoded data removed]",
            "text/plain": [
              "<Figure size 432x288 with 1 Axes>"
            ]
          },
          "metadata": {
            "tags": [],
            "needs_background": "light"
          }
        }
      ]
    },
    {
      "cell_type": "markdown",
      "metadata": {
        "id": "QlcvK87pXILy"
      },
      "source": [
        "이제 모델을 실제로 빌드해 봅시다."
      ]
    },
    {
      "cell_type": "code",
      "metadata": {
        "colab": {
          "base_uri": "https://localhost:8080/"
        },
        "id": "au1h_KpXW_LN",
        "outputId": "aad3180a-1f62-4342-82d7-e37838e8d4a3"
      },
      "source": [
        "# 모델 생성\n",
        "pre_train_model = build_model_pre_train(config)\n",
        "pre_train_model.summary()"
      ],
      "execution_count": null,
      "outputs": [
        {
          "output_type": "stream",
          "text": [
            "Model: \"model_1\"\n",
            "__________________________________________________________________________________________________\n",
            "Layer (type)                    Output Shape         Param #     Connected to                     \n",
            "==================================================================================================\n",
            "enc_tokens (InputLayer)         [(None, None)]       0                                            \n",
            "__________________________________________________________________________________________________\n",
            "segments (InputLayer)           [(None, None)]       0                                            \n",
            "__________________________________________________________________________________________________\n",
            "bert (BERT)                     ((None, 256), (None, 10629632    enc_tokens[0][0]                 \n",
            "                                                                 segments[0][0]                   \n",
            "__________________________________________________________________________________________________\n",
            "pooled_nsp (PooledOutput)       (None, 2)            66304       bert[0][0]                       \n",
            "__________________________________________________________________________________________________\n",
            "nsp (Softmax)                   (None, 2)            0           pooled_nsp[0][0]                 \n",
            "__________________________________________________________________________________________________\n",
            "mlm (Softmax)                   (None, None, 32007)  0           bert[0][1]                       \n",
            "==================================================================================================\n",
            "Total params: 10,695,936\n",
            "Trainable params: 10,695,936\n",
            "Non-trainable params: 0\n",
            "__________________________________________________________________________________________________\n"
          ],
          "name": "stdout"
        }
      ]
    },
    {
      "cell_type": "markdown",
      "metadata": {
        "id": "LqggZurYXMx1"
      },
      "source": [
        "이제 본격적으로 학습을 진행합니다. 1Epoch만 학습하는 데도 10분 이상의 상당한 시간이 소요될 것입니다. 그리고 메모리 오류가 날 수 있으니 배치 사이즈에도 유의해 주세요. 참고로 우리는 전체 데이터셋 중의 1/7 수준인 128000건만 로딩해서 사용 중이라는 것을 기억합시다."
      ]
    },
    {
      "cell_type": "code",
      "metadata": {
        "colab": {
          "base_uri": "https://localhost:8080/"
        },
        "id": "1zJQqxNHXLEJ",
        "outputId": "d7eeefa9-7ab3-4c1b-ac5a-89c1c8fe61d0"
      },
      "source": [
        "epochs = 3\n",
        "batch_size = 64\n",
        "\n",
        "# optimizer\n",
        "train_steps = math.ceil(len(pre_train_inputs[0]) / batch_size) * epochs\n",
        "print(\"train_steps:\", train_steps)\n",
        "learning_rate = CosineSchedule(train_steps=train_steps, warmup_steps=max(100, train_steps // 10))\n",
        "optimizer = tf.keras.optimizers.Adam(learning_rate, beta_1=0.9, beta_2=0.98, epsilon=1e-9)\n",
        "\n",
        "# compile\n",
        "pre_train_model.compile(loss=(tf.keras.losses.sparse_categorical_crossentropy, lm_loss), optimizer=optimizer, metrics={\"nsp\": \"acc\", \"mlm\": lm_acc})"
      ],
      "execution_count": null,
      "outputs": [
        {
          "output_type": "stream",
          "text": [
            "train_steps: 6000\n"
          ],
          "name": "stdout"
        }
      ]
    },
    {
      "cell_type": "code",
      "metadata": {
        "colab": {
          "base_uri": "https://localhost:8080/"
        },
        "id": "T_rZn1qZXO2k",
        "outputId": "77727ae4-f347-48fa-9181-6dc3a1444533"
      },
      "source": [
        "# save weights callback\n",
        "save_weights = tf.keras.callbacks.ModelCheckpoint(f\"{model_dir}/bert_pre_train.hdf5\", monitor=\"mlm_lm_acc\", verbose=1, save_best_only=True, mode=\"max\", save_freq=\"epoch\", save_weights_only=True)\n",
        "# train\n",
        "history = pre_train_model.fit(pre_train_inputs, pre_train_labels, epochs=epochs, batch_size=batch_size, callbacks=[save_weights])"
      ],
      "execution_count": null,
      "outputs": [
        {
          "output_type": "stream",
          "text": [
            "Epoch 1/3\n",
            "2000/2000 [==============================] - 447s 222ms/step - loss: 22.7849 - nsp_loss: 0.6579 - mlm_loss: 22.1270 - nsp_acc: 0.5843 - mlm_lm_acc: 0.0883\n",
            "\n",
            "Epoch 00001: mlm_lm_acc improved from -inf to 0.09698, saving model to /content/drive/MyDrive/DL_Study/AIFFEL/19_Bert//models/bert_pre_train.hdf5\n",
            "Epoch 2/3\n",
            "2000/2000 [==============================] - 444s 222ms/step - loss: 19.3610 - nsp_loss: 0.6121 - mlm_loss: 18.7490 - nsp_acc: 0.6496 - mlm_lm_acc: 0.1255\n",
            "\n",
            "Epoch 00002: mlm_lm_acc improved from 0.09698 to 0.12765, saving model to /content/drive/MyDrive/DL_Study/AIFFEL/19_Bert//models/bert_pre_train.hdf5\n",
            "Epoch 3/3\n",
            "2000/2000 [==============================] - 444s 222ms/step - loss: 18.6047 - nsp_loss: 0.5693 - mlm_loss: 18.0354 - nsp_acc: 0.7158 - mlm_lm_acc: 0.1366\n",
            "\n",
            "Epoch 00003: mlm_lm_acc improved from 0.12765 to 0.13647, saving model to /content/drive/MyDrive/DL_Study/AIFFEL/19_Bert//models/bert_pre_train.hdf5\n"
          ],
          "name": "stdout"
        }
      ]
    },
    {
      "cell_type": "code",
      "metadata": {
        "colab": {
          "base_uri": "https://localhost:8080/",
          "height": 279
        },
        "id": "owM_U0qBXR4h",
        "outputId": "5ad8ffc8-843b-49f3-a0ca-58053c31a933"
      },
      "source": [
        "# training result\n",
        "plt.figure(figsize=(12, 4))\n",
        "\n",
        "plt.subplot(1, 2, 1)\n",
        "plt.plot(history.history['nsp_loss'], 'b-', label='nsp_loss')\n",
        "plt.plot(history.history['mlm_loss'], 'r--', label='mlm_loss')\n",
        "plt.xlabel('Epoch')\n",
        "plt.legend()\n",
        "\n",
        "plt.subplot(1, 2, 2)\n",
        "plt.plot(history.history['nsp_acc'], 'g-', label='nsp_acc')\n",
        "plt.plot(history.history['mlm_lm_acc'], 'k--', label='mlm_acc')\n",
        "plt.xlabel('Epoch')\n",
        "plt.legend()\n",
        "\n",
        "plt.show()"
      ],
      "execution_count": null,
      "outputs": [
        {
          "output_type": "display_data",
          "data": {
            "image/png": "[encoded data removed]",
            "text/plain": [
              "<Figure size 864x288 with 2 Axes>"
            ]
          },
          "metadata": {
            "tags": [],
            "needs_background": "light"
          }
        }
      ]
    },
    {
      "cell_type": "markdown",
      "metadata": {
        "id": "ER3lQIHQXdIq"
      },
      "source": [
        "#16-8. 프로젝트 : mini BERT 만들기\n",
        "지금까지 BERT 모델을 pretrain하는 험난한 여정을 잘 따라오셨나요?\n",
        "\n",
        "이번 프로젝트의 과제는 간단합니다.\n",
        "\n",
        "vocab size를 8000으로 줄이고, 전체 파라미터 사이즈가 1M 정도가 되는 아주 작은 mini BERT 모델을 만들어 10Epoch까지 학습시킨 모델을 만들어 보는 것입니다.\n",
        "\n",
        "그래서 학습 진행 결과를 시각화하여 제출해 주세요. 수고 많으셨습니다.\n",
        "\n",
        "1. Tokenizer 준비\n",
        "2. 데이터 전처리 (1) MASK 생성\n",
        "3. 데이터 전처리 (2) NSP pair 생성\n",
        "4. 데이터 전처리 (3) 데이터셋 완성\n",
        "5. BERT 모델 구현\n",
        "6. pretrain 진행\n",
        "7. 프로젝트 결과"
      ]
    },
    {
      "cell_type": "code",
      "metadata": {
        "id": "ydjyY6T4XWG1"
      },
      "source": [
        ""
      ],
      "execution_count": null,
      "outputs": []
    }
  ]
}