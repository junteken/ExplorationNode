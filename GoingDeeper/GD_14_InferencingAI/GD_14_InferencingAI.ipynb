{
  "nbformat": 4,
  "nbformat_minor": 0,
  "metadata": {
    "colab": {
      "name": "GD_14_InferencingAI.ipynb",
      "provenance": [],
      "collapsed_sections": []
    },
    "kernelspec": {
      "name": "python3",
      "display_name": "Python 3"
    },
    "language_info": {
      "name": "python"
    },
    "accelerator": "GPU"
  },
  "cells": [
    {
      "cell_type": "markdown",
      "metadata": {
        "id": "_XREHLwgDrBj"
      },
      "source": [
        "#14-1. 들어가며\n",
        "지난 시간에는 bAbI 태스크의 특징 및 이런 추론 태스크 수행에 적합한 메모리 네트워크의 개념에 대해 알아보았습니다.\n",
        "\n",
        "오늘은 메모리 네트워크의 가장 기본적 베이스라인으로 여겨지고 있는 End-to-End Memory Network를 구현해 보고, 이를 이용해서 bAbI 태스크를 직접 수행해 보도록 하겠습니다.\n",
        "\n",
        "-------------------------\n",
        "\n",
        "학습 목표\n",
        "\n",
        "1. 두 개 이상의 입력을 받는 모델을 설계해본다.\n",
        "\n",
        "2. 메모리 구조를 사용하는 메모리 네트워크에 대해서 이해한다.\n"
      ]
    },
    {
      "cell_type": "markdown",
      "metadata": {
        "id": "xpnlSYtOD6bW"
      },
      "source": [
        "# 14-2. 데이터 로드하기\n",
        "bAbI 데이터셋을 로드해 보겠습니다. 우선 필요한 도구들을 임포트합니다."
      ]
    },
    {
      "cell_type": "code",
      "metadata": {
        "id": "36QQUplQDceq"
      },
      "source": [
        "from tensorflow.keras.utils import get_file\n",
        "from tensorflow.keras.preprocessing.sequence import pad_sequences\n",
        "from tensorflow.keras.utils import to_categorical\n",
        "import numpy as np\n",
        "import tarfile\n",
        "from nltk import FreqDist\n",
        "from functools import reduce\n",
        "import os\n",
        "import re"
      ],
      "execution_count": 1,
      "outputs": []
    },
    {
      "cell_type": "markdown",
      "metadata": {
        "id": "6lwxaxkxD_xZ"
      },
      "source": [
        "tf.keras의 get_file()을 통해 파일을 다운로드합니다.\n",
        "\n"
      ]
    },
    {
      "cell_type": "code",
      "metadata": {
        "colab": {
          "base_uri": "https://localhost:8080/"
        },
        "id": "Mwy4QZuND-FT",
        "outputId": "1b62cb4f-ebb1-4645-bc59-e5cfcf15299b"
      },
      "source": [
        "# 환경에 맞게 경로 수정\n",
        "home_dir = '/content/drive/MyDrive/DL_Study/AIFFEL/GoingDeeper/GD_14_InferencingAI'\n",
        "file_to_save = home_dir + '/babi-tasks-v1-2.tar.gz'\n",
        "path = get_file(file_to_save, origin='https://s3.amazonaws.com/text-datasets/babi_tasks_1-20_v1-2.tar.gz')\n",
        "print(path)"
      ],
      "execution_count": 2,
      "outputs": [
        {
          "output_type": "stream",
          "text": [
            "/content/drive/MyDrive/DL_Study/AIFFEL/GoingDeeper/GD_14_InferencingAI/babi-tasks-v1-2.tar.gz\n"
          ],
          "name": "stdout"
        }
      ]
    },
    {
      "cell_type": "markdown",
      "metadata": {
        "id": "HfDR5zU6EjYs"
      },
      "source": [
        "압축 파일이기 때문에 압축을 풀어줄 필요가 있습니다.\n",
        "\n"
      ]
    },
    {
      "cell_type": "code",
      "metadata": {
        "id": "ykjzY7KjEc04"
      },
      "source": [
        "with tarfile.open(path) as tar:\n",
        "    tar.extractall(home_dir)  # ~/aiffel/babi_memory_net 아래에 압축해제\n",
        "    tar.close()"
      ],
      "execution_count": 3,
      "outputs": []
    },
    {
      "cell_type": "markdown",
      "metadata": {
        "id": "L-osN6TcEov1"
      },
      "source": [
        "훈련 데이터의 경로와 테스트 데이터의 경로를 지정해줍니다.\n",
        "\n"
      ]
    },
    {
      "cell_type": "code",
      "metadata": {
        "id": "iSVhOxDOEmat"
      },
      "source": [
        "# 환경에 맞게 경로 적절히 수정\n",
        "DATA_DIR = home_dir + '/tasks_1-20_v1-2/en-10k'\n",
        "TRAIN_FILE = os.path.join(DATA_DIR, \"qa1_single-supporting-fact_train.txt\")\n",
        "TEST_FILE = os.path.join(DATA_DIR, \"qa1_single-supporting-fact_test.txt\")"
      ],
      "execution_count": 4,
      "outputs": []
    },
    {
      "cell_type": "code",
      "metadata": {
        "colab": {
          "base_uri": "https://localhost:8080/"
        },
        "id": "MsJl86jVErwG",
        "outputId": "2a8e10d9-3a37-48ef-dc90-d2fc7d6ed32c"
      },
      "source": [
        "i = 0\n",
        "lines = open(TRAIN_FILE , \"rb\")\n",
        "for line in lines:\n",
        "    line = line.decode(\"utf-8\").strip()\n",
        "    # lno, text = line.split(\" \", 1) # ID와 TEXT 분리\n",
        "    i = i + 1\n",
        "    print(line)\n",
        "    if i == 20:\n",
        "        break"
      ],
      "execution_count": 5,
      "outputs": [
        {
          "output_type": "stream",
          "text": [
            "1 Mary moved to the bathroom.\n",
            "2 John went to the hallway.\n",
            "3 Where is Mary? \tbathroom\t1\n",
            "4 Daniel went back to the hallway.\n",
            "5 Sandra moved to the garden.\n",
            "6 Where is Daniel? \thallway\t4\n",
            "7 John moved to the office.\n",
            "8 Sandra journeyed to the bathroom.\n",
            "9 Where is Daniel? \thallway\t4\n",
            "10 Mary moved to the hallway.\n",
            "11 Daniel travelled to the office.\n",
            "12 Where is Daniel? \toffice\t11\n",
            "13 John went back to the garden.\n",
            "14 John moved to the bedroom.\n",
            "15 Where is Sandra? \tbathroom\t8\n",
            "1 Sandra travelled to the office.\n",
            "2 Sandra went to the bathroom.\n",
            "3 Where is Sandra? \tbathroom\t2\n",
            "4 Mary went to the bedroom.\n",
            "5 Daniel moved to the hallway.\n"
          ],
          "name": "stdout"
        }
      ]
    },
    {
      "cell_type": "markdown",
      "metadata": {
        "id": "7ASwAftwEw4F"
      },
      "source": [
        "앞서 설명한 데이터셋의 형태를 따르는 것을 확인할 수 있습니다."
      ]
    },
    {
      "cell_type": "markdown",
      "metadata": {
        "id": "P_w8I5lqEzx5"
      },
      "source": [
        "#14-3. 데이터 전처리 (1) 기본 전처리\n",
        "이제 데이터 전처리를 진행합니다. 우선, 첫 번째 전처리는 데이터를 읽는 과정에서 스토리, 질문, 답변을 각각 분리해서 저장합니다. 그리고 이 과정에서 supporting fact(실제 정답이 몇번째 문장에 있었는지를 알려주는 인덱스 힌트정보)는 저장하지 않습니다.\n",
        "\n"
      ]
    },
    {
      "cell_type": "code",
      "metadata": {
        "id": "InipTAJYEtkH"
      },
      "source": [
        "def read_data(dir):\n",
        "    stories, questions, answers = [], [], [] # 각각 스토리, 질문, 답변을 저장할 예정\n",
        "    story_temp = [] # 현재 시점의 스토리 임시 저장\n",
        "    lines = open(dir, \"rb\")\n",
        "\n",
        "    for line in lines:\n",
        "        line = line.decode(\"utf-8\") # b' 제거\n",
        "        line = line.strip() # '\\n' 제거\n",
        "        idx, text = line.split(\" \", 1) # 맨 앞에 있는 id number 분리\n",
        "        # 여기까지는 모든 줄에 적용되는 전처리\n",
        "\n",
        "        if int(idx) == 1:\n",
        "            story_temp = []\n",
        "        \n",
        "        if \"\\t\" in text: # 현재 읽는 줄이 질문 (tab) 답변 (tab)인 경우\n",
        "            question, answer, _ = text.split(\"\\t\") # 질문과 답변을 각각 저장\n",
        "            stories.append([x for x in story_temp if x]) # 지금까지의 누적 스토리를 스토리에 저장\n",
        "            questions.append(question)\n",
        "            answers.append(answer)\n",
        "\n",
        "        else: # 현재 읽는 줄이 스토리인 경우\n",
        "            story_temp.append(text) # 임시 저장\n",
        "\n",
        "    lines.close()\n",
        "    return stories, questions, answers"
      ],
      "execution_count": 6,
      "outputs": []
    },
    {
      "cell_type": "markdown",
      "metadata": {
        "id": "mKyRetT7E-Fm"
      },
      "source": [
        "read_data()를 통해 스토리, 질문, 답변의 쌍을 리턴하여 훈련 데이터는 train_data()에, 테스트 데이터는 test_data()에 저장합니다. 이 두 데이터를 가지고 추가적인 전처리를 진행할 예정입니다.\n",
        "\n"
      ]
    },
    {
      "cell_type": "code",
      "metadata": {
        "id": "vZwMWhYrE2Sa"
      },
      "source": [
        "train_data = read_data(TRAIN_FILE)\n",
        "test_data = read_data(TEST_FILE)"
      ],
      "execution_count": 7,
      "outputs": []
    },
    {
      "cell_type": "markdown",
      "metadata": {
        "id": "z6Ot051XFCZx"
      },
      "source": [
        "그런데 이렇게 저장하면 전처리가 정말 잘 되어있는지 확인하기 어렵겠죠? 그래서 스토리, 질문, 답변을 각각 저장하고 직접 출력해 보겠습니다."
      ]
    },
    {
      "cell_type": "code",
      "metadata": {
        "id": "XN0Sd3D7E_6y"
      },
      "source": [
        "train_stories, train_questions, train_answers = read_data(TRAIN_FILE)\n",
        "test_stories, test_questions, test_answers = read_data(TEST_FILE)"
      ],
      "execution_count": null,
      "outputs": []
    },
    {
      "cell_type": "markdown",
      "metadata": {
        "id": "SlZ5D8bCFJL5"
      },
      "source": [
        "각각의 샘플 개수를 출력해 보겠습니다.\n",
        "\n"
      ]
    },
    {
      "cell_type": "code",
      "metadata": {
        "colab": {
          "base_uri": "https://localhost:8080/"
        },
        "id": "XUztp46bFHs-",
        "outputId": "00748b52-a3a2-4f5e-d296-b91cbd7d8bc5"
      },
      "source": [
        "print(\"train 스토리 개수:\", len(train_stories))\n",
        "print(\"train 질문 개수:\", len(train_questions))\n",
        "print(\"train 답변 개수:\", len(train_answers))\n",
        "print(\"test 스토리 개수:\", len(test_stories))\n",
        "print(\"test 질문 개수:\", len(test_questions))\n",
        "print(\"test 답변 개수:\", len(test_answers))"
      ],
      "execution_count": null,
      "outputs": [
        {
          "output_type": "stream",
          "text": [
            "train 스토리 개수: 10000\n",
            "train 질문 개수: 10000\n",
            "train 답변 개수: 10000\n",
            "test 스토리 개수: 1000\n",
            "test 질문 개수: 1000\n",
            "test 답변 개수: 1000\n"
          ],
          "name": "stdout"
        }
      ]
    },
    {
      "cell_type": "markdown",
      "metadata": {
        "id": "gTS8p699FNkz"
      },
      "source": [
        "훈련 데이터는 10,000개 테스트 데이터는 1,000개임을 볼 수 있습니다.\n",
        "\n",
        "임의로 3,879번째 스토리를 출력해봅시다.\n",
        "\n"
      ]
    },
    {
      "cell_type": "code",
      "metadata": {
        "colab": {
          "base_uri": "https://localhost:8080/"
        },
        "id": "MZ9SXkEqFKic",
        "outputId": "ecc7ded1-15c7-429c-d62d-1d26001728eb"
      },
      "source": [
        "train_stories[3878]"
      ],
      "execution_count": null,
      "outputs": [
        {
          "output_type": "execute_result",
          "data": {
            "text/plain": [
              "['Daniel journeyed to the bathroom.',\n",
              " 'Sandra moved to the office.',\n",
              " 'John went to the kitchen.',\n",
              " 'Sandra moved to the bathroom.',\n",
              " 'Daniel moved to the hallway.',\n",
              " 'Mary travelled to the kitchen.',\n",
              " 'Daniel went to the kitchen.',\n",
              " 'Daniel travelled to the bathroom.']"
            ]
          },
          "metadata": {
            "tags": []
          },
          "execution_count": 12
        }
      ]
    },
    {
      "cell_type": "markdown",
      "metadata": {
        "id": "L8JUkr54FTD0"
      },
      "source": [
        "상위 5개의 답변을 출력합니다.\n",
        "\n"
      ]
    },
    {
      "cell_type": "code",
      "metadata": {
        "colab": {
          "base_uri": "https://localhost:8080/"
        },
        "id": "A6UgzGivFPJL",
        "outputId": "c8614982-183f-4923-d249-c704fa6fe7da"
      },
      "source": [
        "train_questions[:5]"
      ],
      "execution_count": null,
      "outputs": [
        {
          "output_type": "execute_result",
          "data": {
            "text/plain": [
              "['Where is Mary? ',\n",
              " 'Where is Daniel? ',\n",
              " 'Where is Daniel? ',\n",
              " 'Where is Daniel? ',\n",
              " 'Where is Sandra? ']"
            ]
          },
          "metadata": {
            "tags": []
          },
          "execution_count": 13
        }
      ]
    },
    {
      "cell_type": "markdown",
      "metadata": {
        "id": "O9fJUNr6FThQ"
      },
      "source": [
        "토큰화를 위한 함수를 만듭니다. 이 함수는 아래의 전처리 함수에서 호출할 예정입니다.\n",
        "\n",
        "아래 함수는 사용하시는 파이썬 버전에 따라 다르게 주석을 해제해서 사용하시면 됩니다. [다음 이슈](https://github.com/keras-team/keras/issues/13248)를 참고하세요."
      ]
    },
    {
      "cell_type": "code",
      "metadata": {
        "id": "59TprWmUFQun"
      },
      "source": [
        "def tokenize(sent):\n",
        "    return [ x.strip() for x in re.sub(r\"\\s+|\\b\", '\\f', sent).split('\\f') if x.strip() ] # python 3.7의 경우 \n",
        "    # return [ x.strip() for x in re.split('(\\W+)?', sent) if x.strip()] # python 3.6의 경우"
      ],
      "execution_count": null,
      "outputs": []
    },
    {
      "cell_type": "markdown",
      "metadata": {
        "id": "5_z5q4L4FicP"
      },
      "source": [
        "이번 주요 전처리 작업은 단어장을 생성하고, 단어에서 정수로, 정수에서 단어로 맵핑하는 딕셔너리(dictionary)를 만드는 것입니다. 그리고 그 과정에서 스토리와 질문의 가장 긴 길이를 구하겠습니다. 이 길이는 패딩에 이용됩니다.\n",
        "\n",
        "한 가지 특이한 과정이 있습니다. 위처럼 전처리를 하면서 같은 스토리 내의 여러 문장들 하나의 문장으로 통합할 겁니다. 가령, 앞서 3,879번째 스토리는 8개의 문장으로 구성되어 있으나 전처리 과정에서 8개의 문장을 모두 이어 붙여서 1개의 문장으로 통합합니다."
      ]
    },
    {
      "cell_type": "code",
      "metadata": {
        "id": "W0W3-hqFFgOq"
      },
      "source": [
        "def preprocess_data(train_data, test_data):\n",
        "    counter = FreqDist()\n",
        "    \n",
        "    # 두 문장의 story를 하나의 문장으로 통합하는 함수\n",
        "    flatten = lambda data: reduce(lambda x, y: x + y, data)\n",
        "\n",
        "    # 각 샘플의 길이를 저장하는 리스트\n",
        "    story_len = []\n",
        "    question_len = []\n",
        "    \n",
        "    for stories, questions, answers in [train_data, test_data]:\n",
        "        for story in stories:\n",
        "            stories = tokenize(flatten(story)) # 스토리의 문장들을 펼친 후 토큰화\n",
        "            story_len.append(len(stories)) # 각 story의 길이 저장\n",
        "            for word in stories: # 단어 집합에 단어 추가\n",
        "                counter[word] += 1\n",
        "        for question in questions:\n",
        "            question = tokenize(question)\n",
        "            question_len.append(len(question))\n",
        "            for word in question:\n",
        "                counter[word] += 1\n",
        "        for answer in answers:\n",
        "            answer = tokenize(answer)\n",
        "            for word in answer:\n",
        "                counter[word] += 1\n",
        "\n",
        "    # 단어장 생성\n",
        "    word2idx = {word : (idx + 1) for idx, (word, _) in enumerate(counter.most_common())}\n",
        "    idx2word = {idx : word for word, idx in word2idx.items()}\n",
        "\n",
        "    # 가장 긴 샘플의 길이\n",
        "    story_max_len = np.max(story_len)\n",
        "    question_max_len = np.max(question_len)\n",
        "\n",
        "    return word2idx, idx2word, story_max_len, question_max_len"
      ],
      "execution_count": null,
      "outputs": []
    },
    {
      "cell_type": "markdown",
      "metadata": {
        "id": "5dxed-O6FmvI"
      },
      "source": [
        "이제 전처리 함수를 사용하여 단어장과 가장 긴 샘플의 길이를 리턴 받습니다.\n",
        "\n"
      ]
    },
    {
      "cell_type": "code",
      "metadata": {
        "id": "1jc-HkVaFk01"
      },
      "source": [
        "word2idx, idx2word, story_max_len, question_max_len = preprocess_data(train_data, test_data)"
      ],
      "execution_count": null,
      "outputs": []
    },
    {
      "cell_type": "markdown",
      "metadata": {
        "id": "gvFBEl1KFyH7"
      },
      "source": [
        "단어장을 출력해보겠습니다.\n",
        "\n"
      ]
    },
    {
      "cell_type": "code",
      "metadata": {
        "colab": {
          "base_uri": "https://localhost:8080/"
        },
        "id": "c_EvjTYNFoHi",
        "outputId": "01cf8bb2-203f-4ac3-f321-733bc98d8774"
      },
      "source": [
        "print(word2idx)"
      ],
      "execution_count": null,
      "outputs": [
        {
          "output_type": "stream",
          "text": [
            "{'to': 1, 'the': 2, '.': 3, 'went': 4, 'Sandra': 5, 'John': 6, 'Daniel': 7, 'Mary': 8, 'travelled': 9, 'journeyed': 10, 'back': 11, 'bathroom': 12, 'garden': 13, 'hallway': 14, 'moved': 15, 'office': 16, 'kitchen': 17, 'bedroom': 18, 'Where': 19, 'is': 20, '?': 21}\n"
          ],
          "name": "stdout"
        }
      ]
    },
    {
      "cell_type": "markdown",
      "metadata": {
        "id": "_z2tHmz3FzV7"
      },
      "source": [
        "실제 변수로 사용할 단어장의 크기는 패딩을 고려하여 +1 을 해주어야 합니다.\n",
        "\n"
      ]
    },
    {
      "cell_type": "code",
      "metadata": {
        "id": "yJlI3o54F3Iq"
      },
      "source": [
        "vocab_size = len(word2idx) + 1"
      ],
      "execution_count": null,
      "outputs": []
    },
    {
      "cell_type": "markdown",
      "metadata": {
        "id": "bCx-LU6YFx6t"
      },
      "source": [
        "\n",
        "전처리 함수를 통해서 구한 스토리와 질문의 최대 길이를 각각 출력해 보겠습니다.\n",
        "\n"
      ]
    },
    {
      "cell_type": "code",
      "metadata": {
        "colab": {
          "base_uri": "https://localhost:8080/"
        },
        "id": "MR7ovX2kF7qy",
        "outputId": "08fd7e5e-91ac-4655-94cf-02b7fe974b8e"
      },
      "source": [
        "print('스토리의 최대 길이 :',story_max_len)\n",
        "print('질문의 최대 길이 :',question_max_len)"
      ],
      "execution_count": null,
      "outputs": [
        {
          "output_type": "stream",
          "text": [
            "스토리의 최대 길이 : 68\n",
            "질문의 최대 길이 : 4\n"
          ],
          "name": "stdout"
        }
      ]
    },
    {
      "cell_type": "markdown",
      "metadata": {
        "id": "sVjMqKV7F-h5"
      },
      "source": [
        "스토리의 최대 길이는 68입니다. 이는 스토리 내에 있는 여러 개 문장들을 하나의 문장으로 간주하였을 때, 최대 단어의 개수라고 보면 됩니다. 질문의 최대 길이는 4입니다. bAbI 데이터셋에는 대체로 'Where is Mary?'와 같은 매우 짧은 길이의 질문들만 존재한다는 의미입니다."
      ]
    },
    {
      "cell_type": "markdown",
      "metadata": {
        "id": "vRa3tjrvGE7c"
      },
      "source": [
        "#14-4. 데이터 전처리 (2) 패딩, 정수 인코딩, 벡터화\n",
        "\n",
        "위에서 최대 길이를 구해놓은 이유는 패딩을 위함입니다.\n",
        "\n",
        "이제 남은 전처리는 크게 세 가지입니다.\n",
        "\n",
        "현재 각 데이터는 전부 텍스트 데이터입니다. 이를 단어와 맵핑되는 정수로 인코딩해줍니다. 이 과정은 앞서 만들어놓은 word2idx를 활용합니다.\n",
        "스토리와 질문 데이터에 대해서 각각의 최대 길이로 패딩(padding)합니다. 이 과정은 앞서 계산해놓은 story_max_len과 question_max_len을 사용합니다.\n",
        "레이블에 해당되는 정답 데이터를 원-핫 인코딩합니다.\n",
        "아래의 vectorize() 함수는 위 세 가지 과정을 수행합니다."
      ]
    },
    {
      "cell_type": "code",
      "metadata": {
        "id": "km0XpiY_F817"
      },
      "source": [
        "def vectorize(data, word2idx, story_maxlen, question_maxlen):\n",
        "    Xs, Xq, Y = [], [], []\n",
        "    flatten = lambda data: reduce(lambda x, y: x + y, data)\n",
        "\n",
        "    stories, questions, answers = data\n",
        "    for story, question, answer in zip(stories, questions, answers):\n",
        "        xs = [word2idx[w] for w in tokenize(flatten(story))]\n",
        "        xq = [word2idx[w] for w in tokenize(question)]\n",
        "        Xs.append(xs)\n",
        "        Xq.append(xq)\n",
        "        Y.append(word2idx[answer])\n",
        "\n",
        "    # 스토리와 질문은 각각의 최대 길이로 패딩\n",
        "    # 정답은 원-핫 인코딩\n",
        "    return pad_sequences(Xs, maxlen=story_maxlen),\\\n",
        "           pad_sequences(Xq, maxlen=question_maxlen),\\\n",
        "           to_categorical(Y, num_classes=len(word2idx) + 1)"
      ],
      "execution_count": null,
      "outputs": []
    },
    {
      "cell_type": "markdown",
      "metadata": {
        "id": "Eg8Y8g9UGMP5"
      },
      "source": [
        "훈련 데이터와 테스트 데이터에 대해서 함수를 호출하여 이를 수행합니다.\n",
        "\n"
      ]
    },
    {
      "cell_type": "code",
      "metadata": {
        "id": "7ZsyRRX_GKeO"
      },
      "source": [
        "Xstrain, Xqtrain, Ytrain = vectorize(train_data, word2idx, story_max_len, question_max_len)\n",
        "Xstest, Xqtest, Ytest = vectorize(test_data, word2idx, story_max_len, question_max_len)"
      ],
      "execution_count": null,
      "outputs": []
    },
    {
      "cell_type": "markdown",
      "metadata": {
        "id": "yQ8zV4xgGPlT"
      },
      "source": [
        "반환된 결과의 크기(shape)를 확인해 봅시다.\n",
        "\n"
      ]
    },
    {
      "cell_type": "code",
      "metadata": {
        "colab": {
          "base_uri": "https://localhost:8080/"
        },
        "id": "G4_BCDQxGNxm",
        "outputId": "6343724d-75f2-454b-fbbc-cbbdc6d1a31b"
      },
      "source": [
        "print(Xstrain.shape, Xqtrain.shape, Ytrain.shape, Xstest.shape, Xqtest.shape, Ytest.shape)"
      ],
      "execution_count": null,
      "outputs": [
        {
          "output_type": "stream",
          "text": [
            "(10000, 68) (10000, 4) (10000, 22) (1000, 68) (1000, 4) (1000, 22)\n"
          ],
          "name": "stdout"
        }
      ]
    },
    {
      "cell_type": "markdown",
      "metadata": {
        "id": "8H9hPjrsGT_m"
      },
      "source": [
        "#14-5. 메모리 네트워크 구현하기\n",
        "\n",
        "모델 구현을 위한 도구들을 임포트합니다."
      ]
    },
    {
      "cell_type": "code",
      "metadata": {
        "id": "5-MQKPUGGRJZ"
      },
      "source": [
        "from tensorflow.keras.models import Sequential, Model\n",
        "from tensorflow.keras.layers import Embedding\n",
        "from tensorflow.keras.layers import Permute, dot, add, concatenate\n",
        "from tensorflow.keras.layers import LSTM, Dense, Dropout, Input, Activation\n",
        "import matplotlib.pyplot as plt"
      ],
      "execution_count": null,
      "outputs": []
    },
    {
      "cell_type": "markdown",
      "metadata": {
        "id": "lNWp7XXfGaPr"
      },
      "source": [
        "우선 주요 하이퍼파라미터를 정의합니다.\n",
        "\n"
      ]
    },
    {
      "cell_type": "code",
      "metadata": {
        "id": "vQOVquBGGZC4"
      },
      "source": [
        "# 에포크 횟수\n",
        "train_epochs = 120\n",
        "# 배치 크기\n",
        "batch_size = 32\n",
        "# 임베딩 크기\n",
        "embed_size = 50\n",
        "# LSTM의 크기\n",
        "lstm_size = 64\n",
        "# 과적합 방지 기법인 드롭아웃 적용 비율\n",
        "dropout_rate = 0.30"
      ],
      "execution_count": null,
      "outputs": []
    },
    {
      "cell_type": "markdown",
      "metadata": {
        "id": "0u7vSee7Gdro"
      },
      "source": [
        "입력을 담아두는 변수들을 정의합니다.\n",
        "\n"
      ]
    },
    {
      "cell_type": "code",
      "metadata": {
        "colab": {
          "base_uri": "https://localhost:8080/"
        },
        "id": "ofYIGZNGGbqi",
        "outputId": "81927c7c-dc92-4a4c-d1a4-ed8b729e990d"
      },
      "source": [
        "input_sequence = Input((story_max_len,))\n",
        "question = Input((question_max_len,))\n",
        " \n",
        "print('Stories :', input_sequence)\n",
        "print('Question:', question)"
      ],
      "execution_count": null,
      "outputs": [
        {
          "output_type": "stream",
          "text": [
            "Stories : KerasTensor(type_spec=TensorSpec(shape=(None, 68), dtype=tf.float32, name='input_1'), name='input_1', description=\"created by layer 'input_1'\")\n",
            "Question: KerasTensor(type_spec=TensorSpec(shape=(None, 4), dtype=tf.float32, name='input_2'), name='input_2', description=\"created by layer 'input_2'\")\n"
          ],
          "name": "stdout"
        }
      ]
    },
    {
      "cell_type": "markdown",
      "metadata": {
        "id": "YYxxV2SSGhWy"
      },
      "source": [
        "이제 본격적으로 메모리 네트워크 모델을 구현해 봅시다. 구현할 End-to-end Memory Network 모델의 구조는 이전 노드에서 이미 다룬 바 있습니다. 먼저 아래 그림과 같이 텍스트 입력을 임베딩으로 변환하는 인코더를 구현해 보겠습니다.\n",
        "\n",
        "![image.png](data:image/png;base64,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)"
      ]
    },
    {
      "cell_type": "code",
      "metadata": {
        "id": "kP80gYw_Gfbs"
      },
      "source": [
        "# 스토리를 위한 첫 번째 임베딩. 그림에서의 Embedding A\n",
        "input_encoder_m = Sequential()\n",
        "input_encoder_m.add(Embedding(input_dim=vocab_size,\n",
        "                              output_dim=embed_size))\n",
        "input_encoder_m.add(Dropout(dropout_rate))\n",
        "# 결과 : (samples, story_max_len, embed_size) / 샘플의 수, 문장의 최대 길이, 임베딩 벡터의 차원\n",
        " \n",
        "# 스토리를 위한 두 번째 임베딩. 그림에서의 Embedding C\n",
        "# 임베딩 벡터의 차원을 question_max_len(질문의 최대 길이)로 한다.\n",
        "input_encoder_c = Sequential()\n",
        "input_encoder_c.add(Embedding(input_dim=vocab_size,\n",
        "                              output_dim=question_max_len))\n",
        "input_encoder_c.add(Dropout(dropout_rate))\n",
        "# 결과 : (samples, story_max_len, question_max_len) / 샘플의 수, 문장의 최대 길이, 질문의 최대 길이(임베딩 벡터의 차원)"
      ],
      "execution_count": null,
      "outputs": []
    },
    {
      "cell_type": "code",
      "metadata": {
        "id": "aX9aQdAZGkkA"
      },
      "source": [
        "# 질문을 위한 임베딩. 그림에서의 Embedding B\n",
        "question_encoder = Sequential()\n",
        "question_encoder.add(Embedding(input_dim=vocab_size,\n",
        "                               output_dim=embed_size,\n",
        "                               input_length=question_max_len))\n",
        "question_encoder.add(Dropout(dropout_rate))\n",
        "# 결과 : (samples, question_max_len, embed_size) / 샘플의 수, 질문의 최대 길이, 임베딩 벡터의 차원"
      ],
      "execution_count": null,
      "outputs": []
    },
    {
      "cell_type": "markdown",
      "metadata": {
        "id": "iSh1IytiGoAV"
      },
      "source": [
        "구현된 인코더를 이용해 텍스트를 임베딩으로 변환해 봅시다.\n",
        "\n"
      ]
    },
    {
      "cell_type": "code",
      "metadata": {
        "colab": {
          "base_uri": "https://localhost:8080/"
        },
        "id": "Dy_uopvfGmQP",
        "outputId": "52f1fc97-2fde-42e1-de2c-c42e6f8a769a"
      },
      "source": [
        "# 실질적인 임베딩 과정\n",
        "input_encoded_m = input_encoder_m(input_sequence)\n",
        "input_encoded_c = input_encoder_c(input_sequence)\n",
        "question_encoded = question_encoder(question)\n",
        "\n",
        "print('Input encoded m', input_encoded_m, '\\n')\n",
        "print('Input encoded c', input_encoded_c, '\\n')\n",
        "print('Question encoded', question_encoded, '\\n')"
      ],
      "execution_count": null,
      "outputs": [
        {
          "output_type": "stream",
          "text": [
            "Input encoded m KerasTensor(type_spec=TensorSpec(shape=(None, 68, 50), dtype=tf.float32, name=None), name='sequential/dropout/Identity:0', description=\"created by layer 'sequential'\") \n",
            "\n",
            "Input encoded c KerasTensor(type_spec=TensorSpec(shape=(None, 68, 4), dtype=tf.float32, name=None), name='sequential_1/dropout_1/Identity:0', description=\"created by layer 'sequential_1'\") \n",
            "\n",
            "Question encoded KerasTensor(type_spec=TensorSpec(shape=(None, 4, 50), dtype=tf.float32, name=None), name='sequential_2/dropout_2/Identity:0', description=\"created by layer 'sequential_2'\") \n",
            "\n"
          ],
          "name": "stdout"
        }
      ]
    },
    {
      "cell_type": "markdown",
      "metadata": {
        "id": "jCP38l_JGsyX"
      },
      "source": [
        "이제 구현해야 할 것은 스토리 문장과 질문 문장의 매칭 유사도 계산 과정입니다. 아래 그림은 이전 노드에서 보았던 soft attention 방식의 유사도 구하기를 표현한 것입니다.\n",
        "\n",
        "![image.png](data:image/png;base64,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)\n",
        "\n",
        "$$p = Softmax(dot(m,u))$$"
      ]
    },
    {
      "cell_type": "code",
      "metadata": {
        "colab": {
          "base_uri": "https://localhost:8080/"
        },
        "id": "IQu1lZYMGq2r",
        "outputId": "5f7926a6-d763-4294-b4da-e56387a0883c"
      },
      "source": [
        "# 스토리 단어들과 질문 단어들 간의 유사도를 구하는 과정\n",
        "# 유사도는 내적을 사용한다.\n",
        "match = dot([input_encoded_m, question_encoded], axes=-1, normalize=False)\n",
        "match = Activation('softmax')(match)\n",
        "print('Match shape', match)\n",
        "# 결과 : (samples, story_max_len, question_max_len) / 샘플의 수, 문장의 최대 길이, 질문의 최대 길이"
      ],
      "execution_count": null,
      "outputs": [
        {
          "output_type": "stream",
          "text": [
            "Match shape KerasTensor(type_spec=TensorSpec(shape=(None, 68, 4), dtype=tf.float32, name=None), name='activation/truediv:0', description=\"created by layer 'activation'\")\n"
          ],
          "name": "stdout"
        }
      ]
    },
    {
      "cell_type": "markdown",
      "metadata": {
        "id": "-Q0VXs5tG46b"
      },
      "source": [
        "예측에 사용되는 출력 행렬은 매칭 유사도 match와 스토리 표현 input_encoded_c을 더해서 구하게 됩니다.\n",
        "\n"
      ]
    },
    {
      "cell_type": "code",
      "metadata": {
        "colab": {
          "base_uri": "https://localhost:8080/"
        },
        "id": "llAYeWlVG3zH",
        "outputId": "8bbf05bf-1ba1-44fe-af41-8bd927ed0923"
      },
      "source": [
        "# 매칭 유사도 행렬과 질문에 대한 임베딩을 더한다.\n",
        "response = add([match, input_encoded_c])  # (samples, story_maxlen, question_max_len)\n",
        "response = Permute((2, 1))(response)  # (samples, question_max_len, story_maxlen)\n",
        "print('Response shape', response)"
      ],
      "execution_count": null,
      "outputs": [
        {
          "output_type": "stream",
          "text": [
            "Response shape KerasTensor(type_spec=TensorSpec(shape=(None, 4, 68), dtype=tf.float32, name=None), name='permute/transpose:0', description=\"created by layer 'permute'\")\n"
          ],
          "name": "stdout"
        }
      ]
    },
    {
      "cell_type": "markdown",
      "metadata": {
        "id": "naXt7ucjG9Md"
      },
      "source": [
        "이제 모델을 정의하고 훈련을 수행해 보겠습니다.\n",
        "\n"
      ]
    },
    {
      "cell_type": "code",
      "metadata": {
        "colab": {
          "base_uri": "https://localhost:8080/"
        },
        "id": "NpGF120tG6QG",
        "outputId": "bf1757c3-fb7b-41c0-89a6-c58d5ca66cfc"
      },
      "source": [
        "# concatenate the response vector with the question vector sequence\n",
        "answer = concatenate([response, question_encoded])\n",
        "print('Answer shape', answer)\n",
        " \n",
        "answer = LSTM(lstm_size)(answer)  # Generate tensors of shape 32\n",
        "answer = Dropout(dropout_rate)(answer)\n",
        "answer = Dense(vocab_size)(answer)  # (samples, vocab_size)\n",
        "# we output a probability distribution over the vocabulary\n",
        "answer = Activation('softmax')(answer)"
      ],
      "execution_count": null,
      "outputs": [
        {
          "output_type": "stream",
          "text": [
            "Answer shape KerasTensor(type_spec=TensorSpec(shape=(None, 4, 118), dtype=tf.float32, name=None), name='concatenate/concat:0', description=\"created by layer 'concatenate'\")\n"
          ],
          "name": "stdout"
        }
      ]
    },
    {
      "cell_type": "code",
      "metadata": {
        "colab": {
          "base_uri": "https://localhost:8080/"
        },
        "id": "qSYDDwHfG_XQ",
        "outputId": "2427e783-acb8-4912-a073-fbb52ea3e23a"
      },
      "source": [
        "import os\n",
        "\n",
        "# 모델 컴파일\n",
        "model = Model([input_sequence, question], answer)\n",
        "model.compile(optimizer='rmsprop', loss='categorical_crossentropy',\n",
        "              metrics=['acc'])\n",
        " \n",
        "# 테스트 데이터를 검증 데이터로 사용하면서 모델 훈련 시작\n",
        "history = model.fit([Xstrain, Xqtrain],\n",
        "         Ytrain, batch_size, train_epochs,\n",
        "         validation_data=([Xstest, Xqtest], Ytest))\n",
        " \n",
        "# 훈련 후에는 모델 저장\n",
        "model_path = os.getenv('HOME')+'/aiffel/babi_memory_net/model.h5'\n",
        "model.save(model_path)"
      ],
      "execution_count": null,
      "outputs": [
        {
          "output_type": "stream",
          "text": [
            "Epoch 1/120\n",
            "313/313 [==============================] - 19s 7ms/step - loss: 2.0012 - acc: 0.1684 - val_loss: 1.7543 - val_acc: 0.2060\n",
            "Epoch 2/120\n",
            "313/313 [==============================] - 2s 6ms/step - loss: 1.6935 - acc: 0.2467 - val_loss: 1.6445 - val_acc: 0.2960\n",
            "Epoch 3/120\n",
            "313/313 [==============================] - 2s 6ms/step - loss: 1.6236 - acc: 0.3078 - val_loss: 1.4938 - val_acc: 0.3690\n",
            "Epoch 4/120\n",
            "313/313 [==============================] - 2s 6ms/step - loss: 1.5104 - acc: 0.3856 - val_loss: 1.4712 - val_acc: 0.4000\n",
            "Epoch 5/120\n",
            "313/313 [==============================] - 2s 6ms/step - loss: 1.4701 - acc: 0.4093 - val_loss: 1.4730 - val_acc: 0.4310\n",
            "Epoch 6/120\n",
            "313/313 [==============================] - 2s 6ms/step - loss: 1.4106 - acc: 0.4616 - val_loss: 1.3483 - val_acc: 0.4760\n",
            "Epoch 7/120\n",
            "313/313 [==============================] - 2s 6ms/step - loss: 1.3740 - acc: 0.4641 - val_loss: 1.3576 - val_acc: 0.4560\n",
            "Epoch 8/120\n",
            "313/313 [==============================] - 2s 6ms/step - loss: 1.3497 - acc: 0.4782 - val_loss: 1.3446 - val_acc: 0.4570\n",
            "Epoch 9/120\n",
            "313/313 [==============================] - 2s 6ms/step - loss: 1.3442 - acc: 0.4695 - val_loss: 1.3078 - val_acc: 0.5050\n",
            "Epoch 10/120\n",
            "313/313 [==============================] - 2s 6ms/step - loss: 1.3177 - acc: 0.4815 - val_loss: 1.2783 - val_acc: 0.4940\n",
            "Epoch 11/120\n",
            "313/313 [==============================] - 2s 6ms/step - loss: 1.2810 - acc: 0.5020 - val_loss: 1.2289 - val_acc: 0.5200\n",
            "Epoch 12/120\n",
            "313/313 [==============================] - 2s 6ms/step - loss: 1.2655 - acc: 0.5029 - val_loss: 1.2111 - val_acc: 0.5150\n",
            "Epoch 13/120\n",
            "313/313 [==============================] - 2s 6ms/step - loss: 1.2330 - acc: 0.5057 - val_loss: 1.2085 - val_acc: 0.5090\n",
            "Epoch 14/120\n",
            "313/313 [==============================] - 2s 6ms/step - loss: 1.2379 - acc: 0.4953 - val_loss: 1.1832 - val_acc: 0.5240\n",
            "Epoch 15/120\n",
            "313/313 [==============================] - 2s 6ms/step - loss: 1.2063 - acc: 0.5109 - val_loss: 1.1708 - val_acc: 0.5230\n",
            "Epoch 16/120\n",
            "313/313 [==============================] - 2s 6ms/step - loss: 1.1880 - acc: 0.5201 - val_loss: 1.1680 - val_acc: 0.5220\n",
            "Epoch 17/120\n",
            "313/313 [==============================] - 2s 6ms/step - loss: 1.1765 - acc: 0.5220 - val_loss: 1.1818 - val_acc: 0.5080\n",
            "Epoch 18/120\n",
            "313/313 [==============================] - 2s 5ms/step - loss: 1.1669 - acc: 0.5278 - val_loss: 1.1643 - val_acc: 0.5180\n",
            "Epoch 19/120\n",
            "313/313 [==============================] - 2s 5ms/step - loss: 1.1566 - acc: 0.5221 - val_loss: 1.1735 - val_acc: 0.5040\n",
            "Epoch 20/120\n",
            "313/313 [==============================] - 2s 6ms/step - loss: 1.1459 - acc: 0.5252 - val_loss: 1.1810 - val_acc: 0.5250\n",
            "Epoch 21/120\n",
            "313/313 [==============================] - 2s 6ms/step - loss: 1.1471 - acc: 0.5287 - val_loss: 1.1526 - val_acc: 0.5160\n",
            "Epoch 22/120\n",
            "313/313 [==============================] - 2s 5ms/step - loss: 1.1449 - acc: 0.5169 - val_loss: 1.1539 - val_acc: 0.5210\n",
            "Epoch 23/120\n",
            "313/313 [==============================] - 2s 5ms/step - loss: 1.1267 - acc: 0.5332 - val_loss: 1.1498 - val_acc: 0.5170\n",
            "Epoch 24/120\n",
            "313/313 [==============================] - 2s 6ms/step - loss: 1.1264 - acc: 0.5384 - val_loss: 1.1580 - val_acc: 0.5170\n",
            "Epoch 25/120\n",
            "313/313 [==============================] - 2s 5ms/step - loss: 1.1239 - acc: 0.5315 - val_loss: 1.1669 - val_acc: 0.5100\n",
            "Epoch 26/120\n",
            "313/313 [==============================] - 2s 6ms/step - loss: 1.1201 - acc: 0.5310 - val_loss: 1.1556 - val_acc: 0.5100\n",
            "Epoch 27/120\n",
            "313/313 [==============================] - 2s 6ms/step - loss: 1.1062 - acc: 0.5328 - val_loss: 1.1560 - val_acc: 0.5180\n",
            "Epoch 28/120\n",
            "313/313 [==============================] - 2s 6ms/step - loss: 1.1099 - acc: 0.5329 - val_loss: 1.1601 - val_acc: 0.5100\n",
            "Epoch 29/120\n",
            "313/313 [==============================] - 2s 6ms/step - loss: 1.0970 - acc: 0.5373 - val_loss: 1.1625 - val_acc: 0.5120\n",
            "Epoch 30/120\n",
            "313/313 [==============================] - 2s 6ms/step - loss: 1.0922 - acc: 0.5462 - val_loss: 1.1507 - val_acc: 0.5210\n",
            "Epoch 31/120\n",
            "313/313 [==============================] - 2s 6ms/step - loss: 1.0967 - acc: 0.5343 - val_loss: 1.1628 - val_acc: 0.5270\n",
            "Epoch 32/120\n",
            "313/313 [==============================] - 2s 6ms/step - loss: 1.0750 - acc: 0.5600 - val_loss: 1.1376 - val_acc: 0.5340\n",
            "Epoch 33/120\n",
            "313/313 [==============================] - 2s 6ms/step - loss: 1.0482 - acc: 0.5724 - val_loss: 1.1276 - val_acc: 0.5460\n",
            "Epoch 34/120\n",
            "313/313 [==============================] - 2s 6ms/step - loss: 1.0190 - acc: 0.5858 - val_loss: 1.0768 - val_acc: 0.5820\n",
            "Epoch 35/120\n",
            "313/313 [==============================] - 2s 6ms/step - loss: 0.9622 - acc: 0.6112 - val_loss: 0.9148 - val_acc: 0.6620\n",
            "Epoch 36/120\n",
            "313/313 [==============================] - 2s 5ms/step - loss: 0.8038 - acc: 0.6977 - val_loss: 0.7384 - val_acc: 0.7340\n",
            "Epoch 37/120\n",
            "313/313 [==============================] - 2s 6ms/step - loss: 0.6668 - acc: 0.7556 - val_loss: 0.6837 - val_acc: 0.7480\n",
            "Epoch 38/120\n",
            "313/313 [==============================] - 2s 6ms/step - loss: 0.6078 - acc: 0.7785 - val_loss: 0.6299 - val_acc: 0.7650\n",
            "Epoch 39/120\n",
            "313/313 [==============================] - 2s 6ms/step - loss: 0.5868 - acc: 0.7805 - val_loss: 0.6151 - val_acc: 0.7750\n",
            "Epoch 40/120\n",
            "313/313 [==============================] - 2s 6ms/step - loss: 0.5500 - acc: 0.7895 - val_loss: 0.5377 - val_acc: 0.7940\n",
            "Epoch 41/120\n",
            "313/313 [==============================] - 2s 6ms/step - loss: 0.4681 - acc: 0.8222 - val_loss: 0.5041 - val_acc: 0.8200\n",
            "Epoch 42/120\n",
            "313/313 [==============================] - 2s 6ms/step - loss: 0.4275 - acc: 0.8382 - val_loss: 0.4486 - val_acc: 0.8310\n",
            "Epoch 43/120\n",
            "313/313 [==============================] - 2s 6ms/step - loss: 0.4008 - acc: 0.8497 - val_loss: 0.4110 - val_acc: 0.8390\n",
            "Epoch 44/120\n",
            "313/313 [==============================] - 2s 6ms/step - loss: 0.3636 - acc: 0.8664 - val_loss: 0.3851 - val_acc: 0.8600\n",
            "Epoch 45/120\n",
            "313/313 [==============================] - 2s 6ms/step - loss: 0.3423 - acc: 0.8764 - val_loss: 0.4006 - val_acc: 0.8480\n",
            "Epoch 46/120\n",
            "313/313 [==============================] - 2s 6ms/step - loss: 0.3090 - acc: 0.8883 - val_loss: 0.3850 - val_acc: 0.8540\n",
            "Epoch 47/120\n",
            "313/313 [==============================] - 2s 6ms/step - loss: 0.3098 - acc: 0.8813 - val_loss: 0.3527 - val_acc: 0.8610\n",
            "Epoch 48/120\n",
            "313/313 [==============================] - 2s 6ms/step - loss: 0.2859 - acc: 0.8950 - val_loss: 0.3513 - val_acc: 0.8640\n",
            "Epoch 49/120\n",
            "313/313 [==============================] - 2s 6ms/step - loss: 0.2799 - acc: 0.8945 - val_loss: 0.3364 - val_acc: 0.8680\n",
            "Epoch 50/120\n",
            "313/313 [==============================] - 2s 6ms/step - loss: 0.2535 - acc: 0.9077 - val_loss: 0.3459 - val_acc: 0.8720\n",
            "Epoch 51/120\n",
            "313/313 [==============================] - 2s 6ms/step - loss: 0.2338 - acc: 0.9139 - val_loss: 0.3157 - val_acc: 0.8790\n",
            "Epoch 52/120\n",
            "313/313 [==============================] - 2s 6ms/step - loss: 0.2285 - acc: 0.9125 - val_loss: 0.2911 - val_acc: 0.8930\n",
            "Epoch 53/120\n",
            "313/313 [==============================] - 2s 6ms/step - loss: 0.2056 - acc: 0.9269 - val_loss: 0.2511 - val_acc: 0.9060\n",
            "Epoch 54/120\n",
            "313/313 [==============================] - 2s 6ms/step - loss: 0.2021 - acc: 0.9284 - val_loss: 0.2669 - val_acc: 0.8990\n",
            "Epoch 55/120\n",
            "313/313 [==============================] - 2s 6ms/step - loss: 0.1858 - acc: 0.9343 - val_loss: 0.2456 - val_acc: 0.9080\n",
            "Epoch 56/120\n",
            "313/313 [==============================] - 2s 6ms/step - loss: 0.1780 - acc: 0.9376 - val_loss: 0.2285 - val_acc: 0.9220\n",
            "Epoch 57/120\n",
            "313/313 [==============================] - 2s 6ms/step - loss: 0.1675 - acc: 0.9414 - val_loss: 0.2458 - val_acc: 0.9110\n",
            "Epoch 58/120\n",
            "313/313 [==============================] - 2s 6ms/step - loss: 0.1542 - acc: 0.9468 - val_loss: 0.2353 - val_acc: 0.9180\n",
            "Epoch 59/120\n",
            "313/313 [==============================] - 2s 5ms/step - loss: 0.1500 - acc: 0.9476 - val_loss: 0.2322 - val_acc: 0.9200\n",
            "Epoch 60/120\n",
            "313/313 [==============================] - 2s 6ms/step - loss: 0.1379 - acc: 0.9508 - val_loss: 0.2106 - val_acc: 0.9260\n",
            "Epoch 61/120\n",
            "313/313 [==============================] - 2s 6ms/step - loss: 0.1278 - acc: 0.9552 - val_loss: 0.2342 - val_acc: 0.9200\n",
            "Epoch 62/120\n",
            "313/313 [==============================] - 2s 6ms/step - loss: 0.1189 - acc: 0.9579 - val_loss: 0.2384 - val_acc: 0.9250\n",
            "Epoch 63/120\n",
            "313/313 [==============================] - 2s 6ms/step - loss: 0.1179 - acc: 0.9586 - val_loss: 0.2269 - val_acc: 0.9240\n",
            "Epoch 64/120\n",
            "313/313 [==============================] - 2s 6ms/step - loss: 0.0946 - acc: 0.9671 - val_loss: 0.1982 - val_acc: 0.9260\n",
            "Epoch 65/120\n",
            "313/313 [==============================] - 2s 6ms/step - loss: 0.1060 - acc: 0.9634 - val_loss: 0.2368 - val_acc: 0.9260\n",
            "Epoch 66/120\n",
            "313/313 [==============================] - 2s 6ms/step - loss: 0.1094 - acc: 0.9619 - val_loss: 0.1834 - val_acc: 0.9360\n",
            "Epoch 67/120\n",
            "313/313 [==============================] - 2s 6ms/step - loss: 0.0895 - acc: 0.9694 - val_loss: 0.2183 - val_acc: 0.9250\n",
            "Epoch 68/120\n",
            "313/313 [==============================] - 2s 6ms/step - loss: 0.0936 - acc: 0.9693 - val_loss: 0.1894 - val_acc: 0.9310\n",
            "Epoch 69/120\n",
            "313/313 [==============================] - 2s 6ms/step - loss: 0.0831 - acc: 0.9695 - val_loss: 0.1921 - val_acc: 0.9330\n",
            "Epoch 70/120\n",
            "313/313 [==============================] - 2s 6ms/step - loss: 0.0775 - acc: 0.9716 - val_loss: 0.2008 - val_acc: 0.9340\n",
            "Epoch 71/120\n",
            "313/313 [==============================] - 2s 6ms/step - loss: 0.0849 - acc: 0.9720 - val_loss: 0.1855 - val_acc: 0.9350\n",
            "Epoch 72/120\n",
            "313/313 [==============================] - 2s 6ms/step - loss: 0.0827 - acc: 0.9705 - val_loss: 0.2403 - val_acc: 0.9300\n",
            "Epoch 73/120\n",
            "313/313 [==============================] - 2s 6ms/step - loss: 0.0756 - acc: 0.9721 - val_loss: 0.2454 - val_acc: 0.9340\n",
            "Epoch 74/120\n",
            "313/313 [==============================] - 2s 6ms/step - loss: 0.0730 - acc: 0.9757 - val_loss: 0.2124 - val_acc: 0.9340\n",
            "Epoch 75/120\n",
            "313/313 [==============================] - 2s 6ms/step - loss: 0.0632 - acc: 0.9797 - val_loss: 0.2807 - val_acc: 0.9240\n",
            "Epoch 76/120\n",
            "313/313 [==============================] - 2s 6ms/step - loss: 0.0722 - acc: 0.9752 - val_loss: 0.2240 - val_acc: 0.9340\n",
            "Epoch 77/120\n",
            "313/313 [==============================] - 2s 6ms/step - loss: 0.0630 - acc: 0.9790 - val_loss: 0.1793 - val_acc: 0.9410\n",
            "Epoch 78/120\n",
            "313/313 [==============================] - 2s 6ms/step - loss: 0.0640 - acc: 0.9810 - val_loss: 0.2108 - val_acc: 0.9370\n",
            "Epoch 79/120\n",
            "313/313 [==============================] - 2s 6ms/step - loss: 0.0615 - acc: 0.9796 - val_loss: 0.1989 - val_acc: 0.9370\n",
            "Epoch 80/120\n",
            "313/313 [==============================] - 2s 6ms/step - loss: 0.0684 - acc: 0.9780 - val_loss: 0.1806 - val_acc: 0.9440\n",
            "Epoch 81/120\n",
            "313/313 [==============================] - 2s 6ms/step - loss: 0.0533 - acc: 0.9838 - val_loss: 0.1805 - val_acc: 0.9440\n",
            "Epoch 82/120\n",
            "313/313 [==============================] - 2s 6ms/step - loss: 0.0524 - acc: 0.9799 - val_loss: 0.1817 - val_acc: 0.9500\n",
            "Epoch 83/120\n",
            "313/313 [==============================] - 2s 6ms/step - loss: 0.0445 - acc: 0.9855 - val_loss: 0.2583 - val_acc: 0.9360\n",
            "Epoch 84/120\n",
            "313/313 [==============================] - 2s 6ms/step - loss: 0.0496 - acc: 0.9821 - val_loss: 0.1934 - val_acc: 0.9490\n",
            "Epoch 85/120\n",
            "313/313 [==============================] - 2s 6ms/step - loss: 0.0473 - acc: 0.9836 - val_loss: 0.2333 - val_acc: 0.9390\n",
            "Epoch 86/120\n",
            "313/313 [==============================] - 2s 6ms/step - loss: 0.0464 - acc: 0.9835 - val_loss: 0.2064 - val_acc: 0.9490\n",
            "Epoch 87/120\n",
            "313/313 [==============================] - 2s 6ms/step - loss: 0.0468 - acc: 0.9830 - val_loss: 0.2027 - val_acc: 0.9440\n",
            "Epoch 88/120\n",
            "313/313 [==============================] - 2s 6ms/step - loss: 0.0403 - acc: 0.9885 - val_loss: 0.2438 - val_acc: 0.9360\n",
            "Epoch 89/120\n",
            "313/313 [==============================] - 2s 6ms/step - loss: 0.0477 - acc: 0.9862 - val_loss: 0.2406 - val_acc: 0.9430\n",
            "Epoch 90/120\n",
            "313/313 [==============================] - 2s 6ms/step - loss: 0.0264 - acc: 0.9915 - val_loss: 0.1759 - val_acc: 0.9530\n",
            "Epoch 91/120\n",
            "313/313 [==============================] - 2s 6ms/step - loss: 0.0392 - acc: 0.9879 - val_loss: 0.2879 - val_acc: 0.9380\n",
            "Epoch 92/120\n",
            "313/313 [==============================] - 2s 6ms/step - loss: 0.0462 - acc: 0.9889 - val_loss: 0.2068 - val_acc: 0.9430\n",
            "Epoch 93/120\n",
            "313/313 [==============================] - 2s 6ms/step - loss: 0.0458 - acc: 0.9881 - val_loss: 0.1817 - val_acc: 0.9510\n",
            "Epoch 94/120\n",
            "313/313 [==============================] - 2s 6ms/step - loss: 0.0425 - acc: 0.9891 - val_loss: 0.2173 - val_acc: 0.9490\n",
            "Epoch 95/120\n",
            "313/313 [==============================] - 2s 6ms/step - loss: 0.0318 - acc: 0.9906 - val_loss: 0.1974 - val_acc: 0.9500\n",
            "Epoch 96/120\n",
            "313/313 [==============================] - 2s 6ms/step - loss: 0.0340 - acc: 0.9895 - val_loss: 0.3338 - val_acc: 0.9260\n",
            "Epoch 97/120\n",
            "313/313 [==============================] - 2s 6ms/step - loss: 0.0453 - acc: 0.9868 - val_loss: 0.2166 - val_acc: 0.9480\n",
            "Epoch 98/120\n",
            "313/313 [==============================] - 2s 6ms/step - loss: 0.0308 - acc: 0.9904 - val_loss: 0.2004 - val_acc: 0.9530\n",
            "Epoch 99/120\n",
            "313/313 [==============================] - 2s 6ms/step - loss: 0.0284 - acc: 0.9923 - val_loss: 0.1975 - val_acc: 0.9420\n",
            "Epoch 100/120\n",
            "313/313 [==============================] - 2s 6ms/step - loss: 0.0322 - acc: 0.9901 - val_loss: 0.1983 - val_acc: 0.9500\n",
            "Epoch 101/120\n",
            "313/313 [==============================] - 2s 6ms/step - loss: 0.0272 - acc: 0.9900 - val_loss: 0.1946 - val_acc: 0.9540\n",
            "Epoch 102/120\n",
            "313/313 [==============================] - 2s 6ms/step - loss: 0.0251 - acc: 0.9916 - val_loss: 0.2228 - val_acc: 0.9530\n",
            "Epoch 103/120\n",
            "313/313 [==============================] - 2s 6ms/step - loss: 0.0285 - acc: 0.9908 - val_loss: 0.1735 - val_acc: 0.9580\n",
            "Epoch 104/120\n",
            "313/313 [==============================] - 2s 6ms/step - loss: 0.0323 - acc: 0.9890 - val_loss: 0.1966 - val_acc: 0.9570\n",
            "Epoch 105/120\n",
            "313/313 [==============================] - 2s 6ms/step - loss: 0.0287 - acc: 0.9915 - val_loss: 0.1804 - val_acc: 0.9550\n",
            "Epoch 106/120\n",
            "313/313 [==============================] - 2s 6ms/step - loss: 0.0216 - acc: 0.9940 - val_loss: 0.1942 - val_acc: 0.9590\n",
            "Epoch 107/120\n",
            "313/313 [==============================] - 2s 6ms/step - loss: 0.0183 - acc: 0.9933 - val_loss: 0.1656 - val_acc: 0.9600\n",
            "Epoch 108/120\n",
            "313/313 [==============================] - 2s 6ms/step - loss: 0.0322 - acc: 0.9915 - val_loss: 0.1593 - val_acc: 0.9640\n",
            "Epoch 109/120\n",
            "313/313 [==============================] - 2s 6ms/step - loss: 0.0316 - acc: 0.9921 - val_loss: 0.1756 - val_acc: 0.9570\n",
            "Epoch 110/120\n",
            "313/313 [==============================] - 2s 6ms/step - loss: 0.0248 - acc: 0.9940 - val_loss: 0.1515 - val_acc: 0.9680\n",
            "Epoch 111/120\n",
            "313/313 [==============================] - 2s 6ms/step - loss: 0.0162 - acc: 0.9949 - val_loss: 0.1679 - val_acc: 0.9620\n",
            "Epoch 112/120\n",
            "313/313 [==============================] - 2s 6ms/step - loss: 0.0233 - acc: 0.9922 - val_loss: 0.2121 - val_acc: 0.9570\n",
            "Epoch 113/120\n",
            "313/313 [==============================] - 2s 6ms/step - loss: 0.0261 - acc: 0.9927 - val_loss: 0.1680 - val_acc: 0.9640\n",
            "Epoch 114/120\n",
            "313/313 [==============================] - 2s 6ms/step - loss: 0.0203 - acc: 0.9930 - val_loss: 0.1786 - val_acc: 0.9560\n",
            "Epoch 115/120\n",
            "313/313 [==============================] - 2s 6ms/step - loss: 0.0253 - acc: 0.9943 - val_loss: 0.2142 - val_acc: 0.9550\n",
            "Epoch 116/120\n",
            "313/313 [==============================] - 2s 6ms/step - loss: 0.0300 - acc: 0.9942 - val_loss: 0.2210 - val_acc: 0.9580\n",
            "Epoch 117/120\n",
            "313/313 [==============================] - 2s 6ms/step - loss: 0.0235 - acc: 0.9934 - val_loss: 0.1788 - val_acc: 0.9580\n",
            "Epoch 118/120\n",
            "313/313 [==============================] - 2s 6ms/step - loss: 0.0190 - acc: 0.9943 - val_loss: 0.1847 - val_acc: 0.9640\n",
            "Epoch 119/120\n",
            "313/313 [==============================] - 2s 6ms/step - loss: 0.0256 - acc: 0.9925 - val_loss: 0.1835 - val_acc: 0.9580\n",
            "Epoch 120/120\n",
            "313/313 [==============================] - 2s 6ms/step - loss: 0.0192 - acc: 0.9948 - val_loss: 0.1700 - val_acc: 0.9640\n"
          ],
          "name": "stdout"
        }
      ]
    },
    {
      "cell_type": "markdown",
      "metadata": {
        "id": "I-IDbRiiHDUV"
      },
      "source": [
        "테스트 정확도를 출력합니다.\n",
        "\n"
      ]
    },
    {
      "cell_type": "code",
      "metadata": {
        "colab": {
          "base_uri": "https://localhost:8080/"
        },
        "id": "v8LLqGcdHBOJ",
        "outputId": "0eedaa95-9ce5-4bcf-c720-9950dc6dcbf4"
      },
      "source": [
        "print(\"\\n 테스트 정확도: %.4f\" % (model.evaluate([Xstest, Xqtest], Ytest)[1]))"
      ],
      "execution_count": null,
      "outputs": [
        {
          "output_type": "stream",
          "text": [
            "32/32 [==============================] - 0s 3ms/step - loss: 0.1700 - acc: 0.9640\n",
            "\n",
            " 테스트 정확도: 0.9640\n"
          ],
          "name": "stdout"
        }
      ]
    },
    {
      "cell_type": "markdown",
      "metadata": {
        "id": "mGaTuSc-HI_o"
      },
      "source": [
        "테스트 정확도에서 96%의 정확도를 얻습니다. 나쁘지 않은 정확도네요.\n",
        "\n",
        "훈련 과정에서 기록해두었던 훈련 데이터, 검증 데이터의 정확도와 loss를 그래프로 출력해봅시다."
      ]
    },
    {
      "cell_type": "code",
      "metadata": {
        "colab": {
          "base_uri": "https://localhost:8080/",
          "height": 297
        },
        "id": "W1HaCi3FHG27",
        "outputId": "f8b33668-5c8e-44e9-da23-f4b756c55aab"
      },
      "source": [
        "# plot accuracy and loss plot\n",
        "plt.subplot(211)\n",
        "plt.title(\"Accuracy\")\n",
        "plt.plot(history.history[\"acc\"], color=\"g\", label=\"train\")\n",
        "plt.plot(history.history[\"val_acc\"], color=\"b\", label=\"validation\")\n",
        "plt.legend(loc=\"best\")\n",
        "\n",
        "plt.subplot(212)\n",
        "plt.title(\"Loss\")\n",
        "plt.plot(history.history[\"loss\"], color=\"g\", label=\"train\")\n",
        "plt.plot(history.history[\"val_loss\"], color=\"b\", label=\"validation\")\n",
        "plt.legend(loc=\"best\")\n",
        "\n",
        "plt.tight_layout()\n",
        "plt.show()\n",
        "\n",
        "# labels\n",
        "ytest = np.argmax(Ytest, axis=1)\n",
        "\n",
        "# get predictions\n",
        "Ytest_ = model.predict([Xstest, Xqtest])\n",
        "ytest_ = np.argmax(Ytest_, axis=1)"
      ],
      "execution_count": null,
      "outputs": [
        {
          "output_type": "display_data",
          "data": {
            "image/png": "[encoded data removed]",
            "text/plain": [
              "<Figure size 432x288 with 2 Axes>"
            ]
          },
          "metadata": {
            "tags": [],
            "needs_background": "light"
          }
        }
      ]
    },
    {
      "cell_type": "markdown",
      "metadata": {
        "id": "0uDZQar-HIWZ"
      },
      "source": [
        "테스트 데이터에 대해서 실제로 문제를 잘 맞히고 있는지 임의로 30개의 예측 결과를 출력해 볼게요."
      ]
    },
    {
      "cell_type": "code",
      "metadata": {
        "colab": {
          "base_uri": "https://localhost:8080/"
        },
        "id": "1mxrXufoHNmr",
        "outputId": "26fce8b4-adda-4eb2-a90a-0d7949ca69fc"
      },
      "source": [
        "NUM_DISPLAY = 30\n",
        "\n",
        "print(\"{:20}|{:7}|{}\".format(\"질문\", \"실제값\", \"예측값\"))\n",
        "print(39 * \"-\")\n",
        "\n",
        "for i in range(NUM_DISPLAY):\n",
        "    question = \" \".join([idx2word[x] for x in Xqtest[i].tolist()])\n",
        "    label = idx2word[ytest[i]]\n",
        "    prediction = idx2word[ytest_[i]]\n",
        "    print(\"{:20}: {:8} {}\".format(question, label, prediction))"
      ],
      "execution_count": null,
      "outputs": [
        {
          "output_type": "stream",
          "text": [
            "질문                  |실제값    |예측값\n",
            "---------------------------------------\n",
            "Where is John ?     : hallway  hallway\n",
            "Where is Mary ?     : bathroom bathroom\n",
            "Where is Sandra ?   : kitchen  kitchen\n",
            "Where is Sandra ?   : hallway  hallway\n",
            "Where is Sandra ?   : kitchen  kitchen\n",
            "Where is Sandra ?   : hallway  hallway\n",
            "Where is Sandra ?   : garden   garden\n",
            "Where is Daniel ?   : hallway  hallway\n",
            "Where is Sandra ?   : office   office\n",
            "Where is Daniel ?   : office   office\n",
            "Where is Mary ?     : kitchen  kitchen\n",
            "Where is Mary ?     : garden   garden\n",
            "Where is Daniel ?   : office   office\n",
            "Where is Mary ?     : bedroom  bedroom\n",
            "Where is Mary ?     : bedroom  kitchen\n",
            "Where is John ?     : kitchen  kitchen\n",
            "Where is John ?     : garden   garden\n",
            "Where is John ?     : kitchen  kitchen\n",
            "Where is Daniel ?   : office   bedroom\n",
            "Where is John ?     : kitchen  kitchen\n",
            "Where is Mary ?     : hallway  hallway\n",
            "Where is John ?     : office   office\n",
            "Where is John ?     : office   office\n",
            "Where is Sandra ?   : hallway  hallway\n",
            "Where is Daniel ?   : bedroom  bedroom\n",
            "Where is Sandra ?   : bedroom  bedroom\n",
            "Where is Mary ?     : bedroom  bedroom\n",
            "Where is Daniel ?   : kitchen  kitchen\n",
            "Where is Daniel ?   : kitchen  kitchen\n",
            "Where is Daniel ?   : kitchen  bedroom\n"
          ],
          "name": "stdout"
        }
      ]
    },
    {
      "cell_type": "markdown",
      "metadata": {
        "id": "ci70z87_HVxW"
      },
      "source": [
        "# 14-6. 프로젝트: 한국어 QA 모델 만들기\n",
        "아래의 데이터셋은 bAbI 데이터셋을 저자가 한국어로 변환한 한국어 버전의 bAbI 데이터셋입니다.\n",
        "\n",
        "데이터 다운로드(로컬 유저용)\n",
        "[e-28-korean.zip ](https://aiffelstaticprd.blob.core.windows.net/media/documents/e-28-korean.zip)\n",
        "\n",
        "압축을 해제해서 사용해주세요.\n",
        "\n",
        "[데이터셋 소개]\n",
        "데이터셋의 형태는 아래와 같이 영어 데이터셋과 동일합니다.\n",
        "```\n",
        "1 은경이는 복도로 가버렸습니다.\n",
        "2 필웅이는 화장실로 뛰어갔습니다.\n",
        "3 은경이는 어디야?     복도  1\n",
        "4 수종이는 화장실로 복귀했습니다.\n",
        "5 은경이는 침실로 갔습니다.\n",
        "6 필웅이는 어디야?     화장실 2\n",
        "7 은경이는 복도로 이동했습니다.\n",
        "8 경임이는 부엌으로 뛰어갔습니다.\n",
        "9 경임이는 어디야?     부엌  8\n",
        "10 경임이는 복도로 가버렸습니다.\n",
        "11 은경이는 정원으로 이동했습니다.\n",
        "12 경임이는 어디야?     복도  10\n",
        "13 경임이는 화장실로 복귀했습니다.\n",
        "14 경임이는 부엌으로 갔습니다.\n",
        "15 경임이는 어디야?     부엌  14\n",
        "```\n",
        "\n",
        "이번 프로젝트에서는 위 한국어 버전의 데이터셋에 대해서 동작하는 QA 모델을 만들어보겠습니다.\n",
        "\n",
        "주의❗ 기존 케라스 공식 문서의 babi_rnn, babi_memn 구현은 파이썬 3.6을 기준으로 하고 있으며, 파이썬 3.7에서는 정상동작 하지 않을 수 있습니다. 실습 시 참고하세요!\n",
        "\n",
        "## Step 1. 토크나이저 변경하기 (매우 중요!!!)\n",
        "영어권 언어는 띄어쓰기만해도 단어들이 잘 분리되지만, 한국어는 그렇지 않다고 앞에서 몇 차례 언급했었죠? 한국어 데이터를 사용하여 모델을 구현하는 것만큼 이번에는 형태소 분석기를 사용해서 단어 토큰화를 해보겠습니다.\n",
        "\n",
        "그런데 형태소 분석기를 사용할 때, 이런 상황에 봉착한다면 어떻게 해야할까요?\n",
        "\n",
        "형태소 분석 입력 : '은경이는 사무실로 갔습니다.'\n",
        "형태소 분석 결과 : ['은', '경이', '는', '사무실', '로', '갔습니다', '.']\n",
        "사실 위 문장에서 '은경이'는 사람 이름이므로 제대로 된 결과를 얻기 위해서는 '은', '경이'와 같이 글자가 분리되는 것이 아니라 '은경이' 또는 최소한 '은경'이라는 단어 토큰을 얻어야만 합니다.\n",
        "\n",
        "이런 경우에는 형태소 분석기에 사용자 사전을 추가해줄 수 있습니다.\n",
        "\n",
        "'은경이'는 하나의 단어이기 때문에 분리하지말라고 형태소 분석기에 알려주는 것이죠.\n",
        "\n",
        "사용자 사전을 추가하는 방법은 형태소 분석기마다 다소 다른데, 생각보다 복잡한 경우도 많습니다. 이번 실습에서는 Customized Konlpy라는 사용자 사전 추가가 매우 쉬운 패키지를 사용합니다.\n",
        "\n",
        "Customized Konlpy 설치 방법\n",
        "로컬유저용\n",
        "설치 방법과 사용 방법에 대한 자세한 설명은 아래의 링크를 참고하세요!\n",
        "\n",
        "[Customized Konlpy 사용하기](https://inspiringpeople.github.io/data%20analysis/ckonlpy/)\n",
        "\n",
        "\n",
        "가령, 트위터라는 형태소 분석기를 사용한다고 하였을 때, '은경이'라는 단어를 사용자 사전에 추가하고 나서 문장을 형태소 분석하려면 어떻게 해야 할까요?\n",
        "\n"
      ]
    },
    {
      "cell_type": "code",
      "metadata": {
        "colab": {
          "base_uri": "https://localhost:8080/",
          "height": 367
        },
        "id": "004GSjWCHOv6",
        "outputId": "19a36c2b-256c-49cd-8562-b20440df7ad7"
      },
      "source": [
        "# 예시 코드\n",
        "from ckonlpy.tag import Twitter\n",
        "twitter = Twitter()\n",
        "twitter.add_dictionary('은경이', 'Noun')\n",
        "twitter.morphs('은경이는 사무실로 갔습니다.')"
      ],
      "execution_count": null,
      "outputs": [
        {
          "output_type": "error",
          "ename": "ModuleNotFoundError",
          "evalue": "ignored",
          "traceback": [
            "\u001b[0;31m---------------------------------------------------------------------------\u001b[0m",
            "\u001b[0;31mModuleNotFoundError\u001b[0m                       Traceback (most recent call last)",
            "\u001b[0;32m<ipython-input-39-72bf8aed1417>\u001b[0m in \u001b[0;36m<module>\u001b[0;34m()\u001b[0m\n\u001b[1;32m      1\u001b[0m \u001b[0;31m# 예시 코드\u001b[0m\u001b[0;34m\u001b[0m\u001b[0;34m\u001b[0m\u001b[0;34m\u001b[0m\u001b[0m\n\u001b[0;32m----> 2\u001b[0;31m \u001b[0;32mfrom\u001b[0m \u001b[0mckonlpy\u001b[0m\u001b[0;34m.\u001b[0m\u001b[0mtag\u001b[0m \u001b[0;32mimport\u001b[0m \u001b[0mTwitter\u001b[0m\u001b[0;34m\u001b[0m\u001b[0;34m\u001b[0m\u001b[0m\n\u001b[0m\u001b[1;32m      3\u001b[0m \u001b[0mtwitter\u001b[0m \u001b[0;34m=\u001b[0m \u001b[0mTwitter\u001b[0m\u001b[0;34m(\u001b[0m\u001b[0;34m)\u001b[0m\u001b[0;34m\u001b[0m\u001b[0;34m\u001b[0m\u001b[0m\n\u001b[1;32m      4\u001b[0m \u001b[0mtwitter\u001b[0m\u001b[0;34m.\u001b[0m\u001b[0madd_dictionary\u001b[0m\u001b[0;34m(\u001b[0m\u001b[0;34m'은경이'\u001b[0m\u001b[0;34m,\u001b[0m \u001b[0;34m'Noun'\u001b[0m\u001b[0;34m)\u001b[0m\u001b[0;34m\u001b[0m\u001b[0;34m\u001b[0m\u001b[0m\n\u001b[1;32m      5\u001b[0m \u001b[0mtwitter\u001b[0m\u001b[0;34m.\u001b[0m\u001b[0mmorphs\u001b[0m\u001b[0;34m(\u001b[0m\u001b[0;34m'은경이는 사무실로 갔습니다.'\u001b[0m\u001b[0;34m)\u001b[0m\u001b[0;34m\u001b[0m\u001b[0;34m\u001b[0m\u001b[0m\n",
            "\u001b[0;31mModuleNotFoundError\u001b[0m: No module named 'ckonlpy'",
            "",
            "\u001b[0;31m---------------------------------------------------------------------------\u001b[0;32m\nNOTE: If your import is failing due to a missing package, you can\nmanually install dependencies using either !pip or !apt.\n\nTo view examples of installing some common dependencies, click the\n\"Open Examples\" button below.\n\u001b[0;31m---------------------------------------------------------------------------\u001b[0m\n"
          ]
        }
      ]
    },
    {
      "cell_type": "markdown",
      "metadata": {
        "id": "LurhsYyBINBB"
      },
      "source": [
        "##Step 2. 형태소 분석 후 불용어 처리하기\n",
        "------------\n",
        "형태소 분석기로 문자를 분석해보면 '는', '으로' 등 분석에 크게 도움이 되지 않을 것 같은 토큰들이 나올 거에요. 처음에는 이 토큰들도 그대로 사용해서 모델을 구현해보고, 두 번째 구현에서는 이 토큰들을 전처리 과정에서 불용어 처리하여 제외해 봅시다.\n",
        "\n",
        "##Step 3. 한국어에서의 모델 정확도 확인해보기\n",
        "--------------\n",
        "앞서 만든 메모리 네트워크는 영어권 데이터에서는 보편적으로 약 96% 이상의 높은 성능을 보입니다. 하이퍼파라미터를 잘 조정하면 이보다 더 높은 정확도가 나오기도 합니다. 그렇다면 메모리 네트워크가 한국어에서도 영어만큼 잘 동작할까요? 직접 확인해 봅시다."
      ]
    },
    {
      "cell_type": "code",
      "metadata": {
        "id": "s7UVs1efIK_i"
      },
      "source": [
        ""
      ],
      "execution_count": null,
      "outputs": []
    }
  ]
}