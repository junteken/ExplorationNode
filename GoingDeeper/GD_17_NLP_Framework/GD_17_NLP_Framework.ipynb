{
  "nbformat": 4,
  "nbformat_minor": 0,
  "metadata": {
    "colab": {
      "name": "GD_17_NLP_Framework.ipynb",
      "provenance": [],
      "collapsed_sections": [],
      "toc_visible": true
    },
    "kernelspec": {
      "name": "python3",
      "display_name": "Python 3"
    },
    "language_info": {
      "name": "python"
    },
    "accelerator": "GPU",
    "widgets": {
      "application/vnd.jupyter.widget-state+json": {
        "a9c3a4a7bcaa4a529f6c8a4a97e1d653": {
          "model_module": "@jupyter-widgets/controls",
          "model_name": "HBoxModel",
          "state": {
            "_view_name": "HBoxView",
            "_dom_classes": [],
            "_model_name": "HBoxModel",
            "_view_module": "@jupyter-widgets/controls",
            "_model_module_version": "1.5.0",
            "_view_count": null,
            "_view_module_version": "1.5.0",
            "box_style": "",
            "layout": "IPY_MODEL_009e0ddb194541d0a74f58f6d79a14e4",
            "_model_module": "@jupyter-widgets/controls",
            "children": [
              "IPY_MODEL_11a554be1439405eac4ee3e313f492f2",
              "IPY_MODEL_3eaae8014d164258af9983dcfe97b785"
            ]
          }
        },
        "009e0ddb194541d0a74f58f6d79a14e4": {
          "model_module": "@jupyter-widgets/base",
          "model_name": "LayoutModel",
          "state": {
            "_view_name": "LayoutView",
            "grid_template_rows": null,
            "right": null,
            "justify_content": null,
            "_view_module": "@jupyter-widgets/base",
            "overflow": null,
            "_model_module_version": "1.2.0",
            "_view_count": null,
            "flex_flow": null,
            "width": null,
            "min_width": null,
            "border": null,
            "align_items": null,
            "bottom": null,
            "_model_module": "@jupyter-widgets/base",
            "top": null,
            "grid_column": null,
            "overflow_y": null,
            "overflow_x": null,
            "grid_auto_flow": null,
            "grid_area": null,
            "grid_template_columns": null,
            "flex": null,
            "_model_name": "LayoutModel",
            "justify_items": null,
            "grid_row": null,
            "max_height": null,
            "align_content": null,
            "visibility": null,
            "align_self": null,
            "height": null,
            "min_height": null,
            "padding": null,
            "grid_auto_rows": null,
            "grid_gap": null,
            "max_width": null,
            "order": null,
            "_view_module_version": "1.2.0",
            "grid_template_areas": null,
            "object_position": null,
            "object_fit": null,
            "grid_auto_columns": null,
            "margin": null,
            "display": null,
            "left": null
          }
        },
        "11a554be1439405eac4ee3e313f492f2": {
          "model_module": "@jupyter-widgets/controls",
          "model_name": "FloatProgressModel",
          "state": {
            "_view_name": "ProgressView",
            "style": "IPY_MODEL_01b3d77d10294c7e995f7ba884de2375",
            "_dom_classes": [],
            "description": "Downloading: 100%",
            "_model_name": "FloatProgressModel",
            "bar_style": "success",
            "max": 629,
            "_view_module": "@jupyter-widgets/controls",
            "_model_module_version": "1.5.0",
            "value": 629,
            "_view_count": null,
            "_view_module_version": "1.5.0",
            "orientation": "horizontal",
            "min": 0,
            "description_tooltip": null,
            "_model_module": "@jupyter-widgets/controls",
            "layout": "IPY_MODEL_4628631d4ae74bec909be244162ee44f"
          }
        },
        "3eaae8014d164258af9983dcfe97b785": {
          "model_module": "@jupyter-widgets/controls",
          "model_name": "HTMLModel",
          "state": {
            "_view_name": "HTMLView",
            "style": "IPY_MODEL_77c9bff0f7ae4531b00f670118c7c99b",
            "_dom_classes": [],
            "description": "",
            "_model_name": "HTMLModel",
            "placeholder": "​",
            "_view_module": "@jupyter-widgets/controls",
            "_model_module_version": "1.5.0",
            "value": " 629/629 [00:00&lt;00:00, 12.8kB/s]",
            "_view_count": null,
            "_view_module_version": "1.5.0",
            "description_tooltip": null,
            "_model_module": "@jupyter-widgets/controls",
            "layout": "IPY_MODEL_50f63c2400164f66b13a1a63a9566605"
          }
        },
        "01b3d77d10294c7e995f7ba884de2375": {
          "model_module": "@jupyter-widgets/controls",
          "model_name": "ProgressStyleModel",
          "state": {
            "_view_name": "StyleView",
            "_model_name": "ProgressStyleModel",
            "description_width": "initial",
            "_view_module": "@jupyter-widgets/base",
            "_model_module_version": "1.5.0",
            "_view_count": null,
            "_view_module_version": "1.2.0",
            "bar_color": null,
            "_model_module": "@jupyter-widgets/controls"
          }
        },
        "4628631d4ae74bec909be244162ee44f": {
          "model_module": "@jupyter-widgets/base",
          "model_name": "LayoutModel",
          "state": {
            "_view_name": "LayoutView",
            "grid_template_rows": null,
            "right": null,
            "justify_content": null,
            "_view_module": "@jupyter-widgets/base",
            "overflow": null,
            "_model_module_version": "1.2.0",
            "_view_count": null,
            "flex_flow": null,
            "width": null,
            "min_width": null,
            "border": null,
            "align_items": null,
            "bottom": null,
            "_model_module": "@jupyter-widgets/base",
            "top": null,
            "grid_column": null,
            "overflow_y": null,
            "overflow_x": null,
            "grid_auto_flow": null,
            "grid_area": null,
            "grid_template_columns": null,
            "flex": null,
            "_model_name": "LayoutModel",
            "justify_items": null,
            "grid_row": null,
            "max_height": null,
            "align_content": null,
            "visibility": null,
            "align_self": null,
            "height": null,
            "min_height": null,
            "padding": null,
            "grid_auto_rows": null,
            "grid_gap": null,
            "max_width": null,
            "order": null,
            "_view_module_version": "1.2.0",
            "grid_template_areas": null,
            "object_position": null,
            "object_fit": null,
            "grid_auto_columns": null,
            "margin": null,
            "display": null,
            "left": null
          }
        },
        "77c9bff0f7ae4531b00f670118c7c99b": {
          "model_module": "@jupyter-widgets/controls",
          "model_name": "DescriptionStyleModel",
          "state": {
            "_view_name": "StyleView",
            "_model_name": "DescriptionStyleModel",
            "description_width": "",
            "_view_module": "@jupyter-widgets/base",
            "_model_module_version": "1.5.0",
            "_view_count": null,
            "_view_module_version": "1.2.0",
            "_model_module": "@jupyter-widgets/controls"
          }
        },
        "50f63c2400164f66b13a1a63a9566605": {
          "model_module": "@jupyter-widgets/base",
          "model_name": "LayoutModel",
          "state": {
            "_view_name": "LayoutView",
            "grid_template_rows": null,
            "right": null,
            "justify_content": null,
            "_view_module": "@jupyter-widgets/base",
            "overflow": null,
            "_model_module_version": "1.2.0",
            "_view_count": null,
            "flex_flow": null,
            "width": null,
            "min_width": null,
            "border": null,
            "align_items": null,
            "bottom": null,
            "_model_module": "@jupyter-widgets/base",
            "top": null,
            "grid_column": null,
            "overflow_y": null,
            "overflow_x": null,
            "grid_auto_flow": null,
            "grid_area": null,
            "grid_template_columns": null,
            "flex": null,
            "_model_name": "LayoutModel",
            "justify_items": null,
            "grid_row": null,
            "max_height": null,
            "align_content": null,
            "visibility": null,
            "align_self": null,
            "height": null,
            "min_height": null,
            "padding": null,
            "grid_auto_rows": null,
            "grid_gap": null,
            "max_width": null,
            "order": null,
            "_view_module_version": "1.2.0",
            "grid_template_areas": null,
            "object_position": null,
            "object_fit": null,
            "grid_auto_columns": null,
            "margin": null,
            "display": null,
            "left": null
          }
        },
        "d1288e9eb9904927b4a1a0d9f103abca": {
          "model_module": "@jupyter-widgets/controls",
          "model_name": "HBoxModel",
          "state": {
            "_view_name": "HBoxView",
            "_dom_classes": [],
            "_model_name": "HBoxModel",
            "_view_module": "@jupyter-widgets/controls",
            "_model_module_version": "1.5.0",
            "_view_count": null,
            "_view_module_version": "1.5.0",
            "box_style": "",
            "layout": "IPY_MODEL_c32f25da9f694af896e94156b46d245e",
            "_model_module": "@jupyter-widgets/controls",
            "children": [
              "IPY_MODEL_47c94cb319074ea1a2ed43e48abb39a1",
              "IPY_MODEL_5b34dd57fe094f978b66241c5804cc66"
            ]
          }
        },
        "c32f25da9f694af896e94156b46d245e": {
          "model_module": "@jupyter-widgets/base",
          "model_name": "LayoutModel",
          "state": {
            "_view_name": "LayoutView",
            "grid_template_rows": null,
            "right": null,
            "justify_content": null,
            "_view_module": "@jupyter-widgets/base",
            "overflow": null,
            "_model_module_version": "1.2.0",
            "_view_count": null,
            "flex_flow": null,
            "width": null,
            "min_width": null,
            "border": null,
            "align_items": null,
            "bottom": null,
            "_model_module": "@jupyter-widgets/base",
            "top": null,
            "grid_column": null,
            "overflow_y": null,
            "overflow_x": null,
            "grid_auto_flow": null,
            "grid_area": null,
            "grid_template_columns": null,
            "flex": null,
            "_model_name": "LayoutModel",
            "justify_items": null,
            "grid_row": null,
            "max_height": null,
            "align_content": null,
            "visibility": null,
            "align_self": null,
            "height": null,
            "min_height": null,
            "padding": null,
            "grid_auto_rows": null,
            "grid_gap": null,
            "max_width": null,
            "order": null,
            "_view_module_version": "1.2.0",
            "grid_template_areas": null,
            "object_position": null,
            "object_fit": null,
            "grid_auto_columns": null,
            "margin": null,
            "display": null,
            "left": null
          }
        },
        "47c94cb319074ea1a2ed43e48abb39a1": {
          "model_module": "@jupyter-widgets/controls",
          "model_name": "FloatProgressModel",
          "state": {
            "_view_name": "ProgressView",
            "style": "IPY_MODEL_3b8ad1578bd749da8044c7b8af57bc09",
            "_dom_classes": [],
            "description": "Downloading: 100%",
            "_model_name": "FloatProgressModel",
            "bar_style": "success",
            "max": 267949840,
            "_view_module": "@jupyter-widgets/controls",
            "_model_module_version": "1.5.0",
            "value": 267949840,
            "_view_count": null,
            "_view_module_version": "1.5.0",
            "orientation": "horizontal",
            "min": 0,
            "description_tooltip": null,
            "_model_module": "@jupyter-widgets/controls",
            "layout": "IPY_MODEL_ad290091df644ecb8696765c06d2f19b"
          }
        },
        "5b34dd57fe094f978b66241c5804cc66": {
          "model_module": "@jupyter-widgets/controls",
          "model_name": "HTMLModel",
          "state": {
            "_view_name": "HTMLView",
            "style": "IPY_MODEL_5201746eb81d46ab9001127e6a3d5ccc",
            "_dom_classes": [],
            "description": "",
            "_model_name": "HTMLModel",
            "placeholder": "​",
            "_view_module": "@jupyter-widgets/controls",
            "_model_module_version": "1.5.0",
            "value": " 268M/268M [00:07&lt;00:00, 35.5MB/s]",
            "_view_count": null,
            "_view_module_version": "1.5.0",
            "description_tooltip": null,
            "_model_module": "@jupyter-widgets/controls",
            "layout": "IPY_MODEL_062065ceebac4b2a8b9c2173907eced9"
          }
        },
        "3b8ad1578bd749da8044c7b8af57bc09": {
          "model_module": "@jupyter-widgets/controls",
          "model_name": "ProgressStyleModel",
          "state": {
            "_view_name": "StyleView",
            "_model_name": "ProgressStyleModel",
            "description_width": "initial",
            "_view_module": "@jupyter-widgets/base",
            "_model_module_version": "1.5.0",
            "_view_count": null,
            "_view_module_version": "1.2.0",
            "bar_color": null,
            "_model_module": "@jupyter-widgets/controls"
          }
        },
        "ad290091df644ecb8696765c06d2f19b": {
          "model_module": "@jupyter-widgets/base",
          "model_name": "LayoutModel",
          "state": {
            "_view_name": "LayoutView",
            "grid_template_rows": null,
            "right": null,
            "justify_content": null,
            "_view_module": "@jupyter-widgets/base",
            "overflow": null,
            "_model_module_version": "1.2.0",
            "_view_count": null,
            "flex_flow": null,
            "width": null,
            "min_width": null,
            "border": null,
            "align_items": null,
            "bottom": null,
            "_model_module": "@jupyter-widgets/base",
            "top": null,
            "grid_column": null,
            "overflow_y": null,
            "overflow_x": null,
            "grid_auto_flow": null,
            "grid_area": null,
            "grid_template_columns": null,
            "flex": null,
            "_model_name": "LayoutModel",
            "justify_items": null,
            "grid_row": null,
            "max_height": null,
            "align_content": null,
            "visibility": null,
            "align_self": null,
            "height": null,
            "min_height": null,
            "padding": null,
            "grid_auto_rows": null,
            "grid_gap": null,
            "max_width": null,
            "order": null,
            "_view_module_version": "1.2.0",
            "grid_template_areas": null,
            "object_position": null,
            "object_fit": null,
            "grid_auto_columns": null,
            "margin": null,
            "display": null,
            "left": null
          }
        },
        "5201746eb81d46ab9001127e6a3d5ccc": {
          "model_module": "@jupyter-widgets/controls",
          "model_name": "DescriptionStyleModel",
          "state": {
            "_view_name": "StyleView",
            "_model_name": "DescriptionStyleModel",
            "description_width": "",
            "_view_module": "@jupyter-widgets/base",
            "_model_module_version": "1.5.0",
            "_view_count": null,
            "_view_module_version": "1.2.0",
            "_model_module": "@jupyter-widgets/controls"
          }
        },
        "062065ceebac4b2a8b9c2173907eced9": {
          "model_module": "@jupyter-widgets/base",
          "model_name": "LayoutModel",
          "state": {
            "_view_name": "LayoutView",
            "grid_template_rows": null,
            "right": null,
            "justify_content": null,
            "_view_module": "@jupyter-widgets/base",
            "overflow": null,
            "_model_module_version": "1.2.0",
            "_view_count": null,
            "flex_flow": null,
            "width": null,
            "min_width": null,
            "border": null,
            "align_items": null,
            "bottom": null,
            "_model_module": "@jupyter-widgets/base",
            "top": null,
            "grid_column": null,
            "overflow_y": null,
            "overflow_x": null,
            "grid_auto_flow": null,
            "grid_area": null,
            "grid_template_columns": null,
            "flex": null,
            "_model_name": "LayoutModel",
            "justify_items": null,
            "grid_row": null,
            "max_height": null,
            "align_content": null,
            "visibility": null,
            "align_self": null,
            "height": null,
            "min_height": null,
            "padding": null,
            "grid_auto_rows": null,
            "grid_gap": null,
            "max_width": null,
            "order": null,
            "_view_module_version": "1.2.0",
            "grid_template_areas": null,
            "object_position": null,
            "object_fit": null,
            "grid_auto_columns": null,
            "margin": null,
            "display": null,
            "left": null
          }
        },
        "1480945b1b7d4dea8ee782d0f1220e51": {
          "model_module": "@jupyter-widgets/controls",
          "model_name": "HBoxModel",
          "state": {
            "_view_name": "HBoxView",
            "_dom_classes": [],
            "_model_name": "HBoxModel",
            "_view_module": "@jupyter-widgets/controls",
            "_model_module_version": "1.5.0",
            "_view_count": null,
            "_view_module_version": "1.5.0",
            "box_style": "",
            "layout": "IPY_MODEL_9e5d7444a73b46e3bdab49d1490271c3",
            "_model_module": "@jupyter-widgets/controls",
            "children": [
              "IPY_MODEL_3065bcaa8a7949ae95f70ee158db101d",
              "IPY_MODEL_da6b09a900e5425cbfe858b89f3de480"
            ]
          }
        },
        "9e5d7444a73b46e3bdab49d1490271c3": {
          "model_module": "@jupyter-widgets/base",
          "model_name": "LayoutModel",
          "state": {
            "_view_name": "LayoutView",
            "grid_template_rows": null,
            "right": null,
            "justify_content": null,
            "_view_module": "@jupyter-widgets/base",
            "overflow": null,
            "_model_module_version": "1.2.0",
            "_view_count": null,
            "flex_flow": null,
            "width": null,
            "min_width": null,
            "border": null,
            "align_items": null,
            "bottom": null,
            "_model_module": "@jupyter-widgets/base",
            "top": null,
            "grid_column": null,
            "overflow_y": null,
            "overflow_x": null,
            "grid_auto_flow": null,
            "grid_area": null,
            "grid_template_columns": null,
            "flex": null,
            "_model_name": "LayoutModel",
            "justify_items": null,
            "grid_row": null,
            "max_height": null,
            "align_content": null,
            "visibility": null,
            "align_self": null,
            "height": null,
            "min_height": null,
            "padding": null,
            "grid_auto_rows": null,
            "grid_gap": null,
            "max_width": null,
            "order": null,
            "_view_module_version": "1.2.0",
            "grid_template_areas": null,
            "object_position": null,
            "object_fit": null,
            "grid_auto_columns": null,
            "margin": null,
            "display": null,
            "left": null
          }
        },
        "3065bcaa8a7949ae95f70ee158db101d": {
          "model_module": "@jupyter-widgets/controls",
          "model_name": "FloatProgressModel",
          "state": {
            "_view_name": "ProgressView",
            "style": "IPY_MODEL_f1377caf962d401e85f763e86d733877",
            "_dom_classes": [],
            "description": "Downloading: 100%",
            "_model_name": "FloatProgressModel",
            "bar_style": "success",
            "max": 231508,
            "_view_module": "@jupyter-widgets/controls",
            "_model_module_version": "1.5.0",
            "value": 231508,
            "_view_count": null,
            "_view_module_version": "1.5.0",
            "orientation": "horizontal",
            "min": 0,
            "description_tooltip": null,
            "_model_module": "@jupyter-widgets/controls",
            "layout": "IPY_MODEL_6b9478e4330b4351bd559828e43e7605"
          }
        },
        "da6b09a900e5425cbfe858b89f3de480": {
          "model_module": "@jupyter-widgets/controls",
          "model_name": "HTMLModel",
          "state": {
            "_view_name": "HTMLView",
            "style": "IPY_MODEL_b04a74de945d49fd8ef46024622cea63",
            "_dom_classes": [],
            "description": "",
            "_model_name": "HTMLModel",
            "placeholder": "​",
            "_view_module": "@jupyter-widgets/controls",
            "_model_module_version": "1.5.0",
            "value": " 232k/232k [00:01&lt;00:00, 142kB/s]",
            "_view_count": null,
            "_view_module_version": "1.5.0",
            "description_tooltip": null,
            "_model_module": "@jupyter-widgets/controls",
            "layout": "IPY_MODEL_e482c4b49b1b451cba8df3d53f98f22c"
          }
        },
        "f1377caf962d401e85f763e86d733877": {
          "model_module": "@jupyter-widgets/controls",
          "model_name": "ProgressStyleModel",
          "state": {
            "_view_name": "StyleView",
            "_model_name": "ProgressStyleModel",
            "description_width": "initial",
            "_view_module": "@jupyter-widgets/base",
            "_model_module_version": "1.5.0",
            "_view_count": null,
            "_view_module_version": "1.2.0",
            "bar_color": null,
            "_model_module": "@jupyter-widgets/controls"
          }
        },
        "6b9478e4330b4351bd559828e43e7605": {
          "model_module": "@jupyter-widgets/base",
          "model_name": "LayoutModel",
          "state": {
            "_view_name": "LayoutView",
            "grid_template_rows": null,
            "right": null,
            "justify_content": null,
            "_view_module": "@jupyter-widgets/base",
            "overflow": null,
            "_model_module_version": "1.2.0",
            "_view_count": null,
            "flex_flow": null,
            "width": null,
            "min_width": null,
            "border": null,
            "align_items": null,
            "bottom": null,
            "_model_module": "@jupyter-widgets/base",
            "top": null,
            "grid_column": null,
            "overflow_y": null,
            "overflow_x": null,
            "grid_auto_flow": null,
            "grid_area": null,
            "grid_template_columns": null,
            "flex": null,
            "_model_name": "LayoutModel",
            "justify_items": null,
            "grid_row": null,
            "max_height": null,
            "align_content": null,
            "visibility": null,
            "align_self": null,
            "height": null,
            "min_height": null,
            "padding": null,
            "grid_auto_rows": null,
            "grid_gap": null,
            "max_width": null,
            "order": null,
            "_view_module_version": "1.2.0",
            "grid_template_areas": null,
            "object_position": null,
            "object_fit": null,
            "grid_auto_columns": null,
            "margin": null,
            "display": null,
            "left": null
          }
        },
        "b04a74de945d49fd8ef46024622cea63": {
          "model_module": "@jupyter-widgets/controls",
          "model_name": "DescriptionStyleModel",
          "state": {
            "_view_name": "StyleView",
            "_model_name": "DescriptionStyleModel",
            "description_width": "",
            "_view_module": "@jupyter-widgets/base",
            "_model_module_version": "1.5.0",
            "_view_count": null,
            "_view_module_version": "1.2.0",
            "_model_module": "@jupyter-widgets/controls"
          }
        },
        "e482c4b49b1b451cba8df3d53f98f22c": {
          "model_module": "@jupyter-widgets/base",
          "model_name": "LayoutModel",
          "state": {
            "_view_name": "LayoutView",
            "grid_template_rows": null,
            "right": null,
            "justify_content": null,
            "_view_module": "@jupyter-widgets/base",
            "overflow": null,
            "_model_module_version": "1.2.0",
            "_view_count": null,
            "flex_flow": null,
            "width": null,
            "min_width": null,
            "border": null,
            "align_items": null,
            "bottom": null,
            "_model_module": "@jupyter-widgets/base",
            "top": null,
            "grid_column": null,
            "overflow_y": null,
            "overflow_x": null,
            "grid_auto_flow": null,
            "grid_area": null,
            "grid_template_columns": null,
            "flex": null,
            "_model_name": "LayoutModel",
            "justify_items": null,
            "grid_row": null,
            "max_height": null,
            "align_content": null,
            "visibility": null,
            "align_self": null,
            "height": null,
            "min_height": null,
            "padding": null,
            "grid_auto_rows": null,
            "grid_gap": null,
            "max_width": null,
            "order": null,
            "_view_module_version": "1.2.0",
            "grid_template_areas": null,
            "object_position": null,
            "object_fit": null,
            "grid_auto_columns": null,
            "margin": null,
            "display": null,
            "left": null
          }
        },
        "a6ce6de6c8fb4bbba1fb834d6e368907": {
          "model_module": "@jupyter-widgets/controls",
          "model_name": "HBoxModel",
          "state": {
            "_view_name": "HBoxView",
            "_dom_classes": [],
            "_model_name": "HBoxModel",
            "_view_module": "@jupyter-widgets/controls",
            "_model_module_version": "1.5.0",
            "_view_count": null,
            "_view_module_version": "1.5.0",
            "box_style": "",
            "layout": "IPY_MODEL_2f6fd7d6054c4eb7922e28818c119860",
            "_model_module": "@jupyter-widgets/controls",
            "children": [
              "IPY_MODEL_26909e0c025e4342b6e76a8a22d2367d",
              "IPY_MODEL_0e82a514e8254b12855e707926e288fc"
            ]
          }
        },
        "2f6fd7d6054c4eb7922e28818c119860": {
          "model_module": "@jupyter-widgets/base",
          "model_name": "LayoutModel",
          "state": {
            "_view_name": "LayoutView",
            "grid_template_rows": null,
            "right": null,
            "justify_content": null,
            "_view_module": "@jupyter-widgets/base",
            "overflow": null,
            "_model_module_version": "1.2.0",
            "_view_count": null,
            "flex_flow": null,
            "width": null,
            "min_width": null,
            "border": null,
            "align_items": null,
            "bottom": null,
            "_model_module": "@jupyter-widgets/base",
            "top": null,
            "grid_column": null,
            "overflow_y": null,
            "overflow_x": null,
            "grid_auto_flow": null,
            "grid_area": null,
            "grid_template_columns": null,
            "flex": null,
            "_model_name": "LayoutModel",
            "justify_items": null,
            "grid_row": null,
            "max_height": null,
            "align_content": null,
            "visibility": null,
            "align_self": null,
            "height": null,
            "min_height": null,
            "padding": null,
            "grid_auto_rows": null,
            "grid_gap": null,
            "max_width": null,
            "order": null,
            "_view_module_version": "1.2.0",
            "grid_template_areas": null,
            "object_position": null,
            "object_fit": null,
            "grid_auto_columns": null,
            "margin": null,
            "display": null,
            "left": null
          }
        },
        "26909e0c025e4342b6e76a8a22d2367d": {
          "model_module": "@jupyter-widgets/controls",
          "model_name": "FloatProgressModel",
          "state": {
            "_view_name": "ProgressView",
            "style": "IPY_MODEL_13efe4de7c3f4ce1809cb7d7c74b67f8",
            "_dom_classes": [],
            "description": "Downloading: 100%",
            "_model_name": "FloatProgressModel",
            "bar_style": "success",
            "max": 48,
            "_view_module": "@jupyter-widgets/controls",
            "_model_module_version": "1.5.0",
            "value": 48,
            "_view_count": null,
            "_view_module_version": "1.5.0",
            "orientation": "horizontal",
            "min": 0,
            "description_tooltip": null,
            "_model_module": "@jupyter-widgets/controls",
            "layout": "IPY_MODEL_594d21f9bae844b7afb79b4810d9e410"
          }
        },
        "0e82a514e8254b12855e707926e288fc": {
          "model_module": "@jupyter-widgets/controls",
          "model_name": "HTMLModel",
          "state": {
            "_view_name": "HTMLView",
            "style": "IPY_MODEL_c36b769b75fb46008356ccb427125b30",
            "_dom_classes": [],
            "description": "",
            "_model_name": "HTMLModel",
            "placeholder": "​",
            "_view_module": "@jupyter-widgets/controls",
            "_model_module_version": "1.5.0",
            "value": " 48.0/48.0 [00:00&lt;00:00, 479B/s]",
            "_view_count": null,
            "_view_module_version": "1.5.0",
            "description_tooltip": null,
            "_model_module": "@jupyter-widgets/controls",
            "layout": "IPY_MODEL_631b5f04e57b4a66a7d503d335d69b3e"
          }
        },
        "13efe4de7c3f4ce1809cb7d7c74b67f8": {
          "model_module": "@jupyter-widgets/controls",
          "model_name": "ProgressStyleModel",
          "state": {
            "_view_name": "StyleView",
            "_model_name": "ProgressStyleModel",
            "description_width": "initial",
            "_view_module": "@jupyter-widgets/base",
            "_model_module_version": "1.5.0",
            "_view_count": null,
            "_view_module_version": "1.2.0",
            "bar_color": null,
            "_model_module": "@jupyter-widgets/controls"
          }
        },
        "594d21f9bae844b7afb79b4810d9e410": {
          "model_module": "@jupyter-widgets/base",
          "model_name": "LayoutModel",
          "state": {
            "_view_name": "LayoutView",
            "grid_template_rows": null,
            "right": null,
            "justify_content": null,
            "_view_module": "@jupyter-widgets/base",
            "overflow": null,
            "_model_module_version": "1.2.0",
            "_view_count": null,
            "flex_flow": null,
            "width": null,
            "min_width": null,
            "border": null,
            "align_items": null,
            "bottom": null,
            "_model_module": "@jupyter-widgets/base",
            "top": null,
            "grid_column": null,
            "overflow_y": null,
            "overflow_x": null,
            "grid_auto_flow": null,
            "grid_area": null,
            "grid_template_columns": null,
            "flex": null,
            "_model_name": "LayoutModel",
            "justify_items": null,
            "grid_row": null,
            "max_height": null,
            "align_content": null,
            "visibility": null,
            "align_self": null,
            "height": null,
            "min_height": null,
            "padding": null,
            "grid_auto_rows": null,
            "grid_gap": null,
            "max_width": null,
            "order": null,
            "_view_module_version": "1.2.0",
            "grid_template_areas": null,
            "object_position": null,
            "object_fit": null,
            "grid_auto_columns": null,
            "margin": null,
            "display": null,
            "left": null
          }
        },
        "c36b769b75fb46008356ccb427125b30": {
          "model_module": "@jupyter-widgets/controls",
          "model_name": "DescriptionStyleModel",
          "state": {
            "_view_name": "StyleView",
            "_model_name": "DescriptionStyleModel",
            "description_width": "",
            "_view_module": "@jupyter-widgets/base",
            "_model_module_version": "1.5.0",
            "_view_count": null,
            "_view_module_version": "1.2.0",
            "_model_module": "@jupyter-widgets/controls"
          }
        },
        "631b5f04e57b4a66a7d503d335d69b3e": {
          "model_module": "@jupyter-widgets/base",
          "model_name": "LayoutModel",
          "state": {
            "_view_name": "LayoutView",
            "grid_template_rows": null,
            "right": null,
            "justify_content": null,
            "_view_module": "@jupyter-widgets/base",
            "overflow": null,
            "_model_module_version": "1.2.0",
            "_view_count": null,
            "flex_flow": null,
            "width": null,
            "min_width": null,
            "border": null,
            "align_items": null,
            "bottom": null,
            "_model_module": "@jupyter-widgets/base",
            "top": null,
            "grid_column": null,
            "overflow_y": null,
            "overflow_x": null,
            "grid_auto_flow": null,
            "grid_area": null,
            "grid_template_columns": null,
            "flex": null,
            "_model_name": "LayoutModel",
            "justify_items": null,
            "grid_row": null,
            "max_height": null,
            "align_content": null,
            "visibility": null,
            "align_self": null,
            "height": null,
            "min_height": null,
            "padding": null,
            "grid_auto_rows": null,
            "grid_gap": null,
            "max_width": null,
            "order": null,
            "_view_module_version": "1.2.0",
            "grid_template_areas": null,
            "object_position": null,
            "object_fit": null,
            "grid_auto_columns": null,
            "margin": null,
            "display": null,
            "left": null
          }
        },
        "8cb1b6df40cb46048da2f4daace44a07": {
          "model_module": "@jupyter-widgets/controls",
          "model_name": "HBoxModel",
          "state": {
            "_view_name": "HBoxView",
            "_dom_classes": [],
            "_model_name": "HBoxModel",
            "_view_module": "@jupyter-widgets/controls",
            "_model_module_version": "1.5.0",
            "_view_count": null,
            "_view_module_version": "1.5.0",
            "box_style": "",
            "layout": "IPY_MODEL_d1d3ec5cb4874b53936b7d509735bb03",
            "_model_module": "@jupyter-widgets/controls",
            "children": [
              "IPY_MODEL_d32f3a3e98b942b3b0afba2c5ccd44df",
              "IPY_MODEL_ed7da62b5110445e8d89af3edbd5c6fe"
            ]
          }
        },
        "d1d3ec5cb4874b53936b7d509735bb03": {
          "model_module": "@jupyter-widgets/base",
          "model_name": "LayoutModel",
          "state": {
            "_view_name": "LayoutView",
            "grid_template_rows": null,
            "right": null,
            "justify_content": null,
            "_view_module": "@jupyter-widgets/base",
            "overflow": null,
            "_model_module_version": "1.2.0",
            "_view_count": null,
            "flex_flow": null,
            "width": null,
            "min_width": null,
            "border": null,
            "align_items": null,
            "bottom": null,
            "_model_module": "@jupyter-widgets/base",
            "top": null,
            "grid_column": null,
            "overflow_y": null,
            "overflow_x": null,
            "grid_auto_flow": null,
            "grid_area": null,
            "grid_template_columns": null,
            "flex": null,
            "_model_name": "LayoutModel",
            "justify_items": null,
            "grid_row": null,
            "max_height": null,
            "align_content": null,
            "visibility": null,
            "align_self": null,
            "height": null,
            "min_height": null,
            "padding": null,
            "grid_auto_rows": null,
            "grid_gap": null,
            "max_width": null,
            "order": null,
            "_view_module_version": "1.2.0",
            "grid_template_areas": null,
            "object_position": null,
            "object_fit": null,
            "grid_auto_columns": null,
            "margin": null,
            "display": null,
            "left": null
          }
        },
        "d32f3a3e98b942b3b0afba2c5ccd44df": {
          "model_module": "@jupyter-widgets/controls",
          "model_name": "FloatProgressModel",
          "state": {
            "_view_name": "ProgressView",
            "style": "IPY_MODEL_23b004177bce4cfa9c9d468625f7fe57",
            "_dom_classes": [],
            "description": "Downloading: 100%",
            "_model_name": "FloatProgressModel",
            "bar_style": "success",
            "max": 570,
            "_view_module": "@jupyter-widgets/controls",
            "_model_module_version": "1.5.0",
            "value": 570,
            "_view_count": null,
            "_view_module_version": "1.5.0",
            "orientation": "horizontal",
            "min": 0,
            "description_tooltip": null,
            "_model_module": "@jupyter-widgets/controls",
            "layout": "IPY_MODEL_17041a85e4cf4791b669c708f0bc4298"
          }
        },
        "ed7da62b5110445e8d89af3edbd5c6fe": {
          "model_module": "@jupyter-widgets/controls",
          "model_name": "HTMLModel",
          "state": {
            "_view_name": "HTMLView",
            "style": "IPY_MODEL_343cb4da7bd544c38a43b4548f185fe9",
            "_dom_classes": [],
            "description": "",
            "_model_name": "HTMLModel",
            "placeholder": "​",
            "_view_module": "@jupyter-widgets/controls",
            "_model_module_version": "1.5.0",
            "value": " 570/570 [00:00&lt;00:00, 1.40kB/s]",
            "_view_count": null,
            "_view_module_version": "1.5.0",
            "description_tooltip": null,
            "_model_module": "@jupyter-widgets/controls",
            "layout": "IPY_MODEL_b4d9fee0a3f941b9a126b14a79918357"
          }
        },
        "23b004177bce4cfa9c9d468625f7fe57": {
          "model_module": "@jupyter-widgets/controls",
          "model_name": "ProgressStyleModel",
          "state": {
            "_view_name": "StyleView",
            "_model_name": "ProgressStyleModel",
            "description_width": "initial",
            "_view_module": "@jupyter-widgets/base",
            "_model_module_version": "1.5.0",
            "_view_count": null,
            "_view_module_version": "1.2.0",
            "bar_color": null,
            "_model_module": "@jupyter-widgets/controls"
          }
        },
        "17041a85e4cf4791b669c708f0bc4298": {
          "model_module": "@jupyter-widgets/base",
          "model_name": "LayoutModel",
          "state": {
            "_view_name": "LayoutView",
            "grid_template_rows": null,
            "right": null,
            "justify_content": null,
            "_view_module": "@jupyter-widgets/base",
            "overflow": null,
            "_model_module_version": "1.2.0",
            "_view_count": null,
            "flex_flow": null,
            "width": null,
            "min_width": null,
            "border": null,
            "align_items": null,
            "bottom": null,
            "_model_module": "@jupyter-widgets/base",
            "top": null,
            "grid_column": null,
            "overflow_y": null,
            "overflow_x": null,
            "grid_auto_flow": null,
            "grid_area": null,
            "grid_template_columns": null,
            "flex": null,
            "_model_name": "LayoutModel",
            "justify_items": null,
            "grid_row": null,
            "max_height": null,
            "align_content": null,
            "visibility": null,
            "align_self": null,
            "height": null,
            "min_height": null,
            "padding": null,
            "grid_auto_rows": null,
            "grid_gap": null,
            "max_width": null,
            "order": null,
            "_view_module_version": "1.2.0",
            "grid_template_areas": null,
            "object_position": null,
            "object_fit": null,
            "grid_auto_columns": null,
            "margin": null,
            "display": null,
            "left": null
          }
        },
        "343cb4da7bd544c38a43b4548f185fe9": {
          "model_module": "@jupyter-widgets/controls",
          "model_name": "DescriptionStyleModel",
          "state": {
            "_view_name": "StyleView",
            "_model_name": "DescriptionStyleModel",
            "description_width": "",
            "_view_module": "@jupyter-widgets/base",
            "_model_module_version": "1.5.0",
            "_view_count": null,
            "_view_module_version": "1.2.0",
            "_model_module": "@jupyter-widgets/controls"
          }
        },
        "b4d9fee0a3f941b9a126b14a79918357": {
          "model_module": "@jupyter-widgets/base",
          "model_name": "LayoutModel",
          "state": {
            "_view_name": "LayoutView",
            "grid_template_rows": null,
            "right": null,
            "justify_content": null,
            "_view_module": "@jupyter-widgets/base",
            "overflow": null,
            "_model_module_version": "1.2.0",
            "_view_count": null,
            "flex_flow": null,
            "width": null,
            "min_width": null,
            "border": null,
            "align_items": null,
            "bottom": null,
            "_model_module": "@jupyter-widgets/base",
            "top": null,
            "grid_column": null,
            "overflow_y": null,
            "overflow_x": null,
            "grid_auto_flow": null,
            "grid_area": null,
            "grid_template_columns": null,
            "flex": null,
            "_model_name": "LayoutModel",
            "justify_items": null,
            "grid_row": null,
            "max_height": null,
            "align_content": null,
            "visibility": null,
            "align_self": null,
            "height": null,
            "min_height": null,
            "padding": null,
            "grid_auto_rows": null,
            "grid_gap": null,
            "max_width": null,
            "order": null,
            "_view_module_version": "1.2.0",
            "grid_template_areas": null,
            "object_position": null,
            "object_fit": null,
            "grid_auto_columns": null,
            "margin": null,
            "display": null,
            "left": null
          }
        },
        "a8ccccdee62d4a0d811cb8b6cf244715": {
          "model_module": "@jupyter-widgets/controls",
          "model_name": "HBoxModel",
          "state": {
            "_view_name": "HBoxView",
            "_dom_classes": [],
            "_model_name": "HBoxModel",
            "_view_module": "@jupyter-widgets/controls",
            "_model_module_version": "1.5.0",
            "_view_count": null,
            "_view_module_version": "1.5.0",
            "box_style": "",
            "layout": "IPY_MODEL_f301c8e9d14848eaa2504084afe3d3d7",
            "_model_module": "@jupyter-widgets/controls",
            "children": [
              "IPY_MODEL_393fa840667a48f59af2ce19b168c558",
              "IPY_MODEL_c755ba0f993c4ffeabb8d6fca661643e"
            ]
          }
        },
        "f301c8e9d14848eaa2504084afe3d3d7": {
          "model_module": "@jupyter-widgets/base",
          "model_name": "LayoutModel",
          "state": {
            "_view_name": "LayoutView",
            "grid_template_rows": null,
            "right": null,
            "justify_content": null,
            "_view_module": "@jupyter-widgets/base",
            "overflow": null,
            "_model_module_version": "1.2.0",
            "_view_count": null,
            "flex_flow": null,
            "width": null,
            "min_width": null,
            "border": null,
            "align_items": null,
            "bottom": null,
            "_model_module": "@jupyter-widgets/base",
            "top": null,
            "grid_column": null,
            "overflow_y": null,
            "overflow_x": null,
            "grid_auto_flow": null,
            "grid_area": null,
            "grid_template_columns": null,
            "flex": null,
            "_model_name": "LayoutModel",
            "justify_items": null,
            "grid_row": null,
            "max_height": null,
            "align_content": null,
            "visibility": null,
            "align_self": null,
            "height": null,
            "min_height": null,
            "padding": null,
            "grid_auto_rows": null,
            "grid_gap": null,
            "max_width": null,
            "order": null,
            "_view_module_version": "1.2.0",
            "grid_template_areas": null,
            "object_position": null,
            "object_fit": null,
            "grid_auto_columns": null,
            "margin": null,
            "display": null,
            "left": null
          }
        },
        "393fa840667a48f59af2ce19b168c558": {
          "model_module": "@jupyter-widgets/controls",
          "model_name": "FloatProgressModel",
          "state": {
            "_view_name": "ProgressView",
            "style": "IPY_MODEL_7077c8d8064d4f828d54c3bed0144f2a",
            "_dom_classes": [],
            "description": "Downloading: 100%",
            "_model_name": "FloatProgressModel",
            "bar_style": "success",
            "max": 526681800,
            "_view_module": "@jupyter-widgets/controls",
            "_model_module_version": "1.5.0",
            "value": 526681800,
            "_view_count": null,
            "_view_module_version": "1.5.0",
            "orientation": "horizontal",
            "min": 0,
            "description_tooltip": null,
            "_model_module": "@jupyter-widgets/controls",
            "layout": "IPY_MODEL_bc67e13ddbf247b9b5da5f8db7e3ff37"
          }
        },
        "c755ba0f993c4ffeabb8d6fca661643e": {
          "model_module": "@jupyter-widgets/controls",
          "model_name": "HTMLModel",
          "state": {
            "_view_name": "HTMLView",
            "style": "IPY_MODEL_363de817a7be4ea88f880f6932148365",
            "_dom_classes": [],
            "description": "",
            "_model_name": "HTMLModel",
            "placeholder": "​",
            "_view_module": "@jupyter-widgets/controls",
            "_model_module_version": "1.5.0",
            "value": " 527M/527M [00:14&lt;00:00, 35.2MB/s]",
            "_view_count": null,
            "_view_module_version": "1.5.0",
            "description_tooltip": null,
            "_model_module": "@jupyter-widgets/controls",
            "layout": "IPY_MODEL_8e31d5d236c34dc7b7192fe7d636ae3b"
          }
        },
        "7077c8d8064d4f828d54c3bed0144f2a": {
          "model_module": "@jupyter-widgets/controls",
          "model_name": "ProgressStyleModel",
          "state": {
            "_view_name": "StyleView",
            "_model_name": "ProgressStyleModel",
            "description_width": "initial",
            "_view_module": "@jupyter-widgets/base",
            "_model_module_version": "1.5.0",
            "_view_count": null,
            "_view_module_version": "1.2.0",
            "bar_color": null,
            "_model_module": "@jupyter-widgets/controls"
          }
        },
        "bc67e13ddbf247b9b5da5f8db7e3ff37": {
          "model_module": "@jupyter-widgets/base",
          "model_name": "LayoutModel",
          "state": {
            "_view_name": "LayoutView",
            "grid_template_rows": null,
            "right": null,
            "justify_content": null,
            "_view_module": "@jupyter-widgets/base",
            "overflow": null,
            "_model_module_version": "1.2.0",
            "_view_count": null,
            "flex_flow": null,
            "width": null,
            "min_width": null,
            "border": null,
            "align_items": null,
            "bottom": null,
            "_model_module": "@jupyter-widgets/base",
            "top": null,
            "grid_column": null,
            "overflow_y": null,
            "overflow_x": null,
            "grid_auto_flow": null,
            "grid_area": null,
            "grid_template_columns": null,
            "flex": null,
            "_model_name": "LayoutModel",
            "justify_items": null,
            "grid_row": null,
            "max_height": null,
            "align_content": null,
            "visibility": null,
            "align_self": null,
            "height": null,
            "min_height": null,
            "padding": null,
            "grid_auto_rows": null,
            "grid_gap": null,
            "max_width": null,
            "order": null,
            "_view_module_version": "1.2.0",
            "grid_template_areas": null,
            "object_position": null,
            "object_fit": null,
            "grid_auto_columns": null,
            "margin": null,
            "display": null,
            "left": null
          }
        },
        "363de817a7be4ea88f880f6932148365": {
          "model_module": "@jupyter-widgets/controls",
          "model_name": "DescriptionStyleModel",
          "state": {
            "_view_name": "StyleView",
            "_model_name": "DescriptionStyleModel",
            "description_width": "",
            "_view_module": "@jupyter-widgets/base",
            "_model_module_version": "1.5.0",
            "_view_count": null,
            "_view_module_version": "1.2.0",
            "_model_module": "@jupyter-widgets/controls"
          }
        },
        "8e31d5d236c34dc7b7192fe7d636ae3b": {
          "model_module": "@jupyter-widgets/base",
          "model_name": "LayoutModel",
          "state": {
            "_view_name": "LayoutView",
            "grid_template_rows": null,
            "right": null,
            "justify_content": null,
            "_view_module": "@jupyter-widgets/base",
            "overflow": null,
            "_model_module_version": "1.2.0",
            "_view_count": null,
            "flex_flow": null,
            "width": null,
            "min_width": null,
            "border": null,
            "align_items": null,
            "bottom": null,
            "_model_module": "@jupyter-widgets/base",
            "top": null,
            "grid_column": null,
            "overflow_y": null,
            "overflow_x": null,
            "grid_auto_flow": null,
            "grid_area": null,
            "grid_template_columns": null,
            "flex": null,
            "_model_name": "LayoutModel",
            "justify_items": null,
            "grid_row": null,
            "max_height": null,
            "align_content": null,
            "visibility": null,
            "align_self": null,
            "height": null,
            "min_height": null,
            "padding": null,
            "grid_auto_rows": null,
            "grid_gap": null,
            "max_width": null,
            "order": null,
            "_view_module_version": "1.2.0",
            "grid_template_areas": null,
            "object_position": null,
            "object_fit": null,
            "grid_auto_columns": null,
            "margin": null,
            "display": null,
            "left": null
          }
        },
        "465792d31e384110a6ebe969b39f6f23": {
          "model_module": "@jupyter-widgets/controls",
          "model_name": "HBoxModel",
          "state": {
            "_view_name": "HBoxView",
            "_dom_classes": [],
            "_model_name": "HBoxModel",
            "_view_module": "@jupyter-widgets/controls",
            "_model_module_version": "1.5.0",
            "_view_count": null,
            "_view_module_version": "1.5.0",
            "box_style": "",
            "layout": "IPY_MODEL_91e8a594e2844da595bae2b600f4dfee",
            "_model_module": "@jupyter-widgets/controls",
            "children": [
              "IPY_MODEL_a73d8952d58e46c798485eed3a9fa1a4",
              "IPY_MODEL_55bc7fb56d18452ca23b6603907b1c1f"
            ]
          }
        },
        "91e8a594e2844da595bae2b600f4dfee": {
          "model_module": "@jupyter-widgets/base",
          "model_name": "LayoutModel",
          "state": {
            "_view_name": "LayoutView",
            "grid_template_rows": null,
            "right": null,
            "justify_content": null,
            "_view_module": "@jupyter-widgets/base",
            "overflow": null,
            "_model_module_version": "1.2.0",
            "_view_count": null,
            "flex_flow": null,
            "width": null,
            "min_width": null,
            "border": null,
            "align_items": null,
            "bottom": null,
            "_model_module": "@jupyter-widgets/base",
            "top": null,
            "grid_column": null,
            "overflow_y": null,
            "overflow_x": null,
            "grid_auto_flow": null,
            "grid_area": null,
            "grid_template_columns": null,
            "flex": null,
            "_model_name": "LayoutModel",
            "justify_items": null,
            "grid_row": null,
            "max_height": null,
            "align_content": null,
            "visibility": null,
            "align_self": null,
            "height": null,
            "min_height": null,
            "padding": null,
            "grid_auto_rows": null,
            "grid_gap": null,
            "max_width": null,
            "order": null,
            "_view_module_version": "1.2.0",
            "grid_template_areas": null,
            "object_position": null,
            "object_fit": null,
            "grid_auto_columns": null,
            "margin": null,
            "display": null,
            "left": null
          }
        },
        "a73d8952d58e46c798485eed3a9fa1a4": {
          "model_module": "@jupyter-widgets/controls",
          "model_name": "FloatProgressModel",
          "state": {
            "_view_name": "ProgressView",
            "style": "IPY_MODEL_d3b95a145f6b41f0925f09e89afe6772",
            "_dom_classes": [],
            "description": "Downloading: 100%",
            "_model_name": "FloatProgressModel",
            "bar_style": "success",
            "max": 213450,
            "_view_module": "@jupyter-widgets/controls",
            "_model_module_version": "1.5.0",
            "value": 213450,
            "_view_count": null,
            "_view_module_version": "1.5.0",
            "orientation": "horizontal",
            "min": 0,
            "description_tooltip": null,
            "_model_module": "@jupyter-widgets/controls",
            "layout": "IPY_MODEL_3c22f2b8177843c186ddf544a18091de"
          }
        },
        "55bc7fb56d18452ca23b6603907b1c1f": {
          "model_module": "@jupyter-widgets/controls",
          "model_name": "HTMLModel",
          "state": {
            "_view_name": "HTMLView",
            "style": "IPY_MODEL_299cd321904e4bd3a0f9c238ad35f420",
            "_dom_classes": [],
            "description": "",
            "_model_name": "HTMLModel",
            "placeholder": "​",
            "_view_module": "@jupyter-widgets/controls",
            "_model_module_version": "1.5.0",
            "value": " 213k/213k [00:01&lt;00:00, 157kB/s]",
            "_view_count": null,
            "_view_module_version": "1.5.0",
            "description_tooltip": null,
            "_model_module": "@jupyter-widgets/controls",
            "layout": "IPY_MODEL_e4decb206b0a4375986de91923752650"
          }
        },
        "d3b95a145f6b41f0925f09e89afe6772": {
          "model_module": "@jupyter-widgets/controls",
          "model_name": "ProgressStyleModel",
          "state": {
            "_view_name": "StyleView",
            "_model_name": "ProgressStyleModel",
            "description_width": "initial",
            "_view_module": "@jupyter-widgets/base",
            "_model_module_version": "1.5.0",
            "_view_count": null,
            "_view_module_version": "1.2.0",
            "bar_color": null,
            "_model_module": "@jupyter-widgets/controls"
          }
        },
        "3c22f2b8177843c186ddf544a18091de": {
          "model_module": "@jupyter-widgets/base",
          "model_name": "LayoutModel",
          "state": {
            "_view_name": "LayoutView",
            "grid_template_rows": null,
            "right": null,
            "justify_content": null,
            "_view_module": "@jupyter-widgets/base",
            "overflow": null,
            "_model_module_version": "1.2.0",
            "_view_count": null,
            "flex_flow": null,
            "width": null,
            "min_width": null,
            "border": null,
            "align_items": null,
            "bottom": null,
            "_model_module": "@jupyter-widgets/base",
            "top": null,
            "grid_column": null,
            "overflow_y": null,
            "overflow_x": null,
            "grid_auto_flow": null,
            "grid_area": null,
            "grid_template_columns": null,
            "flex": null,
            "_model_name": "LayoutModel",
            "justify_items": null,
            "grid_row": null,
            "max_height": null,
            "align_content": null,
            "visibility": null,
            "align_self": null,
            "height": null,
            "min_height": null,
            "padding": null,
            "grid_auto_rows": null,
            "grid_gap": null,
            "max_width": null,
            "order": null,
            "_view_module_version": "1.2.0",
            "grid_template_areas": null,
            "object_position": null,
            "object_fit": null,
            "grid_auto_columns": null,
            "margin": null,
            "display": null,
            "left": null
          }
        },
        "299cd321904e4bd3a0f9c238ad35f420": {
          "model_module": "@jupyter-widgets/controls",
          "model_name": "DescriptionStyleModel",
          "state": {
            "_view_name": "StyleView",
            "_model_name": "DescriptionStyleModel",
            "description_width": "",
            "_view_module": "@jupyter-widgets/base",
            "_model_module_version": "1.5.0",
            "_view_count": null,
            "_view_module_version": "1.2.0",
            "_model_module": "@jupyter-widgets/controls"
          }
        },
        "e4decb206b0a4375986de91923752650": {
          "model_module": "@jupyter-widgets/base",
          "model_name": "LayoutModel",
          "state": {
            "_view_name": "LayoutView",
            "grid_template_rows": null,
            "right": null,
            "justify_content": null,
            "_view_module": "@jupyter-widgets/base",
            "overflow": null,
            "_model_module_version": "1.2.0",
            "_view_count": null,
            "flex_flow": null,
            "width": null,
            "min_width": null,
            "border": null,
            "align_items": null,
            "bottom": null,
            "_model_module": "@jupyter-widgets/base",
            "top": null,
            "grid_column": null,
            "overflow_y": null,
            "overflow_x": null,
            "grid_auto_flow": null,
            "grid_area": null,
            "grid_template_columns": null,
            "flex": null,
            "_model_name": "LayoutModel",
            "justify_items": null,
            "grid_row": null,
            "max_height": null,
            "align_content": null,
            "visibility": null,
            "align_self": null,
            "height": null,
            "min_height": null,
            "padding": null,
            "grid_auto_rows": null,
            "grid_gap": null,
            "max_width": null,
            "order": null,
            "_view_module_version": "1.2.0",
            "grid_template_areas": null,
            "object_position": null,
            "object_fit": null,
            "grid_auto_columns": null,
            "margin": null,
            "display": null,
            "left": null
          }
        },
        "3f314f6aea1b41fb878341bb517b819e": {
          "model_module": "@jupyter-widgets/controls",
          "model_name": "HBoxModel",
          "state": {
            "_view_name": "HBoxView",
            "_dom_classes": [],
            "_model_name": "HBoxModel",
            "_view_module": "@jupyter-widgets/controls",
            "_model_module_version": "1.5.0",
            "_view_count": null,
            "_view_module_version": "1.5.0",
            "box_style": "",
            "layout": "IPY_MODEL_e81bdf78305041b2af52402dd6678fe2",
            "_model_module": "@jupyter-widgets/controls",
            "children": [
              "IPY_MODEL_0e8cb3698c9243b6be9c1b83f062c040",
              "IPY_MODEL_bed5610150854befab0fd8263369a4bb"
            ]
          }
        },
        "e81bdf78305041b2af52402dd6678fe2": {
          "model_module": "@jupyter-widgets/base",
          "model_name": "LayoutModel",
          "state": {
            "_view_name": "LayoutView",
            "grid_template_rows": null,
            "right": null,
            "justify_content": null,
            "_view_module": "@jupyter-widgets/base",
            "overflow": null,
            "_model_module_version": "1.2.0",
            "_view_count": null,
            "flex_flow": null,
            "width": null,
            "min_width": null,
            "border": null,
            "align_items": null,
            "bottom": null,
            "_model_module": "@jupyter-widgets/base",
            "top": null,
            "grid_column": null,
            "overflow_y": null,
            "overflow_x": null,
            "grid_auto_flow": null,
            "grid_area": null,
            "grid_template_columns": null,
            "flex": null,
            "_model_name": "LayoutModel",
            "justify_items": null,
            "grid_row": null,
            "max_height": null,
            "align_content": null,
            "visibility": null,
            "align_self": null,
            "height": null,
            "min_height": null,
            "padding": null,
            "grid_auto_rows": null,
            "grid_gap": null,
            "max_width": null,
            "order": null,
            "_view_module_version": "1.2.0",
            "grid_template_areas": null,
            "object_position": null,
            "object_fit": null,
            "grid_auto_columns": null,
            "margin": null,
            "display": null,
            "left": null
          }
        },
        "0e8cb3698c9243b6be9c1b83f062c040": {
          "model_module": "@jupyter-widgets/controls",
          "model_name": "FloatProgressModel",
          "state": {
            "_view_name": "ProgressView",
            "style": "IPY_MODEL_555d29ca6fac4482b2de1b50342a2f97",
            "_dom_classes": [],
            "description": "Downloading: 100%",
            "_model_name": "FloatProgressModel",
            "bar_style": "success",
            "max": 29,
            "_view_module": "@jupyter-widgets/controls",
            "_model_module_version": "1.5.0",
            "value": 29,
            "_view_count": null,
            "_view_module_version": "1.5.0",
            "orientation": "horizontal",
            "min": 0,
            "description_tooltip": null,
            "_model_module": "@jupyter-widgets/controls",
            "layout": "IPY_MODEL_c39f06f176ab432886363825decee9c5"
          }
        },
        "bed5610150854befab0fd8263369a4bb": {
          "model_module": "@jupyter-widgets/controls",
          "model_name": "HTMLModel",
          "state": {
            "_view_name": "HTMLView",
            "style": "IPY_MODEL_9546edbc43c74eb8a55bff1a7c773852",
            "_dom_classes": [],
            "description": "",
            "_model_name": "HTMLModel",
            "placeholder": "​",
            "_view_module": "@jupyter-widgets/controls",
            "_model_module_version": "1.5.0",
            "value": " 29.0/29.0 [00:00&lt;00:00, 29.5B/s]",
            "_view_count": null,
            "_view_module_version": "1.5.0",
            "description_tooltip": null,
            "_model_module": "@jupyter-widgets/controls",
            "layout": "IPY_MODEL_facf454484ac461dabf7773253421d61"
          }
        },
        "555d29ca6fac4482b2de1b50342a2f97": {
          "model_module": "@jupyter-widgets/controls",
          "model_name": "ProgressStyleModel",
          "state": {
            "_view_name": "StyleView",
            "_model_name": "ProgressStyleModel",
            "description_width": "initial",
            "_view_module": "@jupyter-widgets/base",
            "_model_module_version": "1.5.0",
            "_view_count": null,
            "_view_module_version": "1.2.0",
            "bar_color": null,
            "_model_module": "@jupyter-widgets/controls"
          }
        },
        "c39f06f176ab432886363825decee9c5": {
          "model_module": "@jupyter-widgets/base",
          "model_name": "LayoutModel",
          "state": {
            "_view_name": "LayoutView",
            "grid_template_rows": null,
            "right": null,
            "justify_content": null,
            "_view_module": "@jupyter-widgets/base",
            "overflow": null,
            "_model_module_version": "1.2.0",
            "_view_count": null,
            "flex_flow": null,
            "width": null,
            "min_width": null,
            "border": null,
            "align_items": null,
            "bottom": null,
            "_model_module": "@jupyter-widgets/base",
            "top": null,
            "grid_column": null,
            "overflow_y": null,
            "overflow_x": null,
            "grid_auto_flow": null,
            "grid_area": null,
            "grid_template_columns": null,
            "flex": null,
            "_model_name": "LayoutModel",
            "justify_items": null,
            "grid_row": null,
            "max_height": null,
            "align_content": null,
            "visibility": null,
            "align_self": null,
            "height": null,
            "min_height": null,
            "padding": null,
            "grid_auto_rows": null,
            "grid_gap": null,
            "max_width": null,
            "order": null,
            "_view_module_version": "1.2.0",
            "grid_template_areas": null,
            "object_position": null,
            "object_fit": null,
            "grid_auto_columns": null,
            "margin": null,
            "display": null,
            "left": null
          }
        },
        "9546edbc43c74eb8a55bff1a7c773852": {
          "model_module": "@jupyter-widgets/controls",
          "model_name": "DescriptionStyleModel",
          "state": {
            "_view_name": "StyleView",
            "_model_name": "DescriptionStyleModel",
            "description_width": "",
            "_view_module": "@jupyter-widgets/base",
            "_model_module_version": "1.5.0",
            "_view_count": null,
            "_view_module_version": "1.2.0",
            "_model_module": "@jupyter-widgets/controls"
          }
        },
        "facf454484ac461dabf7773253421d61": {
          "model_module": "@jupyter-widgets/base",
          "model_name": "LayoutModel",
          "state": {
            "_view_name": "LayoutView",
            "grid_template_rows": null,
            "right": null,
            "justify_content": null,
            "_view_module": "@jupyter-widgets/base",
            "overflow": null,
            "_model_module_version": "1.2.0",
            "_view_count": null,
            "flex_flow": null,
            "width": null,
            "min_width": null,
            "border": null,
            "align_items": null,
            "bottom": null,
            "_model_module": "@jupyter-widgets/base",
            "top": null,
            "grid_column": null,
            "overflow_y": null,
            "overflow_x": null,
            "grid_auto_flow": null,
            "grid_area": null,
            "grid_template_columns": null,
            "flex": null,
            "_model_name": "LayoutModel",
            "justify_items": null,
            "grid_row": null,
            "max_height": null,
            "align_content": null,
            "visibility": null,
            "align_self": null,
            "height": null,
            "min_height": null,
            "padding": null,
            "grid_auto_rows": null,
            "grid_gap": null,
            "max_width": null,
            "order": null,
            "_view_module_version": "1.2.0",
            "grid_template_areas": null,
            "object_position": null,
            "object_fit": null,
            "grid_auto_columns": null,
            "margin": null,
            "display": null,
            "left": null
          }
        },
        "7e1617db447245159bc9a32700235e2e": {
          "model_module": "@jupyter-widgets/controls",
          "model_name": "HBoxModel",
          "state": {
            "_view_name": "HBoxView",
            "_dom_classes": [],
            "_model_name": "HBoxModel",
            "_view_module": "@jupyter-widgets/controls",
            "_model_module_version": "1.5.0",
            "_view_count": null,
            "_view_module_version": "1.5.0",
            "box_style": "",
            "layout": "IPY_MODEL_1d3c0db8c57c44ffbeb660a4f042e257",
            "_model_module": "@jupyter-widgets/controls",
            "children": [
              "IPY_MODEL_a2cade42040b4576864290080592694b",
              "IPY_MODEL_3a1ac591e383468b865c9a8482b451f9"
            ]
          }
        },
        "1d3c0db8c57c44ffbeb660a4f042e257": {
          "model_module": "@jupyter-widgets/base",
          "model_name": "LayoutModel",
          "state": {
            "_view_name": "LayoutView",
            "grid_template_rows": null,
            "right": null,
            "justify_content": null,
            "_view_module": "@jupyter-widgets/base",
            "overflow": null,
            "_model_module_version": "1.2.0",
            "_view_count": null,
            "flex_flow": null,
            "width": null,
            "min_width": null,
            "border": null,
            "align_items": null,
            "bottom": null,
            "_model_module": "@jupyter-widgets/base",
            "top": null,
            "grid_column": null,
            "overflow_y": null,
            "overflow_x": null,
            "grid_auto_flow": null,
            "grid_area": null,
            "grid_template_columns": null,
            "flex": null,
            "_model_name": "LayoutModel",
            "justify_items": null,
            "grid_row": null,
            "max_height": null,
            "align_content": null,
            "visibility": null,
            "align_self": null,
            "height": null,
            "min_height": null,
            "padding": null,
            "grid_auto_rows": null,
            "grid_gap": null,
            "max_width": null,
            "order": null,
            "_view_module_version": "1.2.0",
            "grid_template_areas": null,
            "object_position": null,
            "object_fit": null,
            "grid_auto_columns": null,
            "margin": null,
            "display": null,
            "left": null
          }
        },
        "a2cade42040b4576864290080592694b": {
          "model_module": "@jupyter-widgets/controls",
          "model_name": "FloatProgressModel",
          "state": {
            "_view_name": "ProgressView",
            "style": "IPY_MODEL_530f1e45229a4649a118928420f42c2d",
            "_dom_classes": [],
            "description": "Downloading: 100%",
            "_model_name": "FloatProgressModel",
            "bar_style": "success",
            "max": 435797,
            "_view_module": "@jupyter-widgets/controls",
            "_model_module_version": "1.5.0",
            "value": 435797,
            "_view_count": null,
            "_view_module_version": "1.5.0",
            "orientation": "horizontal",
            "min": 0,
            "description_tooltip": null,
            "_model_module": "@jupyter-widgets/controls",
            "layout": "IPY_MODEL_7230ace93d6e4ede90e1d1a7f3308168"
          }
        },
        "3a1ac591e383468b865c9a8482b451f9": {
          "model_module": "@jupyter-widgets/controls",
          "model_name": "HTMLModel",
          "state": {
            "_view_name": "HTMLView",
            "style": "IPY_MODEL_a8f25520c2ae45f0b6896a8d3365265f",
            "_dom_classes": [],
            "description": "",
            "_model_name": "HTMLModel",
            "placeholder": "​",
            "_view_module": "@jupyter-widgets/controls",
            "_model_module_version": "1.5.0",
            "value": " 436k/436k [00:00&lt;00:00, 1.05MB/s]",
            "_view_count": null,
            "_view_module_version": "1.5.0",
            "description_tooltip": null,
            "_model_module": "@jupyter-widgets/controls",
            "layout": "IPY_MODEL_2622d6098882457d89471eb42acff2ac"
          }
        },
        "530f1e45229a4649a118928420f42c2d": {
          "model_module": "@jupyter-widgets/controls",
          "model_name": "ProgressStyleModel",
          "state": {
            "_view_name": "StyleView",
            "_model_name": "ProgressStyleModel",
            "description_width": "initial",
            "_view_module": "@jupyter-widgets/base",
            "_model_module_version": "1.5.0",
            "_view_count": null,
            "_view_module_version": "1.2.0",
            "bar_color": null,
            "_model_module": "@jupyter-widgets/controls"
          }
        },
        "7230ace93d6e4ede90e1d1a7f3308168": {
          "model_module": "@jupyter-widgets/base",
          "model_name": "LayoutModel",
          "state": {
            "_view_name": "LayoutView",
            "grid_template_rows": null,
            "right": null,
            "justify_content": null,
            "_view_module": "@jupyter-widgets/base",
            "overflow": null,
            "_model_module_version": "1.2.0",
            "_view_count": null,
            "flex_flow": null,
            "width": null,
            "min_width": null,
            "border": null,
            "align_items": null,
            "bottom": null,
            "_model_module": "@jupyter-widgets/base",
            "top": null,
            "grid_column": null,
            "overflow_y": null,
            "overflow_x": null,
            "grid_auto_flow": null,
            "grid_area": null,
            "grid_template_columns": null,
            "flex": null,
            "_model_name": "LayoutModel",
            "justify_items": null,
            "grid_row": null,
            "max_height": null,
            "align_content": null,
            "visibility": null,
            "align_self": null,
            "height": null,
            "min_height": null,
            "padding": null,
            "grid_auto_rows": null,
            "grid_gap": null,
            "max_width": null,
            "order": null,
            "_view_module_version": "1.2.0",
            "grid_template_areas": null,
            "object_position": null,
            "object_fit": null,
            "grid_auto_columns": null,
            "margin": null,
            "display": null,
            "left": null
          }
        },
        "a8f25520c2ae45f0b6896a8d3365265f": {
          "model_module": "@jupyter-widgets/controls",
          "model_name": "DescriptionStyleModel",
          "state": {
            "_view_name": "StyleView",
            "_model_name": "DescriptionStyleModel",
            "description_width": "",
            "_view_module": "@jupyter-widgets/base",
            "_model_module_version": "1.5.0",
            "_view_count": null,
            "_view_module_version": "1.2.0",
            "_model_module": "@jupyter-widgets/controls"
          }
        },
        "2622d6098882457d89471eb42acff2ac": {
          "model_module": "@jupyter-widgets/base",
          "model_name": "LayoutModel",
          "state": {
            "_view_name": "LayoutView",
            "grid_template_rows": null,
            "right": null,
            "justify_content": null,
            "_view_module": "@jupyter-widgets/base",
            "overflow": null,
            "_model_module_version": "1.2.0",
            "_view_count": null,
            "flex_flow": null,
            "width": null,
            "min_width": null,
            "border": null,
            "align_items": null,
            "bottom": null,
            "_model_module": "@jupyter-widgets/base",
            "top": null,
            "grid_column": null,
            "overflow_y": null,
            "overflow_x": null,
            "grid_auto_flow": null,
            "grid_area": null,
            "grid_template_columns": null,
            "flex": null,
            "_model_name": "LayoutModel",
            "justify_items": null,
            "grid_row": null,
            "max_height": null,
            "align_content": null,
            "visibility": null,
            "align_self": null,
            "height": null,
            "min_height": null,
            "padding": null,
            "grid_auto_rows": null,
            "grid_gap": null,
            "max_width": null,
            "order": null,
            "_view_module_version": "1.2.0",
            "grid_template_areas": null,
            "object_position": null,
            "object_fit": null,
            "grid_auto_columns": null,
            "margin": null,
            "display": null,
            "left": null
          }
        },
        "05dc5a8d81eb4791949e8d4d8d21b789": {
          "model_module": "@jupyter-widgets/controls",
          "model_name": "HBoxModel",
          "state": {
            "_view_name": "HBoxView",
            "_dom_classes": [],
            "_model_name": "HBoxModel",
            "_view_module": "@jupyter-widgets/controls",
            "_model_module_version": "1.5.0",
            "_view_count": null,
            "_view_module_version": "1.5.0",
            "box_style": "",
            "layout": "IPY_MODEL_ccc9ca1b1b08440ab463958777a19631",
            "_model_module": "@jupyter-widgets/controls",
            "children": [
              "IPY_MODEL_eff43d779c524525aee5ff78adcd569c",
              "IPY_MODEL_ddae488baf68405c841de80aa8caf900"
            ]
          }
        },
        "ccc9ca1b1b08440ab463958777a19631": {
          "model_module": "@jupyter-widgets/base",
          "model_name": "LayoutModel",
          "state": {
            "_view_name": "LayoutView",
            "grid_template_rows": null,
            "right": null,
            "justify_content": null,
            "_view_module": "@jupyter-widgets/base",
            "overflow": null,
            "_model_module_version": "1.2.0",
            "_view_count": null,
            "flex_flow": null,
            "width": null,
            "min_width": null,
            "border": null,
            "align_items": null,
            "bottom": null,
            "_model_module": "@jupyter-widgets/base",
            "top": null,
            "grid_column": null,
            "overflow_y": null,
            "overflow_x": null,
            "grid_auto_flow": null,
            "grid_area": null,
            "grid_template_columns": null,
            "flex": null,
            "_model_name": "LayoutModel",
            "justify_items": null,
            "grid_row": null,
            "max_height": null,
            "align_content": null,
            "visibility": null,
            "align_self": null,
            "height": null,
            "min_height": null,
            "padding": null,
            "grid_auto_rows": null,
            "grid_gap": null,
            "max_width": null,
            "order": null,
            "_view_module_version": "1.2.0",
            "grid_template_areas": null,
            "object_position": null,
            "object_fit": null,
            "grid_auto_columns": null,
            "margin": null,
            "display": null,
            "left": null
          }
        },
        "eff43d779c524525aee5ff78adcd569c": {
          "model_module": "@jupyter-widgets/controls",
          "model_name": "FloatProgressModel",
          "state": {
            "_view_name": "ProgressView",
            "style": "IPY_MODEL_c88f3ec6bb35473b9a4722a0d5e41fc3",
            "_dom_classes": [],
            "description": "Downloading: 100%",
            "_model_name": "FloatProgressModel",
            "bar_style": "success",
            "max": 570,
            "_view_module": "@jupyter-widgets/controls",
            "_model_module_version": "1.5.0",
            "value": 570,
            "_view_count": null,
            "_view_module_version": "1.5.0",
            "orientation": "horizontal",
            "min": 0,
            "description_tooltip": null,
            "_model_module": "@jupyter-widgets/controls",
            "layout": "IPY_MODEL_ef78ab33be3344ffb27be83fe236ec2c"
          }
        },
        "ddae488baf68405c841de80aa8caf900": {
          "model_module": "@jupyter-widgets/controls",
          "model_name": "HTMLModel",
          "state": {
            "_view_name": "HTMLView",
            "style": "IPY_MODEL_8053264befa2471eb6ad2b18c36e1fc2",
            "_dom_classes": [],
            "description": "",
            "_model_name": "HTMLModel",
            "placeholder": "​",
            "_view_module": "@jupyter-widgets/controls",
            "_model_module_version": "1.5.0",
            "value": " 570/570 [00:00&lt;00:00, 1.42kB/s]",
            "_view_count": null,
            "_view_module_version": "1.5.0",
            "description_tooltip": null,
            "_model_module": "@jupyter-widgets/controls",
            "layout": "IPY_MODEL_da23f9c0bb6b42cca8c65759b35a673f"
          }
        },
        "c88f3ec6bb35473b9a4722a0d5e41fc3": {
          "model_module": "@jupyter-widgets/controls",
          "model_name": "ProgressStyleModel",
          "state": {
            "_view_name": "StyleView",
            "_model_name": "ProgressStyleModel",
            "description_width": "initial",
            "_view_module": "@jupyter-widgets/base",
            "_model_module_version": "1.5.0",
            "_view_count": null,
            "_view_module_version": "1.2.0",
            "bar_color": null,
            "_model_module": "@jupyter-widgets/controls"
          }
        },
        "ef78ab33be3344ffb27be83fe236ec2c": {
          "model_module": "@jupyter-widgets/base",
          "model_name": "LayoutModel",
          "state": {
            "_view_name": "LayoutView",
            "grid_template_rows": null,
            "right": null,
            "justify_content": null,
            "_view_module": "@jupyter-widgets/base",
            "overflow": null,
            "_model_module_version": "1.2.0",
            "_view_count": null,
            "flex_flow": null,
            "width": null,
            "min_width": null,
            "border": null,
            "align_items": null,
            "bottom": null,
            "_model_module": "@jupyter-widgets/base",
            "top": null,
            "grid_column": null,
            "overflow_y": null,
            "overflow_x": null,
            "grid_auto_flow": null,
            "grid_area": null,
            "grid_template_columns": null,
            "flex": null,
            "_model_name": "LayoutModel",
            "justify_items": null,
            "grid_row": null,
            "max_height": null,
            "align_content": null,
            "visibility": null,
            "align_self": null,
            "height": null,
            "min_height": null,
            "padding": null,
            "grid_auto_rows": null,
            "grid_gap": null,
            "max_width": null,
            "order": null,
            "_view_module_version": "1.2.0",
            "grid_template_areas": null,
            "object_position": null,
            "object_fit": null,
            "grid_auto_columns": null,
            "margin": null,
            "display": null,
            "left": null
          }
        },
        "8053264befa2471eb6ad2b18c36e1fc2": {
          "model_module": "@jupyter-widgets/controls",
          "model_name": "DescriptionStyleModel",
          "state": {
            "_view_name": "StyleView",
            "_model_name": "DescriptionStyleModel",
            "description_width": "",
            "_view_module": "@jupyter-widgets/base",
            "_model_module_version": "1.5.0",
            "_view_count": null,
            "_view_module_version": "1.2.0",
            "_model_module": "@jupyter-widgets/controls"
          }
        },
        "da23f9c0bb6b42cca8c65759b35a673f": {
          "model_module": "@jupyter-widgets/base",
          "model_name": "LayoutModel",
          "state": {
            "_view_name": "LayoutView",
            "grid_template_rows": null,
            "right": null,
            "justify_content": null,
            "_view_module": "@jupyter-widgets/base",
            "overflow": null,
            "_model_module_version": "1.2.0",
            "_view_count": null,
            "flex_flow": null,
            "width": null,
            "min_width": null,
            "border": null,
            "align_items": null,
            "bottom": null,
            "_model_module": "@jupyter-widgets/base",
            "top": null,
            "grid_column": null,
            "overflow_y": null,
            "overflow_x": null,
            "grid_auto_flow": null,
            "grid_area": null,
            "grid_template_columns": null,
            "flex": null,
            "_model_name": "LayoutModel",
            "justify_items": null,
            "grid_row": null,
            "max_height": null,
            "align_content": null,
            "visibility": null,
            "align_self": null,
            "height": null,
            "min_height": null,
            "padding": null,
            "grid_auto_rows": null,
            "grid_gap": null,
            "max_width": null,
            "order": null,
            "_view_module_version": "1.2.0",
            "grid_template_areas": null,
            "object_position": null,
            "object_fit": null,
            "grid_auto_columns": null,
            "margin": null,
            "display": null,
            "left": null
          }
        },
        "49d822d781c8424a83c52ed39825382b": {
          "model_module": "@jupyter-widgets/controls",
          "model_name": "HBoxModel",
          "state": {
            "_view_name": "HBoxView",
            "_dom_classes": [],
            "_model_name": "HBoxModel",
            "_view_module": "@jupyter-widgets/controls",
            "_model_module_version": "1.5.0",
            "_view_count": null,
            "_view_module_version": "1.5.0",
            "box_style": "",
            "layout": "IPY_MODEL_55dfb06d75294ae4ab79bb69ab6467d0",
            "_model_module": "@jupyter-widgets/controls",
            "children": [
              "IPY_MODEL_2b1ba0646a914eeba4635e3b12ef8b6f",
              "IPY_MODEL_577c0f6651f041ec97af8049cfb4e84b"
            ]
          }
        },
        "55dfb06d75294ae4ab79bb69ab6467d0": {
          "model_module": "@jupyter-widgets/base",
          "model_name": "LayoutModel",
          "state": {
            "_view_name": "LayoutView",
            "grid_template_rows": null,
            "right": null,
            "justify_content": null,
            "_view_module": "@jupyter-widgets/base",
            "overflow": null,
            "_model_module_version": "1.2.0",
            "_view_count": null,
            "flex_flow": null,
            "width": null,
            "min_width": null,
            "border": null,
            "align_items": null,
            "bottom": null,
            "_model_module": "@jupyter-widgets/base",
            "top": null,
            "grid_column": null,
            "overflow_y": null,
            "overflow_x": null,
            "grid_auto_flow": null,
            "grid_area": null,
            "grid_template_columns": null,
            "flex": null,
            "_model_name": "LayoutModel",
            "justify_items": null,
            "grid_row": null,
            "max_height": null,
            "align_content": null,
            "visibility": null,
            "align_self": null,
            "height": null,
            "min_height": null,
            "padding": null,
            "grid_auto_rows": null,
            "grid_gap": null,
            "max_width": null,
            "order": null,
            "_view_module_version": "1.2.0",
            "grid_template_areas": null,
            "object_position": null,
            "object_fit": null,
            "grid_auto_columns": null,
            "margin": null,
            "display": null,
            "left": null
          }
        },
        "2b1ba0646a914eeba4635e3b12ef8b6f": {
          "model_module": "@jupyter-widgets/controls",
          "model_name": "FloatProgressModel",
          "state": {
            "_view_name": "ProgressView",
            "style": "IPY_MODEL_ad29abaa8e594aa18e4b171f12ff07a4",
            "_dom_classes": [],
            "description": "Downloading: 100%",
            "_model_name": "FloatProgressModel",
            "bar_style": "success",
            "max": 536063208,
            "_view_module": "@jupyter-widgets/controls",
            "_model_module_version": "1.5.0",
            "value": 536063208,
            "_view_count": null,
            "_view_module_version": "1.5.0",
            "orientation": "horizontal",
            "min": 0,
            "description_tooltip": null,
            "_model_module": "@jupyter-widgets/controls",
            "layout": "IPY_MODEL_f41006672eb946ef84b382bf087b0e83"
          }
        },
        "577c0f6651f041ec97af8049cfb4e84b": {
          "model_module": "@jupyter-widgets/controls",
          "model_name": "HTMLModel",
          "state": {
            "_view_name": "HTMLView",
            "style": "IPY_MODEL_5b8f53e53c974e538808cbdf9c755d99",
            "_dom_classes": [],
            "description": "",
            "_model_name": "HTMLModel",
            "placeholder": "​",
            "_view_module": "@jupyter-widgets/controls",
            "_model_module_version": "1.5.0",
            "value": " 536M/536M [00:15&lt;00:00, 33.9MB/s]",
            "_view_count": null,
            "_view_module_version": "1.5.0",
            "description_tooltip": null,
            "_model_module": "@jupyter-widgets/controls",
            "layout": "IPY_MODEL_fbc7ab47ff6d464c961e06a1f36fdd29"
          }
        },
        "ad29abaa8e594aa18e4b171f12ff07a4": {
          "model_module": "@jupyter-widgets/controls",
          "model_name": "ProgressStyleModel",
          "state": {
            "_view_name": "StyleView",
            "_model_name": "ProgressStyleModel",
            "description_width": "initial",
            "_view_module": "@jupyter-widgets/base",
            "_model_module_version": "1.5.0",
            "_view_count": null,
            "_view_module_version": "1.2.0",
            "bar_color": null,
            "_model_module": "@jupyter-widgets/controls"
          }
        },
        "f41006672eb946ef84b382bf087b0e83": {
          "model_module": "@jupyter-widgets/base",
          "model_name": "LayoutModel",
          "state": {
            "_view_name": "LayoutView",
            "grid_template_rows": null,
            "right": null,
            "justify_content": null,
            "_view_module": "@jupyter-widgets/base",
            "overflow": null,
            "_model_module_version": "1.2.0",
            "_view_count": null,
            "flex_flow": null,
            "width": null,
            "min_width": null,
            "border": null,
            "align_items": null,
            "bottom": null,
            "_model_module": "@jupyter-widgets/base",
            "top": null,
            "grid_column": null,
            "overflow_y": null,
            "overflow_x": null,
            "grid_auto_flow": null,
            "grid_area": null,
            "grid_template_columns": null,
            "flex": null,
            "_model_name": "LayoutModel",
            "justify_items": null,
            "grid_row": null,
            "max_height": null,
            "align_content": null,
            "visibility": null,
            "align_self": null,
            "height": null,
            "min_height": null,
            "padding": null,
            "grid_auto_rows": null,
            "grid_gap": null,
            "max_width": null,
            "order": null,
            "_view_module_version": "1.2.0",
            "grid_template_areas": null,
            "object_position": null,
            "object_fit": null,
            "grid_auto_columns": null,
            "margin": null,
            "display": null,
            "left": null
          }
        },
        "5b8f53e53c974e538808cbdf9c755d99": {
          "model_module": "@jupyter-widgets/controls",
          "model_name": "DescriptionStyleModel",
          "state": {
            "_view_name": "StyleView",
            "_model_name": "DescriptionStyleModel",
            "description_width": "",
            "_view_module": "@jupyter-widgets/base",
            "_model_module_version": "1.5.0",
            "_view_count": null,
            "_view_module_version": "1.2.0",
            "_model_module": "@jupyter-widgets/controls"
          }
        },
        "fbc7ab47ff6d464c961e06a1f36fdd29": {
          "model_module": "@jupyter-widgets/base",
          "model_name": "LayoutModel",
          "state": {
            "_view_name": "LayoutView",
            "grid_template_rows": null,
            "right": null,
            "justify_content": null,
            "_view_module": "@jupyter-widgets/base",
            "overflow": null,
            "_model_module_version": "1.2.0",
            "_view_count": null,
            "flex_flow": null,
            "width": null,
            "min_width": null,
            "border": null,
            "align_items": null,
            "bottom": null,
            "_model_module": "@jupyter-widgets/base",
            "top": null,
            "grid_column": null,
            "overflow_y": null,
            "overflow_x": null,
            "grid_auto_flow": null,
            "grid_area": null,
            "grid_template_columns": null,
            "flex": null,
            "_model_name": "LayoutModel",
            "justify_items": null,
            "grid_row": null,
            "max_height": null,
            "align_content": null,
            "visibility": null,
            "align_self": null,
            "height": null,
            "min_height": null,
            "padding": null,
            "grid_auto_rows": null,
            "grid_gap": null,
            "max_width": null,
            "order": null,
            "_view_module_version": "1.2.0",
            "grid_template_areas": null,
            "object_position": null,
            "object_fit": null,
            "grid_auto_columns": null,
            "margin": null,
            "display": null,
            "left": null
          }
        },
        "67286a59fceb4041a5a3e083ae1c59c3": {
          "model_module": "@jupyter-widgets/controls",
          "model_name": "HBoxModel",
          "state": {
            "_view_name": "HBoxView",
            "_dom_classes": [],
            "_model_name": "HBoxModel",
            "_view_module": "@jupyter-widgets/controls",
            "_model_module_version": "1.5.0",
            "_view_count": null,
            "_view_module_version": "1.5.0",
            "box_style": "",
            "layout": "IPY_MODEL_233d582175d04f8f8e71fb5390c78e66",
            "_model_module": "@jupyter-widgets/controls",
            "children": [
              "IPY_MODEL_fb48f2fcccf444758b4ccbe480b3f268",
              "IPY_MODEL_e8933920dd9e49e0ae0bd37c32e947fa"
            ]
          }
        },
        "233d582175d04f8f8e71fb5390c78e66": {
          "model_module": "@jupyter-widgets/base",
          "model_name": "LayoutModel",
          "state": {
            "_view_name": "LayoutView",
            "grid_template_rows": null,
            "right": null,
            "justify_content": null,
            "_view_module": "@jupyter-widgets/base",
            "overflow": null,
            "_model_module_version": "1.2.0",
            "_view_count": null,
            "flex_flow": null,
            "width": null,
            "min_width": null,
            "border": null,
            "align_items": null,
            "bottom": null,
            "_model_module": "@jupyter-widgets/base",
            "top": null,
            "grid_column": null,
            "overflow_y": null,
            "overflow_x": null,
            "grid_auto_flow": null,
            "grid_area": null,
            "grid_template_columns": null,
            "flex": null,
            "_model_name": "LayoutModel",
            "justify_items": null,
            "grid_row": null,
            "max_height": null,
            "align_content": null,
            "visibility": null,
            "align_self": null,
            "height": null,
            "min_height": null,
            "padding": null,
            "grid_auto_rows": null,
            "grid_gap": null,
            "max_width": null,
            "order": null,
            "_view_module_version": "1.2.0",
            "grid_template_areas": null,
            "object_position": null,
            "object_fit": null,
            "grid_auto_columns": null,
            "margin": null,
            "display": null,
            "left": null
          }
        },
        "fb48f2fcccf444758b4ccbe480b3f268": {
          "model_module": "@jupyter-widgets/controls",
          "model_name": "FloatProgressModel",
          "state": {
            "_view_name": "ProgressView",
            "style": "IPY_MODEL_bc7a066f1fef4501835657b30789f2d7",
            "_dom_classes": [],
            "description": "Downloading: 100%",
            "_model_name": "FloatProgressModel",
            "bar_style": "success",
            "max": 231508,
            "_view_module": "@jupyter-widgets/controls",
            "_model_module_version": "1.5.0",
            "value": 231508,
            "_view_count": null,
            "_view_module_version": "1.5.0",
            "orientation": "horizontal",
            "min": 0,
            "description_tooltip": null,
            "_model_module": "@jupyter-widgets/controls",
            "layout": "IPY_MODEL_f58114b89e214864be4d9c9ad8d414a3"
          }
        },
        "e8933920dd9e49e0ae0bd37c32e947fa": {
          "model_module": "@jupyter-widgets/controls",
          "model_name": "HTMLModel",
          "state": {
            "_view_name": "HTMLView",
            "style": "IPY_MODEL_a1387177c4814618a421b34d685f6abe",
            "_dom_classes": [],
            "description": "",
            "_model_name": "HTMLModel",
            "placeholder": "​",
            "_view_module": "@jupyter-widgets/controls",
            "_model_module_version": "1.5.0",
            "value": " 232k/232k [00:00&lt;00:00, 372kB/s]",
            "_view_count": null,
            "_view_module_version": "1.5.0",
            "description_tooltip": null,
            "_model_module": "@jupyter-widgets/controls",
            "layout": "IPY_MODEL_96086f6b1f464f17b7b0b8be966d9172"
          }
        },
        "bc7a066f1fef4501835657b30789f2d7": {
          "model_module": "@jupyter-widgets/controls",
          "model_name": "ProgressStyleModel",
          "state": {
            "_view_name": "StyleView",
            "_model_name": "ProgressStyleModel",
            "description_width": "initial",
            "_view_module": "@jupyter-widgets/base",
            "_model_module_version": "1.5.0",
            "_view_count": null,
            "_view_module_version": "1.2.0",
            "bar_color": null,
            "_model_module": "@jupyter-widgets/controls"
          }
        },
        "f58114b89e214864be4d9c9ad8d414a3": {
          "model_module": "@jupyter-widgets/base",
          "model_name": "LayoutModel",
          "state": {
            "_view_name": "LayoutView",
            "grid_template_rows": null,
            "right": null,
            "justify_content": null,
            "_view_module": "@jupyter-widgets/base",
            "overflow": null,
            "_model_module_version": "1.2.0",
            "_view_count": null,
            "flex_flow": null,
            "width": null,
            "min_width": null,
            "border": null,
            "align_items": null,
            "bottom": null,
            "_model_module": "@jupyter-widgets/base",
            "top": null,
            "grid_column": null,
            "overflow_y": null,
            "overflow_x": null,
            "grid_auto_flow": null,
            "grid_area": null,
            "grid_template_columns": null,
            "flex": null,
            "_model_name": "LayoutModel",
            "justify_items": null,
            "grid_row": null,
            "max_height": null,
            "align_content": null,
            "visibility": null,
            "align_self": null,
            "height": null,
            "min_height": null,
            "padding": null,
            "grid_auto_rows": null,
            "grid_gap": null,
            "max_width": null,
            "order": null,
            "_view_module_version": "1.2.0",
            "grid_template_areas": null,
            "object_position": null,
            "object_fit": null,
            "grid_auto_columns": null,
            "margin": null,
            "display": null,
            "left": null
          }
        },
        "a1387177c4814618a421b34d685f6abe": {
          "model_module": "@jupyter-widgets/controls",
          "model_name": "DescriptionStyleModel",
          "state": {
            "_view_name": "StyleView",
            "_model_name": "DescriptionStyleModel",
            "description_width": "",
            "_view_module": "@jupyter-widgets/base",
            "_model_module_version": "1.5.0",
            "_view_count": null,
            "_view_module_version": "1.2.0",
            "_model_module": "@jupyter-widgets/controls"
          }
        },
        "96086f6b1f464f17b7b0b8be966d9172": {
          "model_module": "@jupyter-widgets/base",
          "model_name": "LayoutModel",
          "state": {
            "_view_name": "LayoutView",
            "grid_template_rows": null,
            "right": null,
            "justify_content": null,
            "_view_module": "@jupyter-widgets/base",
            "overflow": null,
            "_model_module_version": "1.2.0",
            "_view_count": null,
            "flex_flow": null,
            "width": null,
            "min_width": null,
            "border": null,
            "align_items": null,
            "bottom": null,
            "_model_module": "@jupyter-widgets/base",
            "top": null,
            "grid_column": null,
            "overflow_y": null,
            "overflow_x": null,
            "grid_auto_flow": null,
            "grid_area": null,
            "grid_template_columns": null,
            "flex": null,
            "_model_name": "LayoutModel",
            "justify_items": null,
            "grid_row": null,
            "max_height": null,
            "align_content": null,
            "visibility": null,
            "align_self": null,
            "height": null,
            "min_height": null,
            "padding": null,
            "grid_auto_rows": null,
            "grid_gap": null,
            "max_width": null,
            "order": null,
            "_view_module_version": "1.2.0",
            "grid_template_areas": null,
            "object_position": null,
            "object_fit": null,
            "grid_auto_columns": null,
            "margin": null,
            "display": null,
            "left": null
          }
        },
        "20c13c7ab5b449019b8a8a5536f17baa": {
          "model_module": "@jupyter-widgets/controls",
          "model_name": "HBoxModel",
          "state": {
            "_view_name": "HBoxView",
            "_dom_classes": [],
            "_model_name": "HBoxModel",
            "_view_module": "@jupyter-widgets/controls",
            "_model_module_version": "1.5.0",
            "_view_count": null,
            "_view_module_version": "1.5.0",
            "box_style": "",
            "layout": "IPY_MODEL_9d355547598b49c2ac4d969431d2f2be",
            "_model_module": "@jupyter-widgets/controls",
            "children": [
              "IPY_MODEL_7541f1aa35b04ba9809b2a8f4c105b13",
              "IPY_MODEL_d0fa2536b83e47fca5d466c468a27ede"
            ]
          }
        },
        "9d355547598b49c2ac4d969431d2f2be": {
          "model_module": "@jupyter-widgets/base",
          "model_name": "LayoutModel",
          "state": {
            "_view_name": "LayoutView",
            "grid_template_rows": null,
            "right": null,
            "justify_content": null,
            "_view_module": "@jupyter-widgets/base",
            "overflow": null,
            "_model_module_version": "1.2.0",
            "_view_count": null,
            "flex_flow": null,
            "width": null,
            "min_width": null,
            "border": null,
            "align_items": null,
            "bottom": null,
            "_model_module": "@jupyter-widgets/base",
            "top": null,
            "grid_column": null,
            "overflow_y": null,
            "overflow_x": null,
            "grid_auto_flow": null,
            "grid_area": null,
            "grid_template_columns": null,
            "flex": null,
            "_model_name": "LayoutModel",
            "justify_items": null,
            "grid_row": null,
            "max_height": null,
            "align_content": null,
            "visibility": null,
            "align_self": null,
            "height": null,
            "min_height": null,
            "padding": null,
            "grid_auto_rows": null,
            "grid_gap": null,
            "max_width": null,
            "order": null,
            "_view_module_version": "1.2.0",
            "grid_template_areas": null,
            "object_position": null,
            "object_fit": null,
            "grid_auto_columns": null,
            "margin": null,
            "display": null,
            "left": null
          }
        },
        "7541f1aa35b04ba9809b2a8f4c105b13": {
          "model_module": "@jupyter-widgets/controls",
          "model_name": "FloatProgressModel",
          "state": {
            "_view_name": "ProgressView",
            "style": "IPY_MODEL_6fda5bd0bff14bc1a1269eceee42bea6",
            "_dom_classes": [],
            "description": "Downloading: 100%",
            "_model_name": "FloatProgressModel",
            "bar_style": "success",
            "max": 466062,
            "_view_module": "@jupyter-widgets/controls",
            "_model_module_version": "1.5.0",
            "value": 466062,
            "_view_count": null,
            "_view_module_version": "1.5.0",
            "orientation": "horizontal",
            "min": 0,
            "description_tooltip": null,
            "_model_module": "@jupyter-widgets/controls",
            "layout": "IPY_MODEL_a4110e79f8874921bbaf9980d05445a1"
          }
        },
        "d0fa2536b83e47fca5d466c468a27ede": {
          "model_module": "@jupyter-widgets/controls",
          "model_name": "HTMLModel",
          "state": {
            "_view_name": "HTMLView",
            "style": "IPY_MODEL_4f2b420e3a86448abc859beae41cc72e",
            "_dom_classes": [],
            "description": "",
            "_model_name": "HTMLModel",
            "placeholder": "​",
            "_view_module": "@jupyter-widgets/controls",
            "_model_module_version": "1.5.0",
            "value": " 466k/466k [00:03&lt;00:00, 143kB/s]",
            "_view_count": null,
            "_view_module_version": "1.5.0",
            "description_tooltip": null,
            "_model_module": "@jupyter-widgets/controls",
            "layout": "IPY_MODEL_94a4b6f8a83945708f32a919125f5b2d"
          }
        },
        "6fda5bd0bff14bc1a1269eceee42bea6": {
          "model_module": "@jupyter-widgets/controls",
          "model_name": "ProgressStyleModel",
          "state": {
            "_view_name": "StyleView",
            "_model_name": "ProgressStyleModel",
            "description_width": "initial",
            "_view_module": "@jupyter-widgets/base",
            "_model_module_version": "1.5.0",
            "_view_count": null,
            "_view_module_version": "1.2.0",
            "bar_color": null,
            "_model_module": "@jupyter-widgets/controls"
          }
        },
        "a4110e79f8874921bbaf9980d05445a1": {
          "model_module": "@jupyter-widgets/base",
          "model_name": "LayoutModel",
          "state": {
            "_view_name": "LayoutView",
            "grid_template_rows": null,
            "right": null,
            "justify_content": null,
            "_view_module": "@jupyter-widgets/base",
            "overflow": null,
            "_model_module_version": "1.2.0",
            "_view_count": null,
            "flex_flow": null,
            "width": null,
            "min_width": null,
            "border": null,
            "align_items": null,
            "bottom": null,
            "_model_module": "@jupyter-widgets/base",
            "top": null,
            "grid_column": null,
            "overflow_y": null,
            "overflow_x": null,
            "grid_auto_flow": null,
            "grid_area": null,
            "grid_template_columns": null,
            "flex": null,
            "_model_name": "LayoutModel",
            "justify_items": null,
            "grid_row": null,
            "max_height": null,
            "align_content": null,
            "visibility": null,
            "align_self": null,
            "height": null,
            "min_height": null,
            "padding": null,
            "grid_auto_rows": null,
            "grid_gap": null,
            "max_width": null,
            "order": null,
            "_view_module_version": "1.2.0",
            "grid_template_areas": null,
            "object_position": null,
            "object_fit": null,
            "grid_auto_columns": null,
            "margin": null,
            "display": null,
            "left": null
          }
        },
        "4f2b420e3a86448abc859beae41cc72e": {
          "model_module": "@jupyter-widgets/controls",
          "model_name": "DescriptionStyleModel",
          "state": {
            "_view_name": "StyleView",
            "_model_name": "DescriptionStyleModel",
            "description_width": "",
            "_view_module": "@jupyter-widgets/base",
            "_model_module_version": "1.5.0",
            "_view_count": null,
            "_view_module_version": "1.2.0",
            "_model_module": "@jupyter-widgets/controls"
          }
        },
        "94a4b6f8a83945708f32a919125f5b2d": {
          "model_module": "@jupyter-widgets/base",
          "model_name": "LayoutModel",
          "state": {
            "_view_name": "LayoutView",
            "grid_template_rows": null,
            "right": null,
            "justify_content": null,
            "_view_module": "@jupyter-widgets/base",
            "overflow": null,
            "_model_module_version": "1.2.0",
            "_view_count": null,
            "flex_flow": null,
            "width": null,
            "min_width": null,
            "border": null,
            "align_items": null,
            "bottom": null,
            "_model_module": "@jupyter-widgets/base",
            "top": null,
            "grid_column": null,
            "overflow_y": null,
            "overflow_x": null,
            "grid_auto_flow": null,
            "grid_area": null,
            "grid_template_columns": null,
            "flex": null,
            "_model_name": "LayoutModel",
            "justify_items": null,
            "grid_row": null,
            "max_height": null,
            "align_content": null,
            "visibility": null,
            "align_self": null,
            "height": null,
            "min_height": null,
            "padding": null,
            "grid_auto_rows": null,
            "grid_gap": null,
            "max_width": null,
            "order": null,
            "_view_module_version": "1.2.0",
            "grid_template_areas": null,
            "object_position": null,
            "object_fit": null,
            "grid_auto_columns": null,
            "margin": null,
            "display": null,
            "left": null
          }
        },
        "5dc03795e73548b1b22f47e8992f4d59": {
          "model_module": "@jupyter-widgets/controls",
          "model_name": "HBoxModel",
          "state": {
            "_view_name": "HBoxView",
            "_dom_classes": [],
            "_model_name": "HBoxModel",
            "_view_module": "@jupyter-widgets/controls",
            "_model_module_version": "1.5.0",
            "_view_count": null,
            "_view_module_version": "1.5.0",
            "box_style": "",
            "layout": "IPY_MODEL_8617d4751b4f4971a1744440824a6e6e",
            "_model_module": "@jupyter-widgets/controls",
            "children": [
              "IPY_MODEL_ed66da89f9054933a378cde3da1e9f72",
              "IPY_MODEL_c592ca6244984e42b31e2ff79dea4663"
            ]
          }
        },
        "8617d4751b4f4971a1744440824a6e6e": {
          "model_module": "@jupyter-widgets/base",
          "model_name": "LayoutModel",
          "state": {
            "_view_name": "LayoutView",
            "grid_template_rows": null,
            "right": null,
            "justify_content": null,
            "_view_module": "@jupyter-widgets/base",
            "overflow": null,
            "_model_module_version": "1.2.0",
            "_view_count": null,
            "flex_flow": null,
            "width": null,
            "min_width": null,
            "border": null,
            "align_items": null,
            "bottom": null,
            "_model_module": "@jupyter-widgets/base",
            "top": null,
            "grid_column": null,
            "overflow_y": null,
            "overflow_x": null,
            "grid_auto_flow": null,
            "grid_area": null,
            "grid_template_columns": null,
            "flex": null,
            "_model_name": "LayoutModel",
            "justify_items": null,
            "grid_row": null,
            "max_height": null,
            "align_content": null,
            "visibility": null,
            "align_self": null,
            "height": null,
            "min_height": null,
            "padding": null,
            "grid_auto_rows": null,
            "grid_gap": null,
            "max_width": null,
            "order": null,
            "_view_module_version": "1.2.0",
            "grid_template_areas": null,
            "object_position": null,
            "object_fit": null,
            "grid_auto_columns": null,
            "margin": null,
            "display": null,
            "left": null
          }
        },
        "ed66da89f9054933a378cde3da1e9f72": {
          "model_module": "@jupyter-widgets/controls",
          "model_name": "FloatProgressModel",
          "state": {
            "_view_name": "ProgressView",
            "style": "IPY_MODEL_3607fae71bbc46598ba313f2f05c8091",
            "_dom_classes": [],
            "description": "Downloading: 100%",
            "_model_name": "FloatProgressModel",
            "bar_style": "success",
            "max": 28,
            "_view_module": "@jupyter-widgets/controls",
            "_model_module_version": "1.5.0",
            "value": 28,
            "_view_count": null,
            "_view_module_version": "1.5.0",
            "orientation": "horizontal",
            "min": 0,
            "description_tooltip": null,
            "_model_module": "@jupyter-widgets/controls",
            "layout": "IPY_MODEL_dfe3a8e9d254430cab8475930f991126"
          }
        },
        "c592ca6244984e42b31e2ff79dea4663": {
          "model_module": "@jupyter-widgets/controls",
          "model_name": "HTMLModel",
          "state": {
            "_view_name": "HTMLView",
            "style": "IPY_MODEL_bcc49069426e480b94d5f61a63dbae4e",
            "_dom_classes": [],
            "description": "",
            "_model_name": "HTMLModel",
            "placeholder": "​",
            "_view_module": "@jupyter-widgets/controls",
            "_model_module_version": "1.5.0",
            "value": " 28.0/28.0 [00:01&lt;00:00, 15.3B/s]",
            "_view_count": null,
            "_view_module_version": "1.5.0",
            "description_tooltip": null,
            "_model_module": "@jupyter-widgets/controls",
            "layout": "IPY_MODEL_93aeb9f7b28d48eea7be7cc9f4f5ac7d"
          }
        },
        "3607fae71bbc46598ba313f2f05c8091": {
          "model_module": "@jupyter-widgets/controls",
          "model_name": "ProgressStyleModel",
          "state": {
            "_view_name": "StyleView",
            "_model_name": "ProgressStyleModel",
            "description_width": "initial",
            "_view_module": "@jupyter-widgets/base",
            "_model_module_version": "1.5.0",
            "_view_count": null,
            "_view_module_version": "1.2.0",
            "bar_color": null,
            "_model_module": "@jupyter-widgets/controls"
          }
        },
        "dfe3a8e9d254430cab8475930f991126": {
          "model_module": "@jupyter-widgets/base",
          "model_name": "LayoutModel",
          "state": {
            "_view_name": "LayoutView",
            "grid_template_rows": null,
            "right": null,
            "justify_content": null,
            "_view_module": "@jupyter-widgets/base",
            "overflow": null,
            "_model_module_version": "1.2.0",
            "_view_count": null,
            "flex_flow": null,
            "width": null,
            "min_width": null,
            "border": null,
            "align_items": null,
            "bottom": null,
            "_model_module": "@jupyter-widgets/base",
            "top": null,
            "grid_column": null,
            "overflow_y": null,
            "overflow_x": null,
            "grid_auto_flow": null,
            "grid_area": null,
            "grid_template_columns": null,
            "flex": null,
            "_model_name": "LayoutModel",
            "justify_items": null,
            "grid_row": null,
            "max_height": null,
            "align_content": null,
            "visibility": null,
            "align_self": null,
            "height": null,
            "min_height": null,
            "padding": null,
            "grid_auto_rows": null,
            "grid_gap": null,
            "max_width": null,
            "order": null,
            "_view_module_version": "1.2.0",
            "grid_template_areas": null,
            "object_position": null,
            "object_fit": null,
            "grid_auto_columns": null,
            "margin": null,
            "display": null,
            "left": null
          }
        },
        "bcc49069426e480b94d5f61a63dbae4e": {
          "model_module": "@jupyter-widgets/controls",
          "model_name": "DescriptionStyleModel",
          "state": {
            "_view_name": "StyleView",
            "_model_name": "DescriptionStyleModel",
            "description_width": "",
            "_view_module": "@jupyter-widgets/base",
            "_model_module_version": "1.5.0",
            "_view_count": null,
            "_view_module_version": "1.2.0",
            "_model_module": "@jupyter-widgets/controls"
          }
        },
        "93aeb9f7b28d48eea7be7cc9f4f5ac7d": {
          "model_module": "@jupyter-widgets/base",
          "model_name": "LayoutModel",
          "state": {
            "_view_name": "LayoutView",
            "grid_template_rows": null,
            "right": null,
            "justify_content": null,
            "_view_module": "@jupyter-widgets/base",
            "overflow": null,
            "_model_module_version": "1.2.0",
            "_view_count": null,
            "flex_flow": null,
            "width": null,
            "min_width": null,
            "border": null,
            "align_items": null,
            "bottom": null,
            "_model_module": "@jupyter-widgets/base",
            "top": null,
            "grid_column": null,
            "overflow_y": null,
            "overflow_x": null,
            "grid_auto_flow": null,
            "grid_area": null,
            "grid_template_columns": null,
            "flex": null,
            "_model_name": "LayoutModel",
            "justify_items": null,
            "grid_row": null,
            "max_height": null,
            "align_content": null,
            "visibility": null,
            "align_self": null,
            "height": null,
            "min_height": null,
            "padding": null,
            "grid_auto_rows": null,
            "grid_gap": null,
            "max_width": null,
            "order": null,
            "_view_module_version": "1.2.0",
            "grid_template_areas": null,
            "object_position": null,
            "object_fit": null,
            "grid_auto_columns": null,
            "margin": null,
            "display": null,
            "left": null
          }
        },
        "6e0ae26e3817407382d6842306b70b91": {
          "model_module": "@jupyter-widgets/controls",
          "model_name": "HBoxModel",
          "state": {
            "_view_name": "HBoxView",
            "_dom_classes": [],
            "_model_name": "HBoxModel",
            "_view_module": "@jupyter-widgets/controls",
            "_model_module_version": "1.5.0",
            "_view_count": null,
            "_view_module_version": "1.5.0",
            "box_style": "",
            "layout": "IPY_MODEL_20310744c4d4418f9a44137207fe485d",
            "_model_module": "@jupyter-widgets/controls",
            "children": [
              "IPY_MODEL_6a56055536b348938b970dc9bda032d3",
              "IPY_MODEL_56555772ee3c442f85bf07a8a21b9c77"
            ]
          }
        },
        "20310744c4d4418f9a44137207fe485d": {
          "model_module": "@jupyter-widgets/base",
          "model_name": "LayoutModel",
          "state": {
            "_view_name": "LayoutView",
            "grid_template_rows": null,
            "right": null,
            "justify_content": null,
            "_view_module": "@jupyter-widgets/base",
            "overflow": null,
            "_model_module_version": "1.2.0",
            "_view_count": null,
            "flex_flow": null,
            "width": null,
            "min_width": null,
            "border": null,
            "align_items": null,
            "bottom": null,
            "_model_module": "@jupyter-widgets/base",
            "top": null,
            "grid_column": null,
            "overflow_y": null,
            "overflow_x": null,
            "grid_auto_flow": null,
            "grid_area": null,
            "grid_template_columns": null,
            "flex": null,
            "_model_name": "LayoutModel",
            "justify_items": null,
            "grid_row": null,
            "max_height": null,
            "align_content": null,
            "visibility": null,
            "align_self": null,
            "height": null,
            "min_height": null,
            "padding": null,
            "grid_auto_rows": null,
            "grid_gap": null,
            "max_width": null,
            "order": null,
            "_view_module_version": "1.2.0",
            "grid_template_areas": null,
            "object_position": null,
            "object_fit": null,
            "grid_auto_columns": null,
            "margin": null,
            "display": null,
            "left": null
          }
        },
        "6a56055536b348938b970dc9bda032d3": {
          "model_module": "@jupyter-widgets/controls",
          "model_name": "FloatProgressModel",
          "state": {
            "_view_name": "ProgressView",
            "style": "IPY_MODEL_14e4078bc3c342f489de70ffdcce39e2",
            "_dom_classes": [],
            "description": "Dl Completed...: 100%",
            "_model_name": "FloatProgressModel",
            "bar_style": "success",
            "max": 1,
            "_view_module": "@jupyter-widgets/controls",
            "_model_module_version": "1.5.0",
            "value": 1,
            "_view_count": null,
            "_view_module_version": "1.5.0",
            "orientation": "horizontal",
            "min": 0,
            "description_tooltip": null,
            "_model_module": "@jupyter-widgets/controls",
            "layout": "IPY_MODEL_8816cc6bc6ec413ea7b0201dc98511f0"
          }
        },
        "56555772ee3c442f85bf07a8a21b9c77": {
          "model_module": "@jupyter-widgets/controls",
          "model_name": "HTMLModel",
          "state": {
            "_view_name": "HTMLView",
            "style": "IPY_MODEL_5a1dcc58c5e24d218ed3ce706f8ba9d1",
            "_dom_classes": [],
            "description": "",
            "_model_name": "HTMLModel",
            "placeholder": "​",
            "_view_module": "@jupyter-widgets/controls",
            "_model_module_version": "1.5.0",
            "value": " 3/3 [00:01&lt;00:00,  1.80 url/s]",
            "_view_count": null,
            "_view_module_version": "1.5.0",
            "description_tooltip": null,
            "_model_module": "@jupyter-widgets/controls",
            "layout": "IPY_MODEL_1becff9d25c44d93bd886cbfa77845eb"
          }
        },
        "14e4078bc3c342f489de70ffdcce39e2": {
          "model_module": "@jupyter-widgets/controls",
          "model_name": "ProgressStyleModel",
          "state": {
            "_view_name": "StyleView",
            "_model_name": "ProgressStyleModel",
            "description_width": "initial",
            "_view_module": "@jupyter-widgets/base",
            "_model_module_version": "1.5.0",
            "_view_count": null,
            "_view_module_version": "1.2.0",
            "bar_color": null,
            "_model_module": "@jupyter-widgets/controls"
          }
        },
        "8816cc6bc6ec413ea7b0201dc98511f0": {
          "model_module": "@jupyter-widgets/base",
          "model_name": "LayoutModel",
          "state": {
            "_view_name": "LayoutView",
            "grid_template_rows": null,
            "right": null,
            "justify_content": null,
            "_view_module": "@jupyter-widgets/base",
            "overflow": null,
            "_model_module_version": "1.2.0",
            "_view_count": null,
            "flex_flow": null,
            "width": null,
            "min_width": null,
            "border": null,
            "align_items": null,
            "bottom": null,
            "_model_module": "@jupyter-widgets/base",
            "top": null,
            "grid_column": null,
            "overflow_y": null,
            "overflow_x": null,
            "grid_auto_flow": null,
            "grid_area": null,
            "grid_template_columns": null,
            "flex": null,
            "_model_name": "LayoutModel",
            "justify_items": null,
            "grid_row": null,
            "max_height": null,
            "align_content": null,
            "visibility": null,
            "align_self": null,
            "height": null,
            "min_height": null,
            "padding": null,
            "grid_auto_rows": null,
            "grid_gap": null,
            "max_width": null,
            "order": null,
            "_view_module_version": "1.2.0",
            "grid_template_areas": null,
            "object_position": null,
            "object_fit": null,
            "grid_auto_columns": null,
            "margin": null,
            "display": null,
            "left": null
          }
        },
        "5a1dcc58c5e24d218ed3ce706f8ba9d1": {
          "model_module": "@jupyter-widgets/controls",
          "model_name": "DescriptionStyleModel",
          "state": {
            "_view_name": "StyleView",
            "_model_name": "DescriptionStyleModel",
            "description_width": "",
            "_view_module": "@jupyter-widgets/base",
            "_model_module_version": "1.5.0",
            "_view_count": null,
            "_view_module_version": "1.2.0",
            "_model_module": "@jupyter-widgets/controls"
          }
        },
        "1becff9d25c44d93bd886cbfa77845eb": {
          "model_module": "@jupyter-widgets/base",
          "model_name": "LayoutModel",
          "state": {
            "_view_name": "LayoutView",
            "grid_template_rows": null,
            "right": null,
            "justify_content": null,
            "_view_module": "@jupyter-widgets/base",
            "overflow": null,
            "_model_module_version": "1.2.0",
            "_view_count": null,
            "flex_flow": null,
            "width": null,
            "min_width": null,
            "border": null,
            "align_items": null,
            "bottom": null,
            "_model_module": "@jupyter-widgets/base",
            "top": null,
            "grid_column": null,
            "overflow_y": null,
            "overflow_x": null,
            "grid_auto_flow": null,
            "grid_area": null,
            "grid_template_columns": null,
            "flex": null,
            "_model_name": "LayoutModel",
            "justify_items": null,
            "grid_row": null,
            "max_height": null,
            "align_content": null,
            "visibility": null,
            "align_self": null,
            "height": null,
            "min_height": null,
            "padding": null,
            "grid_auto_rows": null,
            "grid_gap": null,
            "max_width": null,
            "order": null,
            "_view_module_version": "1.2.0",
            "grid_template_areas": null,
            "object_position": null,
            "object_fit": null,
            "grid_auto_columns": null,
            "margin": null,
            "display": null,
            "left": null
          }
        },
        "395b5003963c458d97d029b8caccdf11": {
          "model_module": "@jupyter-widgets/controls",
          "model_name": "HBoxModel",
          "state": {
            "_view_name": "HBoxView",
            "_dom_classes": [],
            "_model_name": "HBoxModel",
            "_view_module": "@jupyter-widgets/controls",
            "_model_module_version": "1.5.0",
            "_view_count": null,
            "_view_module_version": "1.5.0",
            "box_style": "",
            "layout": "IPY_MODEL_d85b9cb452fa4ac6a2b62785e8e296d4",
            "_model_module": "@jupyter-widgets/controls",
            "children": [
              "IPY_MODEL_e7457a0d52dd448ba4c33d63a875e457",
              "IPY_MODEL_87166e05b63947cc860c1f6b4b0593c7"
            ]
          }
        },
        "d85b9cb452fa4ac6a2b62785e8e296d4": {
          "model_module": "@jupyter-widgets/base",
          "model_name": "LayoutModel",
          "state": {
            "_view_name": "LayoutView",
            "grid_template_rows": null,
            "right": null,
            "justify_content": null,
            "_view_module": "@jupyter-widgets/base",
            "overflow": null,
            "_model_module_version": "1.2.0",
            "_view_count": null,
            "flex_flow": null,
            "width": null,
            "min_width": null,
            "border": null,
            "align_items": null,
            "bottom": null,
            "_model_module": "@jupyter-widgets/base",
            "top": null,
            "grid_column": null,
            "overflow_y": null,
            "overflow_x": null,
            "grid_auto_flow": null,
            "grid_area": null,
            "grid_template_columns": null,
            "flex": null,
            "_model_name": "LayoutModel",
            "justify_items": null,
            "grid_row": null,
            "max_height": null,
            "align_content": null,
            "visibility": null,
            "align_self": null,
            "height": null,
            "min_height": null,
            "padding": null,
            "grid_auto_rows": null,
            "grid_gap": null,
            "max_width": null,
            "order": null,
            "_view_module_version": "1.2.0",
            "grid_template_areas": null,
            "object_position": null,
            "object_fit": null,
            "grid_auto_columns": null,
            "margin": null,
            "display": null,
            "left": null
          }
        },
        "e7457a0d52dd448ba4c33d63a875e457": {
          "model_module": "@jupyter-widgets/controls",
          "model_name": "FloatProgressModel",
          "state": {
            "_view_name": "ProgressView",
            "style": "IPY_MODEL_ca439a9fc1854d5ea1cde302be8ee5c1",
            "_dom_classes": [],
            "description": "Dl Size...: ",
            "_model_name": "FloatProgressModel",
            "bar_style": "success",
            "max": 1,
            "_view_module": "@jupyter-widgets/controls",
            "_model_module_version": "1.5.0",
            "value": 0,
            "_view_count": null,
            "_view_module_version": "1.5.0",
            "orientation": "horizontal",
            "min": 0,
            "description_tooltip": null,
            "_model_module": "@jupyter-widgets/controls",
            "layout": "IPY_MODEL_498678c3466d443fb0b806de82714a06"
          }
        },
        "87166e05b63947cc860c1f6b4b0593c7": {
          "model_module": "@jupyter-widgets/controls",
          "model_name": "HTMLModel",
          "state": {
            "_view_name": "HTMLView",
            "style": "IPY_MODEL_0d43f894764b4ba28bd7d486cd8fa2de",
            "_dom_classes": [],
            "description": "",
            "_model_name": "HTMLModel",
            "placeholder": "​",
            "_view_module": "@jupyter-widgets/controls",
            "_model_module_version": "1.5.0",
            "value": " 0/0 [00:01&lt;?, ? MiB/s]",
            "_view_count": null,
            "_view_module_version": "1.5.0",
            "description_tooltip": null,
            "_model_module": "@jupyter-widgets/controls",
            "layout": "IPY_MODEL_95a726020c3d4b5ebc1643c77d21edea"
          }
        },
        "ca439a9fc1854d5ea1cde302be8ee5c1": {
          "model_module": "@jupyter-widgets/controls",
          "model_name": "ProgressStyleModel",
          "state": {
            "_view_name": "StyleView",
            "_model_name": "ProgressStyleModel",
            "description_width": "initial",
            "_view_module": "@jupyter-widgets/base",
            "_model_module_version": "1.5.0",
            "_view_count": null,
            "_view_module_version": "1.2.0",
            "bar_color": null,
            "_model_module": "@jupyter-widgets/controls"
          }
        },
        "498678c3466d443fb0b806de82714a06": {
          "model_module": "@jupyter-widgets/base",
          "model_name": "LayoutModel",
          "state": {
            "_view_name": "LayoutView",
            "grid_template_rows": null,
            "right": null,
            "justify_content": null,
            "_view_module": "@jupyter-widgets/base",
            "overflow": null,
            "_model_module_version": "1.2.0",
            "_view_count": null,
            "flex_flow": null,
            "width": null,
            "min_width": null,
            "border": null,
            "align_items": null,
            "bottom": null,
            "_model_module": "@jupyter-widgets/base",
            "top": null,
            "grid_column": null,
            "overflow_y": null,
            "overflow_x": null,
            "grid_auto_flow": null,
            "grid_area": null,
            "grid_template_columns": null,
            "flex": null,
            "_model_name": "LayoutModel",
            "justify_items": null,
            "grid_row": null,
            "max_height": null,
            "align_content": null,
            "visibility": null,
            "align_self": null,
            "height": null,
            "min_height": null,
            "padding": null,
            "grid_auto_rows": null,
            "grid_gap": null,
            "max_width": null,
            "order": null,
            "_view_module_version": "1.2.0",
            "grid_template_areas": null,
            "object_position": null,
            "object_fit": null,
            "grid_auto_columns": null,
            "margin": null,
            "display": null,
            "left": null
          }
        },
        "0d43f894764b4ba28bd7d486cd8fa2de": {
          "model_module": "@jupyter-widgets/controls",
          "model_name": "DescriptionStyleModel",
          "state": {
            "_view_name": "StyleView",
            "_model_name": "DescriptionStyleModel",
            "description_width": "",
            "_view_module": "@jupyter-widgets/base",
            "_model_module_version": "1.5.0",
            "_view_count": null,
            "_view_module_version": "1.2.0",
            "_model_module": "@jupyter-widgets/controls"
          }
        },
        "95a726020c3d4b5ebc1643c77d21edea": {
          "model_module": "@jupyter-widgets/base",
          "model_name": "LayoutModel",
          "state": {
            "_view_name": "LayoutView",
            "grid_template_rows": null,
            "right": null,
            "justify_content": null,
            "_view_module": "@jupyter-widgets/base",
            "overflow": null,
            "_model_module_version": "1.2.0",
            "_view_count": null,
            "flex_flow": null,
            "width": null,
            "min_width": null,
            "border": null,
            "align_items": null,
            "bottom": null,
            "_model_module": "@jupyter-widgets/base",
            "top": null,
            "grid_column": null,
            "overflow_y": null,
            "overflow_x": null,
            "grid_auto_flow": null,
            "grid_area": null,
            "grid_template_columns": null,
            "flex": null,
            "_model_name": "LayoutModel",
            "justify_items": null,
            "grid_row": null,
            "max_height": null,
            "align_content": null,
            "visibility": null,
            "align_self": null,
            "height": null,
            "min_height": null,
            "padding": null,
            "grid_auto_rows": null,
            "grid_gap": null,
            "max_width": null,
            "order": null,
            "_view_module_version": "1.2.0",
            "grid_template_areas": null,
            "object_position": null,
            "object_fit": null,
            "grid_auto_columns": null,
            "margin": null,
            "display": null,
            "left": null
          }
        },
        "7a7dcfa991104eb588c538662a563b81": {
          "model_module": "@jupyter-widgets/controls",
          "model_name": "HBoxModel",
          "state": {
            "_view_name": "HBoxView",
            "_dom_classes": [],
            "_model_name": "HBoxModel",
            "_view_module": "@jupyter-widgets/controls",
            "_model_module_version": "1.5.0",
            "_view_count": null,
            "_view_module_version": "1.5.0",
            "box_style": "",
            "layout": "IPY_MODEL_6623167d266e4485b0396a149f0da3d4",
            "_model_module": "@jupyter-widgets/controls",
            "children": [
              "IPY_MODEL_58524556013f44e18df1d2be84aeb9c3",
              "IPY_MODEL_1740cf56bbd8448b84aa28d04bcef9ec"
            ]
          }
        },
        "6623167d266e4485b0396a149f0da3d4": {
          "model_module": "@jupyter-widgets/base",
          "model_name": "LayoutModel",
          "state": {
            "_view_name": "LayoutView",
            "grid_template_rows": null,
            "right": null,
            "justify_content": null,
            "_view_module": "@jupyter-widgets/base",
            "overflow": null,
            "_model_module_version": "1.2.0",
            "_view_count": null,
            "flex_flow": null,
            "width": null,
            "min_width": null,
            "border": null,
            "align_items": null,
            "bottom": null,
            "_model_module": "@jupyter-widgets/base",
            "top": null,
            "grid_column": null,
            "overflow_y": null,
            "overflow_x": null,
            "grid_auto_flow": null,
            "grid_area": null,
            "grid_template_columns": null,
            "flex": null,
            "_model_name": "LayoutModel",
            "justify_items": null,
            "grid_row": null,
            "max_height": null,
            "align_content": null,
            "visibility": null,
            "align_self": null,
            "height": null,
            "min_height": null,
            "padding": null,
            "grid_auto_rows": null,
            "grid_gap": null,
            "max_width": null,
            "order": null,
            "_view_module_version": "1.2.0",
            "grid_template_areas": null,
            "object_position": null,
            "object_fit": null,
            "grid_auto_columns": null,
            "margin": null,
            "display": null,
            "left": null
          }
        },
        "58524556013f44e18df1d2be84aeb9c3": {
          "model_module": "@jupyter-widgets/controls",
          "model_name": "FloatProgressModel",
          "state": {
            "_view_name": "ProgressView",
            "style": "IPY_MODEL_c7ec46196d6f4ed88d74dad93f12164a",
            "_dom_classes": [],
            "description": "",
            "_model_name": "FloatProgressModel",
            "bar_style": "info",
            "max": 1,
            "_view_module": "@jupyter-widgets/controls",
            "_model_module_version": "1.5.0",
            "value": 1,
            "_view_count": null,
            "_view_module_version": "1.5.0",
            "orientation": "horizontal",
            "min": 0,
            "description_tooltip": null,
            "_model_module": "@jupyter-widgets/controls",
            "layout": "IPY_MODEL_1101e65d1e3543dfa85196052853053e"
          }
        },
        "1740cf56bbd8448b84aa28d04bcef9ec": {
          "model_module": "@jupyter-widgets/controls",
          "model_name": "HTMLModel",
          "state": {
            "_view_name": "HTMLView",
            "style": "IPY_MODEL_5ef808bc656949079519a65a7189bc49",
            "_dom_classes": [],
            "description": "",
            "_model_name": "HTMLModel",
            "placeholder": "​",
            "_view_module": "@jupyter-widgets/controls",
            "_model_module_version": "1.5.0",
            "value": " 3668/0 [00:01&lt;00:00, 2172.07 examples/s]",
            "_view_count": null,
            "_view_module_version": "1.5.0",
            "description_tooltip": null,
            "_model_module": "@jupyter-widgets/controls",
            "layout": "IPY_MODEL_6443856f2b7d46c0b0b2e297c2470f9a"
          }
        },
        "c7ec46196d6f4ed88d74dad93f12164a": {
          "model_module": "@jupyter-widgets/controls",
          "model_name": "ProgressStyleModel",
          "state": {
            "_view_name": "StyleView",
            "_model_name": "ProgressStyleModel",
            "description_width": "initial",
            "_view_module": "@jupyter-widgets/base",
            "_model_module_version": "1.5.0",
            "_view_count": null,
            "_view_module_version": "1.2.0",
            "bar_color": null,
            "_model_module": "@jupyter-widgets/controls"
          }
        },
        "1101e65d1e3543dfa85196052853053e": {
          "model_module": "@jupyter-widgets/base",
          "model_name": "LayoutModel",
          "state": {
            "_view_name": "LayoutView",
            "grid_template_rows": null,
            "right": null,
            "justify_content": null,
            "_view_module": "@jupyter-widgets/base",
            "overflow": null,
            "_model_module_version": "1.2.0",
            "_view_count": null,
            "flex_flow": null,
            "width": null,
            "min_width": null,
            "border": null,
            "align_items": null,
            "bottom": null,
            "_model_module": "@jupyter-widgets/base",
            "top": null,
            "grid_column": null,
            "overflow_y": null,
            "overflow_x": null,
            "grid_auto_flow": null,
            "grid_area": null,
            "grid_template_columns": null,
            "flex": null,
            "_model_name": "LayoutModel",
            "justify_items": null,
            "grid_row": null,
            "max_height": null,
            "align_content": null,
            "visibility": null,
            "align_self": null,
            "height": null,
            "min_height": null,
            "padding": null,
            "grid_auto_rows": null,
            "grid_gap": null,
            "max_width": null,
            "order": null,
            "_view_module_version": "1.2.0",
            "grid_template_areas": null,
            "object_position": null,
            "object_fit": null,
            "grid_auto_columns": null,
            "margin": null,
            "display": null,
            "left": null
          }
        },
        "5ef808bc656949079519a65a7189bc49": {
          "model_module": "@jupyter-widgets/controls",
          "model_name": "DescriptionStyleModel",
          "state": {
            "_view_name": "StyleView",
            "_model_name": "DescriptionStyleModel",
            "description_width": "",
            "_view_module": "@jupyter-widgets/base",
            "_model_module_version": "1.5.0",
            "_view_count": null,
            "_view_module_version": "1.2.0",
            "_model_module": "@jupyter-widgets/controls"
          }
        },
        "6443856f2b7d46c0b0b2e297c2470f9a": {
          "model_module": "@jupyter-widgets/base",
          "model_name": "LayoutModel",
          "state": {
            "_view_name": "LayoutView",
            "grid_template_rows": null,
            "right": null,
            "justify_content": null,
            "_view_module": "@jupyter-widgets/base",
            "overflow": null,
            "_model_module_version": "1.2.0",
            "_view_count": null,
            "flex_flow": null,
            "width": null,
            "min_width": null,
            "border": null,
            "align_items": null,
            "bottom": null,
            "_model_module": "@jupyter-widgets/base",
            "top": null,
            "grid_column": null,
            "overflow_y": null,
            "overflow_x": null,
            "grid_auto_flow": null,
            "grid_area": null,
            "grid_template_columns": null,
            "flex": null,
            "_model_name": "LayoutModel",
            "justify_items": null,
            "grid_row": null,
            "max_height": null,
            "align_content": null,
            "visibility": null,
            "align_self": null,
            "height": null,
            "min_height": null,
            "padding": null,
            "grid_auto_rows": null,
            "grid_gap": null,
            "max_width": null,
            "order": null,
            "_view_module_version": "1.2.0",
            "grid_template_areas": null,
            "object_position": null,
            "object_fit": null,
            "grid_auto_columns": null,
            "margin": null,
            "display": null,
            "left": null
          }
        },
        "806920ccdf0f4192a05ea0e813482f74": {
          "model_module": "@jupyter-widgets/controls",
          "model_name": "HBoxModel",
          "state": {
            "_view_name": "HBoxView",
            "_dom_classes": [],
            "_model_name": "HBoxModel",
            "_view_module": "@jupyter-widgets/controls",
            "_model_module_version": "1.5.0",
            "_view_count": null,
            "_view_module_version": "1.5.0",
            "box_style": "",
            "layout": "IPY_MODEL_5e63e53f01894559b45cbabec45c7708",
            "_model_module": "@jupyter-widgets/controls",
            "children": [
              "IPY_MODEL_0726c386f4f74d81aa39c24520b69098",
              "IPY_MODEL_04360d8726ce4ba28972d7dd046ff62e"
            ]
          }
        },
        "5e63e53f01894559b45cbabec45c7708": {
          "model_module": "@jupyter-widgets/base",
          "model_name": "LayoutModel",
          "state": {
            "_view_name": "LayoutView",
            "grid_template_rows": null,
            "right": null,
            "justify_content": null,
            "_view_module": "@jupyter-widgets/base",
            "overflow": null,
            "_model_module_version": "1.2.0",
            "_view_count": null,
            "flex_flow": null,
            "width": null,
            "min_width": null,
            "border": null,
            "align_items": null,
            "bottom": null,
            "_model_module": "@jupyter-widgets/base",
            "top": null,
            "grid_column": null,
            "overflow_y": null,
            "overflow_x": null,
            "grid_auto_flow": null,
            "grid_area": null,
            "grid_template_columns": null,
            "flex": null,
            "_model_name": "LayoutModel",
            "justify_items": null,
            "grid_row": null,
            "max_height": null,
            "align_content": null,
            "visibility": null,
            "align_self": null,
            "height": null,
            "min_height": null,
            "padding": null,
            "grid_auto_rows": null,
            "grid_gap": null,
            "max_width": null,
            "order": null,
            "_view_module_version": "1.2.0",
            "grid_template_areas": null,
            "object_position": null,
            "object_fit": null,
            "grid_auto_columns": null,
            "margin": null,
            "display": null,
            "left": null
          }
        },
        "0726c386f4f74d81aa39c24520b69098": {
          "model_module": "@jupyter-widgets/controls",
          "model_name": "FloatProgressModel",
          "state": {
            "_view_name": "ProgressView",
            "style": "IPY_MODEL_2b0012ef8f3446bf8cc25d3e7a817d97",
            "_dom_classes": [],
            "description": "  0%",
            "_model_name": "FloatProgressModel",
            "bar_style": "danger",
            "max": 3668,
            "_view_module": "@jupyter-widgets/controls",
            "_model_module_version": "1.5.0",
            "value": 0,
            "_view_count": null,
            "_view_module_version": "1.5.0",
            "orientation": "horizontal",
            "min": 0,
            "description_tooltip": null,
            "_model_module": "@jupyter-widgets/controls",
            "layout": "IPY_MODEL_7bc03e0ebd8d4a35abc64d4ac1745d8c"
          }
        },
        "04360d8726ce4ba28972d7dd046ff62e": {
          "model_module": "@jupyter-widgets/controls",
          "model_name": "HTMLModel",
          "state": {
            "_view_name": "HTMLView",
            "style": "IPY_MODEL_4cc673c72af6407b8fbae1ab71e474bb",
            "_dom_classes": [],
            "description": "",
            "_model_name": "HTMLModel",
            "placeholder": "​",
            "_view_module": "@jupyter-widgets/controls",
            "_model_module_version": "1.5.0",
            "value": " 0/3668 [00:00&lt;?, ? examples/s]",
            "_view_count": null,
            "_view_module_version": "1.5.0",
            "description_tooltip": null,
            "_model_module": "@jupyter-widgets/controls",
            "layout": "IPY_MODEL_cae6696172f140568c0773a314cfc4fc"
          }
        },
        "2b0012ef8f3446bf8cc25d3e7a817d97": {
          "model_module": "@jupyter-widgets/controls",
          "model_name": "ProgressStyleModel",
          "state": {
            "_view_name": "StyleView",
            "_model_name": "ProgressStyleModel",
            "description_width": "initial",
            "_view_module": "@jupyter-widgets/base",
            "_model_module_version": "1.5.0",
            "_view_count": null,
            "_view_module_version": "1.2.0",
            "bar_color": null,
            "_model_module": "@jupyter-widgets/controls"
          }
        },
        "7bc03e0ebd8d4a35abc64d4ac1745d8c": {
          "model_module": "@jupyter-widgets/base",
          "model_name": "LayoutModel",
          "state": {
            "_view_name": "LayoutView",
            "grid_template_rows": null,
            "right": null,
            "justify_content": null,
            "_view_module": "@jupyter-widgets/base",
            "overflow": null,
            "_model_module_version": "1.2.0",
            "_view_count": null,
            "flex_flow": null,
            "width": null,
            "min_width": null,
            "border": null,
            "align_items": null,
            "bottom": null,
            "_model_module": "@jupyter-widgets/base",
            "top": null,
            "grid_column": null,
            "overflow_y": null,
            "overflow_x": null,
            "grid_auto_flow": null,
            "grid_area": null,
            "grid_template_columns": null,
            "flex": null,
            "_model_name": "LayoutModel",
            "justify_items": null,
            "grid_row": null,
            "max_height": null,
            "align_content": null,
            "visibility": null,
            "align_self": null,
            "height": null,
            "min_height": null,
            "padding": null,
            "grid_auto_rows": null,
            "grid_gap": null,
            "max_width": null,
            "order": null,
            "_view_module_version": "1.2.0",
            "grid_template_areas": null,
            "object_position": null,
            "object_fit": null,
            "grid_auto_columns": null,
            "margin": null,
            "display": null,
            "left": null
          }
        },
        "4cc673c72af6407b8fbae1ab71e474bb": {
          "model_module": "@jupyter-widgets/controls",
          "model_name": "DescriptionStyleModel",
          "state": {
            "_view_name": "StyleView",
            "_model_name": "DescriptionStyleModel",
            "description_width": "",
            "_view_module": "@jupyter-widgets/base",
            "_model_module_version": "1.5.0",
            "_view_count": null,
            "_view_module_version": "1.2.0",
            "_model_module": "@jupyter-widgets/controls"
          }
        },
        "cae6696172f140568c0773a314cfc4fc": {
          "model_module": "@jupyter-widgets/base",
          "model_name": "LayoutModel",
          "state": {
            "_view_name": "LayoutView",
            "grid_template_rows": null,
            "right": null,
            "justify_content": null,
            "_view_module": "@jupyter-widgets/base",
            "overflow": null,
            "_model_module_version": "1.2.0",
            "_view_count": null,
            "flex_flow": null,
            "width": null,
            "min_width": null,
            "border": null,
            "align_items": null,
            "bottom": null,
            "_model_module": "@jupyter-widgets/base",
            "top": null,
            "grid_column": null,
            "overflow_y": null,
            "overflow_x": null,
            "grid_auto_flow": null,
            "grid_area": null,
            "grid_template_columns": null,
            "flex": null,
            "_model_name": "LayoutModel",
            "justify_items": null,
            "grid_row": null,
            "max_height": null,
            "align_content": null,
            "visibility": null,
            "align_self": null,
            "height": null,
            "min_height": null,
            "padding": null,
            "grid_auto_rows": null,
            "grid_gap": null,
            "max_width": null,
            "order": null,
            "_view_module_version": "1.2.0",
            "grid_template_areas": null,
            "object_position": null,
            "object_fit": null,
            "grid_auto_columns": null,
            "margin": null,
            "display": null,
            "left": null
          }
        },
        "eb07bb245c9949fb9625dd35b74b9095": {
          "model_module": "@jupyter-widgets/controls",
          "model_name": "HBoxModel",
          "state": {
            "_view_name": "HBoxView",
            "_dom_classes": [],
            "_model_name": "HBoxModel",
            "_view_module": "@jupyter-widgets/controls",
            "_model_module_version": "1.5.0",
            "_view_count": null,
            "_view_module_version": "1.5.0",
            "box_style": "",
            "layout": "IPY_MODEL_c1de8738f17e4651a1c2991af1c28500",
            "_model_module": "@jupyter-widgets/controls",
            "children": [
              "IPY_MODEL_3c8b4f2f08ca4a8bbba2ab8322b26db0",
              "IPY_MODEL_dad6f42e062f49de8ba6cbcc5229e6de"
            ]
          }
        },
        "c1de8738f17e4651a1c2991af1c28500": {
          "model_module": "@jupyter-widgets/base",
          "model_name": "LayoutModel",
          "state": {
            "_view_name": "LayoutView",
            "grid_template_rows": null,
            "right": null,
            "justify_content": null,
            "_view_module": "@jupyter-widgets/base",
            "overflow": null,
            "_model_module_version": "1.2.0",
            "_view_count": null,
            "flex_flow": null,
            "width": null,
            "min_width": null,
            "border": null,
            "align_items": null,
            "bottom": null,
            "_model_module": "@jupyter-widgets/base",
            "top": null,
            "grid_column": null,
            "overflow_y": null,
            "overflow_x": null,
            "grid_auto_flow": null,
            "grid_area": null,
            "grid_template_columns": null,
            "flex": null,
            "_model_name": "LayoutModel",
            "justify_items": null,
            "grid_row": null,
            "max_height": null,
            "align_content": null,
            "visibility": null,
            "align_self": null,
            "height": null,
            "min_height": null,
            "padding": null,
            "grid_auto_rows": null,
            "grid_gap": null,
            "max_width": null,
            "order": null,
            "_view_module_version": "1.2.0",
            "grid_template_areas": null,
            "object_position": null,
            "object_fit": null,
            "grid_auto_columns": null,
            "margin": null,
            "display": null,
            "left": null
          }
        },
        "3c8b4f2f08ca4a8bbba2ab8322b26db0": {
          "model_module": "@jupyter-widgets/controls",
          "model_name": "FloatProgressModel",
          "state": {
            "_view_name": "ProgressView",
            "style": "IPY_MODEL_88882480cdf148fbae9ee1c1d4942bf7",
            "_dom_classes": [],
            "description": "",
            "_model_name": "FloatProgressModel",
            "bar_style": "info",
            "max": 1,
            "_view_module": "@jupyter-widgets/controls",
            "_model_module_version": "1.5.0",
            "value": 1,
            "_view_count": null,
            "_view_module_version": "1.5.0",
            "orientation": "horizontal",
            "min": 0,
            "description_tooltip": null,
            "_model_module": "@jupyter-widgets/controls",
            "layout": "IPY_MODEL_15245e655cd94eb8a48e4bc19758273c"
          }
        },
        "dad6f42e062f49de8ba6cbcc5229e6de": {
          "model_module": "@jupyter-widgets/controls",
          "model_name": "HTMLModel",
          "state": {
            "_view_name": "HTMLView",
            "style": "IPY_MODEL_f16d7bd54b114944a4b57e48076c5ad1",
            "_dom_classes": [],
            "description": "",
            "_model_name": "HTMLModel",
            "placeholder": "​",
            "_view_module": "@jupyter-widgets/controls",
            "_model_module_version": "1.5.0",
            "value": " 408/0 [00:00&lt;00:00, 746.40 examples/s]",
            "_view_count": null,
            "_view_module_version": "1.5.0",
            "description_tooltip": null,
            "_model_module": "@jupyter-widgets/controls",
            "layout": "IPY_MODEL_f5f29d5a11d24a16aa81229f40572f3a"
          }
        },
        "88882480cdf148fbae9ee1c1d4942bf7": {
          "model_module": "@jupyter-widgets/controls",
          "model_name": "ProgressStyleModel",
          "state": {
            "_view_name": "StyleView",
            "_model_name": "ProgressStyleModel",
            "description_width": "initial",
            "_view_module": "@jupyter-widgets/base",
            "_model_module_version": "1.5.0",
            "_view_count": null,
            "_view_module_version": "1.2.0",
            "bar_color": null,
            "_model_module": "@jupyter-widgets/controls"
          }
        },
        "15245e655cd94eb8a48e4bc19758273c": {
          "model_module": "@jupyter-widgets/base",
          "model_name": "LayoutModel",
          "state": {
            "_view_name": "LayoutView",
            "grid_template_rows": null,
            "right": null,
            "justify_content": null,
            "_view_module": "@jupyter-widgets/base",
            "overflow": null,
            "_model_module_version": "1.2.0",
            "_view_count": null,
            "flex_flow": null,
            "width": null,
            "min_width": null,
            "border": null,
            "align_items": null,
            "bottom": null,
            "_model_module": "@jupyter-widgets/base",
            "top": null,
            "grid_column": null,
            "overflow_y": null,
            "overflow_x": null,
            "grid_auto_flow": null,
            "grid_area": null,
            "grid_template_columns": null,
            "flex": null,
            "_model_name": "LayoutModel",
            "justify_items": null,
            "grid_row": null,
            "max_height": null,
            "align_content": null,
            "visibility": null,
            "align_self": null,
            "height": null,
            "min_height": null,
            "padding": null,
            "grid_auto_rows": null,
            "grid_gap": null,
            "max_width": null,
            "order": null,
            "_view_module_version": "1.2.0",
            "grid_template_areas": null,
            "object_position": null,
            "object_fit": null,
            "grid_auto_columns": null,
            "margin": null,
            "display": null,
            "left": null
          }
        },
        "f16d7bd54b114944a4b57e48076c5ad1": {
          "model_module": "@jupyter-widgets/controls",
          "model_name": "DescriptionStyleModel",
          "state": {
            "_view_name": "StyleView",
            "_model_name": "DescriptionStyleModel",
            "description_width": "",
            "_view_module": "@jupyter-widgets/base",
            "_model_module_version": "1.5.0",
            "_view_count": null,
            "_view_module_version": "1.2.0",
            "_model_module": "@jupyter-widgets/controls"
          }
        },
        "f5f29d5a11d24a16aa81229f40572f3a": {
          "model_module": "@jupyter-widgets/base",
          "model_name": "LayoutModel",
          "state": {
            "_view_name": "LayoutView",
            "grid_template_rows": null,
            "right": null,
            "justify_content": null,
            "_view_module": "@jupyter-widgets/base",
            "overflow": null,
            "_model_module_version": "1.2.0",
            "_view_count": null,
            "flex_flow": null,
            "width": null,
            "min_width": null,
            "border": null,
            "align_items": null,
            "bottom": null,
            "_model_module": "@jupyter-widgets/base",
            "top": null,
            "grid_column": null,
            "overflow_y": null,
            "overflow_x": null,
            "grid_auto_flow": null,
            "grid_area": null,
            "grid_template_columns": null,
            "flex": null,
            "_model_name": "LayoutModel",
            "justify_items": null,
            "grid_row": null,
            "max_height": null,
            "align_content": null,
            "visibility": null,
            "align_self": null,
            "height": null,
            "min_height": null,
            "padding": null,
            "grid_auto_rows": null,
            "grid_gap": null,
            "max_width": null,
            "order": null,
            "_view_module_version": "1.2.0",
            "grid_template_areas": null,
            "object_position": null,
            "object_fit": null,
            "grid_auto_columns": null,
            "margin": null,
            "display": null,
            "left": null
          }
        },
        "09da2a98513e401ba8b947853b56704e": {
          "model_module": "@jupyter-widgets/controls",
          "model_name": "HBoxModel",
          "state": {
            "_view_name": "HBoxView",
            "_dom_classes": [],
            "_model_name": "HBoxModel",
            "_view_module": "@jupyter-widgets/controls",
            "_model_module_version": "1.5.0",
            "_view_count": null,
            "_view_module_version": "1.5.0",
            "box_style": "",
            "layout": "IPY_MODEL_f8abf819f5d34c788412dabf2b1cfe4a",
            "_model_module": "@jupyter-widgets/controls",
            "children": [
              "IPY_MODEL_aa88e59ca2ec4548a07451917e73bab3",
              "IPY_MODEL_dd2d806158e04ec0b2a7c896f2f10dfb"
            ]
          }
        },
        "f8abf819f5d34c788412dabf2b1cfe4a": {
          "model_module": "@jupyter-widgets/base",
          "model_name": "LayoutModel",
          "state": {
            "_view_name": "LayoutView",
            "grid_template_rows": null,
            "right": null,
            "justify_content": null,
            "_view_module": "@jupyter-widgets/base",
            "overflow": null,
            "_model_module_version": "1.2.0",
            "_view_count": null,
            "flex_flow": null,
            "width": null,
            "min_width": null,
            "border": null,
            "align_items": null,
            "bottom": null,
            "_model_module": "@jupyter-widgets/base",
            "top": null,
            "grid_column": null,
            "overflow_y": null,
            "overflow_x": null,
            "grid_auto_flow": null,
            "grid_area": null,
            "grid_template_columns": null,
            "flex": null,
            "_model_name": "LayoutModel",
            "justify_items": null,
            "grid_row": null,
            "max_height": null,
            "align_content": null,
            "visibility": null,
            "align_self": null,
            "height": null,
            "min_height": null,
            "padding": null,
            "grid_auto_rows": null,
            "grid_gap": null,
            "max_width": null,
            "order": null,
            "_view_module_version": "1.2.0",
            "grid_template_areas": null,
            "object_position": null,
            "object_fit": null,
            "grid_auto_columns": null,
            "margin": null,
            "display": null,
            "left": null
          }
        },
        "aa88e59ca2ec4548a07451917e73bab3": {
          "model_module": "@jupyter-widgets/controls",
          "model_name": "FloatProgressModel",
          "state": {
            "_view_name": "ProgressView",
            "style": "IPY_MODEL_56f0d329711d4c75bf4836c242d1ae89",
            "_dom_classes": [],
            "description": "  0%",
            "_model_name": "FloatProgressModel",
            "bar_style": "danger",
            "max": 408,
            "_view_module": "@jupyter-widgets/controls",
            "_model_module_version": "1.5.0",
            "value": 0,
            "_view_count": null,
            "_view_module_version": "1.5.0",
            "orientation": "horizontal",
            "min": 0,
            "description_tooltip": null,
            "_model_module": "@jupyter-widgets/controls",
            "layout": "IPY_MODEL_6fb1a75947aa4cd4a46864023bd24adc"
          }
        },
        "dd2d806158e04ec0b2a7c896f2f10dfb": {
          "model_module": "@jupyter-widgets/controls",
          "model_name": "HTMLModel",
          "state": {
            "_view_name": "HTMLView",
            "style": "IPY_MODEL_ff34611621414918bca8171390c345fb",
            "_dom_classes": [],
            "description": "",
            "_model_name": "HTMLModel",
            "placeholder": "​",
            "_view_module": "@jupyter-widgets/controls",
            "_model_module_version": "1.5.0",
            "value": " 0/408 [00:00&lt;?, ? examples/s]",
            "_view_count": null,
            "_view_module_version": "1.5.0",
            "description_tooltip": null,
            "_model_module": "@jupyter-widgets/controls",
            "layout": "IPY_MODEL_fdce7e50f13d4b8cb1427c9254dd656d"
          }
        },
        "56f0d329711d4c75bf4836c242d1ae89": {
          "model_module": "@jupyter-widgets/controls",
          "model_name": "ProgressStyleModel",
          "state": {
            "_view_name": "StyleView",
            "_model_name": "ProgressStyleModel",
            "description_width": "initial",
            "_view_module": "@jupyter-widgets/base",
            "_model_module_version": "1.5.0",
            "_view_count": null,
            "_view_module_version": "1.2.0",
            "bar_color": null,
            "_model_module": "@jupyter-widgets/controls"
          }
        },
        "6fb1a75947aa4cd4a46864023bd24adc": {
          "model_module": "@jupyter-widgets/base",
          "model_name": "LayoutModel",
          "state": {
            "_view_name": "LayoutView",
            "grid_template_rows": null,
            "right": null,
            "justify_content": null,
            "_view_module": "@jupyter-widgets/base",
            "overflow": null,
            "_model_module_version": "1.2.0",
            "_view_count": null,
            "flex_flow": null,
            "width": null,
            "min_width": null,
            "border": null,
            "align_items": null,
            "bottom": null,
            "_model_module": "@jupyter-widgets/base",
            "top": null,
            "grid_column": null,
            "overflow_y": null,
            "overflow_x": null,
            "grid_auto_flow": null,
            "grid_area": null,
            "grid_template_columns": null,
            "flex": null,
            "_model_name": "LayoutModel",
            "justify_items": null,
            "grid_row": null,
            "max_height": null,
            "align_content": null,
            "visibility": null,
            "align_self": null,
            "height": null,
            "min_height": null,
            "padding": null,
            "grid_auto_rows": null,
            "grid_gap": null,
            "max_width": null,
            "order": null,
            "_view_module_version": "1.2.0",
            "grid_template_areas": null,
            "object_position": null,
            "object_fit": null,
            "grid_auto_columns": null,
            "margin": null,
            "display": null,
            "left": null
          }
        },
        "ff34611621414918bca8171390c345fb": {
          "model_module": "@jupyter-widgets/controls",
          "model_name": "DescriptionStyleModel",
          "state": {
            "_view_name": "StyleView",
            "_model_name": "DescriptionStyleModel",
            "description_width": "",
            "_view_module": "@jupyter-widgets/base",
            "_model_module_version": "1.5.0",
            "_view_count": null,
            "_view_module_version": "1.2.0",
            "_model_module": "@jupyter-widgets/controls"
          }
        },
        "fdce7e50f13d4b8cb1427c9254dd656d": {
          "model_module": "@jupyter-widgets/base",
          "model_name": "LayoutModel",
          "state": {
            "_view_name": "LayoutView",
            "grid_template_rows": null,
            "right": null,
            "justify_content": null,
            "_view_module": "@jupyter-widgets/base",
            "overflow": null,
            "_model_module_version": "1.2.0",
            "_view_count": null,
            "flex_flow": null,
            "width": null,
            "min_width": null,
            "border": null,
            "align_items": null,
            "bottom": null,
            "_model_module": "@jupyter-widgets/base",
            "top": null,
            "grid_column": null,
            "overflow_y": null,
            "overflow_x": null,
            "grid_auto_flow": null,
            "grid_area": null,
            "grid_template_columns": null,
            "flex": null,
            "_model_name": "LayoutModel",
            "justify_items": null,
            "grid_row": null,
            "max_height": null,
            "align_content": null,
            "visibility": null,
            "align_self": null,
            "height": null,
            "min_height": null,
            "padding": null,
            "grid_auto_rows": null,
            "grid_gap": null,
            "max_width": null,
            "order": null,
            "_view_module_version": "1.2.0",
            "grid_template_areas": null,
            "object_position": null,
            "object_fit": null,
            "grid_auto_columns": null,
            "margin": null,
            "display": null,
            "left": null
          }
        },
        "1fa956c728ba421da7927e1de3849ae9": {
          "model_module": "@jupyter-widgets/controls",
          "model_name": "HBoxModel",
          "state": {
            "_view_name": "HBoxView",
            "_dom_classes": [],
            "_model_name": "HBoxModel",
            "_view_module": "@jupyter-widgets/controls",
            "_model_module_version": "1.5.0",
            "_view_count": null,
            "_view_module_version": "1.5.0",
            "box_style": "",
            "layout": "IPY_MODEL_316c3e8aa7d540f182b130ad31764925",
            "_model_module": "@jupyter-widgets/controls",
            "children": [
              "IPY_MODEL_7e80e24fe59f4c12ad6f0d66b51ab0a9",
              "IPY_MODEL_7e9ad91e04b24486ab99a8d3446faf18"
            ]
          }
        },
        "316c3e8aa7d540f182b130ad31764925": {
          "model_module": "@jupyter-widgets/base",
          "model_name": "LayoutModel",
          "state": {
            "_view_name": "LayoutView",
            "grid_template_rows": null,
            "right": null,
            "justify_content": null,
            "_view_module": "@jupyter-widgets/base",
            "overflow": null,
            "_model_module_version": "1.2.0",
            "_view_count": null,
            "flex_flow": null,
            "width": null,
            "min_width": null,
            "border": null,
            "align_items": null,
            "bottom": null,
            "_model_module": "@jupyter-widgets/base",
            "top": null,
            "grid_column": null,
            "overflow_y": null,
            "overflow_x": null,
            "grid_auto_flow": null,
            "grid_area": null,
            "grid_template_columns": null,
            "flex": null,
            "_model_name": "LayoutModel",
            "justify_items": null,
            "grid_row": null,
            "max_height": null,
            "align_content": null,
            "visibility": null,
            "align_self": null,
            "height": null,
            "min_height": null,
            "padding": null,
            "grid_auto_rows": null,
            "grid_gap": null,
            "max_width": null,
            "order": null,
            "_view_module_version": "1.2.0",
            "grid_template_areas": null,
            "object_position": null,
            "object_fit": null,
            "grid_auto_columns": null,
            "margin": null,
            "display": null,
            "left": null
          }
        },
        "7e80e24fe59f4c12ad6f0d66b51ab0a9": {
          "model_module": "@jupyter-widgets/controls",
          "model_name": "FloatProgressModel",
          "state": {
            "_view_name": "ProgressView",
            "style": "IPY_MODEL_751781bc4c404126b0bf3e855d82c73f",
            "_dom_classes": [],
            "description": "",
            "_model_name": "FloatProgressModel",
            "bar_style": "info",
            "max": 1,
            "_view_module": "@jupyter-widgets/controls",
            "_model_module_version": "1.5.0",
            "value": 1,
            "_view_count": null,
            "_view_module_version": "1.5.0",
            "orientation": "horizontal",
            "min": 0,
            "description_tooltip": null,
            "_model_module": "@jupyter-widgets/controls",
            "layout": "IPY_MODEL_68067fa569544767b4c3f6d52e9f2461"
          }
        },
        "7e9ad91e04b24486ab99a8d3446faf18": {
          "model_module": "@jupyter-widgets/controls",
          "model_name": "HTMLModel",
          "state": {
            "_view_name": "HTMLView",
            "style": "IPY_MODEL_42db0f6aeb45466296196a3766752805",
            "_dom_classes": [],
            "description": "",
            "_model_name": "HTMLModel",
            "placeholder": "​",
            "_view_module": "@jupyter-widgets/controls",
            "_model_module_version": "1.5.0",
            "value": " 1725/0 [00:00&lt;00:00, 1349.16 examples/s]",
            "_view_count": null,
            "_view_module_version": "1.5.0",
            "description_tooltip": null,
            "_model_module": "@jupyter-widgets/controls",
            "layout": "IPY_MODEL_e8970ad2b8ef4bf1a7402057afde5229"
          }
        },
        "751781bc4c404126b0bf3e855d82c73f": {
          "model_module": "@jupyter-widgets/controls",
          "model_name": "ProgressStyleModel",
          "state": {
            "_view_name": "StyleView",
            "_model_name": "ProgressStyleModel",
            "description_width": "initial",
            "_view_module": "@jupyter-widgets/base",
            "_model_module_version": "1.5.0",
            "_view_count": null,
            "_view_module_version": "1.2.0",
            "bar_color": null,
            "_model_module": "@jupyter-widgets/controls"
          }
        },
        "68067fa569544767b4c3f6d52e9f2461": {
          "model_module": "@jupyter-widgets/base",
          "model_name": "LayoutModel",
          "state": {
            "_view_name": "LayoutView",
            "grid_template_rows": null,
            "right": null,
            "justify_content": null,
            "_view_module": "@jupyter-widgets/base",
            "overflow": null,
            "_model_module_version": "1.2.0",
            "_view_count": null,
            "flex_flow": null,
            "width": null,
            "min_width": null,
            "border": null,
            "align_items": null,
            "bottom": null,
            "_model_module": "@jupyter-widgets/base",
            "top": null,
            "grid_column": null,
            "overflow_y": null,
            "overflow_x": null,
            "grid_auto_flow": null,
            "grid_area": null,
            "grid_template_columns": null,
            "flex": null,
            "_model_name": "LayoutModel",
            "justify_items": null,
            "grid_row": null,
            "max_height": null,
            "align_content": null,
            "visibility": null,
            "align_self": null,
            "height": null,
            "min_height": null,
            "padding": null,
            "grid_auto_rows": null,
            "grid_gap": null,
            "max_width": null,
            "order": null,
            "_view_module_version": "1.2.0",
            "grid_template_areas": null,
            "object_position": null,
            "object_fit": null,
            "grid_auto_columns": null,
            "margin": null,
            "display": null,
            "left": null
          }
        },
        "42db0f6aeb45466296196a3766752805": {
          "model_module": "@jupyter-widgets/controls",
          "model_name": "DescriptionStyleModel",
          "state": {
            "_view_name": "StyleView",
            "_model_name": "DescriptionStyleModel",
            "description_width": "",
            "_view_module": "@jupyter-widgets/base",
            "_model_module_version": "1.5.0",
            "_view_count": null,
            "_view_module_version": "1.2.0",
            "_model_module": "@jupyter-widgets/controls"
          }
        },
        "e8970ad2b8ef4bf1a7402057afde5229": {
          "model_module": "@jupyter-widgets/base",
          "model_name": "LayoutModel",
          "state": {
            "_view_name": "LayoutView",
            "grid_template_rows": null,
            "right": null,
            "justify_content": null,
            "_view_module": "@jupyter-widgets/base",
            "overflow": null,
            "_model_module_version": "1.2.0",
            "_view_count": null,
            "flex_flow": null,
            "width": null,
            "min_width": null,
            "border": null,
            "align_items": null,
            "bottom": null,
            "_model_module": "@jupyter-widgets/base",
            "top": null,
            "grid_column": null,
            "overflow_y": null,
            "overflow_x": null,
            "grid_auto_flow": null,
            "grid_area": null,
            "grid_template_columns": null,
            "flex": null,
            "_model_name": "LayoutModel",
            "justify_items": null,
            "grid_row": null,
            "max_height": null,
            "align_content": null,
            "visibility": null,
            "align_self": null,
            "height": null,
            "min_height": null,
            "padding": null,
            "grid_auto_rows": null,
            "grid_gap": null,
            "max_width": null,
            "order": null,
            "_view_module_version": "1.2.0",
            "grid_template_areas": null,
            "object_position": null,
            "object_fit": null,
            "grid_auto_columns": null,
            "margin": null,
            "display": null,
            "left": null
          }
        },
        "cb384183df96451ba11cfcc494f68587": {
          "model_module": "@jupyter-widgets/controls",
          "model_name": "HBoxModel",
          "state": {
            "_view_name": "HBoxView",
            "_dom_classes": [],
            "_model_name": "HBoxModel",
            "_view_module": "@jupyter-widgets/controls",
            "_model_module_version": "1.5.0",
            "_view_count": null,
            "_view_module_version": "1.5.0",
            "box_style": "",
            "layout": "IPY_MODEL_2e4013e5794843239cf78e7af7c21601",
            "_model_module": "@jupyter-widgets/controls",
            "children": [
              "IPY_MODEL_a514ee8514524648b40b8aceccf84b68",
              "IPY_MODEL_a68a7472786f4cc585615bbcf2849885"
            ]
          }
        },
        "2e4013e5794843239cf78e7af7c21601": {
          "model_module": "@jupyter-widgets/base",
          "model_name": "LayoutModel",
          "state": {
            "_view_name": "LayoutView",
            "grid_template_rows": null,
            "right": null,
            "justify_content": null,
            "_view_module": "@jupyter-widgets/base",
            "overflow": null,
            "_model_module_version": "1.2.0",
            "_view_count": null,
            "flex_flow": null,
            "width": null,
            "min_width": null,
            "border": null,
            "align_items": null,
            "bottom": null,
            "_model_module": "@jupyter-widgets/base",
            "top": null,
            "grid_column": null,
            "overflow_y": null,
            "overflow_x": null,
            "grid_auto_flow": null,
            "grid_area": null,
            "grid_template_columns": null,
            "flex": null,
            "_model_name": "LayoutModel",
            "justify_items": null,
            "grid_row": null,
            "max_height": null,
            "align_content": null,
            "visibility": null,
            "align_self": null,
            "height": null,
            "min_height": null,
            "padding": null,
            "grid_auto_rows": null,
            "grid_gap": null,
            "max_width": null,
            "order": null,
            "_view_module_version": "1.2.0",
            "grid_template_areas": null,
            "object_position": null,
            "object_fit": null,
            "grid_auto_columns": null,
            "margin": null,
            "display": null,
            "left": null
          }
        },
        "a514ee8514524648b40b8aceccf84b68": {
          "model_module": "@jupyter-widgets/controls",
          "model_name": "FloatProgressModel",
          "state": {
            "_view_name": "ProgressView",
            "style": "IPY_MODEL_7fb08cd3c81745e88bd2c30c88855213",
            "_dom_classes": [],
            "description": "  0%",
            "_model_name": "FloatProgressModel",
            "bar_style": "danger",
            "max": 1725,
            "_view_module": "@jupyter-widgets/controls",
            "_model_module_version": "1.5.0",
            "value": 0,
            "_view_count": null,
            "_view_module_version": "1.5.0",
            "orientation": "horizontal",
            "min": 0,
            "description_tooltip": null,
            "_model_module": "@jupyter-widgets/controls",
            "layout": "IPY_MODEL_32d31e8fa6ce42e4b61f4dd16da99799"
          }
        },
        "a68a7472786f4cc585615bbcf2849885": {
          "model_module": "@jupyter-widgets/controls",
          "model_name": "HTMLModel",
          "state": {
            "_view_name": "HTMLView",
            "style": "IPY_MODEL_d52921739d2541e69d0a8aee803cfd1d",
            "_dom_classes": [],
            "description": "",
            "_model_name": "HTMLModel",
            "placeholder": "​",
            "_view_module": "@jupyter-widgets/controls",
            "_model_module_version": "1.5.0",
            "value": " 0/1725 [00:00&lt;?, ? examples/s]",
            "_view_count": null,
            "_view_module_version": "1.5.0",
            "description_tooltip": null,
            "_model_module": "@jupyter-widgets/controls",
            "layout": "IPY_MODEL_8f4c60f786e14e3a9b3296db91e7c912"
          }
        },
        "7fb08cd3c81745e88bd2c30c88855213": {
          "model_module": "@jupyter-widgets/controls",
          "model_name": "ProgressStyleModel",
          "state": {
            "_view_name": "StyleView",
            "_model_name": "ProgressStyleModel",
            "description_width": "initial",
            "_view_module": "@jupyter-widgets/base",
            "_model_module_version": "1.5.0",
            "_view_count": null,
            "_view_module_version": "1.2.0",
            "bar_color": null,
            "_model_module": "@jupyter-widgets/controls"
          }
        },
        "32d31e8fa6ce42e4b61f4dd16da99799": {
          "model_module": "@jupyter-widgets/base",
          "model_name": "LayoutModel",
          "state": {
            "_view_name": "LayoutView",
            "grid_template_rows": null,
            "right": null,
            "justify_content": null,
            "_view_module": "@jupyter-widgets/base",
            "overflow": null,
            "_model_module_version": "1.2.0",
            "_view_count": null,
            "flex_flow": null,
            "width": null,
            "min_width": null,
            "border": null,
            "align_items": null,
            "bottom": null,
            "_model_module": "@jupyter-widgets/base",
            "top": null,
            "grid_column": null,
            "overflow_y": null,
            "overflow_x": null,
            "grid_auto_flow": null,
            "grid_area": null,
            "grid_template_columns": null,
            "flex": null,
            "_model_name": "LayoutModel",
            "justify_items": null,
            "grid_row": null,
            "max_height": null,
            "align_content": null,
            "visibility": null,
            "align_self": null,
            "height": null,
            "min_height": null,
            "padding": null,
            "grid_auto_rows": null,
            "grid_gap": null,
            "max_width": null,
            "order": null,
            "_view_module_version": "1.2.0",
            "grid_template_areas": null,
            "object_position": null,
            "object_fit": null,
            "grid_auto_columns": null,
            "margin": null,
            "display": null,
            "left": null
          }
        },
        "d52921739d2541e69d0a8aee803cfd1d": {
          "model_module": "@jupyter-widgets/controls",
          "model_name": "DescriptionStyleModel",
          "state": {
            "_view_name": "StyleView",
            "_model_name": "DescriptionStyleModel",
            "description_width": "",
            "_view_module": "@jupyter-widgets/base",
            "_model_module_version": "1.5.0",
            "_view_count": null,
            "_view_module_version": "1.2.0",
            "_model_module": "@jupyter-widgets/controls"
          }
        },
        "8f4c60f786e14e3a9b3296db91e7c912": {
          "model_module": "@jupyter-widgets/base",
          "model_name": "LayoutModel",
          "state": {
            "_view_name": "LayoutView",
            "grid_template_rows": null,
            "right": null,
            "justify_content": null,
            "_view_module": "@jupyter-widgets/base",
            "overflow": null,
            "_model_module_version": "1.2.0",
            "_view_count": null,
            "flex_flow": null,
            "width": null,
            "min_width": null,
            "border": null,
            "align_items": null,
            "bottom": null,
            "_model_module": "@jupyter-widgets/base",
            "top": null,
            "grid_column": null,
            "overflow_y": null,
            "overflow_x": null,
            "grid_auto_flow": null,
            "grid_area": null,
            "grid_template_columns": null,
            "flex": null,
            "_model_name": "LayoutModel",
            "justify_items": null,
            "grid_row": null,
            "max_height": null,
            "align_content": null,
            "visibility": null,
            "align_self": null,
            "height": null,
            "min_height": null,
            "padding": null,
            "grid_auto_rows": null,
            "grid_gap": null,
            "max_width": null,
            "order": null,
            "_view_module_version": "1.2.0",
            "grid_template_areas": null,
            "object_position": null,
            "object_fit": null,
            "grid_auto_columns": null,
            "margin": null,
            "display": null,
            "left": null
          }
        }
      }
    }
  },
  "cells": [
    {
      "cell_type": "markdown",
      "metadata": {
        "id": "u89QPxZJXzzT"
      },
      "source": [
        "#17-1. 들어가며\n",
        "NLP 기술의 발전과 framework\n",
        "\n",
        "\n",
        "---\n",
        "\n",
        "\n",
        "지난 시간까지 우리는 최근 빠르게 발전하고 있는 다양한 Modern NLP의 논문과 모델들을 살펴보았습니다.\n",
        "\n",
        "이 모든 모델들을 직접 짜보는 것이 실력 향상에 도움이 되지만, 매번 새로운 논문들을 직접 구현할 수는 없겠죠. 설령 구현해 본다 하더라도 각각의 모델들이 최고의 성능을 내기 위해서는 엄청나게 많은 컴퓨팅 자원을 동원한 pre-training 작업을 필요로 합니다.\n",
        "\n",
        "또한, 논문과 함께 공개된 리서치코드를 이용하여 모델을 내가 가진 데이터셋과 문제에 적용할 수는 있지만, 매번 프로젝트마다 다른 코드스타일과, 다른 framework(tensorflow, pytorch 등)을 사용하기 때문에 많은 모델들을 분석해서 구조를 파악한 후 직접 돌려보고 이를 적용하기란 쉽지 않을 것입니다.\n",
        "\n",
        "이런 고민들을 모두 한꺼번에 해결해줄 수 있는 게 바로 NLP Framework입니다!!\n",
        "\n",
        "소프트웨어에서 framework란 프로젝트의 뼈대를 이루는 클래스와 인터페이스의 집합을 말합니다. 해당 분야의 베스트 프랙티스를 반영하여 확장 가능한 템플릿 형태로 설계되었기 때문에, framework를 이용해 손쉽게 다양한 응용 프로그램을 제작할 수 있습니다. 최근 NLP 분야에선 transformer 기반의 BERT 등 다양한 pretrained model이 발표되고, 이를 활용한 전이학습(transfer learning)을 통해 다양한 NLP 태스크를 손쉽게 구현하는 흐름이 두드러지고 있습니다. 이런 NLP 분야의 베스트 프랙티스를 바탕으로 다양한 NLP 분야의 framework가 속속 발표되고 있습니다. 이러한 NLP framework들은 NLP 분야의 최신 논문들의 리서치코드를 미리 구현하여 pretrained model을 제공하고 있습니다. 그래서 framework의 사용자가 아주 손쉽게 이를 가져다가 다양한 태스크에 맞게 finetuning하거나 하여 사용할 수 있게 해 줍니다. 대부분의 NLP framework들은 태스크나 데이터셋, 모델에 무관하게 통일적인 인터페이스를 기반으로 설계된 클래스 구조를 가지고 있어서, 최소한의 코드 구현만으로도 다양한 변화에 대응할 수 있게 해주는 장점이 있습니다.\n",
        "\n",
        "정말 다양한 framework들이 존재하고 있습니다. 어떤 멋진 NLP framework들이 있는지 간단히 살펴보겠지만, 이번 시간에 우리는 특히 Huggingface(🤗)의 transformers를 중심으로 다양한 NLP의 모델들을 다루는 방법에 대해 이야기 나눠볼까 합니다.\n",
        "\n",
        "❗ 버전\n",
        "이번 노드는 tensorflow 2.3 이상 버전을 설치해주시기 바랍니다.\n",
        "\n",
        "오늘의 목차\n",
        "\n",
        "---\n",
        "\n",
        "다양한 NLP Framework의 출현\n",
        "\n",
        "Huggingface transformers 개요\n",
        "\n",
        "Huggingface transformers (1) Model\n",
        "\n",
        "Huggingface transformers (2) Tokenizer\n",
        "\n",
        "Huggingface transformers (3) Processor\n",
        "\n",
        "Huggingface transformers (4) Config\n",
        "\n",
        "Huggingface transformers (5) Trainer"
      ]
    },
    {
      "cell_type": "markdown",
      "metadata": {
        "id": "TVV1FSGuYZhT"
      },
      "source": [
        "#17-2. 다양한 NLP Framework의 출현\n",
        "오늘 우리는 주로 Huggingface transformers Framework를 통해 NLP framwork가 어떤 것인지를 구체적으로 살펴볼 것입니다. 그러나 Huggingface transformers이전에도 NLP 분야에 널리 알려진 framework들이 많이 있었습니다. 지금도 널리 활용되고 있는 것들 위주로 종류별로 몇 가지를 살펴보도록 하겠습니다.\n",
        "\n",
        "(참고) 이번 스텝의 내용은 [Top NLP Libraries to Use 2020](https://towardsdatascience.com/top-nlp-libraries-to-use-2020-4f700cdb841f)에 정리된 내용을 바탕으로 작성하였음을 밝힙니다.\n",
        "\n",
        "General Framework for NLP\n",
        "\n",
        "---\n",
        "\n",
        "여기서 소개할 framework들은 NLP 문제를 가장 일반적으로 해결할 수 있는 통합적인 프레임워크를 목표로 설계된 것들입니다. 대표적으로는 AllenNLP, Fairseq, Fast.ai가 있으며, Google의 tensor2tensor 프로젝트도 같은 범주로 생각할 수 있습니다.\n",
        "\n",
        "🔶 AllenNLP\n",
        "제공자 : Allen AI Institute\n",
        "\n",
        "Website : [https://allennlp.org/](https://allennlp.org/)\n",
        "\n",
        "Github : https://github.com/allenai/allennlp\n",
        "\n",
        "Backend : PyTorch\n",
        "\n",
        "2018년 초반에 Contextual Word Embedding의 대표적인 모델인 ELMO를 발표하면서 유명해진 Allen Institute에서 만든 NLP framework입니다. 당시 ELMO는 [GLUE Benchmark Test](https://gluebenchmark.com/)와 같이 10가지나 되는 다양한 태스크로 구성된 데이터셋을 하나의 모델을 finetune하는 것만으로도 기존의 State-of-the-art 기록을 경신하는 성능을 보여주고자 하였습니다. 그랬기에 하나의 모델로 다양한 태스크를 손쉽게 처리할 수 있는 유연한 프로젝트를 구성해야 했고, 이를 확장하면서 자연스럽게 NLP framework로 발전하게 되었습니다. 이후 AllenNLP는 Glue dataset의 baseline 프로젝트 [Starting Baseline](https://github.com/nyu-mll/GLUE-baselines)를 제공하기도 했습니다.\n",
        "\n",
        "![image.png](data:image/png;base64,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)\n",
        "\n",
        "[출처 : AllenNLP Guide(https://guide.allennlp.org/building-your-model#1)]\n",
        "태스크와 모델을 분리해서, 한가지 모델로 다양한 태스크를 처리하거나 하나의 태스크를 다양한 모델로 처리할 수 있도록 하는 설계는 AllenNLP가 처음 시도한 것은 물론 아닙니다만, ELMO와 같은 pretrained model의 성공을 바탕으로 NLP framework를 완성해 나가려는 AllenNLP의 시도는 이후 많은 아이디어를 제공하였습니다. AllenNLP는 현재는 ELMO 이외에도 BERT 등 다양한 모델의 활용이 가능합니다.\n",
        "\n",
        "단, AllenNLP는 PyTorch 기반으로 설계되었으며 모델이 torch.nn.Module을 상속받는 구조로 설계되었습니다. Tensorflow나 Keras 기반으로 AllenNLP를 활용하는 것은 어렵습니다.\n",
        "\n",
        "🔶 Fairseq\n",
        "\n",
        "제공자 : Facebook AI Research\n",
        "\n",
        "Website : https://fairseq.readthedocs.io/en/latest\n",
        "\n",
        "Github : https://github.com/pytorch/fairseq\n",
        "\n",
        "Backend : PyTorch\n",
        "\n",
        "Fairseq는 꾸준히 NLP 연구성과를 내고 있는 Facebook AI Research의 NLP Framework입니다. 비단 자연어처리에만 국한된 것이 아니라 이름에서도 알 수 있듯이 CNN, LSTM 등 전통적인 모델로부터, 음성인식/합성 등 sequential한 데이터를 다루는 분야를 두루 다루는 다양한 pretrained model을 함께 제공하고 있습니다. 역시 Facebook의 framework답게 PyTorch 기반으로 설계되었습니다.\n",
        "\n",
        "🔶 Fast.ai\n",
        "\n",
        "제공자 : fast.ai\n",
        "\n",
        "Website : http://docs.fast.ai/\n",
        "\n",
        "Github : https://github.com/fastai/fastai\n",
        "\n",
        "Backend : PyTorch\n",
        "\n",
        "fast.ai는 이름에 걸맞게, 빠르게 배우고 쉽게 모델을 구성할 수 있도록 하이레벨 API와 Application 블록까지 손쉽게 사용할 수 있도록 구성되어 있습니다. 비단 NLP 분야 뿐 아니라 다양한 분야로 확장 가능합니다. 역시 PyTorch 기반으로 설계되었습니다.\n",
        "\n",
        "![image.png](data:image/png;base64,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)\n",
        "\n",
        "[출처 : fast.ai (https://github.com/fastai/fastai)]\n",
        "\n",
        "🔶 tensor2tensor\n",
        "\n",
        "제공자 : Google Brain\n",
        "\n",
        "Github : https://github.com/tensorflow/tensor2tensor (deprecated)\n",
        "\n",
        "New Github : https://github.com/google/trax\n",
        "\n",
        "Backend : Tensorflow\n",
        "\n",
        "Google Brain에서 2017년에 transformer 논문을 발표하면서 그 구현체로 함께 공유했던 프로젝트가 바로 tensor2tensor였습니다. 이 프로젝트 역시 'Attention is all you need'라는 논문의 제목처럼, transformer를 중심으로 다양한 태스크와 다양한 모델을 하나의 framework에 통합하려는 시도를 하였습니다. 이후 2019년부터 Google은 Tensorflow V2 기반으로 pretrained model의 지원을 강화한 trax라는 프로젝트를 생성하면서, 2020년도부터는 tensor2tensor의 개발을 중단하고 관련 기능을 trax로 통합이관하였습니다.\n",
        "\n",
        "Tensorflow 기반의 NLP framework이 상대적으로 드문 가운데, Tensorflow 기반의 NLP 연구개발을 진행한다면 주목해 볼 만할 것입니다.\n",
        "\n",
        "##Preprocessing Libraries\n",
        "\n",
        "---\n",
        "\n",
        "아래는 전통적으로 사용되었던 NLP 분야의 전처리 관련 framework들입니다. 위에서 소개한 framework들처럼 전처리-모델링-태스크 훈련/평가를 통합적으로 설계하여 NLP 태스크를 제너럴하게 수행하게 설계한 것이 아니라 tokenization, tagging, parsing 등 특정 전처리 작업을 위해 설계된 라이브러리에 가깝습니다. 여기에는 아래 예시로 든 Spacy, NLTK, TorchText 등이 있습니다. 한국어인 경우 KoNLPy 라이브러리도 동일한 역할을 한다고 볼 수 있겠습니다.\n",
        "\n",
        "🔶 Spacy\n",
        "\n",
        "Website : https://spacy.io/\n",
        "\n",
        "Github : https://github.com/explosion/spaCy\n",
        "\n",
        "🔶 NLTK\n",
        "\n",
        "Website : https://www.nltk.org/\n",
        "\n",
        "Github : https://github.com/nltk/nltk\n",
        "\n",
        "🔶 TorchText\n",
        "\n",
        "Website : https://torchtext.readthedocs.io/en/latest/\n",
        "\n",
        "Github : https://github.com/pytorch/text\n",
        "\n",
        "🔶 KoNLPy\n",
        "\n",
        "Website : https://konlpy.org/en/latest/\n",
        "\n",
        "Github : https://github.com/konlpy/konlpy\n",
        "\n",
        "##Transformer-based Framework\n",
        "\n",
        "---\n",
        "\n",
        "🔶 Huggingface transformers\n",
        "\n",
        "제공자 : Huggingface.co\n",
        "\n",
        "Website : https://huggingface.co/transformers/\n",
        "\n",
        "Github : https://github.com/huggingface/transformers\n",
        "\n",
        "Backend : PyTorch and Tensorflow\n",
        "\n",
        "여기에는 현재 가장 주목받고 있는 NLP Framework인 Huggingface transformers가 있습니다. 사실 Huggingface의 transformers 라이브러리의 최근 모습은 이미 아주 general한 NLP framework의 모습을 충분히 가지고 있습니다. 하지만 초기에는 BERT 등 다양한 transformer 기반의 pretrained model을 사용하기 위한 PyTorch 기반의 wrapper 형태로 시작되었습니다. 그래서 전통적인 모델까지 포괄하려고 했던 이전의 general NLP Framework 들에 비해, Huggingface의 transformers는 pretrained model 활용을 주로 지원하며, tokenizer 등 전처리 부분도 pretrained model들이 주로 사용하는 Subword tokenizer 기법에 집중되어 있는 특징이 있습니다.\n",
        "\n",
        "이후 다음 스텝부터는 Huggingface의 transformers에 대해 집중적으로 살펴보겠습니다."
      ]
    },
    {
      "cell_type": "markdown",
      "metadata": {
        "id": "XSeH3kMJawfH"
      },
      "source": [
        "#17-3. Huggingface transformers 개요\n",
        "##Why Huggingface?\n",
        "\n",
        "---\n",
        "\n",
        "(1) 광범위하고 신속한 NLP 모델 지원\n",
        "\n",
        "Huggingface는 많은 사람들이 최신 NLP 모델들을 더욱 손쉽게 사용하는 것을 목표로 만들기 시작했다고 합니다. 그래서 그런지 새로운 논문들이 발표될 때마다, 본인들의 framework에 흡수시키고 있습니다. 또한, pretrained model을 제공하고, dataset과 tokenizer를 더욱 쉽게 이용할 수 있도록 framework화시키고 있는 행보도 보이고 있습니다. 다른 framework들도 이런 작업을 하지 않는 것은 아니지만, Huggingface의 지원 범위가 가장 광범위하고, 최신논문을 지원하는 속도도 빠릅니다.\n",
        "\n",
        "(2) PyTorch와 Tensorflow 모두에서 사용 가능\n",
        "\n",
        "transformers는 기본적으로 PyTorch를 기반으로 만들어져있습니다. 많은 utility가 PyTorch 위주로 작성이 되어있긴 하지만, 최근에는 Tensorflow로도 학습하고 사용할 수 있게끔 계속해서 framework를 확장하고 있는 중입니다. 이렇듯 Huggingface transformers를 바탕으로 Tensorflow와 PyTorch라는 Backend의 한계를 뛰어넘어 어떤 환경에든 쉽게 적용 가능한 표준 framework의 지위를 다져가고 있습니다.\n",
        "\n",
        "(3) 잘 설계된 framework 구조\n",
        "\n",
        "Hugging Face의 목표처럼 이 framework는 쉽고 빠르게 어떠한 환경에서도 NLP모델을 사용할 수 있도록 끊임없이 변화하고 있습니다. 이것은 또한 사용하기 쉽고 직관적일뿐더러 모델이나 태스크, 데이터셋이 달라지더라도 동일한 형태로 사용 가능하도록 잘 추상화되고 모듈화된 API 설계가 있기 때문에 가능한 것입니다.\n",
        "\n",
        "##시작하기\n",
        "\n",
        "---\n",
        "\n",
        "역시 가장 먼저 해야 할 것은 프레임워크를 설치하는 것이죠! tensorflow를 사용하기 위해서 처음 설치했던 것처럼, huggingface의 Transformers도 설치해보도록 하겠습니다.\n",
        "```\n",
        "$ pip install transformers\n",
        "```\n",
        "\n",
        "생각보다 간단하죠? 하지만 만약 Huggingface transformers의 소스코드 구조를 보다 명확히 파악하고 싶다면 아래와 같이 적당한 위치에서 소스코드를 다운받아 설치하는 것을 권합니다.\n",
        "\n",
        "```\n",
        "$ git clone https://github.com/huggingface/transformers.git\n",
        "$ cd transformers\n",
        "$ pip install -e .\n",
        "```\n",
        "❗ transformers 설치 후 컴퓨터 재부팅을 해야합니다. 아래 명령어는 주의해서 입력하세요.\n",
        "\n",
        "# 재부팅 명령어입니다!!!\n",
        "$ sudo reboot\n",
        "잘 설치되었는지 파악하기 위해서는 다음 예제를 실행해 봅시다."
      ]
    },
    {
      "cell_type": "code",
      "metadata": {
        "colab": {
          "base_uri": "https://localhost:8080/"
        },
        "id": "Z4tCEQiIXr_G",
        "outputId": "64ab382c-b732-47c8-f8f0-ede4e66c5cfc"
      },
      "source": [
        "!pip install transformers\n",
        "!git clone https://github.com/huggingface/transformers.git\n",
        "!pip install -e /content/transformers/"
      ],
      "execution_count": null,
      "outputs": [
        {
          "output_type": "stream",
          "text": [
            "Requirement already satisfied: transformers in ./transformers/src (4.6.0.dev0)\n",
            "Requirement already satisfied: filelock in /usr/local/lib/python3.7/dist-packages (from transformers) (3.0.12)\n",
            "Requirement already satisfied: huggingface-hub==0.0.8 in /usr/local/lib/python3.7/dist-packages (from transformers) (0.0.8)\n",
            "Requirement already satisfied: numpy>=1.17 in /usr/local/lib/python3.7/dist-packages (from transformers) (1.19.5)\n",
            "Requirement already satisfied: packaging in /usr/local/lib/python3.7/dist-packages (from transformers) (20.9)\n",
            "Requirement already satisfied: regex!=2019.12.17 in /usr/local/lib/python3.7/dist-packages (from transformers) (2019.12.20)\n",
            "Requirement already satisfied: requests in /usr/local/lib/python3.7/dist-packages (from transformers) (2.23.0)\n",
            "Requirement already satisfied: sacremoses in /usr/local/lib/python3.7/dist-packages (from transformers) (0.0.45)\n",
            "Requirement already satisfied: tokenizers<0.11,>=0.10.1 in /usr/local/lib/python3.7/dist-packages (from transformers) (0.10.2)\n",
            "Requirement already satisfied: tqdm>=4.27 in /usr/local/lib/python3.7/dist-packages (from transformers) (4.41.1)\n",
            "Requirement already satisfied: importlib_metadata in /usr/local/lib/python3.7/dist-packages (from transformers) (3.10.1)\n",
            "Requirement already satisfied: pyparsing>=2.0.2 in /usr/local/lib/python3.7/dist-packages (from packaging->transformers) (2.4.7)\n",
            "Requirement already satisfied: idna<3,>=2.5 in /usr/local/lib/python3.7/dist-packages (from requests->transformers) (2.10)\n",
            "Requirement already satisfied: chardet<4,>=3.0.2 in /usr/local/lib/python3.7/dist-packages (from requests->transformers) (3.0.4)\n",
            "Requirement already satisfied: urllib3!=1.25.0,!=1.25.1,<1.26,>=1.21.1 in /usr/local/lib/python3.7/dist-packages (from requests->transformers) (1.24.3)\n",
            "Requirement already satisfied: certifi>=2017.4.17 in /usr/local/lib/python3.7/dist-packages (from requests->transformers) (2020.12.5)\n",
            "Requirement already satisfied: click in /usr/local/lib/python3.7/dist-packages (from sacremoses->transformers) (7.1.2)\n",
            "Requirement already satisfied: six in /usr/local/lib/python3.7/dist-packages (from sacremoses->transformers) (1.15.0)\n",
            "Requirement already satisfied: joblib in /usr/local/lib/python3.7/dist-packages (from sacremoses->transformers) (1.0.1)\n",
            "Requirement already satisfied: zipp>=0.5 in /usr/local/lib/python3.7/dist-packages (from importlib_metadata->transformers) (3.4.1)\n",
            "Requirement already satisfied: typing-extensions>=3.6.4; python_version < \"3.8\" in /usr/local/lib/python3.7/dist-packages (from importlib_metadata->transformers) (3.7.4.3)\n",
            "fatal: destination path 'transformers' already exists and is not an empty directory.\n",
            "Obtaining file:///content/transformers\n",
            "  Installing build dependencies ... \u001b[?25l\u001b[?25hdone\n",
            "  Getting requirements to build wheel ... \u001b[?25l\u001b[?25hdone\n",
            "    Preparing wheel metadata ... \u001b[?25l\u001b[?25hdone\n",
            "Requirement already satisfied: sacremoses in /usr/local/lib/python3.7/dist-packages (from transformers==4.6.0.dev0) (0.0.45)\n",
            "Requirement already satisfied: huggingface-hub==0.0.8 in /usr/local/lib/python3.7/dist-packages (from transformers==4.6.0.dev0) (0.0.8)\n",
            "Requirement already satisfied: filelock in /usr/local/lib/python3.7/dist-packages (from transformers==4.6.0.dev0) (3.0.12)\n",
            "Requirement already satisfied: numpy>=1.17 in /usr/local/lib/python3.7/dist-packages (from transformers==4.6.0.dev0) (1.19.5)\n",
            "Requirement already satisfied: tokenizers<0.11,>=0.10.1 in /usr/local/lib/python3.7/dist-packages (from transformers==4.6.0.dev0) (0.10.2)\n",
            "Requirement already satisfied: tqdm>=4.27 in /usr/local/lib/python3.7/dist-packages (from transformers==4.6.0.dev0) (4.41.1)\n",
            "Requirement already satisfied: packaging in /usr/local/lib/python3.7/dist-packages (from transformers==4.6.0.dev0) (20.9)\n",
            "Requirement already satisfied: regex!=2019.12.17 in /usr/local/lib/python3.7/dist-packages (from transformers==4.6.0.dev0) (2019.12.20)\n",
            "Requirement already satisfied: requests in /usr/local/lib/python3.7/dist-packages (from transformers==4.6.0.dev0) (2.23.0)\n",
            "Requirement already satisfied: importlib-metadata; python_version < \"3.8\" in /usr/local/lib/python3.7/dist-packages (from transformers==4.6.0.dev0) (3.10.1)\n",
            "Requirement already satisfied: click in /usr/local/lib/python3.7/dist-packages (from sacremoses->transformers==4.6.0.dev0) (7.1.2)\n",
            "Requirement already satisfied: six in /usr/local/lib/python3.7/dist-packages (from sacremoses->transformers==4.6.0.dev0) (1.15.0)\n",
            "Requirement already satisfied: joblib in /usr/local/lib/python3.7/dist-packages (from sacremoses->transformers==4.6.0.dev0) (1.0.1)\n",
            "Requirement already satisfied: pyparsing>=2.0.2 in /usr/local/lib/python3.7/dist-packages (from packaging->transformers==4.6.0.dev0) (2.4.7)\n",
            "Requirement already satisfied: urllib3!=1.25.0,!=1.25.1,<1.26,>=1.21.1 in /usr/local/lib/python3.7/dist-packages (from requests->transformers==4.6.0.dev0) (1.24.3)\n",
            "Requirement already satisfied: chardet<4,>=3.0.2 in /usr/local/lib/python3.7/dist-packages (from requests->transformers==4.6.0.dev0) (3.0.4)\n",
            "Requirement already satisfied: idna<3,>=2.5 in /usr/local/lib/python3.7/dist-packages (from requests->transformers==4.6.0.dev0) (2.10)\n",
            "Requirement already satisfied: certifi>=2017.4.17 in /usr/local/lib/python3.7/dist-packages (from requests->transformers==4.6.0.dev0) (2020.12.5)\n",
            "Requirement already satisfied: typing-extensions>=3.6.4; python_version < \"3.8\" in /usr/local/lib/python3.7/dist-packages (from importlib-metadata; python_version < \"3.8\"->transformers==4.6.0.dev0) (3.7.4.3)\n",
            "Requirement already satisfied: zipp>=0.5 in /usr/local/lib/python3.7/dist-packages (from importlib-metadata; python_version < \"3.8\"->transformers==4.6.0.dev0) (3.4.1)\n",
            "Installing collected packages: transformers\n",
            "  Found existing installation: transformers 4.6.0.dev0\n",
            "    Can't uninstall 'transformers'. No files were found to uninstall.\n",
            "  Running setup.py develop for transformers\n",
            "Successfully installed transformers\n"
          ],
          "name": "stdout"
        }
      ]
    },
    {
      "cell_type": "markdown",
      "metadata": {
        "id": "3-arunVzbnYH"
      },
      "source": [
        "잘 설치되었는지 파악하기 위해서는 다음 예제를 실행해 봅시다."
      ]
    },
    {
      "cell_type": "code",
      "metadata": {
        "colab": {
          "base_uri": "https://localhost:8080/",
          "height": 318,
          "referenced_widgets": [
            "a9c3a4a7bcaa4a529f6c8a4a97e1d653",
            "009e0ddb194541d0a74f58f6d79a14e4",
            "11a554be1439405eac4ee3e313f492f2",
            "3eaae8014d164258af9983dcfe97b785",
            "01b3d77d10294c7e995f7ba884de2375",
            "4628631d4ae74bec909be244162ee44f",
            "77c9bff0f7ae4531b00f670118c7c99b",
            "50f63c2400164f66b13a1a63a9566605",
            "d1288e9eb9904927b4a1a0d9f103abca",
            "c32f25da9f694af896e94156b46d245e",
            "47c94cb319074ea1a2ed43e48abb39a1",
            "5b34dd57fe094f978b66241c5804cc66",
            "3b8ad1578bd749da8044c7b8af57bc09",
            "ad290091df644ecb8696765c06d2f19b",
            "5201746eb81d46ab9001127e6a3d5ccc",
            "062065ceebac4b2a8b9c2173907eced9",
            "1480945b1b7d4dea8ee782d0f1220e51",
            "9e5d7444a73b46e3bdab49d1490271c3",
            "3065bcaa8a7949ae95f70ee158db101d",
            "da6b09a900e5425cbfe858b89f3de480",
            "f1377caf962d401e85f763e86d733877",
            "6b9478e4330b4351bd559828e43e7605",
            "b04a74de945d49fd8ef46024622cea63",
            "e482c4b49b1b451cba8df3d53f98f22c",
            "a6ce6de6c8fb4bbba1fb834d6e368907",
            "2f6fd7d6054c4eb7922e28818c119860",
            "26909e0c025e4342b6e76a8a22d2367d",
            "0e82a514e8254b12855e707926e288fc",
            "13efe4de7c3f4ce1809cb7d7c74b67f8",
            "594d21f9bae844b7afb79b4810d9e410",
            "c36b769b75fb46008356ccb427125b30",
            "631b5f04e57b4a66a7d503d335d69b3e"
          ]
        },
        "id": "ivcwyWePbKTb",
        "outputId": "21986ce9-d146-47a2-d063-60ac2c4e4fb1"
      },
      "source": [
        "from transformers import pipeline\n",
        "\n",
        "classifier = pipeline('sentiment-analysis', framework='tf')\n",
        "classifier('We are very happy to include pipeline into the transformers repository.')"
      ],
      "execution_count": null,
      "outputs": [
        {
          "output_type": "display_data",
          "data": {
            "application/vnd.jupyter.widget-view+json": {
              "model_id": "a9c3a4a7bcaa4a529f6c8a4a97e1d653",
              "version_minor": 0,
              "version_major": 2
            },
            "text/plain": [
              "HBox(children=(FloatProgress(value=0.0, description='Downloading', max=629.0, style=ProgressStyle(description_…"
            ]
          },
          "metadata": {
            "tags": []
          }
        },
        {
          "output_type": "stream",
          "text": [
            "\n"
          ],
          "name": "stdout"
        },
        {
          "output_type": "display_data",
          "data": {
            "application/vnd.jupyter.widget-view+json": {
              "model_id": "d1288e9eb9904927b4a1a0d9f103abca",
              "version_minor": 0,
              "version_major": 2
            },
            "text/plain": [
              "HBox(children=(FloatProgress(value=0.0, description='Downloading', max=267949840.0, style=ProgressStyle(descri…"
            ]
          },
          "metadata": {
            "tags": []
          }
        },
        {
          "output_type": "stream",
          "text": [
            "\n"
          ],
          "name": "stdout"
        },
        {
          "output_type": "stream",
          "text": [
            "All model checkpoint layers were used when initializing TFDistilBertForSequenceClassification.\n",
            "\n",
            "All the layers of TFDistilBertForSequenceClassification were initialized from the model checkpoint at distilbert-base-uncased-finetuned-sst-2-english.\n",
            "If your task is similar to the task the model of the checkpoint was trained on, you can already use TFDistilBertForSequenceClassification for predictions without further training.\n"
          ],
          "name": "stderr"
        },
        {
          "output_type": "display_data",
          "data": {
            "application/vnd.jupyter.widget-view+json": {
              "model_id": "1480945b1b7d4dea8ee782d0f1220e51",
              "version_minor": 0,
              "version_major": 2
            },
            "text/plain": [
              "HBox(children=(FloatProgress(value=0.0, description='Downloading', max=231508.0, style=ProgressStyle(descripti…"
            ]
          },
          "metadata": {
            "tags": []
          }
        },
        {
          "output_type": "stream",
          "text": [
            "\n"
          ],
          "name": "stdout"
        },
        {
          "output_type": "display_data",
          "data": {
            "application/vnd.jupyter.widget-view+json": {
              "model_id": "a6ce6de6c8fb4bbba1fb834d6e368907",
              "version_minor": 0,
              "version_major": 2
            },
            "text/plain": [
              "HBox(children=(FloatProgress(value=0.0, description='Downloading', max=48.0, style=ProgressStyle(description_w…"
            ]
          },
          "metadata": {
            "tags": []
          }
        },
        {
          "output_type": "stream",
          "text": [
            "\n"
          ],
          "name": "stdout"
        },
        {
          "output_type": "execute_result",
          "data": {
            "text/plain": [
              "[{'label': 'POSITIVE', 'score': 0.9978193640708923}]"
            ]
          },
          "metadata": {
            "tags": []
          },
          "execution_count": 2
        }
      ]
    },
    {
      "cell_type": "markdown",
      "metadata": {
        "id": "LFyUMzNsb9zB"
      },
      "source": [
        "##Huggingface transformers 설계구조 개요\n",
        "\n",
        "---\n",
        "\n",
        "framework를 사용하기 위해서는 framework가 어떻게 생겼는지 그 구조를 파악하는 것이 필요하겠죠??\n",
        "\n",
        "NLP framework가 NLP모델을 통해 어떠한 문제를 푸는 과정이 어떻게 진행될지 생각해봅시다.\n",
        "\n",
        "먼저, 1) Task를 정의하고 그에 맞게 dataset을 가공시킵니다. 그 이후 2) 적당한 model을 선택하고 이를 만듭니다. 3)model에 데이터들을 태워서 학습을 시키고, 이를 통해 나온 4)weight와 설정(config)들을 저장합니다. 저장한 model의 checkpoint는 5)배포하거나, evaluation을 할 때 사용하고는 하죠.\n",
        "\n",
        "transformers는 위와 같은 흐름에 맞추어 설계되어있습니다.\n",
        "\n",
        "task를 정의하고 dataset을 알맞게 가공하는 Processors, 텍스트 데이터를 전처리할 수 있는 Tokenizer, 다양한 model을 정의한 Model, optimizer와 학습 schedule(warm up 등)을 관리할 수 있는 Optimization, 학습 과정을 전반을 관리하는 Trainer, weight와 tokenizer, model을 쉽게 불러올 수 있도록 각종 설정을 저장하는 Config 등으로 이루어져 있습니다.\n",
        "\n",
        "우리는 다음 스텝부터, Huggingface의 각 부분을 이루고 있는 클래스 구조에 대해 좀 더 자세히 살펴보겠습니다."
      ]
    },
    {
      "cell_type": "markdown",
      "metadata": {
        "id": "B0lOocKXcFIk"
      },
      "source": [
        "#17-4. Huggingface transformers (1) Model\n",
        "transformers의 가장 핵심적인 부분은 아무래도 모델이라고 할 수 있을 것입니다.\n",
        "\n",
        "기본적으로 모델들은 PretrainedModel 클래스를 상속받고 있습니다. PretrainedModel 클래스는 학습된 모델을 불러오고, 다운로드하고, 저장하는 등 모델 전반에 걸쳐 적용되는 메소드들을 가지고 있습니다. 이런 상속구조를 가지고 있기 때문에, 실제로 사용할 모델이 BERT이건, GPT이건 상관없이 모델을 불러오고 다운로드/저장하는 등의 작업에 활용하는 메소드는 부모 클래스의 것을 동일하게 활용할 수 있게 됩니다.\n",
        "\n",
        "모델은 두 가지 방식으로 불러올 수 있습니다.\n",
        "\n",
        "첫 번째로는 task에 적합한 모델을 직접 선택하여 import하고, 불러오는 방식이 있습니다. 모델을 로드할 때는 from_pretrained라는 메소드를 사용하며, Huggingface의 pretrained 모델을 불러올 수도, 직접 학습시킨 모델을 불러올 수도 있습니다.\n",
        "\n",
        "Huggingface에서 제공하는 pretrained 모델이라면 모델의 이름을 string으로, 직접 학습시킨 모델이라면 config와 모델을 저장한 경로를 string으로 넘겨주면 됩니다."
      ]
    },
    {
      "cell_type": "code",
      "metadata": {
        "colab": {
          "base_uri": "https://localhost:8080/",
          "height": 220,
          "referenced_widgets": [
            "8cb1b6df40cb46048da2f4daace44a07",
            "d1d3ec5cb4874b53936b7d509735bb03",
            "d32f3a3e98b942b3b0afba2c5ccd44df",
            "ed7da62b5110445e8d89af3edbd5c6fe",
            "23b004177bce4cfa9c9d468625f7fe57",
            "17041a85e4cf4791b669c708f0bc4298",
            "343cb4da7bd544c38a43b4548f185fe9",
            "b4d9fee0a3f941b9a126b14a79918357",
            "a8ccccdee62d4a0d811cb8b6cf244715",
            "f301c8e9d14848eaa2504084afe3d3d7",
            "393fa840667a48f59af2ce19b168c558",
            "c755ba0f993c4ffeabb8d6fca661643e",
            "7077c8d8064d4f828d54c3bed0144f2a",
            "bc67e13ddbf247b9b5da5f8db7e3ff37",
            "363de817a7be4ea88f880f6932148365",
            "8e31d5d236c34dc7b7192fe7d636ae3b"
          ]
        },
        "id": "onw6ED2CbpMj",
        "outputId": "2556bd12-2061-45a3-ae69-39b35bd812cd"
      },
      "source": [
        "from transformers import TFBertForPreTraining\n",
        "model = TFBertForPreTraining.from_pretrained('bert-base-cased')\n",
        "\n",
        "print(model.__class__)"
      ],
      "execution_count": null,
      "outputs": [
        {
          "output_type": "display_data",
          "data": {
            "application/vnd.jupyter.widget-view+json": {
              "model_id": "8cb1b6df40cb46048da2f4daace44a07",
              "version_minor": 0,
              "version_major": 2
            },
            "text/plain": [
              "HBox(children=(FloatProgress(value=0.0, description='Downloading', max=570.0, style=ProgressStyle(description_…"
            ]
          },
          "metadata": {
            "tags": []
          }
        },
        {
          "output_type": "stream",
          "text": [
            "\n"
          ],
          "name": "stdout"
        },
        {
          "output_type": "display_data",
          "data": {
            "application/vnd.jupyter.widget-view+json": {
              "model_id": "a8ccccdee62d4a0d811cb8b6cf244715",
              "version_minor": 0,
              "version_major": 2
            },
            "text/plain": [
              "HBox(children=(FloatProgress(value=0.0, description='Downloading', max=526681800.0, style=ProgressStyle(descri…"
            ]
          },
          "metadata": {
            "tags": []
          }
        },
        {
          "output_type": "stream",
          "text": [
            "\n"
          ],
          "name": "stdout"
        },
        {
          "output_type": "stream",
          "text": [
            "All model checkpoint layers were used when initializing TFBertForPreTraining.\n",
            "\n",
            "All the layers of TFBertForPreTraining were initialized from the model checkpoint at bert-base-cased.\n",
            "If your task is similar to the task the model of the checkpoint was trained on, you can already use TFBertForPreTraining for predictions without further training.\n"
          ],
          "name": "stderr"
        },
        {
          "output_type": "stream",
          "text": [
            "<class 'transformers.models.bert.modeling_tf_bert.TFBertForPreTraining'>\n"
          ],
          "name": "stdout"
        }
      ]
    },
    {
      "cell_type": "markdown",
      "metadata": {
        "id": "ci-QODd5gl0T"
      },
      "source": [
        "두번째 방법은, AutoModel을 이용하는 것입니다.\n",
        "\n",
        "모델에 관한 정보를 처음부터 명시하지 않아도 되어 조금 유용하게 사용하실 수 있습니다."
      ]
    },
    {
      "cell_type": "code",
      "metadata": {
        "colab": {
          "base_uri": "https://localhost:8080/"
        },
        "id": "TWhiDRbZcJul",
        "outputId": "34fa5849-4d56-4cfc-ce63-b39a89ad7bca"
      },
      "source": [
        "from transformers import TFAutoModel\n",
        "model = TFAutoModel.from_pretrained(\"bert-base-cased\")\n",
        "\n",
        "print(model.__class__)"
      ],
      "execution_count": null,
      "outputs": [
        {
          "output_type": "stream",
          "text": [
            "Some layers from the model checkpoint at bert-base-cased were not used when initializing TFBertModel: ['nsp___cls', 'mlm___cls']\n",
            "- This IS expected if you are initializing TFBertModel from the checkpoint of a model trained on another task or with another architecture (e.g. initializing a BertForSequenceClassification model from a BertForPreTraining model).\n",
            "- This IS NOT expected if you are initializing TFBertModel from the checkpoint of a model that you expect to be exactly identical (initializing a BertForSequenceClassification model from a BertForSequenceClassification model).\n",
            "All the layers of TFBertModel were initialized from the model checkpoint at bert-base-cased.\n",
            "If your task is similar to the task the model of the checkpoint was trained on, you can already use TFBertModel for predictions without further training.\n"
          ],
          "name": "stderr"
        },
        {
          "output_type": "stream",
          "text": [
            "<class 'transformers.models.bert.modeling_tf_bert.TFBertModel'>\n"
          ],
          "name": "stdout"
        }
      ]
    },
    {
      "cell_type": "markdown",
      "metadata": {
        "id": "B1oT3FHlgwus"
      },
      "source": [
        "방금 위에서 bert-base-cased라고 언급된 부분이 보이시나요? 이것은 Model ID입니다. Huggingface가 지원하는 다양한 pretrained model이 있습니다. 이들 중 어느 것을 선택할지를 결정하기 위해 이 ID를 활용하게 됩니다.\n",
        "\n",
        "어떤 모델이 지원되는지 아래 링크에서 확인해 볼 수 있습니다.\n",
        "\n",
        "[Pretrained models](https://huggingface.co/transformers/pretrained_models.html)\n",
        "\n",
        "그런데, 위에서 소개한 두가지 방법의 차이가 파악되시나요? 불러고오자 하는 모델의 ID는 bert-base-cased로서 동일합니다. 사용법도 거의 동일한데요, 결과적으로 model.__class__를 확인해 보면 약간의 차이가 있음을 알수 있습니다. 둘다 동일한 모델 파라미터를 사용하지만 Pretrain, Downstream Task 등 용도에 따라 모델의 Input이나 Output shape가 다를 수 있습니다. AutoModel을 활용한다면 모델의 상세정보를 확인할 필요 없이 Model ID만으로도 손쉽게 모델 구성이 가능하지만, 정확한 용도에 맞게 사용하려면 모델별 상세 안내페이지를 참고해서 최적의 모델을 선택하는 것이 좋습니다. 예를 들어 BERT의 상세 페이지는 아래와 같습니다.\n",
        "\n",
        "[MODELS - BERT](https://huggingface.co/transformers/model_doc/bert.html)\n",
        "\n",
        "모델마다 그 구조는 다르지만 대부분 해당 모델이름을 가진 클래스(eg. TFBertModel)과 MainLayer class(eg. TFBertMainLayer)와 Attention Class, Embedding Class 등으로 이루어져 있답니다. 추후에 모델이 어떻게 짜여졌는지 보실 때 __init__() 메소드 안에 구성된 뼈대를 먼저 살펴보도록 하세요 :)"
      ]
    },
    {
      "cell_type": "markdown",
      "metadata": {
        "id": "rOiRr8grhGLv"
      },
      "source": [
        "#17-5. Huggingface transformers (2) Tokenizer\n",
        "내가 가지고 있는 문제를 풀 모델을 정했다면, 이제 모델에 넣을 input을 만들어 줄 차례입니다.\n",
        "\n",
        "transformers는 다양한 tokenizer를 각 모델에 맞추어 이미 구비해두었습니다. 우리가 할 일은 tokenizer를 불러와 사용하는 것 뿐이랍니다. 사용하기에 앞서서, 내가 선택한 model이 어떠한 tokenizer를 사용하는지 정도 미리 체크해두는 센스는 모두 챙겨두셨겠죠?:)\n",
        "\n",
        "Pretrained model 기반의 NLP framework를 사용할 때 가장 중요한 두가지 클래스는 Model과 Tokenizer라고 할 수 있습니다. 그리고 두 가지는 밀접한 관련이 있습니다. 파라미터 구조가 동일한 Model이라 하더라도 Tokenizer가 다르거나 Tokenizer 내의 Dictionary가 달라지면 사실상 완전히 다른 모델이 됩니다. 그리고 Tokenizer는 어떤 언어를 다루느냐 하는 코퍼스 데이터셋에 따라서도 달라집니다.\n",
        "\n",
        "이전 스텝에서 소개했던 Huggingface가 제공하는 모델 종류 중 몇개만 예로 들어볼까요?\n",
        "\n",
        "bert-base-uncased : BERT 모델인데, 108MB 파라미터의 기본모델이면서, 코퍼스는 영문 대소문자 구분을 없앴다(전체 소문자화)\n",
        "\n",
        "bert-large-cased : BERT 모델인데, 340MB 파라미터의 대형모델이면서, 코퍼스는 영문 대소문자 구분을 유지했다.\n",
        "bert-base-multilingual-cased : BERT 모델인데, 108MB 파라미터의 기본모델이면서, 코퍼스는 다국어 대소문자 구분 유지했다.\n",
        "\n",
        "tokenizer 또한 직접 명시하여 내가 사용할 것을 지정해주거나, AutoTokenizer를 사용하여 이미 구비된 model에 알맞는 tokenizer를 자동으로 불러올 수도 있습니다.\n",
        "이때 유의할 점은, model을 사용할 때 명시했던 것과 동일한 ID로 tokenizer를 생성해야 한다는 점입니다."
      ]
    },
    {
      "cell_type": "code",
      "metadata": {
        "colab": {
          "base_uri": "https://localhost:8080/",
          "height": 164,
          "referenced_widgets": [
            "465792d31e384110a6ebe969b39f6f23",
            "91e8a594e2844da595bae2b600f4dfee",
            "a73d8952d58e46c798485eed3a9fa1a4",
            "55bc7fb56d18452ca23b6603907b1c1f",
            "d3b95a145f6b41f0925f09e89afe6772",
            "3c22f2b8177843c186ddf544a18091de",
            "299cd321904e4bd3a0f9c238ad35f420",
            "e4decb206b0a4375986de91923752650",
            "3f314f6aea1b41fb878341bb517b819e",
            "e81bdf78305041b2af52402dd6678fe2",
            "0e8cb3698c9243b6be9c1b83f062c040",
            "bed5610150854befab0fd8263369a4bb",
            "555d29ca6fac4482b2de1b50342a2f97",
            "c39f06f176ab432886363825decee9c5",
            "9546edbc43c74eb8a55bff1a7c773852",
            "facf454484ac461dabf7773253421d61",
            "7e1617db447245159bc9a32700235e2e",
            "1d3c0db8c57c44ffbeb660a4f042e257",
            "a2cade42040b4576864290080592694b",
            "3a1ac591e383468b865c9a8482b451f9",
            "530f1e45229a4649a118928420f42c2d",
            "7230ace93d6e4ede90e1d1a7f3308168",
            "a8f25520c2ae45f0b6896a8d3365265f",
            "2622d6098882457d89471eb42acff2ac"
          ]
        },
        "id": "HE49K2tJgocI",
        "outputId": "91edce2a-aa4b-4d0c-bc32-9ad126f6b37c"
      },
      "source": [
        "from transformers import BertTokenizer\n",
        "tokenizer = BertTokenizer.from_pretrained('bert-base-cased')"
      ],
      "execution_count": null,
      "outputs": [
        {
          "output_type": "display_data",
          "data": {
            "application/vnd.jupyter.widget-view+json": {
              "model_id": "465792d31e384110a6ebe969b39f6f23",
              "version_minor": 0,
              "version_major": 2
            },
            "text/plain": [
              "HBox(children=(FloatProgress(value=0.0, description='Downloading', max=213450.0, style=ProgressStyle(descripti…"
            ]
          },
          "metadata": {
            "tags": []
          }
        },
        {
          "output_type": "stream",
          "text": [
            "\n"
          ],
          "name": "stdout"
        },
        {
          "output_type": "display_data",
          "data": {
            "application/vnd.jupyter.widget-view+json": {
              "model_id": "3f314f6aea1b41fb878341bb517b819e",
              "version_minor": 0,
              "version_major": 2
            },
            "text/plain": [
              "HBox(children=(FloatProgress(value=0.0, description='Downloading', max=29.0, style=ProgressStyle(description_w…"
            ]
          },
          "metadata": {
            "tags": []
          }
        },
        {
          "output_type": "stream",
          "text": [
            "\n"
          ],
          "name": "stdout"
        },
        {
          "output_type": "display_data",
          "data": {
            "application/vnd.jupyter.widget-view+json": {
              "model_id": "7e1617db447245159bc9a32700235e2e",
              "version_minor": 0,
              "version_major": 2
            },
            "text/plain": [
              "HBox(children=(FloatProgress(value=0.0, description='Downloading', max=435797.0, style=ProgressStyle(descripti…"
            ]
          },
          "metadata": {
            "tags": []
          }
        },
        {
          "output_type": "stream",
          "text": [
            "\n"
          ],
          "name": "stdout"
        }
      ]
    },
    {
      "cell_type": "code",
      "metadata": {
        "id": "wkkCbDH8hQl6"
      },
      "source": [
        "from transformers import AutoTokenizer\n",
        "tokenizer = AutoTokenizer.from_pretrained('bert-base-cased')"
      ],
      "execution_count": null,
      "outputs": []
    },
    {
      "cell_type": "markdown",
      "metadata": {
        "id": "8a20VmKBhWcY"
      },
      "source": [
        "불러온 tokenizer를 한 번 사용해볼까요?"
      ]
    },
    {
      "cell_type": "code",
      "metadata": {
        "colab": {
          "base_uri": "https://localhost:8080/"
        },
        "id": "ccimG61ohTdo",
        "outputId": "c48f12c3-4bb9-412f-f371-d2fca050e9ff"
      },
      "source": [
        "encoded = tokenizer(\"This is Test for aiffel\")\n",
        "print(encoded)"
      ],
      "execution_count": null,
      "outputs": [
        {
          "output_type": "stream",
          "text": [
            "{'input_ids': [101, 1188, 1110, 5960, 1111, 170, 11093, 1883, 102], 'token_type_ids': [0, 0, 0, 0, 0, 0, 0, 0, 0], 'attention_mask': [1, 1, 1, 1, 1, 1, 1, 1, 1]}\n"
          ],
          "name": "stdout"
        }
      ]
    },
    {
      "cell_type": "markdown",
      "metadata": {
        "id": "4eO5HCYuhd5d"
      },
      "source": [
        "이 경우는 BERT의 tokenizer이기 때문에 인코딩이 된 input_ids 뿐만 아니라, token_type_ids와 attention_mask까지 모두 생성된 input 객체를 받아볼 수 있습니다.\n",
        "\n",
        "tokenizer는 batch 단위로 input을 받을 수 도 있습니다."
      ]
    },
    {
      "cell_type": "code",
      "metadata": {
        "colab": {
          "base_uri": "https://localhost:8080/"
        },
        "id": "_v8PdMXkhX7s",
        "outputId": "3a16bdd0-6abb-4c08-97d6-068c092c1bfa"
      },
      "source": [
        "batch_sentences = [\"Hello I'm a single sentence\",\n",
        "                    \"And another sentence\",\n",
        "                    \"And the very very last one\"]\n",
        "\n",
        "encoded_batch = tokenizer(batch_sentences)\n",
        "print(encoded_batch)"
      ],
      "execution_count": null,
      "outputs": [
        {
          "output_type": "stream",
          "text": [
            "{'input_ids': [[101, 8667, 146, 112, 182, 170, 1423, 5650, 102], [101, 1262, 1330, 5650, 102], [101, 1262, 1103, 1304, 1304, 1314, 1141, 102]], 'token_type_ids': [[0, 0, 0, 0, 0, 0, 0, 0, 0], [0, 0, 0, 0, 0], [0, 0, 0, 0, 0, 0, 0, 0]], 'attention_mask': [[1, 1, 1, 1, 1, 1, 1, 1, 1], [1, 1, 1, 1, 1], [1, 1, 1, 1, 1, 1, 1, 1]]}\n"
          ],
          "name": "stdout"
        }
      ]
    },
    {
      "cell_type": "markdown",
      "metadata": {
        "id": "G3wYpR7khh5k"
      },
      "source": [
        "이 밖에도 tokenize할 때에 padding, truncation 등 다양한 옵션을 설정 할 수 있으며, 모델이 어떤 프레임워크를 사용하는가(Tensorflow 또는 PyTorch)에 따라 input 타입을 변경 시켜주는 return_tensors 인자도 있습니다.\n",
        "\n"
      ]
    },
    {
      "cell_type": "code",
      "metadata": {
        "colab": {
          "base_uri": "https://localhost:8080/"
        },
        "id": "Xb1zOZZvhfqR",
        "outputId": "5652dc44-2cc1-43fa-c6c5-1465479f2723"
      },
      "source": [
        "batch = tokenizer(batch_sentences, padding=True, truncation=True, return_tensors=\"tf\")\n",
        "print(batch)"
      ],
      "execution_count": null,
      "outputs": [
        {
          "output_type": "stream",
          "text": [
            "{'input_ids': <tf.Tensor: shape=(3, 9), dtype=int32, numpy=\n",
            "array([[ 101, 8667,  146,  112,  182,  170, 1423, 5650,  102],\n",
            "       [ 101, 1262, 1330, 5650,  102,    0,    0,    0,    0],\n",
            "       [ 101, 1262, 1103, 1304, 1304, 1314, 1141,  102,    0]],\n",
            "      dtype=int32)>, 'token_type_ids': <tf.Tensor: shape=(3, 9), dtype=int32, numpy=\n",
            "array([[0, 0, 0, 0, 0, 0, 0, 0, 0],\n",
            "       [0, 0, 0, 0, 0, 0, 0, 0, 0],\n",
            "       [0, 0, 0, 0, 0, 0, 0, 0, 0]], dtype=int32)>, 'attention_mask': <tf.Tensor: shape=(3, 9), dtype=int32, numpy=\n",
            "array([[1, 1, 1, 1, 1, 1, 1, 1, 1],\n",
            "       [1, 1, 1, 1, 1, 0, 0, 0, 0],\n",
            "       [1, 1, 1, 1, 1, 1, 1, 1, 0]], dtype=int32)>}\n"
          ],
          "name": "stdout"
        }
      ]
    },
    {
      "cell_type": "markdown",
      "metadata": {
        "id": "Dsrkz6BWhofH"
      },
      "source": [
        "#17-6. Huggingface transformers (3) Processor\n",
        "지금까지 가장 핵심이 되는 Model 및 Model과 데이터셋을 연결해 주는 가장 기본적인 연결 도구인 Tokenizer에 대해 알아보았습니다.\n",
        "\n",
        "그런데, 과연 Tokenizer까지만 있으면 어떤 Task이든 Model에 넣을 수 있는 적절한 입력 형태로 변경해 줄수 있을까요?\n",
        "\n",
        "그렇지 않습니다. 예를 들어 BERT의 pretraining만 하더라도, 모델에 들어갈 입력부분을 구성하려면\n",
        "\n",
        "1)두개의 문장을 골라서, Next Sentemce Prediction을 위해 적절히 배치하고,\n",
        "\n",
        "2)15%의 마스킹 포지션을 골라내기 위한 복잡한 과정을 거친 후, 심지어 그 마킹 대상도 10%, 10%의 확률로 마스킹 대신 다른 예외처리를 해주어야 하고,\n",
        "\n",
        "3)Next Sentence Prediction을 위해 Segment Embedding을 위한 tensor를 따로 마련해야 합니다.\n",
        "\n",
        "이 부분의 과정이 의외로 (모델을 만드는 것만큼이나) 복잡한 과정임을 경험해 보셨겠죠?\n",
        "\n",
        "이렇게 복잡한 과정을 위해서는 Tokenizer만으로는 부족합니다. 그래서 Huggingface에서는 Processor라는 추상클래스를 하나 추가하였습니다.\n",
        "\n",
        "아래는 Processor 중 Sequence Classification 태스크를 위한 추상클래스인 DataProcessor의 코드예제입니다."
      ]
    },
    {
      "cell_type": "code",
      "metadata": {
        "id": "--yM8-5Fhjdw"
      },
      "source": [
        "class DataProcessor:\n",
        "    \"\"\"sequence classification을 위해 data를 처리하는 기본 processor\"\"\"\n",
        "\n",
        "    def get_example_from_tensor_dict(self, tensor_dict):\n",
        "        \"\"\"\n",
        "        tensor dict에서 example을 가져오는 메소드\n",
        "        \"\"\"\n",
        "        raise NotImplementedError()\n",
        "\n",
        "    def get_train_examples(self, data_dir):\n",
        "        \"\"\"train data에서 InputExample 클래스를 가지고 있는 것들을 모으는 메소드\"\"\"\n",
        "        raise NotImplementedError()\n",
        "\n",
        "    def get_dev_examples(self, data_dir):\n",
        "        \"\"\"dev data(validation data)에서 InputExample 클래스를 가지고 있는 것들을 모으는 메소드\"\"\"\n",
        "        raise NotImplementedError()\n",
        "\n",
        "    def get_test_examples(self, data_dir):\n",
        "        \"\"\"test data에서 InputExample 클래스를 가지고 있는 것들을 모으는 메소드\"\"\"\n",
        "        raise NotImplementedError()\n",
        "\n",
        "    def get_labels(self):\n",
        "        \"\"\"data set에 사용되는 라벨들을 리턴하는 메소드\"\"\"\n",
        "        raise NotImplementedError()\n",
        "\n",
        "    def tfds_map(self, example):\n",
        "        \"\"\"\n",
        "        tfds(tensorflow-datasets)에서 불러온 데이터를 DataProcessor에 알맞게 가공해주는 메소드\n",
        "        \"\"\"\n",
        "        if len(self.get_labels()) > 1:\n",
        "            example.label = self.get_labels()[int(example.label)]\n",
        "        return example\n",
        "\n",
        "    @classmethod\n",
        "    def _read_tsv(cls, input_file, quotechar=None):\n",
        "        \"\"\"tab으로 구분된 .tsv파일을 읽어들이는 클래스 메소드\"\"\"\n",
        "        with open(input_file, \"r\", encoding=\"utf-8-sig\") as f:\n",
        "            return list(csv.reader(f, delimiter=\"\\t\", quotechar=quotechar))"
      ],
      "execution_count": null,
      "outputs": []
    },
    {
      "cell_type": "markdown",
      "metadata": {
        "id": "4Em8ryx9iItb"
      },
      "source": [
        "processor는 raw data를 가공하여 model에 태울 수 있는 형태를 만들어주는 작업을 해주는 클래스입니다.\n",
        "\n",
        "Hugging face는 SQuAD, GLUE 등 가장 대표적인 NLP의 문제들에 쉽게 접근할 수 있도록 processor를 만들어 두었습니다. 만약, 내가 직접 수집한 데이터를 가공하고 싶다면, 내 데이터에 알맞은 processor를 직접 정의 해야겠죠?\n",
        "\n",
        "Task 별 복잡한 데이터 전처리 작업을 수행하는 processor를 직접 만드실 때는, DataProcessor를 상속받아서 만들어주시면 됩니다. 내가 가지고 있는 데이터에 따라서 추가해야하는 부분이 생길 수도 있습니다. 다음 프로젝트 노드에서는 processor를 상속받아 활용하는 부분도 실습을 통해 진행해 볼 예정입니다.\n",
        "\n",
        "❗ 주의\n",
        "raise NotImplementedError()는 지워주시는 것 잊지 마세요! 추상클래스에서 꼭 구현해야 할 부분이 NotImplemented로 남아있다면 여러분이 짠 Processor는 Tokenizer와 협력하여 정상동작하지 않을 것입니다."
      ]
    },
    {
      "cell_type": "markdown",
      "metadata": {
        "id": "YOj-35VRiT4v"
      },
      "source": [
        "#17-7. Huggingface transformers (4) Config\n",
        "config는 모델을 학습시키기 위한 요소들을 명시한 json파일로 되어있습니다.\n",
        "\n",
        "이 json파일에는 batch size, learning rate, weight_decay등 train에 필요한 요소들부터 tokenizer에 특수 토큰(special token eg.\\[MASK])들을 미리 설정하는 등 설정에 관한 전반적인 것들이 명시되어 있습니다.\n",
        "\n",
        "PretrainedModel을 save_pretrained 메소드를 이용하면 모델의 체크포인트와 함께 저장되도록 되어있습니다.\n",
        "\n",
        "hugging face의 pretrained model을 그대로 사용하게 되면 자동으로 config파일이 로드되어 명시할 필요가 없지만, 설정을 변경하고 싶거나 나만의 모델을 학습실킬 때에는 config파일을 직접 불러와야 합니다.\n",
        "\n",
        "config 또한 model, tokenizer처럼 Model ID만 있으면 , Config 클래스를 명확히 지정하거나 혹은 AutoConfig를 이용하는 방식으로 불러올 수 있습니다. 두 방식의 결과를 비교해 보세요."
      ]
    },
    {
      "cell_type": "code",
      "metadata": {
        "colab": {
          "base_uri": "https://localhost:8080/"
        },
        "id": "HJwLbF_NiIHO",
        "outputId": "2c8c314d-b591-4eb2-93ff-97da342f8da1"
      },
      "source": [
        "from transformers import BertConfig\n",
        "\n",
        "config = BertConfig.from_pretrained(\"bert-base-cased\")\n",
        "print(config.__class__)\n",
        "print(config)"
      ],
      "execution_count": null,
      "outputs": [
        {
          "output_type": "stream",
          "text": [
            "<class 'transformers.models.bert.configuration_bert.BertConfig'>\n",
            "BertConfig {\n",
            "  \"architectures\": [\n",
            "    \"BertForMaskedLM\"\n",
            "  ],\n",
            "  \"attention_probs_dropout_prob\": 0.1,\n",
            "  \"gradient_checkpointing\": false,\n",
            "  \"hidden_act\": \"gelu\",\n",
            "  \"hidden_dropout_prob\": 0.1,\n",
            "  \"hidden_size\": 768,\n",
            "  \"initializer_range\": 0.02,\n",
            "  \"intermediate_size\": 3072,\n",
            "  \"layer_norm_eps\": 1e-12,\n",
            "  \"max_position_embeddings\": 512,\n",
            "  \"model_type\": \"bert\",\n",
            "  \"num_attention_heads\": 12,\n",
            "  \"num_hidden_layers\": 12,\n",
            "  \"pad_token_id\": 0,\n",
            "  \"position_embedding_type\": \"absolute\",\n",
            "  \"transformers_version\": \"4.6.0.dev0\",\n",
            "  \"type_vocab_size\": 2,\n",
            "  \"use_cache\": true,\n",
            "  \"vocab_size\": 28996\n",
            "}\n",
            "\n"
          ],
          "name": "stdout"
        }
      ]
    },
    {
      "cell_type": "code",
      "metadata": {
        "colab": {
          "base_uri": "https://localhost:8080/"
        },
        "id": "aLPguK-qicD6",
        "outputId": "5e305af4-b2f8-4cb2-9ffd-788dc79d985a"
      },
      "source": [
        "from transformers import AutoConfig\n",
        "\n",
        "config = AutoConfig.from_pretrained(\"bert-base-cased\")\n",
        "print(config.__class__)\n",
        "print(config)"
      ],
      "execution_count": null,
      "outputs": [
        {
          "output_type": "stream",
          "text": [
            "<class 'transformers.models.bert.configuration_bert.BertConfig'>\n",
            "BertConfig {\n",
            "  \"architectures\": [\n",
            "    \"BertForMaskedLM\"\n",
            "  ],\n",
            "  \"attention_probs_dropout_prob\": 0.1,\n",
            "  \"gradient_checkpointing\": false,\n",
            "  \"hidden_act\": \"gelu\",\n",
            "  \"hidden_dropout_prob\": 0.1,\n",
            "  \"hidden_size\": 768,\n",
            "  \"initializer_range\": 0.02,\n",
            "  \"intermediate_size\": 3072,\n",
            "  \"layer_norm_eps\": 1e-12,\n",
            "  \"max_position_embeddings\": 512,\n",
            "  \"model_type\": \"bert\",\n",
            "  \"num_attention_heads\": 12,\n",
            "  \"num_hidden_layers\": 12,\n",
            "  \"pad_token_id\": 0,\n",
            "  \"position_embedding_type\": \"absolute\",\n",
            "  \"transformers_version\": \"4.6.0.dev0\",\n",
            "  \"type_vocab_size\": 2,\n",
            "  \"use_cache\": true,\n",
            "  \"vocab_size\": 28996\n",
            "}\n",
            "\n"
          ],
          "name": "stdout"
        }
      ]
    },
    {
      "cell_type": "markdown",
      "metadata": {
        "id": "ChFxFlgCilg5"
      },
      "source": [
        "두 방식으로 불러온 config의 내용에 별다른 차이가 없다는 것을 알수 있습니다. 만약 모델을 이미 생성했다면 model.config으로 가져올 수도 있습니다."
      ]
    },
    {
      "cell_type": "code",
      "metadata": {
        "colab": {
          "base_uri": "https://localhost:8080/"
        },
        "id": "8M11JD3PieAO",
        "outputId": "fc0c94ad-740e-4780-fe92-fcb6122b6e7f"
      },
      "source": [
        "model = TFBertForPreTraining.from_pretrained('bert-base-cased')\n",
        "\n",
        "config = model.config\n",
        "print(config.__class__)\n",
        "print(config)"
      ],
      "execution_count": null,
      "outputs": [
        {
          "output_type": "stream",
          "text": [
            "All model checkpoint layers were used when initializing TFBertForPreTraining.\n",
            "\n",
            "All the layers of TFBertForPreTraining were initialized from the model checkpoint at bert-base-cased.\n",
            "If your task is similar to the task the model of the checkpoint was trained on, you can already use TFBertForPreTraining for predictions without further training.\n"
          ],
          "name": "stderr"
        },
        {
          "output_type": "stream",
          "text": [
            "<class 'transformers.models.bert.configuration_bert.BertConfig'>\n",
            "BertConfig {\n",
            "  \"_name_or_path\": \"bert-base-cased\",\n",
            "  \"architectures\": [\n",
            "    \"BertForMaskedLM\"\n",
            "  ],\n",
            "  \"attention_probs_dropout_prob\": 0.1,\n",
            "  \"gradient_checkpointing\": false,\n",
            "  \"hidden_act\": \"gelu\",\n",
            "  \"hidden_dropout_prob\": 0.1,\n",
            "  \"hidden_size\": 768,\n",
            "  \"initializer_range\": 0.02,\n",
            "  \"intermediate_size\": 3072,\n",
            "  \"layer_norm_eps\": 1e-12,\n",
            "  \"max_position_embeddings\": 512,\n",
            "  \"model_type\": \"bert\",\n",
            "  \"num_attention_heads\": 12,\n",
            "  \"num_hidden_layers\": 12,\n",
            "  \"pad_token_id\": 0,\n",
            "  \"position_embedding_type\": \"absolute\",\n",
            "  \"transformers_version\": \"4.6.0.dev0\",\n",
            "  \"type_vocab_size\": 2,\n",
            "  \"use_cache\": true,\n",
            "  \"vocab_size\": 28996\n",
            "}\n",
            "\n"
          ],
          "name": "stdout"
        }
      ]
    },
    {
      "cell_type": "markdown",
      "metadata": {
        "id": "PQog3Snsi8Mx"
      },
      "source": [
        "#17-8. Huggingface transformers (5) Trainer\n",
        "trainer는 모델을 학습시키기 위한 클래스입니다. training, fine-tuning, evaluation 모두 trainer class를 이용하여 할 수 있습니다.\n",
        "\n",
        "tensorflow의 경우 tf.keras.model API를 이용하여서도 Huggingface를 통해 불러온 모델을 활용해 학습이나 테스트를 진행할 수 있습니다. 그동안 많이 활용해 보았던 model.fit()이나 model.predict()를 활용하는 것이 가능합니다.\n",
        "\n",
        "다만, TFTrainer를 이용할 경우에는 TrainingArguments 를 통해 Huggingface 프레임워크에서 제공하는 기능들을 통합적으로 커스터마이징하여 모델을 학습시킬 수 있다는 장점이 있습니다.\n",
        "\n",
        "아래 코드는 Huggingface를 통해 불러온 모델을 tf.keras.model API를 이용해 활용하는 경우의 예시입니다."
      ]
    },
    {
      "cell_type": "code",
      "metadata": {
        "colab": {
          "base_uri": "https://localhost:8080/"
        },
        "id": "x5lmavzGinOD",
        "outputId": "bf9ed8c0-e66f-4874-d2bf-5b80dbfceeb4"
      },
      "source": [
        "import tensorflow as tf\n",
        "from transformers import TFAutoModelForPreTraining, AutoTokenizer\n",
        "tokenizer = AutoTokenizer.from_pretrained('bert-base-cased')\n",
        "model = TFAutoModelForPreTraining.from_pretrained('bert-base-cased')\n",
        "\n",
        "sentence = \"Hello, This is test for bert TFmodel.\"\n",
        "\n",
        "input_ids = tf.constant(tokenizer.encode(sentence, add_special_tokens=True))[None, :]  # Batch size 1\n",
        "\n",
        "optimizer = tf.keras.optimizers.Adam(learning_rate=3e-5)\n",
        "loss = tf.keras.losses.SparseCategoricalCrossentropy(from_logits=True)\n",
        "\n",
        "model.compile(optimizer=optimizer, loss=loss)\n",
        "pred = model.predict(input_ids)\n",
        "\n",
        "print(\"=====Results=====\")\n",
        "print(pred)"
      ],
      "execution_count": null,
      "outputs": [
        {
          "output_type": "stream",
          "text": [
            "All model checkpoint layers were used when initializing TFBertForPreTraining.\n",
            "\n",
            "All the layers of TFBertForPreTraining were initialized from the model checkpoint at bert-base-cased.\n",
            "If your task is similar to the task the model of the checkpoint was trained on, you can already use TFBertForPreTraining for predictions without further training.\n"
          ],
          "name": "stderr"
        },
        {
          "output_type": "stream",
          "text": [
            "WARNING:tensorflow:The parameters `output_attentions`, `output_hidden_states` and `use_cache` cannot be updated when calling a model.They have to be set to True/False in the config object (i.e.: `config=XConfig.from_pretrained('name', output_attentions=True)`).\n",
            "WARNING:tensorflow:AutoGraph could not transform <bound method Socket.send of <zmq.sugar.socket.Socket object at 0x7f52d0973d70>> and will run it as-is.\n",
            "Please report this to the TensorFlow team. When filing the bug, set the verbosity to 10 (on Linux, `export AUTOGRAPH_VERBOSITY=10`) and attach the full output.\n",
            "Cause: module, class, method, function, traceback, frame, or code object was expected, got cython_function_or_method\n",
            "To silence this warning, decorate the function with @tf.autograph.experimental.do_not_convert\n",
            "WARNING: AutoGraph could not transform <bound method Socket.send of <zmq.sugar.socket.Socket object at 0x7f52d0973d70>> and will run it as-is.\n",
            "Please report this to the TensorFlow team. When filing the bug, set the verbosity to 10 (on Linux, `export AUTOGRAPH_VERBOSITY=10`) and attach the full output.\n",
            "Cause: module, class, method, function, traceback, frame, or code object was expected, got cython_function_or_method\n",
            "To silence this warning, decorate the function with @tf.autograph.experimental.do_not_convert\n",
            "WARNING:tensorflow:AutoGraph could not transform <function wrap at 0x7f52ec21fd40> and will run it as-is.\n",
            "Cause: while/else statement not yet supported\n",
            "To silence this warning, decorate the function with @tf.autograph.experimental.do_not_convert\n",
            "WARNING: AutoGraph could not transform <function wrap at 0x7f52ec21fd40> and will run it as-is.\n",
            "Cause: while/else statement not yet supported\n",
            "To silence this warning, decorate the function with @tf.autograph.experimental.do_not_convert\n",
            "WARNING:tensorflow:The parameter `return_dict` cannot be set in graph mode and will always be set to `True`.\n",
            "=====Results=====\n",
            "TFBertForPreTrainingOutput(loss=None, prediction_logits=array([[[ -7.402722 ,  -7.36266  ,  -7.4500136, ...,  -6.1955214,\n",
            "          -5.894807 ,  -6.367268 ],\n",
            "        [ -7.8287234,  -8.058228 ,  -7.864205 , ...,  -6.419409 ,\n",
            "          -6.302437 ,  -6.762467 ],\n",
            "        [-11.5499325, -11.5519085, -11.484697 , ...,  -8.114808 ,\n",
            "          -8.314198 ,  -9.444449 ],\n",
            "        ...,\n",
            "        [ -3.2660673,  -3.7416427,  -2.5797946, ...,  -4.0110016,\n",
            "          -2.4964385,  -3.0753906],\n",
            "        [-12.231968 , -12.027049 , -11.797832 , ...,  -8.838845 ,\n",
            "          -9.091652 , -10.497255 ],\n",
            "        [-10.639948 , -11.074343 , -11.036102 , ...,  -8.148463 ,\n",
            "          -9.585203 , -10.671512 ]]], dtype=float32), seq_relationship_logits=array([[ 1.6309204, -0.7168469]], dtype=float32), hidden_states=None, attentions=None)\n"
          ],
          "name": "stdout"
        }
      ]
    },
    {
      "cell_type": "markdown",
      "metadata": {
        "id": "MN_KlIRHjLwY"
      },
      "source": [
        "TFTrainer를 사용할 경우에는 학습에 필요한 arguments을 TFTrainingArguments을 통해서 정의해주어야 합니다. 아래는 TFTrainer를 사용하여 Huggingface 모델의 학습이 이루어지는 아주 간단한 예시입니다.\n",
        "\n",
        "실제로 모델이 구동되어 성능을 내기 위한 프로젝트 구성은 다음 프로젝트 노드에서 다루겠지만, 이번 노드에서 살펴본 Model, Tokenizer 및 데이터셋 구성이 TFTrainingArguments를 통해서 TFTrainer에 어떻게 반영되는지 확인해 주세요."
      ]
    },
    {
      "cell_type": "code",
      "metadata": {
        "colab": {
          "base_uri": "https://localhost:8080/",
          "height": 350,
          "referenced_widgets": [
            "05dc5a8d81eb4791949e8d4d8d21b789",
            "ccc9ca1b1b08440ab463958777a19631",
            "eff43d779c524525aee5ff78adcd569c",
            "ddae488baf68405c841de80aa8caf900",
            "c88f3ec6bb35473b9a4722a0d5e41fc3",
            "ef78ab33be3344ffb27be83fe236ec2c",
            "8053264befa2471eb6ad2b18c36e1fc2",
            "da23f9c0bb6b42cca8c65759b35a673f",
            "49d822d781c8424a83c52ed39825382b",
            "55dfb06d75294ae4ab79bb69ab6467d0",
            "2b1ba0646a914eeba4635e3b12ef8b6f",
            "577c0f6651f041ec97af8049cfb4e84b",
            "ad29abaa8e594aa18e4b171f12ff07a4",
            "f41006672eb946ef84b382bf087b0e83",
            "5b8f53e53c974e538808cbdf9c755d99",
            "fbc7ab47ff6d464c961e06a1f36fdd29",
            "67286a59fceb4041a5a3e083ae1c59c3",
            "233d582175d04f8f8e71fb5390c78e66",
            "fb48f2fcccf444758b4ccbe480b3f268",
            "e8933920dd9e49e0ae0bd37c32e947fa",
            "bc7a066f1fef4501835657b30789f2d7",
            "f58114b89e214864be4d9c9ad8d414a3",
            "a1387177c4814618a421b34d685f6abe",
            "96086f6b1f464f17b7b0b8be966d9172",
            "20c13c7ab5b449019b8a8a5536f17baa",
            "9d355547598b49c2ac4d969431d2f2be",
            "7541f1aa35b04ba9809b2a8f4c105b13",
            "d0fa2536b83e47fca5d466c468a27ede",
            "6fda5bd0bff14bc1a1269eceee42bea6",
            "a4110e79f8874921bbaf9980d05445a1",
            "4f2b420e3a86448abc859beae41cc72e",
            "94a4b6f8a83945708f32a919125f5b2d",
            "5dc03795e73548b1b22f47e8992f4d59",
            "8617d4751b4f4971a1744440824a6e6e",
            "ed66da89f9054933a378cde3da1e9f72",
            "c592ca6244984e42b31e2ff79dea4663",
            "3607fae71bbc46598ba313f2f05c8091",
            "dfe3a8e9d254430cab8475930f991126",
            "bcc49069426e480b94d5f61a63dbae4e",
            "93aeb9f7b28d48eea7be7cc9f4f5ac7d"
          ]
        },
        "id": "zecAXajji_cd",
        "outputId": "bad9f001-d451-49e1-9c2a-27dbc313dae2"
      },
      "source": [
        "from dataclasses import dataclass, field\n",
        "from enum import Enum\n",
        "from typing import Dict, Optional\n",
        "import tensorflow as tf\n",
        "import tensorflow_datasets as tfds\n",
        "from transformers import (\n",
        "    TFAutoModelForSequenceClassification,\n",
        "    TFTrainer,\n",
        "    TFTrainingArguments,\n",
        "    AutoConfig,\n",
        "    AutoTokenizer,\n",
        "    glue_convert_examples_to_features,\n",
        ")\n",
        "\n",
        "# TFTrainingArguments 정의\n",
        "training_args = TFTrainingArguments(\n",
        "    output_dir='./results',              # output이 저장될 경로\n",
        "    num_train_epochs=1,              # train 시킬 총 epochs\n",
        "    per_device_train_batch_size=16,  # 각 device 당 batch size\n",
        "    per_device_eval_batch_size=64,   # evaluation 시에 batch size\n",
        "    warmup_steps=500,                # learning rate scheduler에 따른 warmup_step 설정\n",
        "    weight_decay=0.01,                 # weight decay\n",
        "    logging_dir='./logs',                 # log가 저장될 경로\n",
        "    do_train=True,                        # train 수행여부\n",
        "    do_eval=True,                        # eval 수행여부\n",
        ")\n",
        "\n",
        "# model, tokenizer 생성\n",
        "model_name_or_path = 'bert-base-uncased'\n",
        "with training_args.strategy.scope():    # training_args가 영향을 미치는 model의 범위를 지정\n",
        "    model = TFAutoModelForSequenceClassification.from_pretrained(\n",
        "            model_name_or_path,\n",
        "            from_pt=bool(\".bin\" in model_name_or_path),\n",
        "        )\n",
        "tokenizer = AutoTokenizer.from_pretrained(\n",
        "        model_name_or_path,\n",
        "    )"
      ],
      "execution_count": null,
      "outputs": [
        {
          "output_type": "display_data",
          "data": {
            "application/vnd.jupyter.widget-view+json": {
              "model_id": "05dc5a8d81eb4791949e8d4d8d21b789",
              "version_minor": 0,
              "version_major": 2
            },
            "text/plain": [
              "HBox(children=(FloatProgress(value=0.0, description='Downloading', max=570.0, style=ProgressStyle(description_…"
            ]
          },
          "metadata": {
            "tags": []
          }
        },
        {
          "output_type": "stream",
          "text": [
            "\n"
          ],
          "name": "stdout"
        },
        {
          "output_type": "display_data",
          "data": {
            "application/vnd.jupyter.widget-view+json": {
              "model_id": "49d822d781c8424a83c52ed39825382b",
              "version_minor": 0,
              "version_major": 2
            },
            "text/plain": [
              "HBox(children=(FloatProgress(value=0.0, description='Downloading', max=536063208.0, style=ProgressStyle(descri…"
            ]
          },
          "metadata": {
            "tags": []
          }
        },
        {
          "output_type": "stream",
          "text": [
            "\n"
          ],
          "name": "stdout"
        },
        {
          "output_type": "stream",
          "text": [
            "All model checkpoint layers were used when initializing TFBertForSequenceClassification.\n",
            "\n",
            "Some layers of TFBertForSequenceClassification were not initialized from the model checkpoint at bert-base-uncased and are newly initialized: ['classifier']\n",
            "You should probably TRAIN this model on a down-stream task to be able to use it for predictions and inference.\n"
          ],
          "name": "stderr"
        },
        {
          "output_type": "display_data",
          "data": {
            "application/vnd.jupyter.widget-view+json": {
              "model_id": "67286a59fceb4041a5a3e083ae1c59c3",
              "version_minor": 0,
              "version_major": 2
            },
            "text/plain": [
              "HBox(children=(FloatProgress(value=0.0, description='Downloading', max=231508.0, style=ProgressStyle(descripti…"
            ]
          },
          "metadata": {
            "tags": []
          }
        },
        {
          "output_type": "stream",
          "text": [
            "\n"
          ],
          "name": "stdout"
        },
        {
          "output_type": "display_data",
          "data": {
            "application/vnd.jupyter.widget-view+json": {
              "model_id": "20c13c7ab5b449019b8a8a5536f17baa",
              "version_minor": 0,
              "version_major": 2
            },
            "text/plain": [
              "HBox(children=(FloatProgress(value=0.0, description='Downloading', max=466062.0, style=ProgressStyle(descripti…"
            ]
          },
          "metadata": {
            "tags": []
          }
        },
        {
          "output_type": "stream",
          "text": [
            "\n"
          ],
          "name": "stdout"
        },
        {
          "output_type": "display_data",
          "data": {
            "application/vnd.jupyter.widget-view+json": {
              "model_id": "5dc03795e73548b1b22f47e8992f4d59",
              "version_minor": 0,
              "version_major": 2
            },
            "text/plain": [
              "HBox(children=(FloatProgress(value=0.0, description='Downloading', max=28.0, style=ProgressStyle(description_w…"
            ]
          },
          "metadata": {
            "tags": []
          }
        },
        {
          "output_type": "stream",
          "text": [
            "\n"
          ],
          "name": "stdout"
        }
      ]
    },
    {
      "cell_type": "markdown",
      "metadata": {
        "id": "EAoW2bqxjQ21"
      },
      "source": [
        "위와 같이 Huggingface 프레임워크 구조에 따라 Model과 Tokenizer를 간단히 생성했습니다. 여기까지는 기존에 살펴본 것과 큰 차이는 없지만 model 생성시에 training_args의 scope 안에서 진행했다는 것이 눈에 띕니다. 이 부분은 TFTrainer 사용시 결정적으로 중요합니다. 이 with 구문을 생략하면 TFTrainer에 전달하고픈 옵션이 제대로 전달되지 않아 결과적으로 모델이 오동작하게 되는 경우가 생길 수 있습니다."
      ]
    },
    {
      "cell_type": "code",
      "metadata": {
        "colab": {
          "base_uri": "https://localhost:8080/",
          "height": 877,
          "referenced_widgets": [
            "6e0ae26e3817407382d6842306b70b91",
            "20310744c4d4418f9a44137207fe485d",
            "6a56055536b348938b970dc9bda032d3",
            "56555772ee3c442f85bf07a8a21b9c77",
            "14e4078bc3c342f489de70ffdcce39e2",
            "8816cc6bc6ec413ea7b0201dc98511f0",
            "5a1dcc58c5e24d218ed3ce706f8ba9d1",
            "1becff9d25c44d93bd886cbfa77845eb",
            "395b5003963c458d97d029b8caccdf11",
            "d85b9cb452fa4ac6a2b62785e8e296d4",
            "e7457a0d52dd448ba4c33d63a875e457",
            "87166e05b63947cc860c1f6b4b0593c7",
            "ca439a9fc1854d5ea1cde302be8ee5c1",
            "498678c3466d443fb0b806de82714a06",
            "0d43f894764b4ba28bd7d486cd8fa2de",
            "95a726020c3d4b5ebc1643c77d21edea",
            "7a7dcfa991104eb588c538662a563b81",
            "6623167d266e4485b0396a149f0da3d4",
            "58524556013f44e18df1d2be84aeb9c3",
            "1740cf56bbd8448b84aa28d04bcef9ec",
            "c7ec46196d6f4ed88d74dad93f12164a",
            "1101e65d1e3543dfa85196052853053e",
            "5ef808bc656949079519a65a7189bc49",
            "6443856f2b7d46c0b0b2e297c2470f9a",
            "806920ccdf0f4192a05ea0e813482f74",
            "5e63e53f01894559b45cbabec45c7708",
            "0726c386f4f74d81aa39c24520b69098",
            "04360d8726ce4ba28972d7dd046ff62e",
            "2b0012ef8f3446bf8cc25d3e7a817d97",
            "7bc03e0ebd8d4a35abc64d4ac1745d8c",
            "4cc673c72af6407b8fbae1ab71e474bb",
            "cae6696172f140568c0773a314cfc4fc",
            "eb07bb245c9949fb9625dd35b74b9095",
            "c1de8738f17e4651a1c2991af1c28500",
            "3c8b4f2f08ca4a8bbba2ab8322b26db0",
            "dad6f42e062f49de8ba6cbcc5229e6de",
            "88882480cdf148fbae9ee1c1d4942bf7",
            "15245e655cd94eb8a48e4bc19758273c",
            "f16d7bd54b114944a4b57e48076c5ad1",
            "f5f29d5a11d24a16aa81229f40572f3a",
            "09da2a98513e401ba8b947853b56704e",
            "f8abf819f5d34c788412dabf2b1cfe4a",
            "aa88e59ca2ec4548a07451917e73bab3",
            "dd2d806158e04ec0b2a7c896f2f10dfb",
            "56f0d329711d4c75bf4836c242d1ae89",
            "6fb1a75947aa4cd4a46864023bd24adc",
            "ff34611621414918bca8171390c345fb",
            "fdce7e50f13d4b8cb1427c9254dd656d",
            "1fa956c728ba421da7927e1de3849ae9",
            "316c3e8aa7d540f182b130ad31764925",
            "7e80e24fe59f4c12ad6f0d66b51ab0a9",
            "7e9ad91e04b24486ab99a8d3446faf18",
            "751781bc4c404126b0bf3e855d82c73f",
            "68067fa569544767b4c3f6d52e9f2461",
            "42db0f6aeb45466296196a3766752805",
            "e8970ad2b8ef4bf1a7402057afde5229",
            "cb384183df96451ba11cfcc494f68587",
            "2e4013e5794843239cf78e7af7c21601",
            "a514ee8514524648b40b8aceccf84b68",
            "a68a7472786f4cc585615bbcf2849885",
            "7fb08cd3c81745e88bd2c30c88855213",
            "32d31e8fa6ce42e4b61f4dd16da99799",
            "d52921739d2541e69d0a8aee803cfd1d",
            "8f4c60f786e14e3a9b3296db91e7c912"
          ]
        },
        "id": "uCcjfjBqjNtW",
        "outputId": "86bc3d17-6347-4a39-bfe1-0fbbae5d5873"
      },
      "source": [
        "# 데이터셋 생성\n",
        "ds, info = tfds.load('glue/mrpc', with_info=True)\n",
        "train_dataset = glue_convert_examples_to_features(ds['train'], tokenizer, 128, 'mrpc')\n",
        "train_dataset = train_dataset.apply(tf.data.experimental.assert_cardinality(info.splits['train'].num_examples))\n",
        "\n",
        "# TFTrainer 생성\n",
        "trainer = TFTrainer(\n",
        "    model=model,                          # 학습시킬 model\n",
        "    args=training_args,                  # TFTrainingArguments을 통해 설정한 arguments\n",
        "    train_dataset=train_dataset,   # training dataset\n",
        ")\n",
        "\n",
        "# 학습 진행\n",
        "trainer.train()"
      ],
      "execution_count": null,
      "outputs": [
        {
          "output_type": "stream",
          "text": [
            "INFO:absl:Load pre-computed DatasetInfo (eg: splits, num examples,...) from GCS: glue/mrpc/1.0.0\n",
            "INFO:absl:Load dataset info from /tmp/tmpou8rvyb0tfds\n",
            "INFO:absl:Field info.description from disk and from code do not match. Keeping the one from code.\n",
            "INFO:absl:Field info.config_name from disk and from code do not match. Keeping the one from code.\n",
            "INFO:absl:Field info.config_description from disk and from code do not match. Keeping the one from code.\n",
            "INFO:absl:Field info.citation from disk and from code do not match. Keeping the one from code.\n",
            "INFO:absl:Field info.location from disk and from code do not match. Keeping the one from code.\n",
            "INFO:absl:Generating dataset glue (/root/tensorflow_datasets/glue/mrpc/1.0.0)\n"
          ],
          "name": "stderr"
        },
        {
          "output_type": "stream",
          "text": [
            "\u001b[1mDownloading and preparing dataset glue/mrpc/1.0.0 (download: 1.43 MiB, generated: Unknown size, total: 1.43 MiB) to /root/tensorflow_datasets/glue/mrpc/1.0.0...\u001b[0m\n"
          ],
          "name": "stdout"
        },
        {
          "output_type": "display_data",
          "data": {
            "application/vnd.jupyter.widget-view+json": {
              "model_id": "6e0ae26e3817407382d6842306b70b91",
              "version_minor": 0,
              "version_major": 2
            },
            "text/plain": [
              "HBox(children=(FloatProgress(value=1.0, bar_style='info', description='Dl Completed...', max=1.0, style=Progre…"
            ]
          },
          "metadata": {
            "tags": []
          }
        },
        {
          "output_type": "display_data",
          "data": {
            "application/vnd.jupyter.widget-view+json": {
              "model_id": "395b5003963c458d97d029b8caccdf11",
              "version_minor": 0,
              "version_major": 2
            },
            "text/plain": [
              "HBox(children=(FloatProgress(value=1.0, bar_style='info', description='Dl Size...', max=1.0, style=ProgressSty…"
            ]
          },
          "metadata": {
            "tags": []
          }
        },
        {
          "output_type": "stream",
          "text": [
            "INFO:absl:Downloading https://firebasestorage.googleapis.com/v0/b/mtl-sentence-representations.appspot.com/o/data%2Fmrpc_dev_ids.tsv?alt=media&token=ec5c0836-31d5-48f4-b431-7480817f1adc into /root/tensorflow_datasets/downloads/fire.goog.com_v0_b_mtl-sent-repr.apps.com_o_2FjSIMlCiqs1QSmIykr4IRPnEHjPuGwAz5i40v8K9U0Z8.tsvalt=media&token=ec5c0836-31d5-48f4-b431-7480817f1adc.tmp.ca47b6cad2b84fb19e350ecf3e54456e...\n",
            "INFO:absl:Downloading https://dl.fbaipublicfiles.com/senteval/senteval_data/msr_paraphrase_test.txt into /root/tensorflow_datasets/downloads/dl.fbaip.com_sente_sente_msr_parap_test0PdekMcyqYR-w4Rx_d7OTryq0J3RlYRn4rAMajy9Mak.txt.tmp.72a1b677eba04a5f9b94faa80154bcc3...\n",
            "INFO:absl:Downloading https://dl.fbaipublicfiles.com/senteval/senteval_data/msr_paraphrase_train.txt into /root/tensorflow_datasets/downloads/dl.fbaip.com_sente_sente_msr_parap_trainfGxPZuQWGBti4Tbd1YNOwQr-OqxPejJ7gcp0Al6mlSk.txt.tmp.1882d0bd0f064158b6f7b097cf791a3b...\n",
            "INFO:absl:Generating split train\n"
          ],
          "name": "stderr"
        },
        {
          "output_type": "stream",
          "text": [
            "\n",
            "\n",
            "\n",
            "\n"
          ],
          "name": "stdout"
        },
        {
          "output_type": "display_data",
          "data": {
            "application/vnd.jupyter.widget-view+json": {
              "model_id": "7a7dcfa991104eb588c538662a563b81",
              "version_minor": 0,
              "version_major": 2
            },
            "text/plain": [
              "HBox(children=(FloatProgress(value=1.0, bar_style='info', max=1.0), HTML(value='')))"
            ]
          },
          "metadata": {
            "tags": []
          }
        },
        {
          "output_type": "stream",
          "text": [
            "\rShuffling and writing examples to /root/tensorflow_datasets/glue/mrpc/1.0.0.incompleteGXM0DC/glue-train.tfrecord\n"
          ],
          "name": "stdout"
        },
        {
          "output_type": "display_data",
          "data": {
            "application/vnd.jupyter.widget-view+json": {
              "model_id": "806920ccdf0f4192a05ea0e813482f74",
              "version_minor": 0,
              "version_major": 2
            },
            "text/plain": [
              "HBox(children=(FloatProgress(value=0.0, max=3668.0), HTML(value='')))"
            ]
          },
          "metadata": {
            "tags": []
          }
        },
        {
          "output_type": "stream",
          "text": [
            "INFO:absl:Done writing /root/tensorflow_datasets/glue/mrpc/1.0.0.incompleteGXM0DC/glue-train.tfrecord. Shard lengths: [3668]\n",
            "INFO:absl:Generating split validation\n"
          ],
          "name": "stderr"
        },
        {
          "output_type": "stream",
          "text": [
            "\r"
          ],
          "name": "stdout"
        },
        {
          "output_type": "display_data",
          "data": {
            "application/vnd.jupyter.widget-view+json": {
              "model_id": "eb07bb245c9949fb9625dd35b74b9095",
              "version_minor": 0,
              "version_major": 2
            },
            "text/plain": [
              "HBox(children=(FloatProgress(value=1.0, bar_style='info', max=1.0), HTML(value='')))"
            ]
          },
          "metadata": {
            "tags": []
          }
        },
        {
          "output_type": "stream",
          "text": [
            "\rShuffling and writing examples to /root/tensorflow_datasets/glue/mrpc/1.0.0.incompleteGXM0DC/glue-validation.tfrecord\n"
          ],
          "name": "stdout"
        },
        {
          "output_type": "display_data",
          "data": {
            "application/vnd.jupyter.widget-view+json": {
              "model_id": "09da2a98513e401ba8b947853b56704e",
              "version_minor": 0,
              "version_major": 2
            },
            "text/plain": [
              "HBox(children=(FloatProgress(value=0.0, max=408.0), HTML(value='')))"
            ]
          },
          "metadata": {
            "tags": []
          }
        },
        {
          "output_type": "stream",
          "text": [
            "INFO:absl:Done writing /root/tensorflow_datasets/glue/mrpc/1.0.0.incompleteGXM0DC/glue-validation.tfrecord. Shard lengths: [408]\n",
            "INFO:absl:Generating split test\n"
          ],
          "name": "stderr"
        },
        {
          "output_type": "stream",
          "text": [
            "\r"
          ],
          "name": "stdout"
        },
        {
          "output_type": "display_data",
          "data": {
            "application/vnd.jupyter.widget-view+json": {
              "model_id": "1fa956c728ba421da7927e1de3849ae9",
              "version_minor": 0,
              "version_major": 2
            },
            "text/plain": [
              "HBox(children=(FloatProgress(value=1.0, bar_style='info', max=1.0), HTML(value='')))"
            ]
          },
          "metadata": {
            "tags": []
          }
        },
        {
          "output_type": "stream",
          "text": [
            "\rShuffling and writing examples to /root/tensorflow_datasets/glue/mrpc/1.0.0.incompleteGXM0DC/glue-test.tfrecord\n"
          ],
          "name": "stdout"
        },
        {
          "output_type": "display_data",
          "data": {
            "application/vnd.jupyter.widget-view+json": {
              "model_id": "cb384183df96451ba11cfcc494f68587",
              "version_minor": 0,
              "version_major": 2
            },
            "text/plain": [
              "HBox(children=(FloatProgress(value=0.0, max=1725.0), HTML(value='')))"
            ]
          },
          "metadata": {
            "tags": []
          }
        },
        {
          "output_type": "stream",
          "text": [
            "INFO:absl:Done writing /root/tensorflow_datasets/glue/mrpc/1.0.0.incompleteGXM0DC/glue-test.tfrecord. Shard lengths: [1725]\n",
            "INFO:absl:Skipping computing stats for mode ComputeStatsMode.SKIP.\n",
            "INFO:absl:Constructing tf.data.Dataset for split None, from /root/tensorflow_datasets/glue/mrpc/1.0.0\n"
          ],
          "name": "stderr"
        },
        {
          "output_type": "stream",
          "text": [
            "\u001b[1mDataset glue downloaded and prepared to /root/tensorflow_datasets/glue/mrpc/1.0.0. Subsequent calls will reuse this data.\u001b[0m\n",
            "\r"
          ],
          "name": "stdout"
        },
        {
          "output_type": "stream",
          "text": [
            "/content/transformers/src/transformers/data/processors/glue.py:67: FutureWarning: This function will be removed from the library soon, preprocessing should be handled with the 🤗 Datasets library. You can have a look at this example script for pointers: https://github.com/huggingface/transformers/blob/master/examples/pytorch/text-classification/run_glue.py\n",
            "  warnings.warn(DEPRECATION_WARNING.format(\"function\"), FutureWarning)\n",
            "/content/transformers/src/transformers/data/processors/glue.py:175: FutureWarning: This processor will be removed from the library soon, preprocessing should be handled with the 🤗 Datasets library. You can have a look at this example script for pointers: https://github.com/huggingface/transformers/blob/master/examples/pytorch/text-classification/run_glue.py\n",
            "  warnings.warn(DEPRECATION_WARNING.format(\"processor\"), FutureWarning)\n"
          ],
          "name": "stderr"
        },
        {
          "output_type": "stream",
          "text": [
            "WARNING:tensorflow:The parameters `output_attentions`, `output_hidden_states` and `use_cache` cannot be updated when calling a model.They have to be set to True/False in the config object (i.e.: `config=XConfig.from_pretrained('name', output_attentions=True)`).\n"
          ],
          "name": "stdout"
        },
        {
          "output_type": "stream",
          "text": [
            "WARNING:tensorflow:The parameters `output_attentions`, `output_hidden_states` and `use_cache` cannot be updated when calling a model.They have to be set to True/False in the config object (i.e.: `config=XConfig.from_pretrained('name', output_attentions=True)`).\n"
          ],
          "name": "stderr"
        },
        {
          "output_type": "stream",
          "text": [
            "WARNING:tensorflow:The parameter `return_dict` cannot be set in graph mode and will always be set to `True`.\n"
          ],
          "name": "stdout"
        },
        {
          "output_type": "stream",
          "text": [
            "WARNING:tensorflow:The parameter `return_dict` cannot be set in graph mode and will always be set to `True`.\n"
          ],
          "name": "stderr"
        },
        {
          "output_type": "stream",
          "text": [
            "WARNING:tensorflow:The parameters `output_attentions`, `output_hidden_states` and `use_cache` cannot be updated when calling a model.They have to be set to True/False in the config object (i.e.: `config=XConfig.from_pretrained('name', output_attentions=True)`).\n"
          ],
          "name": "stdout"
        },
        {
          "output_type": "stream",
          "text": [
            "WARNING:tensorflow:The parameters `output_attentions`, `output_hidden_states` and `use_cache` cannot be updated when calling a model.They have to be set to True/False in the config object (i.e.: `config=XConfig.from_pretrained('name', output_attentions=True)`).\n"
          ],
          "name": "stderr"
        },
        {
          "output_type": "stream",
          "text": [
            "WARNING:tensorflow:The parameter `return_dict` cannot be set in graph mode and will always be set to `True`.\n"
          ],
          "name": "stdout"
        },
        {
          "output_type": "stream",
          "text": [
            "WARNING:tensorflow:The parameter `return_dict` cannot be set in graph mode and will always be set to `True`.\n"
          ],
          "name": "stderr"
        }
      ]
    },
    {
      "cell_type": "markdown",
      "metadata": {
        "id": "047JuY9jjV3b"
      },
      "source": [
        "이후 데이터셋을 생성하여, model, training_args과 함께 TFTrainer에 전달하는 것으로 학습을 위한 준비가 마무리됩니다. 이후 trainer.train()을 호출하면 실제 학습이 진행됩니다."
      ]
    },
    {
      "cell_type": "markdown",
      "metadata": {
        "id": "Nn2_l_-2js-e"
      },
      "source": [
        "#17-9. 마무리하며\n",
        "이렇게 Huggingface가 만든 framework인 transformers를 훑어보았습니다.\n",
        "\n",
        "내가 어떻게 모델을 불러오고, 토크나이저를 사용하고, 데이터를 가공해야 하는구나 조금 감이 잡히셨을까요? 비단 transformers뿐만 아니라, 다른 framework를 사용하실 때에도 이처럼 framework의 전반적인 구조를 먼저 파악하신다면, 더욱 유용하게 사용하실 수 있을 거라고 자신 있게 말씀드립니다!!!!!!\n",
        "\n",
        "이제 transformers를 이용하여 이전 시간에 배웠던 모델들의 성능과 특성을 비교해보기도 하고, 다른 사람들이 학습시킨 모델을 이용하여 더 좋은 성능을 내는 모델을 만들 수도 있겠죠?\n",
        "\n",
        "더.나.아.가.\n",
        "\n",
        "나만의 모델과 데이터셋을 이용하여 문제를 풀어보기도 하면 완-벽-☆ 하게 NLP의 마스터가 되실 수 있을 거예요🤗\n",
        "다음 시간에 진행할 내용을 기대해 주세요~"
      ]
    },
    {
      "cell_type": "code",
      "metadata": {
        "id": "R93e-LZejTMb"
      },
      "source": [
        ""
      ],
      "execution_count": null,
      "outputs": []
    }
  ]
}