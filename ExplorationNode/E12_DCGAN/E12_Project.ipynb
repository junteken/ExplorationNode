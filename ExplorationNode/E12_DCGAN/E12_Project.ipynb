{
  "nbformat": 4,
  "nbformat_minor": 0,
  "metadata": {
    "colab": {
      "name": "E12_Project.ipynb의 사본",
      "provenance": []
    },
    "kernelspec": {
      "name": "python3",
      "display_name": "Python 3"
    },
    "accelerator": "GPU"
  },
  "cells": [
    {
      "cell_type": "code",
      "metadata": {
        "colab": {
          "base_uri": "https://localhost:8080/"
        },
        "id": "RXhqDTzFSbuR",
        "outputId": "783e092b-d320-4919-9893-94ca51366caa"
      },
      "source": [
        "import os\n",
        "import glob\n",
        "import time\n",
        "import PIL\n",
        "import imageio\n",
        "import numpy as np\n",
        "import tensorflow as tf\n",
        "from tensorflow.train import Checkpoint\n",
        "from tensorflow.keras import layers\n",
        "from IPython import display\n",
        "import matplotlib.pyplot as plt\n",
        "%matplotlib inline\n",
        "\n",
        "pjt_path = '/content/drive/MyDrive/DL_Study/AIFFEL/dcgan_cifar'\n",
        "\n",
        "print(\"tensorflow\", tf.__version__)\n",
        "\n",
        "cifar10 = tf.keras.datasets.cifar10\n",
        "\n",
        "(train_x, _), (test_x, _) = cifar10.load_data()\n",
        "\n",
        "train_x.shape"
      ],
      "execution_count": 1,
      "outputs": [
        {
          "output_type": "stream",
          "text": [
            "tensorflow 2.4.1\n"
          ],
          "name": "stdout"
        },
        {
          "output_type": "execute_result",
          "data": {
            "text/plain": [
              "(50000, 32, 32, 3)"
            ]
          },
          "metadata": {
            "tags": []
          },
          "execution_count": 1
        }
      ]
    },
    {
      "cell_type": "markdown",
      "metadata": {
        "id": "9nTQ5UksUMXf"
      },
      "source": [
        "STEP 2. 생성자 모델 구현하기\n",
        "(32, 32, 3)의 shape를 가진 이미지를 생성하는 생성자 모델 구현 함수를 작성해 봅시다.\n",
        "noise = tf.random.normal([1, 100])로 생성된 랜덤 노이즈를 입력으로 하여 방금 구현한 생성자로 랜덤 이미지를 생성해 봅시다.\n",
        "생성된 랜덤 이미지가 생성자 출력 규격에 잘 맞는지 확인해 봅시다.\n"
      ]
    },
    {
      "cell_type": "code",
      "metadata": {
        "id": "iMLsYhg3UGgP",
        "colab": {
          "base_uri": "https://localhost:8080/",
          "height": 266
        },
        "outputId": "27bd801c-ff7e-4102-a7b4-952f6ae35816"
      },
      "source": [
        "plt.imshow(train_x[0].reshape(32, 32,3), cmap='gray')\n",
        "plt.colorbar()\n",
        "plt.show()\n",
        "\n",
        "BUFFER_SIZE = 50000\n",
        "BATCH_SIZE = 256\n",
        "train_dataset = tf.data.Dataset.from_tensor_slices(train_x).shuffle(BUFFER_SIZE).batch(BATCH_SIZE)"
      ],
      "execution_count": 2,
      "outputs": [
        {
          "output_type": "display_data",
          "data": {
            "image/png": "[encoded data removed]",
            "text/plain": [
              "<Figure size 432x288 with 2 Axes>"
            ]
          },
          "metadata": {
            "tags": [],
            "needs_background": "light"
          }
        }
      ]
    },
    {
      "cell_type": "code",
      "metadata": {
        "id": "krwcHbp5wv0O"
      },
      "source": [
        "def make_generator_model():\n",
        "\n",
        "    # Start\n",
        "    model = tf.keras.Sequential()\n",
        "\n",
        "    # First: Dense layer\n",
        "    model.add(layers.Dense(8*8*256, use_bias=False, input_shape=(100,)))\n",
        "    model.add(layers.BatchNormalization())\n",
        "    model.add(layers.LeakyReLU())\n",
        "\n",
        "    # Second: Reshape layer\n",
        "    model.add(layers.Reshape((8, 8,256)))\n",
        "\n",
        "    # Third: Conv2DTranspose layer\n",
        "    model.add(layers.Conv2DTranspose(128, kernel_size=(5, 5), strides=(1, 1), padding='same', use_bias=False))\n",
        "    model.add(layers.BatchNormalization())\n",
        "    model.add(layers.LeakyReLU())\n",
        "\n",
        "    # Fourth: Conv2DTranspose layer\n",
        "    model.add(layers.Conv2DTranspose(64, kernel_size=(5, 5), strides=(2, 2), padding='same', use_bias=False))\n",
        "    model.add(layers.BatchNormalization())\n",
        "    model.add(layers.LeakyReLU())\n",
        "\n",
        "    # Fourth: Conv2DTranspose layer\n",
        "    model.add(layers.Conv2DTranspose(32, kernel_size=(5, 5), strides=(2, 2), padding='same', use_bias=False))\n",
        "    model.add(layers.BatchNormalization())\n",
        "    model.add(layers.LeakyReLU())\n",
        "\n",
        "\n",
        "    # Fifth: Conv2DTranspose layer\n",
        "    # model.add(layers.Conv2DTranspose(1, kernel_size=(5, 5), strides=(2, 2), padding='same', use_bias=False, \\\n",
        "    #                                  activation='tanh'))\n",
        "\n",
        "    model.add(layers.Dense(3, activation='tanh'))\n",
        "\n",
        "    return model"
      ],
      "execution_count": 3,
      "outputs": []
    },
    {
      "cell_type": "code",
      "metadata": {
        "colab": {
          "base_uri": "https://localhost:8080/"
        },
        "id": "qTGclBORzqCh",
        "outputId": "2dc10738-f265-4a05-d066-6dc37d759385"
      },
      "source": [
        "generator = make_generator_model()\n",
        "generator.summary()"
      ],
      "execution_count": 4,
      "outputs": [
        {
          "output_type": "stream",
          "text": [
            "Model: \"sequential\"\n",
            "_________________________________________________________________\n",
            "Layer (type)                 Output Shape              Param #   \n",
            "=================================================================\n",
            "dense (Dense)                (None, 16384)             1638400   \n",
            "_________________________________________________________________\n",
            "batch_normalization (BatchNo (None, 16384)             65536     \n",
            "_________________________________________________________________\n",
            "leaky_re_lu (LeakyReLU)      (None, 16384)             0         \n",
            "_________________________________________________________________\n",
            "reshape (Reshape)            (None, 8, 8, 256)         0         \n",
            "_________________________________________________________________\n",
            "conv2d_transpose (Conv2DTran (None, 8, 8, 128)         819200    \n",
            "_________________________________________________________________\n",
            "batch_normalization_1 (Batch (None, 8, 8, 128)         512       \n",
            "_________________________________________________________________\n",
            "leaky_re_lu_1 (LeakyReLU)    (None, 8, 8, 128)         0         \n",
            "_________________________________________________________________\n",
            "conv2d_transpose_1 (Conv2DTr (None, 16, 16, 64)        204800    \n",
            "_________________________________________________________________\n",
            "batch_normalization_2 (Batch (None, 16, 16, 64)        256       \n",
            "_________________________________________________________________\n",
            "leaky_re_lu_2 (LeakyReLU)    (None, 16, 16, 64)        0         \n",
            "_________________________________________________________________\n",
            "conv2d_transpose_2 (Conv2DTr (None, 32, 32, 32)        51200     \n",
            "_________________________________________________________________\n",
            "batch_normalization_3 (Batch (None, 32, 32, 32)        128       \n",
            "_________________________________________________________________\n",
            "leaky_re_lu_3 (LeakyReLU)    (None, 32, 32, 32)        0         \n",
            "_________________________________________________________________\n",
            "dense_1 (Dense)              (None, 32, 32, 3)         99        \n",
            "=================================================================\n",
            "Total params: 2,780,131\n",
            "Trainable params: 2,746,915\n",
            "Non-trainable params: 33,216\n",
            "_________________________________________________________________\n"
          ],
          "name": "stdout"
        }
      ]
    },
    {
      "cell_type": "code",
      "metadata": {
        "colab": {
          "base_uri": "https://localhost:8080/",
          "height": 266
        },
        "id": "dS4oOiYGw2z8",
        "outputId": "51146253-c4de-4ce4-ffb5-b22793214c0a"
      },
      "source": [
        "\n",
        "noise = tf.random.normal([1, 100])\n",
        "generated_image = generator(noise, training=False)\n",
        "generated_image.shape\n",
        "plt.imshow(generated_image[0, :, :, 0])\n",
        "plt.colorbar()\n",
        "plt.show()"
      ],
      "execution_count": 5,
      "outputs": [
        {
          "output_type": "display_data",
          "data": {
            "image/png": "[encoded data removed]",
            "text/plain": [
              "<Figure size 432x288 with 2 Axes>"
            ]
          },
          "metadata": {
            "tags": [],
            "needs_background": "light"
          }
        }
      ]
    },
    {
      "cell_type": "markdown",
      "metadata": {
        "id": "RxRUKdLUUNaG"
      },
      "source": [
        "STEP 3. 판별자 모델 구현하기\n",
        "(32, 32, 3)의 이미지를 입력으로 받아 1dim을 판별결과를 출력하는 판별자 모델 구현 함수를 작성해 봅시다.\n",
        "위 STEP 2에서 생성한 랜덤 이미지를 판별자 모델이 판별한 결과값을 확인해 봅시다.\n"
      ]
    },
    {
      "cell_type": "code",
      "metadata": {
        "id": "ZBgokYthUPH7"
      },
      "source": [
        "def make_discriminator_model():\n",
        "\n",
        "    # Start\n",
        "    model = tf.keras.Sequential()\n",
        "\n",
        "    # First: Conv2D Layer\n",
        "    model.add(layers.Conv2D(64, (5, 5), strides=(2, 2), padding='same', input_shape=[32, 32, 3]))\n",
        "    model.add(layers.LeakyReLU())\n",
        "    model.add(layers.Dropout(0.3))\n",
        "\n",
        "    # Second: Conv2D Layer\n",
        "    model.add(layers.Conv2D(128, (5, 5), strides=(2, 2), padding='same'))\n",
        "    model.add(layers.LeakyReLU())\n",
        "    model.add(layers.Dropout(0.3))\n",
        "\n",
        "    # Third: Flatten Layer\n",
        "    model.add(layers.Flatten())\n",
        "\n",
        "    # Fourth: Dense Layer\n",
        "    model.add(layers.Dense(1))\n",
        "\n",
        "    return model"
      ],
      "execution_count": 6,
      "outputs": []
    },
    {
      "cell_type": "code",
      "metadata": {
        "colab": {
          "base_uri": "https://localhost:8080/"
        },
        "id": "uWrMUphAxxl9",
        "outputId": "641f1b35-4dbb-4655-a373-331d40eef9ba"
      },
      "source": [
        "discriminator = make_discriminator_model()\n",
        "decision = discriminator(generated_image, training=False)\n",
        "decision"
      ],
      "execution_count": 7,
      "outputs": [
        {
          "output_type": "execute_result",
          "data": {
            "text/plain": [
              "<tf.Tensor: shape=(1, 1), dtype=float32, numpy=array([[-0.00060383]], dtype=float32)>"
            ]
          },
          "metadata": {
            "tags": []
          },
          "execution_count": 7
        }
      ]
    },
    {
      "cell_type": "markdown",
      "metadata": {
        "id": "tmxcufmHUPt5"
      },
      "source": [
        "STEP 4. 손실함수와 최적화 함수 구현하기\n",
        "생성자와 판별자의 손실함수(loss)를 구현해 봅시다.\n",
        "판별자의 출력값을 가지고 실제/생성(real/fake) 이미지 판별 정확도(accuracy)를 계산하는 함수를 구현해 봅시다.\n",
        "생성자와 판별자를 최적화하는 optimizer를 정의합니다.\n"
      ]
    },
    {
      "cell_type": "code",
      "metadata": {
        "id": "98BM1_FJURku"
      },
      "source": [
        "cross_entropy = tf.keras.losses.BinaryCrossentropy(from_logits=True)\n",
        "\n",
        "def generator_loss(fake_output):\n",
        "    return cross_entropy(tf.ones_like(fake_output), fake_output)\n",
        "\n",
        "def discriminator_loss(real_output, fake_output):\n",
        "    real_loss = cross_entropy(tf.ones_like(real_output), real_output)\n",
        "    fake_loss = cross_entropy(tf.zeros_like(fake_output), fake_output)\n",
        "    total_loss = real_loss + fake_loss\n",
        "    return total_loss\n",
        "\n",
        "def discriminator_accuracy(real_output, fake_output):\n",
        "    real_accuracy = tf.reduce_mean(tf.cast(tf.math.greater_equal(real_output, tf.constant([0.5])), tf.float32))\n",
        "    fake_accuracy = tf.reduce_mean(tf.cast(tf.math.less(fake_output, tf.constant([0.5])), tf.float32))\n",
        "    return real_accuracy, fake_accuracy\n",
        "\n",
        "generator_optimizer = tf.keras.optimizers.Adam(1e-4)\n",
        "discriminator_optimizer = tf.keras.optimizers.Adam(1e-4)\n"
      ],
      "execution_count": 8,
      "outputs": []
    },
    {
      "cell_type": "markdown",
      "metadata": {
        "id": "s_vB9IwSUTas"
      },
      "source": [
        "STEP 5. 훈련과정 상세 기능 구현하기\n",
        "1개 미니배치의 훈련 과정을 처리하는 train_step() 함수를 구현해 봅시다.\n",
        "16개의 고정된 seed를 입력으로 하여 훈련 과정 동안 생성한 이미지를 시각화하는 generate_and_save_images() 함수를 구현해 봅시다.\n",
        "훈련 epoch마다 생성자/판별자의 loss 및 판별자의 실제/생성(real/fake) 이미지 판별 accuracy 히스토리(history)를 그래프로 시각화하는 draw_train_history() 함수를 구현해 봅시다.\n",
        "training_checkpoints 디렉토리에 몇 epoch마다 모델을 저장하는 checkpoint 모듈을 설정해 봅시다."
      ]
    },
    {
      "cell_type": "code",
      "metadata": {
        "id": "T6N6ZdpdUT8f"
      },
      "source": [
        "noise_dim = 100\n",
        "num_examples_to_generate = 16\n",
        "\n",
        "seed = tf.random.normal([num_examples_to_generate, noise_dim])\n",
        "seed.shape\n",
        "\n",
        "@tf.function\n",
        "def train_step(images):  #(1) 입력데이터\n",
        "    noise = tf.random.normal([BATCH_SIZE, noise_dim])  #(2) 생성자 입력 노이즈\n",
        "\n",
        "    with tf.GradientTape() as gen_tape, tf.GradientTape() as disc_tape:  #(3) tf.GradientTape() 오픈\n",
        "        generated_images = generator(noise, training=True)  #(4) generated_images 생성\n",
        "\n",
        "        #(5) discriminator 판별\n",
        "        real_output = discriminator(images, training=True)\n",
        "        fake_output = discriminator(generated_images, training=True)\n",
        "\n",
        "        #(6) loss 계산\n",
        "        gen_loss = generator_loss(fake_output)\n",
        "        disc_loss = discriminator_loss(real_output, fake_output)\n",
        "\n",
        "        #(7) accuracy 계산\n",
        "        real_accuracy, fake_accuracy = discriminator_accuracy(real_output, fake_output) \n",
        "    \n",
        "    #(8) gradient 계산\n",
        "    gradients_of_generator = gen_tape.gradient(gen_loss, generator.trainable_variables)\n",
        "    gradients_of_discriminator = disc_tape.gradient(disc_loss, discriminator.trainable_variables)\n",
        "\n",
        "    #(9) 모델 학습\n",
        "    generator_optimizer.apply_gradients(zip(gradients_of_generator, generator.trainable_variables))\n",
        "    discriminator_optimizer.apply_gradients(zip(gradients_of_discriminator, discriminator.trainable_variables))\n",
        "\n",
        "    return gen_loss, disc_loss, real_accuracy, fake_accuracy  #(10) 리턴값\n",
        "\n",
        "def generate_and_save_images(model, epoch, it, sample_seeds):\n",
        "\n",
        "    predictions = model(sample_seeds, training=False)\n",
        "\n",
        "    fig = plt.figure(figsize=(4, 4))\n",
        "    for i in range(predictions.shape[0]):\n",
        "        plt.subplot(4, 4, i+1)\n",
        "        plt.imshow(predictions[i, :, :, 0], cmap='gray')\n",
        "        plt.axis('off')\n",
        "\n",
        "    plt.savefig(pjt_path+'/generated_samples/sample_epoch_{:04d}_iter_{:03d}.png'\n",
        "                    .format(epoch, it))\n",
        "\n",
        "    plt.show()"
      ],
      "execution_count": 9,
      "outputs": []
    },
    {
      "cell_type": "code",
      "metadata": {
        "id": "gpYZdVsR8sKh"
      },
      "source": [
        "from matplotlib.pylab import rcParams\n",
        "rcParams['figure.figsize'] = 15, 6    # matlab 차트의 기본 크기를 15,6으로 지정해 줍니다.\n",
        "\n",
        "def draw_train_history(history, epoch):\n",
        "    # summarize history for loss  \n",
        "    plt.subplot(211)  \n",
        "    plt.plot(history['gen_loss'])  \n",
        "    plt.plot(history['disc_loss'])  \n",
        "    plt.title('model loss')  \n",
        "    plt.ylabel('loss')  \n",
        "    plt.xlabel('batch iters')  \n",
        "    plt.legend(['gen_loss', 'disc_loss'], loc='upper left')  \n",
        "\n",
        "    # summarize history for accuracy  \n",
        "    plt.subplot(212)  \n",
        "    plt.plot(history['fake_accuracy'])  \n",
        "    plt.plot(history['real_accuracy'])  \n",
        "    plt.title('discriminator accuracy')  \n",
        "    plt.ylabel('accuracy')  \n",
        "    plt.xlabel('batch iters')  \n",
        "    plt.legend(['fake_accuracy', 'real_accuracy'], loc='upper left')  \n",
        "    \n",
        "    # training_history 디렉토리에 epoch별로 그래프를 이미지 파일로 저장합니다.\n",
        "    plt.savefig(pjt_path+'/training_history/train_history_{:04d}.png'\n",
        "                    .format(epoch))\n",
        "    plt.show()"
      ],
      "execution_count": 10,
      "outputs": []
    },
    {
      "cell_type": "code",
      "metadata": {
        "id": "8JSzehLt8t1h"
      },
      "source": [
        "# checkpoint_dir = os.getenv('HOME')+'/aiffel/dcgan_newimage/fashion/training_checkpoints'\n",
        "checkpoint_dir = pjt_path+'/training_checkpoints'\n",
        "\n",
        "checkpoint_prefix = os.path.join(checkpoint_dir, \"ckpt\")\n",
        "checkpoint = tf.train.Checkpoint(generator_optimizer=generator_optimizer,\n",
        "                                 discriminator_optimizer=discriminator_optimizer,\n",
        "                                 generator=generator,\n",
        "                                 discriminator=discriminator)"
      ],
      "execution_count": 11,
      "outputs": []
    },
    {
      "cell_type": "code",
      "metadata": {
        "id": "djmfXmho8yXF"
      },
      "source": [
        "def train(dataset, epochs, save_every):\n",
        "    start = time.time()\n",
        "    history = {'gen_loss':[], 'disc_loss':[], 'real_accuracy':[], 'fake_accuracy':[]}\n",
        "\n",
        "    for epoch in range(epochs):\n",
        "        epoch_start = time.time()\n",
        "        for it, image_batch in enumerate(dataset):\n",
        "            gen_loss, disc_loss, real_accuracy, fake_accuracy = train_step(image_batch)\n",
        "            history['gen_loss'].append(gen_loss)\n",
        "            history['disc_loss'].append(disc_loss)\n",
        "            history['real_accuracy'].append(real_accuracy)\n",
        "            history['fake_accuracy'].append(fake_accuracy)\n",
        "\n",
        "            if it % 50 == 0:\n",
        "                display.clear_output(wait=True)\n",
        "                generate_and_save_images(generator, epoch+1, it+1, seed)\n",
        "                print('Epoch {} | iter {}'.format(epoch+1, it+1))\n",
        "                print('Time for epoch {} : {} sec'.format(epoch+1, int(time.time()-epoch_start)))\n",
        "\n",
        "        if (epoch + 1) % save_every == 0:\n",
        "            checkpoint.save(file_prefix=checkpoint_prefix)\n",
        "\n",
        "        display.clear_output(wait=True)\n",
        "        generate_and_save_images(generator, epochs, it, seed)\n",
        "        print('Time for training : {} sec'.format(int(time.time()-start)))\n",
        "\n",
        "        draw_train_history(history, epoch)"
      ],
      "execution_count": 12,
      "outputs": []
    },
    {
      "cell_type": "code",
      "metadata": {
        "colab": {
          "base_uri": "https://localhost:8080/"
        },
        "id": "WhWSyxyY9H7s",
        "outputId": "b545ca99-3cb5-40fe-923d-839873b48f9d"
      },
      "source": [
        "save_every = 5\n",
        "EPOCHS = 50\n",
        "\n",
        "# 사용가능한 GPU 디바이스 확인\n",
        "tf.config.list_physical_devices(\"GPU\")\n",
        "\n"
      ],
      "execution_count": 13,
      "outputs": [
        {
          "output_type": "execute_result",
          "data": {
            "text/plain": [
              "[PhysicalDevice(name='/physical_device:GPU:0', device_type='GPU')]"
            ]
          },
          "metadata": {
            "tags": []
          },
          "execution_count": 13
        }
      ]
    },
    {
      "cell_type": "code",
      "metadata": {
        "colab": {
          "base_uri": "https://localhost:8080/",
          "height": 689
        },
        "id": "fAwHTaws9TEN",
        "outputId": "9088fd74-8e26-4a16-b7ce-e3456d867536"
      },
      "source": [
        "%%time\n",
        "train(train_dataset, EPOCHS, save_every)\n",
        "\n",
        "# 학습과정의 loss, accuracy 그래프 이미지 파일이 ~/aiffel/dcgan_newimage/fashion/training_history 경로에 생성되고 있으니\n",
        "# 진행 과정을 수시로 확인해 보시길 권합니다."
      ],
      "execution_count": 14,
      "outputs": [
        {
          "output_type": "display_data",
          "data": {
            "image/png": "[encoded data removed]",
            "text/plain": [
              "<Figure size 288x288 with 16 Axes>"
            ]
          },
          "metadata": {
            "tags": [],
            "needs_background": "light"
          }
        },
        {
          "output_type": "stream",
          "text": [
            "Time for training : 753 sec\n"
          ],
          "name": "stdout"
        },
        {
          "output_type": "display_data",
          "data": {
            "image/png": "[encoded data removed]",
            "text/plain": [
              "<Figure size 1080x432 with 2 Axes>"
            ]
          },
          "metadata": {
            "tags": [],
            "needs_background": "light"
          }
        },
        {
          "output_type": "stream",
          "text": [
            "CPU times: user 4min 26s, sys: 28.5 s, total: 4min 55s\n",
            "Wall time: 12min 34s\n"
          ],
          "name": "stdout"
        }
      ]
    },
    {
      "cell_type": "markdown",
      "metadata": {
        "id": "oxan1WzqUV84"
      },
      "source": [
        "STEP 6. 학습 과정 진행하기\n",
        "위 STEP 5에서 구현한 기능들을 활용하여 최소 50 epoch만큼의 모델 학습을 진행해 봅시다.\n",
        "학습 과정에서 생성된 샘플 이미지로 만든 gif 파일을 통해 학습 진행 과정을 시각적으로 표현해 봅시다.\n",
        "학습 과정을 담은 샘플 이미지, gif 파일, 학습 진행 그래프 이미지를 함께 제출합니다."
      ]
    },
    {
      "cell_type": "code",
      "metadata": {
        "id": "2BRlsR6KUWWN"
      },
      "source": [
        ""
      ],
      "execution_count": 14,
      "outputs": []
    },
    {
      "cell_type": "markdown",
      "metadata": {
        "id": "y7So5XjqUYOc"
      },
      "source": [
        "(참고) 학습 과정 중 학습 epoch를 추가 진행해야 하거나, 학습한 모델을 활용하여 이미지를 생성할 필요가 생깁니다. 그럴 때마다 모델 학습을 처음부터 다시 진행한다면 시간 낭비가 될 것입니다.\n",
        "우리는 위에서 checkpoint 모듈을 이용해 모델을 저장해 둔 바 있습니다. 이를 이용해 학습해 둔 모델을 로드하면 모델 재학습이 필요 없이 이런 작업을 진행할 수 있습니다.\n",
        "아래는 checkpoint 모듈을 활용하여 모델을 로드하는 예시입니다."
      ]
    },
    {
      "cell_type": "code",
      "metadata": {
        "id": "n0xasYXSUYwT",
        "colab": {
          "base_uri": "https://localhost:8080/",
          "height": 374
        },
        "outputId": "62dd8738-e2ed-4b0c-d349-196b402c017e"
      },
      "source": [
        "checkpoint_dir = pjt_path + '/training_checkpoints'\n",
        "\n",
        "latest = tf.train.latest_checkpoint(checkpoint_dir)\n",
        "checkpoint.restore(latest)\n",
        "\n",
        "generator = checkpoint.generator\n",
        "discriminator = checkpoint.discriminator\n",
        "\n",
        "# 로드한 모델이 정상적으로 이미지를 생성하는지 확인해 봅니다. \n",
        "noise = tf.random.normal([1, 100])\n",
        "generated_image = generator(noise, training=False)\n",
        "\n",
        "np_generated = generated_image.numpy()\n",
        "np_generated = (np_generated * 127.5) + 127.5   # reverse of normalization\n",
        "np_generated = np_generated.astype(int)\n",
        "plt.imshow(np_generated[0])\n",
        "plt.show()  # 정상적으로 모델이 로드되었다면 랜덤 이미지가 아니라 CIFAR-10 이미지가 그려질 것입니다."
      ],
      "execution_count": 15,
      "outputs": [
        {
          "output_type": "display_data",
          "data": {
            "image/png": "[encoded data removed]",
            "text/plain": [
              "<Figure size 1080x432 with 1 Axes>"
            ]
          },
          "metadata": {
            "tags": [],
            "needs_background": "light"
          }
        }
      ]
    }
  ]
}