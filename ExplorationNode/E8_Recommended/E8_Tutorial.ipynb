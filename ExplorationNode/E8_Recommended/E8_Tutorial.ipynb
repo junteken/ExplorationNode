{
  "nbformat": 4,
  "nbformat_minor": 0,
  "metadata": {
    "colab": {
      "name": "E8_Tutorial.ipynb",
      "provenance": []
    },
    "kernelspec": {
      "name": "python3",
      "display_name": "Python 3"
    },
    "accelerator": "GPU",
    "widgets": {
      "application/vnd.jupyter.widget-state+json": {
        "76bdbcd49ea54cbfa3b4ba73e751a526": {
          "model_module": "@jupyter-widgets/controls",
          "model_name": "HBoxModel",
          "state": {
            "_view_name": "HBoxView",
            "_dom_classes": [],
            "_model_name": "HBoxModel",
            "_view_module": "@jupyter-widgets/controls",
            "_model_module_version": "1.5.0",
            "_view_count": null,
            "_view_module_version": "1.5.0",
            "box_style": "",
            "layout": "IPY_MODEL_f9c8f35578b34205af1f7d61c7e2a8b6",
            "_model_module": "@jupyter-widgets/controls",
            "children": [
              "IPY_MODEL_733e552410914416b64c7c3f3be8b1ee",
              "IPY_MODEL_65c4b3d987174f3d8c48f7fec4bb93ad"
            ]
          }
        },
        "f9c8f35578b34205af1f7d61c7e2a8b6": {
          "model_module": "@jupyter-widgets/base",
          "model_name": "LayoutModel",
          "state": {
            "_view_name": "LayoutView",
            "grid_template_rows": null,
            "right": null,
            "justify_content": null,
            "_view_module": "@jupyter-widgets/base",
            "overflow": null,
            "_model_module_version": "1.2.0",
            "_view_count": null,
            "flex_flow": null,
            "width": null,
            "min_width": null,
            "border": null,
            "align_items": null,
            "bottom": null,
            "_model_module": "@jupyter-widgets/base",
            "top": null,
            "grid_column": null,
            "overflow_y": null,
            "overflow_x": null,
            "grid_auto_flow": null,
            "grid_area": null,
            "grid_template_columns": null,
            "flex": null,
            "_model_name": "LayoutModel",
            "justify_items": null,
            "grid_row": null,
            "max_height": null,
            "align_content": null,
            "visibility": null,
            "align_self": null,
            "height": null,
            "min_height": null,
            "padding": null,
            "grid_auto_rows": null,
            "grid_gap": null,
            "max_width": null,
            "order": null,
            "_view_module_version": "1.2.0",
            "grid_template_areas": null,
            "object_position": null,
            "object_fit": null,
            "grid_auto_columns": null,
            "margin": null,
            "display": null,
            "left": null
          }
        },
        "733e552410914416b64c7c3f3be8b1ee": {
          "model_module": "@jupyter-widgets/controls",
          "model_name": "FloatProgressModel",
          "state": {
            "_view_name": "ProgressView",
            "style": "IPY_MODEL_4a181bb4d685433ab7066760a351f0da",
            "_dom_classes": [],
            "description": "100%",
            "_model_name": "FloatProgressModel",
            "bar_style": "success",
            "max": 15,
            "_view_module": "@jupyter-widgets/controls",
            "_model_module_version": "1.5.0",
            "value": 15,
            "_view_count": null,
            "_view_module_version": "1.5.0",
            "orientation": "horizontal",
            "min": 0,
            "description_tooltip": null,
            "_model_module": "@jupyter-widgets/controls",
            "layout": "IPY_MODEL_4028e1ee91dc4d878f5d0185acda7716"
          }
        },
        "65c4b3d987174f3d8c48f7fec4bb93ad": {
          "model_module": "@jupyter-widgets/controls",
          "model_name": "HTMLModel",
          "state": {
            "_view_name": "HTMLView",
            "style": "IPY_MODEL_2611fa0a3f97433ab60cac01906b966b",
            "_dom_classes": [],
            "description": "",
            "_model_name": "HTMLModel",
            "placeholder": "​",
            "_view_module": "@jupyter-widgets/controls",
            "_model_module_version": "1.5.0",
            "value": " 15/15 [09:48&lt;00:00, 39.25s/it]",
            "_view_count": null,
            "_view_module_version": "1.5.0",
            "description_tooltip": null,
            "_model_module": "@jupyter-widgets/controls",
            "layout": "IPY_MODEL_a2abc1481fac450c9c7979c3708dd7cd"
          }
        },
        "4a181bb4d685433ab7066760a351f0da": {
          "model_module": "@jupyter-widgets/controls",
          "model_name": "ProgressStyleModel",
          "state": {
            "_view_name": "StyleView",
            "_model_name": "ProgressStyleModel",
            "description_width": "initial",
            "_view_module": "@jupyter-widgets/base",
            "_model_module_version": "1.5.0",
            "_view_count": null,
            "_view_module_version": "1.2.0",
            "bar_color": null,
            "_model_module": "@jupyter-widgets/controls"
          }
        },
        "4028e1ee91dc4d878f5d0185acda7716": {
          "model_module": "@jupyter-widgets/base",
          "model_name": "LayoutModel",
          "state": {
            "_view_name": "LayoutView",
            "grid_template_rows": null,
            "right": null,
            "justify_content": null,
            "_view_module": "@jupyter-widgets/base",
            "overflow": null,
            "_model_module_version": "1.2.0",
            "_view_count": null,
            "flex_flow": null,
            "width": null,
            "min_width": null,
            "border": null,
            "align_items": null,
            "bottom": null,
            "_model_module": "@jupyter-widgets/base",
            "top": null,
            "grid_column": null,
            "overflow_y": null,
            "overflow_x": null,
            "grid_auto_flow": null,
            "grid_area": null,
            "grid_template_columns": null,
            "flex": null,
            "_model_name": "LayoutModel",
            "justify_items": null,
            "grid_row": null,
            "max_height": null,
            "align_content": null,
            "visibility": null,
            "align_self": null,
            "height": null,
            "min_height": null,
            "padding": null,
            "grid_auto_rows": null,
            "grid_gap": null,
            "max_width": null,
            "order": null,
            "_view_module_version": "1.2.0",
            "grid_template_areas": null,
            "object_position": null,
            "object_fit": null,
            "grid_auto_columns": null,
            "margin": null,
            "display": null,
            "left": null
          }
        },
        "2611fa0a3f97433ab60cac01906b966b": {
          "model_module": "@jupyter-widgets/controls",
          "model_name": "DescriptionStyleModel",
          "state": {
            "_view_name": "StyleView",
            "_model_name": "DescriptionStyleModel",
            "description_width": "",
            "_view_module": "@jupyter-widgets/base",
            "_model_module_version": "1.5.0",
            "_view_count": null,
            "_view_module_version": "1.2.0",
            "_model_module": "@jupyter-widgets/controls"
          }
        },
        "a2abc1481fac450c9c7979c3708dd7cd": {
          "model_module": "@jupyter-widgets/base",
          "model_name": "LayoutModel",
          "state": {
            "_view_name": "LayoutView",
            "grid_template_rows": null,
            "right": null,
            "justify_content": null,
            "_view_module": "@jupyter-widgets/base",
            "overflow": null,
            "_model_module_version": "1.2.0",
            "_view_count": null,
            "flex_flow": null,
            "width": null,
            "min_width": null,
            "border": null,
            "align_items": null,
            "bottom": null,
            "_model_module": "@jupyter-widgets/base",
            "top": null,
            "grid_column": null,
            "overflow_y": null,
            "overflow_x": null,
            "grid_auto_flow": null,
            "grid_area": null,
            "grid_template_columns": null,
            "flex": null,
            "_model_name": "LayoutModel",
            "justify_items": null,
            "grid_row": null,
            "max_height": null,
            "align_content": null,
            "visibility": null,
            "align_self": null,
            "height": null,
            "min_height": null,
            "padding": null,
            "grid_auto_rows": null,
            "grid_gap": null,
            "max_width": null,
            "order": null,
            "_view_module_version": "1.2.0",
            "grid_template_areas": null,
            "object_position": null,
            "object_fit": null,
            "grid_auto_columns": null,
            "margin": null,
            "display": null,
            "left": null
          }
        }
      }
    }
  },
  "cells": [
    {
      "cell_type": "code",
      "metadata": {
        "id": "ClkZPhQGl1SX",
        "outputId": "c0eab658-e7ae-4355-8bdd-ae6e14e74b7e",
        "colab": {
          "base_uri": "https://localhost:8080/"
        }
      },
      "source": [
        "! pip install implicit"
      ],
      "execution_count": 1,
      "outputs": [
        {
          "output_type": "stream",
          "text": [
            "Collecting implicit\n",
            "\u001b[?25l  Downloading https://files.pythonhosted.org/packages/bc/07/c0121884722d16e2c5beeb815f6b84b41cbf22e738e4075f1475be2791bc/implicit-0.4.4.tar.gz (1.1MB)\n",
            "\u001b[K     |████████████████████████████████| 1.1MB 7.4MB/s \n",
            "\u001b[?25hRequirement already satisfied: numpy in /usr/local/lib/python3.6/dist-packages (from implicit) (1.19.5)\n",
            "Requirement already satisfied: scipy>=0.16 in /usr/local/lib/python3.6/dist-packages (from implicit) (1.4.1)\n",
            "Requirement already satisfied: tqdm>=4.27 in /usr/local/lib/python3.6/dist-packages (from implicit) (4.41.1)\n",
            "Building wheels for collected packages: implicit\n",
            "  Building wheel for implicit (setup.py) ... \u001b[?25l\u001b[?25hdone\n",
            "  Created wheel for implicit: filename=implicit-0.4.4-cp36-cp36m-linux_x86_64.whl size=3419485 sha256=0deeaaa5cf884679ebf617cf80939f4f0fed0404eda32e34d864be7c0e752076\n",
            "  Stored in directory: /root/.cache/pip/wheels/bf/d4/ec/fd4f622fcbefb7521f149905295b2c26adecb23af38aa28217\n",
            "Successfully built implicit\n",
            "Installing collected packages: implicit\n",
            "Successfully installed implicit-0.4.4\n"
          ],
          "name": "stdout"
        }
      ]
    },
    {
      "cell_type": "code",
      "metadata": {
        "colab": {
          "base_uri": "https://localhost:8080/",
          "height": 521
        },
        "id": "3zBrpw19rjyJ",
        "outputId": "e8a13dd3-59ce-4ab6-ca0a-85fde7a84cd4"
      },
      "source": [
        "import pandas as pd\n",
        "import os\n",
        "\n",
        "fname = '/content/drive/MyDrive/DL_Study/AIFFEL/recommend/lastfm-dataset-360K/usersha1-artmbid-artname-plays.tsv'\n",
        "col_names = ['user_id', 'artist_MBID', 'artist', 'play']   # 임의로 지정한 컬럼명\n",
        "data = pd.read_csv(fname, sep='\\t', names= col_names)      # sep='\\t'로 주어야 tsv를 열 수 있습니다.  \n",
        "data.head(10)"
      ],
      "execution_count": 2,
      "outputs": [
        {
          "output_type": "execute_result",
          "data": {
            "text/html": [
              "<div>\n",
              "<style scoped>\n",
              "    .dataframe tbody tr th:only-of-type {\n",
              "        vertical-align: middle;\n",
              "    }\n",
              "\n",
              "    .dataframe tbody tr th {\n",
              "        vertical-align: top;\n",
              "    }\n",
              "\n",
              "    .dataframe thead th {\n",
              "        text-align: right;\n",
              "    }\n",
              "</style>\n",
              "<table border=\"1\" class=\"dataframe\">\n",
              "  <thead>\n",
              "    <tr style=\"text-align: right;\">\n",
              "      <th></th>\n",
              "      <th>user_id</th>\n",
              "      <th>artist_MBID</th>\n",
              "      <th>artist</th>\n",
              "      <th>play</th>\n",
              "    </tr>\n",
              "  </thead>\n",
              "  <tbody>\n",
              "    <tr>\n",
              "      <th>0</th>\n",
              "      <td>00000c289a1829a808ac09c00daf10bc3c4e223b</td>\n",
              "      <td>3bd73256-3905-4f3a-97e2-8b341527f805</td>\n",
              "      <td>betty blowtorch</td>\n",
              "      <td>2137</td>\n",
              "    </tr>\n",
              "    <tr>\n",
              "      <th>1</th>\n",
              "      <td>00000c289a1829a808ac09c00daf10bc3c4e223b</td>\n",
              "      <td>f2fb0ff0-5679-42ec-a55c-15109ce6e320</td>\n",
              "      <td>die Ärzte</td>\n",
              "      <td>1099</td>\n",
              "    </tr>\n",
              "    <tr>\n",
              "      <th>2</th>\n",
              "      <td>00000c289a1829a808ac09c00daf10bc3c4e223b</td>\n",
              "      <td>b3ae82c2-e60b-4551-a76d-6620f1b456aa</td>\n",
              "      <td>melissa etheridge</td>\n",
              "      <td>897</td>\n",
              "    </tr>\n",
              "    <tr>\n",
              "      <th>3</th>\n",
              "      <td>00000c289a1829a808ac09c00daf10bc3c4e223b</td>\n",
              "      <td>3d6bbeb7-f90e-4d10-b440-e153c0d10b53</td>\n",
              "      <td>elvenking</td>\n",
              "      <td>717</td>\n",
              "    </tr>\n",
              "    <tr>\n",
              "      <th>4</th>\n",
              "      <td>00000c289a1829a808ac09c00daf10bc3c4e223b</td>\n",
              "      <td>bbd2ffd7-17f4-4506-8572-c1ea58c3f9a8</td>\n",
              "      <td>juliette &amp; the licks</td>\n",
              "      <td>706</td>\n",
              "    </tr>\n",
              "    <tr>\n",
              "      <th>5</th>\n",
              "      <td>00000c289a1829a808ac09c00daf10bc3c4e223b</td>\n",
              "      <td>8bfac288-ccc5-448d-9573-c33ea2aa5c30</td>\n",
              "      <td>red hot chili peppers</td>\n",
              "      <td>691</td>\n",
              "    </tr>\n",
              "    <tr>\n",
              "      <th>6</th>\n",
              "      <td>00000c289a1829a808ac09c00daf10bc3c4e223b</td>\n",
              "      <td>6531c8b1-76ea-4141-b270-eb1ac5b41375</td>\n",
              "      <td>magica</td>\n",
              "      <td>545</td>\n",
              "    </tr>\n",
              "    <tr>\n",
              "      <th>7</th>\n",
              "      <td>00000c289a1829a808ac09c00daf10bc3c4e223b</td>\n",
              "      <td>21f3573f-10cf-44b3-aeaa-26cccd8448b5</td>\n",
              "      <td>the black dahlia murder</td>\n",
              "      <td>507</td>\n",
              "    </tr>\n",
              "    <tr>\n",
              "      <th>8</th>\n",
              "      <td>00000c289a1829a808ac09c00daf10bc3c4e223b</td>\n",
              "      <td>c5db90c4-580d-4f33-b364-fbaa5a3a58b5</td>\n",
              "      <td>the murmurs</td>\n",
              "      <td>424</td>\n",
              "    </tr>\n",
              "    <tr>\n",
              "      <th>9</th>\n",
              "      <td>00000c289a1829a808ac09c00daf10bc3c4e223b</td>\n",
              "      <td>0639533a-0402-40ba-b6e0-18b067198b73</td>\n",
              "      <td>lunachicks</td>\n",
              "      <td>403</td>\n",
              "    </tr>\n",
              "  </tbody>\n",
              "</table>\n",
              "</div>"
            ],
            "text/plain": [
              "                                    user_id  ...  play\n",
              "0  00000c289a1829a808ac09c00daf10bc3c4e223b  ...  2137\n",
              "1  00000c289a1829a808ac09c00daf10bc3c4e223b  ...  1099\n",
              "2  00000c289a1829a808ac09c00daf10bc3c4e223b  ...   897\n",
              "3  00000c289a1829a808ac09c00daf10bc3c4e223b  ...   717\n",
              "4  00000c289a1829a808ac09c00daf10bc3c4e223b  ...   706\n",
              "5  00000c289a1829a808ac09c00daf10bc3c4e223b  ...   691\n",
              "6  00000c289a1829a808ac09c00daf10bc3c4e223b  ...   545\n",
              "7  00000c289a1829a808ac09c00daf10bc3c4e223b  ...   507\n",
              "8  00000c289a1829a808ac09c00daf10bc3c4e223b  ...   424\n",
              "9  00000c289a1829a808ac09c00daf10bc3c4e223b  ...   403\n",
              "\n",
              "[10 rows x 4 columns]"
            ]
          },
          "metadata": {
            "tags": []
          },
          "execution_count": 2
        }
      ]
    },
    {
      "cell_type": "code",
      "metadata": {
        "colab": {
          "base_uri": "https://localhost:8080/",
          "height": 348
        },
        "id": "IFDkgLNTsfXA",
        "outputId": "c4492111-9795-48ff-d059-0ce95feb634b"
      },
      "source": [
        "# artist_MBID 항목은 우리의 관심사가 아닙니다. 사용하는 컬럼만 남기고 제거\n",
        "using_cols = ['user_id', 'artist', 'play']\n",
        "data = data[using_cols]\n",
        "data.head(10)"
      ],
      "execution_count": 3,
      "outputs": [
        {
          "output_type": "execute_result",
          "data": {
            "text/html": [
              "<div>\n",
              "<style scoped>\n",
              "    .dataframe tbody tr th:only-of-type {\n",
              "        vertical-align: middle;\n",
              "    }\n",
              "\n",
              "    .dataframe tbody tr th {\n",
              "        vertical-align: top;\n",
              "    }\n",
              "\n",
              "    .dataframe thead th {\n",
              "        text-align: right;\n",
              "    }\n",
              "</style>\n",
              "<table border=\"1\" class=\"dataframe\">\n",
              "  <thead>\n",
              "    <tr style=\"text-align: right;\">\n",
              "      <th></th>\n",
              "      <th>user_id</th>\n",
              "      <th>artist</th>\n",
              "      <th>play</th>\n",
              "    </tr>\n",
              "  </thead>\n",
              "  <tbody>\n",
              "    <tr>\n",
              "      <th>0</th>\n",
              "      <td>00000c289a1829a808ac09c00daf10bc3c4e223b</td>\n",
              "      <td>betty blowtorch</td>\n",
              "      <td>2137</td>\n",
              "    </tr>\n",
              "    <tr>\n",
              "      <th>1</th>\n",
              "      <td>00000c289a1829a808ac09c00daf10bc3c4e223b</td>\n",
              "      <td>die Ärzte</td>\n",
              "      <td>1099</td>\n",
              "    </tr>\n",
              "    <tr>\n",
              "      <th>2</th>\n",
              "      <td>00000c289a1829a808ac09c00daf10bc3c4e223b</td>\n",
              "      <td>melissa etheridge</td>\n",
              "      <td>897</td>\n",
              "    </tr>\n",
              "    <tr>\n",
              "      <th>3</th>\n",
              "      <td>00000c289a1829a808ac09c00daf10bc3c4e223b</td>\n",
              "      <td>elvenking</td>\n",
              "      <td>717</td>\n",
              "    </tr>\n",
              "    <tr>\n",
              "      <th>4</th>\n",
              "      <td>00000c289a1829a808ac09c00daf10bc3c4e223b</td>\n",
              "      <td>juliette &amp; the licks</td>\n",
              "      <td>706</td>\n",
              "    </tr>\n",
              "    <tr>\n",
              "      <th>5</th>\n",
              "      <td>00000c289a1829a808ac09c00daf10bc3c4e223b</td>\n",
              "      <td>red hot chili peppers</td>\n",
              "      <td>691</td>\n",
              "    </tr>\n",
              "    <tr>\n",
              "      <th>6</th>\n",
              "      <td>00000c289a1829a808ac09c00daf10bc3c4e223b</td>\n",
              "      <td>magica</td>\n",
              "      <td>545</td>\n",
              "    </tr>\n",
              "    <tr>\n",
              "      <th>7</th>\n",
              "      <td>00000c289a1829a808ac09c00daf10bc3c4e223b</td>\n",
              "      <td>the black dahlia murder</td>\n",
              "      <td>507</td>\n",
              "    </tr>\n",
              "    <tr>\n",
              "      <th>8</th>\n",
              "      <td>00000c289a1829a808ac09c00daf10bc3c4e223b</td>\n",
              "      <td>the murmurs</td>\n",
              "      <td>424</td>\n",
              "    </tr>\n",
              "    <tr>\n",
              "      <th>9</th>\n",
              "      <td>00000c289a1829a808ac09c00daf10bc3c4e223b</td>\n",
              "      <td>lunachicks</td>\n",
              "      <td>403</td>\n",
              "    </tr>\n",
              "  </tbody>\n",
              "</table>\n",
              "</div>"
            ],
            "text/plain": [
              "                                    user_id                   artist  play\n",
              "0  00000c289a1829a808ac09c00daf10bc3c4e223b          betty blowtorch  2137\n",
              "1  00000c289a1829a808ac09c00daf10bc3c4e223b                die Ärzte  1099\n",
              "2  00000c289a1829a808ac09c00daf10bc3c4e223b        melissa etheridge   897\n",
              "3  00000c289a1829a808ac09c00daf10bc3c4e223b                elvenking   717\n",
              "4  00000c289a1829a808ac09c00daf10bc3c4e223b     juliette & the licks   706\n",
              "5  00000c289a1829a808ac09c00daf10bc3c4e223b    red hot chili peppers   691\n",
              "6  00000c289a1829a808ac09c00daf10bc3c4e223b                   magica   545\n",
              "7  00000c289a1829a808ac09c00daf10bc3c4e223b  the black dahlia murder   507\n",
              "8  00000c289a1829a808ac09c00daf10bc3c4e223b              the murmurs   424\n",
              "9  00000c289a1829a808ac09c00daf10bc3c4e223b               lunachicks   403"
            ]
          },
          "metadata": {
            "tags": []
          },
          "execution_count": 3
        }
      ]
    },
    {
      "cell_type": "code",
      "metadata": {
        "id": "9mm7cwBcsz_y",
        "outputId": "63953d87-45c1-47d4-9f60-6c60ee3742ef",
        "colab": {
          "base_uri": "https://localhost:8080/",
          "height": 348
        }
      },
      "source": [
        "data['artist'] = data['artist'].str.lower() # 검색을 쉽게하기 위해 아티스트 문자열을 소문자로 바꿔줍시다.\n",
        "data.head(10)"
      ],
      "execution_count": 4,
      "outputs": [
        {
          "output_type": "execute_result",
          "data": {
            "text/html": [
              "<div>\n",
              "<style scoped>\n",
              "    .dataframe tbody tr th:only-of-type {\n",
              "        vertical-align: middle;\n",
              "    }\n",
              "\n",
              "    .dataframe tbody tr th {\n",
              "        vertical-align: top;\n",
              "    }\n",
              "\n",
              "    .dataframe thead th {\n",
              "        text-align: right;\n",
              "    }\n",
              "</style>\n",
              "<table border=\"1\" class=\"dataframe\">\n",
              "  <thead>\n",
              "    <tr style=\"text-align: right;\">\n",
              "      <th></th>\n",
              "      <th>user_id</th>\n",
              "      <th>artist</th>\n",
              "      <th>play</th>\n",
              "    </tr>\n",
              "  </thead>\n",
              "  <tbody>\n",
              "    <tr>\n",
              "      <th>0</th>\n",
              "      <td>00000c289a1829a808ac09c00daf10bc3c4e223b</td>\n",
              "      <td>betty blowtorch</td>\n",
              "      <td>2137</td>\n",
              "    </tr>\n",
              "    <tr>\n",
              "      <th>1</th>\n",
              "      <td>00000c289a1829a808ac09c00daf10bc3c4e223b</td>\n",
              "      <td>die ärzte</td>\n",
              "      <td>1099</td>\n",
              "    </tr>\n",
              "    <tr>\n",
              "      <th>2</th>\n",
              "      <td>00000c289a1829a808ac09c00daf10bc3c4e223b</td>\n",
              "      <td>melissa etheridge</td>\n",
              "      <td>897</td>\n",
              "    </tr>\n",
              "    <tr>\n",
              "      <th>3</th>\n",
              "      <td>00000c289a1829a808ac09c00daf10bc3c4e223b</td>\n",
              "      <td>elvenking</td>\n",
              "      <td>717</td>\n",
              "    </tr>\n",
              "    <tr>\n",
              "      <th>4</th>\n",
              "      <td>00000c289a1829a808ac09c00daf10bc3c4e223b</td>\n",
              "      <td>juliette &amp; the licks</td>\n",
              "      <td>706</td>\n",
              "    </tr>\n",
              "    <tr>\n",
              "      <th>5</th>\n",
              "      <td>00000c289a1829a808ac09c00daf10bc3c4e223b</td>\n",
              "      <td>red hot chili peppers</td>\n",
              "      <td>691</td>\n",
              "    </tr>\n",
              "    <tr>\n",
              "      <th>6</th>\n",
              "      <td>00000c289a1829a808ac09c00daf10bc3c4e223b</td>\n",
              "      <td>magica</td>\n",
              "      <td>545</td>\n",
              "    </tr>\n",
              "    <tr>\n",
              "      <th>7</th>\n",
              "      <td>00000c289a1829a808ac09c00daf10bc3c4e223b</td>\n",
              "      <td>the black dahlia murder</td>\n",
              "      <td>507</td>\n",
              "    </tr>\n",
              "    <tr>\n",
              "      <th>8</th>\n",
              "      <td>00000c289a1829a808ac09c00daf10bc3c4e223b</td>\n",
              "      <td>the murmurs</td>\n",
              "      <td>424</td>\n",
              "    </tr>\n",
              "    <tr>\n",
              "      <th>9</th>\n",
              "      <td>00000c289a1829a808ac09c00daf10bc3c4e223b</td>\n",
              "      <td>lunachicks</td>\n",
              "      <td>403</td>\n",
              "    </tr>\n",
              "  </tbody>\n",
              "</table>\n",
              "</div>"
            ],
            "text/plain": [
              "                                    user_id                   artist  play\n",
              "0  00000c289a1829a808ac09c00daf10bc3c4e223b          betty blowtorch  2137\n",
              "1  00000c289a1829a808ac09c00daf10bc3c4e223b                die ärzte  1099\n",
              "2  00000c289a1829a808ac09c00daf10bc3c4e223b        melissa etheridge   897\n",
              "3  00000c289a1829a808ac09c00daf10bc3c4e223b                elvenking   717\n",
              "4  00000c289a1829a808ac09c00daf10bc3c4e223b     juliette & the licks   706\n",
              "5  00000c289a1829a808ac09c00daf10bc3c4e223b    red hot chili peppers   691\n",
              "6  00000c289a1829a808ac09c00daf10bc3c4e223b                   magica   545\n",
              "7  00000c289a1829a808ac09c00daf10bc3c4e223b  the black dahlia murder   507\n",
              "8  00000c289a1829a808ac09c00daf10bc3c4e223b              the murmurs   424\n",
              "9  00000c289a1829a808ac09c00daf10bc3c4e223b               lunachicks   403"
            ]
          },
          "metadata": {
            "tags": []
          },
          "execution_count": 4
        }
      ]
    },
    {
      "cell_type": "code",
      "metadata": {
        "id": "mtuAEU3Ss-Vy",
        "outputId": "5a7ed824-fd04-45ca-b779-2f4d48b1dbee",
        "colab": {
          "base_uri": "https://localhost:8080/",
          "height": 1000
        }
      },
      "source": [
        "# 첫 번째 유저가 어떤 아티스트의 노래를 듣는지 확인해 봅시다.\n",
        "condition = (data['user_id']== data.loc[0, 'user_id'])\n",
        "data.loc[condition]"
      ],
      "execution_count": 5,
      "outputs": [
        {
          "output_type": "execute_result",
          "data": {
            "text/html": [
              "<div>\n",
              "<style scoped>\n",
              "    .dataframe tbody tr th:only-of-type {\n",
              "        vertical-align: middle;\n",
              "    }\n",
              "\n",
              "    .dataframe tbody tr th {\n",
              "        vertical-align: top;\n",
              "    }\n",
              "\n",
              "    .dataframe thead th {\n",
              "        text-align: right;\n",
              "    }\n",
              "</style>\n",
              "<table border=\"1\" class=\"dataframe\">\n",
              "  <thead>\n",
              "    <tr style=\"text-align: right;\">\n",
              "      <th></th>\n",
              "      <th>user_id</th>\n",
              "      <th>artist</th>\n",
              "      <th>play</th>\n",
              "    </tr>\n",
              "  </thead>\n",
              "  <tbody>\n",
              "    <tr>\n",
              "      <th>0</th>\n",
              "      <td>00000c289a1829a808ac09c00daf10bc3c4e223b</td>\n",
              "      <td>betty blowtorch</td>\n",
              "      <td>2137</td>\n",
              "    </tr>\n",
              "    <tr>\n",
              "      <th>1</th>\n",
              "      <td>00000c289a1829a808ac09c00daf10bc3c4e223b</td>\n",
              "      <td>die ärzte</td>\n",
              "      <td>1099</td>\n",
              "    </tr>\n",
              "    <tr>\n",
              "      <th>2</th>\n",
              "      <td>00000c289a1829a808ac09c00daf10bc3c4e223b</td>\n",
              "      <td>melissa etheridge</td>\n",
              "      <td>897</td>\n",
              "    </tr>\n",
              "    <tr>\n",
              "      <th>3</th>\n",
              "      <td>00000c289a1829a808ac09c00daf10bc3c4e223b</td>\n",
              "      <td>elvenking</td>\n",
              "      <td>717</td>\n",
              "    </tr>\n",
              "    <tr>\n",
              "      <th>4</th>\n",
              "      <td>00000c289a1829a808ac09c00daf10bc3c4e223b</td>\n",
              "      <td>juliette &amp; the licks</td>\n",
              "      <td>706</td>\n",
              "    </tr>\n",
              "    <tr>\n",
              "      <th>5</th>\n",
              "      <td>00000c289a1829a808ac09c00daf10bc3c4e223b</td>\n",
              "      <td>red hot chili peppers</td>\n",
              "      <td>691</td>\n",
              "    </tr>\n",
              "    <tr>\n",
              "      <th>6</th>\n",
              "      <td>00000c289a1829a808ac09c00daf10bc3c4e223b</td>\n",
              "      <td>magica</td>\n",
              "      <td>545</td>\n",
              "    </tr>\n",
              "    <tr>\n",
              "      <th>7</th>\n",
              "      <td>00000c289a1829a808ac09c00daf10bc3c4e223b</td>\n",
              "      <td>the black dahlia murder</td>\n",
              "      <td>507</td>\n",
              "    </tr>\n",
              "    <tr>\n",
              "      <th>8</th>\n",
              "      <td>00000c289a1829a808ac09c00daf10bc3c4e223b</td>\n",
              "      <td>the murmurs</td>\n",
              "      <td>424</td>\n",
              "    </tr>\n",
              "    <tr>\n",
              "      <th>9</th>\n",
              "      <td>00000c289a1829a808ac09c00daf10bc3c4e223b</td>\n",
              "      <td>lunachicks</td>\n",
              "      <td>403</td>\n",
              "    </tr>\n",
              "    <tr>\n",
              "      <th>10</th>\n",
              "      <td>00000c289a1829a808ac09c00daf10bc3c4e223b</td>\n",
              "      <td>walls of jericho</td>\n",
              "      <td>393</td>\n",
              "    </tr>\n",
              "    <tr>\n",
              "      <th>11</th>\n",
              "      <td>00000c289a1829a808ac09c00daf10bc3c4e223b</td>\n",
              "      <td>letzte instanz</td>\n",
              "      <td>387</td>\n",
              "    </tr>\n",
              "    <tr>\n",
              "      <th>12</th>\n",
              "      <td>00000c289a1829a808ac09c00daf10bc3c4e223b</td>\n",
              "      <td>goldfrapp</td>\n",
              "      <td>361</td>\n",
              "    </tr>\n",
              "    <tr>\n",
              "      <th>13</th>\n",
              "      <td>00000c289a1829a808ac09c00daf10bc3c4e223b</td>\n",
              "      <td>horrorpops</td>\n",
              "      <td>358</td>\n",
              "    </tr>\n",
              "    <tr>\n",
              "      <th>14</th>\n",
              "      <td>00000c289a1829a808ac09c00daf10bc3c4e223b</td>\n",
              "      <td>the butchies</td>\n",
              "      <td>329</td>\n",
              "    </tr>\n",
              "    <tr>\n",
              "      <th>15</th>\n",
              "      <td>00000c289a1829a808ac09c00daf10bc3c4e223b</td>\n",
              "      <td>jack off jill</td>\n",
              "      <td>316</td>\n",
              "    </tr>\n",
              "    <tr>\n",
              "      <th>16</th>\n",
              "      <td>00000c289a1829a808ac09c00daf10bc3c4e223b</td>\n",
              "      <td>babes in toyland</td>\n",
              "      <td>310</td>\n",
              "    </tr>\n",
              "    <tr>\n",
              "      <th>17</th>\n",
              "      <td>00000c289a1829a808ac09c00daf10bc3c4e223b</td>\n",
              "      <td>dropkick murphys</td>\n",
              "      <td>302</td>\n",
              "    </tr>\n",
              "    <tr>\n",
              "      <th>18</th>\n",
              "      <td>00000c289a1829a808ac09c00daf10bc3c4e223b</td>\n",
              "      <td>all:my:faults</td>\n",
              "      <td>288</td>\n",
              "    </tr>\n",
              "    <tr>\n",
              "      <th>19</th>\n",
              "      <td>00000c289a1829a808ac09c00daf10bc3c4e223b</td>\n",
              "      <td>le tigre</td>\n",
              "      <td>281</td>\n",
              "    </tr>\n",
              "    <tr>\n",
              "      <th>20</th>\n",
              "      <td>00000c289a1829a808ac09c00daf10bc3c4e223b</td>\n",
              "      <td>schandmaul</td>\n",
              "      <td>244</td>\n",
              "    </tr>\n",
              "    <tr>\n",
              "      <th>21</th>\n",
              "      <td>00000c289a1829a808ac09c00daf10bc3c4e223b</td>\n",
              "      <td>edguy</td>\n",
              "      <td>232</td>\n",
              "    </tr>\n",
              "    <tr>\n",
              "      <th>22</th>\n",
              "      <td>00000c289a1829a808ac09c00daf10bc3c4e223b</td>\n",
              "      <td>maximum the hormone</td>\n",
              "      <td>231</td>\n",
              "    </tr>\n",
              "    <tr>\n",
              "      <th>23</th>\n",
              "      <td>00000c289a1829a808ac09c00daf10bc3c4e223b</td>\n",
              "      <td>all ends</td>\n",
              "      <td>229</td>\n",
              "    </tr>\n",
              "    <tr>\n",
              "      <th>24</th>\n",
              "      <td>00000c289a1829a808ac09c00daf10bc3c4e223b</td>\n",
              "      <td>jack johnson</td>\n",
              "      <td>227</td>\n",
              "    </tr>\n",
              "    <tr>\n",
              "      <th>25</th>\n",
              "      <td>00000c289a1829a808ac09c00daf10bc3c4e223b</td>\n",
              "      <td>eluveitie</td>\n",
              "      <td>222</td>\n",
              "    </tr>\n",
              "    <tr>\n",
              "      <th>26</th>\n",
              "      <td>00000c289a1829a808ac09c00daf10bc3c4e223b</td>\n",
              "      <td>rasputina</td>\n",
              "      <td>220</td>\n",
              "    </tr>\n",
              "    <tr>\n",
              "      <th>27</th>\n",
              "      <td>00000c289a1829a808ac09c00daf10bc3c4e223b</td>\n",
              "      <td>london after midnight</td>\n",
              "      <td>210</td>\n",
              "    </tr>\n",
              "    <tr>\n",
              "      <th>28</th>\n",
              "      <td>00000c289a1829a808ac09c00daf10bc3c4e223b</td>\n",
              "      <td>the killers</td>\n",
              "      <td>208</td>\n",
              "    </tr>\n",
              "    <tr>\n",
              "      <th>29</th>\n",
              "      <td>00000c289a1829a808ac09c00daf10bc3c4e223b</td>\n",
              "      <td>mutyumu</td>\n",
              "      <td>205</td>\n",
              "    </tr>\n",
              "    <tr>\n",
              "      <th>30</th>\n",
              "      <td>00000c289a1829a808ac09c00daf10bc3c4e223b</td>\n",
              "      <td>judas priest</td>\n",
              "      <td>198</td>\n",
              "    </tr>\n",
              "    <tr>\n",
              "      <th>31</th>\n",
              "      <td>00000c289a1829a808ac09c00daf10bc3c4e223b</td>\n",
              "      <td>rob zombie</td>\n",
              "      <td>198</td>\n",
              "    </tr>\n",
              "    <tr>\n",
              "      <th>32</th>\n",
              "      <td>00000c289a1829a808ac09c00daf10bc3c4e223b</td>\n",
              "      <td>the bosshoss</td>\n",
              "      <td>189</td>\n",
              "    </tr>\n",
              "    <tr>\n",
              "      <th>33</th>\n",
              "      <td>00000c289a1829a808ac09c00daf10bc3c4e223b</td>\n",
              "      <td>blue öyster cult</td>\n",
              "      <td>185</td>\n",
              "    </tr>\n",
              "    <tr>\n",
              "      <th>34</th>\n",
              "      <td>00000c289a1829a808ac09c00daf10bc3c4e223b</td>\n",
              "      <td>sandra nasic</td>\n",
              "      <td>183</td>\n",
              "    </tr>\n",
              "    <tr>\n",
              "      <th>35</th>\n",
              "      <td>00000c289a1829a808ac09c00daf10bc3c4e223b</td>\n",
              "      <td>john mayer</td>\n",
              "      <td>182</td>\n",
              "    </tr>\n",
              "    <tr>\n",
              "      <th>36</th>\n",
              "      <td>00000c289a1829a808ac09c00daf10bc3c4e223b</td>\n",
              "      <td>sleater-kinney</td>\n",
              "      <td>175</td>\n",
              "    </tr>\n",
              "    <tr>\n",
              "      <th>37</th>\n",
              "      <td>00000c289a1829a808ac09c00daf10bc3c4e223b</td>\n",
              "      <td>the who</td>\n",
              "      <td>168</td>\n",
              "    </tr>\n",
              "    <tr>\n",
              "      <th>38</th>\n",
              "      <td>00000c289a1829a808ac09c00daf10bc3c4e223b</td>\n",
              "      <td>disciple</td>\n",
              "      <td>154</td>\n",
              "    </tr>\n",
              "    <tr>\n",
              "      <th>39</th>\n",
              "      <td>00000c289a1829a808ac09c00daf10bc3c4e223b</td>\n",
              "      <td>tanzwut</td>\n",
              "      <td>153</td>\n",
              "    </tr>\n",
              "    <tr>\n",
              "      <th>40</th>\n",
              "      <td>00000c289a1829a808ac09c00daf10bc3c4e223b</td>\n",
              "      <td>guano apes</td>\n",
              "      <td>151</td>\n",
              "    </tr>\n",
              "    <tr>\n",
              "      <th>41</th>\n",
              "      <td>00000c289a1829a808ac09c00daf10bc3c4e223b</td>\n",
              "      <td>the rolling stones</td>\n",
              "      <td>150</td>\n",
              "    </tr>\n",
              "    <tr>\n",
              "      <th>42</th>\n",
              "      <td>00000c289a1829a808ac09c00daf10bc3c4e223b</td>\n",
              "      <td>little big town</td>\n",
              "      <td>145</td>\n",
              "    </tr>\n",
              "    <tr>\n",
              "      <th>43</th>\n",
              "      <td>00000c289a1829a808ac09c00daf10bc3c4e223b</td>\n",
              "      <td>team dresch</td>\n",
              "      <td>137</td>\n",
              "    </tr>\n",
              "    <tr>\n",
              "      <th>44</th>\n",
              "      <td>00000c289a1829a808ac09c00daf10bc3c4e223b</td>\n",
              "      <td>betty</td>\n",
              "      <td>135</td>\n",
              "    </tr>\n",
              "    <tr>\n",
              "      <th>45</th>\n",
              "      <td>00000c289a1829a808ac09c00daf10bc3c4e223b</td>\n",
              "      <td>l7</td>\n",
              "      <td>135</td>\n",
              "    </tr>\n",
              "    <tr>\n",
              "      <th>46</th>\n",
              "      <td>00000c289a1829a808ac09c00daf10bc3c4e223b</td>\n",
              "      <td>bif naked</td>\n",
              "      <td>134</td>\n",
              "    </tr>\n",
              "    <tr>\n",
              "      <th>47</th>\n",
              "      <td>00000c289a1829a808ac09c00daf10bc3c4e223b</td>\n",
              "      <td>girlschool</td>\n",
              "      <td>134</td>\n",
              "    </tr>\n",
              "    <tr>\n",
              "      <th>48</th>\n",
              "      <td>00000c289a1829a808ac09c00daf10bc3c4e223b</td>\n",
              "      <td>the wallflowers</td>\n",
              "      <td>131</td>\n",
              "    </tr>\n",
              "  </tbody>\n",
              "</table>\n",
              "</div>"
            ],
            "text/plain": [
              "                                     user_id                   artist  play\n",
              "0   00000c289a1829a808ac09c00daf10bc3c4e223b          betty blowtorch  2137\n",
              "1   00000c289a1829a808ac09c00daf10bc3c4e223b                die ärzte  1099\n",
              "2   00000c289a1829a808ac09c00daf10bc3c4e223b        melissa etheridge   897\n",
              "3   00000c289a1829a808ac09c00daf10bc3c4e223b                elvenking   717\n",
              "4   00000c289a1829a808ac09c00daf10bc3c4e223b     juliette & the licks   706\n",
              "5   00000c289a1829a808ac09c00daf10bc3c4e223b    red hot chili peppers   691\n",
              "6   00000c289a1829a808ac09c00daf10bc3c4e223b                   magica   545\n",
              "7   00000c289a1829a808ac09c00daf10bc3c4e223b  the black dahlia murder   507\n",
              "8   00000c289a1829a808ac09c00daf10bc3c4e223b              the murmurs   424\n",
              "9   00000c289a1829a808ac09c00daf10bc3c4e223b               lunachicks   403\n",
              "10  00000c289a1829a808ac09c00daf10bc3c4e223b         walls of jericho   393\n",
              "11  00000c289a1829a808ac09c00daf10bc3c4e223b           letzte instanz   387\n",
              "12  00000c289a1829a808ac09c00daf10bc3c4e223b                goldfrapp   361\n",
              "13  00000c289a1829a808ac09c00daf10bc3c4e223b               horrorpops   358\n",
              "14  00000c289a1829a808ac09c00daf10bc3c4e223b             the butchies   329\n",
              "15  00000c289a1829a808ac09c00daf10bc3c4e223b            jack off jill   316\n",
              "16  00000c289a1829a808ac09c00daf10bc3c4e223b         babes in toyland   310\n",
              "17  00000c289a1829a808ac09c00daf10bc3c4e223b         dropkick murphys   302\n",
              "18  00000c289a1829a808ac09c00daf10bc3c4e223b            all:my:faults   288\n",
              "19  00000c289a1829a808ac09c00daf10bc3c4e223b                 le tigre   281\n",
              "20  00000c289a1829a808ac09c00daf10bc3c4e223b               schandmaul   244\n",
              "21  00000c289a1829a808ac09c00daf10bc3c4e223b                    edguy   232\n",
              "22  00000c289a1829a808ac09c00daf10bc3c4e223b      maximum the hormone   231\n",
              "23  00000c289a1829a808ac09c00daf10bc3c4e223b                 all ends   229\n",
              "24  00000c289a1829a808ac09c00daf10bc3c4e223b             jack johnson   227\n",
              "25  00000c289a1829a808ac09c00daf10bc3c4e223b                eluveitie   222\n",
              "26  00000c289a1829a808ac09c00daf10bc3c4e223b                rasputina   220\n",
              "27  00000c289a1829a808ac09c00daf10bc3c4e223b    london after midnight   210\n",
              "28  00000c289a1829a808ac09c00daf10bc3c4e223b              the killers   208\n",
              "29  00000c289a1829a808ac09c00daf10bc3c4e223b                  mutyumu   205\n",
              "30  00000c289a1829a808ac09c00daf10bc3c4e223b             judas priest   198\n",
              "31  00000c289a1829a808ac09c00daf10bc3c4e223b               rob zombie   198\n",
              "32  00000c289a1829a808ac09c00daf10bc3c4e223b             the bosshoss   189\n",
              "33  00000c289a1829a808ac09c00daf10bc3c4e223b         blue öyster cult   185\n",
              "34  00000c289a1829a808ac09c00daf10bc3c4e223b             sandra nasic   183\n",
              "35  00000c289a1829a808ac09c00daf10bc3c4e223b               john mayer   182\n",
              "36  00000c289a1829a808ac09c00daf10bc3c4e223b           sleater-kinney   175\n",
              "37  00000c289a1829a808ac09c00daf10bc3c4e223b                  the who   168\n",
              "38  00000c289a1829a808ac09c00daf10bc3c4e223b                 disciple   154\n",
              "39  00000c289a1829a808ac09c00daf10bc3c4e223b                  tanzwut   153\n",
              "40  00000c289a1829a808ac09c00daf10bc3c4e223b               guano apes   151\n",
              "41  00000c289a1829a808ac09c00daf10bc3c4e223b       the rolling stones   150\n",
              "42  00000c289a1829a808ac09c00daf10bc3c4e223b          little big town   145\n",
              "43  00000c289a1829a808ac09c00daf10bc3c4e223b              team dresch   137\n",
              "44  00000c289a1829a808ac09c00daf10bc3c4e223b                    betty   135\n",
              "45  00000c289a1829a808ac09c00daf10bc3c4e223b                       l7   135\n",
              "46  00000c289a1829a808ac09c00daf10bc3c4e223b                bif naked   134\n",
              "47  00000c289a1829a808ac09c00daf10bc3c4e223b               girlschool   134\n",
              "48  00000c289a1829a808ac09c00daf10bc3c4e223b          the wallflowers   131"
            ]
          },
          "metadata": {
            "tags": []
          },
          "execution_count": 5
        }
      ]
    },
    {
      "cell_type": "code",
      "metadata": {
        "id": "yUBEdcXRUQro",
        "outputId": "ef35490b-7b1b-47af-8c84-341ab6c4eb4e",
        "colab": {
          "base_uri": "https://localhost:8080/"
        }
      },
      "source": [
        "# pandas.DataFrame.nunique()은 특정 컬럼에 포함된 유니크한 데이터의 개수를 알아보는데 유용합니다.\n",
        "data['user_id'].nunique()"
      ],
      "execution_count": 6,
      "outputs": [
        {
          "output_type": "execute_result",
          "data": {
            "text/plain": [
              "358868"
            ]
          },
          "metadata": {
            "tags": []
          },
          "execution_count": 6
        }
      ]
    },
    {
      "cell_type": "code",
      "metadata": {
        "id": "GLn84R22UdWU",
        "outputId": "5ced7008-3de0-4d64-c731-3fe58134191f",
        "colab": {
          "base_uri": "https://localhost:8080/"
        }
      },
      "source": [
        "# 아티스트 수\n",
        "data['artist'].nunique()"
      ],
      "execution_count": 7,
      "outputs": [
        {
          "output_type": "execute_result",
          "data": {
            "text/plain": [
              "291346"
            ]
          },
          "metadata": {
            "tags": []
          },
          "execution_count": 7
        }
      ]
    },
    {
      "cell_type": "code",
      "metadata": {
        "id": "sSNNpl6xUjKo",
        "outputId": "a653f43f-8169-47db-e9af-5f3e186e6c82",
        "colab": {
          "base_uri": "https://localhost:8080/"
        }
      },
      "source": [
        "# 인기 많은 아티스트\n",
        "artist_count = data.groupby('artist')['user_id'].count()\n",
        "artist_count.sort_values(ascending=False).head(30)\n",
        "\n",
        "data.groupby('artist')['user_id']"
      ],
      "execution_count": 8,
      "outputs": [
        {
          "output_type": "execute_result",
          "data": {
            "text/plain": [
              "<pandas.core.groupby.generic.SeriesGroupBy object at 0x7f41adf208d0>"
            ]
          },
          "metadata": {
            "tags": []
          },
          "execution_count": 8
        }
      ]
    },
    {
      "cell_type": "code",
      "metadata": {
        "id": "pp3l79ebVDZK",
        "outputId": "bd25d1aa-2342-4c38-f8c9-8ab0197e735a",
        "colab": {
          "base_uri": "https://localhost:8080/"
        }
      },
      "source": [
        "# 유저별 몇 명의 아티스트를 듣고 있는지에 대한 통계\n",
        "user_count = data.groupby('user_id')['artist'].count()\n",
        "user_count.describe()"
      ],
      "execution_count": 9,
      "outputs": [
        {
          "output_type": "execute_result",
          "data": {
            "text/plain": [
              "count    358868.000000\n",
              "mean         48.863234\n",
              "std           8.524272\n",
              "min           1.000000\n",
              "25%          46.000000\n",
              "50%          49.000000\n",
              "75%          51.000000\n",
              "max         166.000000\n",
              "Name: artist, dtype: float64"
            ]
          },
          "metadata": {
            "tags": []
          },
          "execution_count": 9
        }
      ]
    },
    {
      "cell_type": "code",
      "metadata": {
        "id": "UtIuG165VEID",
        "outputId": "b40a346a-9a02-42b5-bfa8-0f01dd76ec1b",
        "colab": {
          "base_uri": "https://localhost:8080/",
          "height": 348
        }
      },
      "source": [
        "# 본인이 좋아하시는 아티스트 데이터로 바꿔서 추가하셔도 됩니다! 단, 이름은 꼭 데이터셋에 있는 것과 동일하게 맞춰주세요. \n",
        "my_favorite = ['black eyed peas' , 'maroon5' ,'jason mraz' ,'coldplay' ,'beyoncé']\n",
        "\n",
        "# 'zimin'이라는 user_id가 위 아티스트의 노래를 30회씩 들었다고 가정하겠습니다.\n",
        "my_playlist = pd.DataFrame({'user_id': ['zimin']*5, 'artist': my_favorite, 'play':[30]*5})\n",
        "\n",
        "if not data.isin({'user_id':['zimin']})['user_id'].any():  # user_id에 'zimin'이라는 데이터가 없다면\n",
        "    data = data.append(my_playlist)                           # 위에 임의로 만든 my_favorite 데이터를 추가해 줍니다. \n",
        "\n",
        "data.tail(10)       # 잘 추가되었는지 확인해 봅시다."
      ],
      "execution_count": 10,
      "outputs": [
        {
          "output_type": "execute_result",
          "data": {
            "text/html": [
              "<div>\n",
              "<style scoped>\n",
              "    .dataframe tbody tr th:only-of-type {\n",
              "        vertical-align: middle;\n",
              "    }\n",
              "\n",
              "    .dataframe tbody tr th {\n",
              "        vertical-align: top;\n",
              "    }\n",
              "\n",
              "    .dataframe thead th {\n",
              "        text-align: right;\n",
              "    }\n",
              "</style>\n",
              "<table border=\"1\" class=\"dataframe\">\n",
              "  <thead>\n",
              "    <tr style=\"text-align: right;\">\n",
              "      <th></th>\n",
              "      <th>user_id</th>\n",
              "      <th>artist</th>\n",
              "      <th>play</th>\n",
              "    </tr>\n",
              "  </thead>\n",
              "  <tbody>\n",
              "    <tr>\n",
              "      <th>17535650</th>\n",
              "      <td>sep 20, 2008</td>\n",
              "      <td>turbostaat</td>\n",
              "      <td>12</td>\n",
              "    </tr>\n",
              "    <tr>\n",
              "      <th>17535651</th>\n",
              "      <td>sep 20, 2008</td>\n",
              "      <td>cuba missouri</td>\n",
              "      <td>11</td>\n",
              "    </tr>\n",
              "    <tr>\n",
              "      <th>17535652</th>\n",
              "      <td>sep 20, 2008</td>\n",
              "      <td>little man tate</td>\n",
              "      <td>11</td>\n",
              "    </tr>\n",
              "    <tr>\n",
              "      <th>17535653</th>\n",
              "      <td>sep 20, 2008</td>\n",
              "      <td>sigur rós</td>\n",
              "      <td>10</td>\n",
              "    </tr>\n",
              "    <tr>\n",
              "      <th>17535654</th>\n",
              "      <td>sep 20, 2008</td>\n",
              "      <td>the smiths</td>\n",
              "      <td>10</td>\n",
              "    </tr>\n",
              "    <tr>\n",
              "      <th>0</th>\n",
              "      <td>zimin</td>\n",
              "      <td>black eyed peas</td>\n",
              "      <td>30</td>\n",
              "    </tr>\n",
              "    <tr>\n",
              "      <th>1</th>\n",
              "      <td>zimin</td>\n",
              "      <td>maroon5</td>\n",
              "      <td>30</td>\n",
              "    </tr>\n",
              "    <tr>\n",
              "      <th>2</th>\n",
              "      <td>zimin</td>\n",
              "      <td>jason mraz</td>\n",
              "      <td>30</td>\n",
              "    </tr>\n",
              "    <tr>\n",
              "      <th>3</th>\n",
              "      <td>zimin</td>\n",
              "      <td>coldplay</td>\n",
              "      <td>30</td>\n",
              "    </tr>\n",
              "    <tr>\n",
              "      <th>4</th>\n",
              "      <td>zimin</td>\n",
              "      <td>beyoncé</td>\n",
              "      <td>30</td>\n",
              "    </tr>\n",
              "  </tbody>\n",
              "</table>\n",
              "</div>"
            ],
            "text/plain": [
              "               user_id           artist  play\n",
              "17535650  sep 20, 2008       turbostaat    12\n",
              "17535651  sep 20, 2008    cuba missouri    11\n",
              "17535652  sep 20, 2008  little man tate    11\n",
              "17535653  sep 20, 2008        sigur rós    10\n",
              "17535654  sep 20, 2008       the smiths    10\n",
              "0                zimin  black eyed peas    30\n",
              "1                zimin          maroon5    30\n",
              "2                zimin       jason mraz    30\n",
              "3                zimin         coldplay    30\n",
              "4                zimin          beyoncé    30"
            ]
          },
          "metadata": {
            "tags": []
          },
          "execution_count": 10
        }
      ]
    },
    {
      "cell_type": "code",
      "metadata": {
        "id": "V_NeVyh9VLa6"
      },
      "source": [
        "# 고유한 유저, 아티스트를 찾아내는 코드\n",
        "user_unique = data['user_id'].unique()\n",
        "artist_unique = data['artist'].unique()\n",
        "\n",
        "# 유저, 아티스트 indexing 하는 코드 idx는 index의 약자입니다.\n",
        "user_to_idx = {v:k for k,v in enumerate(user_unique)}\n",
        "artist_to_idx = {v:k for k,v in enumerate(artist_unique)}"
      ],
      "execution_count": 11,
      "outputs": []
    },
    {
      "cell_type": "code",
      "metadata": {
        "id": "W209m7zmVQOK",
        "outputId": "ce9d23cf-5d81-4543-9179-dc0b0e86dd55",
        "colab": {
          "base_uri": "https://localhost:8080/"
        }
      },
      "source": [
        "# 인덱싱이 잘 되었는지 확인해 봅니다. \n",
        "print(user_to_idx['zimin'])    # 358869명의 유저 중 마지막으로 추가된 유저이니 358868이 나와야 합니다. \n",
        "print(artist_to_idx['black eyed peas'])"
      ],
      "execution_count": 12,
      "outputs": [
        {
          "output_type": "stream",
          "text": [
            "358868\n",
            "376\n"
          ],
          "name": "stdout"
        }
      ]
    },
    {
      "cell_type": "code",
      "metadata": {
        "id": "rerQhoBfVUER",
        "outputId": "1228335a-4e7b-408e-d1ff-c82acd452a39",
        "colab": {
          "base_uri": "https://localhost:8080/",
          "height": 444
        }
      },
      "source": [
        "# indexing을 통해 데이터 컬럼 내 값을 바꾸는 코드\n",
        "# dictionary 자료형의 get 함수는 https://wikidocs.net/16 을 참고하세요.\n",
        "\n",
        "# user_to_idx.get을 통해 user_id 컬럼의 모든 값을 인덱싱한 Series를 구해 봅시다. \n",
        "# 혹시 정상적으로 인덱싱되지 않은 row가 있다면 인덱스가 NaN이 될 테니 dropna()로 제거합니다. \n",
        "temp_user_data = data['user_id'].map(user_to_idx.get).dropna()\n",
        "if len(temp_user_data) == len(data):   # 모든 row가 정상적으로 인덱싱되었다면\n",
        "    print('user_id column indexing OK!!')\n",
        "    data['user_id'] = temp_user_data   # data['user_id']을 인덱싱된 Series로 교체해 줍니다. \n",
        "else:\n",
        "    print('user_id column indexing Fail!!')\n",
        "\n",
        "# artist_to_idx을 통해 artist 컬럼도 동일한 방식으로 인덱싱해 줍니다. \n",
        "temp_artist_data = data['artist'].map(artist_to_idx.get).dropna()\n",
        "if len(temp_artist_data) == len(data):\n",
        "    print('artist column indexing OK!!')\n",
        "    data['artist'] = temp_artist_data\n",
        "else:\n",
        "    print('artist column indexing Fail!!')\n",
        "\n",
        "data"
      ],
      "execution_count": 13,
      "outputs": [
        {
          "output_type": "stream",
          "text": [
            "user_id column indexing OK!!\n",
            "artist column indexing OK!!\n"
          ],
          "name": "stdout"
        },
        {
          "output_type": "execute_result",
          "data": {
            "text/html": [
              "<div>\n",
              "<style scoped>\n",
              "    .dataframe tbody tr th:only-of-type {\n",
              "        vertical-align: middle;\n",
              "    }\n",
              "\n",
              "    .dataframe tbody tr th {\n",
              "        vertical-align: top;\n",
              "    }\n",
              "\n",
              "    .dataframe thead th {\n",
              "        text-align: right;\n",
              "    }\n",
              "</style>\n",
              "<table border=\"1\" class=\"dataframe\">\n",
              "  <thead>\n",
              "    <tr style=\"text-align: right;\">\n",
              "      <th></th>\n",
              "      <th>user_id</th>\n",
              "      <th>artist</th>\n",
              "      <th>play</th>\n",
              "    </tr>\n",
              "  </thead>\n",
              "  <tbody>\n",
              "    <tr>\n",
              "      <th>0</th>\n",
              "      <td>0</td>\n",
              "      <td>0</td>\n",
              "      <td>2137</td>\n",
              "    </tr>\n",
              "    <tr>\n",
              "      <th>1</th>\n",
              "      <td>0</td>\n",
              "      <td>1</td>\n",
              "      <td>1099</td>\n",
              "    </tr>\n",
              "    <tr>\n",
              "      <th>2</th>\n",
              "      <td>0</td>\n",
              "      <td>2</td>\n",
              "      <td>897</td>\n",
              "    </tr>\n",
              "    <tr>\n",
              "      <th>3</th>\n",
              "      <td>0</td>\n",
              "      <td>3</td>\n",
              "      <td>717</td>\n",
              "    </tr>\n",
              "    <tr>\n",
              "      <th>4</th>\n",
              "      <td>0</td>\n",
              "      <td>4</td>\n",
              "      <td>706</td>\n",
              "    </tr>\n",
              "    <tr>\n",
              "      <th>...</th>\n",
              "      <td>...</td>\n",
              "      <td>...</td>\n",
              "      <td>...</td>\n",
              "    </tr>\n",
              "    <tr>\n",
              "      <th>0</th>\n",
              "      <td>358868</td>\n",
              "      <td>376</td>\n",
              "      <td>30</td>\n",
              "    </tr>\n",
              "    <tr>\n",
              "      <th>1</th>\n",
              "      <td>358868</td>\n",
              "      <td>270115</td>\n",
              "      <td>30</td>\n",
              "    </tr>\n",
              "    <tr>\n",
              "      <th>2</th>\n",
              "      <td>358868</td>\n",
              "      <td>3746</td>\n",
              "      <td>30</td>\n",
              "    </tr>\n",
              "    <tr>\n",
              "      <th>3</th>\n",
              "      <td>358868</td>\n",
              "      <td>62</td>\n",
              "      <td>30</td>\n",
              "    </tr>\n",
              "    <tr>\n",
              "      <th>4</th>\n",
              "      <td>358868</td>\n",
              "      <td>396</td>\n",
              "      <td>30</td>\n",
              "    </tr>\n",
              "  </tbody>\n",
              "</table>\n",
              "<p>17535660 rows × 3 columns</p>\n",
              "</div>"
            ],
            "text/plain": [
              "    user_id  artist  play\n",
              "0         0       0  2137\n",
              "1         0       1  1099\n",
              "2         0       2   897\n",
              "3         0       3   717\n",
              "4         0       4   706\n",
              "..      ...     ...   ...\n",
              "0    358868     376    30\n",
              "1    358868  270115    30\n",
              "2    358868    3746    30\n",
              "3    358868      62    30\n",
              "4    358868     396    30\n",
              "\n",
              "[17535660 rows x 3 columns]"
            ]
          },
          "metadata": {
            "tags": []
          },
          "execution_count": 13
        }
      ]
    },
    {
      "cell_type": "code",
      "metadata": {
        "id": "5OwuTgFfVZsS",
        "outputId": "98b13990-f580-4f69-cf61-ccef59470fe0",
        "colab": {
          "base_uri": "https://localhost:8080/"
        }
      },
      "source": [
        "# 1회만 play한 데이터의 비율을 보는 코드\n",
        "only_one = data[data['play']<2]\n",
        "one, all_data = len(only_one), len(data)\n",
        "print(f'{one},{all_data}')\n",
        "print(f'Ratio of only_one over all data is {one/all_data:.2%}')  # f-format에 대한 설명은 https://bit.ly/2DTLqYU"
      ],
      "execution_count": 14,
      "outputs": [
        {
          "output_type": "stream",
          "text": [
            "147740,17535660\n",
            "Ratio of only_one over all data is 0.84%\n"
          ],
          "name": "stdout"
        }
      ]
    },
    {
      "cell_type": "code",
      "metadata": {
        "id": "KLL3OlhoWIox"
      },
      "source": [
        "from implicit.als import AlternatingLeastSquares\n",
        "import os\n",
        "import numpy as np\n",
        "\n",
        "# implicit 라이브러리에서 권장하고 있는 부분입니다. 학습 내용과는 무관합니다.\n",
        "os.environ['OPENBLAS_NUM_THREADS']='1'\n",
        "os.environ['KMP_DUPLICATE_LIB_OK']='True'\n",
        "os.environ['MKL_NUM_THREADS']='1'"
      ],
      "execution_count": 15,
      "outputs": []
    },
    {
      "cell_type": "code",
      "metadata": {
        "id": "YBejhMTLx0M3"
      },
      "source": [
        "# 실습 위에 설명보고 이해해서 만들어보기\n",
        "from scipy.sparse import csr_matrix\n",
        "\n",
        "num_user = data['user_id'].nunique()\n",
        "num_artist = data['artist'].nunique()\n",
        "\n",
        "csr_data = csr_matrix((data.play, (data.user_id, data.artist)), shape= (num_user, num_artist))\n"
      ],
      "execution_count": 19,
      "outputs": []
    },
    {
      "cell_type": "code",
      "metadata": {
        "id": "aCvsuFNklzSG"
      },
      "source": [
        "# Implicit AlternatingLeastSquares 모델의 선언\n",
        "als_model = AlternatingLeastSquares(factors=100, regularization=0.01, use_gpu=False, iterations=15, dtype=np.float32)"
      ],
      "execution_count": 20,
      "outputs": []
    },
    {
      "cell_type": "code",
      "metadata": {
        "id": "uaWFRotZmklR",
        "outputId": "2b1074df-dda7-4c74-fcdb-477d3207474e",
        "colab": {
          "base_uri": "https://localhost:8080/"
        }
      },
      "source": [
        "# als 모델은 input으로 (item X user 꼴의 matrix를 받기 때문에 Transpose해줍니다.)\n",
        "csr_data_transpose = csr_data.T\n",
        "csr_data_transpose"
      ],
      "execution_count": 21,
      "outputs": [
        {
          "output_type": "execute_result",
          "data": {
            "text/plain": [
              "<291347x358869 sparse matrix of type '<class 'numpy.longlong'>'\n",
              "\twith 17535578 stored elements in Compressed Sparse Column format>"
            ]
          },
          "metadata": {
            "tags": []
          },
          "execution_count": 21
        }
      ]
    },
    {
      "cell_type": "code",
      "metadata": {
        "id": "V_pgZy99xNjO",
        "outputId": "7d712a4c-8514-44f4-9022-894dbbc62c90",
        "colab": {
          "base_uri": "https://localhost:8080/",
          "height": 67,
          "referenced_widgets": [
            "76bdbcd49ea54cbfa3b4ba73e751a526",
            "f9c8f35578b34205af1f7d61c7e2a8b6",
            "733e552410914416b64c7c3f3be8b1ee",
            "65c4b3d987174f3d8c48f7fec4bb93ad",
            "4a181bb4d685433ab7066760a351f0da",
            "4028e1ee91dc4d878f5d0185acda7716",
            "2611fa0a3f97433ab60cac01906b966b",
            "a2abc1481fac450c9c7979c3708dd7cd"
          ]
        }
      },
      "source": [
        "# 모델 훈련\n",
        "als_model.fit(csr_data_transpose)"
      ],
      "execution_count": 22,
      "outputs": [
        {
          "output_type": "display_data",
          "data": {
            "application/vnd.jupyter.widget-view+json": {
              "model_id": "76bdbcd49ea54cbfa3b4ba73e751a526",
              "version_minor": 0,
              "version_major": 2
            },
            "text/plain": [
              "HBox(children=(FloatProgress(value=0.0, max=15.0), HTML(value='')))"
            ]
          },
          "metadata": {
            "tags": []
          }
        },
        {
          "output_type": "stream",
          "text": [
            "\n"
          ],
          "name": "stdout"
        }
      ]
    },
    {
      "cell_type": "code",
      "metadata": {
        "id": "dFqI6otDxmrX",
        "outputId": "6fadbb42-4c72-4591-da0b-367aa557ea08",
        "colab": {
          "base_uri": "https://localhost:8080/"
        }
      },
      "source": [
        "zimin, black_eyed_peas = user_to_idx['zimin'], artist_to_idx['black eyed peas']\n",
        "zimin_vector, black_eyed_peas_vector = als_model.user_factors[zimin], als_model.item_factors[black_eyed_peas]\n",
        "\n",
        "# zimin과 black_eyed_peas를 내적하는 코드\n",
        "np.dot(zimin_vector, black_eyed_peas_vector)"
      ],
      "execution_count": 23,
      "outputs": [
        {
          "output_type": "execute_result",
          "data": {
            "text/plain": [
              "0.5275212"
            ]
          },
          "metadata": {
            "tags": []
          },
          "execution_count": 23
        }
      ]
    },
    {
      "cell_type": "code",
      "metadata": {
        "id": "HwoRIM3L0QBg",
        "outputId": "dfa71c76-aed4-41f0-d856-c8ddea0a712b",
        "colab": {
          "base_uri": "https://localhost:8080/"
        }
      },
      "source": [
        "queen = artist_to_idx['queen']\n",
        "queen_vector = als_model.item_factors[queen]\n",
        "np.dot(zimin_vector, queen_vector)"
      ],
      "execution_count": 25,
      "outputs": [
        {
          "output_type": "execute_result",
          "data": {
            "text/plain": [
              "0.30065924"
            ]
          },
          "metadata": {
            "tags": []
          },
          "execution_count": 25
        }
      ]
    },
    {
      "cell_type": "code",
      "metadata": {
        "id": "w3EPXE041Hse",
        "outputId": "0948e768-9a18-4fa8-9f87-65de5389d8a6",
        "colab": {
          "base_uri": "https://localhost:8080/"
        }
      },
      "source": [
        "# AlternatingLeastSquares 클래스에 구현되어 있는 similar_items 메서드를 통하여 \n",
        "# 비슷한 아티스트를 찾습니다. \n",
        "# 처음으로는 제가 좋아하는 coldplay로 찾아보겠습니다.\n",
        "\n",
        "favorite_artist = 'coldplay'\n",
        "artist_id = artist_to_idx[favorite_artist]\n",
        "similar_artist = als_model.similar_items(artist_id, N=15)\n",
        "similar_artist"
      ],
      "execution_count": 26,
      "outputs": [
        {
          "output_type": "execute_result",
          "data": {
            "text/plain": [
              "[(62, 0.99999976),\n",
              " (277, 0.98408645),\n",
              " (28, 0.9781666),\n",
              " (5, 0.97601146),\n",
              " (217, 0.9706168),\n",
              " (490, 0.9697547),\n",
              " (473, 0.9673665),\n",
              " (418, 0.95975786),\n",
              " (247, 0.9583989),\n",
              " (694, 0.9496475),\n",
              " (910, 0.94795734),\n",
              " (268, 0.94217235),\n",
              " (1018, 0.9389202),\n",
              " (782, 0.9375971),\n",
              " (55, 0.93692905)]"
            ]
          },
          "metadata": {
            "tags": []
          },
          "execution_count": 26
        }
      ]
    },
    {
      "cell_type": "code",
      "metadata": {
        "id": "qdqClFKJ1saW",
        "outputId": "91f82d99-2c9e-408c-c29a-13537be2e169",
        "colab": {
          "base_uri": "https://localhost:8080/"
        }
      },
      "source": [
        "# (아티스트의 id, 유사도) Tuple 로 반환하고 있습니다.\n",
        "# 아티스트의 id를 다시 아티스트의 이름으로 매핑 시켜 주겠습니다.\n",
        "#artist_to_idx 를 뒤집어, index로부터 artist 이름을 얻는 dict를 생성합니다. \n",
        "idx_to_artist = {v:k for k,v in artist_to_idx.items()}\n",
        "[idx_to_artist[i[0]] for i in similar_artist]\n",
        "\n",
        "def get_similar_artist(artist_name: str):\n",
        "    artist_id = artist_to_idx[artist_name]\n",
        "    similar_artist = als_model.similar_items(artist_id)\n",
        "    similar_artist = [idx_to_artist[i[0]] for i in similar_artist]\n",
        "    return similar_artist\n",
        "\n",
        "get_similar_artist('2pac')\n"
      ],
      "execution_count": 27,
      "outputs": [
        {
          "output_type": "execute_result",
          "data": {
            "text/plain": [
              "['2pac',\n",
              " 'notorious b.i.g.',\n",
              " 'dr. dre',\n",
              " 'snoop dogg',\n",
              " 'nas',\n",
              " 'the game',\n",
              " '50 cent',\n",
              " 'ice cube',\n",
              " 'jay-z',\n",
              " 'busta rhymes']"
            ]
          },
          "metadata": {
            "tags": []
          },
          "execution_count": 27
        }
      ]
    },
    {
      "cell_type": "code",
      "metadata": {
        "id": "Msyhgymr2FzS",
        "outputId": "d0e4b05e-69e3-481c-9a90-ed725702043b",
        "colab": {
          "base_uri": "https://localhost:8080/"
        }
      },
      "source": [
        "user = user_to_idx['zimin']\n",
        "# recommend에서는 user*item CSR Matrix를 받습니다.\n",
        "artist_recommended = als_model.recommend(user, csr_data, N=20, filter_already_liked_items=True)\n",
        "artist_recommended"
      ],
      "execution_count": 28,
      "outputs": [
        {
          "output_type": "execute_result",
          "data": {
            "text/plain": [
              "[(369, 0.47248477),\n",
              " (350, 0.46806347),\n",
              " (550, 0.4558288),\n",
              " (627, 0.43399757),\n",
              " (1800, 0.41558665),\n",
              " (274, 0.40648118),\n",
              " (391, 0.40439257),\n",
              " (564, 0.40049052),\n",
              " (354, 0.39648786),\n",
              " (621, 0.39363998),\n",
              " (355, 0.39358717),\n",
              " (2249, 0.38971922),\n",
              " (901, 0.38928327),\n",
              " (2902, 0.386734),\n",
              " (409, 0.38448048),\n",
              " (5555, 0.37771738),\n",
              " (24, 0.37703863),\n",
              " (618, 0.3747177),\n",
              " (382, 0.36766094),\n",
              " (1777, 0.36563963)]"
            ]
          },
          "metadata": {
            "tags": []
          },
          "execution_count": 28
        }
      ]
    },
    {
      "cell_type": "code",
      "metadata": {
        "id": "g0XgIUOq2N7P",
        "outputId": "1254d7ea-a5b5-4cf4-ea3b-5e1389f33f61",
        "colab": {
          "base_uri": "https://localhost:8080/"
        }
      },
      "source": [
        "[idx_to_artist[i[0]] for i in artist_recommended]"
      ],
      "execution_count": 29,
      "outputs": [
        {
          "output_type": "execute_result",
          "data": {
            "text/plain": [
              "['justin timberlake',\n",
              " 'rihanna',\n",
              " 'britney spears',\n",
              " 'maroon 5',\n",
              " 'lady gaga',\n",
              " 'michael jackson',\n",
              " 'christina aguilera',\n",
              " 'kanye west',\n",
              " 'nelly furtado',\n",
              " 'alicia keys',\n",
              " 'madonna',\n",
              " 'katy perry',\n",
              " 'pink',\n",
              " 'james blunt',\n",
              " 'amy winehouse',\n",
              " 'timbaland',\n",
              " 'jack johnson',\n",
              " 'the pussycat dolls',\n",
              " 'mika',\n",
              " 'mariah carey']"
            ]
          },
          "metadata": {
            "tags": []
          },
          "execution_count": 29
        }
      ]
    },
    {
      "cell_type": "code",
      "metadata": {
        "id": "OWhInLKY2QYx"
      },
      "source": [
        "rihanna = artist_to_idx['rihanna']\n",
        "explain = als_model.explain(user, csr_data, itemid=rihanna)"
      ],
      "execution_count": 30,
      "outputs": []
    },
    {
      "cell_type": "code",
      "metadata": {
        "id": "pBupjepw2Ung",
        "outputId": "6181472a-9378-4ba9-87dd-982bf2d0dbc0",
        "colab": {
          "base_uri": "https://localhost:8080/"
        }
      },
      "source": [
        "# 이 method는 추천한 콘텐츠의 점수에 기여한 다른 콘텐츠와 기여도(합이 콘텐츠의 점수가 됩니다.)\n",
        "# 반환합니다. 어떤 아티스트들이 이 추천에 얼마나 기여하고 있는 걸까요?\n",
        "[(idx_to_artist[i[0]], i[1]) for i in explain[1]]"
      ],
      "execution_count": 31,
      "outputs": [
        {
          "output_type": "execute_result",
          "data": {
            "text/plain": [
              "[('beyoncé', 0.2143578483328394),\n",
              " ('black eyed peas', 0.14813890085671372),\n",
              " ('jason mraz', 0.06631624637272274),\n",
              " ('coldplay', 0.040252853751375446),\n",
              " ('maroon5', 0.0006147261758755972)]"
            ]
          },
          "metadata": {
            "tags": []
          },
          "execution_count": 31
        }
      ]
    },
    {
      "cell_type": "code",
      "metadata": {
        "id": "Pw9XTRXl2YRm"
      },
      "source": [
        ""
      ],
      "execution_count": null,
      "outputs": []
    }
  ]
}