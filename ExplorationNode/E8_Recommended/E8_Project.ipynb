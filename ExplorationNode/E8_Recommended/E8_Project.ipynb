{
  "nbformat": 4,
  "nbformat_minor": 0,
  "metadata": {
    "colab": {
      "name": "E8_Project.ipynb",
      "provenance": []
    },
    "kernelspec": {
      "name": "python3",
      "display_name": "Python 3"
    },
    "accelerator": "GPU",
    "widgets": {
      "application/vnd.jupyter.widget-state+json": {
        "1e6b4c5b2e5b4fd9ab40113b0a130c4e": {
          "model_module": "@jupyter-widgets/controls",
          "model_name": "HBoxModel",
          "state": {
            "_view_name": "HBoxView",
            "_dom_classes": [],
            "_model_name": "HBoxModel",
            "_view_module": "@jupyter-widgets/controls",
            "_model_module_version": "1.5.0",
            "_view_count": null,
            "_view_module_version": "1.5.0",
            "box_style": "",
            "layout": "IPY_MODEL_6db68b3781d14bf6bc4b73e1d5444785",
            "_model_module": "@jupyter-widgets/controls",
            "children": [
              "IPY_MODEL_2628e4fb7e9b4eb180332a087768425a",
              "IPY_MODEL_fd1126a018d4489d8a090f2104e6c8f4"
            ]
          }
        },
        "6db68b3781d14bf6bc4b73e1d5444785": {
          "model_module": "@jupyter-widgets/base",
          "model_name": "LayoutModel",
          "state": {
            "_view_name": "LayoutView",
            "grid_template_rows": null,
            "right": null,
            "justify_content": null,
            "_view_module": "@jupyter-widgets/base",
            "overflow": null,
            "_model_module_version": "1.2.0",
            "_view_count": null,
            "flex_flow": null,
            "width": null,
            "min_width": null,
            "border": null,
            "align_items": null,
            "bottom": null,
            "_model_module": "@jupyter-widgets/base",
            "top": null,
            "grid_column": null,
            "overflow_y": null,
            "overflow_x": null,
            "grid_auto_flow": null,
            "grid_area": null,
            "grid_template_columns": null,
            "flex": null,
            "_model_name": "LayoutModel",
            "justify_items": null,
            "grid_row": null,
            "max_height": null,
            "align_content": null,
            "visibility": null,
            "align_self": null,
            "height": null,
            "min_height": null,
            "padding": null,
            "grid_auto_rows": null,
            "grid_gap": null,
            "max_width": null,
            "order": null,
            "_view_module_version": "1.2.0",
            "grid_template_areas": null,
            "object_position": null,
            "object_fit": null,
            "grid_auto_columns": null,
            "margin": null,
            "display": null,
            "left": null
          }
        },
        "2628e4fb7e9b4eb180332a087768425a": {
          "model_module": "@jupyter-widgets/controls",
          "model_name": "FloatProgressModel",
          "state": {
            "_view_name": "ProgressView",
            "style": "IPY_MODEL_821dc7c69f5d4c30b14ec25b7798e743",
            "_dom_classes": [],
            "description": "100%",
            "_model_name": "FloatProgressModel",
            "bar_style": "success",
            "max": 15,
            "_view_module": "@jupyter-widgets/controls",
            "_model_module_version": "1.5.0",
            "value": 15,
            "_view_count": null,
            "_view_module_version": "1.5.0",
            "orientation": "horizontal",
            "min": 0,
            "description_tooltip": null,
            "_model_module": "@jupyter-widgets/controls",
            "layout": "IPY_MODEL_a438c26310304e968cadb0e2ca3a2d7c"
          }
        },
        "fd1126a018d4489d8a090f2104e6c8f4": {
          "model_module": "@jupyter-widgets/controls",
          "model_name": "HTMLModel",
          "state": {
            "_view_name": "HTMLView",
            "style": "IPY_MODEL_59e8c26cfdad42b48cb106623d3ba216",
            "_dom_classes": [],
            "description": "",
            "_model_name": "HTMLModel",
            "placeholder": "​",
            "_view_module": "@jupyter-widgets/controls",
            "_model_module_version": "1.5.0",
            "value": " 15/15 [00:43&lt;00:00,  2.92s/it]",
            "_view_count": null,
            "_view_module_version": "1.5.0",
            "description_tooltip": null,
            "_model_module": "@jupyter-widgets/controls",
            "layout": "IPY_MODEL_d958f7b1961b403296837028e589b086"
          }
        },
        "821dc7c69f5d4c30b14ec25b7798e743": {
          "model_module": "@jupyter-widgets/controls",
          "model_name": "ProgressStyleModel",
          "state": {
            "_view_name": "StyleView",
            "_model_name": "ProgressStyleModel",
            "description_width": "initial",
            "_view_module": "@jupyter-widgets/base",
            "_model_module_version": "1.5.0",
            "_view_count": null,
            "_view_module_version": "1.2.0",
            "bar_color": null,
            "_model_module": "@jupyter-widgets/controls"
          }
        },
        "a438c26310304e968cadb0e2ca3a2d7c": {
          "model_module": "@jupyter-widgets/base",
          "model_name": "LayoutModel",
          "state": {
            "_view_name": "LayoutView",
            "grid_template_rows": null,
            "right": null,
            "justify_content": null,
            "_view_module": "@jupyter-widgets/base",
            "overflow": null,
            "_model_module_version": "1.2.0",
            "_view_count": null,
            "flex_flow": null,
            "width": null,
            "min_width": null,
            "border": null,
            "align_items": null,
            "bottom": null,
            "_model_module": "@jupyter-widgets/base",
            "top": null,
            "grid_column": null,
            "overflow_y": null,
            "overflow_x": null,
            "grid_auto_flow": null,
            "grid_area": null,
            "grid_template_columns": null,
            "flex": null,
            "_model_name": "LayoutModel",
            "justify_items": null,
            "grid_row": null,
            "max_height": null,
            "align_content": null,
            "visibility": null,
            "align_self": null,
            "height": null,
            "min_height": null,
            "padding": null,
            "grid_auto_rows": null,
            "grid_gap": null,
            "max_width": null,
            "order": null,
            "_view_module_version": "1.2.0",
            "grid_template_areas": null,
            "object_position": null,
            "object_fit": null,
            "grid_auto_columns": null,
            "margin": null,
            "display": null,
            "left": null
          }
        },
        "59e8c26cfdad42b48cb106623d3ba216": {
          "model_module": "@jupyter-widgets/controls",
          "model_name": "DescriptionStyleModel",
          "state": {
            "_view_name": "StyleView",
            "_model_name": "DescriptionStyleModel",
            "description_width": "",
            "_view_module": "@jupyter-widgets/base",
            "_model_module_version": "1.5.0",
            "_view_count": null,
            "_view_module_version": "1.2.0",
            "_model_module": "@jupyter-widgets/controls"
          }
        },
        "d958f7b1961b403296837028e589b086": {
          "model_module": "@jupyter-widgets/base",
          "model_name": "LayoutModel",
          "state": {
            "_view_name": "LayoutView",
            "grid_template_rows": null,
            "right": null,
            "justify_content": null,
            "_view_module": "@jupyter-widgets/base",
            "overflow": null,
            "_model_module_version": "1.2.0",
            "_view_count": null,
            "flex_flow": null,
            "width": null,
            "min_width": null,
            "border": null,
            "align_items": null,
            "bottom": null,
            "_model_module": "@jupyter-widgets/base",
            "top": null,
            "grid_column": null,
            "overflow_y": null,
            "overflow_x": null,
            "grid_auto_flow": null,
            "grid_area": null,
            "grid_template_columns": null,
            "flex": null,
            "_model_name": "LayoutModel",
            "justify_items": null,
            "grid_row": null,
            "max_height": null,
            "align_content": null,
            "visibility": null,
            "align_self": null,
            "height": null,
            "min_height": null,
            "padding": null,
            "grid_auto_rows": null,
            "grid_gap": null,
            "max_width": null,
            "order": null,
            "_view_module_version": "1.2.0",
            "grid_template_areas": null,
            "object_position": null,
            "object_fit": null,
            "grid_auto_columns": null,
            "margin": null,
            "display": null,
            "left": null
          }
        }
      }
    }
  },
  "cells": [
    {
      "cell_type": "code",
      "metadata": {
        "colab": {
          "base_uri": "https://localhost:8080/"
        },
        "id": "wSJ6yT3Pjw3B",
        "outputId": "71359dac-a701-4cf3-e74d-14f85aee818a"
      },
      "source": [
        "! pip install implicit"
      ],
      "execution_count": 1,
      "outputs": [
        {
          "output_type": "stream",
          "text": [
            "Collecting implicit\n",
            "\u001b[?25l  Downloading https://files.pythonhosted.org/packages/bc/07/c0121884722d16e2c5beeb815f6b84b41cbf22e738e4075f1475be2791bc/implicit-0.4.4.tar.gz (1.1MB)\n",
            "\r\u001b[K     |▎                               | 10kB 1.8MB/s eta 0:00:01\r\u001b[K     |▋                               | 20kB 3.1MB/s eta 0:00:01\r\u001b[K     |▉                               | 30kB 4.0MB/s eta 0:00:01\r\u001b[K     |█▏                              | 40kB 4.9MB/s eta 0:00:01\r\u001b[K     |█▌                              | 51kB 6.0MB/s eta 0:00:01\r\u001b[K     |█▊                              | 61kB 6.3MB/s eta 0:00:01\r\u001b[K     |██                              | 71kB 6.6MB/s eta 0:00:01\r\u001b[K     |██▍                             | 81kB 7.4MB/s eta 0:00:01\r\u001b[K     |██▋                             | 92kB 7.9MB/s eta 0:00:01\r\u001b[K     |███                             | 102kB 8.1MB/s eta 0:00:01\r\u001b[K     |███▎                            | 112kB 8.1MB/s eta 0:00:01\r\u001b[K     |███▌                            | 122kB 8.1MB/s eta 0:00:01\r\u001b[K     |███▉                            | 133kB 8.1MB/s eta 0:00:01\r\u001b[K     |████▏                           | 143kB 8.1MB/s eta 0:00:01\r\u001b[K     |████▍                           | 153kB 8.1MB/s eta 0:00:01\r\u001b[K     |████▊                           | 163kB 8.1MB/s eta 0:00:01\r\u001b[K     |█████                           | 174kB 8.1MB/s eta 0:00:01\r\u001b[K     |█████▎                          | 184kB 8.1MB/s eta 0:00:01\r\u001b[K     |█████▋                          | 194kB 8.1MB/s eta 0:00:01\r\u001b[K     |██████                          | 204kB 8.1MB/s eta 0:00:01\r\u001b[K     |██████▏                         | 215kB 8.1MB/s eta 0:00:01\r\u001b[K     |██████▌                         | 225kB 8.1MB/s eta 0:00:01\r\u001b[K     |██████▉                         | 235kB 8.1MB/s eta 0:00:01\r\u001b[K     |███████                         | 245kB 8.1MB/s eta 0:00:01\r\u001b[K     |███████▍                        | 256kB 8.1MB/s eta 0:00:01\r\u001b[K     |███████▊                        | 266kB 8.1MB/s eta 0:00:01\r\u001b[K     |████████                        | 276kB 8.1MB/s eta 0:00:01\r\u001b[K     |████████▎                       | 286kB 8.1MB/s eta 0:00:01\r\u001b[K     |████████▋                       | 296kB 8.1MB/s eta 0:00:01\r\u001b[K     |████████▉                       | 307kB 8.1MB/s eta 0:00:01\r\u001b[K     |█████████▏                      | 317kB 8.1MB/s eta 0:00:01\r\u001b[K     |█████████▌                      | 327kB 8.1MB/s eta 0:00:01\r\u001b[K     |█████████▊                      | 337kB 8.1MB/s eta 0:00:01\r\u001b[K     |██████████                      | 348kB 8.1MB/s eta 0:00:01\r\u001b[K     |██████████▍                     | 358kB 8.1MB/s eta 0:00:01\r\u001b[K     |██████████▋                     | 368kB 8.1MB/s eta 0:00:01\r\u001b[K     |███████████                     | 378kB 8.1MB/s eta 0:00:01\r\u001b[K     |███████████▏                    | 389kB 8.1MB/s eta 0:00:01\r\u001b[K     |███████████▌                    | 399kB 8.1MB/s eta 0:00:01\r\u001b[K     |███████████▉                    | 409kB 8.1MB/s eta 0:00:01\r\u001b[K     |████████████                    | 419kB 8.1MB/s eta 0:00:01\r\u001b[K     |████████████▍                   | 430kB 8.1MB/s eta 0:00:01\r\u001b[K     |████████████▊                   | 440kB 8.1MB/s eta 0:00:01\r\u001b[K     |█████████████                   | 450kB 8.1MB/s eta 0:00:01\r\u001b[K     |█████████████▎                  | 460kB 8.1MB/s eta 0:00:01\r\u001b[K     |█████████████▋                  | 471kB 8.1MB/s eta 0:00:01\r\u001b[K     |█████████████▉                  | 481kB 8.1MB/s eta 0:00:01\r\u001b[K     |██████████████▏                 | 491kB 8.1MB/s eta 0:00:01\r\u001b[K     |██████████████▌                 | 501kB 8.1MB/s eta 0:00:01\r\u001b[K     |██████████████▊                 | 512kB 8.1MB/s eta 0:00:01\r\u001b[K     |███████████████                 | 522kB 8.1MB/s eta 0:00:01\r\u001b[K     |███████████████▍                | 532kB 8.1MB/s eta 0:00:01\r\u001b[K     |███████████████▋                | 542kB 8.1MB/s eta 0:00:01\r\u001b[K     |████████████████                | 552kB 8.1MB/s eta 0:00:01\r\u001b[K     |████████████████▎               | 563kB 8.1MB/s eta 0:00:01\r\u001b[K     |████████████████▌               | 573kB 8.1MB/s eta 0:00:01\r\u001b[K     |████████████████▉               | 583kB 8.1MB/s eta 0:00:01\r\u001b[K     |█████████████████▏              | 593kB 8.1MB/s eta 0:00:01\r\u001b[K     |█████████████████▍              | 604kB 8.1MB/s eta 0:00:01\r\u001b[K     |█████████████████▊              | 614kB 8.1MB/s eta 0:00:01\r\u001b[K     |██████████████████              | 624kB 8.1MB/s eta 0:00:01\r\u001b[K     |██████████████████▎             | 634kB 8.1MB/s eta 0:00:01\r\u001b[K     |██████████████████▋             | 645kB 8.1MB/s eta 0:00:01\r\u001b[K     |███████████████████             | 655kB 8.1MB/s eta 0:00:01\r\u001b[K     |███████████████████▏            | 665kB 8.1MB/s eta 0:00:01\r\u001b[K     |███████████████████▌            | 675kB 8.1MB/s eta 0:00:01\r\u001b[K     |███████████████████▉            | 686kB 8.1MB/s eta 0:00:01\r\u001b[K     |████████████████████            | 696kB 8.1MB/s eta 0:00:01\r\u001b[K     |████████████████████▍           | 706kB 8.1MB/s eta 0:00:01\r\u001b[K     |████████████████████▊           | 716kB 8.1MB/s eta 0:00:01\r\u001b[K     |█████████████████████           | 727kB 8.1MB/s eta 0:00:01\r\u001b[K     |█████████████████████▎          | 737kB 8.1MB/s eta 0:00:01\r\u001b[K     |█████████████████████▋          | 747kB 8.1MB/s eta 0:00:01\r\u001b[K     |█████████████████████▉          | 757kB 8.1MB/s eta 0:00:01\r\u001b[K     |██████████████████████▏         | 768kB 8.1MB/s eta 0:00:01\r\u001b[K     |██████████████████████▍         | 778kB 8.1MB/s eta 0:00:01\r\u001b[K     |██████████████████████▊         | 788kB 8.1MB/s eta 0:00:01\r\u001b[K     |███████████████████████         | 798kB 8.1MB/s eta 0:00:01\r\u001b[K     |███████████████████████▎        | 808kB 8.1MB/s eta 0:00:01\r\u001b[K     |███████████████████████▋        | 819kB 8.1MB/s eta 0:00:01\r\u001b[K     |████████████████████████        | 829kB 8.1MB/s eta 0:00:01\r\u001b[K     |████████████████████████▏       | 839kB 8.1MB/s eta 0:00:01\r\u001b[K     |████████████████████████▌       | 849kB 8.1MB/s eta 0:00:01\r\u001b[K     |████████████████████████▉       | 860kB 8.1MB/s eta 0:00:01\r\u001b[K     |█████████████████████████       | 870kB 8.1MB/s eta 0:00:01\r\u001b[K     |█████████████████████████▍      | 880kB 8.1MB/s eta 0:00:01\r\u001b[K     |█████████████████████████▊      | 890kB 8.1MB/s eta 0:00:01\r\u001b[K     |██████████████████████████      | 901kB 8.1MB/s eta 0:00:01\r\u001b[K     |██████████████████████████▎     | 911kB 8.1MB/s eta 0:00:01\r\u001b[K     |██████████████████████████▋     | 921kB 8.1MB/s eta 0:00:01\r\u001b[K     |██████████████████████████▉     | 931kB 8.1MB/s eta 0:00:01\r\u001b[K     |███████████████████████████▏    | 942kB 8.1MB/s eta 0:00:01\r\u001b[K     |███████████████████████████▌    | 952kB 8.1MB/s eta 0:00:01\r\u001b[K     |███████████████████████████▊    | 962kB 8.1MB/s eta 0:00:01\r\u001b[K     |████████████████████████████    | 972kB 8.1MB/s eta 0:00:01\r\u001b[K     |████████████████████████████▍   | 983kB 8.1MB/s eta 0:00:01\r\u001b[K     |████████████████████████████▋   | 993kB 8.1MB/s eta 0:00:01\r\u001b[K     |█████████████████████████████   | 1.0MB 8.1MB/s eta 0:00:01\r\u001b[K     |█████████████████████████████▎  | 1.0MB 8.1MB/s eta 0:00:01\r\u001b[K     |█████████████████████████████▌  | 1.0MB 8.1MB/s eta 0:00:01\r\u001b[K     |█████████████████████████████▉  | 1.0MB 8.1MB/s eta 0:00:01\r\u001b[K     |██████████████████████████████▏ | 1.0MB 8.1MB/s eta 0:00:01\r\u001b[K     |██████████████████████████████▍ | 1.1MB 8.1MB/s eta 0:00:01\r\u001b[K     |██████████████████████████████▊ | 1.1MB 8.1MB/s eta 0:00:01\r\u001b[K     |███████████████████████████████ | 1.1MB 8.1MB/s eta 0:00:01\r\u001b[K     |███████████████████████████████▎| 1.1MB 8.1MB/s eta 0:00:01\r\u001b[K     |███████████████████████████████▋| 1.1MB 8.1MB/s eta 0:00:01\r\u001b[K     |████████████████████████████████| 1.1MB 8.1MB/s eta 0:00:01\r\u001b[K     |████████████████████████████████| 1.1MB 8.1MB/s \n",
            "\u001b[?25hRequirement already satisfied: numpy in /usr/local/lib/python3.6/dist-packages (from implicit) (1.19.5)\n",
            "Requirement already satisfied: scipy>=0.16 in /usr/local/lib/python3.6/dist-packages (from implicit) (1.4.1)\n",
            "Requirement already satisfied: tqdm>=4.27 in /usr/local/lib/python3.6/dist-packages (from implicit) (4.41.1)\n",
            "Building wheels for collected packages: implicit\n",
            "  Building wheel for implicit (setup.py) ... \u001b[?25l\u001b[?25hdone\n",
            "  Created wheel for implicit: filename=implicit-0.4.4-cp36-cp36m-linux_x86_64.whl size=3419464 sha256=54dc9318c60c2cd83b3fb991a74e708ea2b92b5c016192542926282b0f3922eb\n",
            "  Stored in directory: /root/.cache/pip/wheels/bf/d4/ec/fd4f622fcbefb7521f149905295b2c26adecb23af38aa28217\n",
            "Successfully built implicit\n",
            "Installing collected packages: implicit\n",
            "Successfully installed implicit-0.4.4\n"
          ],
          "name": "stdout"
        }
      ]
    },
    {
      "cell_type": "code",
      "metadata": {
        "colab": {
          "base_uri": "https://localhost:8080/",
          "height": 235
        },
        "id": "bbkA7XInj_FS",
        "outputId": "8f6aac35-9dce-43ff-bb13-6fb5b8d632b6"
      },
      "source": [
        "import os\n",
        "import pandas as pd\n",
        "\n",
        "# rating_file_path=os.getenv('HOME') + '/aiffel/recommendata_iu/data/ml-1m/ratings.dat'\n",
        "rating_file_path='/content/drive/MyDrive/DL_Study/AIFFEL/recommend/ml-1m/ratings.dat'\n",
        "ratings_cols = ['user_id', 'movie_id', 'rating', 'timestamp']\n",
        "ratings = pd.read_csv(rating_file_path, sep='::', names=ratings_cols, engine='python')\n",
        "orginal_data_size = len(ratings)\n",
        "ratings.head()\n",
        "# 3점 이상만 남깁니다.\n",
        "ratings = ratings[ratings['rating']>=3]\n",
        "filtered_data_size = len(ratings)\n",
        "\n",
        "print(f'orginal_data_size: {orginal_data_size}, filtered_data_size: {filtered_data_size}')\n",
        "print(f'Ratio of Remaining Data is {filtered_data_size / orginal_data_size:.2%}')\n",
        "# rating 컬럼의 이름을 count로 바꿉니다.\n",
        "ratings.rename(columns={'rating':'count'}, inplace=True)\n",
        "ratings['count']\n",
        "# 영화 제목을 보기 위해 메타 데이터를 읽어옵니다.\n",
        "movie_file_path='/content/drive/MyDrive/DL_Study/AIFFEL/recommend/ml-1m/movies.dat'\n",
        "cols = ['movie_id', 'title', 'genre'] \n",
        "movies = pd.read_csv(movie_file_path, sep='::', names=cols, engine='python')\n",
        "movies.head()"
      ],
      "execution_count": 2,
      "outputs": [
        {
          "output_type": "stream",
          "text": [
            "orginal_data_size: 1000209, filtered_data_size: 836478\n",
            "Ratio of Remaining Data is 83.63%\n"
          ],
          "name": "stdout"
        },
        {
          "output_type": "execute_result",
          "data": {
            "text/html": [
              "<div>\n",
              "<style scoped>\n",
              "    .dataframe tbody tr th:only-of-type {\n",
              "        vertical-align: middle;\n",
              "    }\n",
              "\n",
              "    .dataframe tbody tr th {\n",
              "        vertical-align: top;\n",
              "    }\n",
              "\n",
              "    .dataframe thead th {\n",
              "        text-align: right;\n",
              "    }\n",
              "</style>\n",
              "<table border=\"1\" class=\"dataframe\">\n",
              "  <thead>\n",
              "    <tr style=\"text-align: right;\">\n",
              "      <th></th>\n",
              "      <th>movie_id</th>\n",
              "      <th>title</th>\n",
              "      <th>genre</th>\n",
              "    </tr>\n",
              "  </thead>\n",
              "  <tbody>\n",
              "    <tr>\n",
              "      <th>0</th>\n",
              "      <td>1</td>\n",
              "      <td>Toy Story (1995)</td>\n",
              "      <td>Animation|Children's|Comedy</td>\n",
              "    </tr>\n",
              "    <tr>\n",
              "      <th>1</th>\n",
              "      <td>2</td>\n",
              "      <td>Jumanji (1995)</td>\n",
              "      <td>Adventure|Children's|Fantasy</td>\n",
              "    </tr>\n",
              "    <tr>\n",
              "      <th>2</th>\n",
              "      <td>3</td>\n",
              "      <td>Grumpier Old Men (1995)</td>\n",
              "      <td>Comedy|Romance</td>\n",
              "    </tr>\n",
              "    <tr>\n",
              "      <th>3</th>\n",
              "      <td>4</td>\n",
              "      <td>Waiting to Exhale (1995)</td>\n",
              "      <td>Comedy|Drama</td>\n",
              "    </tr>\n",
              "    <tr>\n",
              "      <th>4</th>\n",
              "      <td>5</td>\n",
              "      <td>Father of the Bride Part II (1995)</td>\n",
              "      <td>Comedy</td>\n",
              "    </tr>\n",
              "  </tbody>\n",
              "</table>\n",
              "</div>"
            ],
            "text/plain": [
              "   movie_id                               title                         genre\n",
              "0         1                    Toy Story (1995)   Animation|Children's|Comedy\n",
              "1         2                      Jumanji (1995)  Adventure|Children's|Fantasy\n",
              "2         3             Grumpier Old Men (1995)                Comedy|Romance\n",
              "3         4            Waiting to Exhale (1995)                  Comedy|Drama\n",
              "4         5  Father of the Bride Part II (1995)                        Comedy"
            ]
          },
          "metadata": {
            "tags": []
          },
          "execution_count": 2
        }
      ]
    },
    {
      "cell_type": "code",
      "metadata": {
        "id": "4bvelwnZkVx1",
        "colab": {
          "base_uri": "https://localhost:8080/"
        },
        "outputId": "642e5f51-c782-40d8-c0d0-ed829353aa1c"
      },
      "source": [
        "# ratings에 있는 유니크한 영화 개수\n",
        "ratings['movie_id'].nunique()\n",
        "\n",
        "# rating에 있는 유니크한 사용자 수\n",
        "ratings['user_id'].nunique()\n",
        "# 가장 인기 있는 영화 30개(인기순)\n",
        "rating_count = ratings.groupby('movie_id')['count'].count()\n",
        "rating_count.sort_values(ascending=False).head(30)"
      ],
      "execution_count": 3,
      "outputs": [
        {
          "output_type": "execute_result",
          "data": {
            "text/plain": [
              "movie_id\n",
              "2858    3211\n",
              "260     2910\n",
              "1196    2885\n",
              "1210    2716\n",
              "2028    2561\n",
              "589     2509\n",
              "593     2498\n",
              "1198    2473\n",
              "1270    2460\n",
              "2571    2434\n",
              "480     2413\n",
              "2762    2385\n",
              "608     2371\n",
              "110     2314\n",
              "1580    2297\n",
              "527     2257\n",
              "1197    2252\n",
              "2396    2213\n",
              "1617    2210\n",
              "318     2194\n",
              "858     2167\n",
              "1265    2121\n",
              "1097    2102\n",
              "2997    2066\n",
              "2716    2051\n",
              "296     2030\n",
              "356     2022\n",
              "1240    2019\n",
              "1       2000\n",
              "457     1941\n",
              "Name: count, dtype: int64"
            ]
          },
          "metadata": {
            "tags": []
          },
          "execution_count": 3
        }
      ]
    },
    {
      "cell_type": "code",
      "metadata": {
        "colab": {
          "base_uri": "https://localhost:8080/",
          "height": 216
        },
        "id": "wPREvueZnet8",
        "outputId": "8678d5c0-b521-4729-91a4-786e508b0faf"
      },
      "source": [
        "my_favorite= [32, 260, 286, 316, 329]\n",
        "# my_favorite = ['deep impact' , 'amagedon' ,'cast away' ,'matrix' ,'three rings']\n",
        "my_user_id = ratings.tail(1)['user_id'].item() + 1\n",
        "print(my_user_id)\n",
        "my_favorite_list = pd.DataFrame({'user_id': [my_user_id]*5, 'movie_id':my_favorite,\n",
        "                                 'count':[5]*5, 'timestamp': [978301777]*5})\n",
        "ratings = ratings.append(my_favorite_list)\n",
        "ratings.tail()"
      ],
      "execution_count": 4,
      "outputs": [
        {
          "output_type": "stream",
          "text": [
            "6041\n"
          ],
          "name": "stdout"
        },
        {
          "output_type": "execute_result",
          "data": {
            "text/html": [
              "<div>\n",
              "<style scoped>\n",
              "    .dataframe tbody tr th:only-of-type {\n",
              "        vertical-align: middle;\n",
              "    }\n",
              "\n",
              "    .dataframe tbody tr th {\n",
              "        vertical-align: top;\n",
              "    }\n",
              "\n",
              "    .dataframe thead th {\n",
              "        text-align: right;\n",
              "    }\n",
              "</style>\n",
              "<table border=\"1\" class=\"dataframe\">\n",
              "  <thead>\n",
              "    <tr style=\"text-align: right;\">\n",
              "      <th></th>\n",
              "      <th>user_id</th>\n",
              "      <th>movie_id</th>\n",
              "      <th>count</th>\n",
              "      <th>timestamp</th>\n",
              "    </tr>\n",
              "  </thead>\n",
              "  <tbody>\n",
              "    <tr>\n",
              "      <th>0</th>\n",
              "      <td>6041</td>\n",
              "      <td>32</td>\n",
              "      <td>5</td>\n",
              "      <td>978301777</td>\n",
              "    </tr>\n",
              "    <tr>\n",
              "      <th>1</th>\n",
              "      <td>6041</td>\n",
              "      <td>260</td>\n",
              "      <td>5</td>\n",
              "      <td>978301777</td>\n",
              "    </tr>\n",
              "    <tr>\n",
              "      <th>2</th>\n",
              "      <td>6041</td>\n",
              "      <td>286</td>\n",
              "      <td>5</td>\n",
              "      <td>978301777</td>\n",
              "    </tr>\n",
              "    <tr>\n",
              "      <th>3</th>\n",
              "      <td>6041</td>\n",
              "      <td>316</td>\n",
              "      <td>5</td>\n",
              "      <td>978301777</td>\n",
              "    </tr>\n",
              "    <tr>\n",
              "      <th>4</th>\n",
              "      <td>6041</td>\n",
              "      <td>329</td>\n",
              "      <td>5</td>\n",
              "      <td>978301777</td>\n",
              "    </tr>\n",
              "  </tbody>\n",
              "</table>\n",
              "</div>"
            ],
            "text/plain": [
              "   user_id  movie_id  count  timestamp\n",
              "0     6041        32      5  978301777\n",
              "1     6041       260      5  978301777\n",
              "2     6041       286      5  978301777\n",
              "3     6041       316      5  978301777\n",
              "4     6041       329      5  978301777"
            ]
          },
          "metadata": {
            "tags": []
          },
          "execution_count": 4
        }
      ]
    },
    {
      "cell_type": "code",
      "metadata": {
        "id": "2hTAgoRYEP0q"
      },
      "source": [
        "# 4) CSR matrix를 직접 만들어 봅시다.\n",
        "from implicit.als import AlternatingLeastSquares\n",
        "import os\n",
        "import numpy as np\n",
        "from scipy.sparse import csr_matrix\n",
        "\n",
        "# implicit 라이브러리에서 권장하고 있는 부분입니다. 학습 내용과는 무관합니다.\n",
        "os.environ['OPENBLAS_NUM_THREADS']='1'\n",
        "os.environ['KMP_DUPLICATE_LIB_OK']='True'\n",
        "os.environ['MKL_NUM_THREADS']='1'\n",
        "\n",
        "num_user = ratings['user_id'].nunique()\n",
        "num_movie = ratings['movie_id'].nunique()"
      ],
      "execution_count": 5,
      "outputs": []
    },
    {
      "cell_type": "code",
      "metadata": {
        "id": "MZWkYkS2Wqkv"
      },
      "source": [
        "# csr_data = csr_matrix((ratings['count'], (ratings.user_id, ratings.movie_id)),\n",
        "                      # shape= (num_user, num_movie))\n",
        "csr_data = csr_matrix((ratings['count'], (ratings.user_id, ratings.movie_id)))\n",
        "# Implicit AlternatingLeastSquares 모델의 선언\n",
        "als_model = AlternatingLeastSquares(factors=100, regularization=0.01, use_gpu=False\n",
        "                                    , iterations=15, dtype=np.float32)\n"
      ],
      "execution_count": 6,
      "outputs": []
    },
    {
      "cell_type": "code",
      "metadata": {
        "colab": {
          "base_uri": "https://localhost:8080/"
        },
        "id": "rmlLptIgaBRN",
        "outputId": "32596fc8-f000-4dee-aa2e-5f5ecbef7408"
      },
      "source": [
        "# als 모델은 input으로 (item X user 꼴의 matrix를 받기 때문에 Transpose해줍니다.)\n",
        "csr_data_transpose = csr_data.T\n",
        "csr_data_transpose"
      ],
      "execution_count": 7,
      "outputs": [
        {
          "output_type": "execute_result",
          "data": {
            "text/plain": [
              "<3953x6042 sparse matrix of type '<class 'numpy.longlong'>'\n",
              "\twith 836483 stored elements in Compressed Sparse Column format>"
            ]
          },
          "metadata": {
            "tags": []
          },
          "execution_count": 7
        }
      ]
    },
    {
      "cell_type": "code",
      "metadata": {
        "colab": {
          "base_uri": "https://localhost:8080/",
          "height": 67,
          "referenced_widgets": [
            "1e6b4c5b2e5b4fd9ab40113b0a130c4e",
            "6db68b3781d14bf6bc4b73e1d5444785",
            "2628e4fb7e9b4eb180332a087768425a",
            "fd1126a018d4489d8a090f2104e6c8f4",
            "821dc7c69f5d4c30b14ec25b7798e743",
            "a438c26310304e968cadb0e2ca3a2d7c",
            "59e8c26cfdad42b48cb106623d3ba216",
            "d958f7b1961b403296837028e589b086"
          ]
        },
        "id": "mdpnZmxCAGJv",
        "outputId": "55308bb0-7cb8-4f3e-def6-06e546ec53b0"
      },
      "source": [
        "als_model.fit(csr_data_transpose)"
      ],
      "execution_count": 8,
      "outputs": [
        {
          "output_type": "display_data",
          "data": {
            "application/vnd.jupyter.widget-view+json": {
              "model_id": "1e6b4c5b2e5b4fd9ab40113b0a130c4e",
              "version_minor": 0,
              "version_major": 2
            },
            "text/plain": [
              "HBox(children=(FloatProgress(value=0.0, max=15.0), HTML(value='')))"
            ]
          },
          "metadata": {
            "tags": []
          }
        },
        {
          "output_type": "stream",
          "text": [
            "\n"
          ],
          "name": "stdout"
        }
      ]
    },
    {
      "cell_type": "code",
      "metadata": {
        "colab": {
          "base_uri": "https://localhost:8080/"
        },
        "id": "F8ZHicJHAIUQ",
        "outputId": "da28a8fa-a603-45fd-9297-553da035c8be"
      },
      "source": [
        "# jungle book 영화 선택\n",
        "my_user_vector, movie_recommend = als_model.user_factors[my_user_id], als_model.item_factors[362]\n",
        " \n",
        "np.dot(my_user_vector, movie_recommend)"
      ],
      "execution_count": 9,
      "outputs": [
        {
          "output_type": "execute_result",
          "data": {
            "text/plain": [
              "0.0028388533"
            ]
          },
          "metadata": {
            "tags": []
          },
          "execution_count": 9
        }
      ]
    },
    {
      "cell_type": "code",
      "metadata": {
        "colab": {
          "base_uri": "https://localhost:8080/"
        },
        "id": "sHRHb4aRDJf6",
        "outputId": "c0865bb1-1deb-42c0-ec97-625062a8db34"
      },
      "source": [
        "# 내가 선택한 영화와 비슷한 영화 리스트 보기\n",
        "def get_similar_movie(movie_id: int):\n",
        "  similar_movie = als_model.similar_items(movie_id)\n",
        "  ml = [i[0] for i in similar_movie]\n",
        "  return ml\n",
        "\n",
        "# 480 === 쥐라기공원\n",
        "movie_recommended = get_similar_movie(480)\n",
        "movie_recommended\n"
      ],
      "execution_count": 10,
      "outputs": [
        {
          "output_type": "execute_result",
          "data": {
            "text/plain": [
              "[480, 1580, 589, 2916, 2571, 110, 989, 1544, 648, 268]"
            ]
          },
          "metadata": {
            "tags": []
          },
          "execution_count": 10
        }
      ]
    },
    {
      "cell_type": "code",
      "metadata": {
        "colab": {
          "base_uri": "https://localhost:8080/"
        },
        "id": "hnfVMotJVd-x",
        "outputId": "4f02380f-7af6-42fc-98f4-d1b46f3111ef"
      },
      "source": [
        "def id_to_moviename(movie_id: list):\n",
        "  title = movies[movies['movie_id'].isin(movie_id)]\n",
        "\n",
        "  return title['title']\n",
        "\n",
        "print(id_to_moviename(movie_recommended))"
      ],
      "execution_count": 13,
      "outputs": [
        {
          "output_type": "stream",
          "text": [
            "108                             Braveheart (1995)\n",
            "265                          Little Odessa (1994)\n",
            "476                          Jurassic Park (1993)\n",
            "585             Terminator 2: Judgment Day (1991)\n",
            "642                    Mission: Impossible (1996)\n",
            "977     Schlafes Bruder (Brother of Sleep) (1995)\n",
            "1505        Lost World: Jurassic Park, The (1997)\n",
            "1539                          Men in Black (1997)\n",
            "2502                           Matrix, The (1999)\n",
            "2847                          Total Recall (1990)\n",
            "Name: title, dtype: object\n"
          ],
          "name": "stdout"
        }
      ]
    },
    {
      "cell_type": "code",
      "metadata": {
        "id": "Vlq47m3jX1eE"
      },
      "source": [
        "#오 쥐라기공원을 선택하니 전부다 내가 좋아하는 영화가 나오네~\n"
      ],
      "execution_count": null,
      "outputs": []
    }
  ]
}