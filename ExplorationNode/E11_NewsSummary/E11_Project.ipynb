{
 "cells": [
  {
   "cell_type": "code",
   "execution_count": 6,
   "id": "arabic-consensus",
   "metadata": {},
   "outputs": [
    {
     "name": "stdout",
     "output_type": "stream",
     "text": [
      "The screen is filled with green, cascading code which gives way to the title, The Matrix.\n",
      "\n",
      "A phone rings and text appears on the screen: \"Call trans opt: received. 2-19-98 13:24:18 REC: Log>\" As a conversation takes place between Trinity (Carrie-Anne Moss) and Cypher (Joe Pantoliano), two free humans, a table of random green numbers are being scanned and individual numbers selected, creating a series of digits not unlike an ordinary phone number, as if a code is being deciphered or a call is being traced.\n",
      "\n",
      "Trinity discusses some unknown person. Cypher taunts Trinity, suggesting she enjoys watching him. Trinity counters that \"Morpheus (Laurence Fishburne) says he may be 'the One',\" just as the sound of a number being selected alerts Trinity that someone may be tracing their call. She ends the call.\n",
      "\n",
      "Armed policemen move down a darkened, decrepit hallway in the Heart O' the City Hotel, their flashlight beam bouncing just ahead of them. They come to room 303, kick down the door and find a woman dressed in black, facing away from them. It's Trinity. She brings her hands up from the laptop she's working on at their command.\n",
      "\n",
      "Outside the hotel a car drives up and three agents appear in neatly pressed black suits. They are Agent Smith (Hugo Weaving), Agent Brown (Paul Goddard), and Agent Jones (Robert Taylor). Agent Smith and the presiding police lieutenant argue. Agent Smith admonishes the policeman that they were given specific orders to contact the agents first, for their\n",
      "Summary:\n",
      "Morpheus, Trinity, Neo, Apoc, Switch, Mouse and Cypher are jacked into the Matrix.\n",
      "Trinity brings the helicopter down to the floor that Morpheus is on and Neo opens fire on the three Agents.\n"
     ]
    }
   ],
   "source": [
    "import requests\n",
    "import pandas as pd\n",
    "from summa.summarizer import summarize\n",
    "\n",
    "text = requests.get('http://rare-technologies.com/the_matrix_synopsis.txt').text\n",
    "print(text[:1500])\n",
    "\n",
    "print('Summary:')\n",
    "print(summarize(text, ratio=0.005))"
   ]
  },
  {
   "cell_type": "markdown",
   "id": "parallel-eclipse",
   "metadata": {},
   "source": [
    "summarize 사용하기\n",
    "Summa의 summarize()의 인자로 사용되는 값들에 대해서 알아볼게요.\n",
    "\n",
    "text (str) : 요약할 테스트.\n",
    "ratio (float, optional) – 요약문에서 원본에서 선택되는 문장 비율. 0~1 사이값\n",
    "words (int or None, optional) – 출력에 포함할 단어 수.\n",
    "만약, ratio와 함께 두 파라미터가 모두 제공되는 경우 ratio는 무시한다.\n",
    "split (bool, optional) – True면 문장 list / False는 조인(join)된 문자열을 반환\n",
    "\n",
    "Summa의 summarize는 문장 토큰화를 별도로 하지 않더라도 내부적으로 문장 토큰화를 수행해요. 그렇기 때문에 문장 구분이 되어있지 않은 원문을 바로 입력으로 넣을 수 있어요. 비율을 적게 주어서 요약문으로 선택되는 문장의 개수를 줄여볼게요. 원문의 0.005%만을 출력해도록 설정했어요."
   ]
  },
  {
   "cell_type": "code",
   "execution_count": 7,
   "id": "planned-robin",
   "metadata": {},
   "outputs": [
    {
     "name": "stdout",
     "output_type": "stream",
     "text": [
      "Summary:\n",
      "Morpheus, Trinity, Neo, Apoc, Switch, Mouse and Cypher are jacked into the Matrix.\n",
      "Trinity brings the helicopter down to the floor that Morpheus is on and Neo opens fire on the three Agents.\n"
     ]
    }
   ],
   "source": [
    "print('Summary:')\n",
    "print(summarize(text, ratio=0.005))"
   ]
  },
  {
   "cell_type": "code",
   "execution_count": 8,
   "id": "bronze-challenge",
   "metadata": {},
   "outputs": [
    {
     "name": "stdout",
     "output_type": "stream",
     "text": [
      "Summary:\n",
      "['Morpheus, Trinity, Neo, Apoc, Switch, Mouse and Cypher are jacked into the Matrix.', 'Trinity brings the helicopter down to the floor that Morpheus is on and Neo opens fire on the three Agents.']\n"
     ]
    }
   ],
   "source": [
    "print('Summary:')\n",
    "#만약 리스트로 출력 결과를 받고 싶다면 split 인자의 값을 True로 하면 돼요.\n",
    "print(summarize(text, ratio=0.005, split=True))"
   ]
  },
  {
   "cell_type": "code",
   "execution_count": 9,
   "id": "creative-river",
   "metadata": {},
   "outputs": [
    {
     "name": "stdout",
     "output_type": "stream",
     "text": [
      "Summary:\n",
      "Trinity takes Neo to Morpheus.\n",
      "Morpheus, Trinity, Neo, Apoc, Switch, Mouse and Cypher are jacked into the Matrix.\n",
      "Trinity brings the helicopter down to the floor that Morpheus is on and Neo opens fire on the three Agents.\n"
     ]
    }
   ],
   "source": [
    "\n",
    "#단어의 수로 요약문의 크기를 조절할 수도 있어요. 단어를 50개만 선택하도록 해보세요.\n",
    "print('Summary:')\n",
    "print(summarize(text, words=50))"
   ]
  },
  {
   "cell_type": "code",
   "execution_count": 10,
   "id": "efficient-unemployment",
   "metadata": {},
   "outputs": [
    {
     "data": {
      "text/html": [
       "<div>\n",
       "<style scoped>\n",
       "    .dataframe tbody tr th:only-of-type {\n",
       "        vertical-align: middle;\n",
       "    }\n",
       "\n",
       "    .dataframe tbody tr th {\n",
       "        vertical-align: top;\n",
       "    }\n",
       "\n",
       "    .dataframe thead th {\n",
       "        text-align: right;\n",
       "    }\n",
       "</style>\n",
       "<table border=\"1\" class=\"dataframe\">\n",
       "  <thead>\n",
       "    <tr style=\"text-align: right;\">\n",
       "      <th></th>\n",
       "      <th>headlines</th>\n",
       "      <th>text</th>\n",
       "    </tr>\n",
       "  </thead>\n",
       "  <tbody>\n",
       "    <tr>\n",
       "      <th>19373</th>\n",
       "      <td>Coca-Cola to buy Costa Coffee chain for $5.1 b...</td>\n",
       "      <td>America's The Coca-Cola Company on Friday anno...</td>\n",
       "    </tr>\n",
       "    <tr>\n",
       "      <th>54396</th>\n",
       "      <td>BSF to keep vigil on B'desh border ahead of Tr...</td>\n",
       "      <td>The Border Security Force (BSF) has been told ...</td>\n",
       "    </tr>\n",
       "    <tr>\n",
       "      <th>58146</th>\n",
       "      <td>Court asks mother to bond with son to get his ...</td>\n",
       "      <td>The Bombay High Court has asked the US-based m...</td>\n",
       "    </tr>\n",
       "    <tr>\n",
       "      <th>85077</th>\n",
       "      <td>Chhattisgarh Class 12 topper with 98.6% sells ...</td>\n",
       "      <td>Dhavendra Kumar, the 17-year-old boy who toppe...</td>\n",
       "    </tr>\n",
       "    <tr>\n",
       "      <th>77484</th>\n",
       "      <td>Successive governments short-changed Air India...</td>\n",
       "      <td>TMC leader Dinesh Trivedi has said that succes...</td>\n",
       "    </tr>\n",
       "    <tr>\n",
       "      <th>25141</th>\n",
       "      <td>You are loved and missed: Dave on Linkin Park'...</td>\n",
       "      <td>Linkin Park's bassist Dave Phoenix Farrell, to...</td>\n",
       "    </tr>\n",
       "    <tr>\n",
       "      <th>85841</th>\n",
       "      <td>Thane fake call centre demanding nudes from Am...</td>\n",
       "      <td>Thane Police on Thursday night busted a fake c...</td>\n",
       "    </tr>\n",
       "    <tr>\n",
       "      <th>25088</th>\n",
       "      <td>Coach had been asking me to hit 200 since many...</td>\n",
       "      <td>Opener Fakhar Zaman, who on Friday became the ...</td>\n",
       "    </tr>\n",
       "    <tr>\n",
       "      <th>61581</th>\n",
       "      <td>15 women, 4 men accuse 'Arrow' producer of sex...</td>\n",
       "      <td>Andrew Kreisberg, executive producer of shows ...</td>\n",
       "    </tr>\n",
       "    <tr>\n",
       "      <th>24436</th>\n",
       "      <td>Sort of sad they're at Microsoft: Google Cloud...</td>\n",
       "      <td>Google Cloud's CEO Diane Greene while announci...</td>\n",
       "    </tr>\n",
       "  </tbody>\n",
       "</table>\n",
       "</div>"
      ],
      "text/plain": [
       "                                               headlines  \\\n",
       "19373  Coca-Cola to buy Costa Coffee chain for $5.1 b...   \n",
       "54396  BSF to keep vigil on B'desh border ahead of Tr...   \n",
       "58146  Court asks mother to bond with son to get his ...   \n",
       "85077  Chhattisgarh Class 12 topper with 98.6% sells ...   \n",
       "77484  Successive governments short-changed Air India...   \n",
       "25141  You are loved and missed: Dave on Linkin Park'...   \n",
       "85841  Thane fake call centre demanding nudes from Am...   \n",
       "25088  Coach had been asking me to hit 200 since many...   \n",
       "61581  15 women, 4 men accuse 'Arrow' producer of sex...   \n",
       "24436  Sort of sad they're at Microsoft: Google Cloud...   \n",
       "\n",
       "                                                    text  \n",
       "19373  America's The Coca-Cola Company on Friday anno...  \n",
       "54396  The Border Security Force (BSF) has been told ...  \n",
       "58146  The Bombay High Court has asked the US-based m...  \n",
       "85077  Dhavendra Kumar, the 17-year-old boy who toppe...  \n",
       "77484  TMC leader Dinesh Trivedi has said that succes...  \n",
       "25141  Linkin Park's bassist Dave Phoenix Farrell, to...  \n",
       "85841  Thane Police on Thursday night busted a fake c...  \n",
       "25088  Opener Fakhar Zaman, who on Friday became the ...  \n",
       "61581  Andrew Kreisberg, executive producer of shows ...  \n",
       "24436  Google Cloud's CEO Diane Greene while announci...  "
      ]
     },
     "execution_count": 10,
     "metadata": {},
     "output_type": "execute_result"
    }
   ],
   "source": [
    "import urllib.request\n",
    "urllib.request.urlretrieve(\"https://raw.githubusercontent.com/sunnysai12345/News_Summary/master/news_summary_more.csv\", filename=\"news_summary_more.csv\")\n",
    "data = pd.read_csv('news_summary_more.csv', encoding='iso-8859-1')\n",
    "data.sample(10)\n"
   ]
  },
  {
   "cell_type": "markdown",
   "id": "alive-compound",
   "metadata": {},
   "source": [
    "이 데이터는 기사의 본문에 해당되는 text와 headlines 두 가지 열로 구성되어져 있습니다.\n",
    "\n",
    "추상적 요약을 하는 경우에는 text를 본문, headlines를 이미 요약된 데이터로 삼아서 모델을 학습할 수 있어요. 추출적 요약을 하는 경우에는 오직 text열만을 사용하세요.\n",
    "\n",
    "Step 2. 데이터 전처리하기 (추상적 요약)\n",
    "실습에서 사용된 전처리를 참고하여 각자 필요하다고 생각하는 전처리를 추가 사용하여 텍스트를 정규화 또는 정제해 보세요. 만약, 불용어 제거를 선택한다면 상대적으로 길이가 짧은 요약 데이터에 대해서도 불용어를 제거하는 것이 좋을지 고민해보세요.\n",
    "\n",
    "Step 3. 어텐션 메커니즘 사용하기 (추상적 요약)\n",
    "일반적인 seq2seq보다는 어텐션 메커니즘을 사용한 seq2seq를 사용하는 것이 더 나은 성능을 얻을 수 있어요. 실습 내용을 참고하여 어텐션 메커니즘을 사용한 seq2seq를 설계해 보세요.\n",
    "\n",
    "Step 4. 실제 결과와 요약문 비교하기 (추상적 요약)\n",
    "원래의 요약문(headlines 열)과 학습을 통해 얻은 추상적 요약의 결과를 비교해보세요.\n",
    "\n",
    "Step 5. Summa을 이용해서 추출적 요약해보기\n",
    "추상적 요약은 추출적 요약과는 달리 문장의 표현력을 다양하게 가져갈 수 있지만, 추출적 요약에 비해서 난이도가 높아요. 반대로 말하면 추출적 요약은 추상적 요약에 비해 난이도가 낮고 기존 문장에서 문장을 꺼내오는 것이므로 잘못된 요약이 나올 가능성이 낮아요.\n",
    "\n",
    "Summa의 summarize를 사용하여 추출적 요약을 해보세요."
   ]
  },
  {
   "cell_type": "code",
   "execution_count": null,
   "id": "changing-expansion",
   "metadata": {},
   "outputs": [],
   "source": []
  },
  {
   "cell_type": "code",
   "execution_count": null,
   "id": "suffering-tuning",
   "metadata": {},
   "outputs": [],
   "source": []
  }
 ],
 "metadata": {
  "kernelspec": {
   "display_name": "aiffel",
   "language": "python",
   "name": "python3"
  },
  "language_info": {
   "codemirror_mode": {
    "name": "ipython",
    "version": 3
   },
   "file_extension": ".py",
   "mimetype": "text/x-python",
   "name": "python",
   "nbconvert_exporter": "python",
   "pygments_lexer": "ipython3",
   "version": "3.7.9"
  }
 },
 "nbformat": 4,
 "nbformat_minor": 5
}
