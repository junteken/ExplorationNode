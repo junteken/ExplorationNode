{
  "nbformat": 4,
  "nbformat_minor": 5,
  "metadata": {
    "kernelspec": {
      "display_name": "aiffel",
      "language": "python",
      "name": "python3"
    },
    "language_info": {
      "codemirror_mode": {
        "name": "ipython",
        "version": 3
      },
      "file_extension": ".py",
      "mimetype": "text/x-python",
      "name": "python",
      "nbconvert_exporter": "python",
      "pygments_lexer": "ipython3",
      "version": "3.7.9"
    },
    "colab": {
      "name": "E11_Project.ipynb",
      "provenance": []
    },
    "accelerator": "GPU"
  },
  "cells": [
    {
      "cell_type": "code",
      "metadata": {
        "colab": {
          "base_uri": "https://localhost:8080/"
        },
        "id": "kNXHUUZ6lKdx",
        "outputId": "bb5f0a0d-45cf-4b00-8eb7-041a6f3e68cd"
      },
      "source": [
        "!pip install summa"
      ],
      "id": "kNXHUUZ6lKdx",
      "execution_count": 1,
      "outputs": [
        {
          "output_type": "stream",
          "text": [
            "Collecting summa\n",
            "\u001b[?25l  Downloading https://files.pythonhosted.org/packages/45/3b/1c7dc435d05aef474c4137328400f1e11787b9bffab1f87a3f160c1fef54/summa-1.2.0.tar.gz (54kB)\n",
            "\r\u001b[K     |██████                          | 10kB 18.2MB/s eta 0:00:01\r\u001b[K     |████████████                    | 20kB 14.2MB/s eta 0:00:01\r\u001b[K     |██████████████████              | 30kB 12.5MB/s eta 0:00:01\r\u001b[K     |███████████████████████▉        | 40kB 11.5MB/s eta 0:00:01\r\u001b[K     |█████████████████████████████▉  | 51kB 8.4MB/s eta 0:00:01\r\u001b[K     |████████████████████████████████| 61kB 5.1MB/s \n",
            "\u001b[?25hRequirement already satisfied: scipy>=0.19 in /usr/local/lib/python3.7/dist-packages (from summa) (1.4.1)\n",
            "Requirement already satisfied: numpy>=1.13.3 in /usr/local/lib/python3.7/dist-packages (from scipy>=0.19->summa) (1.19.5)\n",
            "Building wheels for collected packages: summa\n",
            "  Building wheel for summa (setup.py) ... \u001b[?25l\u001b[?25hdone\n",
            "  Created wheel for summa: filename=summa-1.2.0-cp37-none-any.whl size=54411 sha256=0c4690dc42db819fc19a266adcee0307b21d4980bb76d2e67c28c7ea5e1203b8\n",
            "  Stored in directory: /root/.cache/pip/wheels/6a/09/68/e2f2861c01d86407c3fa5220826ed7eed2abaa56b001be5970\n",
            "Successfully built summa\n",
            "Installing collected packages: summa\n",
            "Successfully installed summa-1.2.0\n"
          ],
          "name": "stdout"
        }
      ]
    },
    {
      "cell_type": "code",
      "metadata": {
        "colab": {
          "base_uri": "https://localhost:8080/"
        },
        "id": "central-tension",
        "outputId": "4f08e290-f10b-480b-d8c9-ae016bf1384b"
      },
      "source": [
        "import requests\n",
        "import nltk\n",
        "nltk.download('stopwords')\n",
        "\n",
        "import numpy as np\n",
        "import pandas as pd\n",
        "import os\n",
        "import re\n",
        "import matplotlib.pyplot as plt\n",
        "from nltk.corpus import stopwords\n",
        "from bs4 import BeautifulSoup\n",
        "from tensorflow.keras.preprocessing.text import Tokenizer\n",
        "from tensorflow.keras.preprocessing.sequence import pad_sequences\n",
        "import urllib.request\n",
        "\n",
        "from summa.summarizer import summarize\n",
        "\n",
        "text = requests.get('http://rare-technologies.com/the_matrix_synopsis.txt').text\n",
        "print(text[:1500])\n",
        "\n",
        "print('Summary:')\n",
        "print(summarize(text, ratio=0.005))"
      ],
      "id": "central-tension",
      "execution_count": 2,
      "outputs": [
        {
          "output_type": "stream",
          "text": [
            "[nltk_data] Downloading package stopwords to /root/nltk_data...\n",
            "[nltk_data]   Unzipping corpora/stopwords.zip.\n",
            "The screen is filled with green, cascading code which gives way to the title, The Matrix.\n",
            "\n",
            "A phone rings and text appears on the screen: \"Call trans opt: received. 2-19-98 13:24:18 REC: Log>\" As a conversation takes place between Trinity (Carrie-Anne Moss) and Cypher (Joe Pantoliano), two free humans, a table of random green numbers are being scanned and individual numbers selected, creating a series of digits not unlike an ordinary phone number, as if a code is being deciphered or a call is being traced.\n",
            "\n",
            "Trinity discusses some unknown person. Cypher taunts Trinity, suggesting she enjoys watching him. Trinity counters that \"Morpheus (Laurence Fishburne) says he may be 'the One',\" just as the sound of a number being selected alerts Trinity that someone may be tracing their call. She ends the call.\n",
            "\n",
            "Armed policemen move down a darkened, decrepit hallway in the Heart O' the City Hotel, their flashlight beam bouncing just ahead of them. They come to room 303, kick down the door and find a woman dressed in black, facing away from them. It's Trinity. She brings her hands up from the laptop she's working on at their command.\n",
            "\n",
            "Outside the hotel a car drives up and three agents appear in neatly pressed black suits. They are Agent Smith (Hugo Weaving), Agent Brown (Paul Goddard), and Agent Jones (Robert Taylor). Agent Smith and the presiding police lieutenant argue. Agent Smith admonishes the policeman that they were given specific orders to contact the agents first, for their\n",
            "Summary:\n",
            "Morpheus, Trinity, Neo, Apoc, Switch, Mouse and Cypher are jacked into the Matrix.\n",
            "Trinity brings the helicopter down to the floor that Morpheus is on and Neo opens fire on the three Agents.\n"
          ],
          "name": "stdout"
        }
      ]
    },
    {
      "cell_type": "markdown",
      "metadata": {
        "id": "integrated-shame"
      },
      "source": [
        "summarize 사용하기\n",
        "Summa의 summarize()의 인자로 사용되는 값들에 대해서 알아볼게요.\n",
        "\n",
        "text (str) : 요약할 테스트.\n",
        "ratio (float, optional) – 요약문에서 원본에서 선택되는 문장 비율. 0~1 사이값\n",
        "words (int or None, optional) – 출력에 포함할 단어 수.\n",
        "만약, ratio와 함께 두 파라미터가 모두 제공되는 경우 ratio는 무시한다.\n",
        "split (bool, optional) – True면 문장 list / False는 조인(join)된 문자열을 반환\n",
        "\n",
        "Summa의 summarize는 문장 토큰화를 별도로 하지 않더라도 내부적으로 문장 토큰화를 수행해요. 그렇기 때문에 문장 구분이 되어있지 않은 원문을 바로 입력으로 넣을 수 있어요. 비율을 적게 주어서 요약문으로 선택되는 문장의 개수를 줄여볼게요. 원문의 0.005%만을 출력해도록 설정했어요."
      ],
      "id": "integrated-shame"
    },
    {
      "cell_type": "code",
      "metadata": {
        "colab": {
          "base_uri": "https://localhost:8080/"
        },
        "id": "massive-anchor",
        "outputId": "abc96394-3f17-4161-f725-712dc9a5032a"
      },
      "source": [
        "print('Summary:')\n",
        "print(summarize(text, ratio=0.005))"
      ],
      "id": "massive-anchor",
      "execution_count": 3,
      "outputs": [
        {
          "output_type": "stream",
          "text": [
            "Summary:\n",
            "Morpheus, Trinity, Neo, Apoc, Switch, Mouse and Cypher are jacked into the Matrix.\n",
            "Trinity brings the helicopter down to the floor that Morpheus is on and Neo opens fire on the three Agents.\n"
          ],
          "name": "stdout"
        }
      ]
    },
    {
      "cell_type": "code",
      "metadata": {
        "colab": {
          "base_uri": "https://localhost:8080/"
        },
        "id": "stock-failing",
        "outputId": "aa1a7726-9321-4c31-9d0e-7b539608c51a"
      },
      "source": [
        "print('Summary:')\n",
        "#만약 리스트로 출력 결과를 받고 싶다면 split 인자의 값을 True로 하면 돼요.\n",
        "print(summarize(text, ratio=0.005, split=True))"
      ],
      "id": "stock-failing",
      "execution_count": 4,
      "outputs": [
        {
          "output_type": "stream",
          "text": [
            "Summary:\n",
            "['Morpheus, Trinity, Neo, Apoc, Switch, Mouse and Cypher are jacked into the Matrix.', 'Trinity brings the helicopter down to the floor that Morpheus is on and Neo opens fire on the three Agents.']\n"
          ],
          "name": "stdout"
        }
      ]
    },
    {
      "cell_type": "code",
      "metadata": {
        "colab": {
          "base_uri": "https://localhost:8080/"
        },
        "id": "shared-marsh",
        "outputId": "4b533a73-a4a6-4455-fff8-41559d622a69"
      },
      "source": [
        "\n",
        "#단어의 수로 요약문의 크기를 조절할 수도 있어요. 단어를 50개만 선택하도록 해보세요.\n",
        "print('Summary:')\n",
        "print(summarize(text, words=50))"
      ],
      "id": "shared-marsh",
      "execution_count": 5,
      "outputs": [
        {
          "output_type": "stream",
          "text": [
            "Summary:\n",
            "Trinity takes Neo to Morpheus.\n",
            "Morpheus, Trinity, Neo, Apoc, Switch, Mouse and Cypher are jacked into the Matrix.\n",
            "Trinity brings the helicopter down to the floor that Morpheus is on and Neo opens fire on the three Agents.\n"
          ],
          "name": "stdout"
        }
      ]
    },
    {
      "cell_type": "code",
      "metadata": {
        "colab": {
          "base_uri": "https://localhost:8080/",
          "height": 348
        },
        "id": "double-french",
        "outputId": "8aa1bb32-7669-45c2-8af8-00a112e9da99"
      },
      "source": [
        "import urllib.request\n",
        "urllib.request.urlretrieve(\"https://raw.githubusercontent.com/sunnysai12345/News_Summary/master/news_summary_more.csv\", filename=\"news_summary_more.csv\")\n",
        "data = pd.read_csv('news_summary_more.csv', encoding='iso-8859-1')\n",
        "data.sample(10)\n"
      ],
      "id": "double-french",
      "execution_count": 6,
      "outputs": [
        {
          "output_type": "execute_result",
          "data": {
            "text/html": [
              "<div>\n",
              "<style scoped>\n",
              "    .dataframe tbody tr th:only-of-type {\n",
              "        vertical-align: middle;\n",
              "    }\n",
              "\n",
              "    .dataframe tbody tr th {\n",
              "        vertical-align: top;\n",
              "    }\n",
              "\n",
              "    .dataframe thead th {\n",
              "        text-align: right;\n",
              "    }\n",
              "</style>\n",
              "<table border=\"1\" class=\"dataframe\">\n",
              "  <thead>\n",
              "    <tr style=\"text-align: right;\">\n",
              "      <th></th>\n",
              "      <th>headlines</th>\n",
              "      <th>text</th>\n",
              "    </tr>\n",
              "  </thead>\n",
              "  <tbody>\n",
              "    <tr>\n",
              "      <th>15658</th>\n",
              "      <td>Pakistan calls handshake with Trump an 'inform...</td>\n",
              "      <td>A US National Security Council spokesperson ha...</td>\n",
              "    </tr>\n",
              "    <tr>\n",
              "      <th>25196</th>\n",
              "      <td>Janhvi you left me speechless: Arjun after wat...</td>\n",
              "      <td>Arjun Kapoor, after watching his half-sister J...</td>\n",
              "    </tr>\n",
              "    <tr>\n",
              "      <th>31515</th>\n",
              "      <td>17 heat wave-prone states to get daily weather...</td>\n",
              "      <td>India Meteorological Department (IMD) has anno...</td>\n",
              "    </tr>\n",
              "    <tr>\n",
              "      <th>50036</th>\n",
              "      <td>Amazon opens rainforest-like office in US</td>\n",
              "      <td>E-commerce giant Amazon has opened a rainfores...</td>\n",
              "    </tr>\n",
              "    <tr>\n",
              "      <th>64113</th>\n",
              "      <td>PM Modi has lost his popularity in Gujarat: Ra...</td>\n",
              "      <td>MNS Chief Raj Thackeray on Thursday said that ...</td>\n",
              "    </tr>\n",
              "    <tr>\n",
              "      <th>69349</th>\n",
              "      <td>Railways to run 4,000 special trains ahead of ...</td>\n",
              "      <td>The Indian Railways will run 4,000 special tra...</td>\n",
              "    </tr>\n",
              "    <tr>\n",
              "      <th>98343</th>\n",
              "      <td>Politics is not for me: Aamir Khan</td>\n",
              "      <td>Actor Aamir Khan has said that politics is not...</td>\n",
              "    </tr>\n",
              "    <tr>\n",
              "      <th>11994</th>\n",
              "      <td>India have played 104 T20Is so far, Dhoni miss...</td>\n",
              "      <td>Former India captain MS Dhoni, who has been dr...</td>\n",
              "    </tr>\n",
              "    <tr>\n",
              "      <th>62996</th>\n",
              "      <td>Two Indo-British teams win Ã¢ÂÂ¹1.7-crore New...</td>\n",
              "      <td>Two Indo-British teams of scientists, one whic...</td>\n",
              "    </tr>\n",
              "    <tr>\n",
              "      <th>26577</th>\n",
              "      <td>Delhi HC fines YouTube Ã¢ÂÂ¹9.5L for not remo...</td>\n",
              "      <td>The Delhi High Court (HC) has fined Google-own...</td>\n",
              "    </tr>\n",
              "  </tbody>\n",
              "</table>\n",
              "</div>"
            ],
            "text/plain": [
              "                                               headlines                                               text\n",
              "15658  Pakistan calls handshake with Trump an 'inform...  A US National Security Council spokesperson ha...\n",
              "25196  Janhvi you left me speechless: Arjun after wat...  Arjun Kapoor, after watching his half-sister J...\n",
              "31515  17 heat wave-prone states to get daily weather...  India Meteorological Department (IMD) has anno...\n",
              "50036          Amazon opens rainforest-like office in US  E-commerce giant Amazon has opened a rainfores...\n",
              "64113  PM Modi has lost his popularity in Gujarat: Ra...  MNS Chief Raj Thackeray on Thursday said that ...\n",
              "69349  Railways to run 4,000 special trains ahead of ...  The Indian Railways will run 4,000 special tra...\n",
              "98343               Politics is not for me: Aamir Khan    Actor Aamir Khan has said that politics is not...\n",
              "11994  India have played 104 T20Is so far, Dhoni miss...  Former India captain MS Dhoni, who has been dr...\n",
              "62996  Two Indo-British teams win Ã¢ÂÂ¹1.7-crore New...  Two Indo-British teams of scientists, one whic...\n",
              "26577  Delhi HC fines YouTube Ã¢ÂÂ¹9.5L for not remo...  The Delhi High Court (HC) has fined Google-own..."
            ]
          },
          "metadata": {
            "tags": []
          },
          "execution_count": 6
        }
      ]
    },
    {
      "cell_type": "markdown",
      "metadata": {
        "id": "lightweight-contest"
      },
      "source": [
        "이 데이터는 기사의 본문에 해당되는 text와 headlines 두 가지 열로 구성되어져 있습니다.\n",
        "\n",
        "추상적 요약을 하는 경우에는 text를 본문, headlines를 이미 요약된 데이터로 삼아서 모델을 학습할 수 있어요. 추출적 요약을 하는 경우에는 오직 text열만을 사용하세요.\n",
        "\n",
        "Step 2. 데이터 전처리하기 (추상적 요약)\n",
        "실습에서 사용된 전처리를 참고하여 각자 필요하다고 생각하는 전처리를 추가 사용하여 텍스트를 정규화 또는 정제해 보세요. 만약, 불용어 제거를 선택한다면 상대적으로 길이가 짧은 요약 데이터에 대해서도 불용어를 제거하는 것이 좋을지 고민해보세요.\n",
        "\n",
        "Step 3. 어텐션 메커니즘 사용하기 (추상적 요약)\n",
        "일반적인 seq2seq보다는 어텐션 메커니즘을 사용한 seq2seq를 사용하는 것이 더 나은 성능을 얻을 수 있어요. 실습 내용을 참고하여 어텐션 메커니즘을 사용한 seq2seq를 설계해 보세요.\n",
        "\n",
        "Step 4. 실제 결과와 요약문 비교하기 (추상적 요약)\n",
        "원래의 요약문(headlines 열)과 학습을 통해 얻은 추상적 요약의 결과를 비교해보세요.\n",
        "\n",
        "Step 5. Summa을 이용해서 추출적 요약해보기\n",
        "추상적 요약은 추출적 요약과는 달리 문장의 표현력을 다양하게 가져갈 수 있지만, 추출적 요약에 비해서 난이도가 높아요. 반대로 말하면 추출적 요약은 추상적 요약에 비해 난이도가 낮고 기존 문장에서 문장을 꺼내오는 것이므로 잘못된 요약이 나올 가능성이 낮아요.\n",
        "\n",
        "Summa의 summarize를 사용하여 추출적 요약을 해보세요."
      ],
      "id": "lightweight-contest"
    },
    {
      "cell_type": "code",
      "metadata": {
        "colab": {
          "base_uri": "https://localhost:8080/"
        },
        "id": "signed-thumb",
        "outputId": "2f689c59-8330-4e6b-dcaa-c8dd7f527b6d"
      },
      "source": [
        "# text가 중복이면 중복이므로\n",
        "data.drop_duplicates(subset = ['text'], inplace = True)\n",
        "print('전체 샘플수 = ', (len(data)))"
      ],
      "id": "signed-thumb",
      "execution_count": 7,
      "outputs": [
        {
          "output_type": "stream",
          "text": [
            "전체 샘플수 =  98360\n"
          ],
          "name": "stdout"
        }
      ]
    },
    {
      "cell_type": "code",
      "metadata": {
        "colab": {
          "base_uri": "https://localhost:8080/"
        },
        "id": "essential-lesbian",
        "outputId": "c4a0011a-c61a-4e21-a4d9-df81eb20f664"
      },
      "source": [
        "print(data.isnull().sum())"
      ],
      "id": "essential-lesbian",
      "execution_count": 8,
      "outputs": [
        {
          "output_type": "stream",
          "text": [
            "headlines    0\n",
            "text         0\n",
            "dtype: int64\n"
          ],
          "name": "stdout"
        }
      ]
    },
    {
      "cell_type": "markdown",
      "metadata": {
        "id": "welsh-samba"
      },
      "source": [
        "'it'll'은 'it will'과 같고, 'mustn't과 'must not'은 사실 같은 표현이죠. 이런 경우 기계가 굳이 이들을 마치 다른 단어로 간주하게 해서 연산량을 늘리는 것보다는 기계 학습 전에 미리 같은 표현으로 통일시켜주는 것이 기계의 연산량을 줄일 수 있는 방법이에요.\n",
        "\n",
        "이러한 방법론을 텍스트 처리에서는 텍스트 정규화(text normalization) https://stackoverflow.com/questions/19790188/expanding-english-language-contractions-in-python"
      ],
      "id": "welsh-samba"
    },
    {
      "cell_type": "code",
      "metadata": {
        "colab": {
          "base_uri": "https://localhost:8080/"
        },
        "id": "cordless-multiple",
        "outputId": "9f479208-1c44-4554-90d4-33cae6615c29"
      },
      "source": [
        "contractions = {\"ain't\": \"is not\", \"aren't\": \"are not\",\"can't\": \"cannot\", \"'cause\": \"because\", \"could've\": \"could have\", \"couldn't\": \"could not\",\n",
        "                           \"didn't\": \"did not\",  \"doesn't\": \"does not\", \"don't\": \"do not\", \"hadn't\": \"had not\", \"hasn't\": \"has not\", \"haven't\": \"have not\",\n",
        "                           \"he'd\": \"he would\",\"he'll\": \"he will\", \"he's\": \"he is\", \"how'd\": \"how did\", \"how'd'y\": \"how do you\", \"how'll\": \"how will\", \"how's\": \"how is\",\n",
        "                           \"I'd\": \"I would\", \"I'd've\": \"I would have\", \"I'll\": \"I will\", \"I'll've\": \"I will have\",\"I'm\": \"I am\", \"I've\": \"I have\", \"i'd\": \"i would\",\n",
        "                           \"i'd've\": \"i would have\", \"i'll\": \"i will\",  \"i'll've\": \"i will have\",\"i'm\": \"i am\", \"i've\": \"i have\", \"isn't\": \"is not\", \"it'd\": \"it would\",\n",
        "                           \"it'd've\": \"it would have\", \"it'll\": \"it will\", \"it'll've\": \"it will have\",\"it's\": \"it is\", \"let's\": \"let us\", \"ma'am\": \"madam\",\n",
        "                           \"mayn't\": \"may not\", \"might've\": \"might have\",\"mightn't\": \"might not\",\"mightn't've\": \"might not have\", \"must've\": \"must have\",\n",
        "                           \"mustn't\": \"must not\", \"mustn't've\": \"must not have\", \"needn't\": \"need not\", \"needn't've\": \"need not have\",\"o'clock\": \"of the clock\",\n",
        "                           \"oughtn't\": \"ought not\", \"oughtn't've\": \"ought not have\", \"shan't\": \"shall not\", \"sha'n't\": \"shall not\", \"shan't've\": \"shall not have\",\n",
        "                           \"she'd\": \"she would\", \"she'd've\": \"she would have\", \"she'll\": \"she will\", \"she'll've\": \"she will have\", \"she's\": \"she is\",\n",
        "                           \"should've\": \"should have\", \"shouldn't\": \"should not\", \"shouldn't've\": \"should not have\", \"so've\": \"so have\",\"so's\": \"so as\",\n",
        "                           \"this's\": \"this is\",\"that'd\": \"that would\", \"that'd've\": \"that would have\", \"that's\": \"that is\", \"there'd\": \"there would\",\n",
        "                           \"there'd've\": \"there would have\", \"there's\": \"there is\", \"here's\": \"here is\",\"they'd\": \"they would\", \"they'd've\": \"they would have\",\n",
        "                           \"they'll\": \"they will\", \"they'll've\": \"they will have\", \"they're\": \"they are\", \"they've\": \"they have\", \"to've\": \"to have\",\n",
        "                           \"wasn't\": \"was not\", \"we'd\": \"we would\", \"we'd've\": \"we would have\", \"we'll\": \"we will\", \"we'll've\": \"we will have\", \"we're\": \"we are\",\n",
        "                           \"we've\": \"we have\", \"weren't\": \"were not\", \"what'll\": \"what will\", \"what'll've\": \"what will have\", \"what're\": \"what are\",\n",
        "                           \"what's\": \"what is\", \"what've\": \"what have\", \"when's\": \"when is\", \"when've\": \"when have\", \"where'd\": \"where did\", \"where's\": \"where is\",\n",
        "                           \"where've\": \"where have\", \"who'll\": \"who will\", \"who'll've\": \"who will have\", \"who's\": \"who is\", \"who've\": \"who have\",\n",
        "                           \"why's\": \"why is\", \"why've\": \"why have\", \"will've\": \"will have\", \"won't\": \"will not\", \"won't've\": \"will not have\",\n",
        "                           \"would've\": \"would have\", \"wouldn't\": \"would not\", \"wouldn't've\": \"would not have\", \"y'all\": \"you all\",\n",
        "                           \"y'all'd\": \"you all would\",\"y'all'd've\": \"you all would have\",\"y'all're\": \"you all are\",\"y'all've\": \"you all have\",\n",
        "                           \"you'd\": \"you would\", \"you'd've\": \"you would have\", \"you'll\": \"you will\", \"you'll've\": \"you will have\",\n",
        "                           \"you're\": \"you are\", \"you've\": \"you have\"}\n",
        "\n",
        "print(\"정규화 사전의 수: \",len(contractions))"
      ],
      "id": "cordless-multiple",
      "execution_count": 9,
      "outputs": [
        {
          "output_type": "stream",
          "text": [
            "정규화 사전의 수:  120\n"
          ],
          "name": "stdout"
        }
      ]
    },
    {
      "cell_type": "code",
      "metadata": {
        "colab": {
          "base_uri": "https://localhost:8080/"
        },
        "id": "drawn-wallace",
        "outputId": "27781f8a-c2b7-42da-9d96-80e35daaede5"
      },
      "source": [
        "print('불용어 개수 :', len(stopwords.words('english') ))\n",
        "print(stopwords.words('english'))"
      ],
      "id": "drawn-wallace",
      "execution_count": 10,
      "outputs": [
        {
          "output_type": "stream",
          "text": [
            "불용어 개수 : 179\n",
            "['i', 'me', 'my', 'myself', 'we', 'our', 'ours', 'ourselves', 'you', \"you're\", \"you've\", \"you'll\", \"you'd\", 'your', 'yours', 'yourself', 'yourselves', 'he', 'him', 'his', 'himself', 'she', \"she's\", 'her', 'hers', 'herself', 'it', \"it's\", 'its', 'itself', 'they', 'them', 'their', 'theirs', 'themselves', 'what', 'which', 'who', 'whom', 'this', 'that', \"that'll\", 'these', 'those', 'am', 'is', 'are', 'was', 'were', 'be', 'been', 'being', 'have', 'has', 'had', 'having', 'do', 'does', 'did', 'doing', 'a', 'an', 'the', 'and', 'but', 'if', 'or', 'because', 'as', 'until', 'while', 'of', 'at', 'by', 'for', 'with', 'about', 'against', 'between', 'into', 'through', 'during', 'before', 'after', 'above', 'below', 'to', 'from', 'up', 'down', 'in', 'out', 'on', 'off', 'over', 'under', 'again', 'further', 'then', 'once', 'here', 'there', 'when', 'where', 'why', 'how', 'all', 'any', 'both', 'each', 'few', 'more', 'most', 'other', 'some', 'such', 'no', 'nor', 'not', 'only', 'own', 'same', 'so', 'than', 'too', 'very', 's', 't', 'can', 'will', 'just', 'don', \"don't\", 'should', \"should've\", 'now', 'd', 'll', 'm', 'o', 're', 've', 'y', 'ain', 'aren', \"aren't\", 'couldn', \"couldn't\", 'didn', \"didn't\", 'doesn', \"doesn't\", 'hadn', \"hadn't\", 'hasn', \"hasn't\", 'haven', \"haven't\", 'isn', \"isn't\", 'ma', 'mightn', \"mightn't\", 'mustn', \"mustn't\", 'needn', \"needn't\", 'shan', \"shan't\", 'shouldn', \"shouldn't\", 'wasn', \"wasn't\", 'weren', \"weren't\", 'won', \"won't\", 'wouldn', \"wouldn't\"]\n"
          ],
          "name": "stdout"
        }
      ]
    },
    {
      "cell_type": "code",
      "metadata": {
        "id": "flush-silence"
      },
      "source": [
        "#데이터 전처리 함수\n",
        "def preprocess_sentence(sentence, remove_stopwords=True):\n",
        "    sentence = sentence.lower() # 텍스트 소문자화\n",
        "    sentence = BeautifulSoup(sentence, \"lxml\").text # <br />, <a href = ...> 등의 html 태그 제거\n",
        "    sentence = re.sub(r'\\([^)]*\\)', '', sentence) # 괄호로 닫힌 문자열 (...) 제거 Ex) my husband (and myself!) for => my husband for\n",
        "    sentence = re.sub('\"','', sentence) # 쌍따옴표 \" 제거\n",
        "    sentence = ' '.join([contractions[t] if t in contractions else t for t in sentence.split(\" \")]) # 약어 정규화\n",
        "    sentence = re.sub(r\"'s\\b\",\"\",sentence) # 소유격 제거. Ex) roland's -> roland\n",
        "    sentence = re.sub(\"[^a-zA-Z]\", \" \", sentence) # 영어 외 문자(숫자, 특수문자 등) 공백으로 변환\n",
        "    sentence = re.sub('[m]{2,}', 'mm', sentence) # m이 3개 이상이면 2개로 변경. Ex) ummmmmmm yeah -> umm yeah\n",
        "    \n",
        "    # 불용어 제거 (Text)\n",
        "    if remove_stopwords:\n",
        "        tokens = ' '.join(word for word in sentence.split() if not word in stopwords.words('english') if len(word) > 1)\n",
        "    # 불용어 미제거 (Summary)\n",
        "    else:\n",
        "        tokens = ' '.join(word for word in sentence.split() if len(word) > 1)\n",
        "    return tokens"
      ],
      "id": "flush-silence",
      "execution_count": 11,
      "outputs": []
    },
    {
      "cell_type": "code",
      "metadata": {
        "colab": {
          "base_uri": "https://localhost:8080/"
        },
        "id": "convinced-sponsorship",
        "outputId": "52644dcf-7a85-440a-a883-2dbb47cb1bee"
      },
      "source": [
        "clean_text = []\n",
        "\n",
        "# 전체 Text 데이터에 대한 전처리 : 10분 이상 시간이 걸릴 수 있습니다. \n",
        "for s in data['text']:\n",
        "    clean_text.append(preprocess_sentence(s))\n",
        "\n",
        "# 전처리 후 출력\n",
        "clean_text[:5]"
      ],
      "id": "convinced-sponsorship",
      "execution_count": 12,
      "outputs": [
        {
          "output_type": "execute_result",
          "data": {
            "text/plain": [
              "['saurav kant alumnus upgrad iiit pg program machine learning artificial intelligence sr systems engineer infosys almost years work experience program upgrad degree career support helped transition data scientist tech mahindra salary hike upgrad online power learning powered lakh careers',\n",
              " 'kunal shah credit card bill payment platform cred gave users chance win free food swiggy one year pranav kaushik delhi techie bagged reward spending cred coins users get one cred coin per rupee bill paid used avail rewards brands like ixigo bookmyshow ubereats cult fit',\n",
              " 'new zealand defeated india wickets fourth odi hamilton thursday win first match five match odi series india lost international match rohit sharma captaincy consecutive victories dating back march match witnessed india getting seventh lowest total odi cricket history',\n",
              " 'aegon life iterm insurance plan customers enjoy tax benefits premiums paid save taxes plan provides life cover age years also customers options insure critical illnesses disability accidental death benefit rider life cover age years',\n",
              " 'speaking sexual harassment allegations rajkumar hirani sonam kapoor said known hirani many years true metoo movement get derailed metoo movement always believe woman case need reserve judgment added hirani accused assistant worked sanju']"
            ]
          },
          "metadata": {
            "tags": []
          },
          "execution_count": 12
        }
      ]
    },
    {
      "cell_type": "code",
      "metadata": {
        "colab": {
          "base_uri": "https://localhost:8080/"
        },
        "id": "unauthorized-wrist",
        "outputId": "6b609acc-8974-45d0-c5bd-282b5a6e1762"
      },
      "source": [
        "clean_summary = []\n",
        "\n",
        "# 전체 Summary 데이터에 대한 전처리 : 5분 이상 시간이 걸릴 수 있습니다. \n",
        "for s in data['headlines']:\n",
        "    clean_summary.append(preprocess_sentence(s, False))\n",
        "\n",
        "clean_summary[:5]"
      ],
      "id": "unauthorized-wrist",
      "execution_count": 13,
      "outputs": [
        {
          "output_type": "execute_result",
          "data": {
            "text/plain": [
              "['upgrad learner switches to career in ml al with salary hike',\n",
              " 'delhi techie wins free food from swiggy for one year on cred',\n",
              " 'new zealand end rohit sharma led india match winning streak',\n",
              " 'aegon life iterm insurance plan helps customers save tax',\n",
              " 'have known hirani for yrs what if metoo claims are not true sonam']"
            ]
          },
          "metadata": {
            "tags": []
          },
          "execution_count": 13
        }
      ]
    },
    {
      "cell_type": "code",
      "metadata": {
        "id": "operating-edition"
      },
      "source": [
        "data['text'] = clean_text\n",
        "data['headlines'] = clean_summary\n",
        "\n",
        "# 빈 값을 Null 값으로 변환\n",
        "data.replace('', np.nan, inplace=True)"
      ],
      "id": "operating-edition",
      "execution_count": 14,
      "outputs": []
    },
    {
      "cell_type": "code",
      "metadata": {
        "colab": {
          "base_uri": "https://localhost:8080/"
        },
        "id": "decimal-gazette",
        "outputId": "beb9f88b-5bfa-436f-9f81-5cf9e13f1852"
      },
      "source": [
        "data.isnull().sum()"
      ],
      "id": "decimal-gazette",
      "execution_count": 15,
      "outputs": [
        {
          "output_type": "execute_result",
          "data": {
            "text/plain": [
              "headlines    0\n",
              "text         0\n",
              "dtype: int64"
            ]
          },
          "metadata": {
            "tags": []
          },
          "execution_count": 15
        }
      ]
    },
    {
      "cell_type": "code",
      "metadata": {
        "colab": {
          "base_uri": "https://localhost:8080/"
        },
        "id": "verified-harvest",
        "outputId": "df0dd77d-33bb-4af7-aac7-05e34f44f82f"
      },
      "source": [
        "data.dropna(axis=0, inplace=True)\n",
        "print('전체 샘플수 :',(len(data)))#데이터 전처리 함수"
      ],
      "id": "verified-harvest",
      "execution_count": 16,
      "outputs": [
        {
          "output_type": "stream",
          "text": [
            "전체 샘플수 : 98360\n"
          ],
          "name": "stdout"
        }
      ]
    },
    {
      "cell_type": "code",
      "metadata": {
        "colab": {
          "base_uri": "https://localhost:8080/",
          "height": 962
        },
        "id": "united-sunday",
        "outputId": "3b9cb8e3-fbf5-4250-9e33-a310960ad54b"
      },
      "source": [
        "# 길이 분포 출력\n",
        "import matplotlib.pyplot as plt\n",
        "\n",
        "text_len = [len(s.split()) for s in data['text']]\n",
        "summary_len = [len(s.split()) for s in data['headlines']]\n",
        "\n",
        "print('텍스트의 최소 길이 : {}'.format(np.min(text_len)))\n",
        "print('텍스트의 최대 길이 : {}'.format(np.max(text_len)))\n",
        "print('텍스트의 평균 길이 : {}'.format(np.mean(text_len)))\n",
        "print('요약의 최소 길이 : {}'.format(np.min(summary_len)))\n",
        "print('요약의 최대 길이 : {}'.format(np.max(summary_len)))\n",
        "print('요약의 평균 길이 : {}'.format(np.mean(summary_len)))\n",
        "\n",
        "plt.subplot(1,2,1)\n",
        "plt.boxplot(summary_len)\n",
        "plt.title('headlines')\n",
        "plt.subplot(1,2,2)\n",
        "plt.boxplot(text_len)\n",
        "plt.title('Text')\n",
        "plt.tight_layout()\n",
        "plt.show()\n",
        "\n",
        "plt.title('headlines')\n",
        "plt.hist(summary_len, bins = 40)\n",
        "plt.xlabel('length of samples')\n",
        "plt.ylabel('number of samples')\n",
        "plt.show()\n",
        "\n",
        "plt.title('Text')\n",
        "plt.hist(text_len, bins = 40)\n",
        "plt.xlabel('length of samples')\n",
        "plt.ylabel('number of samples')\n",
        "plt.show()"
      ],
      "id": "united-sunday",
      "execution_count": 17,
      "outputs": [
        {
          "output_type": "stream",
          "text": [
            "텍스트의 최소 길이 : 1\n",
            "텍스트의 최대 길이 : 60\n",
            "텍스트의 평균 길이 : 35.09968483123221\n",
            "요약의 최소 길이 : 1\n",
            "요약의 최대 길이 : 16\n",
            "요약의 평균 길이 : 9.299532330215534\n"
          ],
          "name": "stdout"
        },
        {
          "output_type": "display_data",
          "data": {
            "image/png": "[encoded data removed]",
            "text/plain": [
              "<Figure size 432x288 with 2 Axes>"
            ]
          },
          "metadata": {
            "tags": [],
            "needs_background": "light"
          }
        },
        {
          "output_type": "display_data",
          "data": {
            "image/png": "[encoded data removed]",
            "text/plain": [
              "<Figure size 432x288 with 1 Axes>"
            ]
          },
          "metadata": {
            "tags": [],
            "needs_background": "light"
          }
        },
        {
          "output_type": "display_data",
          "data": {
            "image/png": "[encoded data removed]",
            "text/plain": [
              "<Figure size 432x288 with 1 Axes>"
            ]
          },
          "metadata": {
            "tags": [],
            "needs_background": "light"
          }
        }
      ]
    },
    {
      "cell_type": "code",
      "metadata": {
        "id": "liberal-patent"
      },
      "source": [
        "# 평균에 몰려있는 경향이 있으므로 모든 데이터를 포함한 최대길이로 정한다.\n",
        "text_max_len = 60\n",
        "headlines_max_len = 16"
      ],
      "id": "liberal-patent",
      "execution_count": 18,
      "outputs": []
    },
    {
      "cell_type": "code",
      "metadata": {
        "id": "furnished-rouge"
      },
      "source": [
        "#headlines 데이터에는 시작 토큰과 종료 토큰을 추가한다.\n",
        "data['decoder_input'] = data['headlines'].apply(lambda x : 'sostoken '+ x)\n",
        "data['decoder_target'] = data['headlines'].apply(lambda x : x + ' eostoken')\n",
        "data.head()\n",
        "\n",
        "encoder_input = np.array(data['text']) # 인코더의 입력\n",
        "decoder_input = np.array(data['decoder_input']) # 디코더의 입력\n",
        "decoder_target = np.array(data['decoder_target']) # 디코더의 레이블"
      ],
      "id": "furnished-rouge",
      "execution_count": 19,
      "outputs": []
    },
    {
      "cell_type": "code",
      "metadata": {
        "colab": {
          "base_uri": "https://localhost:8080/"
        },
        "id": "finished-compilation",
        "outputId": "c2872af1-b197-4346-ac88-c5f3851b1f5d"
      },
      "source": [
        "indices = np.arange(encoder_input.shape[0])\n",
        "np.random.shuffle(indices)\n",
        "print(indices)"
      ],
      "id": "finished-compilation",
      "execution_count": 20,
      "outputs": [
        {
          "output_type": "stream",
          "text": [
            "[  844 72611 27928 ... 35188 60429 29571]\n"
          ],
          "name": "stdout"
        }
      ]
    },
    {
      "cell_type": "code",
      "metadata": {
        "id": "strong-scratch"
      },
      "source": [
        "#shuffling한 index를 적용\n",
        "encoder_input = encoder_input[indices]\n",
        "decoder_input = decoder_input[indices]\n",
        "decoder_target = decoder_target[indices]"
      ],
      "id": "strong-scratch",
      "execution_count": 21,
      "outputs": []
    },
    {
      "cell_type": "code",
      "metadata": {
        "colab": {
          "base_uri": "https://localhost:8080/"
        },
        "id": "together-system",
        "outputId": "d954a09f-71a5-4dc4-8238-2319f03b998c"
      },
      "source": [
        "n_of_val = int(len(encoder_input)*0.2)\n",
        "print('테스트 데이터의 수 :',n_of_val)"
      ],
      "id": "together-system",
      "execution_count": 22,
      "outputs": [
        {
          "output_type": "stream",
          "text": [
            "테스트 데이터의 수 : 19672\n"
          ],
          "name": "stdout"
        }
      ]
    },
    {
      "cell_type": "code",
      "metadata": {
        "colab": {
          "base_uri": "https://localhost:8080/"
        },
        "id": "polish-screen",
        "outputId": "b357e305-4726-4a73-f483-367a733530a9"
      },
      "source": [
        "encoder_input_train = encoder_input[:-n_of_val]\n",
        "decoder_input_train = decoder_input[:-n_of_val]\n",
        "decoder_target_train = decoder_target[:-n_of_val]\n",
        "\n",
        "encoder_input_test = encoder_input[-n_of_val:]\n",
        "decoder_input_test = decoder_input[-n_of_val:]\n",
        "decoder_target_test = decoder_target[-n_of_val:]\n",
        "\n",
        "print('훈련 데이터의 개수 :', len(encoder_input_train))\n",
        "print('훈련 레이블의 개수 :',len(decoder_input_train))\n",
        "print('테스트 데이터의 개수 :',len(encoder_input_test))\n",
        "print('테스트 레이블의 개수 :',len(decoder_input_test))"
      ],
      "id": "polish-screen",
      "execution_count": 23,
      "outputs": [
        {
          "output_type": "stream",
          "text": [
            "훈련 데이터의 개수 : 78688\n",
            "훈련 레이블의 개수 : 78688\n",
            "테스트 데이터의 개수 : 19672\n",
            "테스트 레이블의 개수 : 19672\n"
          ],
          "name": "stdout"
        }
      ]
    },
    {
      "cell_type": "code",
      "metadata": {
        "id": "imposed-purpose"
      },
      "source": [
        "src_tokenizer = Tokenizer() # 토크나이저 정의\n",
        "src_tokenizer.fit_on_texts(encoder_input_train) # 입력된 데이터로부터 단어 집합 생성"
      ],
      "id": "imposed-purpose",
      "execution_count": 24,
      "outputs": []
    },
    {
      "cell_type": "code",
      "metadata": {
        "colab": {
          "base_uri": "https://localhost:8080/"
        },
        "id": "automated-registration",
        "outputId": "25336a75-b469-4078-a761-9f2e362caf86"
      },
      "source": [
        "threshold = 7\n",
        "total_cnt = len(src_tokenizer.word_index) # 단어의 수\n",
        "rare_cnt = 0 # 등장 빈도수가 threshold보다 작은 단어의 개수를 카운트\n",
        "total_freq = 0 # 훈련 데이터의 전체 단어 빈도수 총 합\n",
        "rare_freq = 0 # 등장 빈도수가 threshold보다 작은 단어의 등장 빈도수의 총 합\n",
        "\n",
        "# 단어와 빈도수의 쌍(pair)을 key와 value로 받는다.\n",
        "for key, value in src_tokenizer.word_counts.items():\n",
        "    total_freq = total_freq + value\n",
        "\n",
        "    # 단어의 등장 빈도수가 threshold보다 작으면\n",
        "    if(value < threshold):\n",
        "        rare_cnt = rare_cnt + 1\n",
        "        rare_freq = rare_freq + value\n",
        "\n",
        "print('단어 집합(vocabulary)의 크기 :',total_cnt)\n",
        "print('등장 빈도가 %s번 이하인 희귀 단어의 수: %s'%(threshold - 1, rare_cnt))\n",
        "print('단어 집합에서 희귀 단어를 제외시킬 경우의 단어 집합의 크기 %s'%(total_cnt - rare_cnt))\n",
        "print(\"단어 집합에서 희귀 단어의 비율:\", (rare_cnt / total_cnt)*100)\n",
        "print(\"전체 등장 빈도에서 희귀 단어 등장 빈도 비율:\", (rare_freq / total_freq)*100)"
      ],
      "id": "automated-registration",
      "execution_count": 25,
      "outputs": [
        {
          "output_type": "stream",
          "text": [
            "단어 집합(vocabulary)의 크기 : 69552\n",
            "등장 빈도가 6번 이하인 희귀 단어의 수: 47340\n",
            "단어 집합에서 희귀 단어를 제외시킬 경우의 단어 집합의 크기 22212\n",
            "단어 집합에서 희귀 단어의 비율: 68.06418219461698\n",
            "전체 등장 빈도에서 희귀 단어 등장 빈도 비율: 3.4759771637604855\n"
          ],
          "name": "stdout"
        }
      ]
    },
    {
      "cell_type": "code",
      "metadata": {
        "id": "enormous-fight"
      },
      "source": [
        "# 튜토리얼과 마찬가지로 희귀단어의 threshold값을 7로 주어도 3.4% 정도만 등장한다. 그대로 사용해도 될듯하다.\n",
        "src_vocab = 22000\n",
        "src_tokenizer = Tokenizer(num_words = src_vocab) # 단어 집합의 크기를 22,000으로 제한\n",
        "src_tokenizer.fit_on_texts(encoder_input_train) # 단어 집합 재생성."
      ],
      "id": "enormous-fight",
      "execution_count": 26,
      "outputs": []
    },
    {
      "cell_type": "code",
      "metadata": {
        "colab": {
          "base_uri": "https://localhost:8080/"
        },
        "id": "passive-subject",
        "outputId": "46f31746-01af-4354-e7a6-97c69a3bca9d"
      },
      "source": [
        "# 텍스트 시퀀스를 정수 시퀀스로 변환\n",
        "encoder_input_train = src_tokenizer.texts_to_sequences(encoder_input_train) \n",
        "encoder_input_test = src_tokenizer.texts_to_sequences(encoder_input_test)\n",
        "\n",
        "#잘 진행되었는지 샘플 출력\n",
        "print(encoder_input_train[:3])"
      ],
      "id": "passive-subject",
      "execution_count": 27,
      "outputs": [
        {
          "output_type": "stream",
          "text": [
            "[[67, 126, 760, 1859, 67, 27, 1293, 12225, 141, 119, 2175, 43, 2064, 2326, 27, 9, 377, 1563, 530, 126, 1933, 1859, 462, 783, 1848, 2097, 365, 2791, 2097, 6, 2149, 149, 711, 2120, 984, 1124, 4069], [6804, 314, 800, 814, 888, 11854, 800, 6552, 1007, 2779, 3152, 482, 227, 206, 141, 286, 850, 2554, 464, 5622, 4470, 9, 85, 1, 3393, 1202, 399, 3, 8703, 361, 2883], [16677, 588, 7441, 16678, 45, 344, 642, 362, 3117, 2396, 107, 16678, 65, 138, 3978, 1798, 1021, 33, 135, 68, 784, 1131, 3697, 138, 2884, 468, 16678, 1, 1199, 1749, 1124]]\n"
          ],
          "name": "stdout"
        }
      ]
    },
    {
      "cell_type": "code",
      "metadata": {
        "colab": {
          "base_uri": "https://localhost:8080/"
        },
        "id": "serial-galaxy",
        "outputId": "ae44a4d9-4184-4fef-bae7-194e4984b838"
      },
      "source": [
        "tar_tokenizer = Tokenizer()\n",
        "tar_tokenizer.fit_on_texts(decoder_input_train)\n",
        "threshold = 6\n",
        "total_cnt = len(tar_tokenizer.word_index) # 단어의 수\n",
        "rare_cnt = 0 # 등장 빈도수가 threshold보다 작은 단어의 개수를 카운트\n",
        "total_freq = 0 # 훈련 데이터의 전체 단어 빈도수 총 합\n",
        "rare_freq = 0 # 등장 빈도수가 threshold보다 작은 단어의 등장 빈도수의 총 합\n",
        "\n",
        "# 단어와 빈도수의 쌍(pair)을 key와 value로 받는다.\n",
        "for key, value in tar_tokenizer.word_counts.items():\n",
        "    total_freq = total_freq + value\n",
        "\n",
        "    # 단어의 등장 빈도수가 threshold보다 작으면\n",
        "    if(value < threshold):\n",
        "        rare_cnt = rare_cnt + 1\n",
        "        rare_freq = rare_freq + value\n",
        "\n",
        "print('단어 집합(vocabulary)의 크기 :',total_cnt)\n",
        "print('등장 빈도가 %s번 이하인 희귀 단어의 수: %s'%(threshold - 1, rare_cnt))\n",
        "print('단어 집합에서 희귀 단어를 제외시킬 경우의 단어 집합의 크기 %s'%(total_cnt - rare_cnt))\n",
        "print(\"단어 집합에서 희귀 단어의 비율:\", (rare_cnt / total_cnt)*100)\n",
        "print(\"전체 등장 빈도에서 희귀 단어 등장 빈도 비율:\", (rare_freq / total_freq)*100)"
      ],
      "id": "serial-galaxy",
      "execution_count": 28,
      "outputs": [
        {
          "output_type": "stream",
          "text": [
            "단어 집합(vocabulary)의 크기 : 30111\n",
            "등장 빈도가 5번 이하인 희귀 단어의 수: 19697\n",
            "단어 집합에서 희귀 단어를 제외시킬 경우의 단어 집합의 크기 10414\n",
            "단어 집합에서 희귀 단어의 비율: 65.41463252631928\n",
            "전체 등장 빈도에서 희귀 단어 등장 빈도 비율: 4.634140020166142\n"
          ],
          "name": "stdout"
        }
      ]
    },
    {
      "cell_type": "code",
      "metadata": {
        "colab": {
          "base_uri": "https://localhost:8080/"
        },
        "id": "daily-ceramic",
        "outputId": "6f151e35-e06b-41a0-90f6-63ec428abc68"
      },
      "source": [
        "tar_vocab = 10000\n",
        "tar_tokenizer = Tokenizer(num_words = tar_vocab) \n",
        "tar_tokenizer.fit_on_texts(decoder_input_train)\n",
        "tar_tokenizer.fit_on_texts(decoder_target_train)\n",
        "\n",
        "# 텍스트 시퀀스를 정수 시퀀스로 변환\n",
        "decoder_input_train = tar_tokenizer.texts_to_sequences(decoder_input_train) \n",
        "decoder_target_train = tar_tokenizer.texts_to_sequences(decoder_target_train)\n",
        "decoder_input_test = tar_tokenizer.texts_to_sequences(decoder_input_test)\n",
        "decoder_target_test = tar_tokenizer.texts_to_sequences(decoder_target_test)\n",
        "\n",
        "#잘 변환되었는지 확인\n",
        "print('input')\n",
        "print('input ',decoder_input_train[:5])\n",
        "print('target')\n",
        "print('decoder ',decoder_target_train[:5])"
      ],
      "id": "daily-ceramic",
      "execution_count": 29,
      "outputs": [
        {
          "output_type": "stream",
          "text": [
            "input\n",
            "input  [[1, 314, 2398, 3, 22, 5048, 4, 27, 5, 51], [1, 3507, 461, 472, 5, 835, 5644, 6480, 4, 166, 49, 218, 66], [1, 67, 4013, 3810, 6, 243, 347], [1, 60, 24, 4286, 23, 1002, 7, 1985, 57], [1, 8, 457, 1180, 3, 91, 2733, 4014, 294]]\n",
            "target\n",
            "decoder  [[314, 2398, 3, 22, 5048, 4, 27, 5, 51, 2], [3507, 461, 472, 5, 835, 5644, 6480, 4, 166, 49, 218, 66, 2], [67, 4013, 3810, 6, 243, 347, 2], [60, 24, 4286, 23, 1002, 7, 1985, 57, 2], [8, 457, 1180, 3, 91, 2733, 4014, 294, 2]]\n"
          ],
          "name": "stdout"
        }
      ]
    },
    {
      "cell_type": "code",
      "metadata": {
        "colab": {
          "base_uri": "https://localhost:8080/"
        },
        "id": "divided-translation",
        "outputId": "3896e808-0a33-4523-e79b-4b1ed609e444"
      },
      "source": [
        "drop_train = [index for index, sentence in enumerate(decoder_input_train) if len(sentence) == 1]\n",
        "drop_test = [index for index, sentence in enumerate(decoder_input_test) if len(sentence) == 1]\n",
        "\n",
        "print('삭제할 훈련 데이터의 개수 :',len(drop_train))\n",
        "print('삭제할 테스트 데이터의 개수 :',len(drop_test))\n",
        "\n",
        "encoder_input_train = np.delete(encoder_input_train, drop_train, axis=0)\n",
        "decoder_input_train = np.delete(decoder_input_train, drop_train, axis=0)\n",
        "decoder_target_train = np.delete(decoder_target_train, drop_train, axis=0)\n",
        "\n",
        "encoder_input_test = np.delete(encoder_input_test, drop_test, axis=0)\n",
        "decoder_input_test = np.delete(decoder_input_test, drop_test, axis=0)\n",
        "decoder_target_test = np.delete(decoder_target_test, drop_test, axis=0)\n",
        "\n",
        "print('훈련 데이터의 개수 :', len(encoder_input_train))\n",
        "print('훈련 레이블의 개수 :',len(decoder_input_train))\n",
        "print('테스트 데이터의 개수 :',len(encoder_input_test))\n",
        "print('테스트 레이블의 개수 :',len(decoder_input_test))"
      ],
      "id": "divided-translation",
      "execution_count": 30,
      "outputs": [
        {
          "output_type": "stream",
          "text": [
            "삭제할 훈련 데이터의 개수 : 0\n",
            "삭제할 테스트 데이터의 개수 : 1\n",
            "훈련 데이터의 개수 : 78688\n",
            "훈련 레이블의 개수 : 78688\n",
            "테스트 데이터의 개수 : 19671\n",
            "테스트 레이블의 개수 : 19671\n"
          ],
          "name": "stdout"
        }
      ]
    },
    {
      "cell_type": "markdown",
      "metadata": {
        "id": "handy-theory"
      },
      "source": [
        "Tutorial과는 다르게 희귀단어를 제외해도 drop되는 data는 존재 하지 않음"
      ],
      "id": "handy-theory"
    },
    {
      "cell_type": "code",
      "metadata": {
        "id": "manufactured-wayne"
      },
      "source": [
        "encoder_input_train = pad_sequences(encoder_input_train, maxlen = text_max_len, padding='post')\n",
        "encoder_input_test = pad_sequences(encoder_input_test, maxlen = text_max_len, padding='post')\n",
        "decoder_input_train = pad_sequences(decoder_input_train, maxlen = headlines_max_len, padding='post')\n",
        "decoder_target_train = pad_sequences(decoder_target_train, maxlen = headlines_max_len, padding='post')\n",
        "decoder_input_test = pad_sequences(decoder_input_test, maxlen = headlines_max_len, padding='post')\n",
        "decoder_target_test = pad_sequences(decoder_target_test, maxlen = headlines_max_len, padding='post')"
      ],
      "id": "manufactured-wayne",
      "execution_count": 31,
      "outputs": []
    },
    {
      "cell_type": "code",
      "metadata": {
        "colab": {
          "base_uri": "https://localhost:8080/"
        },
        "id": "material-cabinet",
        "outputId": "4e0399a7-1256-4091-e14d-c7f266320568"
      },
      "source": [
        "from tensorflow.keras.layers import Input, LSTM, Embedding, Dense, Concatenate\n",
        "from tensorflow.keras.models import Model\n",
        "from tensorflow.keras.callbacks import EarlyStopping, ModelCheckpoint\n",
        "\n",
        "\n",
        "# 인코더 설계 시작\n",
        "embedding_dim = 128\n",
        "hidden_size = 256\n",
        "\n",
        "# 인코더\n",
        "encoder_inputs = Input(shape=(text_max_len,))\n",
        "\n",
        "# 인코더의 임베딩 층\n",
        "enc_emb = Embedding(src_vocab, embedding_dim)(encoder_inputs)\n",
        "\n",
        "# 인코더의 LSTM 1\n",
        "encoder_lstm1 = LSTM(hidden_size, return_sequences=True, return_state=True ,dropout = 0.4, recurrent_dropout = 0.4)\n",
        "encoder_output1, state_h1, state_c1 = encoder_lstm1(enc_emb)\n",
        "\n",
        "# 인코더의 LSTM 2\n",
        "encoder_lstm2 = LSTM(hidden_size, return_sequences=True, return_state=True, dropout=0.4, recurrent_dropout=0.4)\n",
        "encoder_output2, state_h2, state_c2 = encoder_lstm2(encoder_output1)\n",
        "\n",
        "# 인코더의 LSTM 3\n",
        "encoder_lstm3 = LSTM(hidden_size, return_state=True, return_sequences=True, dropout=0.4, recurrent_dropout=0.4)\n",
        "encoder_outputs, state_h, state_c= encoder_lstm3(encoder_output2)"
      ],
      "id": "material-cabinet",
      "execution_count": 32,
      "outputs": [
        {
          "output_type": "stream",
          "text": [
            "WARNING:tensorflow:Layer lstm will not use cuDNN kernel since it doesn't meet the cuDNN kernel criteria. It will use generic GPU kernel as fallback when running on GPU\n",
            "WARNING:tensorflow:Layer lstm_1 will not use cuDNN kernel since it doesn't meet the cuDNN kernel criteria. It will use generic GPU kernel as fallback when running on GPU\n",
            "WARNING:tensorflow:Layer lstm_2 will not use cuDNN kernel since it doesn't meet the cuDNN kernel criteria. It will use generic GPU kernel as fallback when running on GPU\n"
          ],
          "name": "stdout"
        }
      ]
    },
    {
      "cell_type": "code",
      "metadata": {
        "colab": {
          "base_uri": "https://localhost:8080/"
        },
        "id": "accurate-longer",
        "outputId": "026146e0-a257-42ee-e09d-6328e710e490"
      },
      "source": [
        "# 디코더 설계\n",
        "\n",
        "decoder_inputs = Input(shape=(None,))\n",
        "\n",
        "# 디코더의 임베딩 층\n",
        "dec_emb_layer = Embedding(tar_vocab, embedding_dim)\n",
        "dec_emb = dec_emb_layer(decoder_inputs)\n",
        "\n",
        "# 디코더의 LSTM\n",
        "decoder_lstm = LSTM(hidden_size, return_sequences = True, return_state = True, dropout = 0.4, recurrent_dropout=0.2)\n",
        "decoder_outputs, _, _ = decoder_lstm(dec_emb, initial_state = [state_h, state_c])\n",
        "# 디코더의 출력층\n",
        "decoder_softmax_layer = Dense(tar_vocab, activation = 'softmax')\n",
        "decoder_softmax_outputs = decoder_softmax_layer(decoder_outputs) \n",
        "\n",
        "# 모델 정의\n",
        "model = Model([encoder_inputs, decoder_inputs], decoder_softmax_outputs)\n",
        "model.summary()"
      ],
      "id": "accurate-longer",
      "execution_count": 33,
      "outputs": [
        {
          "output_type": "stream",
          "text": [
            "WARNING:tensorflow:Layer lstm_3 will not use cuDNN kernel since it doesn't meet the cuDNN kernel criteria. It will use generic GPU kernel as fallback when running on GPU\n",
            "Model: \"model\"\n",
            "__________________________________________________________________________________________________\n",
            "Layer (type)                    Output Shape         Param #     Connected to                     \n",
            "==================================================================================================\n",
            "input_1 (InputLayer)            [(None, 60)]         0                                            \n",
            "__________________________________________________________________________________________________\n",
            "embedding (Embedding)           (None, 60, 128)      2816000     input_1[0][0]                    \n",
            "__________________________________________________________________________________________________\n",
            "lstm (LSTM)                     [(None, 60, 256), (N 394240      embedding[0][0]                  \n",
            "__________________________________________________________________________________________________\n",
            "input_2 (InputLayer)            [(None, None)]       0                                            \n",
            "__________________________________________________________________________________________________\n",
            "lstm_1 (LSTM)                   [(None, 60, 256), (N 525312      lstm[0][0]                       \n",
            "__________________________________________________________________________________________________\n",
            "embedding_1 (Embedding)         (None, None, 128)    1280000     input_2[0][0]                    \n",
            "__________________________________________________________________________________________________\n",
            "lstm_2 (LSTM)                   [(None, 60, 256), (N 525312      lstm_1[0][0]                     \n",
            "__________________________________________________________________________________________________\n",
            "lstm_3 (LSTM)                   [(None, None, 256),  394240      embedding_1[0][0]                \n",
            "                                                                 lstm_2[0][1]                     \n",
            "                                                                 lstm_2[0][2]                     \n",
            "__________________________________________________________________________________________________\n",
            "dense (Dense)                   (None, None, 10000)  2570000     lstm_3[0][0]                     \n",
            "==================================================================================================\n",
            "Total params: 8,505,104\n",
            "Trainable params: 8,505,104\n",
            "Non-trainable params: 0\n",
            "__________________________________________________________________________________________________\n"
          ],
          "name": "stdout"
        }
      ]
    },
    {
      "cell_type": "code",
      "metadata": {
        "colab": {
          "base_uri": "https://localhost:8080/"
        },
        "id": "local-filing",
        "outputId": "772b7f04-d905-41f3-f451-e432443f642d"
      },
      "source": [
        "urllib.request.urlretrieve(\"https://raw.githubusercontent.com/thushv89/attention_keras/master/src/layers/attention.py\", filename=\"attention.py\")\n",
        "\n",
        "from attention import AttentionLayer\n",
        "# 어텐션 층(어텐션 함수)\n",
        "attn_layer = AttentionLayer(name='attention_layer')\n",
        "# 인코더와 디코더의 모든 time step의 hidden state를 어텐션 층에 전달하고 결과를 리턴\n",
        "attn_out, attn_states = attn_layer([encoder_outputs, decoder_outputs])\n",
        "\n",
        "# 어텐션의 결과와 디코더의 hidden state들을 연결\n",
        "decoder_concat_input = Concatenate(axis = -1, name='concat_layer')([decoder_outputs, attn_out])\n",
        "\n",
        "# 디코더의 출력층\n",
        "decoder_softmax_layer = Dense(tar_vocab, activation='softmax')\n",
        "decoder_softmax_outputs = decoder_softmax_layer(decoder_concat_input)\n",
        "\n",
        "# 모델 정의\n",
        "model = Model([encoder_inputs, decoder_inputs], decoder_softmax_outputs)\n",
        "model.summary()"
      ],
      "id": "local-filing",
      "execution_count": 34,
      "outputs": [
        {
          "output_type": "stream",
          "text": [
            "Model: \"model_1\"\n",
            "__________________________________________________________________________________________________\n",
            "Layer (type)                    Output Shape         Param #     Connected to                     \n",
            "==================================================================================================\n",
            "input_1 (InputLayer)            [(None, 60)]         0                                            \n",
            "__________________________________________________________________________________________________\n",
            "embedding (Embedding)           (None, 60, 128)      2816000     input_1[0][0]                    \n",
            "__________________________________________________________________________________________________\n",
            "lstm (LSTM)                     [(None, 60, 256), (N 394240      embedding[0][0]                  \n",
            "__________________________________________________________________________________________________\n",
            "input_2 (InputLayer)            [(None, None)]       0                                            \n",
            "__________________________________________________________________________________________________\n",
            "lstm_1 (LSTM)                   [(None, 60, 256), (N 525312      lstm[0][0]                       \n",
            "__________________________________________________________________________________________________\n",
            "embedding_1 (Embedding)         (None, None, 128)    1280000     input_2[0][0]                    \n",
            "__________________________________________________________________________________________________\n",
            "lstm_2 (LSTM)                   [(None, 60, 256), (N 525312      lstm_1[0][0]                     \n",
            "__________________________________________________________________________________________________\n",
            "lstm_3 (LSTM)                   [(None, None, 256),  394240      embedding_1[0][0]                \n",
            "                                                                 lstm_2[0][1]                     \n",
            "                                                                 lstm_2[0][2]                     \n",
            "__________________________________________________________________________________________________\n",
            "attention_layer (AttentionLayer ((None, None, 256),  131328      lstm_2[0][0]                     \n",
            "                                                                 lstm_3[0][0]                     \n",
            "__________________________________________________________________________________________________\n",
            "concat_layer (Concatenate)      (None, None, 512)    0           lstm_3[0][0]                     \n",
            "                                                                 attention_layer[0][0]            \n",
            "__________________________________________________________________________________________________\n",
            "dense_1 (Dense)                 (None, None, 10000)  5130000     concat_layer[0][0]               \n",
            "==================================================================================================\n",
            "Total params: 11,196,432\n",
            "Trainable params: 11,196,432\n",
            "Non-trainable params: 0\n",
            "__________________________________________________________________________________________________\n"
          ],
          "name": "stdout"
        }
      ]
    },
    {
      "cell_type": "code",
      "metadata": {
        "colab": {
          "base_uri": "https://localhost:8080/"
        },
        "id": "homeless-situation",
        "outputId": "d7ec965c-ff11-425b-b851-7fea6259dc8e"
      },
      "source": [
        "model.compile(optimizer='rmsprop', loss='sparse_categorical_crossentropy')\n",
        "es = EarlyStopping(monitor='val_loss', mode='min', verbose=1, patience = 2)\n",
        "history = model.fit(x = [encoder_input_train, decoder_input_train], y = decoder_target_train, \\\n",
        "          validation_data = ([encoder_input_test, decoder_input_test], decoder_target_test),\n",
        "          batch_size = 256, callbacks=[es], epochs = 50)"
      ],
      "id": "homeless-situation",
      "execution_count": 35,
      "outputs": [
        {
          "output_type": "stream",
          "text": [
            "Epoch 1/50\n",
            "308/308 [==============================] - 341s 1s/step - loss: 4.6893 - val_loss: 3.9288\n",
            "Epoch 2/50\n",
            "308/308 [==============================] - 322s 1s/step - loss: 3.8769 - val_loss: 3.6499\n",
            "Epoch 3/50\n",
            "308/308 [==============================] - 330s 1s/step - loss: 3.5866 - val_loss: 3.4270\n",
            "Epoch 4/50\n",
            "308/308 [==============================] - 328s 1s/step - loss: 3.3599 - val_loss: 3.2927\n",
            "Epoch 5/50\n",
            "308/308 [==============================] - 326s 1s/step - loss: 3.1918 - val_loss: 3.1849\n",
            "Epoch 6/50\n",
            "308/308 [==============================] - 328s 1s/step - loss: 3.0599 - val_loss: 3.0945\n",
            "Epoch 7/50\n",
            "308/308 [==============================] - 323s 1s/step - loss: 2.9455 - val_loss: 3.0327\n",
            "Epoch 8/50\n",
            "308/308 [==============================] - 324s 1s/step - loss: 2.8440 - val_loss: 2.9615\n",
            "Epoch 9/50\n",
            "308/308 [==============================] - 331s 1s/step - loss: 2.7562 - val_loss: 2.9094\n",
            "Epoch 10/50\n",
            "308/308 [==============================] - 325s 1s/step - loss: 2.6747 - val_loss: 2.8723\n",
            "Epoch 11/50\n",
            "308/308 [==============================] - 328s 1s/step - loss: 2.6038 - val_loss: 2.8355\n",
            "Epoch 12/50\n",
            "308/308 [==============================] - 339s 1s/step - loss: 2.5444 - val_loss: 2.8111\n",
            "Epoch 13/50\n",
            "308/308 [==============================] - 335s 1s/step - loss: 2.4844 - val_loss: 2.7880\n",
            "Epoch 14/50\n",
            "308/308 [==============================] - 332s 1s/step - loss: 2.4354 - val_loss: 2.7627\n",
            "Epoch 15/50\n",
            "308/308 [==============================] - 334s 1s/step - loss: 2.3931 - val_loss: 2.7483\n",
            "Epoch 16/50\n",
            "308/308 [==============================] - 334s 1s/step - loss: 2.3403 - val_loss: 2.7403\n",
            "Epoch 17/50\n",
            "308/308 [==============================] - 331s 1s/step - loss: 2.2988 - val_loss: 2.7201\n",
            "Epoch 18/50\n",
            "308/308 [==============================] - 333s 1s/step - loss: 2.2652 - val_loss: 2.7115\n",
            "Epoch 19/50\n",
            "308/308 [==============================] - 334s 1s/step - loss: 2.2305 - val_loss: 2.7015\n",
            "Epoch 20/50\n",
            "308/308 [==============================] - 332s 1s/step - loss: 2.2017 - val_loss: 2.6961\n",
            "Epoch 21/50\n",
            "308/308 [==============================] - 334s 1s/step - loss: 2.1640 - val_loss: 2.6918\n",
            "Epoch 22/50\n",
            "308/308 [==============================] - 332s 1s/step - loss: 2.1373 - val_loss: 2.6789\n",
            "Epoch 23/50\n",
            "308/308 [==============================] - 333s 1s/step - loss: 2.1074 - val_loss: 2.6731\n",
            "Epoch 24/50\n",
            "308/308 [==============================] - 328s 1s/step - loss: 2.0813 - val_loss: 2.6769\n",
            "Epoch 25/50\n",
            "308/308 [==============================] - 330s 1s/step - loss: 2.0581 - val_loss: 2.6704\n",
            "Epoch 26/50\n",
            "308/308 [==============================] - 328s 1s/step - loss: 2.0385 - val_loss: 2.6679\n",
            "Epoch 27/50\n",
            "308/308 [==============================] - 333s 1s/step - loss: 2.0119 - val_loss: 2.6638\n",
            "Epoch 28/50\n",
            "308/308 [==============================] - 336s 1s/step - loss: 1.9917 - val_loss: 2.6552\n",
            "Epoch 29/50\n",
            "308/308 [==============================] - 333s 1s/step - loss: 1.9688 - val_loss: 2.6597\n",
            "Epoch 30/50\n",
            "308/308 [==============================] - 332s 1s/step - loss: 1.9546 - val_loss: 2.6554\n",
            "Epoch 00030: early stopping\n"
          ],
          "name": "stdout"
        }
      ]
    },
    {
      "cell_type": "code",
      "metadata": {
        "colab": {
          "base_uri": "https://localhost:8080/",
          "height": 265
        },
        "id": "quantitative-spirit",
        "outputId": "bbdda07b-f31c-4aa2-df2d-b1369aaab1ac"
      },
      "source": [
        "plt.plot(history.history['loss'], label='train')\n",
        "plt.plot(history.history['val_loss'], label='test')\n",
        "plt.legend()\n",
        "plt.show()"
      ],
      "id": "quantitative-spirit",
      "execution_count": 36,
      "outputs": [
        {
          "output_type": "display_data",
          "data": {
            "image/png": "[encoded data removed]",
            "text/plain": [
              "<Figure size 432x288 with 1 Axes>"
            ]
          },
          "metadata": {
            "tags": [],
            "needs_background": "light"
          }
        }
      ]
    },
    {
      "cell_type": "code",
      "metadata": {
        "id": "Jc69BsBMoQk3"
      },
      "source": [
        "src_index_to_word = src_tokenizer.index_word # 원문 단어 집합에서 정수 -> 단어를 얻음\n",
        "tar_word_to_index = tar_tokenizer.word_index # 요약 단어 집합에서 단어 -> 정수를 얻음\n",
        "tar_index_to_word = tar_tokenizer.index_word # 요약 단어 집합에서 정수 -> 단어를 얻음\n",
        "\n",
        "\n",
        "# 인코더 설계\n",
        "encoder_model = Model(inputs=encoder_inputs, outputs=[encoder_outputs, state_h, state_c])\n",
        "\n",
        "# 이전 시점의 상태들을 저장하는 텐서\n",
        "decoder_state_input_h = Input(shape=(hidden_size,))\n",
        "decoder_state_input_c = Input(shape=(hidden_size,))\n",
        "\n",
        "dec_emb2 = dec_emb_layer(decoder_inputs)\n",
        "# 문장의 다음 단어를 예측하기 위해서 초기 상태(initial_state)를 이전 시점의 상태로 사용. 이는 뒤의 함수 decode_sequence()에 구현\n",
        "# 훈련 과정에서와 달리 LSTM의 리턴하는 은닉 상태와 셀 상태인 state_h와 state_c를 버리지 않음.\n",
        "decoder_outputs2, state_h2, state_c2 = decoder_lstm(dec_emb2, initial_state=[decoder_state_input_h, decoder_state_input_c])\n",
        "\n",
        "# 어텐션 함수\n",
        "decoder_hidden_state_input = Input(shape=(text_max_len, hidden_size))\n",
        "attn_out_inf, attn_states_inf = attn_layer([decoder_hidden_state_input, decoder_outputs2])\n",
        "decoder_inf_concat = Concatenate(axis=-1, name='concat')([decoder_outputs2, attn_out_inf])\n",
        "\n",
        "# 디코더의 출력층\n",
        "decoder_outputs2 = decoder_softmax_layer(decoder_inf_concat) \n",
        "\n",
        "# 최종 디코더 모델\n",
        "decoder_model = Model(\n",
        "    [decoder_inputs] + [decoder_hidden_state_input,decoder_state_input_h, decoder_state_input_c],\n",
        "    [decoder_outputs2] + [state_h2, state_c2])\n",
        "\n",
        "def decode_sequence(input_seq):\n",
        "    # 입력으로부터 인코더의 상태를 얻음\n",
        "    e_out, e_h, e_c = encoder_model.predict(input_seq)\n",
        "\n",
        "     # <SOS>에 해당하는 토큰 생성\n",
        "    target_seq = np.zeros((1,1))\n",
        "    target_seq[0, 0] = tar_word_to_index['sostoken']\n",
        "\n",
        "    stop_condition = False\n",
        "    decoded_sentence = ''\n",
        "    while not stop_condition: # stop_condition이 True가 될 때까지 루프 반복\n",
        "\n",
        "        output_tokens, h, c = decoder_model.predict([target_seq] + [e_out, e_h, e_c])\n",
        "        sampled_token_index = np.argmax(output_tokens[0, -1, :])\n",
        "        sampled_token = tar_index_to_word[sampled_token_index]\n",
        "\n",
        "        if(sampled_token!='eostoken'):\n",
        "            decoded_sentence += ' '+sampled_token\n",
        "\n",
        "        #  <eos>에 도달하거나 최대 길이를 넘으면 중단.\n",
        "        if (sampled_token == 'eostoken'  or len(decoded_sentence.split()) >= (headlines_max_len-1)):\n",
        "            stop_condition = True\n",
        "\n",
        "        # 길이가 1인 타겟 시퀀스를 업데이트\n",
        "        target_seq = np.zeros((1,1))\n",
        "        target_seq[0, 0] = sampled_token_index\n",
        "\n",
        "        # 상태를 업데이트 합니다.\n",
        "        e_h, e_c = h, c\n",
        "\n",
        "    return decoded_sentence"
      ],
      "id": "Jc69BsBMoQk3",
      "execution_count": 40,
      "outputs": []
    },
    {
      "cell_type": "code",
      "metadata": {
        "colab": {
          "base_uri": "https://localhost:8080/"
        },
        "id": "JEwEdD0-qVZQ",
        "outputId": "0cffebdf-34b9-483d-c398-9cd5712363cf"
      },
      "source": [
        "# 원문의 정수 시퀀스를 텍스트 시퀀스로 변환\n",
        "def seq2text(input_seq):\n",
        "    temp=''\n",
        "    for i in input_seq:\n",
        "        if(i!=0):\n",
        "            temp = temp + src_index_to_word[i]+' '\n",
        "    return temp\n",
        "\n",
        "# 요약문의 정수 시퀀스를 텍스트 시퀀스로 변환\n",
        "def seq2summary(input_seq):\n",
        "    temp=''\n",
        "    for i in input_seq:\n",
        "        if((i!=0 and i!=tar_word_to_index['sostoken']) and i!=tar_word_to_index['eostoken']):\n",
        "            temp = temp + tar_index_to_word[i] + ' '\n",
        "    return temp\n",
        "\n",
        "for i in range(50, 100):\n",
        "    print(\"원문 :\", seq2text(encoder_input_test[i]))\n",
        "    print(\"실제 요약 :\", seq2summary(decoder_input_test[i]))\n",
        "    print(\"예측 요약 :\", decode_sequence(encoder_input_test[i].reshape(1, text_max_len)))\n",
        "    print(\"\\n\")\n",
        "    "
      ],
      "id": "JEwEdD0-qVZQ",
      "execution_count": 41,
      "outputs": [
        {
          "output_type": "stream",
          "text": [
            "원문 : england registered highest successful chase champions trophy history chasing bangladesh opening match edition thursday previously highest target successfully chased tournament sri lanka england joe root became fastest score ten odi centuries england batsman thursday \n",
            "실제 요약 : england record highest successful chase in champions trophy \n",
            "예측 요약 :  england beat england to win their highest ever ever odi\n",
            "\n",
            "\n",
            "원문 : bjp mp kirron kher speaking congress president rahul gandhi speech confidence motion debate friday said think next step bollywood send ashamed cannot target ministers without proof drama house hugging modi ji added \n",
            "실제 요약 : rahul next step wood have to send him there bjp mp \n",
            "예측 요약 :  rahul gandhi is like to be rahul gandhi\n",
            "\n",
            "\n",
            "원문 : chinese commerce giant alibaba thursday posted year year increase net profit billion quarter ended september company reported increase revenue billion alibaba said revenue growth quarter fuelled large part technological innovations \n",
            "실제 요약 : alibaba profit rises by to billion in \n",
            "예측 요약 :  alibaba posts rise in profit at crore in sept quarter\n",
            "\n",
            "\n",
            "원문 : speaking cases violence kashmir indian army chief general bipin rawat said pakistan wants type trouble continue adding pakistan decided bleed india thousand cuts said pakistan trying kashmiri youth giving hope freedom want peace return kashmir added \n",
            "실제 요약 : pak has decided to india with cuts army chief \n",
            "예측 요약 :  pak must play if pak army chief\n",
            "\n",
            "\n",
            "원문 : motorcycle borne gunmen tuesday assassinated mayor town philippines province second killing official two days ferdinand leaving government office gunmen approached sport utility vehicle shot dead monday city mayor antonio shot dead sniper \n",
            "실제 요약 : second philippine mayor shot dead in two days \n",
            "예측 요약 :  thousands of spanish town in brazil\n",
            "\n",
            "\n",
            "원문 : pakistan put ban tehreek azadi jammu kashmir new terror outfit mumbai attack mastermind jamaat ud dawa chief hafiz saeed saeed previous terror lashkar taiba jud declared terrorist organisations us started running activities banner pakistan earlier put house arrest \n",
            "실제 요약 : pak bans mastermind hafiz saeed new terror front \n",
            "예측 요약 :  pakistan rejects ban on hafiz saeed\n",
            "\n",
            "\n",
            "원문 : slamming canadian prime minister justin trudeau comments us tariffs summit us president donald trump trade adviser peter said trudeau deserves special place hell also accused trudeau trump canadian pm called us tariffs insulting saying country pushed around plans apply retaliatory tariffs \n",
            "실제 요약 : trudeau deserves special place in hell trump adviser \n",
            "예측 요약 :  trump trudeau and us pm trudeau\n",
            "\n",
            "\n",
            "원문 : terming speculations future tata motors annoying ceo said hired purely professional merit appointed lead tata motors january ousted chairman cyrus mistry said fact recruited previous tata sons leadership nothing loyalty tata \n",
            "실제 요약 : speculation over my future in tata motors is ceo \n",
            "예측 요약 :  tata steel and tata motors chairman\n",
            "\n",
            "\n",
            "원문 : delhi university released first cut offs monday hindu college cut ba honours economics english cut economics honours bcom honours cut economics honours english honours \n",
            "실제 요약 : delhi university releases first cut off list \n",
            "예측 요약 :  du students to get its first students\n",
            "\n",
            "\n",
            "원문 : goa cabinet minister vijai sardesai sunday said cm manohar parrikar health far better compared stay aiims delhi projections health true parrikar much better compared seen discharge delhi added said parrikar still power still cm \n",
            "실제 요약 : wrong cm health better goa cabinet minister \n",
            "예측 요약 :  goa cm parrikar manohar parrikar manohar parrikar\n",
            "\n",
            "\n",
            "원문 : workers amazon pee bottles avoid missing targets going toilet according author went undercover amazon warehouse uk lived fear disciplined idle time losing jobs author writing book low wages britain said \n",
            "실제 요약 : amazon workers in bottles to avoid punishment for breaks \n",
            "예측 요약 :  amazon workers sue employees over faulty trade\n",
            "\n",
            "\n",
            "원문 : facing criticism saying nirbhaya mother good physique former mp former karnataka dgp ht said remark compliment rather insult adding statement totally within limit said made remark order importance providing protection women \n",
            "실제 요약 : remark on nirbhaya mother was compliment ex mp \n",
            "예측 요약 :  do not want to be called for calling canada akshaye\n",
            "\n",
            "\n",
            "원문 : philippine president rodrigo duterte last week slammed concept original sin bible called god stupid questioning god logic creation story adam eve duterte said adam ate born stupid god son ch stupid case \n",
            "실제 요약 : philippine president duterte calls god stupid \n",
            "예측 요약 :  philippine prez duterte calls for calling god\n",
            "\n",
            "\n",
            "원문 : tdp mp diwakar reddy banned airlines creating ruckus visakhapatnam airport announced resignation parliamentary position cited inability resolve several issues constituency reason behind resignation june reddy banned airlines misbehaving airport denied boarding pass reaching late \n",
            "실제 요약 : mp who was banned by airlines after airport ruckus resigns \n",
            "예측 요약 :  tdp mp tdp mp passes away at delhi airport\n",
            "\n",
            "\n",
            "원문 : prime minister office sought report health ministry people tested positive zika virus rajasthan centre dispatched expert team monitor situation assist operations rajasthan health minister jp nadda said bihar also issued advisories districts monitor people showing symptoms similar zika virus \n",
            "실제 요약 : pmo seeks report as test positive for zika in rajasthan \n",
            "예측 요약 :  govt to give people to identify india in assam\n",
            "\n",
            "\n",
            "원문 : supreme court india laid guidelines known guidelines dealing sexual harassment workplace according guidelines sexual harassment means sexually determined behaviour behaviour includes physical contact advances demand request sexual favours sexually coloured remarks showing pornography among others \n",
            "실제 요약 : what sexual harassment at indian \n",
            "예측 요약 :  sc asks media to sexual harassment in sexual harassment\n",
            "\n",
            "\n",
            "원문 : durham university suggested neighbour galaxy large cloud currently moving away could hit milky way billion years collision cause cosmic fireworks unlikely affect earth researchers said small chance initial collision could send solar system space added \n",
            "실제 요약 : nearby galaxy to collide with milky way in bn yrs study \n",
            "예측 요약 :  lost in nasa over planet system\n",
            "\n",
            "\n",
            "원문 : reacting sun stopping play first new zealand india odi napier around minutes napier mayor bill dalton said players need cricket outdoor sport bit weird wonder india go field sun eyes added \n",
            "실제 요약 : players must up mayor on break in odi \n",
            "예측 요약 :  india play cricket game of play nz nz nz official\n",
            "\n",
            "\n",
            "원문 : around lamps delhi red fort pm till pm ahead independence day first ever monument front wall two important gate delhi gate statement ministry culture stated took two months install led lights cost crore nn \n",
            "실제 요약 : red fort lit up with ahead of independence day \n",
            "예측 요약 :  delhi to get first diwali to delhi on diwali\n",
            "\n",
            "\n",
            "원문 : us president donald trump campaign team started selling bright orange halloween themed versions make america great caps user tweeted supposed trump bc able capture unique skin tone well users wrote least orange like prison attire hat headed president \n",
            "실제 요약 : twitter mocks trump caps for halloween \n",
            "예측 요약 :  trump makes beer at white house\n",
            "\n",
            "\n",
            "원문 : television actress shilpa shinde said uncomfortable touched inappropriately bigg boss co contestant akash dadlani added tried failed make akash understand issue takes joke shilpa said would hit tried touch \n",
            "실제 요약 : uncomfortable being touched by akash shilpa \n",
            "예측 요약 :  bigg boss contestant claims shilpa denies reports of bigg boss\n",
            "\n",
            "\n",
            "원문 : self styled critic kamaal khan threatened commit suicide twitter restore account within days earlier alleged account suspended aamir khan wanted suspended gave negative review secret superstar depressed cheated read krk press release \n",
            "실제 요약 : will commit suicide if twitter will not restore my account krk \n",
            "예측 요약 :  krk threatens suicide by journalist over death threats\n",
            "\n",
            "\n",
            "원문 : supreme court issued notice maharashtra cm devendra fadnavis petition seeking disqualification legislator allegedly disclosing two criminal cases pending poll affidavit notice served today supreme court notice admission details furnished chief minister office stated \n",
            "실제 요약 : sc notice to maha cm for allegedly not declaring criminal cases \n",
            "예측 요약 :  sc notice to maha cm over corruption probe\n",
            "\n",
            "\n",
            "원문 : saudi arabia foreign minister adel bin ahmed al asked canada apologise demanding release saudi women rights activists stop treating kingdom banana republic saudi arabia expelled canada ambassador halted new trade investment dealings suspended educational exchanges canada amid diplomatic spat two countries \n",
            "실제 요약 : we are not banana republic says saudi arabia \n",
            "예측 요약 :  saudi arabia allows saudi arabia to saudi arabia\n",
            "\n",
            "\n",
            "원문 : sonu sood play warrior upcoming film manikarnika queen jhansi star kangana ranaut lead role challenging play real life character know existed history certain parameters follow said sonu directed krish film release april \n",
            "실제 요약 : sonu sood to play warrior in kangana ranaut manikarnika \n",
            "예측 요약 :  sonu nigam to play villain in upcoming film\n",
            "\n",
            "\n",
            "원문 : snapchat ceo evan spiegel net worth dropped nearly million two days singer rihanna slammed platform running advertisement mocking domestic violence victims post also wiped billion snapchat parent firm snap market value shares fell advertisement mocked physical assault instance rihanna ex boyfriend chris brown \n",
            "실제 요약 : snapchat ceo net worth drops mn after rihanna post \n",
            "예측 요약 :  snapchat ceo zuckerberg telescope telescope found in\n",
            "\n",
            "\n",
            "원문 : tyres united airlines flight germany blew landed newark us following passengers stranded tarmac several hours almost went flying seat passenger said one injured incident although several flights delayed runway closed \n",
            "실제 요약 : plane tyres blow out on landing flyers stranded for hours \n",
            "예측 요약 :  flight delayed after emergency landing after engine forces crew\n",
            "\n",
            "\n",
            "원문 : brazilian football legend advised brazil year old forward gabriel jesus enough sex ahead world cup said making days concentration match days games key wc success believe jesus quite aware football represents brazil added \n",
            "실제 요약 : have enough sex brazil legend advises ahead of wc \n",
            "예측 요약 :  was not allowed to win on world record by footballer\n",
            "\n",
            "\n",
            "원문 : thiruvananthapuram corporation install sanitary napkin vending machines city two weeks extension project sanitary napkin vending machines installed schools machines set public places toilet facilities like railway station bus stations shopping complexes city key points \n",
            "실제 요약 : sanitary pad vending machines to be set up in kerala capital \n",
            "예측 요약 :  sanitary pad vending machines vending machines\n",
            "\n",
            "\n",
            "원문 : stating tibetan buddhists continue difficult situation us ambassador large international religious freedom sam said china remains troubling country religious freedom lakh tibetan buddhists china us envoy raised concerns alleged persecution uighur muslims china \n",
            "실제 요약 : china remains very nation on religious freedom us \n",
            "예측 요약 :  us to interfere in china over human rights row\n",
            "\n",
            "\n",
            "원문 : road transport minister nitin gadkari saturday said leadership tendency defeat failures adding loyalty towards organisation proved one takes responsibility defeat success many fathers failure orphan added gadkari remarks come days bjp lost assembly elections three states \n",
            "실제 요약 : leadership should own up to defeat failures also gadkari \n",
            "예측 요약 :  gadkari calls for gadkari\n",
            "\n",
            "\n",
            "원문 : capital punishment carried four instances india since yakub memon hanged till death convicted mumbai bomb blasts case afzal guru executed pakistani militant ajmal kasab hanged chatterjee sent rape murder \n",
            "실제 요약 : how many have taken place in india since \n",
            "예측 요약 :  killed in blast case filed in pakistan\n",
            "\n",
            "\n",
            "원문 : actress karishma sharma revealed eve teased visiting dharamshala friend said saw around men standing behind us literally staring ts karishma starred television serials like yeh hai films like pyaar ka punchnama added men followed scared would kidnap \n",
            "실제 요약 : men stood behind us at my actress sharma \n",
            "예측 요약 :  actress slams actress for not getting out of her house\n",
            "\n",
            "\n",
            "원문 : supreme court friday granted three months time complete translation historic documents ayodhya land dispute case earlier sunni waqf board one three parties dispute informed sc translation documents sanskrit urdu arabic english yet complete \n",
            "실제 요약 : sc grants months for translation of texts in ayodhya case \n",
            "예측 요약 :  sc to hear plea against ram mandir\n",
            "\n",
            "\n",
            "원문 : wake attacks hindi speaking migrant workers gujarat cm vijay rupani said people bihar mp rajasthan odisha contributed lot gujarat development welcome state rupani invited people watch unveiling statue unity cm yogi adityanath said accepted invitation \n",
            "실제 요약 : we welcome people from up bihar mp to gujarat cm rupani \n",
            "예측 요약 :  gujarat cm shivraj chouhan calls pm modi\n",
            "\n",
            "\n",
            "원문 : premature deaths occurred worldwide due diesel vehicles failure meet official limits real driving conditions study emissions revealed research found india china europe affected study shows even vehicles meet emission limits would still early deaths annually \n",
            "실제 요약 : faulty diesel emissions tests cause deaths year study \n",
            "예측 요약 :  wannacry malware causes system reported in us\n",
            "\n",
            "\n",
            "원문 : least two athletes bitten stray dogs running th monsoon mountain marathon sunday arun singh three kilometres finish line dogs attacked meanwhile another athlete pramod patni received several scratches attacked monkey marathon \n",
            "실제 요약 : dogs monkey attack athletes during marathon in \n",
            "예측 요약 :  dog rescued from thai cave rescued after km away\n",
            "\n",
            "\n",
            "원문 : income tax department attached square foot luxury flat mehul choksi worth crore benami law first time located mumbai flat purchased mehul choksi using shell company rohan private limited official said choksi laundered black money purchase flat official added \n",
            "실제 요약 : dept attaches first property of choksi under benami law \n",
            "예측 요약 :  dept attaches properties of crore jewellery\n",
            "\n",
            "\n",
            "원문 : world theme park food lovers opened italian city today acre theme park features nearly eateries food market housing cows pigs goats sheep world also cooking classes workshops children adults entry theme park free \n",
            "실제 요약 : food theme park world opens in italy \n",
            "예측 요약 :  world smallest park to get its own from\n",
            "\n",
            "\n",
            "원문 : congress president rahul gandhi claimed people would see made bhopal tags mobile sets congress comes power mp cm shivraj singh chouhan accused rahul making illogical statements chouhan said understand person could bring made amethi despite member parliament saying baseless things \n",
            "실제 요약 : says mp cm on rahul made in bhopal remark \n",
            "예측 요약 :  rahul gandhi is like to make congress\n",
            "\n",
            "\n",
            "원문 : mit researchers controlled molten metal using surfaces different thermal properties silicon good heat conductor drops fell whereas stuck glass researchers said finding could used prevention ice formation structures like airplane wings wind turbines added \n",
            "실제 요약 : controlled by surface heat properties \n",
            "예측 요약 :  mit mit mit designs mit researchers\n",
            "\n",
            "\n",
            "원문 : us japan wednesday conducted live fire artillery air drills japanese island hokkaido east china sea respectively exercises involved us bombers japanese fighter jets comes amid tensions us north korea latter threat strike us territory guam \n",
            "실제 요약 : us japan conduct military drills amid north korea tensions \n",
            "예측 요약 :  japan japan fire drill over japan drill\n",
            "\n",
            "\n",
            "원문 : himachal pradesh cm jai ram thakur said former india captain ms dhoni currently shimla state guest informed state assembly bearing expenses government providing security thakur said opposition think box since visit related state tourism \n",
            "실제 요약 : dhoni is state guest himachal cm on player shimla trip \n",
            "예측 요약 :  dhoni will not be given up bihar cm from bihar cm\n",
            "\n",
            "\n",
            "원문 : fortis healthcare subsidiary granted loans worth crore three firms affiliated former promoters malvinder shivinder singh despite management objections internal investigation revealed loans authorised board singh brothers lost control fortis lenders invoked pledged shares probed siphoning funds settle personal debts \n",
            "실제 요약 : fortis gave crore to promoter firms despite \n",
            "예측 요약 :  fortis brothers brothers brothers brothers in fortis\n",
            "\n",
            "\n",
            "원문 : vending machine art installed english town brighton prints delivered buyers rolled tin cost artist said sometimes art feel like bit bit vending machine kind strips away \n",
            "실제 요약 : vending machine for art comes up in uk \n",
            "예측 요약 :  there is the new zealand restaurant\n",
            "\n",
            "\n",
            "원문 : actor sooraj pancholi said percent rumours actors true sad actor personal life comes job people want know said sooraj however shared went cousin reported spotted girl \n",
            "실제 요약 : of rumours about actors are true says sooraj pancholi \n",
            "예측 요약 :  do not want to be known as pancholi chief\n",
            "\n",
            "\n",
            "원문 : intercontinental exchange owns new york stock exchange announced launching new company aims create open regulated global ecosystem digital assets partnered starbucks microsoft venture allow futures contracts bitcoin take crypto speculative investment global commerce \n",
            "실제 요약 : owner announces to regulate bitcoin \n",
            "예측 요약 :  to launch its own cryptocurrency\n",
            "\n",
            "\n",
            "원문 : united airlines flight attendant inadvertently leaked cockpit access codes information public website pilot claimed united said working corrective action air line pilots association said error fixed cockpit access codes would allow anyone access cockpit aircraft although pilots could block entrance \n",
            "실제 요약 : united airlines employee leaks cockpit access codes online \n",
            "예측 요약 :  united airlines suspended for fake news of pilots\n",
            "\n",
            "\n",
            "원문 : former delhi water minister kapil mishra stopped participating cm arvind kejriwal janta darbar friday following started protesting outside cm residence suspended aap leader called kejriwal chor claimed kejriwal guilty afraid meeting earlier said rest send kejriwal tihar \n",
            "실제 요약 : mishra barred from kejriwal calls him chor \n",
            "예측 요약 :  kejriwal to kejriwal kejriwal house in delhi\n",
            "\n",
            "\n",
            "원문 : de silva former top counter terrorism sri lankan official arrested alleged plot assassinate president maithripala sirisena arrested interrogated five days alleged plot kill sirisena several police officials former defence secretary police accused silva involved alleged assassination plot \n",
            "실제 요약 : top sri lanka policeman arrested over plot to kill president \n",
            "예측 요약 :  former sl player arrested for killing of corruption\n",
            "\n",
            "\n"
          ],
          "name": "stdout"
        }
      ]
    },
    {
      "cell_type": "code",
      "metadata": {
        "id": "iMra_5COqX2v"
      },
      "source": [
        ""
      ],
      "id": "iMra_5COqX2v",
      "execution_count": null,
      "outputs": []
    }
  ]
}