{
 "cells": [
  {
   "cell_type": "markdown",
   "id": "adopted-science",
   "metadata": {},
   "source": [
    "## 0. 환경 세팅"
   ]
  },
  {
   "cell_type": "markdown",
   "id": "basic-chart",
   "metadata": {},
   "source": [
    "### 소요시간 확인을 위한 autotime 라이브러리 "
   ]
  },
  {
   "cell_type": "code",
   "execution_count": 1,
   "id": "polish-boards",
   "metadata": {},
   "outputs": [
    {
     "name": "stdout",
     "output_type": "stream",
     "text": [
      "time: 884 µs (started: 2021-01-26 16:23:40 +09:00)\n"
     ]
    }
   ],
   "source": [
    "# 시간 측정 \n",
    "# !pip install ipython-autotime\n",
    "%load_ext autotime"
   ]
  },
  {
   "cell_type": "markdown",
   "id": "abroad-terry",
   "metadata": {},
   "source": [
    "### Random seed 설정 \n",
    "- 같은 결과를 유지하기 위해 설정해준다. 튜닝으로 개선할 수 도 있으나 기존 RNN을 사용한 사례에서 seed값을 일단 참고했다."
   ]
  },
  {
   "cell_type": "code",
   "execution_count": 2,
   "id": "imposed-compression",
   "metadata": {},
   "outputs": [
    {
     "name": "stdout",
     "output_type": "stream",
     "text": [
      "time: 1.32 s (started: 2021-01-26 16:23:40 +09:00)\n"
     ]
    }
   ],
   "source": [
    "import os, random\n",
    "import tensorflow as tf\n",
    "import numpy as np \n",
    "\n",
    "# random seed \n",
    "def set_seeds(seed):\n",
    "    os.environ['PYTHONHASHSEED'] = str(seed)\n",
    "    random.seed(seed)\n",
    "    tf.random.set_seed(seed)\n",
    "    np.random.seed(seed)\n",
    "    \n",
    "SEED = 10\n",
    "set_seeds(SEED)"
   ]
  },
  {
   "cell_type": "markdown",
   "id": "accurate-cooperation",
   "metadata": {},
   "source": [
    "### GPU 세팅\n",
    "* 아래 두가지 모두 같은 기능을 하는 것으로 알고 있습니다!"
   ]
  },
  {
   "cell_type": "code",
   "execution_count": 9,
   "id": "forced-heading",
   "metadata": {
    "scrolled": true
   },
   "outputs": [
    {
     "name": "stdout",
     "output_type": "stream",
     "text": [
      "time: 202 µs (started: 2021-01-26 16:25:04 +09:00)\n"
     ]
    }
   ],
   "source": [
    "# os.environ['TF_FORCE_GPU_ALLOW_GROWTH'] = 'true' # 노드를 진행할때도 해당 코드를 한번 실행해주고 Tensorflow를 사용해보세요!"
   ]
  },
  {
   "cell_type": "code",
   "execution_count": 4,
   "id": "brazilian-repair",
   "metadata": {},
   "outputs": [
    {
     "name": "stdout",
     "output_type": "stream",
     "text": [
      "1 Physical GPUs, 1 Logical GPUs\n",
      "time: 162 ms (started: 2021-01-26 16:23:41 +09:00)\n"
     ]
    }
   ],
   "source": [
    "gpus = tf.config.experimental.list_physical_devices('GPU')\n",
    "if gpus:\n",
    "    try:\n",
    "        # Currently, memory growth needs to be the same across GPUs\n",
    "        for gpu in gpus:\n",
    "            tf.config.experimental.set_memory_growth(gpu, True)\n",
    "        logical_gpus = tf.config.experimental.list_logical_devices('GPU')\n",
    "        print(len(gpus), \"Physical GPUs,\", len(logical_gpus), \"Logical GPUs\")\n",
    "        \n",
    "    except RuntimeError as e:\n",
    "        # Memory growth must be set before GPUs have been initialized\n",
    "        print(e)"
   ]
  },
  {
   "cell_type": "markdown",
   "id": "seeing-outdoors",
   "metadata": {},
   "source": [
    "## 1. 데이터 다듬기"
   ]
  },
  {
   "cell_type": "markdown",
   "id": "advance-exemption",
   "metadata": {},
   "source": [
    "### 데이터 디렉토리 만들기"
   ]
  },
  {
   "attachments": {
    "image.png": {
     "image/png": "[encoded data removed]"
    }
   },
   "cell_type": "markdown",
   "id": "satellite-geography",
   "metadata": {},
   "source": [
    "file:///home/aiffel-dj19/Downloads/def.png![image.png](attachment:image.png)"
   ]
  },
  {
   "cell_type": "code",
   "execution_count": 5,
   "id": "difficult-synthesis",
   "metadata": {},
   "outputs": [
    {
     "name": "stdout",
     "output_type": "stream",
     "text": [
      "project_path에 폴더가 이미 존재합니다.\n",
      "time: 956 µs (started: 2021-01-26 16:23:42 +09:00)\n"
     ]
    }
   ],
   "source": [
    "# import os # 위에서 이미 import 했습니다. \n",
    "\n",
    "project_path = os.getenv(\"HOME\")+'/aiffel/lyricist'\n",
    "\n",
    "if not os.path.isdir(project_path):\n",
    "    os.mkdir(project_path)\n",
    "\n",
    "else:\n",
    "    print(\"project_path에 폴더가 이미 존재합니다.\")"
   ]
  },
  {
   "cell_type": "code",
   "execution_count": 6,
   "id": "mechanical-airport",
   "metadata": {},
   "outputs": [
    {
     "name": "stdout",
     "output_type": "stream",
     "text": [
      "data_path에 폴더가 이미 존재합니다.\n",
      "models_path에 폴더가 이미 존재합니다.\n",
      "time: 706 µs (started: 2021-01-26 16:23:43 +09:00)\n"
     ]
    }
   ],
   "source": [
    "# 절대 경로를 줘야함. \n",
    "data_path = os.getenv(\"HOME\")+'/aiffel/lyricist/data'\n",
    "models_path = os.getenv(\"HOME\")+'/aiffel/lyricist/models'\n",
    "\n",
    "if not os.path.isdir(data_path):\n",
    "    os.mkdir(data_path)\n",
    "\n",
    "else:\n",
    "    print(\"data_path에 폴더가 이미 존재합니다.\")\n",
    "    \n",
    "if not os.path.isdir(models_path):\n",
    "    os.mkdir(models_path)    \n",
    "\n",
    "else:\n",
    "    print(\"models_path에 폴더가 이미 존재합니다.\")  "
   ]
  },
  {
   "cell_type": "code",
   "execution_count": 7,
   "id": "historic-enzyme",
   "metadata": {},
   "outputs": [
    {
     "name": "stdout",
     "output_type": "stream",
     "text": [
      "Requirement already satisfied: wget in /home/aiffel-dj19/anaconda3/envs/aiffel/lib/python3.7/site-packages (3.2)\n",
      "time: 1.03 s (started: 2021-01-26 16:23:43 +09:00)\n"
     ]
    }
   ],
   "source": [
    "!pip install wget"
   ]
  },
  {
   "cell_type": "code",
   "execution_count": 8,
   "id": "strategic-judges",
   "metadata": {},
   "outputs": [
    {
     "name": "stdout",
     "output_type": "stream",
     "text": [
      "shakespeare.txt가 이미 존재합니다.\n",
      "time: 2.39 ms (started: 2021-01-26 16:23:44 +09:00)\n"
     ]
    }
   ],
   "source": [
    "import wget\n",
    "\n",
    "url = 'https://storage.googleapis.com/download.tensorflow.org/data/shakespeare.txt'\n",
    "shakespeare_path = data_path + '/shakespeare.txt'\n",
    "\n",
    "if not os.path.isfile(shakespeare_path):\n",
    "    wget.download(url, out = shakespeare_path)\n",
    "\n",
    "else:\n",
    "    print(\"shakespeare.txt가 이미 존재합니다.\")"
   ]
  }
 ],
 "metadata": {
  "kernelspec": {
   "display_name": "aiffel",
   "language": "python",
   "name": "aiffel"
  },
  "language_info": {
   "codemirror_mode": {
    "name": "ipython",
    "version": 3
   },
   "file_extension": ".py",
   "mimetype": "text/x-python",
   "name": "python",
   "nbconvert_exporter": "python",
   "pygments_lexer": "ipython3",
   "version": "3.7.9"
  }
 },
 "nbformat": 4,
 "nbformat_minor": 5
}
